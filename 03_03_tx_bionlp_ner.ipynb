{
  "nbformat": 4,
  "nbformat_minor": 0,
  "metadata": {
    "colab": {
      "name": "03_03_tx_bionlp_ner.ipynb",
      "provenance": [],
      "collapsed_sections": [],
      "authorship_tag": "ABX9TyOUMgZQrXq+GTWx6U1eKbxl",
      "include_colab_link": true
    },
    "kernelspec": {
      "name": "python3",
      "display_name": "Python 3"
    },
    "accelerator": "GPU",
    "widgets": {
      "application/vnd.jupyter.widget-state+json": {
        "55b37c95fdc74089b5170fa8a61c2d1e": {
          "model_module": "@jupyter-widgets/controls",
          "model_name": "HBoxModel",
          "state": {
            "_view_name": "HBoxView",
            "_dom_classes": [],
            "_model_name": "HBoxModel",
            "_view_module": "@jupyter-widgets/controls",
            "_model_module_version": "1.5.0",
            "_view_count": null,
            "_view_module_version": "1.5.0",
            "box_style": "",
            "layout": "IPY_MODEL_3f6979a779a04eb383b9bac2ca5a3803",
            "_model_module": "@jupyter-widgets/controls",
            "children": [
              "IPY_MODEL_980a4a95fd6a4a07a3ffdd280bf73c0d",
              "IPY_MODEL_77bf96e408d14671be74541763de38b5"
            ]
          }
        },
        "3f6979a779a04eb383b9bac2ca5a3803": {
          "model_module": "@jupyter-widgets/base",
          "model_name": "LayoutModel",
          "state": {
            "_view_name": "LayoutView",
            "grid_template_rows": null,
            "right": null,
            "justify_content": null,
            "_view_module": "@jupyter-widgets/base",
            "overflow": null,
            "_model_module_version": "1.2.0",
            "_view_count": null,
            "flex_flow": null,
            "width": null,
            "min_width": null,
            "border": null,
            "align_items": null,
            "bottom": null,
            "_model_module": "@jupyter-widgets/base",
            "top": null,
            "grid_column": null,
            "overflow_y": null,
            "overflow_x": null,
            "grid_auto_flow": null,
            "grid_area": null,
            "grid_template_columns": null,
            "flex": null,
            "_model_name": "LayoutModel",
            "justify_items": null,
            "grid_row": null,
            "max_height": null,
            "align_content": null,
            "visibility": null,
            "align_self": null,
            "height": null,
            "min_height": null,
            "padding": null,
            "grid_auto_rows": null,
            "grid_gap": null,
            "max_width": null,
            "order": null,
            "_view_module_version": "1.2.0",
            "grid_template_areas": null,
            "object_position": null,
            "object_fit": null,
            "grid_auto_columns": null,
            "margin": null,
            "display": null,
            "left": null
          }
        },
        "980a4a95fd6a4a07a3ffdd280bf73c0d": {
          "model_module": "@jupyter-widgets/controls",
          "model_name": "FloatProgressModel",
          "state": {
            "_view_name": "ProgressView",
            "style": "IPY_MODEL_1283b87bad8040f6b92316a35567f733",
            "_dom_classes": [],
            "description": "Downloading: 100%",
            "_model_name": "FloatProgressModel",
            "bar_style": "success",
            "max": 213450,
            "_view_module": "@jupyter-widgets/controls",
            "_model_module_version": "1.5.0",
            "value": 213450,
            "_view_count": null,
            "_view_module_version": "1.5.0",
            "orientation": "horizontal",
            "min": 0,
            "description_tooltip": null,
            "_model_module": "@jupyter-widgets/controls",
            "layout": "IPY_MODEL_157443735901465cbe0fe3d79bbf17e0"
          }
        },
        "77bf96e408d14671be74541763de38b5": {
          "model_module": "@jupyter-widgets/controls",
          "model_name": "HTMLModel",
          "state": {
            "_view_name": "HTMLView",
            "style": "IPY_MODEL_39ae26ae96074b039c917d031fed7ac5",
            "_dom_classes": [],
            "description": "",
            "_model_name": "HTMLModel",
            "placeholder": "​",
            "_view_module": "@jupyter-widgets/controls",
            "_model_module_version": "1.5.0",
            "value": " 213k/213k [00:00&lt;00:00, 3.04MB/s]",
            "_view_count": null,
            "_view_module_version": "1.5.0",
            "description_tooltip": null,
            "_model_module": "@jupyter-widgets/controls",
            "layout": "IPY_MODEL_93f0c41452b04fb6bb114c277eeadcc4"
          }
        },
        "1283b87bad8040f6b92316a35567f733": {
          "model_module": "@jupyter-widgets/controls",
          "model_name": "ProgressStyleModel",
          "state": {
            "_view_name": "StyleView",
            "_model_name": "ProgressStyleModel",
            "description_width": "initial",
            "_view_module": "@jupyter-widgets/base",
            "_model_module_version": "1.5.0",
            "_view_count": null,
            "_view_module_version": "1.2.0",
            "bar_color": null,
            "_model_module": "@jupyter-widgets/controls"
          }
        },
        "157443735901465cbe0fe3d79bbf17e0": {
          "model_module": "@jupyter-widgets/base",
          "model_name": "LayoutModel",
          "state": {
            "_view_name": "LayoutView",
            "grid_template_rows": null,
            "right": null,
            "justify_content": null,
            "_view_module": "@jupyter-widgets/base",
            "overflow": null,
            "_model_module_version": "1.2.0",
            "_view_count": null,
            "flex_flow": null,
            "width": null,
            "min_width": null,
            "border": null,
            "align_items": null,
            "bottom": null,
            "_model_module": "@jupyter-widgets/base",
            "top": null,
            "grid_column": null,
            "overflow_y": null,
            "overflow_x": null,
            "grid_auto_flow": null,
            "grid_area": null,
            "grid_template_columns": null,
            "flex": null,
            "_model_name": "LayoutModel",
            "justify_items": null,
            "grid_row": null,
            "max_height": null,
            "align_content": null,
            "visibility": null,
            "align_self": null,
            "height": null,
            "min_height": null,
            "padding": null,
            "grid_auto_rows": null,
            "grid_gap": null,
            "max_width": null,
            "order": null,
            "_view_module_version": "1.2.0",
            "grid_template_areas": null,
            "object_position": null,
            "object_fit": null,
            "grid_auto_columns": null,
            "margin": null,
            "display": null,
            "left": null
          }
        },
        "39ae26ae96074b039c917d031fed7ac5": {
          "model_module": "@jupyter-widgets/controls",
          "model_name": "DescriptionStyleModel",
          "state": {
            "_view_name": "StyleView",
            "_model_name": "DescriptionStyleModel",
            "description_width": "",
            "_view_module": "@jupyter-widgets/base",
            "_model_module_version": "1.5.0",
            "_view_count": null,
            "_view_module_version": "1.2.0",
            "_model_module": "@jupyter-widgets/controls"
          }
        },
        "93f0c41452b04fb6bb114c277eeadcc4": {
          "model_module": "@jupyter-widgets/base",
          "model_name": "LayoutModel",
          "state": {
            "_view_name": "LayoutView",
            "grid_template_rows": null,
            "right": null,
            "justify_content": null,
            "_view_module": "@jupyter-widgets/base",
            "overflow": null,
            "_model_module_version": "1.2.0",
            "_view_count": null,
            "flex_flow": null,
            "width": null,
            "min_width": null,
            "border": null,
            "align_items": null,
            "bottom": null,
            "_model_module": "@jupyter-widgets/base",
            "top": null,
            "grid_column": null,
            "overflow_y": null,
            "overflow_x": null,
            "grid_auto_flow": null,
            "grid_area": null,
            "grid_template_columns": null,
            "flex": null,
            "_model_name": "LayoutModel",
            "justify_items": null,
            "grid_row": null,
            "max_height": null,
            "align_content": null,
            "visibility": null,
            "align_self": null,
            "height": null,
            "min_height": null,
            "padding": null,
            "grid_auto_rows": null,
            "grid_gap": null,
            "max_width": null,
            "order": null,
            "_view_module_version": "1.2.0",
            "grid_template_areas": null,
            "object_position": null,
            "object_fit": null,
            "grid_auto_columns": null,
            "margin": null,
            "display": null,
            "left": null
          }
        },
        "6a3d86a5ece040d08c1455ace0d3746d": {
          "model_module": "@jupyter-widgets/controls",
          "model_name": "HBoxModel",
          "state": {
            "_view_name": "HBoxView",
            "_dom_classes": [],
            "_model_name": "HBoxModel",
            "_view_module": "@jupyter-widgets/controls",
            "_model_module_version": "1.5.0",
            "_view_count": null,
            "_view_module_version": "1.5.0",
            "box_style": "",
            "layout": "IPY_MODEL_a745f1f183dc4f0ead7c8368be57eba9",
            "_model_module": "@jupyter-widgets/controls",
            "children": [
              "IPY_MODEL_a87e0c1a80dd42408a1e90fab251b9ea",
              "IPY_MODEL_40a938763cc844309c13e7ce5d296311"
            ]
          }
        },
        "a745f1f183dc4f0ead7c8368be57eba9": {
          "model_module": "@jupyter-widgets/base",
          "model_name": "LayoutModel",
          "state": {
            "_view_name": "LayoutView",
            "grid_template_rows": null,
            "right": null,
            "justify_content": null,
            "_view_module": "@jupyter-widgets/base",
            "overflow": null,
            "_model_module_version": "1.2.0",
            "_view_count": null,
            "flex_flow": null,
            "width": null,
            "min_width": null,
            "border": null,
            "align_items": null,
            "bottom": null,
            "_model_module": "@jupyter-widgets/base",
            "top": null,
            "grid_column": null,
            "overflow_y": null,
            "overflow_x": null,
            "grid_auto_flow": null,
            "grid_area": null,
            "grid_template_columns": null,
            "flex": null,
            "_model_name": "LayoutModel",
            "justify_items": null,
            "grid_row": null,
            "max_height": null,
            "align_content": null,
            "visibility": null,
            "align_self": null,
            "height": null,
            "min_height": null,
            "padding": null,
            "grid_auto_rows": null,
            "grid_gap": null,
            "max_width": null,
            "order": null,
            "_view_module_version": "1.2.0",
            "grid_template_areas": null,
            "object_position": null,
            "object_fit": null,
            "grid_auto_columns": null,
            "margin": null,
            "display": null,
            "left": null
          }
        },
        "a87e0c1a80dd42408a1e90fab251b9ea": {
          "model_module": "@jupyter-widgets/controls",
          "model_name": "FloatProgressModel",
          "state": {
            "_view_name": "ProgressView",
            "style": "IPY_MODEL_c399ec48b123452fadca04f218cd5b99",
            "_dom_classes": [],
            "description": "Downloading: 100%",
            "_model_name": "FloatProgressModel",
            "bar_style": "success",
            "max": 433,
            "_view_module": "@jupyter-widgets/controls",
            "_model_module_version": "1.5.0",
            "value": 433,
            "_view_count": null,
            "_view_module_version": "1.5.0",
            "orientation": "horizontal",
            "min": 0,
            "description_tooltip": null,
            "_model_module": "@jupyter-widgets/controls",
            "layout": "IPY_MODEL_a58e625f17ca4e0f90db38bfae01283f"
          }
        },
        "40a938763cc844309c13e7ce5d296311": {
          "model_module": "@jupyter-widgets/controls",
          "model_name": "HTMLModel",
          "state": {
            "_view_name": "HTMLView",
            "style": "IPY_MODEL_8160c09f8b9044ddba34f15e5e905e21",
            "_dom_classes": [],
            "description": "",
            "_model_name": "HTMLModel",
            "placeholder": "​",
            "_view_module": "@jupyter-widgets/controls",
            "_model_module_version": "1.5.0",
            "value": " 433/433 [00:01&lt;00:00, 431B/s]",
            "_view_count": null,
            "_view_module_version": "1.5.0",
            "description_tooltip": null,
            "_model_module": "@jupyter-widgets/controls",
            "layout": "IPY_MODEL_4b6fb541210642a08405e0f95043dee9"
          }
        },
        "c399ec48b123452fadca04f218cd5b99": {
          "model_module": "@jupyter-widgets/controls",
          "model_name": "ProgressStyleModel",
          "state": {
            "_view_name": "StyleView",
            "_model_name": "ProgressStyleModel",
            "description_width": "initial",
            "_view_module": "@jupyter-widgets/base",
            "_model_module_version": "1.5.0",
            "_view_count": null,
            "_view_module_version": "1.2.0",
            "bar_color": null,
            "_model_module": "@jupyter-widgets/controls"
          }
        },
        "a58e625f17ca4e0f90db38bfae01283f": {
          "model_module": "@jupyter-widgets/base",
          "model_name": "LayoutModel",
          "state": {
            "_view_name": "LayoutView",
            "grid_template_rows": null,
            "right": null,
            "justify_content": null,
            "_view_module": "@jupyter-widgets/base",
            "overflow": null,
            "_model_module_version": "1.2.0",
            "_view_count": null,
            "flex_flow": null,
            "width": null,
            "min_width": null,
            "border": null,
            "align_items": null,
            "bottom": null,
            "_model_module": "@jupyter-widgets/base",
            "top": null,
            "grid_column": null,
            "overflow_y": null,
            "overflow_x": null,
            "grid_auto_flow": null,
            "grid_area": null,
            "grid_template_columns": null,
            "flex": null,
            "_model_name": "LayoutModel",
            "justify_items": null,
            "grid_row": null,
            "max_height": null,
            "align_content": null,
            "visibility": null,
            "align_self": null,
            "height": null,
            "min_height": null,
            "padding": null,
            "grid_auto_rows": null,
            "grid_gap": null,
            "max_width": null,
            "order": null,
            "_view_module_version": "1.2.0",
            "grid_template_areas": null,
            "object_position": null,
            "object_fit": null,
            "grid_auto_columns": null,
            "margin": null,
            "display": null,
            "left": null
          }
        },
        "8160c09f8b9044ddba34f15e5e905e21": {
          "model_module": "@jupyter-widgets/controls",
          "model_name": "DescriptionStyleModel",
          "state": {
            "_view_name": "StyleView",
            "_model_name": "DescriptionStyleModel",
            "description_width": "",
            "_view_module": "@jupyter-widgets/base",
            "_model_module_version": "1.5.0",
            "_view_count": null,
            "_view_module_version": "1.2.0",
            "_model_module": "@jupyter-widgets/controls"
          }
        },
        "4b6fb541210642a08405e0f95043dee9": {
          "model_module": "@jupyter-widgets/base",
          "model_name": "LayoutModel",
          "state": {
            "_view_name": "LayoutView",
            "grid_template_rows": null,
            "right": null,
            "justify_content": null,
            "_view_module": "@jupyter-widgets/base",
            "overflow": null,
            "_model_module_version": "1.2.0",
            "_view_count": null,
            "flex_flow": null,
            "width": null,
            "min_width": null,
            "border": null,
            "align_items": null,
            "bottom": null,
            "_model_module": "@jupyter-widgets/base",
            "top": null,
            "grid_column": null,
            "overflow_y": null,
            "overflow_x": null,
            "grid_auto_flow": null,
            "grid_area": null,
            "grid_template_columns": null,
            "flex": null,
            "_model_name": "LayoutModel",
            "justify_items": null,
            "grid_row": null,
            "max_height": null,
            "align_content": null,
            "visibility": null,
            "align_self": null,
            "height": null,
            "min_height": null,
            "padding": null,
            "grid_auto_rows": null,
            "grid_gap": null,
            "max_width": null,
            "order": null,
            "_view_module_version": "1.2.0",
            "grid_template_areas": null,
            "object_position": null,
            "object_fit": null,
            "grid_auto_columns": null,
            "margin": null,
            "display": null,
            "left": null
          }
        },
        "a9ff13af9e62483894d140f4bc490c1c": {
          "model_module": "@jupyter-widgets/controls",
          "model_name": "HBoxModel",
          "state": {
            "_view_name": "HBoxView",
            "_dom_classes": [],
            "_model_name": "HBoxModel",
            "_view_module": "@jupyter-widgets/controls",
            "_model_module_version": "1.5.0",
            "_view_count": null,
            "_view_module_version": "1.5.0",
            "box_style": "",
            "layout": "IPY_MODEL_b43288e4e75e41f9b2b12d1362838569",
            "_model_module": "@jupyter-widgets/controls",
            "children": [
              "IPY_MODEL_310b4a1889484855b080aa11963f9e05",
              "IPY_MODEL_ee55dd1c6db0436aab84be54db9189b5"
            ]
          }
        },
        "b43288e4e75e41f9b2b12d1362838569": {
          "model_module": "@jupyter-widgets/base",
          "model_name": "LayoutModel",
          "state": {
            "_view_name": "LayoutView",
            "grid_template_rows": null,
            "right": null,
            "justify_content": null,
            "_view_module": "@jupyter-widgets/base",
            "overflow": null,
            "_model_module_version": "1.2.0",
            "_view_count": null,
            "flex_flow": null,
            "width": null,
            "min_width": null,
            "border": null,
            "align_items": null,
            "bottom": null,
            "_model_module": "@jupyter-widgets/base",
            "top": null,
            "grid_column": null,
            "overflow_y": null,
            "overflow_x": null,
            "grid_auto_flow": null,
            "grid_area": null,
            "grid_template_columns": null,
            "flex": null,
            "_model_name": "LayoutModel",
            "justify_items": null,
            "grid_row": null,
            "max_height": null,
            "align_content": null,
            "visibility": null,
            "align_self": null,
            "height": null,
            "min_height": null,
            "padding": null,
            "grid_auto_rows": null,
            "grid_gap": null,
            "max_width": null,
            "order": null,
            "_view_module_version": "1.2.0",
            "grid_template_areas": null,
            "object_position": null,
            "object_fit": null,
            "grid_auto_columns": null,
            "margin": null,
            "display": null,
            "left": null
          }
        },
        "310b4a1889484855b080aa11963f9e05": {
          "model_module": "@jupyter-widgets/controls",
          "model_name": "FloatProgressModel",
          "state": {
            "_view_name": "ProgressView",
            "style": "IPY_MODEL_58fce21846d6485d8966a00384c797dd",
            "_dom_classes": [],
            "description": "Downloading: 100%",
            "_model_name": "FloatProgressModel",
            "bar_style": "success",
            "max": 435779157,
            "_view_module": "@jupyter-widgets/controls",
            "_model_module_version": "1.5.0",
            "value": 435779157,
            "_view_count": null,
            "_view_module_version": "1.5.0",
            "orientation": "horizontal",
            "min": 0,
            "description_tooltip": null,
            "_model_module": "@jupyter-widgets/controls",
            "layout": "IPY_MODEL_adfc24622c924563a02969c880e372e0"
          }
        },
        "ee55dd1c6db0436aab84be54db9189b5": {
          "model_module": "@jupyter-widgets/controls",
          "model_name": "HTMLModel",
          "state": {
            "_view_name": "HTMLView",
            "style": "IPY_MODEL_5d4e690fb3ce4ccdbe740950746448d7",
            "_dom_classes": [],
            "description": "",
            "_model_name": "HTMLModel",
            "placeholder": "​",
            "_view_module": "@jupyter-widgets/controls",
            "_model_module_version": "1.5.0",
            "value": " 436M/436M [00:27&lt;00:00, 16.1MB/s]",
            "_view_count": null,
            "_view_module_version": "1.5.0",
            "description_tooltip": null,
            "_model_module": "@jupyter-widgets/controls",
            "layout": "IPY_MODEL_16756f26ef8a4ad181424f18da7ecaf2"
          }
        },
        "58fce21846d6485d8966a00384c797dd": {
          "model_module": "@jupyter-widgets/controls",
          "model_name": "ProgressStyleModel",
          "state": {
            "_view_name": "StyleView",
            "_model_name": "ProgressStyleModel",
            "description_width": "initial",
            "_view_module": "@jupyter-widgets/base",
            "_model_module_version": "1.5.0",
            "_view_count": null,
            "_view_module_version": "1.2.0",
            "bar_color": null,
            "_model_module": "@jupyter-widgets/controls"
          }
        },
        "adfc24622c924563a02969c880e372e0": {
          "model_module": "@jupyter-widgets/base",
          "model_name": "LayoutModel",
          "state": {
            "_view_name": "LayoutView",
            "grid_template_rows": null,
            "right": null,
            "justify_content": null,
            "_view_module": "@jupyter-widgets/base",
            "overflow": null,
            "_model_module_version": "1.2.0",
            "_view_count": null,
            "flex_flow": null,
            "width": null,
            "min_width": null,
            "border": null,
            "align_items": null,
            "bottom": null,
            "_model_module": "@jupyter-widgets/base",
            "top": null,
            "grid_column": null,
            "overflow_y": null,
            "overflow_x": null,
            "grid_auto_flow": null,
            "grid_area": null,
            "grid_template_columns": null,
            "flex": null,
            "_model_name": "LayoutModel",
            "justify_items": null,
            "grid_row": null,
            "max_height": null,
            "align_content": null,
            "visibility": null,
            "align_self": null,
            "height": null,
            "min_height": null,
            "padding": null,
            "grid_auto_rows": null,
            "grid_gap": null,
            "max_width": null,
            "order": null,
            "_view_module_version": "1.2.0",
            "grid_template_areas": null,
            "object_position": null,
            "object_fit": null,
            "grid_auto_columns": null,
            "margin": null,
            "display": null,
            "left": null
          }
        },
        "5d4e690fb3ce4ccdbe740950746448d7": {
          "model_module": "@jupyter-widgets/controls",
          "model_name": "DescriptionStyleModel",
          "state": {
            "_view_name": "StyleView",
            "_model_name": "DescriptionStyleModel",
            "description_width": "",
            "_view_module": "@jupyter-widgets/base",
            "_model_module_version": "1.5.0",
            "_view_count": null,
            "_view_module_version": "1.2.0",
            "_model_module": "@jupyter-widgets/controls"
          }
        },
        "16756f26ef8a4ad181424f18da7ecaf2": {
          "model_module": "@jupyter-widgets/base",
          "model_name": "LayoutModel",
          "state": {
            "_view_name": "LayoutView",
            "grid_template_rows": null,
            "right": null,
            "justify_content": null,
            "_view_module": "@jupyter-widgets/base",
            "overflow": null,
            "_model_module_version": "1.2.0",
            "_view_count": null,
            "flex_flow": null,
            "width": null,
            "min_width": null,
            "border": null,
            "align_items": null,
            "bottom": null,
            "_model_module": "@jupyter-widgets/base",
            "top": null,
            "grid_column": null,
            "overflow_y": null,
            "overflow_x": null,
            "grid_auto_flow": null,
            "grid_area": null,
            "grid_template_columns": null,
            "flex": null,
            "_model_name": "LayoutModel",
            "justify_items": null,
            "grid_row": null,
            "max_height": null,
            "align_content": null,
            "visibility": null,
            "align_self": null,
            "height": null,
            "min_height": null,
            "padding": null,
            "grid_auto_rows": null,
            "grid_gap": null,
            "max_width": null,
            "order": null,
            "_view_module_version": "1.2.0",
            "grid_template_areas": null,
            "object_position": null,
            "object_fit": null,
            "grid_auto_columns": null,
            "margin": null,
            "display": null,
            "left": null
          }
        }
      }
    }
  },
  "cells": [
    {
      "cell_type": "markdown",
      "metadata": {
        "id": "view-in-github",
        "colab_type": "text"
      },
      "source": [
        "<a href=\"https://colab.research.google.com/github/sujitpal/nlp-deeplearning-ai-examples/blob/master/03_03_tx_bionlp_ner.ipynb\" target=\"_parent\"><img src=\"https://colab.research.google.com/assets/colab-badge.svg\" alt=\"Open In Colab\"/></a>"
      ]
    },
    {
      "cell_type": "markdown",
      "metadata": {
        "id": "mRLFOzl0eeAh"
      },
      "source": [
        "## Named Entity Recognition for BioNLP using BERT\n",
        "\n",
        "We will train a Named Entity Recognition (NER) model using a BERT transformer with a head for token classification, using the [JNLPBA dataset](http://www.nactem.ac.uk/GENIA/current/Shared-tasks/JNLPBA/).\n",
        "\n",
        "__References__\n",
        "\n",
        "* [Lessons Learned from fine-tuning BERT for Named Entity Recognition](https://gab41.lab41.org/lessons-learned-fine-tuning-bert-for-named-entity-recognition-4022a53c0d90) by Charlene Chambliss, Jan 30 2020."
      ]
    },
    {
      "cell_type": "code",
      "metadata": {
        "colab": {
          "base_uri": "https://localhost:8080/"
        },
        "id": "kRga6J91eJRx",
        "outputId": "abc9a233-0107-441e-f4fb-2135bea96b32"
      },
      "source": [
        "!pip install transformers"
      ],
      "execution_count": 1,
      "outputs": [
        {
          "output_type": "stream",
          "text": [
            "Collecting transformers\n",
            "\u001b[?25l  Downloading https://files.pythonhosted.org/packages/50/0c/7d5950fcd80b029be0a8891727ba21e0cd27692c407c51261c3c921f6da3/transformers-4.1.1-py3-none-any.whl (1.5MB)\n",
            "\u001b[K     |████████████████████████████████| 1.5MB 13.6MB/s \n",
            "\u001b[?25hCollecting sacremoses\n",
            "\u001b[?25l  Downloading https://files.pythonhosted.org/packages/7d/34/09d19aff26edcc8eb2a01bed8e98f13a1537005d31e95233fd48216eed10/sacremoses-0.0.43.tar.gz (883kB)\n",
            "\u001b[K     |████████████████████████████████| 890kB 51.3MB/s \n",
            "\u001b[?25hCollecting tokenizers==0.9.4\n",
            "\u001b[?25l  Downloading https://files.pythonhosted.org/packages/0f/1c/e789a8b12e28be5bc1ce2156cf87cb522b379be9cadc7ad8091a4cc107c4/tokenizers-0.9.4-cp36-cp36m-manylinux2010_x86_64.whl (2.9MB)\n",
            "\u001b[K     |████████████████████████████████| 2.9MB 51.3MB/s \n",
            "\u001b[?25hRequirement already satisfied: requests in /usr/local/lib/python3.6/dist-packages (from transformers) (2.23.0)\n",
            "Requirement already satisfied: packaging in /usr/local/lib/python3.6/dist-packages (from transformers) (20.8)\n",
            "Requirement already satisfied: numpy in /usr/local/lib/python3.6/dist-packages (from transformers) (1.19.4)\n",
            "Requirement already satisfied: tqdm>=4.27 in /usr/local/lib/python3.6/dist-packages (from transformers) (4.41.1)\n",
            "Requirement already satisfied: dataclasses; python_version < \"3.7\" in /usr/local/lib/python3.6/dist-packages (from transformers) (0.8)\n",
            "Requirement already satisfied: filelock in /usr/local/lib/python3.6/dist-packages (from transformers) (3.0.12)\n",
            "Requirement already satisfied: regex!=2019.12.17 in /usr/local/lib/python3.6/dist-packages (from transformers) (2019.12.20)\n",
            "Requirement already satisfied: six in /usr/local/lib/python3.6/dist-packages (from sacremoses->transformers) (1.15.0)\n",
            "Requirement already satisfied: click in /usr/local/lib/python3.6/dist-packages (from sacremoses->transformers) (7.1.2)\n",
            "Requirement already satisfied: joblib in /usr/local/lib/python3.6/dist-packages (from sacremoses->transformers) (1.0.0)\n",
            "Requirement already satisfied: idna<3,>=2.5 in /usr/local/lib/python3.6/dist-packages (from requests->transformers) (2.10)\n",
            "Requirement already satisfied: urllib3!=1.25.0,!=1.25.1,<1.26,>=1.21.1 in /usr/local/lib/python3.6/dist-packages (from requests->transformers) (1.24.3)\n",
            "Requirement already satisfied: chardet<4,>=3.0.2 in /usr/local/lib/python3.6/dist-packages (from requests->transformers) (3.0.4)\n",
            "Requirement already satisfied: certifi>=2017.4.17 in /usr/local/lib/python3.6/dist-packages (from requests->transformers) (2020.12.5)\n",
            "Requirement already satisfied: pyparsing>=2.0.2 in /usr/local/lib/python3.6/dist-packages (from packaging->transformers) (2.4.7)\n",
            "Building wheels for collected packages: sacremoses\n",
            "  Building wheel for sacremoses (setup.py) ... \u001b[?25l\u001b[?25hdone\n",
            "  Created wheel for sacremoses: filename=sacremoses-0.0.43-cp36-none-any.whl size=893261 sha256=651b61a912b8577b7eb853bcf26ea2bd8701441708a8a9c98bf16cdf103a5b76\n",
            "  Stored in directory: /root/.cache/pip/wheels/29/3c/fd/7ce5c3f0666dab31a50123635e6fb5e19ceb42ce38d4e58f45\n",
            "Successfully built sacremoses\n",
            "Installing collected packages: sacremoses, tokenizers, transformers\n",
            "Successfully installed sacremoses-0.0.43 tokenizers-0.9.4 transformers-4.1.1\n"
          ],
          "name": "stdout"
        }
      ]
    },
    {
      "cell_type": "markdown",
      "metadata": {
        "id": "TAB-pPujQ10_"
      },
      "source": [
        "### Setup"
      ]
    },
    {
      "cell_type": "code",
      "metadata": {
        "id": "zRI-g3kgMPM0"
      },
      "source": [
        "import warnings\n",
        "warnings.filterwarnings(\"ignore\")"
      ],
      "execution_count": 2,
      "outputs": []
    },
    {
      "cell_type": "code",
      "metadata": {
        "id": "3FjU_CQTgYQ6"
      },
      "source": [
        "import itertools\n",
        "import matplotlib.pyplot as plt\n",
        "import numpy as np\n",
        "import os\n",
        "import torch\n",
        "\n",
        "from sklearn.model_selection import train_test_split\n",
        "from sklearn.metrics import confusion_matrix, classification_report\n",
        "\n",
        "from transformers import BertForTokenClassification, BertTokenizer\n",
        "from torch.utils.data import Dataset, DataLoader\n",
        "\n",
        "%matplotlib inline"
      ],
      "execution_count": 3,
      "outputs": []
    },
    {
      "cell_type": "code",
      "metadata": {
        "colab": {
          "base_uri": "https://localhost:8080/"
        },
        "id": "udeNJwghfFKr",
        "outputId": "1231b73a-aa77-4d91-9dfa-5cb7c9fe73c3"
      },
      "source": [
        "# Mount Google Drive\n",
        "from google.colab import drive # import drive from google colab\n",
        "\n",
        "ROOT = \"/content/drive\"     # default location for the drive\n",
        "print(ROOT)                 # print content of ROOT (Optional)\n",
        "\n",
        "drive.mount(ROOT)           # we mount the google drive at /content/drive"
      ],
      "execution_count": 4,
      "outputs": [
        {
          "output_type": "stream",
          "text": [
            "/content/drive\n",
            "Mounted at /content/drive\n"
          ],
          "name": "stdout"
        }
      ]
    },
    {
      "cell_type": "code",
      "metadata": {
        "id": "7_eFfVtHgdQg"
      },
      "source": [
        "DATA_DIR = os.path.join(ROOT, \"MyDrive\", \"nlp-deeplearning-ai-data\")\n",
        "TRAIN_FILE = os.path.join(DATA_DIR, \"jnlpba-train.iob\")\n",
        "TEST_FILE = os.path.join(DATA_DIR, \"jnlpba-test.iob\")"
      ],
      "execution_count": 5,
      "outputs": []
    },
    {
      "cell_type": "markdown",
      "metadata": {
        "id": "88gRFvBtQ6lP"
      },
      "source": [
        "### Read IOB file\n",
        "\n",
        "Data is provided in two files, train and test, both in IOB format. We read these files and transform them into list of lists of tokens and tags, then split them into training, validation, and test sets.\n",
        "\n",
        "Because we are using BERT transformers as our encoder, we will also use the BERT tokenizer, which does wordpiece tokenization, so we will reconstruct each list of tokens and tags into a string, i.e., a sentence and a space separated sequence of IOB tags."
      ]
    },
    {
      "cell_type": "code",
      "metadata": {
        "colab": {
          "base_uri": "https://localhost:8080/"
        },
        "id": "IRqQZd8DgwvK",
        "outputId": "0c6e9df8-0858-4cba-ea1c-5df39b6b08b4"
      },
      "source": [
        "def process_iob_file(iob_filepath):\n",
        "  nlines = 0\n",
        "  inputs, labels = [], []\n",
        "  with open(iob_filepath, \"r\") as f:\n",
        "    tokens, tags = [], []\n",
        "    for line in f:\n",
        "      if nlines % 100000 == 0:\n",
        "        print(\"{:s}: {:d} lines processed\".format(iob_filepath.split(\"/\")[-1], nlines))\n",
        "      line = line.strip()\n",
        "      if len(line) == 0:\n",
        "        inputs.append(\" \".join(tokens))\n",
        "        labels.append(\" \".join(tags))\n",
        "        tokens, tags = [], []\n",
        "        continue\n",
        "      token, tag = line.split('\\t')\n",
        "      tokens.append(token)\n",
        "      tags.append(tag)\n",
        "      nlines += 1\n",
        "\n",
        "    inputs.append(\" \".join(tokens))\n",
        "    labels.append(\" \".join(tags))\n",
        "    print(\"{:s}: {:d} lines processed, COMPLETE\\n\".format(iob_filepath.split(\"/\")[-1], nlines))\n",
        "    return inputs, labels\n",
        "\n",
        "# parse file of training IOB tags and split into training and validation\n",
        "tv_inputs, tv_labels = process_iob_file(TRAIN_FILE)\n",
        "train_inputs, val_inputs, train_labels, val_labels = train_test_split(\n",
        "    tv_inputs, tv_labels, test_size=0.1, random_state=0)\n",
        "# parse file of held-out test IOB tags\n",
        "test_inputs, test_labels = process_iob_file(TEST_FILE)\n",
        "\n",
        "len(train_inputs), len(train_labels), len(val_inputs), len(val_labels), len(test_inputs), len(test_labels)"
      ],
      "execution_count": 6,
      "outputs": [
        {
          "output_type": "stream",
          "text": [
            "jnlpba-train.iob: 0 lines processed\n",
            "jnlpba-train.iob: 100000 lines processed\n",
            "jnlpba-train.iob: 200000 lines processed\n",
            "jnlpba-train.iob: 300000 lines processed\n",
            "jnlpba-train.iob: 400000 lines processed\n",
            "jnlpba-train.iob: 492551 lines processed, COMPLETE\n",
            "\n",
            "jnlpba-test.iob: 0 lines processed\n",
            "jnlpba-test.iob: 100000 lines processed\n",
            "jnlpba-test.iob: 101039 lines processed, COMPLETE\n",
            "\n"
          ],
          "name": "stdout"
        },
        {
          "output_type": "execute_result",
          "data": {
            "text/plain": [
              "(16692, 16692, 1855, 1855, 3857, 3857)"
            ]
          },
          "metadata": {
            "tags": []
          },
          "execution_count": 6
        }
      ]
    },
    {
      "cell_type": "markdown",
      "metadata": {
        "id": "xZl4zsiqRi9Q"
      },
      "source": [
        "Colab complained about being out of memory, which prompted this analysis. Essentially, there are some very long sentences. Since we are using Pytorch, which allows batch oriented padding, some of our input sequences get very long, so we drop sentences whose length (in number of tokens) are greater than 40. This allows us to keep 90% of our dataset.\n",
        "\n",
        "Rather than doing it up-front, we just drop the long sentences from each data split."
      ]
    },
    {
      "cell_type": "code",
      "metadata": {
        "colab": {
          "base_uri": "https://localhost:8080/",
          "height": 296
        },
        "id": "XkWXzP9lSszO",
        "outputId": "22cc5f32-66e2-4e1c-9f26-4e06535abcaa"
      },
      "source": [
        "sentence_lengths = [len(input.split()) for input in tv_inputs]\n",
        "\n",
        "pct_points = [80, 90, 95, 99, 100]\n",
        "pcts = np.percentile(sentence_lengths, pct_points)\n",
        "print(\"percentile with sentence length cutoffs:\", \n",
        "      [\"({:d}%, {:.0f})\".format(pp, pct) for pp, pct in zip(pct_points, pcts)])\n",
        "\n",
        "plt.hist(sentence_lengths)\n",
        "plt.xlabel(\"sentence lengths\")\n",
        "plt.ylabel(\"frequency\")\n",
        "_ = plt.show()"
      ],
      "execution_count": 7,
      "outputs": [
        {
          "output_type": "stream",
          "text": [
            "percentile with sentence length cutoffs: ['(80%, 35)', '(90%, 41)', '(95%, 47)', '(99%, 63)', '(100%, 204)']\n"
          ],
          "name": "stdout"
        },
        {
          "output_type": "display_data",
          "data": {
            "image/png": "[encoded data removed]",
            "text/plain": [
              "<Figure size 432x288 with 1 Axes>"
            ]
          },
          "metadata": {
            "tags": [],
            "needs_background": "light"
          }
        }
      ]
    },
    {
      "cell_type": "code",
      "metadata": {
        "colab": {
          "base_uri": "https://localhost:8080/"
        },
        "id": "DlfPEqKLUZtd",
        "outputId": "59496393-1bab-40a7-cac5-3bca2463cee8"
      },
      "source": [
        "def discard_long_sentences(inputs, labels, max_tokens=40):\n",
        "  xys = [(x, y) for x, y in zip(inputs, labels) if len(x.split()) < max_tokens]\n",
        "  xs, ys = [], []\n",
        "  for x, y in xys:\n",
        "    xs.append(x)\n",
        "    ys.append(y)\n",
        "  return xs, ys\n",
        "\n",
        "\n",
        "train_inputs, train_labels = discard_long_sentences(train_inputs, train_labels, 40)\n",
        "val_inputs, val_labels = discard_long_sentences(val_inputs, val_labels, 40)\n",
        "test_inputs, test_labels = discard_long_sentences(test_inputs, test_labels, 40)\n",
        "\n",
        "len(train_inputs), len(train_labels), len(val_inputs), len(val_labels), len(test_inputs), len(test_labels)"
      ],
      "execution_count": 8,
      "outputs": [
        {
          "output_type": "execute_result",
          "data": {
            "text/plain": [
              "(14618, 14618, 1619, 1619, 3370, 3370)"
            ]
          },
          "metadata": {
            "tags": []
          },
          "execution_count": 8
        }
      ]
    },
    {
      "cell_type": "markdown",
      "metadata": {
        "id": "3zSLBm0VSCWV"
      },
      "source": [
        "We will use the BERT vocabulary to tokenize English sentences on our input side.\n",
        "\n",
        "The output side is a sequence of IOB tags. So we will build a \"vocabulary\" of IOB tags that we pull from our provided training set (the `train.iob` file).\n",
        "\n",
        "In addition, we add in a `PAD` tag and an `X` tag. The `X` tag is to handle word-pieces. For example, consider the word `isolates`, the Word Piece tokenizer will tokenize it into `[isol, ##ate, ##s]`. The corresponding IOB tag for the word is `O`. So after word-piece tokenization, we will assign the tags `[O, X, X]` for the word `isolates`."
      ]
    },
    {
      "cell_type": "code",
      "metadata": {
        "colab": {
          "base_uri": "https://localhost:8080/"
        },
        "id": "rnklH7126K1e",
        "outputId": "020bed48-5237-427c-b7be-44254d547041"
      },
      "source": [
        "labels_list = [x.split() for x in tv_labels]\n",
        "unique_labels = set(itertools.chain.from_iterable(labels_list))\n",
        "\n",
        "idx2label = {i+2:x for i, x in enumerate(sorted(list(unique_labels)))}\n",
        "idx2label[0] = \"PAD\"\n",
        "idx2label[1] = \"X\"\n",
        "\n",
        "label2idx = {v:k for k, v in idx2label.items()}\n",
        "\n",
        "idx2label"
      ],
      "execution_count": 9,
      "outputs": [
        {
          "output_type": "execute_result",
          "data": {
            "text/plain": [
              "{0: 'PAD',\n",
              " 1: 'X',\n",
              " 2: 'B-DNA',\n",
              " 3: 'B-RNA',\n",
              " 4: 'B-cell_line',\n",
              " 5: 'B-cell_type',\n",
              " 6: 'B-protein',\n",
              " 7: 'I-DNA',\n",
              " 8: 'I-RNA',\n",
              " 9: 'I-cell_line',\n",
              " 10: 'I-cell_type',\n",
              " 11: 'I-protein',\n",
              " 12: 'O'}"
            ]
          },
          "metadata": {
            "tags": []
          },
          "execution_count": 9
        }
      ]
    },
    {
      "cell_type": "markdown",
      "metadata": {
        "id": "gwuS7GGKTEsV"
      },
      "source": [
        "### Declare Model and Tokenizer\n",
        "\n",
        "We instantiate a BertForTokenClassification model based on a pre-trained `bert-base-cased` model. Cased models are usually better to use for Named Entity Recognition.\n",
        "\n",
        "This is just a BERT encoder that reads a sequence of word piece tokens representing a sentence and outputs a vector into a sequence-based decoder head (like an LSTM).\n",
        "\n",
        "Note that we have to provide the number of labels the decoder will emit (default if not set is 2, which is unsuitable for our purpose)."
      ]
    },
    {
      "cell_type": "code",
      "metadata": {
        "colab": {
          "base_uri": "https://localhost:8080/",
          "height": 269,
          "referenced_widgets": [
            "55b37c95fdc74089b5170fa8a61c2d1e",
            "3f6979a779a04eb383b9bac2ca5a3803",
            "980a4a95fd6a4a07a3ffdd280bf73c0d",
            "77bf96e408d14671be74541763de38b5",
            "1283b87bad8040f6b92316a35567f733",
            "157443735901465cbe0fe3d79bbf17e0",
            "39ae26ae96074b039c917d031fed7ac5",
            "93f0c41452b04fb6bb114c277eeadcc4",
            "6a3d86a5ece040d08c1455ace0d3746d",
            "a745f1f183dc4f0ead7c8368be57eba9",
            "a87e0c1a80dd42408a1e90fab251b9ea",
            "40a938763cc844309c13e7ce5d296311",
            "c399ec48b123452fadca04f218cd5b99",
            "a58e625f17ca4e0f90db38bfae01283f",
            "8160c09f8b9044ddba34f15e5e905e21",
            "4b6fb541210642a08405e0f95043dee9",
            "a9ff13af9e62483894d140f4bc490c1c",
            "b43288e4e75e41f9b2b12d1362838569",
            "310b4a1889484855b080aa11963f9e05",
            "ee55dd1c6db0436aab84be54db9189b5",
            "58fce21846d6485d8966a00384c797dd",
            "adfc24622c924563a02969c880e372e0",
            "5d4e690fb3ce4ccdbe740950746448d7",
            "16756f26ef8a4ad181424f18da7ecaf2"
          ]
        },
        "id": "-qS1ejCFiNhn",
        "outputId": "ade3581e-2811-4ad6-ed6f-dca3e9bd96cc"
      },
      "source": [
        "tokenizer = BertTokenizer.from_pretrained(\"bert-base-cased\")\n",
        "model = BertForTokenClassification.from_pretrained(\"bert-base-cased\", num_labels=len(label2idx))"
      ],
      "execution_count": 10,
      "outputs": [
        {
          "output_type": "display_data",
          "data": {
            "application/vnd.jupyter.widget-view+json": {
              "model_id": "55b37c95fdc74089b5170fa8a61c2d1e",
              "version_minor": 0,
              "version_major": 2
            },
            "text/plain": [
              "HBox(children=(FloatProgress(value=0.0, description='Downloading', max=213450.0, style=ProgressStyle(descripti…"
            ]
          },
          "metadata": {
            "tags": []
          }
        },
        {
          "output_type": "stream",
          "text": [
            "\n"
          ],
          "name": "stdout"
        },
        {
          "output_type": "display_data",
          "data": {
            "application/vnd.jupyter.widget-view+json": {
              "model_id": "6a3d86a5ece040d08c1455ace0d3746d",
              "version_minor": 0,
              "version_major": 2
            },
            "text/plain": [
              "HBox(children=(FloatProgress(value=0.0, description='Downloading', max=433.0, style=ProgressStyle(description_…"
            ]
          },
          "metadata": {
            "tags": []
          }
        },
        {
          "output_type": "stream",
          "text": [
            "\n"
          ],
          "name": "stdout"
        },
        {
          "output_type": "display_data",
          "data": {
            "application/vnd.jupyter.widget-view+json": {
              "model_id": "a9ff13af9e62483894d140f4bc490c1c",
              "version_minor": 0,
              "version_major": 2
            },
            "text/plain": [
              "HBox(children=(FloatProgress(value=0.0, description='Downloading', max=435779157.0, style=ProgressStyle(descri…"
            ]
          },
          "metadata": {
            "tags": []
          }
        },
        {
          "output_type": "stream",
          "text": [
            "\n"
          ],
          "name": "stdout"
        },
        {
          "output_type": "stream",
          "text": [
            "Some weights of the model checkpoint at bert-base-cased were not used when initializing BertForTokenClassification: ['cls.predictions.bias', 'cls.predictions.transform.dense.weight', 'cls.predictions.transform.dense.bias', 'cls.predictions.decoder.weight', 'cls.seq_relationship.weight', 'cls.seq_relationship.bias', 'cls.predictions.transform.LayerNorm.weight', 'cls.predictions.transform.LayerNorm.bias']\n",
            "- This IS expected if you are initializing BertForTokenClassification from the checkpoint of a model trained on another task or with another architecture (e.g. initializing a BertForSequenceClassification model from a BertForPreTraining model).\n",
            "- This IS NOT expected if you are initializing BertForTokenClassification from the checkpoint of a model that you expect to be exactly identical (initializing a BertForSequenceClassification model from a BertForSequenceClassification model).\n",
            "Some weights of BertForTokenClassification were not initialized from the model checkpoint at bert-base-cased and are newly initialized: ['classifier.weight', 'classifier.bias']\n",
            "You should probably TRAIN this model on a down-stream task to be able to use it for predictions and inference.\n"
          ],
          "name": "stderr"
        }
      ]
    },
    {
      "cell_type": "code",
      "metadata": {
        "id": "RLcO43dC0Wkt"
      },
      "source": [
        "dev = \"cuda\" if torch.cuda.is_available() else \"cpu\"\n",
        "model = model.to(dev)"
      ],
      "execution_count": 11,
      "outputs": []
    },
    {
      "cell_type": "markdown",
      "metadata": {
        "id": "yiAq-rjpT2OH"
      },
      "source": [
        "### Dataset\n",
        "\n",
        "Our custom dataset emits a tuple of (sentence: String, label_sequence: String). We do the padding with the `X` tag for word-pieces described above in this block of code, the Dataset will output the label sequence suitably padded with X as needed.\n",
        "\n",
        "We do the word piece tokenization twice, here, and again during consuming the batch, which is a bit of an inefficiency."
      ]
    },
    {
      "cell_type": "code",
      "metadata": {
        "colab": {
          "base_uri": "https://localhost:8080/"
        },
        "id": "VsOH1-Pu1MQN",
        "outputId": "54f5f6f1-ec83-406d-ed96-b4a0020cb7e1"
      },
      "source": [
        "class NERDataset(Dataset):\n",
        "  def __init__(self, inputs, labels, tokenizer):\n",
        "    super().__init__()\n",
        "    self.inputs = inputs\n",
        "    self.labels = labels\n",
        "    self.tokenizer = tokenizer\n",
        "\n",
        "  def __len__(self):\n",
        "    return len(self.inputs)\n",
        "\n",
        "  def __getitem__(self, idx):\n",
        "    input_i = self.inputs[idx].split()\n",
        "    label_i = self.labels[idx].split()\n",
        "    input_o, label_o = [], []\n",
        "    for token_i, label_i in zip(input_i, label_i):\n",
        "      token_wp = self.tokenizer.tokenize(token_i)\n",
        "      label_wp = [label_i] + [\"X\"] * (len(token_wp) - 1)\n",
        "      label_o.extend(label_wp)\n",
        "    return self.inputs[idx], \" \".join(label_o)\n",
        "\n",
        "\n",
        "train_ds = NERDataset(train_inputs, train_labels, tokenizer)\n",
        "val_ds = NERDataset(val_inputs, val_labels, tokenizer)\n",
        "test_ds = NERDataset(test_inputs, test_labels, tokenizer)\n",
        "\n",
        "# for testing\n",
        "# train_ds = NERDataset(train_inputs[0:100], train_labels[0:100], tokenizer)\n",
        "# val_ds = NERDataset(val_inputs[0:10], val_labels[0:10], tokenizer)\n",
        "# test_ds = NERDataset(test_inputs[0:20], test_labels[0:20], tokenizer)\n",
        "\n",
        "# self-test\n",
        "test_tokens_12, test_labels_12 = train_ds[12]\n",
        "print(\"test_tokens[12]:\", test_tokens_12)\n",
        "print(\"test_labels[12]:\", test_labels_12)"
      ],
      "execution_count": 12,
      "outputs": [
        {
          "output_type": "stream",
          "text": [
            "test_tokens[12]: Thus enabled to perform the test on multiple blood samples in parallel , we investigated cardiac infarction patients over a 12-day period to test if glucocorticoid receptor binding is altered in this 'stressful ' disease .\n",
            "test_labels[12]: O O O O O O O O B-cell_type I-cell_type O O O O O O O X X O O O O X X O O O O B-protein X X X X X I-protein O O O O O O X X O O O\n"
          ],
          "name": "stdout"
        }
      ]
    },
    {
      "cell_type": "code",
      "metadata": {
        "id": "sOMUUhmg3tF6"
      },
      "source": [
        "BATCH_SIZE = 32\n",
        "\n",
        "train_dl = DataLoader(train_ds, batch_size=BATCH_SIZE, shuffle=True)\n",
        "val_dl = DataLoader(val_ds, batch_size=BATCH_SIZE, shuffle=False)\n",
        "test_dl = DataLoader(test_ds, batch_size=BATCH_SIZE, shuffle=False)"
      ],
      "execution_count": 13,
      "outputs": []
    },
    {
      "cell_type": "markdown",
      "metadata": {
        "id": "hqUOuwVsUeca"
      },
      "source": [
        "### Training"
      ]
    },
    {
      "cell_type": "code",
      "metadata": {
        "id": "hWSMGaan5PU7"
      },
      "source": [
        "NUM_EPOCHS = 5\n",
        "LEARNING_RATE = 3e-5"
      ],
      "execution_count": 14,
      "outputs": []
    },
    {
      "cell_type": "code",
      "metadata": {
        "colab": {
          "base_uri": "https://localhost:8080/"
        },
        "id": "MtkMeNC58fTs",
        "outputId": "4d2d5694-b925-45ca-d9b8-72baf4946030"
      },
      "source": [
        "def convert_labels_to_tensor(tags, batch_size, padding_length, label2idx):\n",
        "  padded_labels = []\n",
        "  for tag in tags:\n",
        "    tag_list = tag.split()\n",
        "    curr_length = len(tag_list)\n",
        "    tag_list.extend([\"PAD\"] * (padding_length - curr_length))\n",
        "    padded_labels.append(np.array([label2idx[tag] for tag in tag_list]))\n",
        "  return torch.as_tensor(np.array(padded_labels, dtype=np.int64))\n",
        "\n",
        "\n",
        "# self-test\n",
        "test_label = \"O X X X O O O B-protein X X X X X O O O O O O O O O X X X O\"\n",
        "test_tensor = convert_labels_to_tensor([test_label], 1, len(test_label.split()) + 2, label2idx)\n",
        "assert(test_tensor.size(1) == len(test_label.split()) + 2)\n",
        "test_tensor, test_tensor.dtype"
      ],
      "execution_count": 15,
      "outputs": [
        {
          "output_type": "execute_result",
          "data": {
            "text/plain": [
              "(tensor([[12,  1,  1,  1, 12, 12, 12,  6,  1,  1,  1,  1,  1, 12, 12, 12, 12, 12,\n",
              "          12, 12, 12, 12,  1,  1,  1, 12,  0,  0]]), torch.int64)"
            ]
          },
          "metadata": {
            "tags": []
          },
          "execution_count": 15
        }
      ]
    },
    {
      "cell_type": "code",
      "metadata": {
        "id": "GWt-Ss-ZzR5f"
      },
      "source": [
        "class Accuracy():\n",
        "  def __init__(self, tokenizer, idx2label):\n",
        "    super().__init__()\n",
        "    self.tokenizer = tokenizer\n",
        "    self.idx2label = idx2label\n",
        "    self.preds_list = []\n",
        "    self.labels_list = []\n",
        "\n",
        "  def accumulate(self, input_ids, logits, labels):\n",
        "    preds_mask = (\n",
        "        (input_ids != self.tokenizer.cls_token_id) &\n",
        "        (input_ids != self.tokenizer.pad_token_id) &\n",
        "        (input_ids != self.tokenizer.sep_token_id))\n",
        "    _, predictions = torch.max(logits, 2)\n",
        "\n",
        "    pred_ids = torch.masked_select(predictions, (preds_mask == 1))\n",
        "    label_ids = torch.masked_select(labels, (preds_mask == 1))\n",
        "\n",
        "    self.preds_list.extend(pred_ids.detach().cpu().numpy().tolist())\n",
        "    self.labels_list.extend(label_ids.detach().cpu().numpy().tolist())\n",
        "\n",
        "  def compute(self):\n",
        "    num_correct = sum([lab == pred for lab, pred \n",
        "                     in zip(self.labels_list, self.preds_list)\n",
        "                     if self.idx2label[lab] != \"X\"]) \n",
        "    num_total = len([lab for lab in self.labels_list \n",
        "                     if self.idx2label[lab] != \"X\"])\n",
        "    if num_total > 0:\n",
        "      return num_correct / num_total\n",
        "    else:\n",
        "      return 0.0\n"
      ],
      "execution_count": 16,
      "outputs": []
    },
    {
      "cell_type": "code",
      "metadata": {
        "id": "awyHQGBL5T-6"
      },
      "source": [
        "def train(train_dl, model, tokenizer, optimizer, label2idx, idx2label):\n",
        "  total_loss = 0\n",
        "  train_acc = Accuracy(tokenizer, idx2label)\n",
        "  model.train()\n",
        "  for batch in train_dl:\n",
        "    tokens, tags = batch\n",
        "\n",
        "    inputs = tokenizer(tokens, truncation=True, padding=True, return_tensors=\"pt\")\n",
        "    input_ids = inputs.input_ids\n",
        "    attention_mask = inputs.attention_mask\n",
        "    curr_batch_size, curr_pad_length = input_ids.size()\n",
        "    labels = convert_labels_to_tensor(\n",
        "        tags, curr_batch_size, curr_pad_length, label2idx)\n",
        "\n",
        "    input_ids, attention_mask = input_ids.to(dev), attention_mask.to(dev)\n",
        "    labels = labels.to(dev)\n",
        "\n",
        "    outputs = model(input_ids, attention_mask=attention_mask, labels=labels)\n",
        "\n",
        "    loss, logits = outputs.loss, outputs.logits\n",
        "\n",
        "    loss.backward()\n",
        "    optimizer.step()\n",
        "    optimizer.zero_grad()\n",
        "\n",
        "    total_loss += loss.item()\n",
        "    train_acc.accumulate(input_ids, logits, labels)\n",
        "\n",
        "  return total_loss, train_acc.compute()\n",
        "\n",
        "\n",
        "def evaluate(val_dl, model, tokenizer, label2idx, idx2label):\n",
        "  val_loss = 0\n",
        "  val_acc = Accuracy(tokenizer, idx2label)\n",
        "  model.eval()\n",
        "  for batch in val_dl:\n",
        "    tokens, tags = batch\n",
        "\n",
        "    inputs = tokenizer(tokens, truncation=True, padding=True, return_tensors=\"pt\")\n",
        "    input_ids = inputs.input_ids\n",
        "    attention_mask = inputs.attention_mask\n",
        "    curr_batch_size, curr_pad_length = input_ids.size()\n",
        "    labels = convert_labels_to_tensor(tags, curr_batch_size, curr_pad_length, label2idx)\n",
        "\n",
        "    input_ids, attention_mask = input_ids.to(dev), attention_mask.to(dev)\n",
        "    labels = labels.to(dev)\n",
        "\n",
        "    with torch.no_grad():\n",
        "      outputs = model(input_ids, attention_mask=attention_mask, labels=labels)\n",
        "      loss, logits = outputs.loss, outputs.logits\n",
        "\n",
        "    val_loss += loss.item()\n",
        "    val_acc.accumulate(input_ids, logits, labels)\n",
        "\n",
        "  return val_loss, val_acc.compute()"
      ],
      "execution_count": 17,
      "outputs": []
    },
    {
      "cell_type": "code",
      "metadata": {
        "id": "mU2QCjUq2tab"
      },
      "source": [
        "optimizer = torch.optim.AdamW(model.parameters(), lr=LEARNING_RATE)"
      ],
      "execution_count": 18,
      "outputs": []
    },
    {
      "cell_type": "code",
      "metadata": {
        "colab": {
          "base_uri": "https://localhost:8080/"
        },
        "id": "TQ0mhP_Z2yaV",
        "outputId": "e7faa002-ca2b-4698-e6b2-6dbe7898bb60"
      },
      "source": [
        "losses, accs, val_losses, val_accs = [], [], [], []\n",
        "for epoch in range(1, NUM_EPOCHS + 1):\n",
        "  train_loss, train_acc = train(train_dl, model, \n",
        "                                tokenizer, optimizer, \n",
        "                                label2idx, idx2label)\n",
        "  val_loss, val_acc = evaluate(val_dl, model, tokenizer, \n",
        "                               label2idx, idx2label)\n",
        "  print(\"Epoch {:d} | train loss: {:.3f}, accuracy: {:.3f} | validation loss: {:.3f}, accuracy: {:.3f}\"\n",
        "    .format(epoch, train_loss, train_acc, val_loss, val_acc))\n",
        "  losses.append(train_loss)\n",
        "  accs.append(train_acc)\n",
        "  val_losses.append(val_loss)\n",
        "  val_accs.append(val_acc)"
      ],
      "execution_count": 19,
      "outputs": [
        {
          "output_type": "stream",
          "text": [
            "Epoch 1 | train loss: 100.282, accuracy: 0.902 | validation loss: 5.818, accuracy: 0.941\n",
            "Epoch 2 | train loss: 47.488, accuracy: 0.946 | validation loss: 5.908, accuracy: 0.940\n",
            "Epoch 3 | train loss: 38.640, accuracy: 0.956 | validation loss: 5.299, accuracy: 0.946\n",
            "Epoch 4 | train loss: 32.249, accuracy: 0.963 | validation loss: 5.398, accuracy: 0.948\n",
            "Epoch 5 | train loss: 26.926, accuracy: 0.969 | validation loss: 5.459, accuracy: 0.949\n"
          ],
          "name": "stdout"
        }
      ]
    },
    {
      "cell_type": "code",
      "metadata": {
        "colab": {
          "base_uri": "https://localhost:8080/",
          "height": 279
        },
        "id": "qNf-6Z7Z_2Qx",
        "outputId": "359b31a4-aefb-4142-ad44-c03d32694f4f"
      },
      "source": [
        "plt.subplot(2, 1, 1)\n",
        "xs = np.arange(NUM_EPOCHS) + 1\n",
        "plt.plot(xs, losses, label=\"train\")\n",
        "plt.plot(xs, val_losses, label=\"validation\")\n",
        "plt.xlabel(\"epochs\")\n",
        "plt.ylabel(\"loss\")\n",
        "plt.legend(loc=\"best\")\n",
        "\n",
        "plt.subplot(2, 1, 2)\n",
        "plt.plot(xs, accs, label=\"train\")\n",
        "plt.plot(xs, val_accs, label=\"validation\")\n",
        "plt.xlabel(\"epochs\")\n",
        "plt.ylabel(\"accuracy\")\n",
        "plt.legend(loc=\"best\")\n",
        "\n",
        "_ = plt.show()"
      ],
      "execution_count": 20,
      "outputs": [
        {
          "output_type": "display_data",
          "data": {
            "image/png": "[encoded data removed]",
            "text/plain": [
              "<Figure size 432x288 with 2 Axes>"
            ]
          },
          "metadata": {
            "tags": [],
            "needs_background": "light"
          }
        }
      ]
    },
    {
      "cell_type": "markdown",
      "metadata": {
        "id": "HewjLD58Uj1a"
      },
      "source": [
        "### Prediction"
      ]
    },
    {
      "cell_type": "code",
      "metadata": {
        "id": "WQ9eeXiXgFCu"
      },
      "source": [
        "def predict(test_batch, model, tokenizer, label2idx, idx2label):\n",
        "  model.eval()\n",
        "  tokens, tags = test_batch\n",
        "\n",
        "  inputs = tokenizer(tokens, truncation=True, padding=True, return_tensors=\"pt\")\n",
        "  input_ids = inputs.input_ids\n",
        "  attention_mask = inputs.attention_mask\n",
        "  curr_batch_size, curr_pad_length = input_ids.size()\n",
        "  labels = convert_labels_to_tensor(tags, curr_batch_size, curr_pad_length, label2idx)\n",
        "\n",
        "  input_ids, attention_mask = input_ids.to(dev), attention_mask.to(dev)\n",
        "  labels = labels.to(dev)\n",
        "\n",
        "  with torch.no_grad():\n",
        "    outputs = model(input_ids, attention_mask=attention_mask, labels=labels)\n",
        "    loss, logits = outputs.loss, outputs.logits\n",
        "\n",
        "  preds_mask = (\n",
        "      (input_ids != tokenizer.cls_token_id) &\n",
        "      (input_ids != tokenizer.pad_token_id) &\n",
        "      (input_ids != tokenizer.sep_token_id))\n",
        "  _, predictions = torch.max(logits, 2)\n",
        "\n",
        "  batch_predictions = []\n",
        "  for i in range(predictions.size(0)):\n",
        "    masked_prediction = torch.masked_select(predictions[i], (preds_mask[i] == 1))\n",
        "    masked_prediction = masked_prediction.detach().cpu().numpy()\n",
        "    predicted_tags = [idx2label[p] for p in masked_prediction if idx2label[p] != \"X\"]\n",
        "    batch_predictions.append(\" \".join(predicted_tags))\n",
        "\n",
        "  return batch_predictions\n",
        "\n",
        "\n",
        "def postprocess_tags(tags):\n",
        "  tags_pp = []\n",
        "  for t in tags:\n",
        "    if t == \"PAD\":\n",
        "      tags_pp.append(\"O\")\n",
        "    elif t.startswith(\"I-\") or t.startswith(\"B-\"):\n",
        "      tags_pp.append(t[2:])\n",
        "    else:\n",
        "      tags_pp.append(t)\n",
        "  return tags_pp"
      ],
      "execution_count": 21,
      "outputs": []
    },
    {
      "cell_type": "code",
      "metadata": {
        "colab": {
          "base_uri": "https://localhost:8080/"
        },
        "id": "J9Ytg5bC5WV2",
        "outputId": "d716c061-c256-4531-f7e2-cc1e5f366e77"
      },
      "source": [
        "num_examples = 0\n",
        "pred_list, label_list = [], []\n",
        "for test_batch in test_dl:\n",
        "  inputs, labels = test_batch\n",
        "  preds = predict(test_batch, model, tokenizer, label2idx, idx2label)\n",
        "  for input, label, pred in zip(inputs, labels, preds):\n",
        "    label_wox_toks = [x for x in label.split() if x != \"X\"]\n",
        "    pred_toks = pred.split()\n",
        "    # make them the same length (forcibly)\n",
        "    if len(pred_toks) > len(label_wox_toks):\n",
        "      pred_toks = pred_toks[0 : len(label_wox_toks)]\n",
        "    elif len(pred_toks) < len(label_wox_toks):\n",
        "      diff_num_toks = len(label_wox_toks) - len(pred_toks)\n",
        "      pred_toks.extend([\"O\"] * diff_num_toks)\n",
        "    # display first 10 results\n",
        "    if num_examples < 10:\n",
        "      print(\"input ({:d} tokens):\".format(len(input.split())), input)\n",
        "      print(\"label ({:d} tokens):\".format(len(label_wox_toks)), \" \".join(label_wox_toks))\n",
        "      print(\"preds ({:d} tokens):\".format(len(pred_toks)), \" \".join(pred_toks))\n",
        "      print(\"--\")\n",
        "    # replace PAD with O, and remove I- and B- prefixes from both label and preds\n",
        "    pred_list.extend(postprocess_tags(pred_toks))\n",
        "    label_list.extend(postprocess_tags(label_wox_toks))\n",
        "    num_examples += 1\n"
      ],
      "execution_count": 22,
      "outputs": [
        {
          "output_type": "stream",
          "text": [
            "input (13 tokens): Number of glucocorticoid receptors in lymphocytes and their sensitivity to hormone action .\n",
            "label (13 tokens): O O B-protein I-protein O B-cell_type O O O O O O O\n",
            "preds (13 tokens): O B-protein I-protein O B-cell_type O O O O O O O PAD\n",
            "--\n",
            "input (31 tokens): The study demonstrated a decreased level of glucocorticoid receptors ( GR ) in peripheral blood lymphocytes from hypercholesterolemic subjects , and an elevated level in patients with acute myocardial infarction .\n",
            "label (31 tokens): O O O O O O O B-protein I-protein O B-protein O O B-cell_type I-cell_type I-cell_type O O O O O O O O O O O O O O O\n",
            "preds (31 tokens): O O O O O O B-protein I-protein O B-protein O O B-cell_type I-cell_type I-cell_type O O O O O O O O O O O O O O O PAD\n",
            "--\n",
            "input (38 tokens): In the lymphocytes with a high GR number , dexamethasone inhibited [ 3H ] -thymidine and [ 3H ] -acetate incorporation into DNA and cholesterol , respectively , in the same manner as in the control cells .\n",
            "label (38 tokens): O O B-cell_type O O O B-protein O O O O O O O O O O O O O O O O O O O O O O O O O O O O B-cell_type I-cell_type O\n",
            "preds (38 tokens): O B-cell_type O O O O O O O O O O O O O O O O O O O O O O O O O O O O O O O O B-cell_type I-cell_type O PAD\n",
            "--\n",
            "input (23 tokens): On the other hand , a decreased GR number resulted in a less efficient dexamethasone inhibition of the incorporation of labeled compounds .\n",
            "label (23 tokens): O O O O O O O B-protein O O O O O O O O O O O O O O O\n",
            "preds (23 tokens): O O O O O O B-protein O O O O O O O O O O O O O O O PAD\n",
            "--\n",
            "input (19 tokens): These data showed that the sensitivity of lymphocytes to glucocorticoids changed only with a decrease of GR level .\n",
            "label (19 tokens): O O O O O O O B-cell_type O O O O O O O O B-protein O O\n",
            "preds (19 tokens): O O O O O O B-cell_type O O O O O O O O B-protein O O PAD\n",
            "--\n",
            "input (18 tokens): [ 1 , 25-Dihydroxyvitamin D3 receptors in lymphocytes and T- and B-lymphocyte count in patients with glomerulonephritis ]\n",
            "label (18 tokens): O B-protein I-protein I-protein I-protein I-protein O B-cell_type O B-cell_type I-cell_type I-cell_type O O O O O O\n",
            "preds (18 tokens): B-protein I-protein I-protein I-protein I-protein O B-cell_type O O O O O O O O O O PAD\n",
            "--\n",
            "input (31 tokens): Content of receptors to hormonal form of vitamin D3 , 1.25 ( OH ) 2D3 , constituted 27.3 fmole/mg of protein in lymphocytes of peripheric blood of children with glomerulonephritis .\n",
            "label (31 tokens): O O O O O O O O O O O O O O O O O O O O O O B-cell_type O O O O O O O O\n",
            "preds (31 tokens): O O O O O O O O O O O O O O O O O O O O O B-cell_type O O O O O O O O PAD\n",
            "--\n",
            "input (17 tokens): At the same time , total content of T lymphocytes was decreased 1.5-fold in peripheric blood .\n",
            "label (17 tokens): O O O O O O O O B-cell_type I-cell_type O O O O O O O\n",
            "preds (17 tokens): O O O O O O O B-cell_type I-cell_type O O O O O O O PAD\n",
            "--\n",
            "input (17 tokens): Treatment with 1- ( OH ) D3 normalized also the T lymphocytes content in peripheric blood .\n",
            "label (17 tokens): O O O O O O O O O O B-cell_type I-cell_type O O O O O\n",
            "preds (17 tokens): O O O O O O O O O B-cell_type I-cell_type O O O O O PAD\n",
            "--\n",
            "input (33 tokens): The data obtained suggest that under conditions of glomerulonephritis only high content of receptors to 1.25 ( OH ) 2D3 in lymphocytes enabled to perform the cell response to the hormone effect .\n",
            "label (33 tokens): O O O O O O O O O O O O O B-protein O O O O O O O B-cell_type O O O O O O O O O O O\n",
            "preds (33 tokens): O O O O O O O O O O O O O O O O O O O O B-cell_type O O O O O O O O O O O PAD\n",
            "--\n"
          ],
          "name": "stdout"
        }
      ]
    },
    {
      "cell_type": "code",
      "metadata": {
        "colab": {
          "base_uri": "https://localhost:8080/"
        },
        "id": "HKc1Saud5cCS",
        "outputId": "80f187e6-7d5a-427b-c710-523a16566c33"
      },
      "source": [
        "labels = [lab for lab in label2idx.keys() \n",
        "          if lab.startswith(\"B-\") or lab.startswith(\"I-\") or lab == \"O\"]\n",
        "labels = sorted(list(set(map(lambda x: x[2:] \n",
        "                             if x.startswith(\"I-\") or x.startswith(\"B-\") else x, labels))))\n",
        "labels"
      ],
      "execution_count": 23,
      "outputs": [
        {
          "output_type": "execute_result",
          "data": {
            "text/plain": [
              "['DNA', 'O', 'RNA', 'cell_line', 'cell_type', 'protein']"
            ]
          },
          "metadata": {
            "tags": []
          },
          "execution_count": 23
        }
      ]
    },
    {
      "cell_type": "code",
      "metadata": {
        "colab": {
          "base_uri": "https://localhost:8080/"
        },
        "id": "Q10-xAz6_VbE",
        "outputId": "b3d410ed-f5ce-4792-cc88-3bee59434d28"
      },
      "source": [
        "print(confusion_matrix(label_list, pred_list, labels=labels))"
      ],
      "execution_count": 24,
      "outputs": [
        {
          "output_type": "stream",
          "text": [
            "[[ 1182   821     2     2     0    49]\n",
            " [  987 54872   119   470  1393  4476]\n",
            " [    3    91   125     0     1     2]\n",
            " [    0   411     0   527    95     7]\n",
            " [    2  1725     0   195  1870    46]\n",
            " [   74  4159    22    32    20  3288]]\n"
          ],
          "name": "stdout"
        }
      ]
    },
    {
      "cell_type": "code",
      "metadata": {
        "colab": {
          "base_uri": "https://localhost:8080/"
        },
        "id": "a5_U9Vmv_-1L",
        "outputId": "ab03727b-e563-4459-8f5f-6bb52092f3c8"
      },
      "source": [
        "print(classification_report(label_list, pred_list, labels=labels))"
      ],
      "execution_count": 25,
      "outputs": [
        {
          "output_type": "stream",
          "text": [
            "              precision    recall  f1-score   support\n",
            "\n",
            "         DNA       0.53      0.57      0.55      2056\n",
            "           O       0.88      0.88      0.88     62317\n",
            "         RNA       0.47      0.56      0.51       222\n",
            "   cell_line       0.43      0.51      0.47      1040\n",
            "   cell_type       0.55      0.49      0.52      3838\n",
            "     protein       0.42      0.43      0.43      7595\n",
            "\n",
            "    accuracy                           0.80     77068\n",
            "   macro avg       0.55      0.57      0.56     77068\n",
            "weighted avg       0.80      0.80      0.80     77068\n",
            "\n"
          ],
          "name": "stdout"
        }
      ]
    },
    {
      "cell_type": "code",
      "metadata": {
        "id": "HxWo4mgeDBAJ"
      },
      "source": [
        ""
      ],
      "execution_count": 25,
      "outputs": []
    }
  ]
}