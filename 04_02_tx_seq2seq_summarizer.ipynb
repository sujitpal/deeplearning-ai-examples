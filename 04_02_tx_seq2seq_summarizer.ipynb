{
  "nbformat": 4,
  "nbformat_minor": 0,
  "metadata": {
    "colab": {
      "name": "04_02_tx_seq2seq_summarizer.ipynb",
      "provenance": [],
      "collapsed_sections": [],
      "authorship_tag": "ABX9TyNF4xcpGDJGyNEYISRBgx6m",
      "include_colab_link": true
    },
    "kernelspec": {
      "name": "python3",
      "display_name": "Python 3"
    },
    "accelerator": "GPU"
  },
  "cells": [
    {
      "cell_type": "markdown",
      "metadata": {
        "id": "view-in-github",
        "colab_type": "text"
      },
      "source": [
        "<a href=\"https://colab.research.google.com/github/sujitpal/nlp-deeplearning-ai-examples/blob/master/04_02_tx_seq2seq_summarizer.ipynb\" target=\"_parent\"><img src=\"https://colab.research.google.com/assets/colab-badge.svg\" alt=\"Open In Colab\"/></a>"
      ]
    },
    {
      "cell_type": "markdown",
      "metadata": {
        "id": "ypbmucXK1eX2"
      },
      "source": [
        "# Transformer Sequence to Sequence for Summarization\n",
        "\n",
        "Sequence to Sequence models have two inputs and one output.\n",
        "* Encoder inputs -- the input sequence\n",
        "* Decoder inputs -- the output sequence preceded by a [BOS] (beginning of sequence) token and offset one token to the left.\n",
        "* Decoder outputs -- the output sequence followed by a [EOS] (end of sequence) token and offset one token to the right.\n",
        "\n",
        "We initially tried using a Huggingface EncoderDecoder model composed of a BertModel (bert-base-uncased) on both the encoder and decoder ends. It gave \"Out of CUDA memory\" on Colab so we switched it to DistilBERT on the encoder and BERT on the decoded, which also gave \"Out of CUDA memory\". So finally, we created smaller BERT transformers with just 3 layers for both encoder and decoder, and used a pre-trained BERT tokenizer.\n",
        "\n",
        "We used only 1000 data points from our 50k datapoints available from the [Amazon Fine Foods Reviews from Kaggle](https://www.kaggle.com/sandeepbhogaraju/text-summarization-with-seq2seq-model). We used a Learning Rate of 1e-3 with an Adam optimizer to train this model.\n",
        "\n",
        "Results are not great, which is expected, since we are training a transformer from scratch and probably need more data than we are giving it.\n",
        "\n",
        "__References__\n",
        "\n",
        "* [HuggingFace EncoderDecoder Documentation](https://huggingface.co/transformers/model_doc/encoderdecoder.html)\n",
        "* [Encoder-Decoder Models from HuggingFace from (almost) scratch](https://medium.com/@utk.is.here/encoder-decoder-models-in-huggingface-from-almost-scratch-c318cce098ae) by Utkarsh Desai ([Github](https://github.com/utkd/encdecmodel-hf)).\n",
        "* [Abstractive Text Summarization using Transformers](https://medium.com/swlh/abstractive-text-summarization-using-transformers-3e774cc42453) by Rohan Jagtap ([Github](https://github.com/rojagtap/abstractive_summarizer)).\n",
        "* [Transformers Based Encoder-Decoder Models](https://huggingface.co/blog/encoder-decoder) by Patrick Von Platen."
      ]
    },
    {
      "cell_type": "code",
      "metadata": {
        "colab": {
          "base_uri": "https://localhost:8080/"
        },
        "id": "4dEgjDpB1T5X",
        "outputId": "cb8668c2-6e25-4ddf-91ae-6d100408586f"
      },
      "source": [
        "!pip install transformers"
      ],
      "execution_count": 1,
      "outputs": [
        {
          "output_type": "stream",
          "text": [
            "Requirement already satisfied: transformers in /usr/local/lib/python3.6/dist-packages (4.1.1)\n",
            "Requirement already satisfied: sacremoses in /usr/local/lib/python3.6/dist-packages (from transformers) (0.0.43)\n",
            "Requirement already satisfied: requests in /usr/local/lib/python3.6/dist-packages (from transformers) (2.23.0)\n",
            "Requirement already satisfied: dataclasses; python_version < \"3.7\" in /usr/local/lib/python3.6/dist-packages (from transformers) (0.8)\n",
            "Requirement already satisfied: filelock in /usr/local/lib/python3.6/dist-packages (from transformers) (3.0.12)\n",
            "Requirement already satisfied: numpy in /usr/local/lib/python3.6/dist-packages (from transformers) (1.19.4)\n",
            "Requirement already satisfied: packaging in /usr/local/lib/python3.6/dist-packages (from transformers) (20.8)\n",
            "Requirement already satisfied: regex!=2019.12.17 in /usr/local/lib/python3.6/dist-packages (from transformers) (2019.12.20)\n",
            "Requirement already satisfied: tokenizers==0.9.4 in /usr/local/lib/python3.6/dist-packages (from transformers) (0.9.4)\n",
            "Requirement already satisfied: tqdm>=4.27 in /usr/local/lib/python3.6/dist-packages (from transformers) (4.41.1)\n",
            "Requirement already satisfied: joblib in /usr/local/lib/python3.6/dist-packages (from sacremoses->transformers) (1.0.0)\n",
            "Requirement already satisfied: six in /usr/local/lib/python3.6/dist-packages (from sacremoses->transformers) (1.15.0)\n",
            "Requirement already satisfied: click in /usr/local/lib/python3.6/dist-packages (from sacremoses->transformers) (7.1.2)\n",
            "Requirement already satisfied: idna<3,>=2.5 in /usr/local/lib/python3.6/dist-packages (from requests->transformers) (2.10)\n",
            "Requirement already satisfied: chardet<4,>=3.0.2 in /usr/local/lib/python3.6/dist-packages (from requests->transformers) (3.0.4)\n",
            "Requirement already satisfied: certifi>=2017.4.17 in /usr/local/lib/python3.6/dist-packages (from requests->transformers) (2020.12.5)\n",
            "Requirement already satisfied: urllib3!=1.25.0,!=1.25.1,<1.26,>=1.21.1 in /usr/local/lib/python3.6/dist-packages (from requests->transformers) (1.24.3)\n",
            "Requirement already satisfied: pyparsing>=2.0.2 in /usr/local/lib/python3.6/dist-packages (from packaging->transformers) (2.4.7)\n"
          ],
          "name": "stdout"
        }
      ]
    },
    {
      "cell_type": "code",
      "metadata": {
        "id": "ayaHd9rx3zuu"
      },
      "source": [
        "import warnings\n",
        "warnings.filterwarnings(\"ignore\")"
      ],
      "execution_count": 2,
      "outputs": []
    },
    {
      "cell_type": "markdown",
      "metadata": {
        "id": "xp9NW-WRpYxC"
      },
      "source": [
        ""
      ]
    },
    {
      "cell_type": "code",
      "metadata": {
        "id": "sHqNZ_0r3spT"
      },
      "source": [
        "import os\n",
        "import matplotlib.pyplot as plt\n",
        "import numpy as np\n",
        "import pandas as pd\n",
        "import torch\n",
        "import torch.nn as nn\n",
        "import torch.nn.functional as F\n",
        "\n",
        "from sklearn.model_selection import train_test_split\n",
        "\n",
        "from torch.nn.utils.rnn import pad_sequence\n",
        "from torch.utils.data import Dataset, DataLoader\n",
        "\n",
        "from transformers import BertConfig, BertTokenizer, EncoderDecoderConfig, EncoderDecoderModel"
      ],
      "execution_count": 3,
      "outputs": []
    },
    {
      "cell_type": "markdown",
      "metadata": {
        "id": "vgTKa9bJ-prO"
      },
      "source": [
        "## Data"
      ]
    },
    {
      "cell_type": "code",
      "metadata": {
        "colab": {
          "base_uri": "https://localhost:8080/"
        },
        "id": "VF5TB0Qr18M-",
        "outputId": "446463a0-6172-47d8-d74b-e21de473a8e7"
      },
      "source": [
        "# Mount Google Drive\n",
        "from google.colab import drive # import drive from google colab\n",
        "\n",
        "ROOT = \"/content/drive\"     # default location for the drive\n",
        "print(ROOT)                 # print content of ROOT (Optional)\n",
        "\n",
        "drive.mount(ROOT)           # we mount the google drive at /content/drive"
      ],
      "execution_count": 4,
      "outputs": [
        {
          "output_type": "stream",
          "text": [
            "/content/drive\n",
            "Drive already mounted at /content/drive; to attempt to forcibly remount, call drive.mount(\"/content/drive\", force_remount=True).\n"
          ],
          "name": "stdout"
        }
      ]
    },
    {
      "cell_type": "code",
      "metadata": {
        "id": "NFU6TgRytEGD"
      },
      "source": [
        "DATA_DIR = os.path.join(ROOT, \"MyDrive\", \"nlp-deeplearning-ai-data\")\n",
        "\n",
        "REVIEWS_FILE = os.path.join(DATA_DIR, \"Reviews.csv\")\n",
        "MODEL_PATH = os.path.join(DATA_DIR, \"db2b-summarizer\")"
      ],
      "execution_count": 5,
      "outputs": []
    },
    {
      "cell_type": "code",
      "metadata": {
        "colab": {
          "base_uri": "https://localhost:8080/",
          "height": 683
        },
        "id": "3DLLd0Im2Hxr",
        "outputId": "91ac4a02-e7ea-489a-a604-411ddd0a691a"
      },
      "source": [
        "reviews_df = pd.read_csv(REVIEWS_FILE, nrows=1000)\n",
        "reviews_df.head()"
      ],
      "execution_count": 6,
      "outputs": [
        {
          "output_type": "execute_result",
          "data": {
            "text/html": [
              "<div>\n",
              "<style scoped>\n",
              "    .dataframe tbody tr th:only-of-type {\n",
              "        vertical-align: middle;\n",
              "    }\n",
              "\n",
              "    .dataframe tbody tr th {\n",
              "        vertical-align: top;\n",
              "    }\n",
              "\n",
              "    .dataframe thead th {\n",
              "        text-align: right;\n",
              "    }\n",
              "</style>\n",
              "<table border=\"1\" class=\"dataframe\">\n",
              "  <thead>\n",
              "    <tr style=\"text-align: right;\">\n",
              "      <th></th>\n",
              "      <th>Id</th>\n",
              "      <th>ProductId</th>\n",
              "      <th>UserId</th>\n",
              "      <th>ProfileName</th>\n",
              "      <th>HelpfulnessNumerator</th>\n",
              "      <th>HelpfulnessDenominator</th>\n",
              "      <th>Score</th>\n",
              "      <th>Time</th>\n",
              "      <th>Summary</th>\n",
              "      <th>Text</th>\n",
              "    </tr>\n",
              "  </thead>\n",
              "  <tbody>\n",
              "    <tr>\n",
              "      <th>0</th>\n",
              "      <td>1</td>\n",
              "      <td>B001E4KFG0</td>\n",
              "      <td>A3SGXH7AUHU8GW</td>\n",
              "      <td>delmartian</td>\n",
              "      <td>1</td>\n",
              "      <td>1</td>\n",
              "      <td>5</td>\n",
              "      <td>1303862400</td>\n",
              "      <td>Good Quality Dog Food</td>\n",
              "      <td>I have bought several of the Vitality canned d...</td>\n",
              "    </tr>\n",
              "    <tr>\n",
              "      <th>1</th>\n",
              "      <td>2</td>\n",
              "      <td>B00813GRG4</td>\n",
              "      <td>A1D87F6ZCVE5NK</td>\n",
              "      <td>dll pa</td>\n",
              "      <td>0</td>\n",
              "      <td>0</td>\n",
              "      <td>1</td>\n",
              "      <td>1346976000</td>\n",
              "      <td>Not as Advertised</td>\n",
              "      <td>Product arrived labeled as Jumbo Salted Peanut...</td>\n",
              "    </tr>\n",
              "    <tr>\n",
              "      <th>2</th>\n",
              "      <td>3</td>\n",
              "      <td>B000LQOCH0</td>\n",
              "      <td>ABXLMWJIXXAIN</td>\n",
              "      <td>Natalia Corres \"Natalia Corres\"</td>\n",
              "      <td>1</td>\n",
              "      <td>1</td>\n",
              "      <td>4</td>\n",
              "      <td>1219017600</td>\n",
              "      <td>\"Delight\" says it all</td>\n",
              "      <td>This is a confection that has been around a fe...</td>\n",
              "    </tr>\n",
              "    <tr>\n",
              "      <th>3</th>\n",
              "      <td>4</td>\n",
              "      <td>B000UA0QIQ</td>\n",
              "      <td>A395BORC6FGVXV</td>\n",
              "      <td>Karl</td>\n",
              "      <td>3</td>\n",
              "      <td>3</td>\n",
              "      <td>2</td>\n",
              "      <td>1307923200</td>\n",
              "      <td>Cough Medicine</td>\n",
              "      <td>If you are looking for the secret ingredient i...</td>\n",
              "    </tr>\n",
              "    <tr>\n",
              "      <th>4</th>\n",
              "      <td>5</td>\n",
              "      <td>B006K2ZZ7K</td>\n",
              "      <td>A1UQRSCLF8GW1T</td>\n",
              "      <td>Michael D. Bigham \"M. Wassir\"</td>\n",
              "      <td>0</td>\n",
              "      <td>0</td>\n",
              "      <td>5</td>\n",
              "      <td>1350777600</td>\n",
              "      <td>Great taffy</td>\n",
              "      <td>Great taffy at a great price.  There was a wid...</td>\n",
              "    </tr>\n",
              "  </tbody>\n",
              "</table>\n",
              "</div>"
            ],
            "text/plain": [
              "   Id  ...                                               Text\n",
              "0   1  ...  I have bought several of the Vitality canned d...\n",
              "1   2  ...  Product arrived labeled as Jumbo Salted Peanut...\n",
              "2   3  ...  This is a confection that has been around a fe...\n",
              "3   4  ...  If you are looking for the secret ingredient i...\n",
              "4   5  ...  Great taffy at a great price.  There was a wid...\n",
              "\n",
              "[5 rows x 10 columns]"
            ]
          },
          "metadata": {
            "tags": []
          },
          "execution_count": 6
        }
      ]
    },
    {
      "cell_type": "code",
      "metadata": {
        "colab": {
          "base_uri": "https://localhost:8080/"
        },
        "id": "9_VWGAPx3fgj",
        "outputId": "e75475e6-d5aa-40e8-f51b-99ae6def7586"
      },
      "source": [
        "len(reviews_df)"
      ],
      "execution_count": 7,
      "outputs": [
        {
          "output_type": "execute_result",
          "data": {
            "text/plain": [
              "1000"
            ]
          },
          "metadata": {
            "tags": []
          },
          "execution_count": 7
        }
      ]
    },
    {
      "cell_type": "code",
      "metadata": {
        "colab": {
          "base_uri": "https://localhost:8080/"
        },
        "id": "gvQMMzn6tJp5",
        "outputId": "f87bfb62-990c-45b0-ba4d-3e376814d229"
      },
      "source": [
        "tv_ids, test_ids = train_test_split(np.arange(len(reviews_df)), test_size=0.2, random_state=0)\n",
        "train_ids, val_ids = train_test_split(tv_ids, test_size=0.1, random_state=0)\n",
        "\n",
        "len(train_ids), len(val_ids), len(test_ids)"
      ],
      "execution_count": 8,
      "outputs": [
        {
          "output_type": "execute_result",
          "data": {
            "text/plain": [
              "(720, 80, 200)"
            ]
          },
          "metadata": {
            "tags": []
          },
          "execution_count": 8
        }
      ]
    },
    {
      "cell_type": "code",
      "metadata": {
        "id": "6lQB8jDcijZ0"
      },
      "source": [
        "class IndexDataset(Dataset):\n",
        "  def __init__(self, reviews_df, index_list):\n",
        "    super().__init__()\n",
        "    self.reviews_df = reviews_df\n",
        "    self.index_list = index_list\n",
        "\n",
        "  def __len__(self):\n",
        "    return len(self.index_list)\n",
        "\n",
        "  def __getitem__(self, idx):\n",
        "    ix = self.index_list[idx]\n",
        "    row = self.reviews_df.iloc[ix]\n",
        "    return row[\"Text\"], row[\"Summary\"]\n",
        "\n",
        "\n",
        "train_ds = IndexDataset(reviews_df, train_ids)\n",
        "val_ds = IndexDataset(reviews_df, val_ids)\n",
        "test_ds = IndexDataset(reviews_df, test_ids)"
      ],
      "execution_count": 9,
      "outputs": []
    },
    {
      "cell_type": "code",
      "metadata": {
        "id": "C9liEimHEadI"
      },
      "source": [
        "BATCH_SIZE = 16\n",
        "\n",
        "train_dl = DataLoader(train_ds, batch_size=BATCH_SIZE, shuffle=True, num_workers=4)\n",
        "val_dl = DataLoader(val_ds, batch_size=BATCH_SIZE, shuffle=False, num_workers=4)\n",
        "test_dl = DataLoader(test_ds, batch_size=1, shuffle=False, num_workers=4)"
      ],
      "execution_count": 10,
      "outputs": []
    },
    {
      "cell_type": "markdown",
      "metadata": {
        "id": "69e8Uqf1SGof"
      },
      "source": [
        "## Model\n",
        "\n",
        "DistilBERT is used as the Encoder and BERT as decoder, since having BERT on both encoder and decoder results in running out of GPU memory."
      ]
    },
    {
      "cell_type": "code",
      "metadata": {
        "id": "3m0LwSz4fqW8"
      },
      "source": [
        "tokenizer = BertTokenizer.from_pretrained(\"bert-base-uncased\")"
      ],
      "execution_count": 12,
      "outputs": []
    },
    {
      "cell_type": "code",
      "metadata": {
        "id": "0LSLyXrgSIHt"
      },
      "source": [
        "encoder_config = BertConfig(num_hidden_layers=3)\n",
        "decoder_config = BertConfig(num_hidden_layers=3)\n",
        "config = EncoderDecoderConfig.from_encoder_decoder_configs(\n",
        "    encoder_config, decoder_config)\n",
        "model = EncoderDecoderModel(config=config)"
      ],
      "execution_count": 14,
      "outputs": []
    },
    {
      "cell_type": "code",
      "metadata": {
        "id": "g_eeuTlNRs5s"
      },
      "source": [
        "dev = torch.device(\"cuda\" if torch.cuda.is_available() else \"cpu\")\n",
        "model = model.to(dev)"
      ],
      "execution_count": 15,
      "outputs": []
    },
    {
      "cell_type": "markdown",
      "metadata": {
        "id": "5b_g2PAsS1KB"
      },
      "source": [
        "## Training Loop"
      ]
    },
    {
      "cell_type": "code",
      "metadata": {
        "id": "8vx1qwgqTHwl"
      },
      "source": [
        "LEARNING_RATE = 1e-3\n",
        "NUM_EPOCHS = 20"
      ],
      "execution_count": 16,
      "outputs": []
    },
    {
      "cell_type": "code",
      "metadata": {
        "id": "VCSH3f0W0Lqh"
      },
      "source": [
        "optimizer = torch.optim.AdamW(model.parameters(), lr=LEARNING_RATE)"
      ],
      "execution_count": 17,
      "outputs": []
    },
    {
      "cell_type": "code",
      "metadata": {
        "id": "aRbPCe--63bG"
      },
      "source": [
        "def train(model, tokenizer, train_dl, optimizer):\n",
        "  epoch_loss, epoch_acc, num_batches = 0, 0, 0\n",
        "  model.train()\n",
        "  for batch in train_dl:\n",
        "\n",
        "    texts, summaries = batch\n",
        "    summaries = [\" \".join([\"[BOS]\", x, \"[EOS]\"]) for x in summaries]\n",
        "    # print(\"summaries:\", summaries)\n",
        "\n",
        "    inputs = tokenizer(texts, return_tensors=\"pt\", add_special_tokens=True,\n",
        "                       truncation=True, padding=True)\n",
        "    labels = tokenizer(summaries, return_tensors=\"pt\", add_special_tokens=True,\n",
        "                       truncation=True, padding=True)\n",
        "\n",
        "    input_ids = inputs.input_ids\n",
        "    decoder_input_ids = labels.input_ids[:, 0:-1]\n",
        "    decoder_label_ids = labels.input_ids[:, 1:]\n",
        "\n",
        "    input_ids = input_ids.to(dev)\n",
        "    decoder_input_ids = decoder_input_ids.to(dev)\n",
        "    decoder_label_ids = decoder_label_ids.to(dev)\n",
        "\n",
        "    outputs = model(input_ids=input_ids, decoder_input_ids=decoder_input_ids,\n",
        "                    labels=decoder_label_ids)\n",
        "    loss, logits = outputs.loss, outputs.logits\n",
        "\n",
        "    epoch_loss += loss.item()\n",
        "    _, predictions = torch.max(outputs.logits.data, 2)\n",
        "    epoch_acc += (predictions == decoder_label_ids).sum().item() / len(summaries)\n",
        "    num_batches += 1\n",
        "\n",
        "    loss.backward()\n",
        "    optimizer.step()\n",
        "    optimizer.zero_grad()\n",
        "\n",
        "  return epoch_loss / num_batches, epoch_acc / num_batches\n",
        "\n",
        "\n",
        "def evaluate(model, tokenizer, val_dl, optimizer):\n",
        "  epoch_loss, epoch_acc, num_batches = 0, 0, 0\n",
        "  model.eval()\n",
        "  for batch in val_dl:\n",
        "    texts, summaries = batch\n",
        "    summaries = [\" \".join([\"[BOS]\", x, \"[EOS]\"]) for x in summaries]\n",
        "\n",
        "    inputs = tokenizer(texts, return_tensors=\"pt\", add_special_tokens=True,\n",
        "                       truncation=True, padding=True)\n",
        "    labels = tokenizer(summaries, return_tensors=\"pt\", add_special_tokens=True,\n",
        "                       truncation=True, padding=True)\n",
        "\n",
        "    input_ids = inputs.input_ids\n",
        "    decoder_input_ids = labels.input_ids[:, 0:-1]\n",
        "    decoder_label_ids = labels.input_ids[:, 1:]\n",
        "\n",
        "    input_ids = input_ids.to(dev)\n",
        "    decoder_input_ids = decoder_input_ids.to(dev)\n",
        "    decoder_label_ids = decoder_label_ids.to(dev)\n",
        "\n",
        "    outputs = model(input_ids=input_ids, decoder_input_ids=decoder_input_ids,\n",
        "                    labels=decoder_label_ids)\n",
        "    loss, logits = outputs.loss, outputs.logits\n",
        "\n",
        "    epoch_loss += loss.item()\n",
        "    _, predictions = torch.max(outputs.logits.data, 2)\n",
        "    epoch_acc += (predictions == decoder_label_ids).sum().item() / len(summaries)\n",
        "    num_batches += 1\n",
        "\n",
        "  return epoch_loss / num_batches, epoch_acc / num_batches"
      ],
      "execution_count": 18,
      "outputs": []
    },
    {
      "cell_type": "code",
      "metadata": {
        "colab": {
          "base_uri": "https://localhost:8080/"
        },
        "id": "db0oqCkIR3ij",
        "outputId": "ba9dad34-3260-4976-b740-0fe88b68da63"
      },
      "source": [
        "losses, accs, val_losses, val_accs = [], [], [], []\n",
        "for epoch in range(1, NUM_EPOCHS + 1):\n",
        "  train_loss, train_acc = train(model, tokenizer, train_dl, optimizer)\n",
        "  val_loss, val_acc = evaluate(model, tokenizer, val_dl, optimizer)\n",
        "  print(\"Epoch {:d} | loss: {:.3f}, acc: {:.3f} | val_loss: {:.3f}, val_acc: {:.3f}\".format(\n",
        "      epoch, train_loss, train_acc, val_loss, val_acc))\n",
        "  losses.append(train_loss)\n",
        "  accs.append(train_acc)\n",
        "  val_losses.append(val_loss)\n",
        "  val_accs.append(val_acc)\n"
      ],
      "execution_count": 19,
      "outputs": [
        {
          "output_type": "stream",
          "text": [
            "Epoch 1 | loss: 4.253, acc: 9.606 | val_loss: 3.796, val_acc: 7.275\n",
            "Epoch 2 | loss: 3.369, acc: 9.717 | val_loss: 3.785, val_acc: 7.275\n",
            "Epoch 3 | loss: 3.385, acc: 9.517 | val_loss: 3.807, val_acc: 7.275\n",
            "Epoch 4 | loss: 3.403, acc: 9.406 | val_loss: 3.779, val_acc: 7.275\n",
            "Epoch 5 | loss: 3.338, acc: 9.717 | val_loss: 3.822, val_acc: 7.275\n",
            "Epoch 6 | loss: 3.406, acc: 8.917 | val_loss: 3.782, val_acc: 7.275\n",
            "Epoch 7 | loss: 3.344, acc: 9.428 | val_loss: 3.814, val_acc: 7.275\n",
            "Epoch 8 | loss: 3.321, acc: 9.672 | val_loss: 3.815, val_acc: 7.275\n",
            "Epoch 9 | loss: 3.335, acc: 9.450 | val_loss: 3.808, val_acc: 7.275\n",
            "Epoch 10 | loss: 3.292, acc: 9.872 | val_loss: 3.820, val_acc: 7.275\n",
            "Epoch 11 | loss: 3.337, acc: 9.339 | val_loss: 3.814, val_acc: 7.275\n",
            "Epoch 12 | loss: 3.358, acc: 9.294 | val_loss: 3.808, val_acc: 7.275\n",
            "Epoch 13 | loss: 3.306, acc: 9.672 | val_loss: 3.825, val_acc: 7.275\n",
            "Epoch 14 | loss: 3.306, acc: 9.539 | val_loss: 3.825, val_acc: 7.275\n",
            "Epoch 15 | loss: 3.291, acc: 9.694 | val_loss: 3.821, val_acc: 7.275\n",
            "Epoch 16 | loss: 3.329, acc: 9.294 | val_loss: 3.832, val_acc: 7.275\n",
            "Epoch 17 | loss: 3.282, acc: 9.717 | val_loss: 3.856, val_acc: 7.275\n",
            "Epoch 18 | loss: 3.287, acc: 9.717 | val_loss: 3.837, val_acc: 7.275\n",
            "Epoch 19 | loss: 3.306, acc: 9.628 | val_loss: 3.884, val_acc: 7.275\n",
            "Epoch 20 | loss: 3.324, acc: 9.428 | val_loss: 3.846, val_acc: 7.275\n"
          ],
          "name": "stdout"
        }
      ]
    },
    {
      "cell_type": "code",
      "metadata": {
        "colab": {
          "base_uri": "https://localhost:8080/",
          "height": 279
        },
        "id": "7M0RyPpv1t62",
        "outputId": "f1157283-8eaa-45c6-d346-88fd9452b76a"
      },
      "source": [
        "plt.subplot(2, 1, 1)\n",
        "plt.plot(losses, label=\"train\")\n",
        "plt.plot(val_losses, label=\"validation\")\n",
        "plt.xlabel(\"epoch\")\n",
        "plt.ylabel(\"loss\")\n",
        "plt.legend(loc=\"best\")\n",
        "\n",
        "plt.subplot(2, 1, 2)\n",
        "plt.plot(accs, label=\"train\")\n",
        "plt.plot(val_accs, label=\"validation\")\n",
        "plt.xlabel(\"epoch\")\n",
        "plt.ylabel(\"accuracy\")\n",
        "plt.legend(loc=\"best\")\n",
        "\n",
        "_ = plt.show()"
      ],
      "execution_count": 20,
      "outputs": [
        {
          "output_type": "display_data",
          "data": {
            "image/png": "[encoded data removed]",
            "text/plain": [
              "<Figure size 432x288 with 2 Axes>"
            ]
          },
          "metadata": {
            "tags": [],
            "needs_background": "light"
          }
        }
      ]
    },
    {
      "cell_type": "markdown",
      "metadata": {
        "id": "xoH1Pd3cJDKQ"
      },
      "source": [
        "## Evaluate on Test"
      ]
    },
    {
      "cell_type": "code",
      "metadata": {
        "id": "Flj9iU1mGGp8"
      },
      "source": [
        "model.save_pretrained(MODEL_PATH)"
      ],
      "execution_count": 21,
      "outputs": []
    },
    {
      "cell_type": "code",
      "metadata": {
        "id": "Pf20mMRyJd9j"
      },
      "source": [
        "config = EncoderDecoderConfig.from_pretrained(MODEL_PATH)\n",
        "saved_model = EncoderDecoderModel.from_pretrained(MODEL_PATH, config=config)"
      ],
      "execution_count": 25,
      "outputs": []
    },
    {
      "cell_type": "code",
      "metadata": {
        "colab": {
          "base_uri": "https://localhost:8080/"
        },
        "id": "3ohSpgFRJvnA",
        "outputId": "81367864-e11f-4212-c1ff-3a4f17b0e2d9"
      },
      "source": [
        "for text, summary in test_dl:\n",
        "\n",
        "  print(\"text:\", text)\n",
        "  print(\"summary:\", summary)\n",
        "\n",
        "  input_ids = torch.tensor(tokenizer.encode(text)).unsqueeze(0)\n",
        "  label_ids = torch.tensor(tokenizer.encode(summary)).unsqueeze(0)\n",
        "\n",
        "  decoder_start_token_id = tokenizer.convert_tokens_to_ids([\"[EOS]\"])[0]\n",
        "  generated = saved_model.generate(\n",
        "      input_ids, \n",
        "      decoder_start_token_id=decoder_start_token_id)\n",
        "  print(\"generated:\", \n",
        "        tokenizer.convert_tokens_to_string(tokenizer.convert_ids_to_tokens(generated[0])))\n",
        "  break"
      ],
      "execution_count": 27,
      "outputs": [
        {
          "output_type": "stream",
          "text": [
            "text: ('So far I have had the habanero and the medium sauces and they were amazing. My fiance and I use them nearly daily and I just picked up 3 more. It goes really well on all sorts of dishes to add the extra kick.<br /><br />The sauce itself lasts a lot longer than it appears. It is thick and a bottle will last us a couple of weeks of heavy use. We love to use it for breakfast on eggs or in burritos and for dinners or soups for added spice.',)\n",
            "summary: ('Best all around hot sauce',)\n",
            "generated: [UNK]sssssssssssssssssss\n"
          ],
          "name": "stdout"
        }
      ]
    },
    {
      "cell_type": "code",
      "metadata": {
        "id": "nLvPofTvnwa3"
      },
      "source": [
        ""
      ],
      "execution_count": 23,
      "outputs": []
    }
  ]
}