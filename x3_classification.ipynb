{
  "nbformat": 4,
  "nbformat_minor": 0,
  "metadata": {
    "colab": {
      "name": "x3_classification.ipynb",
      "provenance": [],
      "collapsed_sections": [],
      "authorship_tag": "ABX9TyP4IUTW8EAfza9M3ds2zM95",
      "include_colab_link": true
    },
    "kernelspec": {
      "name": "python3",
      "display_name": "Python 3"
    },
    "accelerator": "GPU"
  },
  "cells": [
    {
      "cell_type": "markdown",
      "metadata": {
        "id": "view-in-github",
        "colab_type": "text"
      },
      "source": [
        "<a href=\"https://colab.research.google.com/github/sujitpal/nlp-deeplearning-ai-examples/blob/master/x3_classification.ipynb\" target=\"_parent\"><img src=\"https://colab.research.google.com/assets/colab-badge.svg\" alt=\"Open In Colab\"/></a>"
      ]
    },
    {
      "cell_type": "markdown",
      "metadata": {
        "id": "8mnbwIqIfMJu"
      },
      "source": [
        "# Credit Card Repayment Classifier\n",
        "\n",
        "Simple Dense network to predict if a credit card customer will pay or default next month, given their attributes and payment history.\n",
        "\n",
        "Uses the [Default of Credit Card dataset](https://archive.ics.uci.edu/ml/datasets/default+of+credit+card+clients) from the UCI Machine Learning Repository.\n"
      ]
    },
    {
      "cell_type": "code",
      "metadata": {
        "id": "pgNOGNsMBeeQ"
      },
      "source": [
        "import warnings\n",
        "warnings.filterwarnings(\"ignore\")"
      ],
      "execution_count": null,
      "outputs": []
    },
    {
      "cell_type": "code",
      "metadata": {
        "id": "LVllYVedHAhJ"
      },
      "source": [
        "import os\n",
        "import matplotlib.pyplot as plt\n",
        "import numpy as np\n",
        "import pandas as pd\n",
        "import torch\n",
        "import torch.nn as nn\n",
        "import torch.nn.functional as F\n",
        "\n",
        "from sklearn.model_selection import train_test_split\n",
        "from torch.utils.data import TensorDataset, DataLoader\n",
        "\n",
        "%matplotlib inline"
      ],
      "execution_count": null,
      "outputs": []
    },
    {
      "cell_type": "code",
      "metadata": {
        "id": "SP1np0DYAi1b",
        "colab": {
          "base_uri": "https://localhost:8080/",
          "height": 71
        },
        "outputId": "c6827d9e-6b3f-48fd-d21e-ffe3bffec867"
      },
      "source": [
        "# Mount Google Drive\n",
        "from google.colab import drive # import drive from google colab\n",
        "\n",
        "ROOT = \"/content/drive\"     # default location for the drive\n",
        "print(ROOT)                 # print content of ROOT (Optional)\n",
        "\n",
        "drive.mount(ROOT)           # we mount the google drive at /content/drive"
      ],
      "execution_count": null,
      "outputs": [
        {
          "output_type": "stream",
          "text": [
            "/content/drive\n",
            "Drive already mounted at /content/drive; to attempt to forcibly remount, call drive.mount(\"/content/drive\", force_remount=True).\n"
          ],
          "name": "stdout"
        }
      ]
    },
    {
      "cell_type": "code",
      "metadata": {
        "id": "ypa8NyMWGtKf"
      },
      "source": [
        "DATA_DIR = \"drive/My Drive/nlp-deeplearning-ai-data\""
      ],
      "execution_count": null,
      "outputs": []
    },
    {
      "cell_type": "code",
      "metadata": {
        "id": "vuEPJlymG9YR",
        "colab": {
          "base_uri": "https://localhost:8080/",
          "height": 224
        },
        "outputId": "a72ea60f-0b18-4920-8fc0-8569a4f27c2f"
      },
      "source": [
        "cc_df = pd.read_csv(os.path.join(DATA_DIR, \"UCI_Credit_Card.csv\"))\n",
        "cc_df.head()"
      ],
      "execution_count": null,
      "outputs": [
        {
          "output_type": "execute_result",
          "data": {
            "text/html": [
              "<div>\n",
              "<style scoped>\n",
              "    .dataframe tbody tr th:only-of-type {\n",
              "        vertical-align: middle;\n",
              "    }\n",
              "\n",
              "    .dataframe tbody tr th {\n",
              "        vertical-align: top;\n",
              "    }\n",
              "\n",
              "    .dataframe thead th {\n",
              "        text-align: right;\n",
              "    }\n",
              "</style>\n",
              "<table border=\"1\" class=\"dataframe\">\n",
              "  <thead>\n",
              "    <tr style=\"text-align: right;\">\n",
              "      <th></th>\n",
              "      <th>ID</th>\n",
              "      <th>LIMIT_BAL</th>\n",
              "      <th>SEX</th>\n",
              "      <th>EDUCATION</th>\n",
              "      <th>MARRIAGE</th>\n",
              "      <th>AGE</th>\n",
              "      <th>PAY_0</th>\n",
              "      <th>PAY_2</th>\n",
              "      <th>PAY_3</th>\n",
              "      <th>PAY_4</th>\n",
              "      <th>PAY_5</th>\n",
              "      <th>PAY_6</th>\n",
              "      <th>BILL_AMT1</th>\n",
              "      <th>BILL_AMT2</th>\n",
              "      <th>BILL_AMT3</th>\n",
              "      <th>BILL_AMT4</th>\n",
              "      <th>BILL_AMT5</th>\n",
              "      <th>BILL_AMT6</th>\n",
              "      <th>PAY_AMT1</th>\n",
              "      <th>PAY_AMT2</th>\n",
              "      <th>PAY_AMT3</th>\n",
              "      <th>PAY_AMT4</th>\n",
              "      <th>PAY_AMT5</th>\n",
              "      <th>PAY_AMT6</th>\n",
              "      <th>default.payment.next.month</th>\n",
              "    </tr>\n",
              "  </thead>\n",
              "  <tbody>\n",
              "    <tr>\n",
              "      <th>0</th>\n",
              "      <td>1</td>\n",
              "      <td>20000.0</td>\n",
              "      <td>2</td>\n",
              "      <td>2</td>\n",
              "      <td>1</td>\n",
              "      <td>24</td>\n",
              "      <td>2</td>\n",
              "      <td>2</td>\n",
              "      <td>-1</td>\n",
              "      <td>-1</td>\n",
              "      <td>-2</td>\n",
              "      <td>-2</td>\n",
              "      <td>3913.0</td>\n",
              "      <td>3102.0</td>\n",
              "      <td>689.0</td>\n",
              "      <td>0.0</td>\n",
              "      <td>0.0</td>\n",
              "      <td>0.0</td>\n",
              "      <td>0.0</td>\n",
              "      <td>689.0</td>\n",
              "      <td>0.0</td>\n",
              "      <td>0.0</td>\n",
              "      <td>0.0</td>\n",
              "      <td>0.0</td>\n",
              "      <td>1</td>\n",
              "    </tr>\n",
              "    <tr>\n",
              "      <th>1</th>\n",
              "      <td>2</td>\n",
              "      <td>120000.0</td>\n",
              "      <td>2</td>\n",
              "      <td>2</td>\n",
              "      <td>2</td>\n",
              "      <td>26</td>\n",
              "      <td>-1</td>\n",
              "      <td>2</td>\n",
              "      <td>0</td>\n",
              "      <td>0</td>\n",
              "      <td>0</td>\n",
              "      <td>2</td>\n",
              "      <td>2682.0</td>\n",
              "      <td>1725.0</td>\n",
              "      <td>2682.0</td>\n",
              "      <td>3272.0</td>\n",
              "      <td>3455.0</td>\n",
              "      <td>3261.0</td>\n",
              "      <td>0.0</td>\n",
              "      <td>1000.0</td>\n",
              "      <td>1000.0</td>\n",
              "      <td>1000.0</td>\n",
              "      <td>0.0</td>\n",
              "      <td>2000.0</td>\n",
              "      <td>1</td>\n",
              "    </tr>\n",
              "    <tr>\n",
              "      <th>2</th>\n",
              "      <td>3</td>\n",
              "      <td>90000.0</td>\n",
              "      <td>2</td>\n",
              "      <td>2</td>\n",
              "      <td>2</td>\n",
              "      <td>34</td>\n",
              "      <td>0</td>\n",
              "      <td>0</td>\n",
              "      <td>0</td>\n",
              "      <td>0</td>\n",
              "      <td>0</td>\n",
              "      <td>0</td>\n",
              "      <td>29239.0</td>\n",
              "      <td>14027.0</td>\n",
              "      <td>13559.0</td>\n",
              "      <td>14331.0</td>\n",
              "      <td>14948.0</td>\n",
              "      <td>15549.0</td>\n",
              "      <td>1518.0</td>\n",
              "      <td>1500.0</td>\n",
              "      <td>1000.0</td>\n",
              "      <td>1000.0</td>\n",
              "      <td>1000.0</td>\n",
              "      <td>5000.0</td>\n",
              "      <td>0</td>\n",
              "    </tr>\n",
              "    <tr>\n",
              "      <th>3</th>\n",
              "      <td>4</td>\n",
              "      <td>50000.0</td>\n",
              "      <td>2</td>\n",
              "      <td>2</td>\n",
              "      <td>1</td>\n",
              "      <td>37</td>\n",
              "      <td>0</td>\n",
              "      <td>0</td>\n",
              "      <td>0</td>\n",
              "      <td>0</td>\n",
              "      <td>0</td>\n",
              "      <td>0</td>\n",
              "      <td>46990.0</td>\n",
              "      <td>48233.0</td>\n",
              "      <td>49291.0</td>\n",
              "      <td>28314.0</td>\n",
              "      <td>28959.0</td>\n",
              "      <td>29547.0</td>\n",
              "      <td>2000.0</td>\n",
              "      <td>2019.0</td>\n",
              "      <td>1200.0</td>\n",
              "      <td>1100.0</td>\n",
              "      <td>1069.0</td>\n",
              "      <td>1000.0</td>\n",
              "      <td>0</td>\n",
              "    </tr>\n",
              "    <tr>\n",
              "      <th>4</th>\n",
              "      <td>5</td>\n",
              "      <td>50000.0</td>\n",
              "      <td>1</td>\n",
              "      <td>2</td>\n",
              "      <td>1</td>\n",
              "      <td>57</td>\n",
              "      <td>-1</td>\n",
              "      <td>0</td>\n",
              "      <td>-1</td>\n",
              "      <td>0</td>\n",
              "      <td>0</td>\n",
              "      <td>0</td>\n",
              "      <td>8617.0</td>\n",
              "      <td>5670.0</td>\n",
              "      <td>35835.0</td>\n",
              "      <td>20940.0</td>\n",
              "      <td>19146.0</td>\n",
              "      <td>19131.0</td>\n",
              "      <td>2000.0</td>\n",
              "      <td>36681.0</td>\n",
              "      <td>10000.0</td>\n",
              "      <td>9000.0</td>\n",
              "      <td>689.0</td>\n",
              "      <td>679.0</td>\n",
              "      <td>0</td>\n",
              "    </tr>\n",
              "  </tbody>\n",
              "</table>\n",
              "</div>"
            ],
            "text/plain": [
              "   ID  LIMIT_BAL  SEX  ...  PAY_AMT5  PAY_AMT6  default.payment.next.month\n",
              "0   1    20000.0    2  ...       0.0       0.0                           1\n",
              "1   2   120000.0    2  ...       0.0    2000.0                           1\n",
              "2   3    90000.0    2  ...    1000.0    5000.0                           0\n",
              "3   4    50000.0    2  ...    1069.0    1000.0                           0\n",
              "4   5    50000.0    1  ...     689.0     679.0                           0\n",
              "\n",
              "[5 rows x 25 columns]"
            ]
          },
          "metadata": {
            "tags": []
          },
          "execution_count": 5
        }
      ]
    },
    {
      "cell_type": "markdown",
      "metadata": {
        "id": "uLJmWZRnI73M"
      },
      "source": [
        "### Drop Unnecessary Column after Analysis"
      ]
    },
    {
      "cell_type": "code",
      "metadata": {
        "id": "tvbIVmHqHPA1",
        "colab": {
          "base_uri": "https://localhost:8080/",
          "height": 34
        },
        "outputId": "f2118714-aeb1-4a5c-cae8-3ad4fc47d4e7"
      },
      "source": [
        "cleancc_df = cc_df.drop(columns=[\"ID\", \"SEX\"])\n",
        "cleancc_df.shape"
      ],
      "execution_count": null,
      "outputs": [
        {
          "output_type": "execute_result",
          "data": {
            "text/plain": [
              "(30000, 23)"
            ]
          },
          "metadata": {
            "tags": []
          },
          "execution_count": 6
        }
      ]
    },
    {
      "cell_type": "markdown",
      "metadata": {
        "id": "dEb2fhQNJHMu"
      },
      "source": [
        "### Remove Null Values"
      ]
    },
    {
      "cell_type": "code",
      "metadata": {
        "id": "AiMqt86SIIih",
        "colab": {
          "base_uri": "https://localhost:8080/",
          "height": 762
        },
        "outputId": "b41ac76f-41e4-47c7-d836-3cc9a164df6c"
      },
      "source": [
        "total = cleancc_df.isnull().sum()\n",
        "percent = cleancc_df.isnull().sum() / cleancc_df.isnull().count()\n",
        "pd.concat([total, percent], axis=1, keys=[\"TOTAL\", \"PERCENT\"])"
      ],
      "execution_count": null,
      "outputs": [
        {
          "output_type": "execute_result",
          "data": {
            "text/html": [
              "<div>\n",
              "<style scoped>\n",
              "    .dataframe tbody tr th:only-of-type {\n",
              "        vertical-align: middle;\n",
              "    }\n",
              "\n",
              "    .dataframe tbody tr th {\n",
              "        vertical-align: top;\n",
              "    }\n",
              "\n",
              "    .dataframe thead th {\n",
              "        text-align: right;\n",
              "    }\n",
              "</style>\n",
              "<table border=\"1\" class=\"dataframe\">\n",
              "  <thead>\n",
              "    <tr style=\"text-align: right;\">\n",
              "      <th></th>\n",
              "      <th>TOTAL</th>\n",
              "      <th>PERCENT</th>\n",
              "    </tr>\n",
              "  </thead>\n",
              "  <tbody>\n",
              "    <tr>\n",
              "      <th>LIMIT_BAL</th>\n",
              "      <td>0</td>\n",
              "      <td>0.0</td>\n",
              "    </tr>\n",
              "    <tr>\n",
              "      <th>EDUCATION</th>\n",
              "      <td>0</td>\n",
              "      <td>0.0</td>\n",
              "    </tr>\n",
              "    <tr>\n",
              "      <th>MARRIAGE</th>\n",
              "      <td>0</td>\n",
              "      <td>0.0</td>\n",
              "    </tr>\n",
              "    <tr>\n",
              "      <th>AGE</th>\n",
              "      <td>0</td>\n",
              "      <td>0.0</td>\n",
              "    </tr>\n",
              "    <tr>\n",
              "      <th>PAY_0</th>\n",
              "      <td>0</td>\n",
              "      <td>0.0</td>\n",
              "    </tr>\n",
              "    <tr>\n",
              "      <th>PAY_2</th>\n",
              "      <td>0</td>\n",
              "      <td>0.0</td>\n",
              "    </tr>\n",
              "    <tr>\n",
              "      <th>PAY_3</th>\n",
              "      <td>0</td>\n",
              "      <td>0.0</td>\n",
              "    </tr>\n",
              "    <tr>\n",
              "      <th>PAY_4</th>\n",
              "      <td>0</td>\n",
              "      <td>0.0</td>\n",
              "    </tr>\n",
              "    <tr>\n",
              "      <th>PAY_5</th>\n",
              "      <td>0</td>\n",
              "      <td>0.0</td>\n",
              "    </tr>\n",
              "    <tr>\n",
              "      <th>PAY_6</th>\n",
              "      <td>0</td>\n",
              "      <td>0.0</td>\n",
              "    </tr>\n",
              "    <tr>\n",
              "      <th>BILL_AMT1</th>\n",
              "      <td>0</td>\n",
              "      <td>0.0</td>\n",
              "    </tr>\n",
              "    <tr>\n",
              "      <th>BILL_AMT2</th>\n",
              "      <td>0</td>\n",
              "      <td>0.0</td>\n",
              "    </tr>\n",
              "    <tr>\n",
              "      <th>BILL_AMT3</th>\n",
              "      <td>0</td>\n",
              "      <td>0.0</td>\n",
              "    </tr>\n",
              "    <tr>\n",
              "      <th>BILL_AMT4</th>\n",
              "      <td>0</td>\n",
              "      <td>0.0</td>\n",
              "    </tr>\n",
              "    <tr>\n",
              "      <th>BILL_AMT5</th>\n",
              "      <td>0</td>\n",
              "      <td>0.0</td>\n",
              "    </tr>\n",
              "    <tr>\n",
              "      <th>BILL_AMT6</th>\n",
              "      <td>0</td>\n",
              "      <td>0.0</td>\n",
              "    </tr>\n",
              "    <tr>\n",
              "      <th>PAY_AMT1</th>\n",
              "      <td>0</td>\n",
              "      <td>0.0</td>\n",
              "    </tr>\n",
              "    <tr>\n",
              "      <th>PAY_AMT2</th>\n",
              "      <td>0</td>\n",
              "      <td>0.0</td>\n",
              "    </tr>\n",
              "    <tr>\n",
              "      <th>PAY_AMT3</th>\n",
              "      <td>0</td>\n",
              "      <td>0.0</td>\n",
              "    </tr>\n",
              "    <tr>\n",
              "      <th>PAY_AMT4</th>\n",
              "      <td>0</td>\n",
              "      <td>0.0</td>\n",
              "    </tr>\n",
              "    <tr>\n",
              "      <th>PAY_AMT5</th>\n",
              "      <td>0</td>\n",
              "      <td>0.0</td>\n",
              "    </tr>\n",
              "    <tr>\n",
              "      <th>PAY_AMT6</th>\n",
              "      <td>0</td>\n",
              "      <td>0.0</td>\n",
              "    </tr>\n",
              "    <tr>\n",
              "      <th>default.payment.next.month</th>\n",
              "      <td>0</td>\n",
              "      <td>0.0</td>\n",
              "    </tr>\n",
              "  </tbody>\n",
              "</table>\n",
              "</div>"
            ],
            "text/plain": [
              "                            TOTAL  PERCENT\n",
              "LIMIT_BAL                       0      0.0\n",
              "EDUCATION                       0      0.0\n",
              "MARRIAGE                        0      0.0\n",
              "AGE                             0      0.0\n",
              "PAY_0                           0      0.0\n",
              "PAY_2                           0      0.0\n",
              "PAY_3                           0      0.0\n",
              "PAY_4                           0      0.0\n",
              "PAY_5                           0      0.0\n",
              "PAY_6                           0      0.0\n",
              "BILL_AMT1                       0      0.0\n",
              "BILL_AMT2                       0      0.0\n",
              "BILL_AMT3                       0      0.0\n",
              "BILL_AMT4                       0      0.0\n",
              "BILL_AMT5                       0      0.0\n",
              "BILL_AMT6                       0      0.0\n",
              "PAY_AMT1                        0      0.0\n",
              "PAY_AMT2                        0      0.0\n",
              "PAY_AMT3                        0      0.0\n",
              "PAY_AMT4                        0      0.0\n",
              "PAY_AMT5                        0      0.0\n",
              "PAY_AMT6                        0      0.0\n",
              "default.payment.next.month      0      0.0"
            ]
          },
          "metadata": {
            "tags": []
          },
          "execution_count": 7
        }
      ]
    },
    {
      "cell_type": "markdown",
      "metadata": {
        "id": "BBtYT3_TJLq9"
      },
      "source": [
        "### Remove Outliers"
      ]
    },
    {
      "cell_type": "code",
      "metadata": {
        "id": "yrKN7vSTIbWN",
        "colab": {
          "base_uri": "https://localhost:8080/",
          "height": 408
        },
        "outputId": "d74e97d1-152f-4219-ca0e-68d0ec62a996"
      },
      "source": [
        "num_rows = len(cleancc_df)\n",
        "for col in cleancc_df.columns:\n",
        "  col_values = cleancc_df[col].values\n",
        "  mean_val, std_val = np.mean(col_values), np.std(col_values)\n",
        "  col_min, col_max = mean_val - 3 * std_val, mean_val + 3 * std_val\n",
        "  count = 0\n",
        "  for col_value in col_values:\n",
        "    if col_value < col_min or col_value > col_max:\n",
        "      count += 1\n",
        "  print(\"{:s} -> {:.3f}% outliers\".format(col, count * 100 / num_rows))"
      ],
      "execution_count": null,
      "outputs": [
        {
          "output_type": "stream",
          "text": [
            "LIMIT_BAL -> 0.433% outliers\n",
            "EDUCATION -> 1.103% outliers\n",
            "MARRIAGE -> 0.000% outliers\n",
            "AGE -> 0.470% outliers\n",
            "PAY_0 -> 0.470% outliers\n",
            "PAY_2 -> 0.523% outliers\n",
            "PAY_3 -> 0.500% outliers\n",
            "PAY_4 -> 0.563% outliers\n",
            "PAY_5 -> 0.547% outliers\n",
            "PAY_6 -> 0.430% outliers\n",
            "BILL_AMT1 -> 2.287% outliers\n",
            "BILL_AMT2 -> 2.233% outliers\n",
            "BILL_AMT3 -> 2.203% outliers\n",
            "BILL_AMT4 -> 2.267% outliers\n",
            "BILL_AMT5 -> 2.170% outliers\n",
            "BILL_AMT6 -> 2.170% outliers\n",
            "PAY_AMT1 -> 1.300% outliers\n",
            "PAY_AMT2 -> 1.023% outliers\n",
            "PAY_AMT3 -> 1.207% outliers\n",
            "PAY_AMT4 -> 1.320% outliers\n",
            "PAY_AMT5 -> 1.380% outliers\n",
            "PAY_AMT6 -> 1.463% outliers\n",
            "default.payment.next.month -> 0.000% outliers\n"
          ],
          "name": "stdout"
        }
      ]
    },
    {
      "cell_type": "markdown",
      "metadata": {
        "id": "C6qLk280LdVt"
      },
      "source": [
        "### Class Imbalance"
      ]
    },
    {
      "cell_type": "code",
      "metadata": {
        "id": "YTpHdDx8KowR",
        "colab": {
          "base_uri": "https://localhost:8080/",
          "height": 265
        },
        "outputId": "5b8a0e2e-5d1f-44d1-953c-37b0b44d98aa"
      },
      "source": [
        "target = cleancc_df[\"default.payment.next.month\"]\n",
        "num_yes = target[target==1].count()\n",
        "num_no = target[target==0].count()\n",
        "\n",
        "plt.bar(\"yes\", num_yes)\n",
        "plt.bar(\"no\", num_no)\n",
        "_ = plt.show()"
      ],
      "execution_count": null,
      "outputs": [
        {
          "output_type": "display_data",
          "data": {
            "image/png": "[encoded data removed]",
            "text/plain": [
              "<Figure size 432x288 with 1 Axes>"
            ]
          },
          "metadata": {
            "tags": [],
            "needs_background": "light"
          }
        }
      ]
    },
    {
      "cell_type": "markdown",
      "metadata": {
        "id": "O0Bm6053MW_Z"
      },
      "source": [
        "### Oversampling of Yes class"
      ]
    },
    {
      "cell_type": "code",
      "metadata": {
        "id": "-F72Il-HL8NG",
        "colab": {
          "base_uri": "https://localhost:8080/",
          "height": 34
        },
        "outputId": "270aab56-b5ee-42dd-8fa6-c85c4cbc5113"
      },
      "source": [
        "cc_yes_df = cleancc_df[cleancc_df[\"default.payment.next.month\"] == 1]\n",
        "cc_no_df = cleancc_df[cleancc_df[\"default.payment.next.month\"] == 0]\n",
        "\n",
        "cc_yes_oversampled_df = cc_yes_df.sample(num_no, replace=True, random_state=0)\n",
        "cleancc_df = pd.concat([cc_no_df, cc_yes_oversampled_df], axis=0)\n",
        "len(cleancc_df)"
      ],
      "execution_count": null,
      "outputs": [
        {
          "output_type": "execute_result",
          "data": {
            "text/plain": [
              "46728"
            ]
          },
          "metadata": {
            "tags": []
          },
          "execution_count": 10
        }
      ]
    },
    {
      "cell_type": "markdown",
      "metadata": {
        "id": "6whIC0yhNGOC"
      },
      "source": [
        "### Split X and y"
      ]
    },
    {
      "cell_type": "code",
      "metadata": {
        "id": "p6_nFm4xM_pU"
      },
      "source": [
        "data_df = cleancc_df.drop(columns=[\"default.payment.next.month\"])\n",
        "label_df = cleancc_df[\"default.payment.next.month\"]"
      ],
      "execution_count": null,
      "outputs": []
    },
    {
      "cell_type": "markdown",
      "metadata": {
        "id": "1j4MNapzNU6F"
      },
      "source": [
        "### Rescale data"
      ]
    },
    {
      "cell_type": "code",
      "metadata": {
        "id": "Wet5mkfqNTvt",
        "colab": {
          "base_uri": "https://localhost:8080/",
          "height": 224
        },
        "outputId": "3d91eccf-61f0-4e09-f5c6-6bd27fe05e01"
      },
      "source": [
        "data_df = (data_df - data_df.min()) / (data_df.max() - data_df.min())\n",
        "data_df.head()"
      ],
      "execution_count": null,
      "outputs": [
        {
          "output_type": "execute_result",
          "data": {
            "text/html": [
              "<div>\n",
              "<style scoped>\n",
              "    .dataframe tbody tr th:only-of-type {\n",
              "        vertical-align: middle;\n",
              "    }\n",
              "\n",
              "    .dataframe tbody tr th {\n",
              "        vertical-align: top;\n",
              "    }\n",
              "\n",
              "    .dataframe thead th {\n",
              "        text-align: right;\n",
              "    }\n",
              "</style>\n",
              "<table border=\"1\" class=\"dataframe\">\n",
              "  <thead>\n",
              "    <tr style=\"text-align: right;\">\n",
              "      <th></th>\n",
              "      <th>LIMIT_BAL</th>\n",
              "      <th>EDUCATION</th>\n",
              "      <th>MARRIAGE</th>\n",
              "      <th>AGE</th>\n",
              "      <th>PAY_0</th>\n",
              "      <th>PAY_2</th>\n",
              "      <th>PAY_3</th>\n",
              "      <th>PAY_4</th>\n",
              "      <th>PAY_5</th>\n",
              "      <th>PAY_6</th>\n",
              "      <th>BILL_AMT1</th>\n",
              "      <th>BILL_AMT2</th>\n",
              "      <th>BILL_AMT3</th>\n",
              "      <th>BILL_AMT4</th>\n",
              "      <th>BILL_AMT5</th>\n",
              "      <th>BILL_AMT6</th>\n",
              "      <th>PAY_AMT1</th>\n",
              "      <th>PAY_AMT2</th>\n",
              "      <th>PAY_AMT3</th>\n",
              "      <th>PAY_AMT4</th>\n",
              "      <th>PAY_AMT5</th>\n",
              "      <th>PAY_AMT6</th>\n",
              "    </tr>\n",
              "  </thead>\n",
              "  <tbody>\n",
              "    <tr>\n",
              "      <th>2</th>\n",
              "      <td>0.080808</td>\n",
              "      <td>0.333333</td>\n",
              "      <td>0.666667</td>\n",
              "      <td>0.224138</td>\n",
              "      <td>0.2</td>\n",
              "      <td>0.2</td>\n",
              "      <td>0.2</td>\n",
              "      <td>0.2</td>\n",
              "      <td>0.2</td>\n",
              "      <td>0.2</td>\n",
              "      <td>0.172392</td>\n",
              "      <td>0.079532</td>\n",
              "      <td>0.093789</td>\n",
              "      <td>0.173637</td>\n",
              "      <td>0.095470</td>\n",
              "      <td>0.272928</td>\n",
              "      <td>0.001738</td>\n",
              "      <td>0.000891</td>\n",
              "      <td>0.001116</td>\n",
              "      <td>0.001610</td>\n",
              "      <td>0.002345</td>\n",
              "      <td>0.009458</td>\n",
              "    </tr>\n",
              "    <tr>\n",
              "      <th>3</th>\n",
              "      <td>0.040404</td>\n",
              "      <td>0.333333</td>\n",
              "      <td>0.333333</td>\n",
              "      <td>0.275862</td>\n",
              "      <td>0.2</td>\n",
              "      <td>0.2</td>\n",
              "      <td>0.2</td>\n",
              "      <td>0.2</td>\n",
              "      <td>0.2</td>\n",
              "      <td>0.2</td>\n",
              "      <td>0.188100</td>\n",
              "      <td>0.111995</td>\n",
              "      <td>0.113407</td>\n",
              "      <td>0.186809</td>\n",
              "      <td>0.109363</td>\n",
              "      <td>0.283685</td>\n",
              "      <td>0.002290</td>\n",
              "      <td>0.001199</td>\n",
              "      <td>0.001339</td>\n",
              "      <td>0.001771</td>\n",
              "      <td>0.002506</td>\n",
              "      <td>0.001892</td>\n",
              "    </tr>\n",
              "    <tr>\n",
              "      <th>4</th>\n",
              "      <td>0.040404</td>\n",
              "      <td>0.333333</td>\n",
              "      <td>0.333333</td>\n",
              "      <td>0.620690</td>\n",
              "      <td>0.1</td>\n",
              "      <td>0.2</td>\n",
              "      <td>0.1</td>\n",
              "      <td>0.2</td>\n",
              "      <td>0.2</td>\n",
              "      <td>0.2</td>\n",
              "      <td>0.154144</td>\n",
              "      <td>0.071601</td>\n",
              "      <td>0.106020</td>\n",
              "      <td>0.179863</td>\n",
              "      <td>0.099633</td>\n",
              "      <td>0.275681</td>\n",
              "      <td>0.002290</td>\n",
              "      <td>0.021779</td>\n",
              "      <td>0.011160</td>\n",
              "      <td>0.014493</td>\n",
              "      <td>0.001615</td>\n",
              "      <td>0.001284</td>\n",
              "    </tr>\n",
              "    <tr>\n",
              "      <th>5</th>\n",
              "      <td>0.040404</td>\n",
              "      <td>0.166667</td>\n",
              "      <td>0.666667</td>\n",
              "      <td>0.275862</td>\n",
              "      <td>0.2</td>\n",
              "      <td>0.2</td>\n",
              "      <td>0.2</td>\n",
              "      <td>0.2</td>\n",
              "      <td>0.2</td>\n",
              "      <td>0.2</td>\n",
              "      <td>0.203506</td>\n",
              "      <td>0.120381</td>\n",
              "      <td>0.117974</td>\n",
              "      <td>0.178407</td>\n",
              "      <td>0.100102</td>\n",
              "      <td>0.276367</td>\n",
              "      <td>0.002862</td>\n",
              "      <td>0.001078</td>\n",
              "      <td>0.000733</td>\n",
              "      <td>0.001610</td>\n",
              "      <td>0.002345</td>\n",
              "      <td>0.001513</td>\n",
              "    </tr>\n",
              "    <tr>\n",
              "      <th>6</th>\n",
              "      <td>0.494949</td>\n",
              "      <td>0.166667</td>\n",
              "      <td>0.666667</td>\n",
              "      <td>0.137931</td>\n",
              "      <td>0.2</td>\n",
              "      <td>0.2</td>\n",
              "      <td>0.2</td>\n",
              "      <td>0.2</td>\n",
              "      <td>0.2</td>\n",
              "      <td>0.2</td>\n",
              "      <td>0.472126</td>\n",
              "      <td>0.457242</td>\n",
              "      <td>0.330672</td>\n",
              "      <td>0.671310</td>\n",
              "      <td>0.559578</td>\n",
              "      <td>0.625196</td>\n",
              "      <td>0.062961</td>\n",
              "      <td>0.023749</td>\n",
              "      <td>0.042409</td>\n",
              "      <td>0.032591</td>\n",
              "      <td>0.032237</td>\n",
              "      <td>0.026047</td>\n",
              "    </tr>\n",
              "  </tbody>\n",
              "</table>\n",
              "</div>"
            ],
            "text/plain": [
              "   LIMIT_BAL  EDUCATION  MARRIAGE  ...  PAY_AMT4  PAY_AMT5  PAY_AMT6\n",
              "2   0.080808   0.333333  0.666667  ...  0.001610  0.002345  0.009458\n",
              "3   0.040404   0.333333  0.333333  ...  0.001771  0.002506  0.001892\n",
              "4   0.040404   0.333333  0.333333  ...  0.014493  0.001615  0.001284\n",
              "5   0.040404   0.166667  0.666667  ...  0.001610  0.002345  0.001513\n",
              "6   0.494949   0.166667  0.666667  ...  0.032591  0.032237  0.026047\n",
              "\n",
              "[5 rows x 22 columns]"
            ]
          },
          "metadata": {
            "tags": []
          },
          "execution_count": 12
        }
      ]
    },
    {
      "cell_type": "markdown",
      "metadata": {
        "id": "dMYn9Z6sQrme"
      },
      "source": [
        "### Split into training, validation and test"
      ]
    },
    {
      "cell_type": "code",
      "metadata": {
        "id": "T25sAfvtQwrM",
        "colab": {
          "base_uri": "https://localhost:8080/",
          "height": 34
        },
        "outputId": "b62a11e2-1122-4712-91ef-af60f5d71765"
      },
      "source": [
        "X, y = data_df.values, label_df.values\n",
        "Xtv, Xtest, ytv, ytest = train_test_split(X, y, test_size=0.2, random_state=0)\n",
        "Xtrain, Xval, ytrain, yval = train_test_split(Xtv, ytv, test_size=0.2, random_state=0)\n",
        "\n",
        "Xtrain.shape, ytrain.shape, Xval.shape, yval.shape, Xtest.shape, ytest.shape"
      ],
      "execution_count": null,
      "outputs": [
        {
          "output_type": "execute_result",
          "data": {
            "text/plain": [
              "((29905, 22), (29905,), (7477, 22), (7477,), (9346, 22), (9346,))"
            ]
          },
          "metadata": {
            "tags": []
          },
          "execution_count": 13
        }
      ]
    },
    {
      "cell_type": "markdown",
      "metadata": {
        "id": "B-KdUoH_QNae"
      },
      "source": [
        "### Dataset and DataLoader"
      ]
    },
    {
      "cell_type": "code",
      "metadata": {
        "id": "XzCg4FhuQQ3Z"
      },
      "source": [
        "train_ds = TensorDataset(torch.tensor(Xtrain, dtype=torch.float32),\n",
        "                         torch.tensor(ytrain, dtype=torch.long))\n",
        "val_ds = TensorDataset(torch.tensor(Xval, dtype=torch.float32),\n",
        "                       torch.tensor(yval, dtype=torch.long))\n",
        "test_ds = TensorDataset(torch.tensor(Xtest, dtype=torch.float32),\n",
        "                        torch.tensor(ytest, dtype=torch.long))"
      ],
      "execution_count": null,
      "outputs": []
    },
    {
      "cell_type": "code",
      "metadata": {
        "id": "kIl7nJTiTbQ9"
      },
      "source": [
        "train_dl = DataLoader(train_ds, batch_size=128, shuffle=True, num_workers=4)\n",
        "val_dl = DataLoader(val_ds, batch_size=128, shuffle=False, num_workers=4)\n",
        "test_dl = DataLoader(test_ds, batch_size=128, shuffle=False, num_workers=4)"
      ],
      "execution_count": null,
      "outputs": []
    },
    {
      "cell_type": "markdown",
      "metadata": {
        "id": "MA2AhHanOF1Y"
      },
      "source": [
        "### Model (using Sequential)"
      ]
    },
    {
      "cell_type": "code",
      "metadata": {
        "id": "BWepII0qNfK5",
        "colab": {
          "base_uri": "https://localhost:8080/",
          "height": 119
        },
        "outputId": "e7876ff3-af3c-48c2-f89b-9b2cb70a7310"
      },
      "source": [
        "input_size = 22\n",
        "hidden_size = 10\n",
        "output_size = 2\n",
        "\n",
        "model = nn.Sequential(\n",
        "    nn.Linear(input_size, hidden_size),\n",
        "    nn.ReLU(),\n",
        "    nn.Linear(hidden_size, output_size),\n",
        "    nn.LogSoftmax()\n",
        ")\n",
        "print(model)"
      ],
      "execution_count": null,
      "outputs": [
        {
          "output_type": "stream",
          "text": [
            "Sequential(\n",
            "  (0): Linear(in_features=22, out_features=10, bias=True)\n",
            "  (1): ReLU()\n",
            "  (2): Linear(in_features=10, out_features=2, bias=True)\n",
            "  (3): LogSoftmax()\n",
            ")\n"
          ],
          "name": "stdout"
        }
      ]
    },
    {
      "cell_type": "code",
      "metadata": {
        "id": "pOQ-DyqcOYH9",
        "colab": {
          "base_uri": "https://localhost:8080/",
          "height": 85
        },
        "outputId": "7269d3b9-5923-44a8-d277-ae6a1bd8f2f1"
      },
      "source": [
        "class ClassifierNet(nn.Module):\n",
        "  def __init__(self, input_size, hidden_size, output_size):\n",
        "    super(ClassifierNet, self).__init__()\n",
        "    self.linear1 = nn.Linear(input_size, hidden_size)\n",
        "    self.linear2 = nn.Linear(hidden_size, output_size)\n",
        "\n",
        "  def forward(self, x):\n",
        "    z = F.relu(self.linear1(x))\n",
        "    o = F.softmax(self.linear2(z))\n",
        "    return o\n",
        "\n",
        "net = ClassifierNet(input_size, hidden_size, output_size)\n",
        "net"
      ],
      "execution_count": null,
      "outputs": [
        {
          "output_type": "execute_result",
          "data": {
            "text/plain": [
              "ClassifierNet(\n",
              "  (linear1): Linear(in_features=22, out_features=10, bias=True)\n",
              "  (linear2): Linear(in_features=10, out_features=2, bias=True)\n",
              ")"
            ]
          },
          "metadata": {
            "tags": []
          },
          "execution_count": 17
        }
      ]
    },
    {
      "cell_type": "code",
      "metadata": {
        "id": "MPONoFHRPRYQ"
      },
      "source": [
        "criterion = nn.CrossEntropyLoss()\n",
        "optimizer = torch.optim.Adam(net.parameters(), lr=1e-3)"
      ],
      "execution_count": null,
      "outputs": []
    },
    {
      "cell_type": "markdown",
      "metadata": {
        "id": "rRDPrk1dT4vX"
      },
      "source": [
        "### Training Loop"
      ]
    },
    {
      "cell_type": "code",
      "metadata": {
        "id": "cPGiINRyU9dJ",
        "colab": {
          "base_uri": "https://localhost:8080/",
          "height": 85
        },
        "outputId": "ae822426-14ee-48bb-d497-744b947ec50f"
      },
      "source": [
        "dev = torch.device(\"cuda\") if torch.cuda.is_available() else torch.device(\"cpu\")\n",
        "net.to(dev)"
      ],
      "execution_count": null,
      "outputs": [
        {
          "output_type": "execute_result",
          "data": {
            "text/plain": [
              "ClassifierNet(\n",
              "  (linear1): Linear(in_features=22, out_features=10, bias=True)\n",
              "  (linear2): Linear(in_features=10, out_features=2, bias=True)\n",
              ")"
            ]
          },
          "metadata": {
            "tags": []
          },
          "execution_count": 19
        }
      ]
    },
    {
      "cell_type": "code",
      "metadata": {
        "id": "F9CwMRDOPyxx",
        "colab": {
          "base_uri": "https://localhost:8080/",
          "height": 697
        },
        "outputId": "5c2d55bf-4311-4ce1-d292-d4316f3247c7"
      },
      "source": [
        "def evaluate(net, dev, val_dl, criterion):\n",
        "  dev_loss, dev_acc, dev_totals, dev_correct = 0, 0, 0, 0\n",
        "  with torch.no_grad():\n",
        "    for x, y in val_dl:\n",
        "      x, y = x.to(dev), y.to(dev)\n",
        "      y_pred = net(x)\n",
        "      dev_loss += criterion(y_pred, y)\n",
        "      _, predicted = torch.max(y_pred.data, 1)\n",
        "      dev_correct += (predicted == y).sum()\n",
        "      dev_totals += y.size()[0]\n",
        "    dev_acc = dev_correct.item() / dev_totals\n",
        "    dev_loss = dev_loss.item() / dev_totals\n",
        "  return dev_loss, dev_acc\n",
        "\n",
        "\n",
        "num_epochs = 10\n",
        "train_losses, dev_losses, train_accs, dev_accs = [], [], [], []\n",
        "for e in range(num_epochs):\n",
        "\n",
        "  num_iters = 0\n",
        "  train_loss, train_acc, train_totals, train_correct = 0, 0, 0, 0\n",
        "\n",
        "  for x, y in train_dl:\n",
        "    x, y = x.to(dev), y.to(dev)\n",
        "\n",
        "    optimizer.zero_grad()\n",
        "\n",
        "    y_pred = net(x)\n",
        "    loss = criterion(y_pred, y)\n",
        "    _, predicted = torch.max(y_pred.data, 1)\n",
        "    train_correct += (predicted == y).sum()\n",
        "    train_totals += y.size()[0]\n",
        "    \n",
        "    loss.backward()\n",
        "    optimizer.step()\n",
        "\n",
        "    train_loss += loss.item()\n",
        "\n",
        "    with torch.no_grad():\n",
        "      dev_loss, dev_acc = evaluate(net, dev, val_dl, criterion)\n",
        "\n",
        "    if num_iters % 100 == 0:\n",
        "      print(\"... Iteration {:d}, Train loss: {:.3f}, Validation loss: {:.3f}\"\n",
        "        .format(num_iters, train_loss, dev_loss))\n",
        "      \n",
        "    num_iters += 1\n",
        "  \n",
        "  # save epoch level stats for charting later\n",
        "  train_acc = train_correct.item() / train_totals\n",
        "  train_loss = train_loss / train_totals\n",
        "  print(\"EPOCH {:d} | train loss: {:.3f}, acc: {:.3f} | validation loss: {:.3f}, acc: {:.3f}\"\n",
        "    .format(e, train_loss, train_acc, dev_loss, dev_acc))\n",
        "  train_losses.append(train_loss)\n",
        "  train_accs.append(train_acc)\n",
        "  dev_losses.append(dev_loss)\n",
        "  dev_accs.append(dev_acc)\n",
        "\n"
      ],
      "execution_count": null,
      "outputs": [
        {
          "output_type": "stream",
          "text": [
            "... Iteration 0, Train loss: 0.692, Validation loss: 0.005\n",
            "... Iteration 100, Train loss: 69.594, Validation loss: 0.005\n",
            "... Iteration 200, Train loss: 136.627, Validation loss: 0.005\n",
            "EPOCH 0 | train loss: 0.005, acc: 0.600 | validation loss: 0.005, acc: 0.645\n",
            "... Iteration 0, Train loss: 0.645, Validation loss: 0.005\n",
            "... Iteration 100, Train loss: 65.611, Validation loss: 0.005\n",
            "... Iteration 200, Train loss: 129.464, Validation loss: 0.005\n",
            "EPOCH 1 | train loss: 0.005, acc: 0.655 | validation loss: 0.005, acc: 0.666\n",
            "... Iteration 0, Train loss: 0.661, Validation loss: 0.005\n",
            "... Iteration 100, Train loss: 63.565, Validation loss: 0.005\n",
            "... Iteration 200, Train loss: 126.648, Validation loss: 0.005\n",
            "EPOCH 2 | train loss: 0.005, acc: 0.668 | validation loss: 0.005, acc: 0.670\n",
            "... Iteration 0, Train loss: 0.642, Validation loss: 0.005\n",
            "... Iteration 100, Train loss: 62.773, Validation loss: 0.005\n",
            "... Iteration 200, Train loss: 125.353, Validation loss: 0.005\n",
            "EPOCH 3 | train loss: 0.005, acc: 0.672 | validation loss: 0.005, acc: 0.675\n",
            "... Iteration 0, Train loss: 0.623, Validation loss: 0.005\n",
            "... Iteration 100, Train loss: 62.968, Validation loss: 0.005\n",
            "... Iteration 200, Train loss: 124.729, Validation loss: 0.005\n",
            "EPOCH 4 | train loss: 0.005, acc: 0.677 | validation loss: 0.005, acc: 0.678\n",
            "... Iteration 0, Train loss: 0.611, Validation loss: 0.005\n",
            "... Iteration 100, Train loss: 62.343, Validation loss: 0.005\n",
            "... Iteration 200, Train loss: 123.845, Validation loss: 0.005\n",
            "EPOCH 5 | train loss: 0.005, acc: 0.679 | validation loss: 0.005, acc: 0.673\n",
            "... Iteration 0, Train loss: 0.612, Validation loss: 0.005\n",
            "... Iteration 100, Train loss: 62.028, Validation loss: 0.005\n",
            "... Iteration 200, Train loss: 123.320, Validation loss: 0.005\n",
            "EPOCH 6 | train loss: 0.005, acc: 0.681 | validation loss: 0.005, acc: 0.683\n",
            "... Iteration 0, Train loss: 0.636, Validation loss: 0.005\n",
            "... Iteration 100, Train loss: 61.770, Validation loss: 0.005\n",
            "... Iteration 200, Train loss: 123.173, Validation loss: 0.005\n",
            "EPOCH 7 | train loss: 0.005, acc: 0.684 | validation loss: 0.005, acc: 0.686\n",
            "... Iteration 0, Train loss: 0.642, Validation loss: 0.005\n",
            "... Iteration 100, Train loss: 61.818, Validation loss: 0.005\n",
            "... Iteration 200, Train loss: 122.541, Validation loss: 0.005\n",
            "EPOCH 8 | train loss: 0.005, acc: 0.684 | validation loss: 0.005, acc: 0.683\n",
            "... Iteration 0, Train loss: 0.624, Validation loss: 0.005\n",
            "... Iteration 100, Train loss: 61.029, Validation loss: 0.005\n",
            "... Iteration 200, Train loss: 122.634, Validation loss: 0.005\n",
            "EPOCH 9 | train loss: 0.005, acc: 0.687 | validation loss: 0.005, acc: 0.681\n"
          ],
          "name": "stdout"
        }
      ]
    },
    {
      "cell_type": "code",
      "metadata": {
        "id": "dQbf9IB0DmGM",
        "colab": {
          "base_uri": "https://localhost:8080/",
          "height": 279
        },
        "outputId": "57ff63ab-1216-48ac-a4d9-292bb7c0aebd"
      },
      "source": [
        "plt.plot(train_accs, label=\"train\")\n",
        "plt.plot(dev_accs, label=\"validation\")\n",
        "plt.xlabel(\"epochs\")\n",
        "plt.ylabel(\"accuracy\")\n",
        "plt.legend(loc=\"best\")\n",
        "_ = plt.show()"
      ],
      "execution_count": null,
      "outputs": [
        {
          "output_type": "display_data",
          "data": {
            "image/png": "[encoded data removed]",
            "text/plain": [
              "<Figure size 432x288 with 1 Axes>"
            ]
          },
          "metadata": {
            "tags": [],
            "needs_background": "light"
          }
        }
      ]
    },
    {
      "cell_type": "markdown",
      "metadata": {
        "id": "0DDm_gtiSQ8r"
      },
      "source": [
        "### Save Model"
      ]
    },
    {
      "cell_type": "code",
      "metadata": {
        "id": "F6wjTVmbEA0X"
      },
      "source": [
        "checkpoint = {\n",
        "    \"input\": input_size,\n",
        "    \"hidden\": hidden_size,\n",
        "    \"output\": output_size,\n",
        "    \"state_dict\": net.state_dict()\n",
        "}\n",
        "torch.save(checkpoint, os.path.join(DATA_DIR, \"model_c3.ptb\"))"
      ],
      "execution_count": null,
      "outputs": []
    },
    {
      "cell_type": "markdown",
      "metadata": {
        "id": "Vt1Q40ICSxos"
      },
      "source": [
        "### Load Model"
      ]
    },
    {
      "cell_type": "code",
      "metadata": {
        "id": "RoAYETxWEBt-",
        "colab": {
          "base_uri": "https://localhost:8080/",
          "height": 34
        },
        "outputId": "3b7b38e0-f824-480f-92f1-0a4cba531c1b"
      },
      "source": [
        "checkpoint = torch.load(os.path.join(DATA_DIR, \"model_c3.ptb\"))\n",
        "new_net = ClassifierNet(checkpoint[\"input\"], checkpoint[\"hidden\"], checkpoint[\"output\"])\n",
        "new_net.load_state_dict(checkpoint[\"state_dict\"])"
      ],
      "execution_count": null,
      "outputs": [
        {
          "output_type": "execute_result",
          "data": {
            "text/plain": [
              "<All keys matched successfully>"
            ]
          },
          "metadata": {
            "tags": []
          },
          "execution_count": 23
        }
      ]
    },
    {
      "cell_type": "markdown",
      "metadata": {
        "id": "ZFggGUWpV3to"
      },
      "source": [
        "### Predictions"
      ]
    },
    {
      "cell_type": "code",
      "metadata": {
        "id": "XGAh_00UED8u",
        "colab": {
          "base_uri": "https://localhost:8080/",
          "height": 34
        },
        "outputId": "3c84ba46-fd88-4b3c-86e6-030dcdba798b"
      },
      "source": [
        "criterion = nn.CrossEntropyLoss()\n",
        "new_net.to(dev)\n",
        "test_loss, test_acc = evaluate(new_net, dev, test_dl, criterion)\n",
        "test_loss, test_acc"
      ],
      "execution_count": null,
      "outputs": [
        {
          "output_type": "execute_result",
          "data": {
            "text/plain": [
              "(0.004813583050757844, 0.6906698052642842)"
            ]
          },
          "metadata": {
            "tags": []
          },
          "execution_count": 25
        }
      ]
    },
    {
      "cell_type": "code",
      "metadata": {
        "id": "ncXxyCavWXps",
        "colab": {
          "base_uri": "https://localhost:8080/",
          "height": 187
        },
        "outputId": "f569a74c-89f1-48fd-9e09-07de68cae791"
      },
      "source": [
        "with torch.no_grad():\n",
        "  for x, y in test_dl:\n",
        "    x, y = x.to(dev), y.to(dev)\n",
        "    output = net(x)\n",
        "    _, y_pred = torch.max(output.data, 1)\n",
        "    break\n",
        "\n",
        "for i in range(10):\n",
        "  labels = y.cpu().numpy()\n",
        "  predictions = y_pred.cpu().numpy()\n",
        "  if i < 10:\n",
        "    print(labels[i], predictions[i])\n"
      ],
      "execution_count": null,
      "outputs": [
        {
          "output_type": "stream",
          "text": [
            "0 1\n",
            "1 1\n",
            "1 1\n",
            "0 0\n",
            "0 0\n",
            "1 1\n",
            "1 0\n",
            "0 0\n",
            "1 1\n",
            "1 0\n"
          ],
          "name": "stdout"
        }
      ]
    },
    {
      "cell_type": "code",
      "metadata": {
        "id": "-9SNTKx-bEFR"
      },
      "source": [
        ""
      ],
      "execution_count": null,
      "outputs": []
    }
  ]
}