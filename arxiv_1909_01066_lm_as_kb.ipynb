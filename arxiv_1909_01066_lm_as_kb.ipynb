{
  "nbformat": 4,
  "nbformat_minor": 0,
  "metadata": {
    "colab": {
      "name": "arxiv_1909_01066_lm_as_kb.ipynb",
      "provenance": [],
      "collapsed_sections": [],
      "authorship_tag": "ABX9TyPZZG75yxMSKY6vUj9rKa84",
      "include_colab_link": true
    },
    "kernelspec": {
      "name": "python3",
      "display_name": "Python 3"
    },
    "widgets": {
      "application/vnd.jupyter.widget-state+json": {
        "3d4a6be38bc443af921e4ab1212fee0a": {
          "model_module": "@jupyter-widgets/controls",
          "model_name": "HBoxModel",
          "state": {
            "_view_name": "HBoxView",
            "_dom_classes": [],
            "_model_name": "HBoxModel",
            "_view_module": "@jupyter-widgets/controls",
            "_model_module_version": "1.5.0",
            "_view_count": null,
            "_view_module_version": "1.5.0",
            "box_style": "",
            "layout": "IPY_MODEL_60ff7a95cef14731a9b508c9b97f29ef",
            "_model_module": "@jupyter-widgets/controls",
            "children": [
              "IPY_MODEL_04696ad4cf8941ac8e07931b048fc774",
              "IPY_MODEL_ef51431d0ce14ad9875f572f5d74a29e"
            ]
          }
        },
        "60ff7a95cef14731a9b508c9b97f29ef": {
          "model_module": "@jupyter-widgets/base",
          "model_name": "LayoutModel",
          "state": {
            "_view_name": "LayoutView",
            "grid_template_rows": null,
            "right": null,
            "justify_content": null,
            "_view_module": "@jupyter-widgets/base",
            "overflow": null,
            "_model_module_version": "1.2.0",
            "_view_count": null,
            "flex_flow": null,
            "width": null,
            "min_width": null,
            "border": null,
            "align_items": null,
            "bottom": null,
            "_model_module": "@jupyter-widgets/base",
            "top": null,
            "grid_column": null,
            "overflow_y": null,
            "overflow_x": null,
            "grid_auto_flow": null,
            "grid_area": null,
            "grid_template_columns": null,
            "flex": null,
            "_model_name": "LayoutModel",
            "justify_items": null,
            "grid_row": null,
            "max_height": null,
            "align_content": null,
            "visibility": null,
            "align_self": null,
            "height": null,
            "min_height": null,
            "padding": null,
            "grid_auto_rows": null,
            "grid_gap": null,
            "max_width": null,
            "order": null,
            "_view_module_version": "1.2.0",
            "grid_template_areas": null,
            "object_position": null,
            "object_fit": null,
            "grid_auto_columns": null,
            "margin": null,
            "display": null,
            "left": null
          }
        },
        "04696ad4cf8941ac8e07931b048fc774": {
          "model_module": "@jupyter-widgets/controls",
          "model_name": "FloatProgressModel",
          "state": {
            "_view_name": "ProgressView",
            "style": "IPY_MODEL_c0aec3c8a6984cb0990b06941340299f",
            "_dom_classes": [],
            "description": "Downloading: 100%",
            "_model_name": "FloatProgressModel",
            "bar_style": "success",
            "max": 231508,
            "_view_module": "@jupyter-widgets/controls",
            "_model_module_version": "1.5.0",
            "value": 231508,
            "_view_count": null,
            "_view_module_version": "1.5.0",
            "orientation": "horizontal",
            "min": 0,
            "description_tooltip": null,
            "_model_module": "@jupyter-widgets/controls",
            "layout": "IPY_MODEL_bd2c1e5836f44f8db1f74204c5fa4361"
          }
        },
        "ef51431d0ce14ad9875f572f5d74a29e": {
          "model_module": "@jupyter-widgets/controls",
          "model_name": "HTMLModel",
          "state": {
            "_view_name": "HTMLView",
            "style": "IPY_MODEL_96e3cbcfb0db4b46b91124883138551b",
            "_dom_classes": [],
            "description": "",
            "_model_name": "HTMLModel",
            "placeholder": "​",
            "_view_module": "@jupyter-widgets/controls",
            "_model_module_version": "1.5.0",
            "value": " 232k/232k [00:00&lt;00:00, 848kB/s]",
            "_view_count": null,
            "_view_module_version": "1.5.0",
            "description_tooltip": null,
            "_model_module": "@jupyter-widgets/controls",
            "layout": "IPY_MODEL_62881f5f26cb424992dc491506ab42b0"
          }
        },
        "c0aec3c8a6984cb0990b06941340299f": {
          "model_module": "@jupyter-widgets/controls",
          "model_name": "ProgressStyleModel",
          "state": {
            "_view_name": "StyleView",
            "_model_name": "ProgressStyleModel",
            "description_width": "initial",
            "_view_module": "@jupyter-widgets/base",
            "_model_module_version": "1.5.0",
            "_view_count": null,
            "_view_module_version": "1.2.0",
            "bar_color": null,
            "_model_module": "@jupyter-widgets/controls"
          }
        },
        "bd2c1e5836f44f8db1f74204c5fa4361": {
          "model_module": "@jupyter-widgets/base",
          "model_name": "LayoutModel",
          "state": {
            "_view_name": "LayoutView",
            "grid_template_rows": null,
            "right": null,
            "justify_content": null,
            "_view_module": "@jupyter-widgets/base",
            "overflow": null,
            "_model_module_version": "1.2.0",
            "_view_count": null,
            "flex_flow": null,
            "width": null,
            "min_width": null,
            "border": null,
            "align_items": null,
            "bottom": null,
            "_model_module": "@jupyter-widgets/base",
            "top": null,
            "grid_column": null,
            "overflow_y": null,
            "overflow_x": null,
            "grid_auto_flow": null,
            "grid_area": null,
            "grid_template_columns": null,
            "flex": null,
            "_model_name": "LayoutModel",
            "justify_items": null,
            "grid_row": null,
            "max_height": null,
            "align_content": null,
            "visibility": null,
            "align_self": null,
            "height": null,
            "min_height": null,
            "padding": null,
            "grid_auto_rows": null,
            "grid_gap": null,
            "max_width": null,
            "order": null,
            "_view_module_version": "1.2.0",
            "grid_template_areas": null,
            "object_position": null,
            "object_fit": null,
            "grid_auto_columns": null,
            "margin": null,
            "display": null,
            "left": null
          }
        },
        "96e3cbcfb0db4b46b91124883138551b": {
          "model_module": "@jupyter-widgets/controls",
          "model_name": "DescriptionStyleModel",
          "state": {
            "_view_name": "StyleView",
            "_model_name": "DescriptionStyleModel",
            "description_width": "",
            "_view_module": "@jupyter-widgets/base",
            "_model_module_version": "1.5.0",
            "_view_count": null,
            "_view_module_version": "1.2.0",
            "_model_module": "@jupyter-widgets/controls"
          }
        },
        "62881f5f26cb424992dc491506ab42b0": {
          "model_module": "@jupyter-widgets/base",
          "model_name": "LayoutModel",
          "state": {
            "_view_name": "LayoutView",
            "grid_template_rows": null,
            "right": null,
            "justify_content": null,
            "_view_module": "@jupyter-widgets/base",
            "overflow": null,
            "_model_module_version": "1.2.0",
            "_view_count": null,
            "flex_flow": null,
            "width": null,
            "min_width": null,
            "border": null,
            "align_items": null,
            "bottom": null,
            "_model_module": "@jupyter-widgets/base",
            "top": null,
            "grid_column": null,
            "overflow_y": null,
            "overflow_x": null,
            "grid_auto_flow": null,
            "grid_area": null,
            "grid_template_columns": null,
            "flex": null,
            "_model_name": "LayoutModel",
            "justify_items": null,
            "grid_row": null,
            "max_height": null,
            "align_content": null,
            "visibility": null,
            "align_self": null,
            "height": null,
            "min_height": null,
            "padding": null,
            "grid_auto_rows": null,
            "grid_gap": null,
            "max_width": null,
            "order": null,
            "_view_module_version": "1.2.0",
            "grid_template_areas": null,
            "object_position": null,
            "object_fit": null,
            "grid_auto_columns": null,
            "margin": null,
            "display": null,
            "left": null
          }
        },
        "9c481c7fcf8a464294434137c6943ee1": {
          "model_module": "@jupyter-widgets/controls",
          "model_name": "HBoxModel",
          "state": {
            "_view_name": "HBoxView",
            "_dom_classes": [],
            "_model_name": "HBoxModel",
            "_view_module": "@jupyter-widgets/controls",
            "_model_module_version": "1.5.0",
            "_view_count": null,
            "_view_module_version": "1.5.0",
            "box_style": "",
            "layout": "IPY_MODEL_a526013d41124a2b8b05ba122ac7197a",
            "_model_module": "@jupyter-widgets/controls",
            "children": [
              "IPY_MODEL_a27ab0523f4c4bab8bc797e2284f3827",
              "IPY_MODEL_cb62e5a439bf43cc9f32538fe2598ba6"
            ]
          }
        },
        "a526013d41124a2b8b05ba122ac7197a": {
          "model_module": "@jupyter-widgets/base",
          "model_name": "LayoutModel",
          "state": {
            "_view_name": "LayoutView",
            "grid_template_rows": null,
            "right": null,
            "justify_content": null,
            "_view_module": "@jupyter-widgets/base",
            "overflow": null,
            "_model_module_version": "1.2.0",
            "_view_count": null,
            "flex_flow": null,
            "width": null,
            "min_width": null,
            "border": null,
            "align_items": null,
            "bottom": null,
            "_model_module": "@jupyter-widgets/base",
            "top": null,
            "grid_column": null,
            "overflow_y": null,
            "overflow_x": null,
            "grid_auto_flow": null,
            "grid_area": null,
            "grid_template_columns": null,
            "flex": null,
            "_model_name": "LayoutModel",
            "justify_items": null,
            "grid_row": null,
            "max_height": null,
            "align_content": null,
            "visibility": null,
            "align_self": null,
            "height": null,
            "min_height": null,
            "padding": null,
            "grid_auto_rows": null,
            "grid_gap": null,
            "max_width": null,
            "order": null,
            "_view_module_version": "1.2.0",
            "grid_template_areas": null,
            "object_position": null,
            "object_fit": null,
            "grid_auto_columns": null,
            "margin": null,
            "display": null,
            "left": null
          }
        },
        "a27ab0523f4c4bab8bc797e2284f3827": {
          "model_module": "@jupyter-widgets/controls",
          "model_name": "FloatProgressModel",
          "state": {
            "_view_name": "ProgressView",
            "style": "IPY_MODEL_dbf7d2b40376475eba77f25e15abbceb",
            "_dom_classes": [],
            "description": "Downloading: 100%",
            "_model_name": "FloatProgressModel",
            "bar_style": "success",
            "max": 433,
            "_view_module": "@jupyter-widgets/controls",
            "_model_module_version": "1.5.0",
            "value": 433,
            "_view_count": null,
            "_view_module_version": "1.5.0",
            "orientation": "horizontal",
            "min": 0,
            "description_tooltip": null,
            "_model_module": "@jupyter-widgets/controls",
            "layout": "IPY_MODEL_d742c1629cd5402cb7fb0edced5b321d"
          }
        },
        "cb62e5a439bf43cc9f32538fe2598ba6": {
          "model_module": "@jupyter-widgets/controls",
          "model_name": "HTMLModel",
          "state": {
            "_view_name": "HTMLView",
            "style": "IPY_MODEL_44417abb454243bc902a5e5c5ff1fc10",
            "_dom_classes": [],
            "description": "",
            "_model_name": "HTMLModel",
            "placeholder": "​",
            "_view_module": "@jupyter-widgets/controls",
            "_model_module_version": "1.5.0",
            "value": " 433/433 [00:00&lt;00:00, 715B/s]",
            "_view_count": null,
            "_view_module_version": "1.5.0",
            "description_tooltip": null,
            "_model_module": "@jupyter-widgets/controls",
            "layout": "IPY_MODEL_92bea102a1d4427e992f2b007f1ba241"
          }
        },
        "dbf7d2b40376475eba77f25e15abbceb": {
          "model_module": "@jupyter-widgets/controls",
          "model_name": "ProgressStyleModel",
          "state": {
            "_view_name": "StyleView",
            "_model_name": "ProgressStyleModel",
            "description_width": "initial",
            "_view_module": "@jupyter-widgets/base",
            "_model_module_version": "1.5.0",
            "_view_count": null,
            "_view_module_version": "1.2.0",
            "bar_color": null,
            "_model_module": "@jupyter-widgets/controls"
          }
        },
        "d742c1629cd5402cb7fb0edced5b321d": {
          "model_module": "@jupyter-widgets/base",
          "model_name": "LayoutModel",
          "state": {
            "_view_name": "LayoutView",
            "grid_template_rows": null,
            "right": null,
            "justify_content": null,
            "_view_module": "@jupyter-widgets/base",
            "overflow": null,
            "_model_module_version": "1.2.0",
            "_view_count": null,
            "flex_flow": null,
            "width": null,
            "min_width": null,
            "border": null,
            "align_items": null,
            "bottom": null,
            "_model_module": "@jupyter-widgets/base",
            "top": null,
            "grid_column": null,
            "overflow_y": null,
            "overflow_x": null,
            "grid_auto_flow": null,
            "grid_area": null,
            "grid_template_columns": null,
            "flex": null,
            "_model_name": "LayoutModel",
            "justify_items": null,
            "grid_row": null,
            "max_height": null,
            "align_content": null,
            "visibility": null,
            "align_self": null,
            "height": null,
            "min_height": null,
            "padding": null,
            "grid_auto_rows": null,
            "grid_gap": null,
            "max_width": null,
            "order": null,
            "_view_module_version": "1.2.0",
            "grid_template_areas": null,
            "object_position": null,
            "object_fit": null,
            "grid_auto_columns": null,
            "margin": null,
            "display": null,
            "left": null
          }
        },
        "44417abb454243bc902a5e5c5ff1fc10": {
          "model_module": "@jupyter-widgets/controls",
          "model_name": "DescriptionStyleModel",
          "state": {
            "_view_name": "StyleView",
            "_model_name": "DescriptionStyleModel",
            "description_width": "",
            "_view_module": "@jupyter-widgets/base",
            "_model_module_version": "1.5.0",
            "_view_count": null,
            "_view_module_version": "1.2.0",
            "_model_module": "@jupyter-widgets/controls"
          }
        },
        "92bea102a1d4427e992f2b007f1ba241": {
          "model_module": "@jupyter-widgets/base",
          "model_name": "LayoutModel",
          "state": {
            "_view_name": "LayoutView",
            "grid_template_rows": null,
            "right": null,
            "justify_content": null,
            "_view_module": "@jupyter-widgets/base",
            "overflow": null,
            "_model_module_version": "1.2.0",
            "_view_count": null,
            "flex_flow": null,
            "width": null,
            "min_width": null,
            "border": null,
            "align_items": null,
            "bottom": null,
            "_model_module": "@jupyter-widgets/base",
            "top": null,
            "grid_column": null,
            "overflow_y": null,
            "overflow_x": null,
            "grid_auto_flow": null,
            "grid_area": null,
            "grid_template_columns": null,
            "flex": null,
            "_model_name": "LayoutModel",
            "justify_items": null,
            "grid_row": null,
            "max_height": null,
            "align_content": null,
            "visibility": null,
            "align_self": null,
            "height": null,
            "min_height": null,
            "padding": null,
            "grid_auto_rows": null,
            "grid_gap": null,
            "max_width": null,
            "order": null,
            "_view_module_version": "1.2.0",
            "grid_template_areas": null,
            "object_position": null,
            "object_fit": null,
            "grid_auto_columns": null,
            "margin": null,
            "display": null,
            "left": null
          }
        },
        "a542e80dd5a444c0b6ab901ec8c723fb": {
          "model_module": "@jupyter-widgets/controls",
          "model_name": "HBoxModel",
          "state": {
            "_view_name": "HBoxView",
            "_dom_classes": [],
            "_model_name": "HBoxModel",
            "_view_module": "@jupyter-widgets/controls",
            "_model_module_version": "1.5.0",
            "_view_count": null,
            "_view_module_version": "1.5.0",
            "box_style": "",
            "layout": "IPY_MODEL_0654667e18e242ac804ae7537f9e0a00",
            "_model_module": "@jupyter-widgets/controls",
            "children": [
              "IPY_MODEL_a67e96e12ee1495fa91205269645d9c1",
              "IPY_MODEL_6e154e759f3249aa81382f845fda8a4e"
            ]
          }
        },
        "0654667e18e242ac804ae7537f9e0a00": {
          "model_module": "@jupyter-widgets/base",
          "model_name": "LayoutModel",
          "state": {
            "_view_name": "LayoutView",
            "grid_template_rows": null,
            "right": null,
            "justify_content": null,
            "_view_module": "@jupyter-widgets/base",
            "overflow": null,
            "_model_module_version": "1.2.0",
            "_view_count": null,
            "flex_flow": null,
            "width": null,
            "min_width": null,
            "border": null,
            "align_items": null,
            "bottom": null,
            "_model_module": "@jupyter-widgets/base",
            "top": null,
            "grid_column": null,
            "overflow_y": null,
            "overflow_x": null,
            "grid_auto_flow": null,
            "grid_area": null,
            "grid_template_columns": null,
            "flex": null,
            "_model_name": "LayoutModel",
            "justify_items": null,
            "grid_row": null,
            "max_height": null,
            "align_content": null,
            "visibility": null,
            "align_self": null,
            "height": null,
            "min_height": null,
            "padding": null,
            "grid_auto_rows": null,
            "grid_gap": null,
            "max_width": null,
            "order": null,
            "_view_module_version": "1.2.0",
            "grid_template_areas": null,
            "object_position": null,
            "object_fit": null,
            "grid_auto_columns": null,
            "margin": null,
            "display": null,
            "left": null
          }
        },
        "a67e96e12ee1495fa91205269645d9c1": {
          "model_module": "@jupyter-widgets/controls",
          "model_name": "FloatProgressModel",
          "state": {
            "_view_name": "ProgressView",
            "style": "IPY_MODEL_ccb6f48e3328472ba8186929b4756d13",
            "_dom_classes": [],
            "description": "Downloading: 100%",
            "_model_name": "FloatProgressModel",
            "bar_style": "success",
            "max": 440473133,
            "_view_module": "@jupyter-widgets/controls",
            "_model_module_version": "1.5.0",
            "value": 440473133,
            "_view_count": null,
            "_view_module_version": "1.5.0",
            "orientation": "horizontal",
            "min": 0,
            "description_tooltip": null,
            "_model_module": "@jupyter-widgets/controls",
            "layout": "IPY_MODEL_852e3655abc140bf8034a1fce0fe2dcd"
          }
        },
        "6e154e759f3249aa81382f845fda8a4e": {
          "model_module": "@jupyter-widgets/controls",
          "model_name": "HTMLModel",
          "state": {
            "_view_name": "HTMLView",
            "style": "IPY_MODEL_247620337fb44c938342a63d5d630dc5",
            "_dom_classes": [],
            "description": "",
            "_model_name": "HTMLModel",
            "placeholder": "​",
            "_view_module": "@jupyter-widgets/controls",
            "_model_module_version": "1.5.0",
            "value": " 440M/440M [00:13&lt;00:00, 33.7MB/s]",
            "_view_count": null,
            "_view_module_version": "1.5.0",
            "description_tooltip": null,
            "_model_module": "@jupyter-widgets/controls",
            "layout": "IPY_MODEL_6951f463f1724c56a1e8d94056449c7e"
          }
        },
        "ccb6f48e3328472ba8186929b4756d13": {
          "model_module": "@jupyter-widgets/controls",
          "model_name": "ProgressStyleModel",
          "state": {
            "_view_name": "StyleView",
            "_model_name": "ProgressStyleModel",
            "description_width": "initial",
            "_view_module": "@jupyter-widgets/base",
            "_model_module_version": "1.5.0",
            "_view_count": null,
            "_view_module_version": "1.2.0",
            "bar_color": null,
            "_model_module": "@jupyter-widgets/controls"
          }
        },
        "852e3655abc140bf8034a1fce0fe2dcd": {
          "model_module": "@jupyter-widgets/base",
          "model_name": "LayoutModel",
          "state": {
            "_view_name": "LayoutView",
            "grid_template_rows": null,
            "right": null,
            "justify_content": null,
            "_view_module": "@jupyter-widgets/base",
            "overflow": null,
            "_model_module_version": "1.2.0",
            "_view_count": null,
            "flex_flow": null,
            "width": null,
            "min_width": null,
            "border": null,
            "align_items": null,
            "bottom": null,
            "_model_module": "@jupyter-widgets/base",
            "top": null,
            "grid_column": null,
            "overflow_y": null,
            "overflow_x": null,
            "grid_auto_flow": null,
            "grid_area": null,
            "grid_template_columns": null,
            "flex": null,
            "_model_name": "LayoutModel",
            "justify_items": null,
            "grid_row": null,
            "max_height": null,
            "align_content": null,
            "visibility": null,
            "align_self": null,
            "height": null,
            "min_height": null,
            "padding": null,
            "grid_auto_rows": null,
            "grid_gap": null,
            "max_width": null,
            "order": null,
            "_view_module_version": "1.2.0",
            "grid_template_areas": null,
            "object_position": null,
            "object_fit": null,
            "grid_auto_columns": null,
            "margin": null,
            "display": null,
            "left": null
          }
        },
        "247620337fb44c938342a63d5d630dc5": {
          "model_module": "@jupyter-widgets/controls",
          "model_name": "DescriptionStyleModel",
          "state": {
            "_view_name": "StyleView",
            "_model_name": "DescriptionStyleModel",
            "description_width": "",
            "_view_module": "@jupyter-widgets/base",
            "_model_module_version": "1.5.0",
            "_view_count": null,
            "_view_module_version": "1.2.0",
            "_model_module": "@jupyter-widgets/controls"
          }
        },
        "6951f463f1724c56a1e8d94056449c7e": {
          "model_module": "@jupyter-widgets/base",
          "model_name": "LayoutModel",
          "state": {
            "_view_name": "LayoutView",
            "grid_template_rows": null,
            "right": null,
            "justify_content": null,
            "_view_module": "@jupyter-widgets/base",
            "overflow": null,
            "_model_module_version": "1.2.0",
            "_view_count": null,
            "flex_flow": null,
            "width": null,
            "min_width": null,
            "border": null,
            "align_items": null,
            "bottom": null,
            "_model_module": "@jupyter-widgets/base",
            "top": null,
            "grid_column": null,
            "overflow_y": null,
            "overflow_x": null,
            "grid_auto_flow": null,
            "grid_area": null,
            "grid_template_columns": null,
            "flex": null,
            "_model_name": "LayoutModel",
            "justify_items": null,
            "grid_row": null,
            "max_height": null,
            "align_content": null,
            "visibility": null,
            "align_self": null,
            "height": null,
            "min_height": null,
            "padding": null,
            "grid_auto_rows": null,
            "grid_gap": null,
            "max_width": null,
            "order": null,
            "_view_module_version": "1.2.0",
            "grid_template_areas": null,
            "object_position": null,
            "object_fit": null,
            "grid_auto_columns": null,
            "margin": null,
            "display": null,
            "left": null
          }
        }
      }
    }
  },
  "cells": [
    {
      "cell_type": "markdown",
      "metadata": {
        "id": "view-in-github",
        "colab_type": "text"
      },
      "source": [
        "<a href=\"https://colab.research.google.com/github/sujitpal/nlp-deeplearning-ai-examples/blob/master/arxiv_1909_01066_lm_as_kb.ipynb\" target=\"_parent\"><img src=\"https://colab.research.google.com/assets/colab-badge.svg\" alt=\"Open In Colab\"/></a>"
      ]
    },
    {
      "cell_type": "markdown",
      "metadata": {
        "id": "xufCiXkEdlUp"
      },
      "source": [
        "# Impl: Language Model as Knowledge Base?\n",
        "\n",
        "An implementation of the [Language Model as Knowledge Bases?](https://arxiv.org/pdf/1909.01066.pdf) (Petroni, et al, 2019) using pre-trained models in the HuggingFace library.\n",
        "\n",
        "The method used is to identify subject, predicate, and object in simple (cloze style) sentences, and mask out the predicate, and have the masked language model make a prediction. This gives synonyms of the predicate.\n",
        "\n",
        "We haven't gone that far, we use one of the inputs provided (referenced from the github repository referenced by the paper) to infer predictions from a masked language model based on `bert-base-uncased`."
      ]
    },
    {
      "cell_type": "code",
      "metadata": {
        "colab": {
          "base_uri": "https://localhost:8080/"
        },
        "id": "DKVzMvQudRVg",
        "outputId": "fe944c32-78af-4a15-a76c-a707d478a106"
      },
      "source": [
        "!pip install transformers"
      ],
      "execution_count": 1,
      "outputs": [
        {
          "output_type": "stream",
          "text": [
            "Collecting transformers\n",
            "\u001b[?25l  Downloading https://files.pythonhosted.org/packages/3a/83/e74092e7f24a08d751aa59b37a9fc572b2e4af3918cb66f7766c3affb1b4/transformers-3.5.1-py3-none-any.whl (1.3MB)\n",
            "\u001b[K     |████████████████████████████████| 1.3MB 8.7MB/s \n",
            "\u001b[?25hCollecting sacremoses\n",
            "\u001b[?25l  Downloading https://files.pythonhosted.org/packages/7d/34/09d19aff26edcc8eb2a01bed8e98f13a1537005d31e95233fd48216eed10/sacremoses-0.0.43.tar.gz (883kB)\n",
            "\u001b[K     |████████████████████████████████| 890kB 25.8MB/s \n",
            "\u001b[?25hRequirement already satisfied: dataclasses; python_version < \"3.7\" in /usr/local/lib/python3.6/dist-packages (from transformers) (0.8)\n",
            "Requirement already satisfied: numpy in /usr/local/lib/python3.6/dist-packages (from transformers) (1.18.5)\n",
            "Requirement already satisfied: protobuf in /usr/local/lib/python3.6/dist-packages (from transformers) (3.12.4)\n",
            "Requirement already satisfied: filelock in /usr/local/lib/python3.6/dist-packages (from transformers) (3.0.12)\n",
            "Requirement already satisfied: regex!=2019.12.17 in /usr/local/lib/python3.6/dist-packages (from transformers) (2019.12.20)\n",
            "Requirement already satisfied: tqdm>=4.27 in /usr/local/lib/python3.6/dist-packages (from transformers) (4.41.1)\n",
            "Requirement already satisfied: requests in /usr/local/lib/python3.6/dist-packages (from transformers) (2.23.0)\n",
            "Requirement already satisfied: packaging in /usr/local/lib/python3.6/dist-packages (from transformers) (20.4)\n",
            "Collecting tokenizers==0.9.3\n",
            "\u001b[?25l  Downloading https://files.pythonhosted.org/packages/4c/34/b39eb9994bc3c999270b69c9eea40ecc6f0e97991dba28282b9fd32d44ee/tokenizers-0.9.3-cp36-cp36m-manylinux1_x86_64.whl (2.9MB)\n",
            "\u001b[K     |████████████████████████████████| 2.9MB 34.8MB/s \n",
            "\u001b[?25hCollecting sentencepiece==0.1.91\n",
            "\u001b[?25l  Downloading https://files.pythonhosted.org/packages/d4/a4/d0a884c4300004a78cca907a6ff9a5e9fe4f090f5d95ab341c53d28cbc58/sentencepiece-0.1.91-cp36-cp36m-manylinux1_x86_64.whl (1.1MB)\n",
            "\u001b[K     |████████████████████████████████| 1.1MB 25.9MB/s \n",
            "\u001b[?25hRequirement already satisfied: six in /usr/local/lib/python3.6/dist-packages (from sacremoses->transformers) (1.15.0)\n",
            "Requirement already satisfied: click in /usr/local/lib/python3.6/dist-packages (from sacremoses->transformers) (7.1.2)\n",
            "Requirement already satisfied: joblib in /usr/local/lib/python3.6/dist-packages (from sacremoses->transformers) (0.17.0)\n",
            "Requirement already satisfied: setuptools in /usr/local/lib/python3.6/dist-packages (from protobuf->transformers) (50.3.2)\n",
            "Requirement already satisfied: urllib3!=1.25.0,!=1.25.1,<1.26,>=1.21.1 in /usr/local/lib/python3.6/dist-packages (from requests->transformers) (1.24.3)\n",
            "Requirement already satisfied: idna<3,>=2.5 in /usr/local/lib/python3.6/dist-packages (from requests->transformers) (2.10)\n",
            "Requirement already satisfied: chardet<4,>=3.0.2 in /usr/local/lib/python3.6/dist-packages (from requests->transformers) (3.0.4)\n",
            "Requirement already satisfied: certifi>=2017.4.17 in /usr/local/lib/python3.6/dist-packages (from requests->transformers) (2020.11.8)\n",
            "Requirement already satisfied: pyparsing>=2.0.2 in /usr/local/lib/python3.6/dist-packages (from packaging->transformers) (2.4.7)\n",
            "Building wheels for collected packages: sacremoses\n",
            "  Building wheel for sacremoses (setup.py) ... \u001b[?25l\u001b[?25hdone\n",
            "  Created wheel for sacremoses: filename=sacremoses-0.0.43-cp36-none-any.whl size=893257 sha256=6a2a3444f989fef8b518f51c6e920a4560d888169f1df9c94050e5acaa784415\n",
            "  Stored in directory: /root/.cache/pip/wheels/29/3c/fd/7ce5c3f0666dab31a50123635e6fb5e19ceb42ce38d4e58f45\n",
            "Successfully built sacremoses\n",
            "Installing collected packages: sacremoses, tokenizers, sentencepiece, transformers\n",
            "Successfully installed sacremoses-0.0.43 sentencepiece-0.1.91 tokenizers-0.9.3 transformers-3.5.1\n"
          ],
          "name": "stdout"
        }
      ]
    },
    {
      "cell_type": "markdown",
      "metadata": {
        "id": "-AOYQUK_0kxc"
      },
      "source": [
        "## Model and Tokenizer\n",
        "\n",
        "Task is to predict words that are masked using BERT, so we will use [BERTMaskedLM](https://huggingface.co/transformers/model_doc/bert.html#bertformaskedlm) model and [BERTTokenizer](https://huggingface.co/transformers/model_doc/bert.html#berttokenizer) and use the pre-trained `bert-base-uncased` model."
      ]
    },
    {
      "cell_type": "code",
      "metadata": {
        "id": "MeN_2Bmagn-b"
      },
      "source": [
        "import json\n",
        "import pandas as pd\n",
        "import torch\n",
        "\n",
        "from transformers import BertTokenizer, BertForMaskedLM"
      ],
      "execution_count": 2,
      "outputs": []
    },
    {
      "cell_type": "code",
      "metadata": {
        "colab": {
          "base_uri": "https://localhost:8080/",
          "height": 235,
          "referenced_widgets": [
            "3d4a6be38bc443af921e4ab1212fee0a",
            "60ff7a95cef14731a9b508c9b97f29ef",
            "04696ad4cf8941ac8e07931b048fc774",
            "ef51431d0ce14ad9875f572f5d74a29e",
            "c0aec3c8a6984cb0990b06941340299f",
            "bd2c1e5836f44f8db1f74204c5fa4361",
            "96e3cbcfb0db4b46b91124883138551b",
            "62881f5f26cb424992dc491506ab42b0",
            "9c481c7fcf8a464294434137c6943ee1",
            "a526013d41124a2b8b05ba122ac7197a",
            "a27ab0523f4c4bab8bc797e2284f3827",
            "cb62e5a439bf43cc9f32538fe2598ba6",
            "dbf7d2b40376475eba77f25e15abbceb",
            "d742c1629cd5402cb7fb0edced5b321d",
            "44417abb454243bc902a5e5c5ff1fc10",
            "92bea102a1d4427e992f2b007f1ba241",
            "a542e80dd5a444c0b6ab901ec8c723fb",
            "0654667e18e242ac804ae7537f9e0a00",
            "a67e96e12ee1495fa91205269645d9c1",
            "6e154e759f3249aa81382f845fda8a4e",
            "ccb6f48e3328472ba8186929b4756d13",
            "852e3655abc140bf8034a1fce0fe2dcd",
            "247620337fb44c938342a63d5d630dc5",
            "6951f463f1724c56a1e8d94056449c7e"
          ]
        },
        "id": "joDf0RPngzaB",
        "outputId": "028f8703-9623-4fb8-b0c6-5dc5e4c24908"
      },
      "source": [
        "tokenizer = BertTokenizer.from_pretrained('bert-base-uncased')\n",
        "model = BertForMaskedLM.from_pretrained('bert-base-uncased', return_dict=True)"
      ],
      "execution_count": 3,
      "outputs": [
        {
          "output_type": "display_data",
          "data": {
            "application/vnd.jupyter.widget-view+json": {
              "model_id": "3d4a6be38bc443af921e4ab1212fee0a",
              "version_minor": 0,
              "version_major": 2
            },
            "text/plain": [
              "HBox(children=(FloatProgress(value=0.0, description='Downloading', max=231508.0, style=ProgressStyle(descripti…"
            ]
          },
          "metadata": {
            "tags": []
          }
        },
        {
          "output_type": "stream",
          "text": [
            "\n"
          ],
          "name": "stdout"
        },
        {
          "output_type": "display_data",
          "data": {
            "application/vnd.jupyter.widget-view+json": {
              "model_id": "9c481c7fcf8a464294434137c6943ee1",
              "version_minor": 0,
              "version_major": 2
            },
            "text/plain": [
              "HBox(children=(FloatProgress(value=0.0, description='Downloading', max=433.0, style=ProgressStyle(description_…"
            ]
          },
          "metadata": {
            "tags": []
          }
        },
        {
          "output_type": "stream",
          "text": [
            "\n"
          ],
          "name": "stdout"
        },
        {
          "output_type": "display_data",
          "data": {
            "application/vnd.jupyter.widget-view+json": {
              "model_id": "a542e80dd5a444c0b6ab901ec8c723fb",
              "version_minor": 0,
              "version_major": 2
            },
            "text/plain": [
              "HBox(children=(FloatProgress(value=0.0, description='Downloading', max=440473133.0, style=ProgressStyle(descri…"
            ]
          },
          "metadata": {
            "tags": []
          }
        },
        {
          "output_type": "stream",
          "text": [
            "\n"
          ],
          "name": "stdout"
        },
        {
          "output_type": "stream",
          "text": [
            "Some weights of the model checkpoint at bert-base-uncased were not used when initializing BertForMaskedLM: ['cls.seq_relationship.weight', 'cls.seq_relationship.bias']\n",
            "- This IS expected if you are initializing BertForMaskedLM from the checkpoint of a model trained on another task or with another architecture (e.g. initializing a BertForSequenceClassification model from a BertForPreTraining model).\n",
            "- This IS NOT expected if you are initializing BertForMaskedLM from the checkpoint of a model that you expect to be exactly identical (initializing a BertForSequenceClassification model from a BertForSequenceClassification model).\n"
          ],
          "name": "stderr"
        }
      ]
    },
    {
      "cell_type": "markdown",
      "metadata": {
        "id": "1TuTCIh10aWF"
      },
      "source": [
        "## Data\n",
        "\n",
        "Data comes from a site referenced in the paper repository [facebookresearch/LAMA](https://github.com/facebookresearch/LAMA)."
      ]
    },
    {
      "cell_type": "code",
      "metadata": {
        "colab": {
          "base_uri": "https://localhost:8080/"
        },
        "id": "XoVtnxX_0-Dx",
        "outputId": "38b09802-e1b9-4360-d748-379475ac82db"
      },
      "source": [
        "%%bash\n",
        "(\n",
        "if [ ! -d \"data\" ]; then\n",
        "  echo \"downloading and unzipping data...\"\n",
        "  wget -q https://dl.fbaipublicfiles.com/LAMA/data.zip\n",
        "  unzip -a data.zip\n",
        "else\n",
        "  echo \"data already available, skipping step...\"\n",
        "fi\n",
        ")"
      ],
      "execution_count": 4,
      "outputs": [
        {
          "output_type": "stream",
          "text": [
            "downloading and unzipping data...\n",
            "Archive:  data.zip\n",
            "   creating: data/\n",
            "   creating: data/Google_RE/\n",
            "  inflating: data/Google_RE/place_of_birth_test.jsonl  [text]  \n",
            "  inflating: data/Google_RE/date_of_birth_test.jsonl  [text]  \n",
            "  inflating: data/Google_RE/place_of_death_test.jsonl  [text]  \n",
            "   creating: data/Squad/\n",
            "  inflating: data/Squad/test.jsonl   [text]  \n",
            "  inflating: data/relations.jsonl    [text]  \n",
            "   creating: data/ConceptNet/\n",
            "  inflating: data/ConceptNet/test.jsonl  [text]  \n",
            "   creating: data/TREx/\n",
            "  inflating: data/TREx/P740.jsonl    [text]  \n",
            "  inflating: data/TREx/P108.jsonl    [text]  \n",
            "  inflating: data/TREx/P190.jsonl    [text]  \n",
            "  inflating: data/TREx/P27.jsonl     [text]  \n",
            "  inflating: data/TREx/P1376.jsonl   [text]  \n",
            "  inflating: data/TREx/P131.jsonl    [text]  \n",
            "  inflating: data/TREx/P937.jsonl    [text]  \n",
            "  inflating: data/TREx/P176.jsonl    [text]  \n",
            "  inflating: data/TREx/P463.jsonl    [text]  \n",
            "  inflating: data/TREx/P20.jsonl     [text]  \n",
            "  inflating: data/TREx/P136.jsonl    [text]  \n",
            "  inflating: data/TREx/P39.jsonl     [text]  \n",
            "  inflating: data/TREx/P407.jsonl    [text]  \n",
            "  inflating: data/TREx/P527.jsonl    [text]  \n",
            "  inflating: data/TREx/P276.jsonl    [text]  \n",
            "  inflating: data/TREx/P19.jsonl     [text]  \n",
            "  inflating: data/TREx/P47.jsonl     [text]  \n",
            "  inflating: data/TREx/P101.jsonl    [text]  \n",
            "  inflating: data/TREx/P1303.jsonl   [text]  \n",
            "  inflating: data/TREx/P17.jsonl     [text]  \n",
            "  inflating: data/TREx/P127.jsonl    [text]  \n",
            "  inflating: data/TREx/P103.jsonl    [text]  \n",
            "  inflating: data/TREx/P31.jsonl     [text]  \n",
            "  inflating: data/TREx/P159.jsonl    [text]  \n",
            "  inflating: data/TREx/P530.jsonl    [text]  \n",
            "  inflating: data/TREx/P495.jsonl    [text]  \n",
            "  inflating: data/TREx/P37.jsonl     [text]  \n",
            "  inflating: data/TREx/P138.jsonl    [text]  \n",
            "  inflating: data/TREx/P361.jsonl    [text]  \n",
            "  inflating: data/TREx/P140.jsonl    [text]  \n",
            "  inflating: data/TREx/P1001.jsonl   [text]  \n",
            "  inflating: data/TREx/P30.jsonl     [text]  \n",
            "  inflating: data/TREx/P178.jsonl    [text]  \n",
            "  inflating: data/TREx/P279.jsonl    [text]  \n",
            "  inflating: data/TREx/P449.jsonl    [text]  \n",
            "  inflating: data/TREx/P364.jsonl    [text]  \n",
            "  inflating: data/TREx/P1412.jsonl   [text]  \n",
            "  inflating: data/TREx/P264.jsonl    [text]  \n",
            "  inflating: data/TREx/P36.jsonl     [text]  \n",
            "  inflating: data/TREx/P106.jsonl    [text]  \n",
            "  inflating: data/TREx/P413.jsonl    [text]  \n"
          ],
          "name": "stdout"
        }
      ]
    },
    {
      "cell_type": "code",
      "metadata": {
        "colab": {
          "base_uri": "https://localhost:8080/"
        },
        "id": "TRMUouRj2-5s",
        "outputId": "f0f1a43a-9fec-4e82-b4b3-5b3a76a0b745"
      },
      "source": [
        "num_read = 1\n",
        "records = []\n",
        "with open(\"data/ConceptNet/test.jsonl\", mode=\"r\", encoding=\"utf-8\") as fdata:\n",
        "  for line in fdata:\n",
        "    if num_read % 10000 == 0:\n",
        "      print(\"{:d} records read\".format(num_read))\n",
        "    line_json = json.loads(line.strip())\n",
        "    masked_sentence = line_json[\"masked_sentences\"][0]\n",
        "    label = line_json[\"obj_label\"]\n",
        "    records.append((masked_sentence, label))\n",
        "    num_read += 1\n",
        "\n",
        "print(\"{:d} records read, COMPLETE\".format(num_read))"
      ],
      "execution_count": 5,
      "outputs": [
        {
          "output_type": "stream",
          "text": [
            "10000 records read\n",
            "20000 records read\n",
            "29775 records read, COMPLETE\n"
          ],
          "name": "stdout"
        }
      ]
    },
    {
      "cell_type": "code",
      "metadata": {
        "colab": {
          "base_uri": "https://localhost:8080/",
          "height": 204
        },
        "id": "SaBgWQxc5CI-",
        "outputId": "9e93f9be-7dba-4ebf-9e9a-c0a02b7710e3"
      },
      "source": [
        "pd.set_option('display.max_columns', None)  \n",
        "pd.set_option('display.expand_frame_repr', False)\n",
        "pd.set_option('max_colwidth', 0)\n",
        "\n",
        "data_df = pd.DataFrame(records, columns=[\"masked_sentence\", \"label\"])\n",
        "data_df.head()"
      ],
      "execution_count": 6,
      "outputs": [
        {
          "output_type": "execute_result",
          "data": {
            "text/html": [
              "<div>\n",
              "<style scoped>\n",
              "    .dataframe tbody tr th:only-of-type {\n",
              "        vertical-align: middle;\n",
              "    }\n",
              "\n",
              "    .dataframe tbody tr th {\n",
              "        vertical-align: top;\n",
              "    }\n",
              "\n",
              "    .dataframe thead th {\n",
              "        text-align: right;\n",
              "    }\n",
              "</style>\n",
              "<table border=\"1\" class=\"dataframe\">\n",
              "  <thead>\n",
              "    <tr style=\"text-align: right;\">\n",
              "      <th></th>\n",
              "      <th>masked_sentence</th>\n",
              "      <th>label</th>\n",
              "    </tr>\n",
              "  </thead>\n",
              "  <tbody>\n",
              "    <tr>\n",
              "      <th>0</th>\n",
              "      <td>One of the things you do when you are alive is [MASK].</td>\n",
              "      <td>think</td>\n",
              "    </tr>\n",
              "    <tr>\n",
              "      <th>1</th>\n",
              "      <td>Something that might happen when you analyse something is [MASK].</td>\n",
              "      <td>paralysis</td>\n",
              "    </tr>\n",
              "    <tr>\n",
              "      <th>2</th>\n",
              "      <td>Something that might happen while analysing something is [MASK].</td>\n",
              "      <td>analysis</td>\n",
              "    </tr>\n",
              "    <tr>\n",
              "      <th>3</th>\n",
              "      <td>Something that might happen while analysing something is [MASK].</td>\n",
              "      <td>education</td>\n",
              "    </tr>\n",
              "    <tr>\n",
              "      <th>4</th>\n",
              "      <td>Something that might happen while analysing something is coming up with a new [MASK].</td>\n",
              "      <td>idea</td>\n",
              "    </tr>\n",
              "  </tbody>\n",
              "</table>\n",
              "</div>"
            ],
            "text/plain": [
              "                                                                         masked_sentence      label\n",
              "0  One of the things you do when you are alive is [MASK].                                 think    \n",
              "1  Something that might happen when you analyse something is [MASK].                      paralysis\n",
              "2  Something that might happen while analysing something is [MASK].                       analysis \n",
              "3  Something that might happen while analysing something is [MASK].                       education\n",
              "4  Something that might happen while analysing something is coming up with a new [MASK].  idea     "
            ]
          },
          "metadata": {
            "tags": []
          },
          "execution_count": 6
        }
      ]
    },
    {
      "cell_type": "markdown",
      "metadata": {
        "id": "ZacNoTodzrh2"
      },
      "source": [
        "## Functions\n",
        "\n",
        "We are going to use the pre-trained BERT language model in inference mode only.\n",
        "\n",
        "The tokenizer tokenizes the input sequence and pads it with the `[CLS]` and `[SEP]` tokens.\n",
        "\n",
        "The output produced by the model has two components, `loss` and `logits`. The `logits` component has shape (1, `number_of_tokens`, `vocab_size`) where the leading 1 represents the single input sentence.\n",
        "\n",
        "We will identify the logits corresponding to the position of our masked token, identify the top 5 vocabulary words predicted for that position, and return the softmax probabilities for each of the top 5 predicted words.\n"
      ]
    },
    {
      "cell_type": "code",
      "metadata": {
        "id": "nWkBe6F163P_"
      },
      "source": [
        "model = model.eval()"
      ],
      "execution_count": 7,
      "outputs": []
    },
    {
      "cell_type": "code",
      "metadata": {
        "id": "6YQT5HPHg29J"
      },
      "source": [
        "inputs = tokenizer(\"The capital of France is [MASK].\", return_tensors=\"pt\")\n",
        "outputs = model(**inputs)"
      ],
      "execution_count": 8,
      "outputs": []
    },
    {
      "cell_type": "code",
      "metadata": {
        "colab": {
          "base_uri": "https://localhost:8080/"
        },
        "id": "u6z2p4XJz--C",
        "outputId": "00bf28ac-9a14-445e-d19d-caf313725d50"
      },
      "source": [
        "tokenizer.convert_ids_to_tokens(inputs.input_ids[0])"
      ],
      "execution_count": 9,
      "outputs": [
        {
          "output_type": "execute_result",
          "data": {
            "text/plain": [
              "['[CLS]', 'the', 'capital', 'of', 'france', 'is', '[MASK]', '.', '[SEP]']"
            ]
          },
          "metadata": {
            "tags": []
          },
          "execution_count": 9
        }
      ]
    },
    {
      "cell_type": "code",
      "metadata": {
        "colab": {
          "base_uri": "https://localhost:8080/"
        },
        "id": "qchOmPPg0CH_",
        "outputId": "dd7ddf2f-3cbe-49e5-9d60-3bfc6a42b87c"
      },
      "source": [
        "outputs"
      ],
      "execution_count": 10,
      "outputs": [
        {
          "output_type": "execute_result",
          "data": {
            "text/plain": [
              "MaskedLMOutput([('logits',\n",
              "                 tensor([[[ -6.4346,  -6.4063,  -6.4097,  ...,  -5.7691,  -5.6326,  -3.7883],\n",
              "                          [-14.0119, -14.7241, -14.2120,  ..., -11.6976, -10.7304, -12.7618],\n",
              "                          [ -9.6561, -10.3125,  -9.7459,  ...,  -8.7782,  -6.6036, -12.6596],\n",
              "                          ...,\n",
              "                          [ -3.7861,  -3.8572,  -3.5644,  ...,  -2.5593,  -3.1093,  -4.3820],\n",
              "                          [-11.6598, -11.4274, -11.9267,  ...,  -9.8772, -10.2103,  -4.7594],\n",
              "                          [-11.7267, -11.7509, -11.8040,  ..., -10.5943, -10.9407,  -7.5151]]],\n",
              "                        grad_fn=<AddBackward0>))])"
            ]
          },
          "metadata": {
            "tags": []
          },
          "execution_count": 10
        }
      ]
    },
    {
      "cell_type": "code",
      "metadata": {
        "colab": {
          "base_uri": "https://localhost:8080/"
        },
        "id": "AfFgH1OKpJAN",
        "outputId": "5ef6d7a1-65b9-44f7-f093-464a60b04f7e"
      },
      "source": [
        "def get_mask_index(input_ids, tokenizer):\n",
        "  x = input_ids[0]\n",
        "  is_masked = torch.where(x == tokenizer.mask_token_id, x, 0)\n",
        "  mask_idx = torch.nonzero(is_masked)\n",
        "  return mask_idx.item()\n",
        "\n",
        "\n",
        "mask_idx = get_mask_index(inputs.input_ids, tokenizer)\n",
        "mask_idx"
      ],
      "execution_count": 11,
      "outputs": [
        {
          "output_type": "execute_result",
          "data": {
            "text/plain": [
              "6"
            ]
          },
          "metadata": {
            "tags": []
          },
          "execution_count": 11
        }
      ]
    },
    {
      "cell_type": "code",
      "metadata": {
        "colab": {
          "base_uri": "https://localhost:8080/"
        },
        "id": "QDU8L2G8nLS5",
        "outputId": "d1f287c0-a97a-4bb7-9d25-dad3de18d019"
      },
      "source": [
        "def get_top_k_predictions(pred_logits, mask_idx, top_k):\n",
        "  probs = torch.nn.functional.softmax(pred_logits[0, mask_idx, :], dim=-1)\n",
        "  top_k_weights, top_k_indices = torch.topk(probs, top_k, sorted=True)\n",
        "  top_k_pct_weights = [100 * x.item() for x in top_k_weights]\n",
        "  top_k_tokens = tokenizer.convert_ids_to_tokens(top_k_indices)\n",
        "  return list(zip(top_k_tokens, top_k_pct_weights))\n",
        "\n",
        "\n",
        "get_top_k_predictions(outputs.logits, mask_idx, 5)"
      ],
      "execution_count": 12,
      "outputs": [
        {
          "output_type": "execute_result",
          "data": {
            "text/plain": [
              "[('paris', 41.678863763809204),\n",
              " ('lille', 7.141648232936859),\n",
              " ('lyon', 6.339278072118759),\n",
              " ('marseille', 4.444753006100655),\n",
              " ('tours', 3.02971713244915)]"
            ]
          },
          "metadata": {
            "tags": []
          },
          "execution_count": 12
        }
      ]
    },
    {
      "cell_type": "markdown",
      "metadata": {
        "id": "RqJtYaMS6IKZ"
      },
      "source": [
        "### Mask Word Prediction\n",
        "\n",
        "We sample 100 masked sentences from the dataset and run the top 5 predictions on it. Sample of 20 top-5 predictions and their probabilities are shown.\n",
        "\n"
      ]
    },
    {
      "cell_type": "code",
      "metadata": {
        "colab": {
          "base_uri": "https://localhost:8080/",
          "height": 1000
        },
        "id": "EHKhvtrir0DH",
        "outputId": "5525c0d6-9862-4876-d978-c26a197094d6"
      },
      "source": [
        "def get_predictions(row, tokenizer, model):\n",
        "  inputs = tokenizer(row.masked_sentence, return_tensors=\"pt\")\n",
        "  outputs = model(**inputs)\n",
        "  mask_idx = get_mask_index(inputs.input_ids, tokenizer)\n",
        "  top_preds = get_top_k_predictions(outputs.logits, mask_idx, 5)\n",
        "  formatted_top_preds = \", \".join([\"{:s} ({:.2f}%)\".format(t, w) for t, w in top_preds])\n",
        "  return formatted_top_preds\n",
        "\n",
        "data_df = data_df.sample(n=100, axis=0)\n",
        "data_df[\"top_preds\"] = data_df.apply(lambda row: get_predictions(row, tokenizer, model), axis=1)\n",
        "data_df.head(20)"
      ],
      "execution_count": 13,
      "outputs": [
        {
          "output_type": "execute_result",
          "data": {
            "text/html": [
              "<div>\n",
              "<style scoped>\n",
              "    .dataframe tbody tr th:only-of-type {\n",
              "        vertical-align: middle;\n",
              "    }\n",
              "\n",
              "    .dataframe tbody tr th {\n",
              "        vertical-align: top;\n",
              "    }\n",
              "\n",
              "    .dataframe thead th {\n",
              "        text-align: right;\n",
              "    }\n",
              "</style>\n",
              "<table border=\"1\" class=\"dataframe\">\n",
              "  <thead>\n",
              "    <tr style=\"text-align: right;\">\n",
              "      <th></th>\n",
              "      <th>masked_sentence</th>\n",
              "      <th>label</th>\n",
              "      <th>top_preds</th>\n",
              "    </tr>\n",
              "  </thead>\n",
              "  <tbody>\n",
              "    <tr>\n",
              "      <th>7740</th>\n",
              "      <td>Grass can [MASK].</td>\n",
              "      <td>burn</td>\n",
              "      <td>grow (57.51%), die (1.43%), kill (1.33%), bloom (1.29%), fall (1.27%)</td>\n",
              "    </tr>\n",
              "    <tr>\n",
              "      <th>21833</th>\n",
              "      <td>Kirstin wants [MASK].</td>\n",
              "      <td>sex</td>\n",
              "      <td>me (24.29%), her (10.95%), him (10.22%), this (6.22%), more (5.73%)</td>\n",
              "    </tr>\n",
              "    <tr>\n",
              "      <th>13394</th>\n",
              "      <td>Deserts are [MASK].</td>\n",
              "      <td>barren</td>\n",
              "      <td>common (14.29%), rare (8.39%), dry (8.11%), hot (4.34%), cold (3.92%)</td>\n",
              "    </tr>\n",
              "    <tr>\n",
              "      <th>4560</th>\n",
              "      <td>Partygoers are [MASK].</td>\n",
              "      <td>people</td>\n",
              "      <td>invited (42.35%), welcome (12.66%), encouraged (6.52%), free (5.70%), excluded (2.47%)</td>\n",
              "    </tr>\n",
              "    <tr>\n",
              "      <th>29206</th>\n",
              "      <td>Another way to say \"teenagers like to hang out in pizzeria's\" is \"A pizza parlor is [MASK] with teenagers\".</td>\n",
              "      <td>popular</td>\n",
              "      <td>popular (68.71%), packed (10.83%), filled (4.30%), crowded (3.01%), crawling (2.25%)</td>\n",
              "    </tr>\n",
              "    <tr>\n",
              "      <th>26333</th>\n",
              "      <td>Lying is for [MASK] someone.</td>\n",
              "      <td>decieving</td>\n",
              "      <td>trusting (9.96%), hurting (9.84%), protecting (7.64%), ##giving (7.17%), killing (6.64%)</td>\n",
              "    </tr>\n",
              "    <tr>\n",
              "      <th>5848</th>\n",
              "      <td>A mug is a type of [MASK].</td>\n",
              "      <td>container</td>\n",
              "      <td>mug (92.53%), coffee (2.72%), drink (0.60%), beer (0.39%), beverage (0.37%)</td>\n",
              "    </tr>\n",
              "    <tr>\n",
              "      <th>522</th>\n",
              "      <td>Something you might do while shopping is [MASK].</td>\n",
              "      <td>selecting</td>\n",
              "      <td>important (10.79%), dangerous (3.51%), done (3.11%), forbidden (2.74%), over (2.65%)</td>\n",
              "    </tr>\n",
              "    <tr>\n",
              "      <th>24232</th>\n",
              "      <td>There are people with fillings in their [MASK].</td>\n",
              "      <td>teeth</td>\n",
              "      <td>mouths (21.84%), hands (15.40%), pockets (7.52%), mouth (5.10%), faces (3.18%)</td>\n",
              "    </tr>\n",
              "    <tr>\n",
              "      <th>22273</th>\n",
              "      <td>A spy wants to [MASK].</td>\n",
              "      <td>snoop</td>\n",
              "      <td>spy (29.67%), know (13.37%), die (8.41%), kill (4.92%), escape (2.85%)</td>\n",
              "    </tr>\n",
              "    <tr>\n",
              "      <th>6489</th>\n",
              "      <td>Person does not want to be [MASK].</td>\n",
              "      <td>excluded</td>\n",
              "      <td>alone (2.84%), happy (2.39%), loved (1.88%), seen (1.53%), born (1.42%)</td>\n",
              "    </tr>\n",
              "    <tr>\n",
              "      <th>14362</th>\n",
              "      <td>Poverty is generally [MASK].</td>\n",
              "      <td>undesirable</td>\n",
              "      <td>low (35.84%), high (33.57%), moderate (3.20%), minimal (2.56%), severe (1.70%)</td>\n",
              "    </tr>\n",
              "    <tr>\n",
              "      <th>12628</th>\n",
              "      <td>The effect of procreating is [MASK].</td>\n",
              "      <td>procreations</td>\n",
              "      <td>unknown (38.23%), minimal (5.45%), unclear (4.89%), variable (3.84%), negative (3.04%)</td>\n",
              "    </tr>\n",
              "    <tr>\n",
              "      <th>14410</th>\n",
              "      <td>Rice is [MASK].</td>\n",
              "      <td>opaque</td>\n",
              "      <td>good (12.87%), common (3.67%), eaten (3.30%), excellent (3.25%), abundant (2.66%)</td>\n",
              "    </tr>\n",
              "    <tr>\n",
              "      <th>8279</th>\n",
              "      <td>A cornea  is part of an [MASK].</td>\n",
              "      <td>eyeball</td>\n",
              "      <td>antenna (9.78%), ear (9.29%), abdomen (9.05%), eye (7.59%), iris (6.50%)</td>\n",
              "    </tr>\n",
              "    <tr>\n",
              "      <th>6628</th>\n",
              "      <td>Something that might happen while performing is that the person who performs might be a little bit [MASK].</td>\n",
              "      <td>nervous</td>\n",
              "      <td>nervous (12.91%), shy (4.61%), older (3.08%), drunk (2.51%), different (2.46%)</td>\n",
              "    </tr>\n",
              "    <tr>\n",
              "      <th>4844</th>\n",
              "      <td>Cellulose is a [MASK] made with repeated glucose units.</td>\n",
              "      <td>polymer</td>\n",
              "      <td>compound (41.78%), sugar (7.38%), substance (4.32%), jelly (3.37%), polymer (3.24%)</td>\n",
              "    </tr>\n",
              "    <tr>\n",
              "      <th>11825</th>\n",
              "      <td>Picture description: This is an axe.  It is a tool that people have used since ancient times to [MASK] wood and other materials.  The axe consists of an wooden handle and a metal tip which is very sharp.  Axes are dangerous because they can hurt people if they are not used carefully.  There are other more advanced methods for cutting wood.  .</td>\n",
              "      <td>cut</td>\n",
              "      <td>cut (55.81%), chop (36.27%), grind (1.12%), cutting (0.84%), pierce (0.34%)</td>\n",
              "    </tr>\n",
              "    <tr>\n",
              "      <th>24981</th>\n",
              "      <td>Punching someone is for [MASK].</td>\n",
              "      <td>revenge</td>\n",
              "      <td>nothing (24.64%), fun (17.00%), me (7.23%), you (6.23%), sure (4.32%)</td>\n",
              "    </tr>\n",
              "    <tr>\n",
              "      <th>21430</th>\n",
              "      <td>A person doesn't want to be [MASK].</td>\n",
              "      <td>humilliated</td>\n",
              "      <td>alone (9.56%), loved (2.67%), happy (2.51%), here (2.07%), touched (2.01%)</td>\n",
              "    </tr>\n",
              "  </tbody>\n",
              "</table>\n",
              "</div>"
            ],
            "text/plain": [
              "                                                                                                                                                                                                                                                                                                                                                masked_sentence         label                                                                                 top_preds\n",
              "7740   Grass can [MASK].                                                                                                                                                                                                                                                                                                                                         burn          grow (57.51%), die (1.43%), kill (1.33%), bloom (1.29%), fall (1.27%)                   \n",
              "21833  Kirstin wants [MASK].                                                                                                                                                                                                                                                                                                                                     sex           me (24.29%), her (10.95%), him (10.22%), this (6.22%), more (5.73%)                     \n",
              "13394  Deserts are [MASK].                                                                                                                                                                                                                                                                                                                                       barren        common (14.29%), rare (8.39%), dry (8.11%), hot (4.34%), cold (3.92%)                   \n",
              "4560   Partygoers are [MASK].                                                                                                                                                                                                                                                                                                                                    people        invited (42.35%), welcome (12.66%), encouraged (6.52%), free (5.70%), excluded (2.47%)  \n",
              "29206  Another way to say \"teenagers like to hang out in pizzeria's\" is \"A pizza parlor is [MASK] with teenagers\".                                                                                                                                                                                                                                               popular       popular (68.71%), packed (10.83%), filled (4.30%), crowded (3.01%), crawling (2.25%)    \n",
              "26333  Lying is for [MASK] someone.                                                                                                                                                                                                                                                                                                                              decieving     trusting (9.96%), hurting (9.84%), protecting (7.64%), ##giving (7.17%), killing (6.64%)\n",
              "5848   A mug is a type of [MASK].                                                                                                                                                                                                                                                                                                                                container     mug (92.53%), coffee (2.72%), drink (0.60%), beer (0.39%), beverage (0.37%)             \n",
              "522    Something you might do while shopping is [MASK].                                                                                                                                                                                                                                                                                                          selecting     important (10.79%), dangerous (3.51%), done (3.11%), forbidden (2.74%), over (2.65%)    \n",
              "24232  There are people with fillings in their [MASK].                                                                                                                                                                                                                                                                                                           teeth         mouths (21.84%), hands (15.40%), pockets (7.52%), mouth (5.10%), faces (3.18%)          \n",
              "22273  A spy wants to [MASK].                                                                                                                                                                                                                                                                                                                                    snoop         spy (29.67%), know (13.37%), die (8.41%), kill (4.92%), escape (2.85%)                  \n",
              "6489   Person does not want to be [MASK].                                                                                                                                                                                                                                                                                                                        excluded      alone (2.84%), happy (2.39%), loved (1.88%), seen (1.53%), born (1.42%)                 \n",
              "14362  Poverty is generally [MASK].                                                                                                                                                                                                                                                                                                                              undesirable   low (35.84%), high (33.57%), moderate (3.20%), minimal (2.56%), severe (1.70%)          \n",
              "12628  The effect of procreating is [MASK].                                                                                                                                                                                                                                                                                                                      procreations  unknown (38.23%), minimal (5.45%), unclear (4.89%), variable (3.84%), negative (3.04%)  \n",
              "14410  Rice is [MASK].                                                                                                                                                                                                                                                                                                                                           opaque        good (12.87%), common (3.67%), eaten (3.30%), excellent (3.25%), abundant (2.66%)       \n",
              "8279   A cornea  is part of an [MASK].                                                                                                                                                                                                                                                                                                                           eyeball       antenna (9.78%), ear (9.29%), abdomen (9.05%), eye (7.59%), iris (6.50%)                \n",
              "6628   Something that might happen while performing is that the person who performs might be a little bit [MASK].                                                                                                                                                                                                                                                nervous       nervous (12.91%), shy (4.61%), older (3.08%), drunk (2.51%), different (2.46%)          \n",
              "4844   Cellulose is a [MASK] made with repeated glucose units.                                                                                                                                                                                                                                                                                                   polymer       compound (41.78%), sugar (7.38%), substance (4.32%), jelly (3.37%), polymer (3.24%)     \n",
              "11825  Picture description: This is an axe.  It is a tool that people have used since ancient times to [MASK] wood and other materials.  The axe consists of an wooden handle and a metal tip which is very sharp.  Axes are dangerous because they can hurt people if they are not used carefully.  There are other more advanced methods for cutting wood.  .  cut           cut (55.81%), chop (36.27%), grind (1.12%), cutting (0.84%), pierce (0.34%)             \n",
              "24981  Punching someone is for [MASK].                                                                                                                                                                                                                                                                                                                           revenge       nothing (24.64%), fun (17.00%), me (7.23%), you (6.23%), sure (4.32%)                   \n",
              "21430  A person doesn't want to be [MASK].                                                                                                                                                                                                                                                                                                                       humilliated   alone (9.56%), loved (2.67%), happy (2.51%), here (2.07%), touched (2.01%)              "
            ]
          },
          "metadata": {
            "tags": []
          },
          "execution_count": 13
        }
      ]
    },
    {
      "cell_type": "code",
      "metadata": {
        "id": "R1JvhDM8LWdv"
      },
      "source": [
        ""
      ],
      "execution_count": 13,
      "outputs": []
    }
  ]
}