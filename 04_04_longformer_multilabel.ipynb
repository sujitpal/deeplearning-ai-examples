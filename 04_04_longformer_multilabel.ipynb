{
  "nbformat": 4,
  "nbformat_minor": 0,
  "metadata": {
    "colab": {
      "name": "04_04_longformer_multilabel.ipynb",
      "provenance": [],
      "collapsed_sections": [],
      "authorship_tag": "ABX9TyPEwt0hdI6RejVe6FmZzT1f",
      "include_colab_link": true
    },
    "kernelspec": {
      "name": "python3",
      "display_name": "Python 3"
    },
    "accelerator": "GPU"
  },
  "cells": [
    {
      "cell_type": "markdown",
      "metadata": {
        "id": "view-in-github",
        "colab_type": "text"
      },
      "source": [
        "<a href=\"https://colab.research.google.com/github/sujitpal/nlp-deeplearning-ai-examples/blob/master/04_04_longformer_multilabel.ipynb\" target=\"_parent\"><img src=\"https://colab.research.google.com/assets/colab-badge.svg\" alt=\"Open In Colab\"/></a>"
      ]
    },
    {
      "cell_type": "markdown",
      "metadata": {
        "id": "89rpxefB0tFD"
      },
      "source": [
        "## Multi-label Document classification with Longformer\n",
        "\n",
        "In this notebook, we fine-tune a Longformer transformer to do multi-label classification on the Reuters-21578 dataset."
      ]
    },
    {
      "cell_type": "markdown",
      "metadata": {
        "id": "vSYYwOY3Ckb2"
      },
      "source": [
        "### Setup"
      ]
    },
    {
      "cell_type": "code",
      "metadata": {
        "colab": {
          "base_uri": "https://localhost:8080/"
        },
        "id": "qVD7rcjr39C1",
        "outputId": "585c0b0b-5734-45ea-da21-a36128a98cc6"
      },
      "source": [
        "!pip install transformers"
      ],
      "execution_count": 1,
      "outputs": [
        {
          "output_type": "stream",
          "text": [
            "Requirement already satisfied: transformers in /usr/local/lib/python3.6/dist-packages (4.1.1)\n",
            "Requirement already satisfied: tqdm>=4.27 in /usr/local/lib/python3.6/dist-packages (from transformers) (4.41.1)\n",
            "Requirement already satisfied: filelock in /usr/local/lib/python3.6/dist-packages (from transformers) (3.0.12)\n",
            "Requirement already satisfied: packaging in /usr/local/lib/python3.6/dist-packages (from transformers) (20.8)\n",
            "Requirement already satisfied: numpy in /usr/local/lib/python3.6/dist-packages (from transformers) (1.19.4)\n",
            "Requirement already satisfied: dataclasses; python_version < \"3.7\" in /usr/local/lib/python3.6/dist-packages (from transformers) (0.8)\n",
            "Requirement already satisfied: sacremoses in /usr/local/lib/python3.6/dist-packages (from transformers) (0.0.43)\n",
            "Requirement already satisfied: requests in /usr/local/lib/python3.6/dist-packages (from transformers) (2.23.0)\n",
            "Requirement already satisfied: regex!=2019.12.17 in /usr/local/lib/python3.6/dist-packages (from transformers) (2019.12.20)\n",
            "Requirement already satisfied: tokenizers==0.9.4 in /usr/local/lib/python3.6/dist-packages (from transformers) (0.9.4)\n",
            "Requirement already satisfied: pyparsing>=2.0.2 in /usr/local/lib/python3.6/dist-packages (from packaging->transformers) (2.4.7)\n",
            "Requirement already satisfied: six in /usr/local/lib/python3.6/dist-packages (from sacremoses->transformers) (1.15.0)\n",
            "Requirement already satisfied: joblib in /usr/local/lib/python3.6/dist-packages (from sacremoses->transformers) (1.0.0)\n",
            "Requirement already satisfied: click in /usr/local/lib/python3.6/dist-packages (from sacremoses->transformers) (7.1.2)\n",
            "Requirement already satisfied: chardet<4,>=3.0.2 in /usr/local/lib/python3.6/dist-packages (from requests->transformers) (3.0.4)\n",
            "Requirement already satisfied: certifi>=2017.4.17 in /usr/local/lib/python3.6/dist-packages (from requests->transformers) (2020.12.5)\n",
            "Requirement already satisfied: urllib3!=1.25.0,!=1.25.1,<1.26,>=1.21.1 in /usr/local/lib/python3.6/dist-packages (from requests->transformers) (1.24.3)\n",
            "Requirement already satisfied: idna<3,>=2.5 in /usr/local/lib/python3.6/dist-packages (from requests->transformers) (2.10)\n"
          ],
          "name": "stdout"
        }
      ]
    },
    {
      "cell_type": "code",
      "metadata": {
        "colab": {
          "base_uri": "https://localhost:8080/"
        },
        "id": "ZZg7ia307loE",
        "outputId": "bf1abed8-55a7-4645-e1d4-3b702206e32c"
      },
      "source": [
        "!pip install sentencepiece"
      ],
      "execution_count": 2,
      "outputs": [
        {
          "output_type": "stream",
          "text": [
            "Requirement already satisfied: sentencepiece in /usr/local/lib/python3.6/dist-packages (0.1.94)\n"
          ],
          "name": "stdout"
        }
      ]
    },
    {
      "cell_type": "code",
      "metadata": {
        "id": "Jd_H0qkCqh0a"
      },
      "source": [
        "import matplotlib.pyplot as plt\n",
        "import nltk\n",
        "import numpy as np\n",
        "import os\n",
        "import torch\n",
        "import torch.nn as nn\n",
        "import torch.nn.functional as F\n",
        "\n",
        "from nltk.corpus import reuters\n",
        "from transformers import LongformerTokenizer, LongformerForSequenceClassification\n",
        "from torch.utils.data import DataLoader, Dataset\n",
        "\n",
        "%matplotlib inline"
      ],
      "execution_count": 3,
      "outputs": []
    },
    {
      "cell_type": "markdown",
      "metadata": {
        "id": "-SqKArGfwiTQ"
      },
      "source": [
        "### Download and analyze data\n",
        "\n",
        "This is a subset of the older Reuters-21578 dataset and provides the full text of a subset of documents. A single document can have up to 90 labels. This seems to be about the only place where we can get some text data with multi-labels, [scikit-learn datasets](https://scikit-learn.org/dev/modules/generated/sklearn.datasets.fetch_rcv1.html#sklearn.datasets.fetch_rcv1) and other upstream repositories for the more recent Reuters-RCV1 dataset provide tokenized and TF-IDF vectorized versions.\n",
        "\n",
        "The article [Classifying Reuters-21578 collection with Python](https://miguelmalvarez.com/2015/03/20/classifying-reuters-21578-collection-with-python-representing-the-data/) by Miguel M Alvarez provided instructions on downloading the dataset from NLTK."
      ]
    },
    {
      "cell_type": "code",
      "metadata": {
        "colab": {
          "base_uri": "https://localhost:8080/"
        },
        "id": "87I_v64grmaw",
        "outputId": "2e7d5918-aa08-4db2-9927-656d7d71e73e"
      },
      "source": [
        "nltk.download(\"reuters\")"
      ],
      "execution_count": 4,
      "outputs": [
        {
          "output_type": "stream",
          "text": [
            "[nltk_data] Downloading package reuters to /root/nltk_data...\n",
            "[nltk_data]   Package reuters is already up-to-date!\n"
          ],
          "name": "stdout"
        },
        {
          "output_type": "execute_result",
          "data": {
            "text/plain": [
              "True"
            ]
          },
          "metadata": {
            "tags": []
          },
          "execution_count": 4
        }
      ]
    },
    {
      "cell_type": "code",
      "metadata": {
        "colab": {
          "base_uri": "https://localhost:8080/"
        },
        "id": "0mAvDFd8wh30",
        "outputId": "e5b041c1-801a-471f-8d24-83c3f61d40e1"
      },
      "source": [
        "doc_ids = reuters.fileids()\n",
        "print(\"Number of documents:\", len(doc_ids))\n",
        "\n",
        "categories = reuters.categories()\n",
        "print(\"Number of categories:\", len(categories))"
      ],
      "execution_count": 5,
      "outputs": [
        {
          "output_type": "stream",
          "text": [
            "Number of documents: 10788\n",
            "Number of categories: 90\n"
          ],
          "name": "stdout"
        }
      ]
    },
    {
      "cell_type": "code",
      "metadata": {
        "colab": {
          "base_uri": "https://localhost:8080/"
        },
        "id": "0Ygv-72iv9mu",
        "outputId": "56c8ef5d-6e5e-4e17-ec7e-8476e26e3308"
      },
      "source": [
        "def preprocess_text(text):\n",
        "  lines_in = text.replace(\"&lt;\", \"<\").split('\\n')\n",
        "  lines_out = []\n",
        "  if not lines_in[0].endswith(\".\"):\n",
        "    lines_out.append(lines_in[0] + \".\")\n",
        "  lines_out.extend([line.strip() for line in lines_in[1:]])\n",
        "  return \" \".join(lines_out)\n",
        "\n",
        "random_idx = np.random.randint(0, high=len(doc_ids))\n",
        "print(\"--- random doc({:d}): {:s} ---\".format(random_idx, doc_ids[random_idx]))\n",
        "print(\"Document text (orig)\\n{:s}\".format(reuters.raw(doc_ids[random_idx])))\n",
        "print(\"Document text (pre-processed)\\n{:s}\".format(preprocess_text(reuters.raw(doc_ids[random_idx]))))\n",
        "print(\"Categories:\", reuters.categories(doc_ids[random_idx]))"
      ],
      "execution_count": 6,
      "outputs": [
        {
          "output_type": "stream",
          "text": [
            "--- random doc(821): test/16282 ---\n",
            "Document text (orig)\n",
            "SPANISH MONEY SUPPLY GROWING AT DOUBLE TARGET PACE\n",
            "  Spain's principal measure of money\n",
            "  supply, the broad-based liquid assets in public hands (ALP),\n",
            "  grew at an annualised rate of 17.6 pct in March against 16.6\n",
            "  pct in February and 19.6 pct in March last year, provisional\n",
            "  Bank of Spain figures show.\n",
            "      The bank's target range for this year is 6.5 to 9.5 pct,\n",
            "  and Bank of Spain Governor Mariano Rubio said this month he was\n",
            "  aiming for the lower end of that range.\n",
            "      ALP grew by 11.4 pct during 1986.\n",
            "  \n",
            "\n",
            "\n",
            "Document text (pre-processed)\n",
            "SPANISH MONEY SUPPLY GROWING AT DOUBLE TARGET PACE. Spain's principal measure of money supply, the broad-based liquid assets in public hands (ALP), grew at an annualised rate of 17.6 pct in March against 16.6 pct in February and 19.6 pct in March last year, provisional Bank of Spain figures show. The bank's target range for this year is 6.5 to 9.5 pct, and Bank of Spain Governor Mariano Rubio said this month he was aiming for the lower end of that range. ALP grew by 11.4 pct during 1986.   \n",
            "Categories: ['money-supply']\n"
          ],
          "name": "stdout"
        }
      ]
    },
    {
      "cell_type": "code",
      "metadata": {
        "colab": {
          "base_uri": "https://localhost:8080/"
        },
        "id": "FW03lnaQ02co",
        "outputId": "cef3e4b0-1c56-4fb2-8533-4dfb23ffa4fa"
      },
      "source": [
        "train_docids = [doc_id for doc_id in doc_ids if doc_id.startswith(\"training/\")]\n",
        "test_docids = [doc_id for doc_id in doc_ids if doc_id.startswith(\"test/\")]\n",
        "print(\"{:d} training and {:d} test examples\".format(len(train_docids), len(test_docids)))"
      ],
      "execution_count": 7,
      "outputs": [
        {
          "output_type": "stream",
          "text": [
            "7769 training and 3019 test examples\n"
          ],
          "name": "stdout"
        }
      ]
    },
    {
      "cell_type": "code",
      "metadata": {
        "colab": {
          "base_uri": "https://localhost:8080/",
          "height": 279
        },
        "id": "V9kRLyX-2ggQ",
        "outputId": "48f10413-c320-4708-921d-6b84f8370d7b"
      },
      "source": [
        "doc_lengths = [len(reuters.raw(doc_id).split()) for doc_id in train_docids]\n",
        "plt.xlabel(\"number of tokens (whitespace)\")\n",
        "plt.ylabel(\"number of documents\")\n",
        "_ = plt.hist(doc_lengths)"
      ],
      "execution_count": 8,
      "outputs": [
        {
          "output_type": "display_data",
          "data": {
            "image/png": "[encoded data removed]",
            "text/plain": [
              "<Figure size 432x288 with 1 Axes>"
            ]
          },
          "metadata": {
            "tags": [],
            "needs_background": "light"
          }
        }
      ]
    },
    {
      "cell_type": "code",
      "metadata": {
        "colab": {
          "base_uri": "https://localhost:8080/"
        },
        "id": "NdmlE7sc4Pij",
        "outputId": "e94fdc7b-0fff-4e3e-8e9c-9893bdb9c55c"
      },
      "source": [
        "idx2cat = {i:c for i, c in enumerate(reuters.categories())}\n",
        "cat2idx = {v:k for k, v in idx2cat.items()}\n",
        "\n",
        "len(idx2cat), len(cat2idx)"
      ],
      "execution_count": 9,
      "outputs": [
        {
          "output_type": "execute_result",
          "data": {
            "text/plain": [
              "(90, 90)"
            ]
          },
          "metadata": {
            "tags": []
          },
          "execution_count": 9
        }
      ]
    },
    {
      "cell_type": "markdown",
      "metadata": {
        "id": "Jv-Cf8E34CjX"
      },
      "source": [
        "### Dataset and DataLoader"
      ]
    },
    {
      "cell_type": "code",
      "metadata": {
        "id": "jugCXw3h30cI"
      },
      "source": [
        "class ReutersDataset(Dataset):\n",
        "  def __init__(self, reuters, docids):\n",
        "    super().__init__()\n",
        "    self.reuters = reuters\n",
        "    self.docids = docids\n",
        "\n",
        "  def __len__(self):\n",
        "    return len(self.docids)\n",
        "\n",
        "  def __getitem__(self, idx):\n",
        "    doc_id = self.docids[idx]\n",
        "    text = preprocess_text(self.reuters.raw(doc_id))\n",
        "    labels = self.reuters.categories(doc_id)\n",
        "    return text, \",\".join(labels)\n",
        "\n",
        "train_ds = ReutersDataset(reuters, train_docids)\n",
        "test_ds = ReutersDataset(reuters, test_docids)"
      ],
      "execution_count": 10,
      "outputs": []
    },
    {
      "cell_type": "code",
      "metadata": {
        "colab": {
          "base_uri": "https://localhost:8080/"
        },
        "id": "kVRkYiXpFMPX",
        "outputId": "5c7e57a5-06ba-4070-f6f7-29dd0026582d"
      },
      "source": [
        "# self-test\n",
        "text, labels = test_ds[12]\n",
        "print(\"text:\", text)\n",
        "print(\"labels:\", labels)"
      ],
      "execution_count": 11,
      "outputs": [
        {
          "output_type": "stream",
          "text": [
            "text: BOND CORP STILL CONSIDERING ATLAS MINING BAIL-OUT. Bond Corp Holdings Ltd <BONA.S> and Atlas Consolidated Mining and Development Corp <ATLC.MN> are still holding talks on a bail-out package for the troubled mining firm, an Atlas statement said. Atlas, the Philippines' biggest copper producer, said it had been hit by depressed world copper prices. It reported a net loss of 976.38 mln pesos in the year ending December 1986, compared with a net loss of 1.53 billion in 1985. The company said it had been able to cut its losses because its scaled-down copper operations in the central island of Cebu started in the second half of 1986. Atlas said negotiations were continuing on the acquisition by Bond of the company's existing bank loans and their restructuring into a gold loan. A memorandum of understanding signed by the two sides in October last year said Bond would acquire Atlas' total loans of 275 mln dlrs, to be repaid by the mining company in gold. Atlas said the two sides were also discussing equity infusion into Atlas and the creation of a development fund for further exploration and development of the company's gold properties in the central province of Masbate. Wilson Banks, general manager of <Bond Corp International Ltd> in Hong Kong, told Reuters the Atlas statement on the negotiations was \"reasonably accurate.\" Banks said Bond Corp was seriously considering several investments in the Philippines but did not give details. In its statement, Atlas said development of the pre-World War Two underground mines in Masbate had been accelerated and the ore tonnage had increased, extending the operation's life at least until 1993.   \n",
            "labels: acq,copper\n"
          ],
          "name": "stdout"
        }
      ]
    },
    {
      "cell_type": "code",
      "metadata": {
        "id": "XdvQgFdpFsN0"
      },
      "source": [
        "BATCH_SIZE = 4\n",
        "\n",
        "train_dl = DataLoader(train_ds, shuffle=True, batch_size=BATCH_SIZE)\n",
        "test_dl = DataLoader(test_ds, shuffle=False, batch_size=BATCH_SIZE)"
      ],
      "execution_count": 12,
      "outputs": []
    },
    {
      "cell_type": "markdown",
      "metadata": {
        "id": "GqnCdv5k7HKr"
      },
      "source": [
        "### Model"
      ]
    },
    {
      "cell_type": "code",
      "metadata": {
        "colab": {
          "base_uri": "https://localhost:8080/"
        },
        "id": "3_oRB6IM7IFD",
        "outputId": "829c4adf-2255-4f43-c49f-30e86321d373"
      },
      "source": [
        "tokenizer = LongformerTokenizer.from_pretrained(\"allenai/longformer-base-4096\")\n",
        "model = LongformerForSequenceClassification.from_pretrained(\"allenai/longformer-base-4096\", num_labels=90)"
      ],
      "execution_count": 13,
      "outputs": [
        {
          "output_type": "stream",
          "text": [
            "Some weights of the model checkpoint at allenai/longformer-base-4096 were not used when initializing LongformerForSequenceClassification: ['lm_head.bias', 'lm_head.dense.weight', 'lm_head.dense.bias', 'lm_head.layer_norm.weight', 'lm_head.layer_norm.bias', 'lm_head.decoder.weight']\n",
            "- This IS expected if you are initializing LongformerForSequenceClassification from the checkpoint of a model trained on another task or with another architecture (e.g. initializing a BertForSequenceClassification model from a BertForPreTraining model).\n",
            "- This IS NOT expected if you are initializing LongformerForSequenceClassification from the checkpoint of a model that you expect to be exactly identical (initializing a BertForSequenceClassification model from a BertForSequenceClassification model).\n",
            "Some weights of LongformerForSequenceClassification were not initialized from the model checkpoint at allenai/longformer-base-4096 and are newly initialized: ['classifier.dense.weight', 'classifier.dense.bias', 'classifier.out_proj.weight', 'classifier.out_proj.bias']\n",
            "You should probably TRAIN this model on a down-stream task to be able to use it for predictions and inference.\n"
          ],
          "name": "stderr"
        }
      ]
    },
    {
      "cell_type": "code",
      "metadata": {
        "colab": {
          "base_uri": "https://localhost:8080/"
        },
        "id": "Vfuj8ebY7iLO",
        "outputId": "61bcdcbc-5d04-479b-f29f-9b37db15fc12"
      },
      "source": [
        "inputs = tokenizer(\"Hello, my dog is cute\", return_tensors=\"pt\")\n",
        "outputs = model(**inputs)\n",
        "logits = outputs.logits\n",
        "logits.size()"
      ],
      "execution_count": 14,
      "outputs": [
        {
          "output_type": "execute_result",
          "data": {
            "text/plain": [
              "torch.Size([1, 90])"
            ]
          },
          "metadata": {
            "tags": []
          },
          "execution_count": 14
        }
      ]
    },
    {
      "cell_type": "code",
      "metadata": {
        "id": "-4Sjp3hlG1x1"
      },
      "source": [
        "dev = torch.device(\"cuda\" if torch.cuda.is_available() else \"cpu\")\n",
        "model = model.to(dev)"
      ],
      "execution_count": 15,
      "outputs": []
    },
    {
      "cell_type": "markdown",
      "metadata": {
        "id": "skxiRx0VCHwI"
      },
      "source": [
        "### Training"
      ]
    },
    {
      "cell_type": "code",
      "metadata": {
        "id": "u6pJsjvKG_O-"
      },
      "source": [
        "NUM_EPOCHS = 3\n",
        "LEARNING_RATE = 1e-5\n",
        "MAX_LENGTH = 768\n",
        "NUM_CATEGORIES = 90"
      ],
      "execution_count": 16,
      "outputs": []
    },
    {
      "cell_type": "code",
      "metadata": {
        "colab": {
          "base_uri": "https://localhost:8080/"
        },
        "id": "aSl05mUNjfD-",
        "outputId": "ffa7d3cf-698b-46d3-ec00-0b7b1732b0bd"
      },
      "source": [
        "def convert_labels_to_tensor(labels_batch, num_categories, label2idx):\n",
        "  label_vecs = []\n",
        "  for label_str in labels_batch:\n",
        "    cat_indices = [label2idx[label] for label in label_str.split(\",\")]\n",
        "    label_vec = np.zeros((num_categories), dtype=np.float32)\n",
        "    for i in cat_indices:\n",
        "      label_vec[i] = 1.0\n",
        "    label_vecs.append(label_vec)\n",
        "  return torch.as_tensor(label_vecs)\n",
        "\n",
        "convert_labels_to_tensor([\"acq,copper\"], NUM_CATEGORIES, cat2idx)"
      ],
      "execution_count": 17,
      "outputs": [
        {
          "output_type": "execute_result",
          "data": {
            "text/plain": [
              "tensor([[1., 0., 0., 0., 0., 0., 0., 0., 0., 0., 1., 0., 0., 0., 0., 0., 0., 0.,\n",
              "         0., 0., 0., 0., 0., 0., 0., 0., 0., 0., 0., 0., 0., 0., 0., 0., 0., 0.,\n",
              "         0., 0., 0., 0., 0., 0., 0., 0., 0., 0., 0., 0., 0., 0., 0., 0., 0., 0.,\n",
              "         0., 0., 0., 0., 0., 0., 0., 0., 0., 0., 0., 0., 0., 0., 0., 0., 0., 0.,\n",
              "         0., 0., 0., 0., 0., 0., 0., 0., 0., 0., 0., 0., 0., 0., 0., 0., 0., 0.]])"
            ]
          },
          "metadata": {
            "tags": []
          },
          "execution_count": 17
        }
      ]
    },
    {
      "cell_type": "code",
      "metadata": {
        "id": "jDCFb76Aoxdv"
      },
      "source": [
        "def loss_fn(outputs, targets):\n",
        "  return torch.nn.BCELoss()(outputs, targets)\n",
        "\n",
        "optimizer = torch.optim.AdamW(params=model.parameters(), lr=LEARNING_RATE)"
      ],
      "execution_count": 18,
      "outputs": []
    },
    {
      "cell_type": "code",
      "metadata": {
        "id": "5TOv78mhGPL8"
      },
      "source": [
        "def train(train_dl, model, tokenizer, optimizer, loss_fn):\n",
        "  model.train()\n",
        "  total_train, total_loss, total_acc = 0, 0, 0\n",
        "  print(\"train:\", end=\"\")\n",
        "  for batch_id, batch in enumerate(train_dl):\n",
        "    if batch_id % 100 == 0:\n",
        "      print(\".\", end=\"\")\n",
        "\n",
        "    text, multilabels = batch\n",
        "    \n",
        "    inputs = tokenizer(text, padding=True, truncation=True, \n",
        "                       max_length=MAX_LENGTH, return_tensors=\"pt\")\n",
        "    input_ids = inputs.input_ids\n",
        "    attention_mask = inputs.attention_mask\n",
        "    input_ids, attention_mask = input_ids.to(dev), attention_mask.to(dev)\n",
        "\n",
        "    labels = convert_labels_to_tensor(multilabels, NUM_CATEGORIES, cat2idx)\n",
        "    labels = labels.to(dev)\n",
        "\n",
        "    outputs = model(input_ids, attention_mask=attention_mask)\n",
        "    preds = F.softmax(outputs.logits, dim=1)\n",
        "    loss = loss_fn(preds, labels)\n",
        "\n",
        "    total_loss += loss.item()\n",
        "    total_acc += ((preds > 0.5) == labels).sum()\n",
        "    total_train += labels.size(0)\n",
        "\n",
        "    optimizer.zero_grad()\n",
        "    loss.backward()\n",
        "    optimizer.step()\n",
        "\n",
        "  print()\n",
        "  return total_loss / total_train, total_acc / (total_train * NUM_CATEGORIES)\n",
        "\n",
        "\n",
        "def evaluate(val_dl, model, tokenizer, loss_fn):\n",
        "  model.eval()\n",
        "  total_val, total_loss, total_acc = 0, 0, 0\n",
        "  print(\"validation:\", end=\"\")\n",
        "  for batch_id, batch in enumerate(val_dl):\n",
        "    if batch_id % 100 == 0:\n",
        "      print(\".\", end=\"\")\n",
        "\n",
        "    text, multilabels = batch\n",
        "\n",
        "    inputs = tokenizer(text, padding=True, truncation=True,\n",
        "                       max_length=MAX_LENGTH, return_tensors=\"pt\")\n",
        "    input_ids = inputs.input_ids\n",
        "    attention_mask = inputs.attention_mask\n",
        "    input_ids, attention_mask = input_ids.to(dev), attention_mask.to(dev)\n",
        "\n",
        "    labels = convert_labels_to_tensor(multilabels, NUM_CATEGORIES, cat2idx)\n",
        "    labels = labels.to(dev)\n",
        "\n",
        "    with torch.no_grad():\n",
        "      outputs = model(input_ids, attention_mask=attention_mask)\n",
        "      preds = F.softmax(outputs.logits, dim=1)\n",
        "      loss = loss_fn(preds, labels)\n",
        "\n",
        "    total_loss += loss.item()\n",
        "    total_acc += ((preds > 0.5) == labels).sum()\n",
        "    total_val += labels.size(0)\n",
        "\n",
        "  print()\n",
        "  return total_loss / total_val, total_acc / (total_val * NUM_CATEGORIES)\n"
      ],
      "execution_count": 19,
      "outputs": []
    },
    {
      "cell_type": "code",
      "metadata": {
        "colab": {
          "base_uri": "https://localhost:8080/"
        },
        "id": "fMmEUuVxHSMJ",
        "outputId": "5c24ccd3-48a2-418f-93a6-fb70500c71cd"
      },
      "source": [
        "train_losses, train_accs, val_losses, val_accs = [], [], [], []\n",
        "for epoch in range(1, NUM_EPOCHS + 1):\n",
        "  train_loss, train_acc = train(train_dl, model, tokenizer, optimizer, loss_fn)\n",
        "  test_loss, test_acc = evaluate(test_dl, model, tokenizer, loss_fn)\n",
        "  print(\"EPOCH {:d}, train loss: {:.3f}, acc: {:.3f}, val_loss: {:.3f}, val_acc: {:.3f}\"\n",
        "    .format(epoch, train_loss, train_acc, test_loss, test_acc))\n",
        "  \n",
        "  train_losses.append(train_loss)\n",
        "  train_accs.append(train_acc)\n",
        "  val_losses.append(test_loss)\n",
        "  val_accs.append(test_acc)\n"
      ],
      "execution_count": 20,
      "outputs": [
        {
          "output_type": "stream",
          "text": [
            "train:....................\n",
            "validation:........\n",
            "EPOCH 1, train loss: 0.007, acc: 0.993, val_loss: 0.004, val_acc: 0.995\n",
            "train:....................\n",
            "validation:........\n",
            "EPOCH 2, train loss: 0.004, acc: 0.995, val_loss: 0.004, val_acc: 0.995\n",
            "train:....................\n",
            "validation:........\n",
            "EPOCH 3, train loss: 0.003, acc: 0.996, val_loss: 0.003, val_acc: 0.995\n"
          ],
          "name": "stdout"
        }
      ]
    },
    {
      "cell_type": "code",
      "metadata": {
        "colab": {
          "base_uri": "https://localhost:8080/",
          "height": 279
        },
        "id": "1hnOg-SP8Rzz",
        "outputId": "3a478986-43a2-44e0-d74e-acbc7080e351"
      },
      "source": [
        "plt.subplot(2, 1, 1)\n",
        "plt.plot(train_losses, label=\"train\")\n",
        "plt.plot(val_losses, label=\"valid\")\n",
        "plt.xlabel(\"epochs\")\n",
        "plt.ylabel(\"loss\")\n",
        "plt.legend(loc=\"best\")\n",
        "\n",
        "plt.subplot(2, 1, 2)\n",
        "plt.plot(train_accs, label=\"train\")\n",
        "plt.plot(val_accs, label=\"valid\")\n",
        "plt.xlabel(\"epochs\")\n",
        "plt.ylabel(\"accuracy\")\n",
        "plt.legend(loc=\"best\")\n",
        "\n",
        "_ = plt.show()"
      ],
      "execution_count": 21,
      "outputs": [
        {
          "output_type": "display_data",
          "data": {
            "image/png": "[encoded data removed]",
            "text/plain": [
              "<Figure size 432x288 with 2 Axes>"
            ]
          },
          "metadata": {
            "tags": [],
            "needs_background": "light"
          }
        }
      ]
    },
    {
      "cell_type": "markdown",
      "metadata": {
        "id": "o-nfV4m78d57"
      },
      "source": [
        "### Evaluation\n",
        "\n",
        "We will create custom implementations of precision, recall, and F1-score for multi-label classification as described in [this CrossValidated page](https://stats.stackexchange.com/questions/12702/what-are-the-measure-for-accuracy-of-multilabel-data).\n",
        "\n",
        "$$P = \\frac{1}{n} \\sum_{i=1}^n \\frac{|Y_i \\cap Z_i|}{|Z_i|} $$\n",
        "$$R = \\frac{1}{n} \\sum_{i=1}^n \\frac{|Y_i \\cap Z_i|}{|Y_i|} $$\n",
        "$$F_1 = \\frac{1}{n} \\sum_{i=1}^n \\frac{2|Y_i \\cap Z_i|}{|Y_i|+|Z_i|} $$\n",
        "\n",
        "where $Y_i$ is the label vector, and $Z_i$ is the prediction vector respectively for the i-th example. "
      ]
    },
    {
      "cell_type": "code",
      "metadata": {
        "colab": {
          "base_uri": "https://localhost:8080/"
        },
        "id": "PXs1PIY9w0E8",
        "outputId": "5c667863-5305-4bb3-be92-9bdefe983a07"
      },
      "source": [
        "def compute_metrics(label, pred):\n",
        "  mask = label.eq(1)\n",
        "  label_m = torch.masked_select(label, mask)\n",
        "  pred_m = torch.masked_select(pred, mask)\n",
        "  num_overlap = (label_m == pred_m).sum()\n",
        "  num_labels = label_m.size(-1)\n",
        "  num_preds = pred_m.size(-1)\n",
        "  return num_overlap, num_labels, num_preds\n",
        "\n",
        "\n",
        "total_p, total_r, total_f1, total_batches = 0, 0, 0, 0\n",
        "for batch in test_dl:\n",
        "\n",
        "    text, multilabels = batch\n",
        "\n",
        "    inputs = tokenizer(text, padding=True, truncation=True,\n",
        "                       max_length=MAX_LENGTH, return_tensors=\"pt\")\n",
        "    input_ids = inputs.input_ids\n",
        "    attention_mask = inputs.attention_mask\n",
        "    input_ids, attention_mask = input_ids.to(dev), attention_mask.to(dev)\n",
        "\n",
        "    labels = convert_labels_to_tensor(multilabels, NUM_CATEGORIES, cat2idx)\n",
        "    labels = labels.to(dev)\n",
        "\n",
        "    with torch.no_grad():\n",
        "      outputs = model(input_ids, attention_mask=attention_mask)\n",
        "      preds = (F.softmax(outputs.logits, dim=1) > 0.5)\n",
        "\n",
        "    num_overlap, num_labels, num_preds = compute_metrics(labels, preds)\n",
        "    p = num_overlap / num_preds\n",
        "    r = num_overlap / num_labels\n",
        "    f1 = 2 * num_overlap / (num_preds + num_labels)\n",
        "\n",
        "    total_p += p\n",
        "    total_r += r\n",
        "    total_f1 += f1\n",
        "    total_batches += 1\n",
        "    \n",
        "print(\"precision: {:.3f}\".format(total_p / total_batches))\n",
        "print(\"recall:    {:.3f}\".format(total_r / total_batches))\n",
        "print(\"f1-score:  {:.3f}\".format(total_f1 / total_batches))"
      ],
      "execution_count": 22,
      "outputs": [
        {
          "output_type": "stream",
          "text": [
            "precision: 0.757\n",
            "recall:    0.757\n",
            "f1-score:  0.757\n"
          ],
          "name": "stdout"
        }
      ]
    },
    {
      "cell_type": "code",
      "metadata": {
        "id": "AvTvCG0nC83g"
      },
      "source": [
        ""
      ],
      "execution_count": 22,
      "outputs": []
    }
  ]
}