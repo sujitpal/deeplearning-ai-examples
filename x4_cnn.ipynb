{
  "nbformat": 4,
  "nbformat_minor": 0,
  "metadata": {
    "colab": {
      "name": "x4_cnn.ipynb",
      "provenance": [],
      "collapsed_sections": [],
      "authorship_tag": "ABX9TyMovQ2INqnNc14+P/DvKgxu",
      "include_colab_link": true
    },
    "kernelspec": {
      "name": "python3",
      "display_name": "Python 3"
    },
    "accelerator": "GPU"
  },
  "cells": [
    {
      "cell_type": "markdown",
      "metadata": {
        "id": "view-in-github",
        "colab_type": "text"
      },
      "source": [
        "<a href=\"https://colab.research.google.com/github/sujitpal/nlp-deeplearning-ai-examples/blob/master/x4_cnn.ipynb\" target=\"_parent\"><img src=\"https://colab.research.google.com/assets/colab-badge.svg\" alt=\"Open In Colab\"/></a>"
      ]
    },
    {
      "cell_type": "markdown",
      "metadata": {
        "id": "vchhoSCvCxgQ",
        "colab_type": "text"
      },
      "source": [
        "## Convolutional Neural Networks"
      ]
    },
    {
      "cell_type": "code",
      "metadata": {
        "id": "SX5n1G_pGlBk",
        "colab_type": "code",
        "colab": {}
      },
      "source": [
        "from torch.utils.data import DataLoader, SubsetRandomSampler\n",
        "from torchvision import datasets\n",
        "from sklearn.model_selection import train_test_split\n",
        "\n",
        "import matplotlib.pyplot as plt\n",
        "import numpy as np\n",
        "import torch\n",
        "import torch.nn as nn\n",
        "import torch.nn.functional as F\n",
        "import torchvision.transforms as transforms\n",
        "\n",
        "%matplotlib inline"
      ],
      "execution_count": 1,
      "outputs": []
    },
    {
      "cell_type": "markdown",
      "metadata": {
        "id": "dxXXkhryGxiv",
        "colab_type": "text"
      },
      "source": [
        "### 4.01: Build CNN for image classification problem\n",
        "\n",
        "#### Data"
      ]
    },
    {
      "cell_type": "code",
      "metadata": {
        "id": "O9WfYTqrIJwt",
        "colab_type": "code",
        "colab": {
          "base_uri": "https://localhost:8080/",
          "height": 68
        },
        "outputId": "bde70aca-e824-455b-8741-246179918e32"
      },
      "source": [
        "transformation = transforms.Compose([\n",
        "    transforms.ToTensor(),\n",
        "    transforms.Normalize((0.5, 0.5, 0.5), (0.5, 0.5, 0.5)),\n",
        "])\n",
        "\n",
        "train_data = datasets.CIFAR10(root=\"data\", train=True, download=True, transform=transformation)\n",
        "test_data = datasets.CIFAR10(root=\"data\", train=False, download=True, transform=transformation)\n",
        "\n",
        "len(train_data), len(test_data)"
      ],
      "execution_count": 2,
      "outputs": [
        {
          "output_type": "stream",
          "text": [
            "Files already downloaded and verified\n",
            "Files already downloaded and verified\n"
          ],
          "name": "stdout"
        },
        {
          "output_type": "execute_result",
          "data": {
            "text/plain": [
              "(50000, 10000)"
            ]
          },
          "metadata": {
            "tags": []
          },
          "execution_count": 2
        }
      ]
    },
    {
      "cell_type": "code",
      "metadata": {
        "id": "nHolqW9jIXBv",
        "colab_type": "code",
        "colab": {
          "base_uri": "https://localhost:8080/",
          "height": 34
        },
        "outputId": "693a00d8-5b97-405d-f981-69ac41435692"
      },
      "source": [
        "idx = list(range(len(train_data)))\n",
        "train_idx, val_idx = train_test_split(idx, test_size=0.2, random_state=0)\n",
        "len(train_idx), len(val_idx)"
      ],
      "execution_count": 3,
      "outputs": [
        {
          "output_type": "execute_result",
          "data": {
            "text/plain": [
              "(40000, 10000)"
            ]
          },
          "metadata": {
            "tags": []
          },
          "execution_count": 3
        }
      ]
    },
    {
      "cell_type": "code",
      "metadata": {
        "id": "ceVkDKAXId45",
        "colab_type": "code",
        "colab": {}
      },
      "source": [
        "train_sampler = SubsetRandomSampler(train_idx)\n",
        "val_sampler = SubsetRandomSampler(val_idx)"
      ],
      "execution_count": 4,
      "outputs": []
    },
    {
      "cell_type": "code",
      "metadata": {
        "id": "glCHnSWkIe8c",
        "colab_type": "code",
        "colab": {}
      },
      "source": [
        "batch_size = 100\n",
        "\n",
        "train_loader = DataLoader(train_data, batch_size=batch_size, sampler=train_sampler)\n",
        "val_loader = DataLoader(train_data, batch_size=batch_size, sampler=val_sampler)\n",
        "test_loader = DataLoader(test_data, batch_size=batch_size)"
      ],
      "execution_count": 5,
      "outputs": []
    },
    {
      "cell_type": "markdown",
      "metadata": {
        "id": "a39bR2qtIL0u",
        "colab_type": "text"
      },
      "source": [
        "#### Network\n",
        "\n",
        "* Input shape is (3, 32, 32) -- channel first"
      ]
    },
    {
      "cell_type": "code",
      "metadata": {
        "id": "sKyamVW8G2e_",
        "colab_type": "code",
        "colab": {
          "base_uri": "https://localhost:8080/",
          "height": 408
        },
        "outputId": "7932f586-5418-4924-f37f-8e8d945a94f1"
      },
      "source": [
        "class ImageClassifierNet(nn.Module):\n",
        "\n",
        "  def __init__(self):\n",
        "    super(ImageClassifierNet, self).__init__()\n",
        "    self.conv1 = nn.Sequential(\n",
        "      nn.Conv2d(3, 10, 3, 1, padding=1),    # (10, 32, 32)\n",
        "      nn.ReLU(),\n",
        "      nn.MaxPool2d(2, 2)                    # (10, 16, 16)\n",
        "    )\n",
        "    self.conv2 = nn.Sequential(\n",
        "        nn.Conv2d(10, 20, 3, 1, padding=1), # (20, 16, 16)\n",
        "        nn.ReLU(),\n",
        "        nn.MaxPool2d(2, 2)                  # (20, 8, 8)\n",
        "    )\n",
        "    self.conv3 = nn.Sequential(\n",
        "        nn.Conv2d(20, 40, 3, 1, padding=1), # (40, 8, 8)\n",
        "        nn.ReLU(),\n",
        "        nn.MaxPool2d(2, 2)                  # (40, 4, 4)\n",
        "    )\n",
        "    self.linear1 = nn.Sequential(\n",
        "        nn.Linear(40 * 4 * 4, 100),\n",
        "        nn.Dropout(0.2),\n",
        "        nn.ReLU()\n",
        "    )\n",
        "    self.linear2 = nn.Linear(100, 10)\n",
        "\n",
        "  def forward(self, x):\n",
        "    x = self.conv1(x)\n",
        "    x = self.conv2(x)\n",
        "    x = self.conv3(x)\n",
        "    x = x.view(-1, 40 * 4 * 4)\n",
        "    x = self.linear1(x)\n",
        "    x = F.log_softmax(self.linear2(x), dim=1)\n",
        "    return x\n",
        "\n",
        "net1 = ImageClassifierNet()\n",
        "print(net1)"
      ],
      "execution_count": 6,
      "outputs": [
        {
          "output_type": "stream",
          "text": [
            "ImageClassifierNet(\n",
            "  (conv1): Sequential(\n",
            "    (0): Conv2d(3, 10, kernel_size=(3, 3), stride=(1, 1), padding=(1, 1))\n",
            "    (1): ReLU()\n",
            "    (2): MaxPool2d(kernel_size=2, stride=2, padding=0, dilation=1, ceil_mode=False)\n",
            "  )\n",
            "  (conv2): Sequential(\n",
            "    (0): Conv2d(10, 20, kernel_size=(3, 3), stride=(1, 1), padding=(1, 1))\n",
            "    (1): ReLU()\n",
            "    (2): MaxPool2d(kernel_size=2, stride=2, padding=0, dilation=1, ceil_mode=False)\n",
            "  )\n",
            "  (conv3): Sequential(\n",
            "    (0): Conv2d(20, 40, kernel_size=(3, 3), stride=(1, 1), padding=(1, 1))\n",
            "    (1): ReLU()\n",
            "    (2): MaxPool2d(kernel_size=2, stride=2, padding=0, dilation=1, ceil_mode=False)\n",
            "  )\n",
            "  (linear1): Sequential(\n",
            "    (0): Linear(in_features=640, out_features=100, bias=True)\n",
            "    (1): Dropout(p=0.2, inplace=False)\n",
            "    (2): ReLU()\n",
            "  )\n",
            "  (linear2): Linear(in_features=100, out_features=10, bias=True)\n",
            ")\n"
          ],
          "name": "stdout"
        }
      ]
    },
    {
      "cell_type": "markdown",
      "metadata": {
        "id": "IJfg-R-FNFY8",
        "colab_type": "text"
      },
      "source": [
        "#### Training Loop"
      ]
    },
    {
      "cell_type": "code",
      "metadata": {
        "id": "f0Yn4EvMF5KF",
        "colab_type": "code",
        "colab": {}
      },
      "source": [
        "def train(net, dev, train_dl, val_dl, num_epochs=50, lr=1e-3):\n",
        "  losses = []\n",
        "  params = filter(lambda p: p.requires_grad, net.parameters())\n",
        "  optimizer = torch.optim.Adam(params, lr=lr)\n",
        "  for i in range(num_epochs):\n",
        "    net.train()\n",
        "    sum_loss, correct, total = 0, 0, 0\n",
        "    for x, y in train_dl:\n",
        "      x, y = x.to(dev), y.to(dev)\n",
        "      y_ = net(x)\n",
        "      _, pred = torch.max(y_, 1)\n",
        "      optimizer.zero_grad()\n",
        "      loss = F.nll_loss(y_, y)\n",
        "      loss.backward()\n",
        "      optimizer.step()\n",
        "      sum_loss += loss.item() * y.shape[0]\n",
        "      correct += (pred == y).float().sum()\n",
        "      total += y.shape[0]\n",
        "    val_loss, val_acc = evaluate(net, dev, val_dl)\n",
        "    train_loss = sum_loss / total\n",
        "    train_acc = correct / total\n",
        "    print(\"EPOCH {:d}: train loss: {:.3f}, train_acc: {:.3f}, val loss: {:.3f}, val acc: {:.3f}\"\n",
        "      .format(i+1, train_loss, train_acc, val_loss, val_acc))\n",
        "    losses.append((i+1, train_loss, train_acc, val_loss, val_acc))\n",
        "  return losses\n",
        "\n",
        "\n",
        "def evaluate(net, dev, val_dl):\n",
        "  net.eval()\n",
        "  correct, total, sum_loss = 0, 0, 0\n",
        "  for x, y in val_dl:\n",
        "    x, y = x.to(dev), y.to(dev)\n",
        "    y_ = net(x)\n",
        "    loss = F.nll_loss(y_, y)\n",
        "    _, pred = torch.max(y_, 1)\n",
        "    correct += (pred == y).float().sum()\n",
        "    total += y.shape[0]\n",
        "    sum_loss += loss.item() * y.shape[0]\n",
        "  return sum_loss / total, correct / total\n"
      ],
      "execution_count": 7,
      "outputs": []
    },
    {
      "cell_type": "code",
      "metadata": {
        "id": "btzEPMtVOFJx",
        "colab_type": "code",
        "colab": {
          "base_uri": "https://localhost:8080/",
          "height": 408
        },
        "outputId": "54821755-50d5-4d71-e2d0-c75e5cefda50"
      },
      "source": [
        "dev = torch.device(\"cuda\" if torch.cuda.is_available() else \"cpu\")\n",
        "net1.to(dev)"
      ],
      "execution_count": 8,
      "outputs": [
        {
          "output_type": "execute_result",
          "data": {
            "text/plain": [
              "ImageClassifierNet(\n",
              "  (conv1): Sequential(\n",
              "    (0): Conv2d(3, 10, kernel_size=(3, 3), stride=(1, 1), padding=(1, 1))\n",
              "    (1): ReLU()\n",
              "    (2): MaxPool2d(kernel_size=2, stride=2, padding=0, dilation=1, ceil_mode=False)\n",
              "  )\n",
              "  (conv2): Sequential(\n",
              "    (0): Conv2d(10, 20, kernel_size=(3, 3), stride=(1, 1), padding=(1, 1))\n",
              "    (1): ReLU()\n",
              "    (2): MaxPool2d(kernel_size=2, stride=2, padding=0, dilation=1, ceil_mode=False)\n",
              "  )\n",
              "  (conv3): Sequential(\n",
              "    (0): Conv2d(20, 40, kernel_size=(3, 3), stride=(1, 1), padding=(1, 1))\n",
              "    (1): ReLU()\n",
              "    (2): MaxPool2d(kernel_size=2, stride=2, padding=0, dilation=1, ceil_mode=False)\n",
              "  )\n",
              "  (linear1): Sequential(\n",
              "    (0): Linear(in_features=640, out_features=100, bias=True)\n",
              "    (1): Dropout(p=0.2, inplace=False)\n",
              "    (2): ReLU()\n",
              "  )\n",
              "  (linear2): Linear(in_features=100, out_features=10, bias=True)\n",
              ")"
            ]
          },
          "metadata": {
            "tags": []
          },
          "execution_count": 8
        }
      ]
    },
    {
      "cell_type": "code",
      "metadata": {
        "id": "-SgzwIyeOJXv",
        "colab_type": "code",
        "colab": {
          "base_uri": "https://localhost:8080/",
          "height": 867
        },
        "outputId": "f4b7bb2c-8388-4e91-a9d6-4ac1fb43c408"
      },
      "source": [
        "losses = train(net1, dev, train_loader, val_loader)"
      ],
      "execution_count": 9,
      "outputs": [
        {
          "output_type": "stream",
          "text": [
            "EPOCH 1: train loss: 1.727, train_acc: 0.366, val loss: 1.467, val acc: 0.469\n",
            "EPOCH 2: train loss: 1.403, train_acc: 0.492, val loss: 1.325, val acc: 0.519\n",
            "EPOCH 3: train loss: 1.278, train_acc: 0.542, val loss: 1.181, val acc: 0.574\n",
            "EPOCH 4: train loss: 1.183, train_acc: 0.578, val loss: 1.113, val acc: 0.602\n",
            "EPOCH 5: train loss: 1.113, train_acc: 0.603, val loss: 1.045, val acc: 0.631\n",
            "EPOCH 6: train loss: 1.054, train_acc: 0.625, val loss: 1.009, val acc: 0.642\n",
            "EPOCH 7: train loss: 1.007, train_acc: 0.642, val loss: 0.999, val acc: 0.644\n",
            "EPOCH 8: train loss: 0.971, train_acc: 0.657, val loss: 0.958, val acc: 0.661\n",
            "EPOCH 9: train loss: 0.936, train_acc: 0.668, val loss: 0.961, val acc: 0.664\n",
            "EPOCH 10: train loss: 0.900, train_acc: 0.680, val loss: 0.928, val acc: 0.673\n",
            "EPOCH 11: train loss: 0.876, train_acc: 0.687, val loss: 0.948, val acc: 0.665\n",
            "EPOCH 12: train loss: 0.846, train_acc: 0.697, val loss: 0.917, val acc: 0.678\n",
            "EPOCH 13: train loss: 0.819, train_acc: 0.709, val loss: 0.915, val acc: 0.681\n",
            "EPOCH 14: train loss: 0.805, train_acc: 0.713, val loss: 0.923, val acc: 0.680\n",
            "EPOCH 15: train loss: 0.779, train_acc: 0.723, val loss: 0.896, val acc: 0.689\n",
            "EPOCH 16: train loss: 0.759, train_acc: 0.729, val loss: 0.896, val acc: 0.688\n",
            "EPOCH 17: train loss: 0.746, train_acc: 0.734, val loss: 0.889, val acc: 0.692\n",
            "EPOCH 18: train loss: 0.724, train_acc: 0.740, val loss: 0.890, val acc: 0.687\n",
            "EPOCH 19: train loss: 0.711, train_acc: 0.745, val loss: 0.924, val acc: 0.687\n",
            "EPOCH 20: train loss: 0.693, train_acc: 0.751, val loss: 0.927, val acc: 0.689\n",
            "EPOCH 21: train loss: 0.674, train_acc: 0.756, val loss: 0.892, val acc: 0.694\n",
            "EPOCH 22: train loss: 0.662, train_acc: 0.760, val loss: 0.909, val acc: 0.693\n",
            "EPOCH 23: train loss: 0.653, train_acc: 0.764, val loss: 0.906, val acc: 0.696\n",
            "EPOCH 24: train loss: 0.633, train_acc: 0.770, val loss: 0.897, val acc: 0.699\n",
            "EPOCH 25: train loss: 0.626, train_acc: 0.773, val loss: 0.908, val acc: 0.695\n",
            "EPOCH 26: train loss: 0.614, train_acc: 0.776, val loss: 0.937, val acc: 0.693\n",
            "EPOCH 27: train loss: 0.595, train_acc: 0.782, val loss: 0.953, val acc: 0.698\n",
            "EPOCH 28: train loss: 0.589, train_acc: 0.786, val loss: 0.941, val acc: 0.695\n",
            "EPOCH 29: train loss: 0.585, train_acc: 0.786, val loss: 0.942, val acc: 0.698\n",
            "EPOCH 30: train loss: 0.571, train_acc: 0.792, val loss: 0.950, val acc: 0.696\n",
            "EPOCH 31: train loss: 0.559, train_acc: 0.796, val loss: 1.000, val acc: 0.689\n",
            "EPOCH 32: train loss: 0.550, train_acc: 0.797, val loss: 0.981, val acc: 0.693\n",
            "EPOCH 33: train loss: 0.542, train_acc: 0.800, val loss: 1.000, val acc: 0.690\n",
            "EPOCH 34: train loss: 0.530, train_acc: 0.804, val loss: 0.991, val acc: 0.687\n",
            "EPOCH 35: train loss: 0.524, train_acc: 0.807, val loss: 0.993, val acc: 0.686\n",
            "EPOCH 36: train loss: 0.518, train_acc: 0.807, val loss: 1.022, val acc: 0.693\n",
            "EPOCH 37: train loss: 0.506, train_acc: 0.812, val loss: 1.053, val acc: 0.690\n",
            "EPOCH 38: train loss: 0.498, train_acc: 0.813, val loss: 1.052, val acc: 0.686\n",
            "EPOCH 39: train loss: 0.491, train_acc: 0.818, val loss: 1.058, val acc: 0.686\n",
            "EPOCH 40: train loss: 0.484, train_acc: 0.820, val loss: 1.065, val acc: 0.688\n",
            "EPOCH 41: train loss: 0.486, train_acc: 0.819, val loss: 1.074, val acc: 0.691\n",
            "EPOCH 42: train loss: 0.479, train_acc: 0.822, val loss: 1.094, val acc: 0.683\n",
            "EPOCH 43: train loss: 0.469, train_acc: 0.825, val loss: 1.085, val acc: 0.689\n",
            "EPOCH 44: train loss: 0.463, train_acc: 0.827, val loss: 1.111, val acc: 0.689\n",
            "EPOCH 45: train loss: 0.455, train_acc: 0.830, val loss: 1.090, val acc: 0.688\n",
            "EPOCH 46: train loss: 0.454, train_acc: 0.829, val loss: 1.132, val acc: 0.682\n",
            "EPOCH 47: train loss: 0.444, train_acc: 0.834, val loss: 1.144, val acc: 0.679\n",
            "EPOCH 48: train loss: 0.438, train_acc: 0.836, val loss: 1.116, val acc: 0.682\n",
            "EPOCH 49: train loss: 0.432, train_acc: 0.836, val loss: 1.159, val acc: 0.681\n",
            "EPOCH 50: train loss: 0.433, train_acc: 0.838, val loss: 1.180, val acc: 0.683\n"
          ],
          "name": "stdout"
        }
      ]
    },
    {
      "cell_type": "code",
      "metadata": {
        "id": "SA5JsFW4OSqF",
        "colab_type": "code",
        "colab": {
          "base_uri": "https://localhost:8080/",
          "height": 297
        },
        "outputId": "6dd4593f-c429-43dc-cc87-f3e08e67a644"
      },
      "source": [
        "def plot_losses(losses):\n",
        "  epochs, train_losses, train_accs, val_losses, val_accs = [], [], [], [], []\n",
        "  for epoch, train_loss, train_acc, val_loss, val_acc in losses:\n",
        "    epochs.append(epoch)\n",
        "    train_losses.append(train_loss)\n",
        "    train_accs.append(train_acc)\n",
        "    val_losses.append(val_loss)\n",
        "    val_accs.append(val_acc)\n",
        "\n",
        "  plt.subplot(2, 1, 1)\n",
        "  plt.plot(epochs, train_losses, label=\"train\")\n",
        "  plt.plot(epochs, val_losses, label=\"val\")\n",
        "  plt.legend(loc=\"best\")\n",
        "  plt.title(\"losses\")\n",
        "\n",
        "  plt.subplot(2, 1, 2)\n",
        "  plt.plot(epochs, train_accs, label=\"train\")\n",
        "  plt.plot(epochs, val_accs, label=\"val\")\n",
        "  plt.legend(loc=\"best\")\n",
        "  plt.title(\"accuracies\")\n",
        "\n",
        "  plt.tight_layout()\n",
        "  _ = plt.show()\n",
        "\n",
        "\n",
        "plot_losses(losses)"
      ],
      "execution_count": 10,
      "outputs": [
        {
          "output_type": "display_data",
          "data": {
            "image/png": "[encoded data removed]",
            "text/plain": [
              "<Figure size 432x288 with 2 Axes>"
            ]
          },
          "metadata": {
            "tags": [],
            "needs_background": "light"
          }
        }
      ]
    },
    {
      "cell_type": "markdown",
      "metadata": {
        "id": "TGC6DvUmlOQ4",
        "colab_type": "text"
      },
      "source": [
        "### 4.02: With Data Augmentation\n",
        "\n",
        "Main change is in the `transformations`*italicized text* variable."
      ]
    },
    {
      "cell_type": "code",
      "metadata": {
        "id": "izMGo3xOR8kV",
        "colab_type": "code",
        "colab": {
          "base_uri": "https://localhost:8080/",
          "height": 68
        },
        "outputId": "cc814786-2e3f-42d8-f757-5e390b309568"
      },
      "source": [
        "transformations = {\n",
        "    \"train\": transforms.Compose([\n",
        "      transforms.RandomHorizontalFlip(0.5),\n",
        "      transforms.RandomGrayscale(0.1),\n",
        "      transforms.ToTensor(),\n",
        "      transforms.Normalize((0.5, 0.5, 0.5), (0.5, 0.5, 0.5))\n",
        "    ]),\n",
        "    \"test\": transforms.Compose([\n",
        "      transforms.ToTensor(),\n",
        "      transforms.Normalize((0.5, 0.5, 0.5), (0.5, 0.5, 0.5))\n",
        "    ])\n",
        "}\n",
        "\n",
        "train_data = datasets.CIFAR10(\"data\", train=True, download=True, transform=transformations[\"train\"])\n",
        "test_data = datasets.CIFAR10(\"data\", train=False, download=True, transform=transformations[\"test\"])\n",
        "\n",
        "len(train_data), len(test_data)"
      ],
      "execution_count": 11,
      "outputs": [
        {
          "output_type": "stream",
          "text": [
            "Files already downloaded and verified\n",
            "Files already downloaded and verified\n"
          ],
          "name": "stdout"
        },
        {
          "output_type": "execute_result",
          "data": {
            "text/plain": [
              "(50000, 10000)"
            ]
          },
          "metadata": {
            "tags": []
          },
          "execution_count": 11
        }
      ]
    },
    {
      "cell_type": "code",
      "metadata": {
        "id": "n1gswpeynG7K",
        "colab_type": "code",
        "colab": {
          "base_uri": "https://localhost:8080/",
          "height": 34
        },
        "outputId": "029e891a-85c8-4122-c5f3-348d92259ecd"
      },
      "source": [
        "idx = list(range(len(train_data)))\n",
        "train_idx, val_idx = train_test_split(idx, test_size=0.2, random_state=0)\n",
        "len(train_idx), len(val_idx)"
      ],
      "execution_count": 12,
      "outputs": [
        {
          "output_type": "execute_result",
          "data": {
            "text/plain": [
              "(40000, 10000)"
            ]
          },
          "metadata": {
            "tags": []
          },
          "execution_count": 12
        }
      ]
    },
    {
      "cell_type": "code",
      "metadata": {
        "id": "l-OQ-L-5naGd",
        "colab_type": "code",
        "colab": {}
      },
      "source": [
        "train_sampler = SubsetRandomSampler(train_idx)\n",
        "val_sampler = SubsetRandomSampler(val_idx)"
      ],
      "execution_count": 13,
      "outputs": []
    },
    {
      "cell_type": "code",
      "metadata": {
        "id": "x_X8DMu_neUS",
        "colab_type": "code",
        "colab": {}
      },
      "source": [
        "batch_size = 100\n",
        "\n",
        "train_loader = DataLoader(train_data, batch_size=batch_size, sampler=train_sampler)\n",
        "val_loader = DataLoader(train_data, batch_size=batch_size, sampler=val_sampler)\n",
        "test_loader = DataLoader(test_data, batch_size=batch_size)"
      ],
      "execution_count": 14,
      "outputs": []
    },
    {
      "cell_type": "code",
      "metadata": {
        "id": "XH_V5PcpnjB5",
        "colab_type": "code",
        "colab": {}
      },
      "source": [
        "net2 = ImageClassifierNet()"
      ],
      "execution_count": 15,
      "outputs": []
    },
    {
      "cell_type": "code",
      "metadata": {
        "id": "j0UX6E3BnxfO",
        "colab_type": "code",
        "colab": {
          "base_uri": "https://localhost:8080/",
          "height": 408
        },
        "outputId": "0e3e0d17-b144-4995-fe6c-32beac07c90b"
      },
      "source": [
        "dev = torch.device(\"cuda\" if torch.cuda.is_available() else \"cpu\")\n",
        "net2.to(dev)"
      ],
      "execution_count": 16,
      "outputs": [
        {
          "output_type": "execute_result",
          "data": {
            "text/plain": [
              "ImageClassifierNet(\n",
              "  (conv1): Sequential(\n",
              "    (0): Conv2d(3, 10, kernel_size=(3, 3), stride=(1, 1), padding=(1, 1))\n",
              "    (1): ReLU()\n",
              "    (2): MaxPool2d(kernel_size=2, stride=2, padding=0, dilation=1, ceil_mode=False)\n",
              "  )\n",
              "  (conv2): Sequential(\n",
              "    (0): Conv2d(10, 20, kernel_size=(3, 3), stride=(1, 1), padding=(1, 1))\n",
              "    (1): ReLU()\n",
              "    (2): MaxPool2d(kernel_size=2, stride=2, padding=0, dilation=1, ceil_mode=False)\n",
              "  )\n",
              "  (conv3): Sequential(\n",
              "    (0): Conv2d(20, 40, kernel_size=(3, 3), stride=(1, 1), padding=(1, 1))\n",
              "    (1): ReLU()\n",
              "    (2): MaxPool2d(kernel_size=2, stride=2, padding=0, dilation=1, ceil_mode=False)\n",
              "  )\n",
              "  (linear1): Sequential(\n",
              "    (0): Linear(in_features=640, out_features=100, bias=True)\n",
              "    (1): Dropout(p=0.2, inplace=False)\n",
              "    (2): ReLU()\n",
              "  )\n",
              "  (linear2): Linear(in_features=100, out_features=10, bias=True)\n",
              ")"
            ]
          },
          "metadata": {
            "tags": []
          },
          "execution_count": 16
        }
      ]
    },
    {
      "cell_type": "code",
      "metadata": {
        "id": "_lya4S4Xn0Z-",
        "colab_type": "code",
        "colab": {
          "base_uri": "https://localhost:8080/",
          "height": 1000
        },
        "outputId": "15b2a6ab-361c-4e68-d865-a57da7fd5089"
      },
      "source": [
        "losses = train(net2, dev, train_loader, val_loader, num_epochs=100)"
      ],
      "execution_count": 17,
      "outputs": [
        {
          "output_type": "stream",
          "text": [
            "EPOCH 1: train loss: 1.729, train_acc: 0.360, val loss: 1.464, val acc: 0.464\n",
            "EPOCH 2: train loss: 1.439, train_acc: 0.479, val loss: 1.328, val acc: 0.514\n",
            "EPOCH 3: train loss: 1.325, train_acc: 0.524, val loss: 1.231, val acc: 0.554\n",
            "EPOCH 4: train loss: 1.235, train_acc: 0.557, val loss: 1.155, val acc: 0.586\n",
            "EPOCH 5: train loss: 1.163, train_acc: 0.590, val loss: 1.092, val acc: 0.616\n",
            "EPOCH 6: train loss: 1.102, train_acc: 0.607, val loss: 1.029, val acc: 0.633\n",
            "EPOCH 7: train loss: 1.052, train_acc: 0.631, val loss: 0.989, val acc: 0.650\n",
            "EPOCH 8: train loss: 1.012, train_acc: 0.643, val loss: 0.961, val acc: 0.661\n",
            "EPOCH 9: train loss: 0.977, train_acc: 0.656, val loss: 0.934, val acc: 0.668\n",
            "EPOCH 10: train loss: 0.946, train_acc: 0.670, val loss: 0.900, val acc: 0.685\n",
            "EPOCH 11: train loss: 0.919, train_acc: 0.678, val loss: 0.877, val acc: 0.692\n",
            "EPOCH 12: train loss: 0.894, train_acc: 0.685, val loss: 0.884, val acc: 0.689\n",
            "EPOCH 13: train loss: 0.874, train_acc: 0.695, val loss: 0.861, val acc: 0.696\n",
            "EPOCH 14: train loss: 0.861, train_acc: 0.699, val loss: 0.849, val acc: 0.701\n",
            "EPOCH 15: train loss: 0.839, train_acc: 0.707, val loss: 0.836, val acc: 0.706\n",
            "EPOCH 16: train loss: 0.821, train_acc: 0.712, val loss: 0.863, val acc: 0.700\n",
            "EPOCH 17: train loss: 0.807, train_acc: 0.715, val loss: 0.823, val acc: 0.713\n",
            "EPOCH 18: train loss: 0.799, train_acc: 0.719, val loss: 0.850, val acc: 0.703\n",
            "EPOCH 19: train loss: 0.782, train_acc: 0.725, val loss: 0.835, val acc: 0.704\n",
            "EPOCH 20: train loss: 0.778, train_acc: 0.728, val loss: 0.819, val acc: 0.715\n",
            "EPOCH 21: train loss: 0.763, train_acc: 0.732, val loss: 0.812, val acc: 0.719\n",
            "EPOCH 22: train loss: 0.755, train_acc: 0.735, val loss: 0.801, val acc: 0.717\n",
            "EPOCH 23: train loss: 0.741, train_acc: 0.740, val loss: 0.791, val acc: 0.726\n",
            "EPOCH 24: train loss: 0.732, train_acc: 0.740, val loss: 0.797, val acc: 0.724\n",
            "EPOCH 25: train loss: 0.723, train_acc: 0.745, val loss: 0.812, val acc: 0.722\n",
            "EPOCH 26: train loss: 0.715, train_acc: 0.746, val loss: 0.801, val acc: 0.725\n",
            "EPOCH 27: train loss: 0.713, train_acc: 0.748, val loss: 0.790, val acc: 0.725\n",
            "EPOCH 28: train loss: 0.695, train_acc: 0.754, val loss: 0.809, val acc: 0.721\n",
            "EPOCH 29: train loss: 0.696, train_acc: 0.753, val loss: 0.787, val acc: 0.728\n",
            "EPOCH 30: train loss: 0.687, train_acc: 0.760, val loss: 0.796, val acc: 0.725\n",
            "EPOCH 31: train loss: 0.684, train_acc: 0.758, val loss: 0.792, val acc: 0.728\n",
            "EPOCH 32: train loss: 0.668, train_acc: 0.763, val loss: 0.795, val acc: 0.728\n",
            "EPOCH 33: train loss: 0.675, train_acc: 0.760, val loss: 0.781, val acc: 0.733\n",
            "EPOCH 34: train loss: 0.660, train_acc: 0.765, val loss: 0.789, val acc: 0.730\n",
            "EPOCH 35: train loss: 0.656, train_acc: 0.768, val loss: 0.787, val acc: 0.732\n",
            "EPOCH 36: train loss: 0.652, train_acc: 0.768, val loss: 0.781, val acc: 0.731\n",
            "EPOCH 37: train loss: 0.653, train_acc: 0.768, val loss: 0.809, val acc: 0.723\n",
            "EPOCH 38: train loss: 0.651, train_acc: 0.769, val loss: 0.803, val acc: 0.729\n",
            "EPOCH 39: train loss: 0.640, train_acc: 0.771, val loss: 0.798, val acc: 0.730\n",
            "EPOCH 40: train loss: 0.633, train_acc: 0.775, val loss: 0.789, val acc: 0.735\n",
            "EPOCH 41: train loss: 0.629, train_acc: 0.775, val loss: 0.791, val acc: 0.730\n",
            "EPOCH 42: train loss: 0.624, train_acc: 0.778, val loss: 0.810, val acc: 0.727\n",
            "EPOCH 43: train loss: 0.616, train_acc: 0.780, val loss: 0.779, val acc: 0.738\n",
            "EPOCH 44: train loss: 0.614, train_acc: 0.779, val loss: 0.811, val acc: 0.729\n",
            "EPOCH 45: train loss: 0.612, train_acc: 0.780, val loss: 0.802, val acc: 0.735\n",
            "EPOCH 46: train loss: 0.604, train_acc: 0.783, val loss: 0.802, val acc: 0.736\n",
            "EPOCH 47: train loss: 0.609, train_acc: 0.782, val loss: 0.802, val acc: 0.730\n",
            "EPOCH 48: train loss: 0.605, train_acc: 0.784, val loss: 0.799, val acc: 0.732\n",
            "EPOCH 49: train loss: 0.603, train_acc: 0.785, val loss: 0.802, val acc: 0.733\n",
            "EPOCH 50: train loss: 0.585, train_acc: 0.791, val loss: 0.795, val acc: 0.734\n",
            "EPOCH 51: train loss: 0.591, train_acc: 0.786, val loss: 0.814, val acc: 0.729\n",
            "EPOCH 52: train loss: 0.585, train_acc: 0.788, val loss: 0.794, val acc: 0.736\n",
            "EPOCH 53: train loss: 0.582, train_acc: 0.791, val loss: 0.803, val acc: 0.737\n",
            "EPOCH 54: train loss: 0.581, train_acc: 0.793, val loss: 0.787, val acc: 0.741\n",
            "EPOCH 55: train loss: 0.568, train_acc: 0.796, val loss: 0.816, val acc: 0.740\n",
            "EPOCH 56: train loss: 0.581, train_acc: 0.792, val loss: 0.808, val acc: 0.738\n",
            "EPOCH 57: train loss: 0.576, train_acc: 0.794, val loss: 0.792, val acc: 0.732\n",
            "EPOCH 58: train loss: 0.566, train_acc: 0.797, val loss: 0.813, val acc: 0.731\n",
            "EPOCH 59: train loss: 0.570, train_acc: 0.797, val loss: 0.808, val acc: 0.735\n",
            "EPOCH 60: train loss: 0.563, train_acc: 0.798, val loss: 0.814, val acc: 0.733\n",
            "EPOCH 61: train loss: 0.562, train_acc: 0.796, val loss: 0.821, val acc: 0.734\n",
            "EPOCH 62: train loss: 0.556, train_acc: 0.801, val loss: 0.817, val acc: 0.738\n",
            "EPOCH 63: train loss: 0.558, train_acc: 0.799, val loss: 0.814, val acc: 0.738\n",
            "EPOCH 64: train loss: 0.554, train_acc: 0.801, val loss: 0.806, val acc: 0.738\n",
            "EPOCH 65: train loss: 0.550, train_acc: 0.801, val loss: 0.820, val acc: 0.735\n",
            "EPOCH 66: train loss: 0.547, train_acc: 0.804, val loss: 0.856, val acc: 0.728\n",
            "EPOCH 67: train loss: 0.541, train_acc: 0.802, val loss: 0.797, val acc: 0.739\n",
            "EPOCH 68: train loss: 0.543, train_acc: 0.804, val loss: 0.827, val acc: 0.732\n",
            "EPOCH 69: train loss: 0.540, train_acc: 0.807, val loss: 0.826, val acc: 0.732\n",
            "EPOCH 70: train loss: 0.538, train_acc: 0.807, val loss: 0.839, val acc: 0.730\n",
            "EPOCH 71: train loss: 0.534, train_acc: 0.809, val loss: 0.817, val acc: 0.736\n",
            "EPOCH 72: train loss: 0.530, train_acc: 0.807, val loss: 0.827, val acc: 0.740\n",
            "EPOCH 73: train loss: 0.536, train_acc: 0.805, val loss: 0.839, val acc: 0.734\n",
            "EPOCH 74: train loss: 0.525, train_acc: 0.808, val loss: 0.832, val acc: 0.739\n",
            "EPOCH 75: train loss: 0.531, train_acc: 0.809, val loss: 0.820, val acc: 0.739\n",
            "EPOCH 76: train loss: 0.536, train_acc: 0.805, val loss: 0.819, val acc: 0.737\n",
            "EPOCH 77: train loss: 0.521, train_acc: 0.811, val loss: 0.848, val acc: 0.733\n",
            "EPOCH 78: train loss: 0.522, train_acc: 0.811, val loss: 0.847, val acc: 0.735\n",
            "EPOCH 79: train loss: 0.521, train_acc: 0.810, val loss: 0.856, val acc: 0.734\n",
            "EPOCH 80: train loss: 0.518, train_acc: 0.812, val loss: 0.829, val acc: 0.734\n",
            "EPOCH 81: train loss: 0.513, train_acc: 0.813, val loss: 0.862, val acc: 0.734\n",
            "EPOCH 82: train loss: 0.512, train_acc: 0.815, val loss: 0.850, val acc: 0.734\n",
            "EPOCH 83: train loss: 0.512, train_acc: 0.814, val loss: 0.867, val acc: 0.733\n",
            "EPOCH 84: train loss: 0.511, train_acc: 0.814, val loss: 0.842, val acc: 0.735\n",
            "EPOCH 85: train loss: 0.507, train_acc: 0.816, val loss: 0.870, val acc: 0.734\n",
            "EPOCH 86: train loss: 0.516, train_acc: 0.815, val loss: 0.857, val acc: 0.741\n",
            "EPOCH 87: train loss: 0.510, train_acc: 0.816, val loss: 0.882, val acc: 0.729\n",
            "EPOCH 88: train loss: 0.512, train_acc: 0.812, val loss: 0.875, val acc: 0.731\n",
            "EPOCH 89: train loss: 0.502, train_acc: 0.818, val loss: 0.870, val acc: 0.730\n",
            "EPOCH 90: train loss: 0.502, train_acc: 0.816, val loss: 0.852, val acc: 0.735\n",
            "EPOCH 91: train loss: 0.504, train_acc: 0.817, val loss: 0.888, val acc: 0.736\n",
            "EPOCH 92: train loss: 0.496, train_acc: 0.820, val loss: 0.863, val acc: 0.730\n",
            "EPOCH 93: train loss: 0.493, train_acc: 0.821, val loss: 0.872, val acc: 0.724\n",
            "EPOCH 94: train loss: 0.504, train_acc: 0.817, val loss: 0.871, val acc: 0.729\n",
            "EPOCH 95: train loss: 0.490, train_acc: 0.821, val loss: 0.857, val acc: 0.734\n",
            "EPOCH 96: train loss: 0.501, train_acc: 0.817, val loss: 0.876, val acc: 0.733\n",
            "EPOCH 97: train loss: 0.493, train_acc: 0.822, val loss: 0.875, val acc: 0.736\n",
            "EPOCH 98: train loss: 0.492, train_acc: 0.821, val loss: 0.882, val acc: 0.731\n",
            "EPOCH 99: train loss: 0.489, train_acc: 0.823, val loss: 0.893, val acc: 0.733\n",
            "EPOCH 100: train loss: 0.489, train_acc: 0.820, val loss: 0.887, val acc: 0.734\n"
          ],
          "name": "stdout"
        }
      ]
    },
    {
      "cell_type": "code",
      "metadata": {
        "id": "X7eyJfDRoMnZ",
        "colab_type": "code",
        "colab": {
          "base_uri": "https://localhost:8080/",
          "height": 297
        },
        "outputId": "609bf590-afce-480c-c917-39ecbc13d30b"
      },
      "source": [
        "plot_losses(losses)"
      ],
      "execution_count": 18,
      "outputs": [
        {
          "output_type": "display_data",
          "data": {
            "image/png": "[encoded data removed]",
            "text/plain": [
              "<Figure size 432x288 with 2 Axes>"
            ]
          },
          "metadata": {
            "tags": [],
            "needs_background": "light"
          }
        }
      ]
    },
    {
      "cell_type": "markdown",
      "metadata": {
        "id": "eKxOTmHA3yCv",
        "colab_type": "text"
      },
      "source": [
        "### 4.03: BatchNorm"
      ]
    },
    {
      "cell_type": "code",
      "metadata": {
        "id": "sj7jTQF3oOAe",
        "colab_type": "code",
        "colab": {
          "base_uri": "https://localhost:8080/",
          "height": 459
        },
        "outputId": "814c11a6-afdf-4124-c33b-10f359e50838"
      },
      "source": [
        "class ImageClassifierNetWithBatchNorm(nn.Module):\n",
        "\n",
        "  def __init__(self):\n",
        "    super(ImageClassifierNetWithBatchNorm, self).__init__()\n",
        "    self.conv1 = nn.Sequential(\n",
        "      nn.Conv2d(3, 10, 3, 1, padding=1),    # (10, 32, 32)\n",
        "      nn.BatchNorm2d(10),\n",
        "      nn.ReLU(),\n",
        "      nn.MaxPool2d(2, 2)                    # (10, 16, 16)\n",
        "    )\n",
        "    self.conv2 = nn.Sequential(\n",
        "        nn.Conv2d(10, 20, 3, 1, padding=1), # (20, 16, 16)\n",
        "        nn.BatchNorm2d(20),\n",
        "        nn.ReLU(),\n",
        "        nn.MaxPool2d(2, 2)                  # (20, 8, 8)\n",
        "    )\n",
        "    self.conv3 = nn.Sequential(\n",
        "        nn.Conv2d(20, 40, 3, 1, padding=1), # (40, 8, 8)\n",
        "        nn.BatchNorm2d(40),\n",
        "        nn.ReLU(),\n",
        "        nn.MaxPool2d(2, 2)                  # (40, 4, 4)\n",
        "    )\n",
        "    self.linear1 = nn.Sequential(\n",
        "        nn.Linear(40 * 4 * 4, 100),\n",
        "        nn.Dropout(0.2),\n",
        "        nn.ReLU()\n",
        "    )\n",
        "    self.linear2 = nn.Linear(100, 10)\n",
        "\n",
        "  def forward(self, x):\n",
        "    x = self.conv1(x)\n",
        "    x = self.conv2(x)\n",
        "    x = self.conv3(x)\n",
        "    x = x.view(-1, 40 * 4 * 4)\n",
        "    x = self.linear1(x)\n",
        "    x = F.log_softmax(self.linear2(x), dim=1)\n",
        "    return x\n",
        "\n",
        "net3 = ImageClassifierNetWithBatchNorm()\n",
        "\n",
        "dev = torch.device(\"cuda\" if torch.cuda.is_available() else \"cpu\")\n",
        "net3.to(dev)\n",
        "print(net3)"
      ],
      "execution_count": 19,
      "outputs": [
        {
          "output_type": "stream",
          "text": [
            "ImageClassifierNetWithBatchNorm(\n",
            "  (conv1): Sequential(\n",
            "    (0): Conv2d(3, 10, kernel_size=(3, 3), stride=(1, 1), padding=(1, 1))\n",
            "    (1): BatchNorm2d(10, eps=1e-05, momentum=0.1, affine=True, track_running_stats=True)\n",
            "    (2): ReLU()\n",
            "    (3): MaxPool2d(kernel_size=2, stride=2, padding=0, dilation=1, ceil_mode=False)\n",
            "  )\n",
            "  (conv2): Sequential(\n",
            "    (0): Conv2d(10, 20, kernel_size=(3, 3), stride=(1, 1), padding=(1, 1))\n",
            "    (1): BatchNorm2d(20, eps=1e-05, momentum=0.1, affine=True, track_running_stats=True)\n",
            "    (2): ReLU()\n",
            "    (3): MaxPool2d(kernel_size=2, stride=2, padding=0, dilation=1, ceil_mode=False)\n",
            "  )\n",
            "  (conv3): Sequential(\n",
            "    (0): Conv2d(20, 40, kernel_size=(3, 3), stride=(1, 1), padding=(1, 1))\n",
            "    (1): BatchNorm2d(40, eps=1e-05, momentum=0.1, affine=True, track_running_stats=True)\n",
            "    (2): ReLU()\n",
            "    (3): MaxPool2d(kernel_size=2, stride=2, padding=0, dilation=1, ceil_mode=False)\n",
            "  )\n",
            "  (linear1): Sequential(\n",
            "    (0): Linear(in_features=640, out_features=100, bias=True)\n",
            "    (1): Dropout(p=0.2, inplace=False)\n",
            "    (2): ReLU()\n",
            "  )\n",
            "  (linear2): Linear(in_features=100, out_features=10, bias=True)\n",
            ")\n"
          ],
          "name": "stdout"
        }
      ]
    },
    {
      "cell_type": "code",
      "metadata": {
        "id": "lqYd0yWy49hn",
        "colab_type": "code",
        "colab": {
          "base_uri": "https://localhost:8080/",
          "height": 51
        },
        "outputId": "f1f77afb-1244-406b-bf42-9c43f64b9c47"
      },
      "source": [
        "train_data = datasets.CIFAR10(\"data\", train=True, download=True, transform=transformations[\"train\"])\n",
        "test_data = datasets.CIFAR10(\"data\", train=False, download=True, transform=transformations[\"test\"])\n",
        "\n",
        "idx = list(range(len(train_data)))\n",
        "train_idx, val_idx = train_test_split(idx, test_size=0.2, random_state=0)\n",
        "len(train_idx), len(val_idx)\n",
        "\n",
        "train_sampler = SubsetRandomSampler(train_idx)\n",
        "val_sampler = SubsetRandomSampler(val_idx)\n",
        "\n",
        "batch_size = 100\n",
        "\n",
        "train_loader = DataLoader(train_data, batch_size=batch_size, sampler=train_sampler)\n",
        "val_loader = DataLoader(train_data, batch_size=batch_size, sampler=val_sampler)\n",
        "test_loader = DataLoader(test_data, batch_size=batch_size)"
      ],
      "execution_count": 20,
      "outputs": [
        {
          "output_type": "stream",
          "text": [
            "Files already downloaded and verified\n",
            "Files already downloaded and verified\n"
          ],
          "name": "stdout"
        }
      ]
    },
    {
      "cell_type": "code",
      "metadata": {
        "id": "wwniOt4L5YSU",
        "colab_type": "code",
        "colab": {
          "base_uri": "https://localhost:8080/",
          "height": 1000
        },
        "outputId": "ca6078c9-031d-4686-c873-e0aa54668498"
      },
      "source": [
        "losses = train(net3, dev, train_loader, val_loader, num_epochs=100)"
      ],
      "execution_count": 21,
      "outputs": [
        {
          "output_type": "stream",
          "text": [
            "EPOCH 1: train loss: 1.472, train_acc: 0.468, val loss: 1.254, val acc: 0.551\n",
            "EPOCH 2: train loss: 1.156, train_acc: 0.584, val loss: 1.052, val acc: 0.626\n",
            "EPOCH 3: train loss: 1.042, train_acc: 0.633, val loss: 0.985, val acc: 0.651\n",
            "EPOCH 4: train loss: 0.972, train_acc: 0.658, val loss: 0.932, val acc: 0.666\n",
            "EPOCH 5: train loss: 0.913, train_acc: 0.678, val loss: 0.890, val acc: 0.683\n",
            "EPOCH 6: train loss: 0.885, train_acc: 0.689, val loss: 0.919, val acc: 0.684\n",
            "EPOCH 7: train loss: 0.849, train_acc: 0.699, val loss: 0.870, val acc: 0.691\n",
            "EPOCH 8: train loss: 0.827, train_acc: 0.708, val loss: 0.836, val acc: 0.705\n",
            "EPOCH 9: train loss: 0.798, train_acc: 0.718, val loss: 0.839, val acc: 0.706\n",
            "EPOCH 10: train loss: 0.787, train_acc: 0.725, val loss: 0.830, val acc: 0.710\n",
            "EPOCH 11: train loss: 0.766, train_acc: 0.730, val loss: 0.782, val acc: 0.723\n",
            "EPOCH 12: train loss: 0.749, train_acc: 0.736, val loss: 0.869, val acc: 0.700\n",
            "EPOCH 13: train loss: 0.732, train_acc: 0.742, val loss: 0.766, val acc: 0.734\n",
            "EPOCH 14: train loss: 0.719, train_acc: 0.745, val loss: 0.796, val acc: 0.721\n",
            "EPOCH 15: train loss: 0.706, train_acc: 0.751, val loss: 0.758, val acc: 0.733\n",
            "EPOCH 16: train loss: 0.697, train_acc: 0.753, val loss: 0.762, val acc: 0.732\n",
            "EPOCH 17: train loss: 0.690, train_acc: 0.756, val loss: 0.774, val acc: 0.731\n",
            "EPOCH 18: train loss: 0.675, train_acc: 0.762, val loss: 0.807, val acc: 0.723\n",
            "EPOCH 19: train loss: 0.668, train_acc: 0.764, val loss: 0.753, val acc: 0.734\n",
            "EPOCH 20: train loss: 0.657, train_acc: 0.768, val loss: 0.763, val acc: 0.737\n",
            "EPOCH 21: train loss: 0.648, train_acc: 0.768, val loss: 0.792, val acc: 0.730\n",
            "EPOCH 22: train loss: 0.645, train_acc: 0.771, val loss: 0.756, val acc: 0.740\n",
            "EPOCH 23: train loss: 0.634, train_acc: 0.776, val loss: 0.728, val acc: 0.747\n",
            "EPOCH 24: train loss: 0.626, train_acc: 0.777, val loss: 0.740, val acc: 0.746\n",
            "EPOCH 25: train loss: 0.613, train_acc: 0.782, val loss: 0.767, val acc: 0.738\n",
            "EPOCH 26: train loss: 0.611, train_acc: 0.784, val loss: 0.743, val acc: 0.743\n",
            "EPOCH 27: train loss: 0.601, train_acc: 0.784, val loss: 0.739, val acc: 0.745\n",
            "EPOCH 28: train loss: 0.598, train_acc: 0.786, val loss: 0.764, val acc: 0.740\n",
            "EPOCH 29: train loss: 0.595, train_acc: 0.788, val loss: 0.753, val acc: 0.745\n",
            "EPOCH 30: train loss: 0.584, train_acc: 0.792, val loss: 0.752, val acc: 0.741\n",
            "EPOCH 31: train loss: 0.587, train_acc: 0.790, val loss: 0.750, val acc: 0.744\n",
            "EPOCH 32: train loss: 0.577, train_acc: 0.793, val loss: 0.795, val acc: 0.737\n",
            "EPOCH 33: train loss: 0.571, train_acc: 0.798, val loss: 0.780, val acc: 0.742\n",
            "EPOCH 34: train loss: 0.570, train_acc: 0.797, val loss: 0.739, val acc: 0.746\n",
            "EPOCH 35: train loss: 0.567, train_acc: 0.800, val loss: 0.734, val acc: 0.746\n",
            "EPOCH 36: train loss: 0.559, train_acc: 0.802, val loss: 0.787, val acc: 0.736\n",
            "EPOCH 37: train loss: 0.554, train_acc: 0.802, val loss: 0.765, val acc: 0.745\n",
            "EPOCH 38: train loss: 0.547, train_acc: 0.805, val loss: 0.746, val acc: 0.749\n",
            "EPOCH 39: train loss: 0.545, train_acc: 0.806, val loss: 0.744, val acc: 0.748\n",
            "EPOCH 40: train loss: 0.544, train_acc: 0.805, val loss: 0.760, val acc: 0.749\n",
            "EPOCH 41: train loss: 0.540, train_acc: 0.808, val loss: 0.751, val acc: 0.751\n",
            "EPOCH 42: train loss: 0.539, train_acc: 0.806, val loss: 0.751, val acc: 0.752\n",
            "EPOCH 43: train loss: 0.533, train_acc: 0.809, val loss: 0.774, val acc: 0.745\n",
            "EPOCH 44: train loss: 0.527, train_acc: 0.813, val loss: 0.758, val acc: 0.751\n",
            "EPOCH 45: train loss: 0.521, train_acc: 0.813, val loss: 0.770, val acc: 0.748\n",
            "EPOCH 46: train loss: 0.516, train_acc: 0.815, val loss: 0.771, val acc: 0.746\n",
            "EPOCH 47: train loss: 0.516, train_acc: 0.814, val loss: 0.772, val acc: 0.748\n",
            "EPOCH 48: train loss: 0.514, train_acc: 0.814, val loss: 0.770, val acc: 0.745\n",
            "EPOCH 49: train loss: 0.511, train_acc: 0.815, val loss: 0.750, val acc: 0.751\n",
            "EPOCH 50: train loss: 0.512, train_acc: 0.817, val loss: 0.800, val acc: 0.747\n",
            "EPOCH 51: train loss: 0.498, train_acc: 0.820, val loss: 0.773, val acc: 0.749\n",
            "EPOCH 52: train loss: 0.501, train_acc: 0.818, val loss: 0.794, val acc: 0.743\n",
            "EPOCH 53: train loss: 0.502, train_acc: 0.818, val loss: 0.782, val acc: 0.751\n",
            "EPOCH 54: train loss: 0.490, train_acc: 0.823, val loss: 0.771, val acc: 0.751\n",
            "EPOCH 55: train loss: 0.498, train_acc: 0.822, val loss: 0.769, val acc: 0.752\n",
            "EPOCH 56: train loss: 0.489, train_acc: 0.823, val loss: 0.785, val acc: 0.746\n",
            "EPOCH 57: train loss: 0.486, train_acc: 0.826, val loss: 0.790, val acc: 0.749\n",
            "EPOCH 58: train loss: 0.482, train_acc: 0.826, val loss: 0.818, val acc: 0.743\n",
            "EPOCH 59: train loss: 0.481, train_acc: 0.827, val loss: 0.774, val acc: 0.750\n",
            "EPOCH 60: train loss: 0.475, train_acc: 0.828, val loss: 0.792, val acc: 0.748\n",
            "EPOCH 61: train loss: 0.481, train_acc: 0.826, val loss: 0.786, val acc: 0.748\n",
            "EPOCH 62: train loss: 0.471, train_acc: 0.830, val loss: 0.778, val acc: 0.750\n",
            "EPOCH 63: train loss: 0.467, train_acc: 0.831, val loss: 0.829, val acc: 0.743\n",
            "EPOCH 64: train loss: 0.466, train_acc: 0.831, val loss: 0.821, val acc: 0.746\n",
            "EPOCH 65: train loss: 0.470, train_acc: 0.830, val loss: 0.803, val acc: 0.753\n",
            "EPOCH 66: train loss: 0.465, train_acc: 0.831, val loss: 0.810, val acc: 0.744\n",
            "EPOCH 67: train loss: 0.465, train_acc: 0.831, val loss: 0.808, val acc: 0.744\n",
            "EPOCH 68: train loss: 0.460, train_acc: 0.833, val loss: 0.812, val acc: 0.747\n",
            "EPOCH 69: train loss: 0.460, train_acc: 0.833, val loss: 0.825, val acc: 0.746\n",
            "EPOCH 70: train loss: 0.455, train_acc: 0.834, val loss: 0.815, val acc: 0.746\n",
            "EPOCH 71: train loss: 0.452, train_acc: 0.836, val loss: 0.833, val acc: 0.739\n",
            "EPOCH 72: train loss: 0.448, train_acc: 0.836, val loss: 0.857, val acc: 0.742\n",
            "EPOCH 73: train loss: 0.454, train_acc: 0.833, val loss: 0.798, val acc: 0.748\n",
            "EPOCH 74: train loss: 0.448, train_acc: 0.837, val loss: 0.812, val acc: 0.745\n",
            "EPOCH 75: train loss: 0.450, train_acc: 0.835, val loss: 0.816, val acc: 0.746\n",
            "EPOCH 76: train loss: 0.445, train_acc: 0.840, val loss: 0.865, val acc: 0.741\n",
            "EPOCH 77: train loss: 0.444, train_acc: 0.838, val loss: 0.833, val acc: 0.743\n",
            "EPOCH 78: train loss: 0.441, train_acc: 0.839, val loss: 0.829, val acc: 0.747\n",
            "EPOCH 79: train loss: 0.443, train_acc: 0.838, val loss: 0.843, val acc: 0.743\n",
            "EPOCH 80: train loss: 0.442, train_acc: 0.841, val loss: 0.867, val acc: 0.745\n",
            "EPOCH 81: train loss: 0.439, train_acc: 0.839, val loss: 0.834, val acc: 0.742\n",
            "EPOCH 82: train loss: 0.440, train_acc: 0.840, val loss: 0.826, val acc: 0.746\n",
            "EPOCH 83: train loss: 0.432, train_acc: 0.843, val loss: 0.843, val acc: 0.743\n",
            "EPOCH 84: train loss: 0.431, train_acc: 0.842, val loss: 0.865, val acc: 0.743\n",
            "EPOCH 85: train loss: 0.431, train_acc: 0.843, val loss: 0.822, val acc: 0.750\n",
            "EPOCH 86: train loss: 0.431, train_acc: 0.844, val loss: 0.863, val acc: 0.743\n",
            "EPOCH 87: train loss: 0.428, train_acc: 0.845, val loss: 0.847, val acc: 0.747\n",
            "EPOCH 88: train loss: 0.425, train_acc: 0.846, val loss: 0.874, val acc: 0.744\n",
            "EPOCH 89: train loss: 0.427, train_acc: 0.842, val loss: 0.840, val acc: 0.745\n",
            "EPOCH 90: train loss: 0.424, train_acc: 0.845, val loss: 0.840, val acc: 0.747\n",
            "EPOCH 91: train loss: 0.415, train_acc: 0.847, val loss: 0.861, val acc: 0.748\n",
            "EPOCH 92: train loss: 0.431, train_acc: 0.844, val loss: 0.866, val acc: 0.738\n",
            "EPOCH 93: train loss: 0.418, train_acc: 0.849, val loss: 0.865, val acc: 0.748\n",
            "EPOCH 94: train loss: 0.418, train_acc: 0.845, val loss: 0.856, val acc: 0.740\n",
            "EPOCH 95: train loss: 0.410, train_acc: 0.850, val loss: 0.911, val acc: 0.742\n",
            "EPOCH 96: train loss: 0.411, train_acc: 0.850, val loss: 0.847, val acc: 0.743\n",
            "EPOCH 97: train loss: 0.418, train_acc: 0.847, val loss: 0.858, val acc: 0.744\n",
            "EPOCH 98: train loss: 0.409, train_acc: 0.851, val loss: 0.875, val acc: 0.749\n",
            "EPOCH 99: train loss: 0.411, train_acc: 0.850, val loss: 0.876, val acc: 0.744\n",
            "EPOCH 100: train loss: 0.411, train_acc: 0.850, val loss: 0.879, val acc: 0.739\n"
          ],
          "name": "stdout"
        }
      ]
    },
    {
      "cell_type": "code",
      "metadata": {
        "id": "EVXoHfSq5dQv",
        "colab_type": "code",
        "colab": {
          "base_uri": "https://localhost:8080/",
          "height": 297
        },
        "outputId": "433a7bd1-a46e-4db7-a5c4-4ac178d8267e"
      },
      "source": [
        "plot_losses(losses)"
      ],
      "execution_count": 22,
      "outputs": [
        {
          "output_type": "display_data",
          "data": {
            "image/png": "[encoded data removed]",
            "text/plain": [
              "<Figure size 432x288 with 2 Axes>"
            ]
          },
          "metadata": {
            "tags": [],
            "needs_background": "light"
          }
        }
      ]
    },
    {
      "cell_type": "markdown",
      "metadata": {
        "id": "PEUzo1rfZlUV",
        "colab_type": "text"
      },
      "source": [
        "### Accuracy on test set"
      ]
    },
    {
      "cell_type": "code",
      "metadata": {
        "id": "pPIxXIm6Cz8X",
        "colab_type": "code",
        "colab": {
          "base_uri": "https://localhost:8080/",
          "height": 34
        },
        "outputId": "08f53b3a-3b6d-47d4-ae72-7c7306897944"
      },
      "source": [
        "_, test_acc = evaluate(net1, dev, test_loader)\n",
        "print(\"Test accuracy on net1: {:.5f}\".format(test_acc.cpu().item()))"
      ],
      "execution_count": 23,
      "outputs": [
        {
          "output_type": "stream",
          "text": [
            "Test accuracy on net1: 0.68090\n"
          ],
          "name": "stdout"
        }
      ]
    },
    {
      "cell_type": "code",
      "metadata": {
        "id": "-VNmXTdgat__",
        "colab_type": "code",
        "colab": {
          "base_uri": "https://localhost:8080/",
          "height": 34
        },
        "outputId": "c08e0fe2-e86d-4f5e-bee3-8b2701612ff6"
      },
      "source": [
        "_, test_acc = evaluate(net2, dev, test_loader)\n",
        "print(\"Test accuracy on net1: {:.5f}\".format(test_acc.cpu().item()))"
      ],
      "execution_count": 24,
      "outputs": [
        {
          "output_type": "stream",
          "text": [
            "Test accuracy on net1: 0.73130\n"
          ],
          "name": "stdout"
        }
      ]
    },
    {
      "cell_type": "code",
      "metadata": {
        "id": "e6iFkSD7a0KP",
        "colab_type": "code",
        "colab": {
          "base_uri": "https://localhost:8080/",
          "height": 34
        },
        "outputId": "a44c3423-0fb5-4494-8a20-e5e5d8657db0"
      },
      "source": [
        "_, test_acc = evaluate(net3, dev, test_loader)\n",
        "print(\"Test accuracy on net1: {:.5f}\".format(test_acc.cpu().item()))"
      ],
      "execution_count": 25,
      "outputs": [
        {
          "output_type": "stream",
          "text": [
            "Test accuracy on net1: 0.73840\n"
          ],
          "name": "stdout"
        }
      ]
    },
    {
      "cell_type": "markdown",
      "metadata": {
        "id": "sJmrI1VCasTC",
        "colab_type": "text"
      },
      "source": [
        ""
      ]
    }
  ]
}