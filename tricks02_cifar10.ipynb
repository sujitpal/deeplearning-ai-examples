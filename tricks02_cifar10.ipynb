{
  "nbformat": 4,
  "nbformat_minor": 0,
  "metadata": {
    "colab": {
      "name": "tricks02_cifar10.ipynb",
      "provenance": [],
      "collapsed_sections": [],
      "authorship_tag": "ABX9TyODcc4GjJMbMwrUMNrnmj2p",
      "include_colab_link": true
    },
    "kernelspec": {
      "name": "python3",
      "display_name": "Python 3"
    },
    "language_info": {
      "name": "python"
    },
    "accelerator": "GPU",
    "widgets": {
      "application/vnd.jupyter.widget-state+json": {
        "378f5bee05ec4f31bb3022697ca728fb": {
          "model_module": "@jupyter-widgets/controls",
          "model_name": "HBoxModel",
          "state": {
            "_view_name": "HBoxView",
            "_dom_classes": [],
            "_model_name": "HBoxModel",
            "_view_module": "@jupyter-widgets/controls",
            "_model_module_version": "1.5.0",
            "_view_count": null,
            "_view_module_version": "1.5.0",
            "box_style": "",
            "layout": "IPY_MODEL_e5238d11376343ffb5affaac3dc572b6",
            "_model_module": "@jupyter-widgets/controls",
            "children": [
              "IPY_MODEL_c8694271d63649799f632e775ed00b5c",
              "IPY_MODEL_83c0a9a2c1d641cfaa7650690b99c661"
            ]
          }
        },
        "e5238d11376343ffb5affaac3dc572b6": {
          "model_module": "@jupyter-widgets/base",
          "model_name": "LayoutModel",
          "state": {
            "_view_name": "LayoutView",
            "grid_template_rows": null,
            "right": null,
            "justify_content": null,
            "_view_module": "@jupyter-widgets/base",
            "overflow": null,
            "_model_module_version": "1.2.0",
            "_view_count": null,
            "flex_flow": null,
            "width": null,
            "min_width": null,
            "border": null,
            "align_items": null,
            "bottom": null,
            "_model_module": "@jupyter-widgets/base",
            "top": null,
            "grid_column": null,
            "overflow_y": null,
            "overflow_x": null,
            "grid_auto_flow": null,
            "grid_area": null,
            "grid_template_columns": null,
            "flex": null,
            "_model_name": "LayoutModel",
            "justify_items": null,
            "grid_row": null,
            "max_height": null,
            "align_content": null,
            "visibility": null,
            "align_self": null,
            "height": null,
            "min_height": null,
            "padding": null,
            "grid_auto_rows": null,
            "grid_gap": null,
            "max_width": null,
            "order": null,
            "_view_module_version": "1.2.0",
            "grid_template_areas": null,
            "object_position": null,
            "object_fit": null,
            "grid_auto_columns": null,
            "margin": null,
            "display": null,
            "left": null
          }
        },
        "c8694271d63649799f632e775ed00b5c": {
          "model_module": "@jupyter-widgets/controls",
          "model_name": "FloatProgressModel",
          "state": {
            "_view_name": "ProgressView",
            "style": "IPY_MODEL_1af10d4ffd294b7c888339d90e0aecd4",
            "_dom_classes": [],
            "description": "",
            "_model_name": "FloatProgressModel",
            "bar_style": "success",
            "max": 170498071,
            "_view_module": "@jupyter-widgets/controls",
            "_model_module_version": "1.5.0",
            "value": 170498071,
            "_view_count": null,
            "_view_module_version": "1.5.0",
            "orientation": "horizontal",
            "min": 0,
            "description_tooltip": null,
            "_model_module": "@jupyter-widgets/controls",
            "layout": "IPY_MODEL_535caf232f62446f8f5bcc778ce91217"
          }
        },
        "83c0a9a2c1d641cfaa7650690b99c661": {
          "model_module": "@jupyter-widgets/controls",
          "model_name": "HTMLModel",
          "state": {
            "_view_name": "HTMLView",
            "style": "IPY_MODEL_f07f0659aa87497d9b914eb3bb8d3e7e",
            "_dom_classes": [],
            "description": "",
            "_model_name": "HTMLModel",
            "placeholder": "​",
            "_view_module": "@jupyter-widgets/controls",
            "_model_module_version": "1.5.0",
            "value": " 170499072/? [05:58&lt;00:00, 475721.23it/s]",
            "_view_count": null,
            "_view_module_version": "1.5.0",
            "description_tooltip": null,
            "_model_module": "@jupyter-widgets/controls",
            "layout": "IPY_MODEL_d1a1635b4ce7493a99c02b64eb497b46"
          }
        },
        "1af10d4ffd294b7c888339d90e0aecd4": {
          "model_module": "@jupyter-widgets/controls",
          "model_name": "ProgressStyleModel",
          "state": {
            "_view_name": "StyleView",
            "_model_name": "ProgressStyleModel",
            "description_width": "initial",
            "_view_module": "@jupyter-widgets/base",
            "_model_module_version": "1.5.0",
            "_view_count": null,
            "_view_module_version": "1.2.0",
            "bar_color": null,
            "_model_module": "@jupyter-widgets/controls"
          }
        },
        "535caf232f62446f8f5bcc778ce91217": {
          "model_module": "@jupyter-widgets/base",
          "model_name": "LayoutModel",
          "state": {
            "_view_name": "LayoutView",
            "grid_template_rows": null,
            "right": null,
            "justify_content": null,
            "_view_module": "@jupyter-widgets/base",
            "overflow": null,
            "_model_module_version": "1.2.0",
            "_view_count": null,
            "flex_flow": null,
            "width": null,
            "min_width": null,
            "border": null,
            "align_items": null,
            "bottom": null,
            "_model_module": "@jupyter-widgets/base",
            "top": null,
            "grid_column": null,
            "overflow_y": null,
            "overflow_x": null,
            "grid_auto_flow": null,
            "grid_area": null,
            "grid_template_columns": null,
            "flex": null,
            "_model_name": "LayoutModel",
            "justify_items": null,
            "grid_row": null,
            "max_height": null,
            "align_content": null,
            "visibility": null,
            "align_self": null,
            "height": null,
            "min_height": null,
            "padding": null,
            "grid_auto_rows": null,
            "grid_gap": null,
            "max_width": null,
            "order": null,
            "_view_module_version": "1.2.0",
            "grid_template_areas": null,
            "object_position": null,
            "object_fit": null,
            "grid_auto_columns": null,
            "margin": null,
            "display": null,
            "left": null
          }
        },
        "f07f0659aa87497d9b914eb3bb8d3e7e": {
          "model_module": "@jupyter-widgets/controls",
          "model_name": "DescriptionStyleModel",
          "state": {
            "_view_name": "StyleView",
            "_model_name": "DescriptionStyleModel",
            "description_width": "",
            "_view_module": "@jupyter-widgets/base",
            "_model_module_version": "1.5.0",
            "_view_count": null,
            "_view_module_version": "1.2.0",
            "_model_module": "@jupyter-widgets/controls"
          }
        },
        "d1a1635b4ce7493a99c02b64eb497b46": {
          "model_module": "@jupyter-widgets/base",
          "model_name": "LayoutModel",
          "state": {
            "_view_name": "LayoutView",
            "grid_template_rows": null,
            "right": null,
            "justify_content": null,
            "_view_module": "@jupyter-widgets/base",
            "overflow": null,
            "_model_module_version": "1.2.0",
            "_view_count": null,
            "flex_flow": null,
            "width": null,
            "min_width": null,
            "border": null,
            "align_items": null,
            "bottom": null,
            "_model_module": "@jupyter-widgets/base",
            "top": null,
            "grid_column": null,
            "overflow_y": null,
            "overflow_x": null,
            "grid_auto_flow": null,
            "grid_area": null,
            "grid_template_columns": null,
            "flex": null,
            "_model_name": "LayoutModel",
            "justify_items": null,
            "grid_row": null,
            "max_height": null,
            "align_content": null,
            "visibility": null,
            "align_self": null,
            "height": null,
            "min_height": null,
            "padding": null,
            "grid_auto_rows": null,
            "grid_gap": null,
            "max_width": null,
            "order": null,
            "_view_module_version": "1.2.0",
            "grid_template_areas": null,
            "object_position": null,
            "object_fit": null,
            "grid_auto_columns": null,
            "margin": null,
            "display": null,
            "left": null
          }
        },
        "bd1a7a35fb584e648d5b9a037badff1c": {
          "model_module": "@jupyter-widgets/controls",
          "model_name": "HBoxModel",
          "state": {
            "_view_name": "HBoxView",
            "_dom_classes": [],
            "_model_name": "HBoxModel",
            "_view_module": "@jupyter-widgets/controls",
            "_model_module_version": "1.5.0",
            "_view_count": null,
            "_view_module_version": "1.5.0",
            "box_style": "",
            "layout": "IPY_MODEL_b446f95239254e1790b9fee199f61fa1",
            "_model_module": "@jupyter-widgets/controls",
            "children": [
              "IPY_MODEL_869892c6717244a3935f562ac532a2d1",
              "IPY_MODEL_b80f3e9346ae42538d0663b979b9ae27"
            ]
          }
        },
        "b446f95239254e1790b9fee199f61fa1": {
          "model_module": "@jupyter-widgets/base",
          "model_name": "LayoutModel",
          "state": {
            "_view_name": "LayoutView",
            "grid_template_rows": null,
            "right": null,
            "justify_content": null,
            "_view_module": "@jupyter-widgets/base",
            "overflow": null,
            "_model_module_version": "1.2.0",
            "_view_count": null,
            "flex_flow": null,
            "width": null,
            "min_width": null,
            "border": null,
            "align_items": null,
            "bottom": null,
            "_model_module": "@jupyter-widgets/base",
            "top": null,
            "grid_column": null,
            "overflow_y": null,
            "overflow_x": null,
            "grid_auto_flow": null,
            "grid_area": null,
            "grid_template_columns": null,
            "flex": null,
            "_model_name": "LayoutModel",
            "justify_items": null,
            "grid_row": null,
            "max_height": null,
            "align_content": null,
            "visibility": null,
            "align_self": null,
            "height": null,
            "min_height": null,
            "padding": null,
            "grid_auto_rows": null,
            "grid_gap": null,
            "max_width": null,
            "order": null,
            "_view_module_version": "1.2.0",
            "grid_template_areas": null,
            "object_position": null,
            "object_fit": null,
            "grid_auto_columns": null,
            "margin": null,
            "display": null,
            "left": null
          }
        },
        "869892c6717244a3935f562ac532a2d1": {
          "model_module": "@jupyter-widgets/controls",
          "model_name": "FloatProgressModel",
          "state": {
            "_view_name": "ProgressView",
            "style": "IPY_MODEL_7f01cc238c264a4cbd00873615bdf08d",
            "_dom_classes": [],
            "description": "",
            "_model_name": "FloatProgressModel",
            "bar_style": "success",
            "max": 170498071,
            "_view_module": "@jupyter-widgets/controls",
            "_model_module_version": "1.5.0",
            "value": 170498071,
            "_view_count": null,
            "_view_module_version": "1.5.0",
            "orientation": "horizontal",
            "min": 0,
            "description_tooltip": null,
            "_model_module": "@jupyter-widgets/controls",
            "layout": "IPY_MODEL_d1a5b5ee1c1e41f085ac8a56fa04648c"
          }
        },
        "b80f3e9346ae42538d0663b979b9ae27": {
          "model_module": "@jupyter-widgets/controls",
          "model_name": "HTMLModel",
          "state": {
            "_view_name": "HTMLView",
            "style": "IPY_MODEL_96c3a09cee964d1096e5ae41f067b38b",
            "_dom_classes": [],
            "description": "",
            "_model_name": "HTMLModel",
            "placeholder": "​",
            "_view_module": "@jupyter-widgets/controls",
            "_model_module_version": "1.5.0",
            "value": " 170499072/? [00:04&lt;00:00, 38430661.71it/s]",
            "_view_count": null,
            "_view_module_version": "1.5.0",
            "description_tooltip": null,
            "_model_module": "@jupyter-widgets/controls",
            "layout": "IPY_MODEL_87e00179ba8b475bb1ae4aae23b126a3"
          }
        },
        "7f01cc238c264a4cbd00873615bdf08d": {
          "model_module": "@jupyter-widgets/controls",
          "model_name": "ProgressStyleModel",
          "state": {
            "_view_name": "StyleView",
            "_model_name": "ProgressStyleModel",
            "description_width": "initial",
            "_view_module": "@jupyter-widgets/base",
            "_model_module_version": "1.5.0",
            "_view_count": null,
            "_view_module_version": "1.2.0",
            "bar_color": null,
            "_model_module": "@jupyter-widgets/controls"
          }
        },
        "d1a5b5ee1c1e41f085ac8a56fa04648c": {
          "model_module": "@jupyter-widgets/base",
          "model_name": "LayoutModel",
          "state": {
            "_view_name": "LayoutView",
            "grid_template_rows": null,
            "right": null,
            "justify_content": null,
            "_view_module": "@jupyter-widgets/base",
            "overflow": null,
            "_model_module_version": "1.2.0",
            "_view_count": null,
            "flex_flow": null,
            "width": null,
            "min_width": null,
            "border": null,
            "align_items": null,
            "bottom": null,
            "_model_module": "@jupyter-widgets/base",
            "top": null,
            "grid_column": null,
            "overflow_y": null,
            "overflow_x": null,
            "grid_auto_flow": null,
            "grid_area": null,
            "grid_template_columns": null,
            "flex": null,
            "_model_name": "LayoutModel",
            "justify_items": null,
            "grid_row": null,
            "max_height": null,
            "align_content": null,
            "visibility": null,
            "align_self": null,
            "height": null,
            "min_height": null,
            "padding": null,
            "grid_auto_rows": null,
            "grid_gap": null,
            "max_width": null,
            "order": null,
            "_view_module_version": "1.2.0",
            "grid_template_areas": null,
            "object_position": null,
            "object_fit": null,
            "grid_auto_columns": null,
            "margin": null,
            "display": null,
            "left": null
          }
        },
        "96c3a09cee964d1096e5ae41f067b38b": {
          "model_module": "@jupyter-widgets/controls",
          "model_name": "DescriptionStyleModel",
          "state": {
            "_view_name": "StyleView",
            "_model_name": "DescriptionStyleModel",
            "description_width": "",
            "_view_module": "@jupyter-widgets/base",
            "_model_module_version": "1.5.0",
            "_view_count": null,
            "_view_module_version": "1.2.0",
            "_model_module": "@jupyter-widgets/controls"
          }
        },
        "87e00179ba8b475bb1ae4aae23b126a3": {
          "model_module": "@jupyter-widgets/base",
          "model_name": "LayoutModel",
          "state": {
            "_view_name": "LayoutView",
            "grid_template_rows": null,
            "right": null,
            "justify_content": null,
            "_view_module": "@jupyter-widgets/base",
            "overflow": null,
            "_model_module_version": "1.2.0",
            "_view_count": null,
            "flex_flow": null,
            "width": null,
            "min_width": null,
            "border": null,
            "align_items": null,
            "bottom": null,
            "_model_module": "@jupyter-widgets/base",
            "top": null,
            "grid_column": null,
            "overflow_y": null,
            "overflow_x": null,
            "grid_auto_flow": null,
            "grid_area": null,
            "grid_template_columns": null,
            "flex": null,
            "_model_name": "LayoutModel",
            "justify_items": null,
            "grid_row": null,
            "max_height": null,
            "align_content": null,
            "visibility": null,
            "align_self": null,
            "height": null,
            "min_height": null,
            "padding": null,
            "grid_auto_rows": null,
            "grid_gap": null,
            "max_width": null,
            "order": null,
            "_view_module_version": "1.2.0",
            "grid_template_areas": null,
            "object_position": null,
            "object_fit": null,
            "grid_auto_columns": null,
            "margin": null,
            "display": null,
            "left": null
          }
        }
      }
    }
  },
  "cells": [
    {
      "cell_type": "markdown",
      "metadata": {
        "id": "view-in-github",
        "colab_type": "text"
      },
      "source": [
        "<a href=\"https://colab.research.google.com/github/sujitpal/deeplearning-ai-examples/blob/master/tricks02_cifar10.ipynb\" target=\"_parent\"><img src=\"https://colab.research.google.com/assets/colab-badge.svg\" alt=\"Open In Colab\"/></a>"
      ]
    },
    {
      "cell_type": "markdown",
      "metadata": {
        "id": "r48e7E_Z_xGl"
      },
      "source": [
        "## More tricks to improve CIFAR-10 classifier\n",
        "\n",
        "Some more tricks that I came across in subsequent classes of the [Deep Learning with Pytorch](https://www.youtube.com/playlist?list=PLLHTzKZzVU9eaEyErdV26ikyolxOsz6mq) course from New York University, as listed below.\n",
        "\n",
        "1. Wider network.\n",
        "1. Deeper network.\n",
        "1. Batch Norm.\n",
        "1. Residual Connection.\n",
        "1. Gradient Clipping.\n",
        "1. Increase batch size.\n",
        "\n",
        "Unlike the previous notebook, these are not listed neatly in a single slide, but are mentioned in passing. \n",
        "\n",
        "As with the previous notebook, we start with a baseline CNN with 3 layers, ReLU activation and Adam optimizer.\n",
        "\n",
        "\n",
        "Residual: https://medium.com/analytics-vidhya/understanding-and-implementation-of-residual-networks-resnets-b80f9a507b9c\n"
      ]
    },
    {
      "cell_type": "code",
      "metadata": {
        "id": "pi120PlKB4PB"
      },
      "source": [
        "import json\n",
        "import matplotlib.pyplot as plt\n",
        "import numpy as np\n",
        "import os\n",
        "import pandas as pd\n",
        "import shutil\n",
        "\n",
        "import torch\n",
        "import torch.nn as nn\n",
        "import torch.nn.functional as F\n",
        "import torchvision\n",
        "\n",
        "from sklearn.metrics import accuracy_score, confusion_matrix, classification_report\n",
        "from sklearn.metrics import precision_recall_fscore_support\n",
        "from torchsummary import summary\n",
        "\n",
        "%matplotlib inline"
      ],
      "execution_count": 1,
      "outputs": []
    },
    {
      "cell_type": "code",
      "metadata": {
        "id": "mO6rtG7CB96a"
      },
      "source": [
        "TRAIN_IMAGES_DIR = \"cifar10-train\"\n",
        "TEST_IMAGES_DIR = \"cifar10-test\"\n",
        "MODEL_DIR = \"models\"\n",
        "\n",
        "shutil.rmtree(MODEL_DIR, ignore_errors=True)\n",
        "os.mkdir(MODEL_DIR)"
      ],
      "execution_count": 2,
      "outputs": []
    },
    {
      "cell_type": "code",
      "metadata": {
        "colab": {
          "base_uri": "https://localhost:8080/"
        },
        "id": "piREKoQMB_XA",
        "outputId": "83cff7d5-b1da-4ec3-e472-6e8e696256c6"
      },
      "source": [
        "CIFAR10_LABELS = [\n",
        "  \"aircraft\", \"automobile\", \"bird\", \"cat\", \"deer\", \n",
        "  \"dog\", \"frog\", \"horse\", \"ship\", \"truck\"\n",
        "]\n",
        "idx2label = {i:x for i, x in enumerate(CIFAR10_LABELS)}\n",
        "label2idx = {v:k for k, v in idx2label.items()}\n",
        "\n",
        "len(idx2label), len(label2idx)"
      ],
      "execution_count": 3,
      "outputs": [
        {
          "output_type": "execute_result",
          "data": {
            "text/plain": [
              "(10, 10)"
            ]
          },
          "metadata": {
            "tags": []
          },
          "execution_count": 3
        }
      ]
    },
    {
      "cell_type": "markdown",
      "metadata": {
        "id": "evqqgDXMBzkt"
      },
      "source": [
        "### Baseline\n",
        "\n",
        "* Data from `torchvision.datasets.CIFAR10`\n",
        "* Model based on [Tensorflow CNN tutorial](https://www.tensorflow.org/tutorials/images/cnn)\n",
        "    * 3 layer convolution/pool layers\n",
        "    * 2 layer dense head\n",
        "    * Adam optimizer"
      ]
    },
    {
      "cell_type": "code",
      "metadata": {
        "colab": {
          "base_uri": "https://localhost:8080/",
          "height": 203,
          "referenced_widgets": [
            "378f5bee05ec4f31bb3022697ca728fb",
            "e5238d11376343ffb5affaac3dc572b6",
            "c8694271d63649799f632e775ed00b5c",
            "83c0a9a2c1d641cfaa7650690b99c661",
            "1af10d4ffd294b7c888339d90e0aecd4",
            "535caf232f62446f8f5bcc778ce91217",
            "f07f0659aa87497d9b914eb3bb8d3e7e",
            "d1a1635b4ce7493a99c02b64eb497b46",
            "bd1a7a35fb584e648d5b9a037badff1c",
            "b446f95239254e1790b9fee199f61fa1",
            "869892c6717244a3935f562ac532a2d1",
            "b80f3e9346ae42538d0663b979b9ae27",
            "7f01cc238c264a4cbd00873615bdf08d",
            "d1a5b5ee1c1e41f085ac8a56fa04648c",
            "96c3a09cee964d1096e5ae41f067b38b",
            "87e00179ba8b475bb1ae4aae23b126a3"
          ]
        },
        "id": "CIvBGNo1_sBh",
        "outputId": "93d4d135-4762-4b47-e109-721d5fed4826"
      },
      "source": [
        "train_ds = torchvision.datasets.CIFAR10(TRAIN_IMAGES_DIR,\n",
        "                                        transform=torchvision.transforms.Compose([\n",
        "                                          torchvision.transforms.ToTensor()                      \n",
        "                                        ]),\n",
        "                                        train=True, download=True)\n",
        "test_ds = torchvision.datasets.CIFAR10(TEST_IMAGES_DIR, \n",
        "                                       transform=torchvision.transforms.Compose([\n",
        "                                          torchvision.transforms.ToTensor()                      \n",
        "                                       ]),\n",
        "                                       train=False, download=True)"
      ],
      "execution_count": 4,
      "outputs": [
        {
          "output_type": "stream",
          "text": [
            "Downloading https://www.cs.toronto.edu/~kriz/cifar-10-python.tar.gz to cifar10-train/cifar-10-python.tar.gz\n"
          ],
          "name": "stdout"
        },
        {
          "output_type": "display_data",
          "data": {
            "application/vnd.jupyter.widget-view+json": {
              "model_id": "378f5bee05ec4f31bb3022697ca728fb",
              "version_minor": 0,
              "version_major": 2
            },
            "text/plain": [
              "HBox(children=(FloatProgress(value=0.0, max=170498071.0), HTML(value='')))"
            ]
          },
          "metadata": {
            "tags": []
          }
        },
        {
          "output_type": "stream",
          "text": [
            "\n",
            "Extracting cifar10-train/cifar-10-python.tar.gz to cifar10-train\n",
            "Downloading https://www.cs.toronto.edu/~kriz/cifar-10-python.tar.gz to cifar10-test/cifar-10-python.tar.gz\n"
          ],
          "name": "stdout"
        },
        {
          "output_type": "display_data",
          "data": {
            "application/vnd.jupyter.widget-view+json": {
              "model_id": "bd1a7a35fb584e648d5b9a037badff1c",
              "version_minor": 0,
              "version_major": 2
            },
            "text/plain": [
              "HBox(children=(FloatProgress(value=0.0, max=170498071.0), HTML(value='')))"
            ]
          },
          "metadata": {
            "tags": []
          }
        },
        {
          "output_type": "stream",
          "text": [
            "\n",
            "Extracting cifar10-test/cifar-10-python.tar.gz to cifar10-test\n"
          ],
          "name": "stdout"
        }
      ]
    },
    {
      "cell_type": "code",
      "metadata": {
        "colab": {
          "base_uri": "https://localhost:8080/"
        },
        "id": "od1DK7qpFPQk",
        "outputId": "57765eee-417d-4daf-df3d-47194ce19b28"
      },
      "source": [
        "BATCH_SIZE = 64\n",
        "\n",
        "train_dl = torch.utils.data.DataLoader(train_ds, batch_size=BATCH_SIZE, shuffle=True)\n",
        "test_dl = torch.utils.data.DataLoader(test_ds, batch_size=BATCH_SIZE, shuffle=False)\n",
        "\n",
        "len(train_dl), len(test_dl)"
      ],
      "execution_count": 5,
      "outputs": [
        {
          "output_type": "execute_result",
          "data": {
            "text/plain": [
              "(782, 157)"
            ]
          },
          "metadata": {
            "tags": []
          },
          "execution_count": 5
        }
      ]
    },
    {
      "cell_type": "code",
      "metadata": {
        "colab": {
          "base_uri": "https://localhost:8080/",
          "height": 268
        },
        "id": "qg74YTQ2FXNL",
        "outputId": "93597fa4-9a7e-4a88-89ca-1315d8241eee"
      },
      "source": [
        "def show_data(image_label):\n",
        "  image, label = image_label\n",
        "  image = torch.transpose(torch.transpose(image, 0, 1), 1, 2)\n",
        "  plt.title(idx2label[label])\n",
        "  plt.xticks([])\n",
        "  plt.yticks([])\n",
        "  _ = plt.imshow(image)\n",
        "\n",
        "show_data(train_ds[np.random.randint(low=0, high=len(train_dl))])"
      ],
      "execution_count": 6,
      "outputs": [
        {
          "output_type": "display_data",
          "data": {
            "image/png": "[encoded data removed]",
            "text/plain": [
              "<Figure size 432x288 with 1 Axes>"
            ]
          },
          "metadata": {
            "tags": []
          }
        }
      ]
    },
    {
      "cell_type": "code",
      "metadata": {
        "colab": {
          "base_uri": "https://localhost:8080/"
        },
        "id": "TiyiV4DIFbHa",
        "outputId": "563eb170-5792-490f-86e1-86dc5b28ca7e"
      },
      "source": [
        "class Cifar10Classifier(nn.Module):\n",
        "  def __init__(self, conv_block_sizes, ff_block_sizes,\n",
        "               spatial_dropout=0, dense_dropout=0,\n",
        "               input_channels=3, input_size=(32, 32), output_size=10):\n",
        "    super(Cifar10Classifier, self).__init__()\n",
        "    # convolution layers\n",
        "    conv_layers = []\n",
        "    for cid in range(len(conv_block_sizes)):\n",
        "      conv_layers.append(nn.Sequential(\n",
        "        nn.Conv2d(input_channels if cid == 0 else conv_block_sizes[cid - 1],\n",
        "                  conv_block_sizes[cid], \n",
        "                  kernel_size=(3, 3), padding=(1, 1)),\n",
        "        nn.ReLU(),\n",
        "        nn.Dropout2d(p=spatial_dropout),\n",
        "        nn.MaxPool2d(kernel_size=(2, 2))))\n",
        "    self.conv_blocks = nn.ModuleList(conv_layers)\n",
        "    # flatten\n",
        "    self.flatten = nn.Flatten()\n",
        "    # compute image size to figure out input size after flatten\n",
        "    conv_output_width = input_size[0] // (2 ** len(conv_block_sizes))\n",
        "    if conv_output_width < 1:\n",
        "      raise ValueError(\"CNN pooling results in less than (1, 1) dimensions, reduce depth\")\n",
        "    conv_size = conv_output_width * conv_output_width * conv_block_sizes[cid]\n",
        "    # linear layers\n",
        "    linear_layers = []\n",
        "    for fid in range(len(ff_block_sizes) + 1):\n",
        "      linear_layers.append(nn.Sequential(\n",
        "          nn.Linear(conv_size if fid == 0 else ff_block_sizes[fid - 1],\n",
        "                    output_size if fid == len(ff_block_sizes) else ff_block_sizes[fid]),\n",
        "          nn.Dropout(p=dense_dropout),\n",
        "          nn.ReLU() if fid < len(ff_block_sizes) else nn.LogSoftmax(dim=1)\n",
        "      ))\n",
        "    self.linear_blocks = nn.ModuleList(linear_layers)\n",
        "\n",
        "  def forward(self, x):\n",
        "    for conv_block in self.conv_blocks:\n",
        "      x = conv_block(x)\n",
        "    x = self.flatten(x)\n",
        "    for linear_block in self.linear_blocks:\n",
        "      x = linear_block(x)\n",
        "    return x\n",
        "\n",
        "\n",
        "model_0 = Cifar10Classifier(\n",
        "    conv_block_sizes=[32, 64, 64], \n",
        "    ff_block_sizes=[64])\n",
        "summary(model_0, (3, 32, 32), device=\"cpu\")"
      ],
      "execution_count": 7,
      "outputs": [
        {
          "output_type": "stream",
          "text": [
            "----------------------------------------------------------------\n",
            "        Layer (type)               Output Shape         Param #\n",
            "================================================================\n",
            "            Conv2d-1           [-1, 32, 32, 32]             896\n",
            "              ReLU-2           [-1, 32, 32, 32]               0\n",
            "         Dropout2d-3           [-1, 32, 32, 32]               0\n",
            "         MaxPool2d-4           [-1, 32, 16, 16]               0\n",
            "            Conv2d-5           [-1, 64, 16, 16]          18,496\n",
            "              ReLU-6           [-1, 64, 16, 16]               0\n",
            "         Dropout2d-7           [-1, 64, 16, 16]               0\n",
            "         MaxPool2d-8             [-1, 64, 8, 8]               0\n",
            "            Conv2d-9             [-1, 64, 8, 8]          36,928\n",
            "             ReLU-10             [-1, 64, 8, 8]               0\n",
            "        Dropout2d-11             [-1, 64, 8, 8]               0\n",
            "        MaxPool2d-12             [-1, 64, 4, 4]               0\n",
            "          Flatten-13                 [-1, 1024]               0\n",
            "           Linear-14                   [-1, 64]          65,600\n",
            "          Dropout-15                   [-1, 64]               0\n",
            "             ReLU-16                   [-1, 64]               0\n",
            "           Linear-17                   [-1, 10]             650\n",
            "          Dropout-18                   [-1, 10]               0\n",
            "       LogSoftmax-19                   [-1, 10]               0\n",
            "================================================================\n",
            "Total params: 122,570\n",
            "Trainable params: 122,570\n",
            "Non-trainable params: 0\n",
            "----------------------------------------------------------------\n",
            "Input size (MB): 0.01\n",
            "Forward/backward pass size (MB): 1.33\n",
            "Params size (MB): 0.47\n",
            "Estimated Total Size (MB): 1.81\n",
            "----------------------------------------------------------------\n"
          ],
          "name": "stdout"
        }
      ]
    },
    {
      "cell_type": "code",
      "metadata": {
        "colab": {
          "base_uri": "https://localhost:8080/"
        },
        "id": "ha9hdSFYpXiP",
        "outputId": "30d7442c-8de5-4cd4-a9f5-d28f1798866b"
      },
      "source": [
        "# self-test\n",
        "x = torch.rand(10, 3, 32, 32)\n",
        "y = model_0(x)\n",
        "y.size()"
      ],
      "execution_count": 8,
      "outputs": [
        {
          "output_type": "execute_result",
          "data": {
            "text/plain": [
              "torch.Size([10, 10])"
            ]
          },
          "metadata": {
            "tags": []
          },
          "execution_count": 8
        }
      ]
    },
    {
      "cell_type": "code",
      "metadata": {
        "id": "0X5ya0GhrR2L"
      },
      "source": [
        "dev = torch.device(\"cuda\" if torch.cuda.is_available() else \"cpu\")\n",
        "model_0 = model_0.to(dev)"
      ],
      "execution_count": 9,
      "outputs": []
    },
    {
      "cell_type": "markdown",
      "metadata": {
        "id": "4HSuIdJRytbK"
      },
      "source": [
        "#### Training"
      ]
    },
    {
      "cell_type": "code",
      "metadata": {
        "id": "1K_TPUyGyqVH"
      },
      "source": [
        "NUM_EPOCHS = 10\n",
        "LEARNING_RATE = 1e-3\n",
        "\n",
        "loss_fn = torch.nn.CrossEntropyLoss()\n",
        "optimizer = torch.optim.Adam(model_0.parameters(), lr=LEARNING_RATE)"
      ],
      "execution_count": 10,
      "outputs": []
    },
    {
      "cell_type": "code",
      "metadata": {
        "id": "dgVUuFfny_I8"
      },
      "source": [
        "def train(model, train_dl, loss_fn, optimizer):\n",
        "  model.train()\n",
        "  train_losses, train_accs = [], []\n",
        "  for batch in train_dl:\n",
        "    images, labels = batch\n",
        "    \n",
        "    images = images.to(dev)\n",
        "    labels = labels.to(dev)\n",
        "\n",
        "    logits = model(images)\n",
        "    loss = loss_fn(logits, labels)\n",
        "    \n",
        "    train_losses.append(loss.item())\n",
        "    preds = torch.argmax(logits, dim=1).cpu().numpy()\n",
        "    labels = labels.cpu().numpy()\n",
        "    train_accs.append(accuracy_score(preds, labels))\n",
        "\n",
        "    loss.backward()\n",
        "    optimizer.step()\n",
        "    optimizer.zero_grad()\n",
        "\n",
        "    # if len(train_losses) > 5:\n",
        "    #   break\n",
        "  \n",
        "  train_loss = sum(train_losses) / len(train_losses)\n",
        "  train_acc = sum(train_accs) / len(train_accs)\n",
        "  return train_loss, train_acc\n",
        "\n",
        "\n",
        "# # self-test\n",
        "# train_loss, train_acc = train(model_0, train_dl, loss_fn, optimizer)\n",
        "# train_loss, train_acc"
      ],
      "execution_count": 11,
      "outputs": []
    },
    {
      "cell_type": "code",
      "metadata": {
        "id": "9sDDPMXozG06"
      },
      "source": [
        "def validate(model, val_dl, loss_fn):\n",
        "  model.eval()\n",
        "  val_losses, val_accs = [], []\n",
        "  for batch in val_dl:\n",
        "    images, labels = batch\n",
        "\n",
        "    images = images.to(dev)\n",
        "    labels = labels.to(dev)\n",
        "\n",
        "    with torch.no_grad():\n",
        "      logits = model(images)\n",
        "      loss = loss_fn(logits, labels)\n",
        "\n",
        "    val_losses.append(loss.item())\n",
        "    preds = torch.argmax(logits, dim=1).cpu().numpy()\n",
        "    labels = labels.cpu().numpy()\n",
        "    val_accs.append(accuracy_score(preds, labels))\n",
        "\n",
        "    # if len(val_losses) > 5:\n",
        "    #   break\n",
        "\n",
        "  val_loss = sum(val_losses) / len(val_losses)\n",
        "  val_acc = sum(val_accs) / len(val_accs)\n",
        "  return val_loss, val_acc\n",
        "\n",
        "\n",
        "# # self-test\n",
        "# val_loss, val_acc = validate(model_0, test_dl, loss_fn)\n",
        "# val_loss, val_acc"
      ],
      "execution_count": 12,
      "outputs": []
    },
    {
      "cell_type": "code",
      "metadata": {
        "colab": {
          "base_uri": "https://localhost:8080/"
        },
        "id": "tlBJXIFFzUP4",
        "outputId": "26d986fa-8b17-4e90-fc59-1a28e91f77e0"
      },
      "source": [
        "train_losses, train_accs, val_losses, val_accs = [], [], [], []\n",
        "for epoch in range(1, NUM_EPOCHS + 1):\n",
        "  train_loss, train_acc = train(model_0, train_dl, loss_fn, optimizer)\n",
        "  val_loss, val_acc = validate(model_0, test_dl, loss_fn)\n",
        "  print(\"Epoch {:2d} | Train Loss: {:.3f}, Accuracy: {:.3f} | Validation Loss: {:.3f}, Accuracy: {:.3f}\".format(\n",
        "      epoch, train_loss, train_acc, val_loss, val_acc))\n",
        "  train_losses.append(train_loss)\n",
        "  train_accs.append(train_acc)\n",
        "  val_losses.append(val_loss)\n",
        "  val_accs.append(val_acc)"
      ],
      "execution_count": 13,
      "outputs": [
        {
          "output_type": "stream",
          "text": [
            "Epoch  1 | Train Loss: 1.650, Accuracy: 0.394 | Validation Loss: 1.365, Accuracy: 0.502\n",
            "Epoch  2 | Train Loss: 1.272, Accuracy: 0.543 | Validation Loss: 1.162, Accuracy: 0.589\n",
            "Epoch  3 | Train Loss: 1.104, Accuracy: 0.609 | Validation Loss: 1.035, Accuracy: 0.632\n",
            "Epoch  4 | Train Loss: 0.988, Accuracy: 0.650 | Validation Loss: 0.977, Accuracy: 0.657\n",
            "Epoch  5 | Train Loss: 0.899, Accuracy: 0.683 | Validation Loss: 0.963, Accuracy: 0.661\n",
            "Epoch  6 | Train Loss: 0.834, Accuracy: 0.706 | Validation Loss: 0.881, Accuracy: 0.695\n",
            "Epoch  7 | Train Loss: 0.781, Accuracy: 0.726 | Validation Loss: 0.850, Accuracy: 0.706\n",
            "Epoch  8 | Train Loss: 0.736, Accuracy: 0.742 | Validation Loss: 0.869, Accuracy: 0.701\n",
            "Epoch  9 | Train Loss: 0.691, Accuracy: 0.759 | Validation Loss: 0.820, Accuracy: 0.720\n",
            "Epoch 10 | Train Loss: 0.651, Accuracy: 0.771 | Validation Loss: 0.860, Accuracy: 0.705\n"
          ],
          "name": "stdout"
        }
      ]
    },
    {
      "cell_type": "code",
      "metadata": {
        "colab": {
          "base_uri": "https://localhost:8080/",
          "height": 297
        },
        "id": "KZvzZa_4zZOf",
        "outputId": "b8fb2b7f-988e-46cf-e690-45d3e5cb121d"
      },
      "source": [
        "def plot_training_curves(train_losses, train_accs, val_losses, val_accs):\n",
        "  plt.subplot(2, 1, 1)\n",
        "  plt.plot(np.arange(NUM_EPOCHS)+1, train_losses, label=\"train\")\n",
        "  plt.plot(np.arange(NUM_EPOCHS)+1, val_losses, label=\"valid\")\n",
        "  plt.xlabel(\"epochs\")\n",
        "  plt.ylabel(\"loss\")\n",
        "  plt.legend(loc=\"best\")\n",
        "\n",
        "  plt.subplot(2, 1, 2)\n",
        "  plt.plot(np.arange(NUM_EPOCHS)+1, train_accs, label=\"train\")\n",
        "  plt.plot(np.arange(NUM_EPOCHS)+1, val_accs, label=\"valid\")\n",
        "  plt.xlabel(\"epochs\")\n",
        "  plt.ylabel(\"accuracy\")\n",
        "  plt.legend(loc=\"best\")\n",
        "\n",
        "  plt.tight_layout()\n",
        "  _ = plt.plot()\n",
        "\n",
        "\n",
        "plot_training_curves(train_losses, train_accs, val_losses, val_accs)"
      ],
      "execution_count": 14,
      "outputs": [
        {
          "output_type": "display_data",
          "data": {
            "image/png": "[encoded data removed]",
            "text/plain": [
              "<Figure size 432x288 with 2 Axes>"
            ]
          },
          "metadata": {
            "tags": [],
            "needs_background": "light"
          }
        }
      ]
    },
    {
      "cell_type": "markdown",
      "metadata": {
        "id": "6eTt16jPz3Qe"
      },
      "source": [
        "#### Evaluation"
      ]
    },
    {
      "cell_type": "code",
      "metadata": {
        "id": "uYeGVDq1zui1"
      },
      "source": [
        "def evaluate(model, test_dl):\n",
        "  model.eval()\n",
        "  true_values, pred_values = [], []\n",
        "  for batch in test_dl:\n",
        "    images, labels = batch\n",
        "    images = images.to(dev)\n",
        "\n",
        "    with torch.no_grad():\n",
        "      logits = model(images)\n",
        "    preds = torch.argmax(logits, dim=1).cpu().numpy()\n",
        "    labels = labels.numpy()\n",
        "\n",
        "    true_values.extend(labels.tolist())\n",
        "    pred_values.extend(preds.tolist())\n",
        "\n",
        "  return true_values, pred_values\n",
        "\n",
        "\n",
        "true_values, pred_values = evaluate(model_0, test_dl)"
      ],
      "execution_count": 15,
      "outputs": []
    },
    {
      "cell_type": "code",
      "metadata": {
        "colab": {
          "base_uri": "https://localhost:8080/"
        },
        "id": "On8uvsJuz62g",
        "outputId": "1db37369-1f3d-42a9-83fa-ee9c67395702"
      },
      "source": [
        "print(\"** accuracy: {:.3f}\".format(accuracy_score(true_values, pred_values)))\n",
        "print(\"--\")\n",
        "print(\"confusion matrix\")\n",
        "print(confusion_matrix(true_values, pred_values))\n",
        "print(\"--\")\n",
        "print(\"classification report\")\n",
        "print(classification_report(true_values, pred_values, target_names=CIFAR10_LABELS))"
      ],
      "execution_count": 16,
      "outputs": [
        {
          "output_type": "stream",
          "text": [
            "** accuracy: 0.705\n",
            "--\n",
            "confusion matrix\n",
            "[[757   8  64  23  13   2  15   9  84  25]\n",
            " [ 23 779  14  11   2   3  12   3  68  85]\n",
            " [ 57   5 718  64  57  16  38  22  14   9]\n",
            " [ 23   3 146 624  37  55  47  28  24  13]\n",
            " [ 19   1 167  73 629   9  38  48  13   3]\n",
            " [ 19   3 132 341  43 400  13  32   9   8]\n",
            " [  3   4  97  85  33   4 757   4   9   4]\n",
            " [ 19   1  95  71  76  23   2 695   3  15]\n",
            " [ 43  15  21  14   1   2   4   3 883  14]\n",
            " [ 36  52  16  30   3   1   5  11  43 803]]\n",
            "--\n",
            "classification report\n",
            "              precision    recall  f1-score   support\n",
            "\n",
            "    aircraft       0.76      0.76      0.76      1000\n",
            "  automobile       0.89      0.78      0.83      1000\n",
            "        bird       0.49      0.72      0.58      1000\n",
            "         cat       0.47      0.62      0.53      1000\n",
            "        deer       0.70      0.63      0.66      1000\n",
            "         dog       0.78      0.40      0.53      1000\n",
            "        frog       0.81      0.76      0.78      1000\n",
            "       horse       0.81      0.69      0.75      1000\n",
            "        ship       0.77      0.88      0.82      1000\n",
            "       truck       0.82      0.80      0.81      1000\n",
            "\n",
            "    accuracy                           0.70     10000\n",
            "   macro avg       0.73      0.70      0.71     10000\n",
            "weighted avg       0.73      0.70      0.71     10000\n",
            "\n"
          ],
          "name": "stdout"
        }
      ]
    },
    {
      "cell_type": "code",
      "metadata": {
        "id": "IMKw6ZFHOovW"
      },
      "source": [
        "def write_metrics(true_values, pred_values, experiment_name, metric_filepath):\n",
        "  fout = open(metric_filepath, \"w\")\n",
        "  p, r, f, s = precision_recall_fscore_support(true_values, pred_values, average=\"micro\")\n",
        "  metrics_dict = {\n",
        "    \"precision\": p, \"recall\": r, \"f1-score\": f, \"support\": s\n",
        "  }\n",
        "  metrics_dict[\"name\"] = experiment_name\n",
        "  fout.write(json.dumps(metrics_dict))\n",
        "  fout.close()\n",
        "\n",
        "\n",
        "metric_filepath = os.path.join(MODEL_DIR, \"model_0.json\")\n",
        "write_metrics(true_values, pred_values, \"baseline\", metric_filepath)"
      ],
      "execution_count": 17,
      "outputs": []
    },
    {
      "cell_type": "markdown",
      "metadata": {
        "id": "hWZ8rupa0jEZ"
      },
      "source": [
        "### Wider Network"
      ]
    },
    {
      "cell_type": "code",
      "metadata": {
        "colab": {
          "base_uri": "https://localhost:8080/"
        },
        "id": "5846uijRz-4P",
        "outputId": "b6a84069-1405-4fac-e8d3-e56b9a66b016"
      },
      "source": [
        "model_1 = Cifar10Classifier(\n",
        "    conv_block_sizes=[32, 64, 64], \n",
        "    ff_block_sizes=[512])\n",
        "summary(model_1, (3, 32, 32), device=\"cpu\")"
      ],
      "execution_count": 18,
      "outputs": [
        {
          "output_type": "stream",
          "text": [
            "----------------------------------------------------------------\n",
            "        Layer (type)               Output Shape         Param #\n",
            "================================================================\n",
            "            Conv2d-1           [-1, 32, 32, 32]             896\n",
            "              ReLU-2           [-1, 32, 32, 32]               0\n",
            "         Dropout2d-3           [-1, 32, 32, 32]               0\n",
            "         MaxPool2d-4           [-1, 32, 16, 16]               0\n",
            "            Conv2d-5           [-1, 64, 16, 16]          18,496\n",
            "              ReLU-6           [-1, 64, 16, 16]               0\n",
            "         Dropout2d-7           [-1, 64, 16, 16]               0\n",
            "         MaxPool2d-8             [-1, 64, 8, 8]               0\n",
            "            Conv2d-9             [-1, 64, 8, 8]          36,928\n",
            "             ReLU-10             [-1, 64, 8, 8]               0\n",
            "        Dropout2d-11             [-1, 64, 8, 8]               0\n",
            "        MaxPool2d-12             [-1, 64, 4, 4]               0\n",
            "          Flatten-13                 [-1, 1024]               0\n",
            "           Linear-14                  [-1, 512]         524,800\n",
            "          Dropout-15                  [-1, 512]               0\n",
            "             ReLU-16                  [-1, 512]               0\n",
            "           Linear-17                   [-1, 10]           5,130\n",
            "          Dropout-18                   [-1, 10]               0\n",
            "       LogSoftmax-19                   [-1, 10]               0\n",
            "================================================================\n",
            "Total params: 586,250\n",
            "Trainable params: 586,250\n",
            "Non-trainable params: 0\n",
            "----------------------------------------------------------------\n",
            "Input size (MB): 0.01\n",
            "Forward/backward pass size (MB): 1.34\n",
            "Params size (MB): 2.24\n",
            "Estimated Total Size (MB): 3.59\n",
            "----------------------------------------------------------------\n"
          ],
          "name": "stdout"
        }
      ]
    },
    {
      "cell_type": "code",
      "metadata": {
        "colab": {
          "base_uri": "https://localhost:8080/"
        },
        "id": "daDKWx3O015M",
        "outputId": "8b989bb4-03d0-4491-f2c6-bd2789225adf"
      },
      "source": [
        "model_1 = model_1.to(dev)\n",
        "\n",
        "loss_fn = torch.nn.CrossEntropyLoss()\n",
        "optimizer = torch.optim.Adam(model_1.parameters(), lr=LEARNING_RATE)\n",
        "\n",
        "train_losses, train_accs, val_losses, val_accs = [], [], [], []\n",
        "for epoch in range(1, NUM_EPOCHS + 1):\n",
        "  train_loss, train_acc = train(model_1, train_dl, loss_fn, optimizer)\n",
        "  val_loss, val_acc = validate(model_1, test_dl, loss_fn)\n",
        "  print(\"Epoch {:2d} | Train Loss: {:.3f}, Accuracy: {:.3f} | Validation Loss: {:.3f}, Accuracy: {:.3f}\".format(\n",
        "      epoch, train_loss, train_acc, val_loss, val_acc))\n",
        "  train_losses.append(train_loss)\n",
        "  train_accs.append(train_acc)\n",
        "  val_losses.append(val_loss)\n",
        "  val_accs.append(val_acc)"
      ],
      "execution_count": 19,
      "outputs": [
        {
          "output_type": "stream",
          "text": [
            "Epoch  1 | Train Loss: 1.507, Accuracy: 0.449 | Validation Loss: 1.227, Accuracy: 0.558\n",
            "Epoch  2 | Train Loss: 1.092, Accuracy: 0.609 | Validation Loss: 0.999, Accuracy: 0.650\n",
            "Epoch  3 | Train Loss: 0.905, Accuracy: 0.681 | Validation Loss: 0.889, Accuracy: 0.689\n",
            "Epoch  4 | Train Loss: 0.780, Accuracy: 0.725 | Validation Loss: 0.881, Accuracy: 0.697\n",
            "Epoch  5 | Train Loss: 0.688, Accuracy: 0.760 | Validation Loss: 0.817, Accuracy: 0.717\n",
            "Epoch  6 | Train Loss: 0.602, Accuracy: 0.790 | Validation Loss: 0.789, Accuracy: 0.732\n",
            "Epoch  7 | Train Loss: 0.528, Accuracy: 0.815 | Validation Loss: 0.797, Accuracy: 0.732\n",
            "Epoch  8 | Train Loss: 0.465, Accuracy: 0.837 | Validation Loss: 0.794, Accuracy: 0.746\n",
            "Epoch  9 | Train Loss: 0.399, Accuracy: 0.860 | Validation Loss: 0.817, Accuracy: 0.746\n",
            "Epoch 10 | Train Loss: 0.336, Accuracy: 0.883 | Validation Loss: 0.898, Accuracy: 0.743\n"
          ],
          "name": "stdout"
        }
      ]
    },
    {
      "cell_type": "code",
      "metadata": {
        "colab": {
          "base_uri": "https://localhost:8080/",
          "height": 297
        },
        "id": "Ewob97aE1Man",
        "outputId": "9de523a4-40ae-4c3a-a090-57b8c3834bfd"
      },
      "source": [
        "plot_training_curves(train_losses, train_accs, val_losses, val_accs)"
      ],
      "execution_count": 20,
      "outputs": [
        {
          "output_type": "display_data",
          "data": {
            "image/png": "[encoded data removed]",
            "text/plain": [
              "<Figure size 432x288 with 2 Axes>"
            ]
          },
          "metadata": {
            "tags": [],
            "needs_background": "light"
          }
        }
      ]
    },
    {
      "cell_type": "code",
      "metadata": {
        "colab": {
          "base_uri": "https://localhost:8080/"
        },
        "id": "PCixJd111eBL",
        "outputId": "2ed19aa5-9559-4677-a07c-2c225c726c41"
      },
      "source": [
        "true_values, pred_values = evaluate(model_1, test_dl)\n",
        "\n",
        "print(\"** accuracy: {:.3f}\".format(accuracy_score(true_values, pred_values)))\n",
        "print(\"--\")\n",
        "print(\"confusion matrix\")\n",
        "print(confusion_matrix(true_values, pred_values))\n",
        "print(\"--\")\n",
        "print(\"classification report\")\n",
        "print(classification_report(true_values, pred_values, target_names=CIFAR10_LABELS))"
      ],
      "execution_count": 21,
      "outputs": [
        {
          "output_type": "stream",
          "text": [
            "** accuracy: 0.742\n",
            "--\n",
            "confusion matrix\n",
            "[[713   9  53  42  16   9  19  10  95  34]\n",
            " [ 14 828   0   8   4   2   9   3  50  82]\n",
            " [ 42   4 571  75 101  42  91  35  23  16]\n",
            " [ 10   8  47 599  62 104  87  37  25  21]\n",
            " [ 10   3  43  72 710  17  62  65  15   3]\n",
            " [  8   3  28 195  58 579  40  53  21  15]\n",
            " [  6   3  17  53  27  14 859   3  13   5]\n",
            " [ 11   6  13  52  43  39  11 813   4   8]\n",
            " [ 21  18  10  12   4   3   7   5 905  15]\n",
            " [ 29  49   6  15   3   3   9  11  33 842]]\n",
            "--\n",
            "classification report\n",
            "              precision    recall  f1-score   support\n",
            "\n",
            "    aircraft       0.83      0.71      0.77      1000\n",
            "  automobile       0.89      0.83      0.86      1000\n",
            "        bird       0.72      0.57      0.64      1000\n",
            "         cat       0.53      0.60      0.56      1000\n",
            "        deer       0.69      0.71      0.70      1000\n",
            "         dog       0.71      0.58      0.64      1000\n",
            "        frog       0.72      0.86      0.78      1000\n",
            "       horse       0.79      0.81      0.80      1000\n",
            "        ship       0.76      0.91      0.83      1000\n",
            "       truck       0.81      0.84      0.83      1000\n",
            "\n",
            "    accuracy                           0.74     10000\n",
            "   macro avg       0.75      0.74      0.74     10000\n",
            "weighted avg       0.75      0.74      0.74     10000\n",
            "\n"
          ],
          "name": "stdout"
        }
      ]
    },
    {
      "cell_type": "code",
      "metadata": {
        "id": "rKi0dkXAO-kP"
      },
      "source": [
        "metric_filepath = os.path.join(MODEL_DIR, \"model_1.json\")\n",
        "write_metrics(true_values, pred_values, \"wider_network\", metric_filepath)"
      ],
      "execution_count": 22,
      "outputs": []
    },
    {
      "cell_type": "markdown",
      "metadata": {
        "id": "eZFYyFmD23cK"
      },
      "source": [
        "### Deeper Network"
      ]
    },
    {
      "cell_type": "code",
      "metadata": {
        "colab": {
          "base_uri": "https://localhost:8080/"
        },
        "id": "wDLDTJqh1ttp",
        "outputId": "b33335fd-3c50-4ac3-ec61-41463dacb997"
      },
      "source": [
        "model_2 = Cifar10Classifier(\n",
        "    conv_block_sizes=[32, 64, 64], \n",
        "    ff_block_sizes=[512, 256])\n",
        "summary(model_2, (3, 32, 32), device=\"cpu\")"
      ],
      "execution_count": 23,
      "outputs": [
        {
          "output_type": "stream",
          "text": [
            "----------------------------------------------------------------\n",
            "        Layer (type)               Output Shape         Param #\n",
            "================================================================\n",
            "            Conv2d-1           [-1, 32, 32, 32]             896\n",
            "              ReLU-2           [-1, 32, 32, 32]               0\n",
            "         Dropout2d-3           [-1, 32, 32, 32]               0\n",
            "         MaxPool2d-4           [-1, 32, 16, 16]               0\n",
            "            Conv2d-5           [-1, 64, 16, 16]          18,496\n",
            "              ReLU-6           [-1, 64, 16, 16]               0\n",
            "         Dropout2d-7           [-1, 64, 16, 16]               0\n",
            "         MaxPool2d-8             [-1, 64, 8, 8]               0\n",
            "            Conv2d-9             [-1, 64, 8, 8]          36,928\n",
            "             ReLU-10             [-1, 64, 8, 8]               0\n",
            "        Dropout2d-11             [-1, 64, 8, 8]               0\n",
            "        MaxPool2d-12             [-1, 64, 4, 4]               0\n",
            "          Flatten-13                 [-1, 1024]               0\n",
            "           Linear-14                  [-1, 512]         524,800\n",
            "          Dropout-15                  [-1, 512]               0\n",
            "             ReLU-16                  [-1, 512]               0\n",
            "           Linear-17                  [-1, 256]         131,328\n",
            "          Dropout-18                  [-1, 256]               0\n",
            "             ReLU-19                  [-1, 256]               0\n",
            "           Linear-20                   [-1, 10]           2,570\n",
            "          Dropout-21                   [-1, 10]               0\n",
            "       LogSoftmax-22                   [-1, 10]               0\n",
            "================================================================\n",
            "Total params: 715,018\n",
            "Trainable params: 715,018\n",
            "Non-trainable params: 0\n",
            "----------------------------------------------------------------\n",
            "Input size (MB): 0.01\n",
            "Forward/backward pass size (MB): 1.35\n",
            "Params size (MB): 2.73\n",
            "Estimated Total Size (MB): 4.09\n",
            "----------------------------------------------------------------\n"
          ],
          "name": "stdout"
        }
      ]
    },
    {
      "cell_type": "code",
      "metadata": {
        "colab": {
          "base_uri": "https://localhost:8080/"
        },
        "id": "R6f2MB0V3BN-",
        "outputId": "a279cf8e-bba6-4119-801e-83fe3e1a2999"
      },
      "source": [
        "model_2 = model_2.to(dev)\n",
        "\n",
        "loss_fn = torch.nn.CrossEntropyLoss()\n",
        "optimizer = torch.optim.Adam(model_2.parameters(), lr=LEARNING_RATE)\n",
        "\n",
        "train_losses, train_accs, val_losses, val_accs = [], [], [], []\n",
        "for epoch in range(1, NUM_EPOCHS + 1):\n",
        "  train_loss, train_acc = train(model_2, train_dl, loss_fn, optimizer)\n",
        "  val_loss, val_acc = validate(model_2, test_dl, loss_fn)\n",
        "  print(\"Epoch {:2d} | Train Loss: {:.3f}, Accuracy: {:.3f} | Validation Loss: {:.3f}, Accuracy: {:.3f}\".format(\n",
        "      epoch, train_loss, train_acc, val_loss, val_acc))\n",
        "  train_losses.append(train_loss)\n",
        "  train_accs.append(train_acc)\n",
        "  val_losses.append(val_loss)\n",
        "  val_accs.append(val_acc)"
      ],
      "execution_count": 24,
      "outputs": [
        {
          "output_type": "stream",
          "text": [
            "Epoch  1 | Train Loss: 1.552, Accuracy: 0.428 | Validation Loss: 1.248, Accuracy: 0.538\n",
            "Epoch  2 | Train Loss: 1.108, Accuracy: 0.600 | Validation Loss: 0.992, Accuracy: 0.642\n",
            "Epoch  3 | Train Loss: 0.907, Accuracy: 0.680 | Validation Loss: 0.933, Accuracy: 0.673\n",
            "Epoch  4 | Train Loss: 0.771, Accuracy: 0.728 | Validation Loss: 0.885, Accuracy: 0.692\n",
            "Epoch  5 | Train Loss: 0.669, Accuracy: 0.763 | Validation Loss: 0.820, Accuracy: 0.720\n",
            "Epoch  6 | Train Loss: 0.584, Accuracy: 0.793 | Validation Loss: 0.803, Accuracy: 0.728\n",
            "Epoch  7 | Train Loss: 0.507, Accuracy: 0.821 | Validation Loss: 0.775, Accuracy: 0.741\n",
            "Epoch  8 | Train Loss: 0.436, Accuracy: 0.846 | Validation Loss: 0.859, Accuracy: 0.733\n",
            "Epoch  9 | Train Loss: 0.364, Accuracy: 0.870 | Validation Loss: 0.944, Accuracy: 0.721\n",
            "Epoch 10 | Train Loss: 0.301, Accuracy: 0.894 | Validation Loss: 0.951, Accuracy: 0.732\n"
          ],
          "name": "stdout"
        }
      ]
    },
    {
      "cell_type": "code",
      "metadata": {
        "colab": {
          "base_uri": "https://localhost:8080/",
          "height": 297
        },
        "id": "UEEbWlAv3PPc",
        "outputId": "bcdcc418-757b-427b-ed19-5405f20109ae"
      },
      "source": [
        "plot_training_curves(train_losses, train_accs, val_losses, val_accs)"
      ],
      "execution_count": 25,
      "outputs": [
        {
          "output_type": "display_data",
          "data": {
            "image/png": "[encoded data removed]",
            "text/plain": [
              "<Figure size 432x288 with 2 Axes>"
            ]
          },
          "metadata": {
            "tags": [],
            "needs_background": "light"
          }
        }
      ]
    },
    {
      "cell_type": "code",
      "metadata": {
        "colab": {
          "base_uri": "https://localhost:8080/"
        },
        "id": "dDLqC9fL3WF4",
        "outputId": "d876b17c-b392-4787-a5a1-c1a1e7292407"
      },
      "source": [
        "true_values, pred_values = evaluate(model_2, test_dl)\n",
        "\n",
        "print(\"** accuracy: {:.3f}\".format(accuracy_score(true_values, pred_values)))\n",
        "print(\"--\")\n",
        "print(\"confusion matrix\")\n",
        "print(confusion_matrix(true_values, pred_values))\n",
        "print(\"--\")\n",
        "print(\"classification report\")\n",
        "print(classification_report(true_values, pred_values, target_names=CIFAR10_LABELS))"
      ],
      "execution_count": 26,
      "outputs": [
        {
          "output_type": "stream",
          "text": [
            "** accuracy: 0.732\n",
            "--\n",
            "confusion matrix\n",
            "[[735  11  69  14  23   8   9  15 102  14]\n",
            " [ 16 851  10   6   0   2  13   3  49  50]\n",
            " [ 51   2 668  45  73  24  57  51  23   6]\n",
            " [ 14   8  86 491  91 112 106  61  16  15]\n",
            " [ 14   4  73  43 700  21  49  84  10   2]\n",
            " [  9   5  77 156  53 547  49  90  10   4]\n",
            " [  4   7  31  39  36  17 840  11  12   3]\n",
            " [  7   3  43  28  38  26   6 835   7   7]\n",
            " [ 26  17  15   8   9   3   5   4 907   6]\n",
            " [ 35 106  13  17   7   5   8  16  47 746]]\n",
            "--\n",
            "classification report\n",
            "              precision    recall  f1-score   support\n",
            "\n",
            "    aircraft       0.81      0.73      0.77      1000\n",
            "  automobile       0.84      0.85      0.85      1000\n",
            "        bird       0.62      0.67      0.64      1000\n",
            "         cat       0.58      0.49      0.53      1000\n",
            "        deer       0.68      0.70      0.69      1000\n",
            "         dog       0.72      0.55      0.62      1000\n",
            "        frog       0.74      0.84      0.78      1000\n",
            "       horse       0.71      0.83      0.77      1000\n",
            "        ship       0.77      0.91      0.83      1000\n",
            "       truck       0.87      0.75      0.81      1000\n",
            "\n",
            "    accuracy                           0.73     10000\n",
            "   macro avg       0.73      0.73      0.73     10000\n",
            "weighted avg       0.73      0.73      0.73     10000\n",
            "\n"
          ],
          "name": "stdout"
        }
      ]
    },
    {
      "cell_type": "code",
      "metadata": {
        "id": "k09fsBg4PSM4"
      },
      "source": [
        "metric_filepath = os.path.join(MODEL_DIR, \"model_2.json\")\n",
        "write_metrics(true_values, pred_values, \"deeper_network\", metric_filepath)"
      ],
      "execution_count": 27,
      "outputs": []
    },
    {
      "cell_type": "markdown",
      "metadata": {
        "id": "b5366AtE4U3P"
      },
      "source": [
        "### Add Batch Normalization (before ReLU)\n",
        "\n",
        "There seems to be some controversy about where to put the BatchNorm in the model. According to Andrew Ng, it should be put before the non-linearity but according to Francois Chollet, the authors of the BatchNorm paper put this after the non-linerity. See [Stack Overflow discussion](https://stackoverflow.com/questions/47143521/where-to-apply-batch-normalization-on-standard-cnns#:~:text=Andrew%20Ng%20says%20that%20batch,BN%20after%20the%20activation%20layer.).\n",
        "\n",
        "We will try both approaches to compare."
      ]
    },
    {
      "cell_type": "code",
      "metadata": {
        "colab": {
          "base_uri": "https://localhost:8080/"
        },
        "id": "OSwppTPD4Ub1",
        "outputId": "7dcf100d-ffcf-4309-e1ad-e9496213d50f"
      },
      "source": [
        "class Cifar10ClassifierBNR(nn.Module):\n",
        "  def __init__(self, conv_block_sizes, ff_block_sizes,\n",
        "               spatial_dropout=0, dense_dropout=0,\n",
        "               input_channels=3, input_size=(32, 32), output_size=10):\n",
        "    super(Cifar10ClassifierBNR, self).__init__()\n",
        "    # convolution layers\n",
        "    conv_layers = []\n",
        "    for cid in range(len(conv_block_sizes)):\n",
        "      conv_layers.append(nn.Sequential(\n",
        "        nn.Conv2d(input_channels if cid == 0 else conv_block_sizes[cid - 1],\n",
        "                  conv_block_sizes[cid], \n",
        "                  kernel_size=(3, 3), padding=(1, 1)),\n",
        "        nn.BatchNorm2d(conv_block_sizes[cid]),\n",
        "        nn.ReLU(),\n",
        "        nn.Dropout2d(p=spatial_dropout),\n",
        "        nn.MaxPool2d(kernel_size=(2, 2))))\n",
        "    self.conv_blocks = nn.ModuleList(conv_layers)\n",
        "    # flatten\n",
        "    self.flatten = nn.Flatten()\n",
        "    # compute image size to figure out input size after flatten\n",
        "    conv_output_width = input_size[0] // (2 ** len(conv_block_sizes))\n",
        "    if conv_output_width < 1:\n",
        "      raise ValueError(\"CNN pooling results in less than (1, 1) dimensions, reduce depth\")\n",
        "    conv_size = conv_output_width * conv_output_width * conv_block_sizes[cid]\n",
        "    # linear layers\n",
        "    linear_layers = []\n",
        "    for fid in range(len(ff_block_sizes) + 1):\n",
        "      linear_layers.append(nn.Sequential(\n",
        "          nn.Linear(conv_size if fid == 0 else ff_block_sizes[fid - 1],\n",
        "                    output_size if fid == len(ff_block_sizes) else ff_block_sizes[fid]),\n",
        "          nn.Dropout(p=dense_dropout),\n",
        "          nn.ReLU() if fid < len(ff_block_sizes) else nn.LogSoftmax(dim=1)\n",
        "      ))\n",
        "    self.linear_blocks = nn.ModuleList(linear_layers)\n",
        "\n",
        "  def forward(self, x):\n",
        "    for conv_block in self.conv_blocks:\n",
        "      x = conv_block(x)\n",
        "    x = self.flatten(x)\n",
        "    for linear_block in self.linear_blocks:\n",
        "      x = linear_block(x)\n",
        "    return x\n",
        "\n",
        "\n",
        "model_3 = Cifar10ClassifierBNR(\n",
        "    conv_block_sizes=[32, 64, 64], \n",
        "    ff_block_sizes=[64])\n",
        "summary(model_3, (3, 32, 32), device=\"cpu\")"
      ],
      "execution_count": 28,
      "outputs": [
        {
          "output_type": "stream",
          "text": [
            "----------------------------------------------------------------\n",
            "        Layer (type)               Output Shape         Param #\n",
            "================================================================\n",
            "            Conv2d-1           [-1, 32, 32, 32]             896\n",
            "       BatchNorm2d-2           [-1, 32, 32, 32]              64\n",
            "              ReLU-3           [-1, 32, 32, 32]               0\n",
            "         Dropout2d-4           [-1, 32, 32, 32]               0\n",
            "         MaxPool2d-5           [-1, 32, 16, 16]               0\n",
            "            Conv2d-6           [-1, 64, 16, 16]          18,496\n",
            "       BatchNorm2d-7           [-1, 64, 16, 16]             128\n",
            "              ReLU-8           [-1, 64, 16, 16]               0\n",
            "         Dropout2d-9           [-1, 64, 16, 16]               0\n",
            "        MaxPool2d-10             [-1, 64, 8, 8]               0\n",
            "           Conv2d-11             [-1, 64, 8, 8]          36,928\n",
            "      BatchNorm2d-12             [-1, 64, 8, 8]             128\n",
            "             ReLU-13             [-1, 64, 8, 8]               0\n",
            "        Dropout2d-14             [-1, 64, 8, 8]               0\n",
            "        MaxPool2d-15             [-1, 64, 4, 4]               0\n",
            "          Flatten-16                 [-1, 1024]               0\n",
            "           Linear-17                   [-1, 64]          65,600\n",
            "          Dropout-18                   [-1, 64]               0\n",
            "             ReLU-19                   [-1, 64]               0\n",
            "           Linear-20                   [-1, 10]             650\n",
            "          Dropout-21                   [-1, 10]               0\n",
            "       LogSoftmax-22                   [-1, 10]               0\n",
            "================================================================\n",
            "Total params: 122,890\n",
            "Trainable params: 122,890\n",
            "Non-trainable params: 0\n",
            "----------------------------------------------------------------\n",
            "Input size (MB): 0.01\n",
            "Forward/backward pass size (MB): 1.74\n",
            "Params size (MB): 0.47\n",
            "Estimated Total Size (MB): 2.22\n",
            "----------------------------------------------------------------\n"
          ],
          "name": "stdout"
        }
      ]
    },
    {
      "cell_type": "code",
      "metadata": {
        "colab": {
          "base_uri": "https://localhost:8080/"
        },
        "id": "cqrOp5135MoG",
        "outputId": "e357a8eb-35a6-48ee-ad9e-a4ee9f57d619"
      },
      "source": [
        "model_3 = model_3.to(dev)\n",
        "\n",
        "loss_fn = torch.nn.CrossEntropyLoss()\n",
        "optimizer = torch.optim.Adam(model_3.parameters(), lr=LEARNING_RATE)\n",
        "\n",
        "train_losses, train_accs, val_losses, val_accs = [], [], [], []\n",
        "for epoch in range(1, NUM_EPOCHS + 1):\n",
        "  train_loss, train_acc = train(model_3, train_dl, loss_fn, optimizer)\n",
        "  val_loss, val_acc = validate(model_3, test_dl, loss_fn)\n",
        "  print(\"Epoch {:2d} | Train Loss: {:.3f}, Accuracy: {:.3f} | Validation Loss: {:.3f}, Accuracy: {:.3f}\".format(\n",
        "      epoch, train_loss, train_acc, val_loss, val_acc))\n",
        "  train_losses.append(train_loss)\n",
        "  train_accs.append(train_acc)\n",
        "  val_losses.append(val_loss)\n",
        "  val_accs.append(val_acc)"
      ],
      "execution_count": 29,
      "outputs": [
        {
          "output_type": "stream",
          "text": [
            "Epoch  1 | Train Loss: 1.206, Accuracy: 0.566 | Validation Loss: 0.938, Accuracy: 0.669\n",
            "Epoch  2 | Train Loss: 0.864, Accuracy: 0.696 | Validation Loss: 1.020, Accuracy: 0.650\n",
            "Epoch  3 | Train Loss: 0.743, Accuracy: 0.741 | Validation Loss: 0.936, Accuracy: 0.674\n",
            "Epoch  4 | Train Loss: 0.663, Accuracy: 0.769 | Validation Loss: 0.887, Accuracy: 0.695\n",
            "Epoch  5 | Train Loss: 0.601, Accuracy: 0.790 | Validation Loss: 0.939, Accuracy: 0.697\n",
            "Epoch  6 | Train Loss: 0.542, Accuracy: 0.810 | Validation Loss: 0.747, Accuracy: 0.743\n",
            "Epoch  7 | Train Loss: 0.495, Accuracy: 0.827 | Validation Loss: 0.785, Accuracy: 0.738\n",
            "Epoch  8 | Train Loss: 0.460, Accuracy: 0.838 | Validation Loss: 0.761, Accuracy: 0.754\n",
            "Epoch  9 | Train Loss: 0.420, Accuracy: 0.852 | Validation Loss: 0.855, Accuracy: 0.729\n",
            "Epoch 10 | Train Loss: 0.386, Accuracy: 0.864 | Validation Loss: 0.795, Accuracy: 0.752\n"
          ],
          "name": "stdout"
        }
      ]
    },
    {
      "cell_type": "code",
      "metadata": {
        "colab": {
          "base_uri": "https://localhost:8080/",
          "height": 297
        },
        "id": "l-Zj8kCD5uEv",
        "outputId": "bc13ff02-d1b4-4a15-98f8-441119f4d4f2"
      },
      "source": [
        "plot_training_curves(train_losses, train_accs, val_losses, val_accs)"
      ],
      "execution_count": 30,
      "outputs": [
        {
          "output_type": "display_data",
          "data": {
            "image/png": "[encoded data removed]",
            "text/plain": [
              "<Figure size 432x288 with 2 Axes>"
            ]
          },
          "metadata": {
            "tags": [],
            "needs_background": "light"
          }
        }
      ]
    },
    {
      "cell_type": "code",
      "metadata": {
        "colab": {
          "base_uri": "https://localhost:8080/"
        },
        "id": "7JPnkvyB5zme",
        "outputId": "9ce33020-5a29-406d-cb72-030eb4fe79df"
      },
      "source": [
        "true_values, pred_values = evaluate(model_3, test_dl)\n",
        "\n",
        "print(\"** accuracy: {:.3f}\".format(accuracy_score(true_values, pred_values)))\n",
        "print(\"--\")\n",
        "print(\"confusion matrix\")\n",
        "print(confusion_matrix(true_values, pred_values))\n",
        "print(\"--\")\n",
        "print(\"classification report\")\n",
        "print(classification_report(true_values, pred_values, target_names=CIFAR10_LABELS))"
      ],
      "execution_count": 31,
      "outputs": [
        {
          "output_type": "stream",
          "text": [
            "** accuracy: 0.752\n",
            "--\n",
            "confusion matrix\n",
            "[[769  23  38  15   7   2   1   6  76  63]\n",
            " [ 11 873   1   3   0   0   2   0   8 102]\n",
            " [ 67  14 674  55  46  40  32  25  20  27]\n",
            " [ 22  10  49 598  52 125  26  37  33  48]\n",
            " [ 26   9  56  69 674  31  21  63  22  29]\n",
            " [ 13   9  42 162  19 646  11  52  17  29]\n",
            " [  8  11  51  83  36  17 720   4  29  41]\n",
            " [ 28   6  28  29  20  37   1 785  12  54]\n",
            " [ 40  27   7   5   1   1   0   0 877  42]\n",
            " [  8  45   4   7   0   0   2   2  23 909]]\n",
            "--\n",
            "classification report\n",
            "              precision    recall  f1-score   support\n",
            "\n",
            "    aircraft       0.78      0.77      0.77      1000\n",
            "  automobile       0.85      0.87      0.86      1000\n",
            "        bird       0.71      0.67      0.69      1000\n",
            "         cat       0.58      0.60      0.59      1000\n",
            "        deer       0.79      0.67      0.73      1000\n",
            "         dog       0.72      0.65      0.68      1000\n",
            "        frog       0.88      0.72      0.79      1000\n",
            "       horse       0.81      0.79      0.80      1000\n",
            "        ship       0.79      0.88      0.83      1000\n",
            "       truck       0.68      0.91      0.78      1000\n",
            "\n",
            "    accuracy                           0.75     10000\n",
            "   macro avg       0.76      0.75      0.75     10000\n",
            "weighted avg       0.76      0.75      0.75     10000\n",
            "\n"
          ],
          "name": "stdout"
        }
      ]
    },
    {
      "cell_type": "code",
      "metadata": {
        "id": "iulyhS--Pca3"
      },
      "source": [
        "metric_filepath = os.path.join(MODEL_DIR, \"model_3.json\")\n",
        "write_metrics(true_values, pred_values, \"batchnorm_before_relu\", metric_filepath)"
      ],
      "execution_count": 32,
      "outputs": []
    },
    {
      "cell_type": "markdown",
      "metadata": {
        "id": "nIKGmAXL55ye"
      },
      "source": [
        "### Add Batch Normalization (after ReLU)"
      ]
    },
    {
      "cell_type": "code",
      "metadata": {
        "colab": {
          "base_uri": "https://localhost:8080/"
        },
        "id": "Q1wxy1cl5-X7",
        "outputId": "663d77e4-62b6-4ff9-a964-01835009024c"
      },
      "source": [
        "class Cifar10ClassifierRBN(nn.Module):\n",
        "  def __init__(self, conv_block_sizes, ff_block_sizes,\n",
        "               spatial_dropout=0, dense_dropout=0,\n",
        "               input_channels=3, input_size=(32, 32), output_size=10):\n",
        "    super(Cifar10ClassifierRBN, self).__init__()\n",
        "    # convolution layers\n",
        "    conv_layers = []\n",
        "    for cid in range(len(conv_block_sizes)):\n",
        "      conv_layers.append(nn.Sequential(\n",
        "        nn.Conv2d(input_channels if cid == 0 else conv_block_sizes[cid - 1],\n",
        "                  conv_block_sizes[cid], \n",
        "                  kernel_size=(3, 3), padding=(1, 1)),\n",
        "        nn.ReLU(),\n",
        "        nn.BatchNorm2d(conv_block_sizes[cid]),\n",
        "        nn.Dropout2d(p=spatial_dropout),\n",
        "        nn.MaxPool2d(kernel_size=(2, 2))))\n",
        "    self.conv_blocks = nn.ModuleList(conv_layers)\n",
        "    # flatten\n",
        "    self.flatten = nn.Flatten()\n",
        "    # compute image size to figure out input size after flatten\n",
        "    conv_output_width = input_size[0] // (2 ** len(conv_block_sizes))\n",
        "    if conv_output_width < 1:\n",
        "      raise ValueError(\"CNN pooling results in less than (1, 1) dimensions, reduce depth\")\n",
        "    conv_size = conv_output_width * conv_output_width * conv_block_sizes[cid]\n",
        "    # linear layers\n",
        "    linear_layers = []\n",
        "    for fid in range(len(ff_block_sizes) + 1):\n",
        "      linear_layers.append(nn.Sequential(\n",
        "          nn.Linear(conv_size if fid == 0 else ff_block_sizes[fid - 1],\n",
        "                    output_size if fid == len(ff_block_sizes) else ff_block_sizes[fid]),\n",
        "          nn.Dropout(p=dense_dropout),\n",
        "          nn.ReLU() if fid < len(ff_block_sizes) else nn.LogSoftmax(dim=1)\n",
        "      ))\n",
        "    self.linear_blocks = nn.ModuleList(linear_layers)\n",
        "\n",
        "  def forward(self, x):\n",
        "    for conv_block in self.conv_blocks:\n",
        "      x = conv_block(x)\n",
        "    x = self.flatten(x)\n",
        "    for linear_block in self.linear_blocks:\n",
        "      x = linear_block(x)\n",
        "    return x\n",
        "\n",
        "\n",
        "model_4 = Cifar10ClassifierRBN(\n",
        "    conv_block_sizes=[32, 64, 64], \n",
        "    ff_block_sizes=[64])\n",
        "summary(model_4, (3, 32, 32), device=\"cpu\")"
      ],
      "execution_count": 33,
      "outputs": [
        {
          "output_type": "stream",
          "text": [
            "----------------------------------------------------------------\n",
            "        Layer (type)               Output Shape         Param #\n",
            "================================================================\n",
            "            Conv2d-1           [-1, 32, 32, 32]             896\n",
            "              ReLU-2           [-1, 32, 32, 32]               0\n",
            "       BatchNorm2d-3           [-1, 32, 32, 32]              64\n",
            "         Dropout2d-4           [-1, 32, 32, 32]               0\n",
            "         MaxPool2d-5           [-1, 32, 16, 16]               0\n",
            "            Conv2d-6           [-1, 64, 16, 16]          18,496\n",
            "              ReLU-7           [-1, 64, 16, 16]               0\n",
            "       BatchNorm2d-8           [-1, 64, 16, 16]             128\n",
            "         Dropout2d-9           [-1, 64, 16, 16]               0\n",
            "        MaxPool2d-10             [-1, 64, 8, 8]               0\n",
            "           Conv2d-11             [-1, 64, 8, 8]          36,928\n",
            "             ReLU-12             [-1, 64, 8, 8]               0\n",
            "      BatchNorm2d-13             [-1, 64, 8, 8]             128\n",
            "        Dropout2d-14             [-1, 64, 8, 8]               0\n",
            "        MaxPool2d-15             [-1, 64, 4, 4]               0\n",
            "          Flatten-16                 [-1, 1024]               0\n",
            "           Linear-17                   [-1, 64]          65,600\n",
            "          Dropout-18                   [-1, 64]               0\n",
            "             ReLU-19                   [-1, 64]               0\n",
            "           Linear-20                   [-1, 10]             650\n",
            "          Dropout-21                   [-1, 10]               0\n",
            "       LogSoftmax-22                   [-1, 10]               0\n",
            "================================================================\n",
            "Total params: 122,890\n",
            "Trainable params: 122,890\n",
            "Non-trainable params: 0\n",
            "----------------------------------------------------------------\n",
            "Input size (MB): 0.01\n",
            "Forward/backward pass size (MB): 1.74\n",
            "Params size (MB): 0.47\n",
            "Estimated Total Size (MB): 2.22\n",
            "----------------------------------------------------------------\n"
          ],
          "name": "stdout"
        }
      ]
    },
    {
      "cell_type": "code",
      "metadata": {
        "colab": {
          "base_uri": "https://localhost:8080/"
        },
        "id": "ptYLVyUt6cRP",
        "outputId": "4f716d79-d047-48cb-b997-fe680389fd43"
      },
      "source": [
        "model_4 = model_4.to(dev)\n",
        "\n",
        "loss_fn = torch.nn.CrossEntropyLoss()\n",
        "optimizer = torch.optim.Adam(model_4.parameters(), lr=LEARNING_RATE)\n",
        "\n",
        "train_losses, train_accs, val_losses, val_accs = [], [], [], []\n",
        "for epoch in range(1, NUM_EPOCHS + 1):\n",
        "  train_loss, train_acc = train(model_4, train_dl, loss_fn, optimizer)\n",
        "  val_loss, val_acc = validate(model_4, test_dl, loss_fn)\n",
        "  print(\"Epoch {:2d} | Train Loss: {:.3f}, Accuracy: {:.3f} | Validation Loss: {:.3f}, Accuracy: {:.3f}\".format(\n",
        "      epoch, train_loss, train_acc, val_loss, val_acc))\n",
        "  train_losses.append(train_loss)\n",
        "  train_accs.append(train_acc)\n",
        "  val_losses.append(val_loss)\n",
        "  val_accs.append(val_acc)"
      ],
      "execution_count": 34,
      "outputs": [
        {
          "output_type": "stream",
          "text": [
            "Epoch  1 | Train Loss: 1.118, Accuracy: 0.602 | Validation Loss: 1.047, Accuracy: 0.635\n",
            "Epoch  2 | Train Loss: 0.772, Accuracy: 0.730 | Validation Loss: 0.848, Accuracy: 0.710\n",
            "Epoch  3 | Train Loss: 0.634, Accuracy: 0.776 | Validation Loss: 0.742, Accuracy: 0.747\n",
            "Epoch  4 | Train Loss: 0.538, Accuracy: 0.810 | Validation Loss: 0.797, Accuracy: 0.730\n",
            "Epoch  5 | Train Loss: 0.463, Accuracy: 0.836 | Validation Loss: 0.761, Accuracy: 0.748\n",
            "Epoch  6 | Train Loss: 0.400, Accuracy: 0.858 | Validation Loss: 0.922, Accuracy: 0.719\n",
            "Epoch  7 | Train Loss: 0.338, Accuracy: 0.879 | Validation Loss: 0.797, Accuracy: 0.755\n",
            "Epoch  8 | Train Loss: 0.289, Accuracy: 0.897 | Validation Loss: 0.923, Accuracy: 0.745\n",
            "Epoch  9 | Train Loss: 0.248, Accuracy: 0.912 | Validation Loss: 1.010, Accuracy: 0.736\n",
            "Epoch 10 | Train Loss: 0.219, Accuracy: 0.921 | Validation Loss: 1.023, Accuracy: 0.745\n"
          ],
          "name": "stdout"
        }
      ]
    },
    {
      "cell_type": "code",
      "metadata": {
        "colab": {
          "base_uri": "https://localhost:8080/",
          "height": 297
        },
        "id": "rKyVMi8Y6q3i",
        "outputId": "67bd8c31-29ae-498c-d7e0-bf9a54d48cfe"
      },
      "source": [
        "plot_training_curves(train_losses, train_accs, val_losses, val_accs)"
      ],
      "execution_count": 35,
      "outputs": [
        {
          "output_type": "display_data",
          "data": {
            "image/png": "[encoded data removed]",
            "text/plain": [
              "<Figure size 432x288 with 2 Axes>"
            ]
          },
          "metadata": {
            "tags": [],
            "needs_background": "light"
          }
        }
      ]
    },
    {
      "cell_type": "code",
      "metadata": {
        "colab": {
          "base_uri": "https://localhost:8080/"
        },
        "id": "702U9UHP6vHT",
        "outputId": "803723a3-03e6-4704-c69b-dbc43aac8b0e"
      },
      "source": [
        "true_values, pred_values = evaluate(model_4, test_dl)\n",
        "\n",
        "print(\"** accuracy: {:.3f}\".format(accuracy_score(true_values, pred_values)))\n",
        "print(\"--\")\n",
        "print(\"confusion matrix\")\n",
        "print(confusion_matrix(true_values, pred_values))\n",
        "print(\"--\")\n",
        "print(\"classification report\")\n",
        "print(classification_report(true_values, pred_values, target_names=CIFAR10_LABELS))"
      ],
      "execution_count": 36,
      "outputs": [
        {
          "output_type": "stream",
          "text": [
            "** accuracy: 0.745\n",
            "--\n",
            "confusion matrix\n",
            "[[774  16  26  20   7   3   7  10  69  68]\n",
            " [  9 791   2   3   4   3   0   1  24 163]\n",
            " [ 76   7 661  82  34  34  36  34  17  19]\n",
            " [ 24   6  67 633  34  94  44  40  23  35]\n",
            " [ 21   3 103  64 624  23  36  92  19  15]\n",
            " [ 15   1  43 233  24 572  24  52  12  24]\n",
            " [  6   9  52  63  18  12 807  10  11  12]\n",
            " [  8   9  28  50  32  30   4 808   4  27]\n",
            " [ 32  14   9  12   2   1   2   0 877  51]\n",
            " [ 14  36   3   8   2   2   1   8  19 907]]\n",
            "--\n",
            "classification report\n",
            "              precision    recall  f1-score   support\n",
            "\n",
            "    aircraft       0.79      0.77      0.78      1000\n",
            "  automobile       0.89      0.79      0.84      1000\n",
            "        bird       0.66      0.66      0.66      1000\n",
            "         cat       0.54      0.63      0.58      1000\n",
            "        deer       0.80      0.62      0.70      1000\n",
            "         dog       0.74      0.57      0.64      1000\n",
            "        frog       0.84      0.81      0.82      1000\n",
            "       horse       0.77      0.81      0.79      1000\n",
            "        ship       0.82      0.88      0.85      1000\n",
            "       truck       0.69      0.91      0.78      1000\n",
            "\n",
            "    accuracy                           0.75     10000\n",
            "   macro avg       0.75      0.75      0.74     10000\n",
            "weighted avg       0.75      0.75      0.74     10000\n",
            "\n"
          ],
          "name": "stdout"
        }
      ]
    },
    {
      "cell_type": "code",
      "metadata": {
        "id": "HPLncuP1PojC"
      },
      "source": [
        "metric_filepath = os.path.join(MODEL_DIR, \"model_4.json\")\n",
        "write_metrics(true_values, pred_values, \"batchnorm_after_relu\", metric_filepath)"
      ],
      "execution_count": 37,
      "outputs": []
    },
    {
      "cell_type": "markdown",
      "metadata": {
        "id": "LYClvj7V60xI"
      },
      "source": [
        "### Residual Connection\n",
        "\n",
        "According to [Residual Networks: Implementing ResNets in Pytorch](https://towardsdatascience.com/residual-network-implementing-resnet-a7da63c7b278), a basic ResNet block is composed of two layers of 3x3 conv/batchnorm/relu. Our original model has 3 layers, so we will convert the last two convolution layers into a ResNet block. The shortcut (the \"identity\" path in the figure below) will pass the input through a 1x1 convolution so the addition `F(x) + x` can be done.\n",
        "\n",
        "![image.png](data:image/png;base64,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)\n",
        "\n",
        "Note that this is just one of the configurations possible with ResNet, other configurations are possible as indicated in [Residual Networks: Building blocks of ResNet](https://towardsdatascience.com/residual-blocks-building-blocks-of-resnet-fd90ca15d6ec)."
      ]
    },
    {
      "cell_type": "code",
      "metadata": {
        "colab": {
          "base_uri": "https://localhost:8080/"
        },
        "id": "wEGOumX0CkVu",
        "outputId": "ec569509-1c10-4a02-aeae-7a2fcb98b4e2"
      },
      "source": [
        "class Cifar10ClassifierRes(nn.Module):\n",
        "  def __init__(self, conv_block_sizes, ff_block_sizes,\n",
        "               spatial_dropout=0, dense_dropout=0,\n",
        "               input_channels=3, input_size=(32, 32), output_size=10):\n",
        "    super(Cifar10ClassifierRes, self).__init__()\n",
        "    # convolution layers\n",
        "    conv_layers, shortcuts, poolings = [], [], []\n",
        "    for cid in range(len(conv_block_sizes)):\n",
        "      conv_layers.append(nn.Sequential(\n",
        "        nn.Conv2d(input_channels if cid == 0 else conv_block_sizes[cid - 1],\n",
        "                  conv_block_sizes[cid], \n",
        "                  kernel_size=(3, 3), padding=(1, 1)),\n",
        "        # batchnorm before relu gives better results\n",
        "        nn.BatchNorm2d(conv_block_sizes[cid]),\n",
        "        nn.ReLU(),\n",
        "        nn.Conv2d(conv_block_sizes[cid], conv_block_sizes[cid],\n",
        "                  kernel_size=(3, 3), padding=(1, 1)),\n",
        "        nn.BatchNorm2d(conv_block_sizes[cid]),\n",
        "        nn.Dropout2d(p=spatial_dropout)))\n",
        "      shortcuts.append(nn.Sequential(\n",
        "        nn.Conv2d(input_channels if cid == 0 else conv_block_sizes[cid - 1], \n",
        "                  conv_block_sizes[cid], \n",
        "                  kernel_size=(1, 1))))\n",
        "      poolings.append(nn.MaxPool2d(kernel_size=(2, 2)))\n",
        "\n",
        "    self.conv_blocks = nn.ModuleList(conv_layers)\n",
        "    self.shortcut_paths = nn.ModuleList(shortcuts)\n",
        "    self.pool_ops = nn.ModuleList(poolings)\n",
        "\n",
        "    # flatten\n",
        "    self.flatten = nn.Flatten()\n",
        "    # compute image size to figure out input size after flatten\n",
        "    conv_output_width = input_size[0] // (2 ** len(conv_block_sizes))\n",
        "    if conv_output_width < 1:\n",
        "      raise ValueError(\"CNN pooling results in less than (1, 1) dimensions, reduce depth\")\n",
        "    conv_size = conv_output_width * conv_output_width * conv_block_sizes[cid]\n",
        "    # linear layers\n",
        "    linear_layers = []\n",
        "    for fid in range(len(ff_block_sizes) + 1):\n",
        "      linear_layers.append(nn.Sequential(\n",
        "          nn.Linear(conv_size if fid == 0 else ff_block_sizes[fid - 1],\n",
        "                    output_size if fid == len(ff_block_sizes) else ff_block_sizes[fid]),\n",
        "          nn.Dropout(p=dense_dropout),\n",
        "          nn.ReLU() if fid < len(ff_block_sizes) else nn.LogSoftmax(dim=1)\n",
        "      ))\n",
        "    self.linear_blocks = nn.ModuleList(linear_layers)\n",
        "\n",
        "  def forward(self, x):\n",
        "    for conv_block, shortcut_path, pool_op in zip(\n",
        "        self.conv_blocks, self.shortcut_paths, self.pool_ops):\n",
        "      x = conv_block(x) + shortcut_path(x)\n",
        "      x = F.relu(x)\n",
        "      x = pool_op(x)\n",
        "    x = self.flatten(x)\n",
        "    for linear_block in self.linear_blocks:\n",
        "      x = linear_block(x)\n",
        "    return x\n",
        "\n",
        "\n",
        "model_5 = Cifar10ClassifierRes(\n",
        "    conv_block_sizes=[32, 64, 64], \n",
        "    ff_block_sizes=[64])\n",
        "summary(model_5, (3, 32, 32), device=\"cpu\")"
      ],
      "execution_count": 38,
      "outputs": [
        {
          "output_type": "stream",
          "text": [
            "----------------------------------------------------------------\n",
            "        Layer (type)               Output Shape         Param #\n",
            "================================================================\n",
            "            Conv2d-1           [-1, 32, 32, 32]             896\n",
            "       BatchNorm2d-2           [-1, 32, 32, 32]              64\n",
            "              ReLU-3           [-1, 32, 32, 32]               0\n",
            "            Conv2d-4           [-1, 32, 32, 32]           9,248\n",
            "       BatchNorm2d-5           [-1, 32, 32, 32]              64\n",
            "         Dropout2d-6           [-1, 32, 32, 32]               0\n",
            "            Conv2d-7           [-1, 32, 32, 32]             128\n",
            "         MaxPool2d-8           [-1, 32, 16, 16]               0\n",
            "            Conv2d-9           [-1, 64, 16, 16]          18,496\n",
            "      BatchNorm2d-10           [-1, 64, 16, 16]             128\n",
            "             ReLU-11           [-1, 64, 16, 16]               0\n",
            "           Conv2d-12           [-1, 64, 16, 16]          36,928\n",
            "      BatchNorm2d-13           [-1, 64, 16, 16]             128\n",
            "        Dropout2d-14           [-1, 64, 16, 16]               0\n",
            "           Conv2d-15           [-1, 64, 16, 16]           2,112\n",
            "        MaxPool2d-16             [-1, 64, 8, 8]               0\n",
            "           Conv2d-17             [-1, 64, 8, 8]          36,928\n",
            "      BatchNorm2d-18             [-1, 64, 8, 8]             128\n",
            "             ReLU-19             [-1, 64, 8, 8]               0\n",
            "           Conv2d-20             [-1, 64, 8, 8]          36,928\n",
            "      BatchNorm2d-21             [-1, 64, 8, 8]             128\n",
            "        Dropout2d-22             [-1, 64, 8, 8]               0\n",
            "           Conv2d-23             [-1, 64, 8, 8]           4,160\n",
            "        MaxPool2d-24             [-1, 64, 4, 4]               0\n",
            "          Flatten-25                 [-1, 1024]               0\n",
            "           Linear-26                   [-1, 64]          65,600\n",
            "          Dropout-27                   [-1, 64]               0\n",
            "             ReLU-28                   [-1, 64]               0\n",
            "           Linear-29                   [-1, 10]             650\n",
            "          Dropout-30                   [-1, 10]               0\n",
            "       LogSoftmax-31                   [-1, 10]               0\n",
            "================================================================\n",
            "Total params: 212,714\n",
            "Trainable params: 212,714\n",
            "Non-trainable params: 0\n",
            "----------------------------------------------------------------\n",
            "Input size (MB): 0.01\n",
            "Forward/backward pass size (MB): 2.95\n",
            "Params size (MB): 0.81\n",
            "Estimated Total Size (MB): 3.78\n",
            "----------------------------------------------------------------\n"
          ],
          "name": "stdout"
        }
      ]
    },
    {
      "cell_type": "code",
      "metadata": {
        "colab": {
          "base_uri": "https://localhost:8080/"
        },
        "id": "mz93gBvEJUTV",
        "outputId": "cc188d31-d85b-4536-a885-daca308fc709"
      },
      "source": [
        "model_5 = model_5.to(dev)\n",
        "\n",
        "loss_fn = torch.nn.CrossEntropyLoss()\n",
        "optimizer = torch.optim.Adam(model_5.parameters(), lr=LEARNING_RATE)\n",
        "\n",
        "train_losses, train_accs, val_losses, val_accs = [], [], [], []\n",
        "for epoch in range(1, NUM_EPOCHS + 1):\n",
        "  train_loss, train_acc = train(model_5, train_dl, loss_fn, optimizer)\n",
        "  val_loss, val_acc = validate(model_5, test_dl, loss_fn)\n",
        "  print(\"Epoch {:2d} | Train Loss: {:.3f}, Accuracy: {:.3f} | Validation Loss: {:.3f}, Accuracy: {:.3f}\".format(\n",
        "      epoch, train_loss, train_acc, val_loss, val_acc))\n",
        "  train_losses.append(train_loss)\n",
        "  train_accs.append(train_acc)\n",
        "  val_losses.append(val_loss)\n",
        "  val_accs.append(val_acc)"
      ],
      "execution_count": 39,
      "outputs": [
        {
          "output_type": "stream",
          "text": [
            "Epoch  1 | Train Loss: 1.103, Accuracy: 0.605 | Validation Loss: 1.011, Accuracy: 0.647\n",
            "Epoch  2 | Train Loss: 0.698, Accuracy: 0.758 | Validation Loss: 0.971, Accuracy: 0.674\n",
            "Epoch  3 | Train Loss: 0.562, Accuracy: 0.805 | Validation Loss: 0.652, Accuracy: 0.777\n",
            "Epoch  4 | Train Loss: 0.467, Accuracy: 0.837 | Validation Loss: 0.600, Accuracy: 0.796\n",
            "Epoch  5 | Train Loss: 0.392, Accuracy: 0.862 | Validation Loss: 0.655, Accuracy: 0.782\n",
            "Epoch  6 | Train Loss: 0.333, Accuracy: 0.884 | Validation Loss: 0.566, Accuracy: 0.814\n",
            "Epoch  7 | Train Loss: 0.281, Accuracy: 0.902 | Validation Loss: 0.602, Accuracy: 0.804\n",
            "Epoch  8 | Train Loss: 0.237, Accuracy: 0.916 | Validation Loss: 0.645, Accuracy: 0.805\n",
            "Epoch  9 | Train Loss: 0.193, Accuracy: 0.932 | Validation Loss: 0.677, Accuracy: 0.800\n",
            "Epoch 10 | Train Loss: 0.169, Accuracy: 0.940 | Validation Loss: 0.683, Accuracy: 0.810\n"
          ],
          "name": "stdout"
        }
      ]
    },
    {
      "cell_type": "code",
      "metadata": {
        "colab": {
          "base_uri": "https://localhost:8080/",
          "height": 297
        },
        "id": "_l9_-UuoJedN",
        "outputId": "4e347dc6-dfcf-45c9-b23b-ecbccfbc8dba"
      },
      "source": [
        "plot_training_curves(train_losses, train_accs, val_losses, val_accs)"
      ],
      "execution_count": 40,
      "outputs": [
        {
          "output_type": "display_data",
          "data": {
            "image/png": "[encoded data removed]",
            "text/plain": [
              "<Figure size 432x288 with 2 Axes>"
            ]
          },
          "metadata": {
            "tags": [],
            "needs_background": "light"
          }
        }
      ]
    },
    {
      "cell_type": "code",
      "metadata": {
        "colab": {
          "base_uri": "https://localhost:8080/"
        },
        "id": "uqo3yXalJjjJ",
        "outputId": "4551e3ef-87d5-4875-b198-63ab7eab9fbe"
      },
      "source": [
        "true_values, pred_values = evaluate(model_5, test_dl)\n",
        "\n",
        "print(\"** accuracy: {:.3f}\".format(accuracy_score(true_values, pred_values)))\n",
        "print(\"--\")\n",
        "print(\"confusion matrix\")\n",
        "print(confusion_matrix(true_values, pred_values))\n",
        "print(\"--\")\n",
        "print(\"classification report\")\n",
        "print(classification_report(true_values, pred_values, target_names=CIFAR10_LABELS))"
      ],
      "execution_count": 41,
      "outputs": [
        {
          "output_type": "stream",
          "text": [
            "** accuracy: 0.810\n",
            "--\n",
            "confusion matrix\n",
            "[[854  19  35  18   9   3   3   9  32  18]\n",
            " [ 14 931   1   2   3   1   3   0  11  34]\n",
            " [ 47   3 763  37  44  34  48  15   5   4]\n",
            " [ 15   3  58 701  43  88  57  14  12   9]\n",
            " [ 13   2  73  53 759  21  40  32   7   0]\n",
            " [ 11   1  55 157  38 686  24  23   4   1]\n",
            " [  1   4  46  60  14   8 859   2   5   1]\n",
            " [ 11   4  25  36  47  36   5 833   1   2]\n",
            " [ 47  33   9   9   6   1   3   3 869  20]\n",
            " [ 25  81   6   8   1   6   5   5  14 849]]\n",
            "--\n",
            "classification report\n",
            "              precision    recall  f1-score   support\n",
            "\n",
            "    aircraft       0.82      0.85      0.84      1000\n",
            "  automobile       0.86      0.93      0.89      1000\n",
            "        bird       0.71      0.76      0.74      1000\n",
            "         cat       0.65      0.70      0.67      1000\n",
            "        deer       0.79      0.76      0.77      1000\n",
            "         dog       0.78      0.69      0.73      1000\n",
            "        frog       0.82      0.86      0.84      1000\n",
            "       horse       0.89      0.83      0.86      1000\n",
            "        ship       0.91      0.87      0.89      1000\n",
            "       truck       0.91      0.85      0.88      1000\n",
            "\n",
            "    accuracy                           0.81     10000\n",
            "   macro avg       0.81      0.81      0.81     10000\n",
            "weighted avg       0.81      0.81      0.81     10000\n",
            "\n"
          ],
          "name": "stdout"
        }
      ]
    },
    {
      "cell_type": "code",
      "metadata": {
        "id": "8D9VwnJvPxUB"
      },
      "source": [
        "metric_filepath = os.path.join(MODEL_DIR, \"model_5.json\")\n",
        "write_metrics(true_values, pred_values, \"residual_conn\", metric_filepath)"
      ],
      "execution_count": 42,
      "outputs": []
    },
    {
      "cell_type": "markdown",
      "metadata": {
        "id": "B0uz8XbkKEGK"
      },
      "source": [
        "### Gradient Clipping\n",
        "\n",
        "More popular in RNNs, and wasn't actually mentioned in the lectures, but I learned about it in passing and was curious to see if it might have an effect on CNNs.\n",
        "\n",
        "This is achieved in the training loop by clipping the gradients (between `loss.backward()` and `optimizer.step()`."
      ]
    },
    {
      "cell_type": "code",
      "metadata": {
        "colab": {
          "base_uri": "https://localhost:8080/"
        },
        "id": "FGy3bsHH8zwE",
        "outputId": "2ed92f1e-7036-4b6a-c8a6-8960154ec215"
      },
      "source": [
        "model_6 = Cifar10Classifier(\n",
        "    conv_block_sizes=[32, 64, 64], \n",
        "    ff_block_sizes=[64])\n",
        "summary(model_6, (3, 32, 32), device=\"cpu\")"
      ],
      "execution_count": 43,
      "outputs": [
        {
          "output_type": "stream",
          "text": [
            "----------------------------------------------------------------\n",
            "        Layer (type)               Output Shape         Param #\n",
            "================================================================\n",
            "            Conv2d-1           [-1, 32, 32, 32]             896\n",
            "              ReLU-2           [-1, 32, 32, 32]               0\n",
            "         Dropout2d-3           [-1, 32, 32, 32]               0\n",
            "         MaxPool2d-4           [-1, 32, 16, 16]               0\n",
            "            Conv2d-5           [-1, 64, 16, 16]          18,496\n",
            "              ReLU-6           [-1, 64, 16, 16]               0\n",
            "         Dropout2d-7           [-1, 64, 16, 16]               0\n",
            "         MaxPool2d-8             [-1, 64, 8, 8]               0\n",
            "            Conv2d-9             [-1, 64, 8, 8]          36,928\n",
            "             ReLU-10             [-1, 64, 8, 8]               0\n",
            "        Dropout2d-11             [-1, 64, 8, 8]               0\n",
            "        MaxPool2d-12             [-1, 64, 4, 4]               0\n",
            "          Flatten-13                 [-1, 1024]               0\n",
            "           Linear-14                   [-1, 64]          65,600\n",
            "          Dropout-15                   [-1, 64]               0\n",
            "             ReLU-16                   [-1, 64]               0\n",
            "           Linear-17                   [-1, 10]             650\n",
            "          Dropout-18                   [-1, 10]               0\n",
            "       LogSoftmax-19                   [-1, 10]               0\n",
            "================================================================\n",
            "Total params: 122,570\n",
            "Trainable params: 122,570\n",
            "Non-trainable params: 0\n",
            "----------------------------------------------------------------\n",
            "Input size (MB): 0.01\n",
            "Forward/backward pass size (MB): 1.33\n",
            "Params size (MB): 0.47\n",
            "Estimated Total Size (MB): 1.81\n",
            "----------------------------------------------------------------\n"
          ],
          "name": "stdout"
        }
      ]
    },
    {
      "cell_type": "code",
      "metadata": {
        "id": "9a4EI36HLiA9"
      },
      "source": [
        "def train_with_grad_clipping(model, train_dl, loss_fn, optimizer):\n",
        "  model.train()\n",
        "  train_losses, train_accs = [], []\n",
        "  for batch in train_dl:\n",
        "    images, labels = batch\n",
        "    \n",
        "    images = images.to(dev)\n",
        "    labels = labels.to(dev)\n",
        "\n",
        "    logits = model(images)\n",
        "    loss = loss_fn(logits, labels)\n",
        "    \n",
        "    train_losses.append(loss.item())\n",
        "    preds = torch.argmax(logits, dim=1).cpu().numpy()\n",
        "    labels = labels.cpu().numpy()\n",
        "    train_accs.append(accuracy_score(preds, labels))\n",
        "\n",
        "    loss.backward()\n",
        "    torch.nn.utils.clip_grad_norm_(model.parameters(), 1.0)\n",
        "    optimizer.step()\n",
        "    optimizer.zero_grad()\n",
        "\n",
        "    # if len(train_losses) > 5:\n",
        "    #   break\n",
        "  \n",
        "  train_loss = sum(train_losses) / len(train_losses)\n",
        "  train_acc = sum(train_accs) / len(train_accs)\n",
        "  return train_loss, train_acc\n",
        "\n",
        "\n",
        "# # self-test\n",
        "# dev = \"cpu\"\n",
        "# train_loss, train_acc = train(model_6, train_dl, loss_fn, optimizer)\n",
        "# train_loss, train_acc"
      ],
      "execution_count": 44,
      "outputs": []
    },
    {
      "cell_type": "code",
      "metadata": {
        "colab": {
          "base_uri": "https://localhost:8080/"
        },
        "id": "V1wzXRy4K6cU",
        "outputId": "09065662-a5f4-4060-f24f-008d8d5a4d12"
      },
      "source": [
        "dev = torch.device(\"cuda\" if torch.cuda.is_available() else \"cpu\")\n",
        "model_6 = model_6.to(dev)\n",
        "\n",
        "loss_fn = torch.nn.CrossEntropyLoss()\n",
        "optimizer = torch.optim.Adam(model_6.parameters(), lr=LEARNING_RATE)\n",
        "\n",
        "train_losses, train_accs, val_losses, val_accs = [], [], [], []\n",
        "for epoch in range(1, NUM_EPOCHS + 1):\n",
        "  train_loss, train_acc = train_with_grad_clipping(model_6, train_dl, loss_fn, optimizer)\n",
        "  val_loss, val_acc = validate(model_6, test_dl, loss_fn)\n",
        "  print(\"Epoch {:2d} | Train Loss: {:.3f}, Accuracy: {:.3f} | Validation Loss: {:.3f}, Accuracy: {:.3f}\".format(\n",
        "      epoch, train_loss, train_acc, val_loss, val_acc))\n",
        "  train_losses.append(train_loss)\n",
        "  train_accs.append(train_acc)\n",
        "  val_losses.append(val_loss)\n",
        "  val_accs.append(val_acc)"
      ],
      "execution_count": 45,
      "outputs": [
        {
          "output_type": "stream",
          "text": [
            "Epoch  1 | Train Loss: 1.631, Accuracy: 0.402 | Validation Loss: 1.350, Accuracy: 0.510\n",
            "Epoch  2 | Train Loss: 1.255, Accuracy: 0.548 | Validation Loss: 1.147, Accuracy: 0.581\n",
            "Epoch  3 | Train Loss: 1.097, Accuracy: 0.608 | Validation Loss: 1.031, Accuracy: 0.637\n",
            "Epoch  4 | Train Loss: 0.979, Accuracy: 0.654 | Validation Loss: 1.019, Accuracy: 0.640\n",
            "Epoch  5 | Train Loss: 0.896, Accuracy: 0.685 | Validation Loss: 0.941, Accuracy: 0.674\n",
            "Epoch  6 | Train Loss: 0.831, Accuracy: 0.710 | Validation Loss: 0.887, Accuracy: 0.693\n",
            "Epoch  7 | Train Loss: 0.779, Accuracy: 0.726 | Validation Loss: 0.837, Accuracy: 0.710\n",
            "Epoch  8 | Train Loss: 0.727, Accuracy: 0.745 | Validation Loss: 0.846, Accuracy: 0.705\n",
            "Epoch  9 | Train Loss: 0.689, Accuracy: 0.760 | Validation Loss: 0.813, Accuracy: 0.720\n",
            "Epoch 10 | Train Loss: 0.654, Accuracy: 0.772 | Validation Loss: 0.810, Accuracy: 0.727\n"
          ],
          "name": "stdout"
        }
      ]
    },
    {
      "cell_type": "code",
      "metadata": {
        "colab": {
          "base_uri": "https://localhost:8080/",
          "height": 297
        },
        "id": "W8zydwWzM3Ny",
        "outputId": "279d6301-510c-473e-ee14-ba8d3e3fd5df"
      },
      "source": [
        "plot_training_curves(train_losses, train_accs, val_losses, val_accs)"
      ],
      "execution_count": 46,
      "outputs": [
        {
          "output_type": "display_data",
          "data": {
            "image/png": "[encoded data removed]",
            "text/plain": [
              "<Figure size 432x288 with 2 Axes>"
            ]
          },
          "metadata": {
            "tags": [],
            "needs_background": "light"
          }
        }
      ]
    },
    {
      "cell_type": "code",
      "metadata": {
        "colab": {
          "base_uri": "https://localhost:8080/"
        },
        "id": "MGjDVeHrM79J",
        "outputId": "5786301d-3840-4535-9d16-eac68e1d7444"
      },
      "source": [
        "true_values, pred_values = evaluate(model_6, test_dl)\n",
        "\n",
        "print(\"** accuracy: {:.3f}\".format(accuracy_score(true_values, pred_values)))\n",
        "print(\"--\")\n",
        "print(\"confusion matrix\")\n",
        "print(confusion_matrix(true_values, pred_values))\n",
        "print(\"--\")\n",
        "print(\"classification report\")\n",
        "print(classification_report(true_values, pred_values, target_names=CIFAR10_LABELS))"
      ],
      "execution_count": 47,
      "outputs": [
        {
          "output_type": "stream",
          "text": [
            "** accuracy: 0.728\n",
            "--\n",
            "confusion matrix\n",
            "[[754  14  56  14  11  10  14  20  53  54]\n",
            " [ 14 840   4   7   2   3   7   3  24  96]\n",
            " [ 55   3 653  50  42  76  59  42   7  13]\n",
            " [ 20   5  74 478  32 241  71  43  17  19]\n",
            " [ 18   2 130  75 526  54  77 106  10   2]\n",
            " [ 12   2  45  99  22 713  28  64   7   8]\n",
            " [  9   2  39  47  11  32 847   4   7   2]\n",
            " [ 10   2  26  31  30  73   9 805   5   9]\n",
            " [ 66  22  14  10   4   6   5   3 835  35]\n",
            " [ 30  59   7  16   2   8  11  21  21 825]]\n",
            "--\n",
            "classification report\n",
            "              precision    recall  f1-score   support\n",
            "\n",
            "    aircraft       0.76      0.75      0.76      1000\n",
            "  automobile       0.88      0.84      0.86      1000\n",
            "        bird       0.62      0.65      0.64      1000\n",
            "         cat       0.58      0.48      0.52      1000\n",
            "        deer       0.77      0.53      0.63      1000\n",
            "         dog       0.59      0.71      0.64      1000\n",
            "        frog       0.75      0.85      0.80      1000\n",
            "       horse       0.72      0.81      0.76      1000\n",
            "        ship       0.85      0.83      0.84      1000\n",
            "       truck       0.78      0.82      0.80      1000\n",
            "\n",
            "    accuracy                           0.73     10000\n",
            "   macro avg       0.73      0.73      0.72     10000\n",
            "weighted avg       0.73      0.73      0.72     10000\n",
            "\n"
          ],
          "name": "stdout"
        }
      ]
    },
    {
      "cell_type": "code",
      "metadata": {
        "id": "kfmMHNbDP6MM"
      },
      "source": [
        "metric_filepath = os.path.join(MODEL_DIR, \"model_6.json\")\n",
        "write_metrics(true_values, pred_values, \"gradient_clipping\", metric_filepath)"
      ],
      "execution_count": 48,
      "outputs": []
    },
    {
      "cell_type": "markdown",
      "metadata": {
        "id": "eCZixSVmNTww"
      },
      "source": [
        "### Increase Batch Size\n",
        "\n",
        "We will increase the batch size from 64 to 128. This will require us to reinstantiate our data loaders."
      ]
    },
    {
      "cell_type": "code",
      "metadata": {
        "colab": {
          "base_uri": "https://localhost:8080/"
        },
        "id": "c7r7V1OsNOFa",
        "outputId": "3cfac3f1-35f8-44e5-c0b8-c6342da43eb4"
      },
      "source": [
        "BATCH_SIZE = 128\n",
        "\n",
        "train_dl_128 = torch.utils.data.DataLoader(train_ds, batch_size=BATCH_SIZE, shuffle=True)\n",
        "test_dl_128 = torch.utils.data.DataLoader(test_ds, batch_size=BATCH_SIZE, shuffle=False)\n",
        "\n",
        "len(train_dl_128), len(test_dl_128)"
      ],
      "execution_count": 49,
      "outputs": [
        {
          "output_type": "execute_result",
          "data": {
            "text/plain": [
              "(391, 79)"
            ]
          },
          "metadata": {
            "tags": []
          },
          "execution_count": 49
        }
      ]
    },
    {
      "cell_type": "code",
      "metadata": {
        "colab": {
          "base_uri": "https://localhost:8080/"
        },
        "id": "gwX3CLO8Nfkr",
        "outputId": "08c19ce5-abdc-401f-dddd-25fb236a9d39"
      },
      "source": [
        "model_7 = Cifar10Classifier(\n",
        "    conv_block_sizes=[32, 64, 64], \n",
        "    ff_block_sizes=[64])\n",
        "summary(model_7, (3, 32, 32), device=\"cpu\")"
      ],
      "execution_count": 50,
      "outputs": [
        {
          "output_type": "stream",
          "text": [
            "----------------------------------------------------------------\n",
            "        Layer (type)               Output Shape         Param #\n",
            "================================================================\n",
            "            Conv2d-1           [-1, 32, 32, 32]             896\n",
            "              ReLU-2           [-1, 32, 32, 32]               0\n",
            "         Dropout2d-3           [-1, 32, 32, 32]               0\n",
            "         MaxPool2d-4           [-1, 32, 16, 16]               0\n",
            "            Conv2d-5           [-1, 64, 16, 16]          18,496\n",
            "              ReLU-6           [-1, 64, 16, 16]               0\n",
            "         Dropout2d-7           [-1, 64, 16, 16]               0\n",
            "         MaxPool2d-8             [-1, 64, 8, 8]               0\n",
            "            Conv2d-9             [-1, 64, 8, 8]          36,928\n",
            "             ReLU-10             [-1, 64, 8, 8]               0\n",
            "        Dropout2d-11             [-1, 64, 8, 8]               0\n",
            "        MaxPool2d-12             [-1, 64, 4, 4]               0\n",
            "          Flatten-13                 [-1, 1024]               0\n",
            "           Linear-14                   [-1, 64]          65,600\n",
            "          Dropout-15                   [-1, 64]               0\n",
            "             ReLU-16                   [-1, 64]               0\n",
            "           Linear-17                   [-1, 10]             650\n",
            "          Dropout-18                   [-1, 10]               0\n",
            "       LogSoftmax-19                   [-1, 10]               0\n",
            "================================================================\n",
            "Total params: 122,570\n",
            "Trainable params: 122,570\n",
            "Non-trainable params: 0\n",
            "----------------------------------------------------------------\n",
            "Input size (MB): 0.01\n",
            "Forward/backward pass size (MB): 1.33\n",
            "Params size (MB): 0.47\n",
            "Estimated Total Size (MB): 1.81\n",
            "----------------------------------------------------------------\n"
          ],
          "name": "stdout"
        }
      ]
    },
    {
      "cell_type": "code",
      "metadata": {
        "colab": {
          "base_uri": "https://localhost:8080/"
        },
        "id": "KV3wdKWTNzHL",
        "outputId": "834af1f0-bec9-4ae4-c26c-3f6e36ef1e1e"
      },
      "source": [
        "model_7 = model_7.to(dev)\n",
        "\n",
        "loss_fn = torch.nn.CrossEntropyLoss()\n",
        "optimizer = torch.optim.Adam(model_7.parameters(), lr=LEARNING_RATE)\n",
        "\n",
        "train_losses, train_accs, val_losses, val_accs = [], [], [], []\n",
        "for epoch in range(1, NUM_EPOCHS + 1):\n",
        "  train_loss, train_acc = train(model_7, train_dl_128, loss_fn, optimizer)\n",
        "  val_loss, val_acc = validate(model_7, test_dl_128, loss_fn)\n",
        "  print(\"Epoch {:2d} | Train Loss: {:.3f}, Accuracy: {:.3f} | Validation Loss: {:.3f}, Accuracy: {:.3f}\".format(\n",
        "      epoch, train_loss, train_acc, val_loss, val_acc))\n",
        "  train_losses.append(train_loss)\n",
        "  train_accs.append(train_acc)\n",
        "  val_losses.append(val_loss)\n",
        "  val_accs.append(val_acc)"
      ],
      "execution_count": 51,
      "outputs": [
        {
          "output_type": "stream",
          "text": [
            "Epoch  1 | Train Loss: 1.689, Accuracy: 0.383 | Validation Loss: 1.455, Accuracy: 0.476\n",
            "Epoch  2 | Train Loss: 1.336, Accuracy: 0.519 | Validation Loss: 1.266, Accuracy: 0.540\n",
            "Epoch  3 | Train Loss: 1.165, Accuracy: 0.587 | Validation Loss: 1.140, Accuracy: 0.595\n",
            "Epoch  4 | Train Loss: 1.051, Accuracy: 0.629 | Validation Loss: 1.040, Accuracy: 0.633\n",
            "Epoch  5 | Train Loss: 0.969, Accuracy: 0.659 | Validation Loss: 0.980, Accuracy: 0.649\n",
            "Epoch  6 | Train Loss: 0.904, Accuracy: 0.684 | Validation Loss: 0.927, Accuracy: 0.670\n",
            "Epoch  7 | Train Loss: 0.850, Accuracy: 0.703 | Validation Loss: 0.901, Accuracy: 0.687\n",
            "Epoch  8 | Train Loss: 0.805, Accuracy: 0.720 | Validation Loss: 0.876, Accuracy: 0.695\n",
            "Epoch  9 | Train Loss: 0.758, Accuracy: 0.734 | Validation Loss: 0.846, Accuracy: 0.706\n",
            "Epoch 10 | Train Loss: 0.731, Accuracy: 0.746 | Validation Loss: 0.863, Accuracy: 0.707\n"
          ],
          "name": "stdout"
        }
      ]
    },
    {
      "cell_type": "code",
      "metadata": {
        "colab": {
          "base_uri": "https://localhost:8080/",
          "height": 297
        },
        "id": "Asql2fr5OKGh",
        "outputId": "03853a61-4a2f-4d3c-f1e0-423183e237f9"
      },
      "source": [
        "plot_training_curves(train_losses, train_accs, val_losses, val_accs)"
      ],
      "execution_count": 52,
      "outputs": [
        {
          "output_type": "display_data",
          "data": {
            "image/png": "[encoded data removed]",
            "text/plain": [
              "<Figure size 432x288 with 2 Axes>"
            ]
          },
          "metadata": {
            "tags": [],
            "needs_background": "light"
          }
        }
      ]
    },
    {
      "cell_type": "code",
      "metadata": {
        "colab": {
          "base_uri": "https://localhost:8080/"
        },
        "id": "iKmo92ULOP5V",
        "outputId": "27f68e99-cb39-418a-c818-2a8651d9d84b"
      },
      "source": [
        "true_values, pred_values = evaluate(model_7, test_dl)\n",
        "\n",
        "print(\"** accuracy: {:.3f}\".format(accuracy_score(true_values, pred_values)))\n",
        "print(\"--\")\n",
        "print(\"confusion matrix\")\n",
        "print(confusion_matrix(true_values, pred_values))\n",
        "print(\"--\")\n",
        "print(\"classification report\")\n",
        "print(classification_report(true_values, pred_values, target_names=CIFAR10_LABELS))"
      ],
      "execution_count": 53,
      "outputs": [
        {
          "output_type": "stream",
          "text": [
            "** accuracy: 0.707\n",
            "--\n",
            "confusion matrix\n",
            "[[754  16  65  31  12   6  21  12  52  31]\n",
            " [ 27 807   9  14   1  12  20   1  19  90]\n",
            " [ 53   2 624  63  47  58 115  25   8   5]\n",
            " [ 18   4  67 532  46 171 122  19   6  15]\n",
            " [ 21   4  87  76 560  49 123  66  12   2]\n",
            " [ 13   2  58 171  37 621  58  34   3   3]\n",
            " [  6   0  29  39   7  15 895   3   4   2]\n",
            " [ 13   2  38  55  52  88  19 717   3  13]\n",
            " [ 67  28  24  24   6  11  23   2 797  18]\n",
            " [ 34  80   9  35   7  16  21  12  25 761]]\n",
            "--\n",
            "classification report\n",
            "              precision    recall  f1-score   support\n",
            "\n",
            "    aircraft       0.75      0.75      0.75      1000\n",
            "  automobile       0.85      0.81      0.83      1000\n",
            "        bird       0.62      0.62      0.62      1000\n",
            "         cat       0.51      0.53      0.52      1000\n",
            "        deer       0.72      0.56      0.63      1000\n",
            "         dog       0.59      0.62      0.61      1000\n",
            "        frog       0.63      0.90      0.74      1000\n",
            "       horse       0.80      0.72      0.76      1000\n",
            "        ship       0.86      0.80      0.83      1000\n",
            "       truck       0.81      0.76      0.78      1000\n",
            "\n",
            "    accuracy                           0.71     10000\n",
            "   macro avg       0.72      0.71      0.71     10000\n",
            "weighted avg       0.72      0.71      0.71     10000\n",
            "\n"
          ],
          "name": "stdout"
        }
      ]
    },
    {
      "cell_type": "code",
      "metadata": {
        "id": "AnT8-abWOgJ3"
      },
      "source": [
        "metric_filepath = os.path.join(MODEL_DIR, \"model_7.json\")\n",
        "write_metrics(true_values, pred_values, \"inc_batch_size\", metric_filepath)"
      ],
      "execution_count": 54,
      "outputs": []
    },
    {
      "cell_type": "markdown",
      "metadata": {
        "id": "Dr4LoZP8QMBt"
      },
      "source": [
        "## Model Comparison"
      ]
    },
    {
      "cell_type": "code",
      "metadata": {
        "colab": {
          "base_uri": "https://localhost:8080/",
          "height": 371
        },
        "id": "fSq5-_ubQTLR",
        "outputId": "81ce8a41-442a-4b3c-f0aa-5c38c3c5ed4c"
      },
      "source": [
        "json_files = []\n",
        "for f in os.listdir(MODEL_DIR):\n",
        "  if f.endswith(\".json\"):\n",
        "    json_files.append(f)\n",
        "\n",
        "xs, ps, rs, fs = [], [], [], []\n",
        "for json_file in sorted(json_files):\n",
        "  with open(os.path.join(MODEL_DIR, json_file), \"r\") as f:\n",
        "    metrics_dict = json.loads(f.read())\n",
        "    xs.append(metrics_dict[\"name\"])\n",
        "    ps.append(metrics_dict[\"precision\"])\n",
        "    rs.append(metrics_dict[\"recall\"])\n",
        "    fs.append(metrics_dict[\"f1-score\"])\n",
        "\n",
        "plt.bar(np.arange(len(fs)), fs)\n",
        "plt.ylabel(\"f1-score / accuracy\")\n",
        "plt.xticks(np.arange(len(fs)), xs, rotation=\"90\")\n",
        "plt.axhline(fs[0], 0, len(fs), color=\"r\", linestyle=\"--\")\n",
        "_ = plt.show()"
      ],
      "execution_count": 55,
      "outputs": [
        {
          "output_type": "display_data",
          "data": {
            "image/png": "[encoded data removed]",
            "text/plain": [
              "<Figure size 432x288 with 1 Axes>"
            ]
          },
          "metadata": {
            "tags": [],
            "needs_background": "light"
          }
        }
      ]
    },
    {
      "cell_type": "code",
      "metadata": {
        "id": "lauWTN13UcAZ",
        "colab": {
          "base_uri": "https://localhost:8080/",
          "height": 297
        },
        "outputId": "d225ffea-84ce-43ad-88cd-00702a65a0d1"
      },
      "source": [
        "list_of_dicts = []\n",
        "for json_file in os.listdir(MODEL_DIR):\n",
        "  if json_file.endswith(\".json\"):\n",
        "    with open(os.path.join(MODEL_DIR, json_file), \"r\") as f:\n",
        "      list_of_dicts.append(json.loads(f.read()))\n",
        "\n",
        "results_df = pd.DataFrame(list_of_dicts)\n",
        "results_df = results_df.sort_values(\"f1-score\", axis=0, ascending=False)\n",
        "results_df.head(len(list_of_dicts))"
      ],
      "execution_count": 57,
      "outputs": [
        {
          "output_type": "execute_result",
          "data": {
            "text/html": [
              "<div>\n",
              "<style scoped>\n",
              "    .dataframe tbody tr th:only-of-type {\n",
              "        vertical-align: middle;\n",
              "    }\n",
              "\n",
              "    .dataframe tbody tr th {\n",
              "        vertical-align: top;\n",
              "    }\n",
              "\n",
              "    .dataframe thead th {\n",
              "        text-align: right;\n",
              "    }\n",
              "</style>\n",
              "<table border=\"1\" class=\"dataframe\">\n",
              "  <thead>\n",
              "    <tr style=\"text-align: right;\">\n",
              "      <th></th>\n",
              "      <th>precision</th>\n",
              "      <th>recall</th>\n",
              "      <th>f1-score</th>\n",
              "      <th>support</th>\n",
              "      <th>name</th>\n",
              "    </tr>\n",
              "  </thead>\n",
              "  <tbody>\n",
              "    <tr>\n",
              "      <th>5</th>\n",
              "      <td>0.8104</td>\n",
              "      <td>0.8104</td>\n",
              "      <td>0.8104</td>\n",
              "      <td>None</td>\n",
              "      <td>residual_conn</td>\n",
              "    </tr>\n",
              "    <tr>\n",
              "      <th>1</th>\n",
              "      <td>0.7525</td>\n",
              "      <td>0.7525</td>\n",
              "      <td>0.7525</td>\n",
              "      <td>None</td>\n",
              "      <td>batchnorm_before_relu</td>\n",
              "    </tr>\n",
              "    <tr>\n",
              "      <th>3</th>\n",
              "      <td>0.7454</td>\n",
              "      <td>0.7454</td>\n",
              "      <td>0.7454</td>\n",
              "      <td>None</td>\n",
              "      <td>batchnorm_after_relu</td>\n",
              "    </tr>\n",
              "    <tr>\n",
              "      <th>6</th>\n",
              "      <td>0.7419</td>\n",
              "      <td>0.7419</td>\n",
              "      <td>0.7419</td>\n",
              "      <td>None</td>\n",
              "      <td>wider_network</td>\n",
              "    </tr>\n",
              "    <tr>\n",
              "      <th>4</th>\n",
              "      <td>0.7320</td>\n",
              "      <td>0.7320</td>\n",
              "      <td>0.7320</td>\n",
              "      <td>None</td>\n",
              "      <td>deeper_network</td>\n",
              "    </tr>\n",
              "    <tr>\n",
              "      <th>0</th>\n",
              "      <td>0.7276</td>\n",
              "      <td>0.7276</td>\n",
              "      <td>0.7276</td>\n",
              "      <td>None</td>\n",
              "      <td>gradient_clipping</td>\n",
              "    </tr>\n",
              "    <tr>\n",
              "      <th>7</th>\n",
              "      <td>0.7068</td>\n",
              "      <td>0.7068</td>\n",
              "      <td>0.7068</td>\n",
              "      <td>None</td>\n",
              "      <td>inc_batch_size</td>\n",
              "    </tr>\n",
              "    <tr>\n",
              "      <th>2</th>\n",
              "      <td>0.7045</td>\n",
              "      <td>0.7045</td>\n",
              "      <td>0.7045</td>\n",
              "      <td>None</td>\n",
              "      <td>baseline</td>\n",
              "    </tr>\n",
              "  </tbody>\n",
              "</table>\n",
              "</div>"
            ],
            "text/plain": [
              "   precision  recall  f1-score support                   name\n",
              "5     0.8104  0.8104    0.8104    None          residual_conn\n",
              "1     0.7525  0.7525    0.7525    None  batchnorm_before_relu\n",
              "3     0.7454  0.7454    0.7454    None   batchnorm_after_relu\n",
              "6     0.7419  0.7419    0.7419    None          wider_network\n",
              "4     0.7320  0.7320    0.7320    None         deeper_network\n",
              "0     0.7276  0.7276    0.7276    None      gradient_clipping\n",
              "7     0.7068  0.7068    0.7068    None         inc_batch_size\n",
              "2     0.7045  0.7045    0.7045    None               baseline"
            ]
          },
          "metadata": {
            "tags": []
          },
          "execution_count": 57
        }
      ]
    },
    {
      "cell_type": "code",
      "metadata": {
        "id": "wOlKNzHDo7Ji"
      },
      "source": [
        ""
      ],
      "execution_count": null,
      "outputs": []
    }
  ]
}