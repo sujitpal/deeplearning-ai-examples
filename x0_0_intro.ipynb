{
  "nbformat": 4,
  "nbformat_minor": 0,
  "metadata": {
    "colab": {
      "name": "x0_0_intro.ipynb",
      "provenance": [],
      "authorship_tag": "ABX9TyONJKx4Xt7QNAHiQegqKUSj",
      "include_colab_link": true
    },
    "kernelspec": {
      "name": "python3",
      "display_name": "Python 3"
    },
    "accelerator": "GPU"
  },
  "cells": [
    {
      "cell_type": "markdown",
      "metadata": {
        "id": "view-in-github",
        "colab_type": "text"
      },
      "source": [
        "<a href=\"https://colab.research.google.com/github/sujitpal/nlp-deeplearning-ai-examples/blob/master/x0_0_intro.ipynb\" target=\"_parent\"><img src=\"https://colab.research.google.com/assets/colab-badge.svg\" alt=\"Open In Colab\"/></a>"
      ]
    },
    {
      "cell_type": "code",
      "metadata": {
        "id": "HpxtaZeFOFx-",
        "colab_type": "code",
        "colab": {}
      },
      "source": [
        "import matplotlib.pyplot as plt\n",
        "import numpy as np\n",
        "import torch\n",
        "import torch.nn as nn\n",
        "\n",
        "%matplotlib inline"
      ],
      "execution_count": 1,
      "outputs": []
    },
    {
      "cell_type": "markdown",
      "metadata": {
        "id": "iRg06TK-PxkB",
        "colab_type": "text"
      },
      "source": [
        "## Exercise 1.01"
      ]
    },
    {
      "cell_type": "code",
      "metadata": {
        "id": "wPuwmb5yOiR9",
        "colab_type": "code",
        "colab": {
          "base_uri": "https://localhost:8080/",
          "height": 34
        },
        "outputId": "224003e8-5790-4f27-e4e1-83e195d1231e"
      },
      "source": [
        "tensor_1 = torch.tensor([0.1, 1, 0.9, 0.7, 0.3])\n",
        "tensor_2 = torch.tensor([[0, 0.2, 0.4, 0.6],\n",
        "                         [1, 0.8, 0.6, 0.4]])\n",
        "tensor_3 = torch.tensor([\n",
        "                         [[0.3, 0.6],\n",
        "                          [1,   0]], \\\n",
        "                         [[0.3, 0.6],\n",
        "                          [0,   1]]\n",
        "                         ])\n",
        "tensor_1.shape, tensor_2.shape, tensor_3.shape"
      ],
      "execution_count": 2,
      "outputs": [
        {
          "output_type": "execute_result",
          "data": {
            "text/plain": [
              "(torch.Size([5]), torch.Size([2, 4]), torch.Size([2, 2, 2]))"
            ]
          },
          "metadata": {
            "tags": []
          },
          "execution_count": 2
        }
      ]
    },
    {
      "cell_type": "code",
      "metadata": {
        "id": "7rnoEeUxPD3b",
        "colab_type": "code",
        "colab": {
          "base_uri": "https://localhost:8080/",
          "height": 34
        },
        "outputId": "209adbcb-6a8e-450e-ba35-a47278ef91bb"
      },
      "source": [
        "torch.cuda.is_available()"
      ],
      "execution_count": 3,
      "outputs": [
        {
          "output_type": "execute_result",
          "data": {
            "text/plain": [
              "True"
            ]
          },
          "metadata": {
            "tags": []
          },
          "execution_count": 3
        }
      ]
    },
    {
      "cell_type": "code",
      "metadata": {
        "id": "1tDoK3icO6Sk",
        "colab_type": "code",
        "colab": {
          "base_uri": "https://localhost:8080/",
          "height": 34
        },
        "outputId": "befde239-907a-4ae8-a741-d3098485750b"
      },
      "source": [
        "tensor_1g = tensor_1.to(\"cuda\")\n",
        "tensor_2g = tensor_2.to(\"cuda\")\n",
        "tensor_3g = tensor_3.to(\"cuda\")\n",
        "tensor_1g.shape, tensor_2g.shape, tensor_3g.shape"
      ],
      "execution_count": 4,
      "outputs": [
        {
          "output_type": "execute_result",
          "data": {
            "text/plain": [
              "(torch.Size([5]), torch.Size([2, 4]), torch.Size([2, 2, 2]))"
            ]
          },
          "metadata": {
            "tags": []
          },
          "execution_count": 4
        }
      ]
    },
    {
      "cell_type": "markdown",
      "metadata": {
        "id": "DRTFwznOP6c_",
        "colab_type": "text"
      },
      "source": [
        "## Exercise 1.02"
      ]
    },
    {
      "cell_type": "code",
      "metadata": {
        "id": "YJsXqN5tPX5W",
        "colab_type": "code",
        "colab": {
          "base_uri": "https://localhost:8080/",
          "height": 85
        },
        "outputId": "ccf84812-0658-4d44-c262-5f17f5e36a1b"
      },
      "source": [
        "input_units = 10\n",
        "output_units = 1\n",
        "model = nn.Sequential(\n",
        "    nn.Linear(input_units, output_units),\n",
        "    nn.Sigmoid()\n",
        ")\n",
        "print(model)"
      ],
      "execution_count": 5,
      "outputs": [
        {
          "output_type": "stream",
          "text": [
            "Sequential(\n",
            "  (0): Linear(in_features=10, out_features=1, bias=True)\n",
            "  (1): Sigmoid()\n",
            ")\n"
          ],
          "name": "stdout"
        }
      ]
    },
    {
      "cell_type": "code",
      "metadata": {
        "id": "7y4a1ar2QMWz",
        "colab_type": "code",
        "colab": {
          "base_uri": "https://localhost:8080/",
          "height": 34
        },
        "outputId": "4e11aeca-885c-440d-e1df-dc5357dccd5d"
      },
      "source": [
        "loss_fn = nn.MSELoss()\n",
        "print(loss_fn)"
      ],
      "execution_count": 6,
      "outputs": [
        {
          "output_type": "stream",
          "text": [
            "MSELoss()\n"
          ],
          "name": "stdout"
        }
      ]
    },
    {
      "cell_type": "code",
      "metadata": {
        "id": "BshhfbWJQXw5",
        "colab_type": "code",
        "colab": {}
      },
      "source": [
        "optimizer = torch.optim.SGD(model.parameters(), lr=0.01)"
      ],
      "execution_count": 7,
      "outputs": []
    },
    {
      "cell_type": "code",
      "metadata": {
        "id": "utdUtgUyQ7zX",
        "colab_type": "code",
        "colab": {}
      },
      "source": [
        "x = torch.randn(20,10)\n",
        "y = torch.randint(0, 2, (20,1)).type(torch.FloatTensor)"
      ],
      "execution_count": 8,
      "outputs": []
    },
    {
      "cell_type": "code",
      "metadata": {
        "id": "LwRl2MoQQe2Q",
        "colab_type": "code",
        "colab": {
          "base_uri": "https://localhost:8080/",
          "height": 357
        },
        "outputId": "1fa97635-f479-4504-fea7-346b0095c419"
      },
      "source": [
        "losses = []\n",
        "for i in range(100):\n",
        "  y_pred = model(x)\n",
        "  loss = loss_fn(y_pred, y)\n",
        "  optimizer.zero_grad()\n",
        "  loss.backward()\n",
        "  optimizer.step()\n",
        "  losses.append(loss.item())\n",
        "  if i % 5 == 0:\n",
        "    print(i, loss.item())"
      ],
      "execution_count": 9,
      "outputs": [
        {
          "output_type": "stream",
          "text": [
            "0 0.283000111579895\n",
            "5 0.2811126410961151\n",
            "10 0.27925267815589905\n",
            "15 0.2774205803871155\n",
            "20 0.27561691403388977\n",
            "25 0.2738420367240906\n",
            "30 0.2720961570739746\n",
            "35 0.2703796625137329\n",
            "40 0.26869285106658936\n",
            "45 0.2670358717441559\n",
            "50 0.26540884375572205\n",
            "55 0.2638119161128998\n",
            "60 0.26224517822265625\n",
            "65 0.26070860028266907\n",
            "70 0.25920218229293823\n",
            "75 0.25772589445114136\n",
            "80 0.2562796175479889\n",
            "85 0.2548632025718689\n",
            "90 0.25347650051116943\n",
            "95 0.25211936235427856\n"
          ],
          "name": "stdout"
        }
      ]
    },
    {
      "cell_type": "code",
      "metadata": {
        "id": "AUN06l_yQyhX",
        "colab_type": "code",
        "colab": {
          "base_uri": "https://localhost:8080/",
          "height": 265
        },
        "outputId": "b01e5858-d16f-4ef9-ca17-5915b44e1d06"
      },
      "source": [
        "plt.plot(np.arange(len(losses)), losses)\n",
        "_ = plt.show()"
      ],
      "execution_count": 10,
      "outputs": [
        {
          "output_type": "display_data",
          "data": {
            "image/png": "[encoded data removed]",
            "text/plain": [
              "<Figure size 432x288 with 1 Axes>"
            ]
          },
          "metadata": {
            "tags": [],
            "needs_background": "light"
          }
        }
      ]
    },
    {
      "cell_type": "code",
      "metadata": {
        "id": "-ydsM4GJRk3W",
        "colab_type": "code",
        "colab": {}
      },
      "source": [
        ""
      ],
      "execution_count": 10,
      "outputs": []
    }
  ]
}