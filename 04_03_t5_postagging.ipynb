{
  "nbformat": 4,
  "nbformat_minor": 0,
  "metadata": {
    "colab": {
      "name": "04_03_t5_postagging.ipynb",
      "provenance": [],
      "collapsed_sections": [],
      "authorship_tag": "ABX9TyNWegtHujMrv+ScSOM5gLMe",
      "include_colab_link": true
    },
    "kernelspec": {
      "name": "python3",
      "display_name": "Python 3"
    },
    "accelerator": "GPU"
  },
  "cells": [
    {
      "cell_type": "markdown",
      "metadata": {
        "id": "view-in-github",
        "colab_type": "text"
      },
      "source": [
        "<a href=\"https://colab.research.google.com/github/sujitpal/nlp-deeplearning-ai-examples/blob/master/04_03_t5_postagging.ipynb\" target=\"_parent\"><img src=\"https://colab.research.google.com/assets/colab-badge.svg\" alt=\"Open In Colab\"/></a>"
      ]
    },
    {
      "cell_type": "markdown",
      "metadata": {
        "id": "Uvq4SrGeYSjV"
      },
      "source": [
        "# Question Answering with T5\n",
        "\n",
        "This notebook fine tunes a T5 (Text To Text Transfer Transformer) model to do trivia question answering. The [Google AI Blog post](https://ai.googleblog.com/2020/02/exploring-transfer-learning-with-t5.html) describes T5 in more detail.\n",
        "\n",
        "Here we will use the [Huggingface Transformer Library](https://huggingface.co/transformers/index.html) to instantiate a `t5-small` pre-trained model and fine tune it against approximate 23k question answer pairs from the [FreebaseQA](https://github.com/kelvin-jiang/FreebaseQA) dataset."
      ]
    },
    {
      "cell_type": "code",
      "metadata": {
        "id": "K3Fw-NAOsj7U",
        "colab": {
          "base_uri": "https://localhost:8080/"
        },
        "outputId": "da9825df-0de4-4432-f84c-1afd8f83fc32"
      },
      "source": [
        "!pip install transformers"
      ],
      "execution_count": 1,
      "outputs": [
        {
          "output_type": "stream",
          "text": [
            "Requirement already satisfied: transformers in /usr/local/lib/python3.6/dist-packages (3.5.1)\n",
            "Requirement already satisfied: protobuf in /usr/local/lib/python3.6/dist-packages (from transformers) (3.12.4)\n",
            "Requirement already satisfied: tqdm>=4.27 in /usr/local/lib/python3.6/dist-packages (from transformers) (4.41.1)\n",
            "Requirement already satisfied: requests in /usr/local/lib/python3.6/dist-packages (from transformers) (2.23.0)\n",
            "Requirement already satisfied: packaging in /usr/local/lib/python3.6/dist-packages (from transformers) (20.4)\n",
            "Requirement already satisfied: dataclasses; python_version < \"3.7\" in /usr/local/lib/python3.6/dist-packages (from transformers) (0.8)\n",
            "Requirement already satisfied: sentencepiece==0.1.91 in /usr/local/lib/python3.6/dist-packages (from transformers) (0.1.91)\n",
            "Requirement already satisfied: regex!=2019.12.17 in /usr/local/lib/python3.6/dist-packages (from transformers) (2019.12.20)\n",
            "Requirement already satisfied: sacremoses in /usr/local/lib/python3.6/dist-packages (from transformers) (0.0.43)\n",
            "Requirement already satisfied: tokenizers==0.9.3 in /usr/local/lib/python3.6/dist-packages (from transformers) (0.9.3)\n",
            "Requirement already satisfied: filelock in /usr/local/lib/python3.6/dist-packages (from transformers) (3.0.12)\n",
            "Requirement already satisfied: numpy in /usr/local/lib/python3.6/dist-packages (from transformers) (1.18.5)\n",
            "Requirement already satisfied: setuptools in /usr/local/lib/python3.6/dist-packages (from protobuf->transformers) (50.3.2)\n",
            "Requirement already satisfied: six>=1.9 in /usr/local/lib/python3.6/dist-packages (from protobuf->transformers) (1.15.0)\n",
            "Requirement already satisfied: idna<3,>=2.5 in /usr/local/lib/python3.6/dist-packages (from requests->transformers) (2.10)\n",
            "Requirement already satisfied: chardet<4,>=3.0.2 in /usr/local/lib/python3.6/dist-packages (from requests->transformers) (3.0.4)\n",
            "Requirement already satisfied: certifi>=2017.4.17 in /usr/local/lib/python3.6/dist-packages (from requests->transformers) (2020.11.8)\n",
            "Requirement already satisfied: urllib3!=1.25.0,!=1.25.1,<1.26,>=1.21.1 in /usr/local/lib/python3.6/dist-packages (from requests->transformers) (1.24.3)\n",
            "Requirement already satisfied: pyparsing>=2.0.2 in /usr/local/lib/python3.6/dist-packages (from packaging->transformers) (2.4.7)\n",
            "Requirement already satisfied: click in /usr/local/lib/python3.6/dist-packages (from sacremoses->transformers) (7.1.2)\n",
            "Requirement already satisfied: joblib in /usr/local/lib/python3.6/dist-packages (from sacremoses->transformers) (0.17.0)\n"
          ],
          "name": "stdout"
        }
      ]
    },
    {
      "cell_type": "code",
      "metadata": {
        "id": "SL8wJAmuGPlh"
      },
      "source": [
        "import json\n",
        "import matplotlib.pyplot as plt\n",
        "import numpy as np\n",
        "import pandas as pd\n",
        "import torch\n",
        "\n",
        "from transformers import T5Tokenizer, T5ForConditionalGeneration\n",
        "\n",
        "%matplotlib inline"
      ],
      "execution_count": 2,
      "outputs": []
    },
    {
      "cell_type": "markdown",
      "metadata": {
        "id": "7wal6HFX3WYp"
      },
      "source": [
        "## Load pre-trained model and tokenizer"
      ]
    },
    {
      "cell_type": "code",
      "metadata": {
        "id": "ckt3k_HZGS6A"
      },
      "source": [
        "tokenizer = T5Tokenizer.from_pretrained('t5-small')\n",
        "model = T5ForConditionalGeneration.from_pretrained('t5-small', return_dict=True)"
      ],
      "execution_count": 3,
      "outputs": []
    },
    {
      "cell_type": "markdown",
      "metadata": {
        "id": "jFAyR8TTJ932"
      },
      "source": [
        "## Inference with Pre-trained T5\n",
        "\n",
        "We run some T5 commands such as `summarize:`, `translate English to German:` and `translate English to French:` to get an idea of the calling pattern."
      ]
    },
    {
      "cell_type": "code",
      "metadata": {
        "colab": {
          "base_uri": "https://localhost:8080/",
          "height": 35
        },
        "id": "7zcibzaMGYP7",
        "outputId": "711ee971-da36-462a-cf3d-481b0f203687"
      },
      "source": [
        "text = \"\"\"\n",
        "Albert Einstein (14 March 1879 – 18 April 1955) was a German-born theoretical physicist \n",
        "who developed the theory of relativity, one of the two pillars of modern physics \n",
        "(alongside quantum mechanics) . His work is also known for its influence on the philosophy \n",
        "of science . He is best known to the general public for his mass–energy equivalence \n",
        "formula E = mc2, which has been dubbed \"the world's most famous equation\" . He received \n",
        "the 1921 Nobel Prize in Physics \"for his services to theoretical physics, and especially \n",
        "for his discovery of the law of the photoelectric effect\", a pivotal step in the \n",
        "development of quantum theory.\n",
        "\"\"\"\n",
        "input_ids = tokenizer(\"summarize: {:s} \".format(text), \n",
        "                      return_tensors=\"pt\").input_ids  # Batch size 1\n",
        "outputs = model.generate(input_ids)\n",
        "tokenizer.convert_tokens_to_string(tokenizer.convert_ids_to_tokens(outputs[0]))"
      ],
      "execution_count": 4,
      "outputs": [
        {
          "output_type": "execute_result",
          "data": {
            "application/vnd.google.colaboratory.intrinsic+json": {
              "type": "string"
            },
            "text/plain": [
              "'Albert Einstein was a German-born theoretical physicist . he'"
            ]
          },
          "metadata": {
            "tags": []
          },
          "execution_count": 4
        }
      ]
    },
    {
      "cell_type": "code",
      "metadata": {
        "colab": {
          "base_uri": "https://localhost:8080/",
          "height": 35
        },
        "id": "h6eqK2AOInNI",
        "outputId": "be0a7d3c-f165-46ed-892a-97a7a24c6056"
      },
      "source": [
        "text = \"\"\"\n",
        "Alice in Wonderland is a very popular children's novel in the fantasy genre .\n",
        "\"\"\"\n",
        "input_ids = tokenizer(\"translate English to German: {:s} \".format(text),\n",
        "                      return_tensors=\"pt\").input_ids\n",
        "outputs = model.generate(input_ids)\n",
        "tokenizer.convert_tokens_to_string(tokenizer.convert_ids_to_tokens(outputs[0]))"
      ],
      "execution_count": 5,
      "outputs": [
        {
          "output_type": "execute_result",
          "data": {
            "application/vnd.google.colaboratory.intrinsic+json": {
              "type": "string"
            },
            "text/plain": [
              "'Alice in Wonderland ist ein sehr beliebter Kinderroman im Fantasy-Genre '"
            ]
          },
          "metadata": {
            "tags": []
          },
          "execution_count": 5
        }
      ]
    },
    {
      "cell_type": "code",
      "metadata": {
        "colab": {
          "base_uri": "https://localhost:8080/",
          "height": 35
        },
        "id": "JJGGKRXyKlSA",
        "outputId": "fcdd310f-c73c-4bba-c728-425371c17431"
      },
      "source": [
        "input_ids = tokenizer(\"translate English to French: {:s} \".format(text),\n",
        "                      return_tensors=\"pt\").input_ids\n",
        "outputs = model.generate(input_ids)\n",
        "tokenizer.convert_tokens_to_string(tokenizer.convert_ids_to_tokens(outputs[0]))"
      ],
      "execution_count": 6,
      "outputs": [
        {
          "output_type": "execute_result",
          "data": {
            "application/vnd.google.colaboratory.intrinsic+json": {
              "type": "string"
            },
            "text/plain": [
              "\"Alice in Wonderland est un roman très populaire d'enfants dans le genre fantas\""
            ]
          },
          "metadata": {
            "tags": []
          },
          "execution_count": 6
        }
      ]
    },
    {
      "cell_type": "markdown",
      "metadata": {
        "id": "QoKOH14ZRdB2"
      },
      "source": [
        "## Fine tuning T5 for trivia question answering\n",
        "\n",
        "Most QA datasets are quite large, such as TriviaQA and Natural Questions. We are going to use [kelvin-jiang/FreebaseQA](https://github.com/kelvin-jiang/FreebaseQA). There are around 4000 questions and answers in the `dev` split, we will use that for fine-tuning."
      ]
    },
    {
      "cell_type": "markdown",
      "metadata": {
        "id": "PeF6Hbaga_Sp"
      },
      "source": [
        "### Data"
      ]
    },
    {
      "cell_type": "code",
      "metadata": {
        "colab": {
          "base_uri": "https://localhost:8080/"
        },
        "id": "sCpBPJUObOjq",
        "outputId": "73575c59-f8e8-405e-e4c8-3b0af22d8d04"
      },
      "source": [
        "!git clone https://github.com/kelvin-jiang/FreebaseQA.git"
      ],
      "execution_count": 7,
      "outputs": [
        {
          "output_type": "stream",
          "text": [
            "fatal: destination path 'FreebaseQA' already exists and is not an empty directory.\n"
          ],
          "name": "stdout"
        }
      ]
    },
    {
      "cell_type": "code",
      "metadata": {
        "colab": {
          "base_uri": "https://localhost:8080/"
        },
        "id": "v7R29qQXbS3L",
        "outputId": "a680c5ee-a98e-4b6d-be44-8ed21522ae44"
      },
      "source": [
        "def parse_json_data(filepath):\n",
        "  question_texts, answer_texts = [], []\n",
        "  with open(filepath, \"r\") as f:\n",
        "    train_json = json.loads(f.read())\n",
        "  for question in train_json[\"Questions\"]:\n",
        "    question_texts.append(question[\"ProcessedQuestion\"])\n",
        "    answer_texts.append(question[\"Parses\"][0][\"Answers\"][0][\"AnswersName\"][0])\n",
        "  return question_texts, answer_texts\n",
        "\n",
        "question_train, answer_train = parse_json_data(\"FreebaseQA/FreebaseQA-train.json\")\n",
        "question_test, answer_test = parse_json_data(\"FreebaseQA/FreebaseQA-eval.json\")\n",
        "\n",
        "len(question_train), len(answer_train), len(question_test), len(answer_test)"
      ],
      "execution_count": 8,
      "outputs": [
        {
          "output_type": "execute_result",
          "data": {
            "text/plain": [
              "(20358, 20358, 3996, 3996)"
            ]
          },
          "metadata": {
            "tags": []
          },
          "execution_count": 8
        }
      ]
    },
    {
      "cell_type": "markdown",
      "metadata": {
        "id": "OwGW6gUHheZv"
      },
      "source": [
        "### Model Training"
      ]
    },
    {
      "cell_type": "code",
      "metadata": {
        "colab": {
          "base_uri": "https://localhost:8080/"
        },
        "id": "DAtiylombCa_",
        "outputId": "650a4212-e385-4f2c-95c9-d3880006994f"
      },
      "source": [
        "def get_batch(iterable, bs=1):\n",
        "    n = len(iterable)\n",
        "    for ndx in range(0, n, bs):\n",
        "        yield iterable[ndx : min(ndx + bs, n)]\n",
        "\n",
        "list(get_batch([1, 2, 3, 4, 5, 6, 7, 8], bs=3))"
      ],
      "execution_count": 9,
      "outputs": [
        {
          "output_type": "execute_result",
          "data": {
            "text/plain": [
              "[[1, 2, 3], [4, 5, 6], [7, 8]]"
            ]
          },
          "metadata": {
            "tags": []
          },
          "execution_count": 9
        }
      ]
    },
    {
      "cell_type": "code",
      "metadata": {
        "id": "qPBYGS2KgAJ2"
      },
      "source": [
        "NUM_EPOCHS = 10\n",
        "BATCH_SIZE = 32\n",
        "LEARNING_RATE = 1e-5"
      ],
      "execution_count": 10,
      "outputs": []
    },
    {
      "cell_type": "code",
      "metadata": {
        "id": "T5NlAN14inXW"
      },
      "source": [
        "dev = torch.device(\"cuda\" if torch.cuda.is_available() else \"cpu\")\n",
        "model = model.to(dev)"
      ],
      "execution_count": 11,
      "outputs": []
    },
    {
      "cell_type": "code",
      "metadata": {
        "colab": {
          "base_uri": "https://localhost:8080/"
        },
        "id": "DJfzAyY9gDXW",
        "outputId": "1ef3bf11-19a3-45f0-9cc6-94b600fde3b7"
      },
      "source": [
        "losses = []\n",
        "optimizer = torch.optim.AdamW(model.parameters(), lr=LEARNING_RATE)\n",
        "\n",
        "for epoch in range(1, NUM_EPOCHS+1):\n",
        "  for b in get_batch(list(zip(question_train, answer_train)), BATCH_SIZE):\n",
        "\n",
        "    question_batch = [\"question: {:s} \".format(q) for q, a in b]\n",
        "    answer_batch = [a for q, a in b]\n",
        "\n",
        "    inputs = tokenizer(question_batch, return_tensors=\"pt\", \n",
        "                       padding=True, truncation=True)\n",
        "    input_ids = inputs.input_ids\n",
        "    attention_mask = inputs.attention_mask\n",
        "    labels = tokenizer(answer_batch, return_tensors=\"pt\", \n",
        "                       padding=True, truncation=True).input_ids\n",
        "\n",
        "    input_ids = input_ids.to(dev)\n",
        "    attention_mask = attention_mask.to(dev)\n",
        "    labels = labels.to(dev)\n",
        "\n",
        "    outputs = model(input_ids, attention_mask=attention_mask, labels=labels)\n",
        "    loss = outputs.loss\n",
        "    loss.backward()\n",
        "    optimizer.step()\n",
        "\n",
        "    losses.append(loss.detach().cpu().numpy())\n",
        "\n",
        "  print(\"epoch {:d}, loss: {:.5f}\".format(epoch, losses[-1]))"
      ],
      "execution_count": 12,
      "outputs": [
        {
          "output_type": "stream",
          "text": [
            "epoch 1, loss: 1.74862\n",
            "epoch 2, loss: 1.53207\n",
            "epoch 3, loss: 1.34242\n",
            "epoch 4, loss: 1.11768\n",
            "epoch 5, loss: 0.95690\n",
            "epoch 6, loss: 0.82033\n",
            "epoch 7, loss: 0.67802\n",
            "epoch 8, loss: 0.52463\n",
            "epoch 9, loss: 0.46084\n",
            "epoch 10, loss: 0.41044\n"
          ],
          "name": "stdout"
        }
      ]
    },
    {
      "cell_type": "code",
      "metadata": {
        "colab": {
          "base_uri": "https://localhost:8080/",
          "height": 279
        },
        "id": "IENnLob-ktmD",
        "outputId": "0a5bd4f5-dedd-411b-b209-45314085e402"
      },
      "source": [
        "plt.plot(np.arange(len(losses))+1, losses)\n",
        "plt.xlabel(\"iterations\")\n",
        "plt.ylabel(\"loss\")\n",
        "\n",
        "_ = plt.show()"
      ],
      "execution_count": 13,
      "outputs": [
        {
          "output_type": "display_data",
          "data": {
            "image/png": "[encoded data removed]",
            "text/plain": [
              "<Figure size 432x288 with 1 Axes>"
            ]
          },
          "metadata": {
            "tags": [],
            "needs_background": "light"
          }
        }
      ]
    },
    {
      "cell_type": "markdown",
      "metadata": {
        "id": "a8TaE7wMmKlC"
      },
      "source": [
        "### Evaluation\n",
        "\n",
        "The fine tuning has resulted in the model learning the general style of response to give, but the predicted answers don't match with the label answers.\n",
        "\n",
        "According to [this T5 training colab notebook from Google Research](https://colab.research.google.com/github/google-research/text-to-text-transfer-transformer/blob/master/notebooks/t5-trivia.ipynb), trivia question answering is a hard problem even with a powerful model such as T5. For comparison, the 11B T5 model achieves 25% and 35% accuracy on TriviaQA and Natural Questions datasets, and the 3B T5 model achieves 29% and 23% accuracy respectively. These models seem to be trained for at least 25k steps.\n",
        "\n",
        "Both models are comparatively larger and more complex than the one we are using (`t5-small`), and the TriviaQA and NQ datasets are also much larger than our FreebaseQA dataset. We train our model for fewer iterations as well, only 6k steps."
      ]
    },
    {
      "cell_type": "code",
      "metadata": {
        "colab": {
          "base_uri": "https://localhost:8080/"
        },
        "id": "SrwOrcD-XBV1",
        "outputId": "2cf06466-6866-4066-887c-0a0a200e0d48"
      },
      "source": [
        "answer_preds = []\n",
        "num_batches = 0\n",
        "for b in get_batch(list(zip(question_test, answer_test))):\n",
        "  if num_batches % 100 == 0:\n",
        "    print(\"{:d} batches complete\".format(num_batches))\n",
        "  question_batch = [\"question: {:s} \".format(q) for q, a in b]\n",
        "\n",
        "  input_ids = tokenizer(question_batch, return_tensors=\"pt\",\n",
        "                        padding=True, truncation=True).input_ids\n",
        "  input_ids = input_ids.to(dev)\n",
        "  outputs = model.generate(input_ids)\n",
        "  for output in outputs:\n",
        "    answer_preds.append(tokenizer.convert_tokens_to_string(\n",
        "        tokenizer.convert_ids_to_tokens(output)))\n",
        "  num_batches += 1\n",
        "\n",
        "print(\"{:d} batches complete, COMPLETE\".format(num_batches))"
      ],
      "execution_count": 14,
      "outputs": [
        {
          "output_type": "stream",
          "text": [
            "0 batches complete\n",
            "100 batches complete\n",
            "200 batches complete\n",
            "300 batches complete\n",
            "400 batches complete\n",
            "500 batches complete\n",
            "600 batches complete\n",
            "700 batches complete\n",
            "800 batches complete\n",
            "900 batches complete\n",
            "1000 batches complete\n",
            "1100 batches complete\n",
            "1200 batches complete\n",
            "1300 batches complete\n",
            "1400 batches complete\n",
            "1500 batches complete\n",
            "1600 batches complete\n",
            "1700 batches complete\n",
            "1800 batches complete\n",
            "1900 batches complete\n",
            "2000 batches complete\n",
            "2100 batches complete\n",
            "2200 batches complete\n",
            "2300 batches complete\n",
            "2400 batches complete\n",
            "2500 batches complete\n",
            "2600 batches complete\n",
            "2700 batches complete\n",
            "2800 batches complete\n",
            "2900 batches complete\n",
            "3000 batches complete\n",
            "3100 batches complete\n",
            "3200 batches complete\n",
            "3300 batches complete\n",
            "3400 batches complete\n",
            "3500 batches complete\n",
            "3600 batches complete\n",
            "3700 batches complete\n",
            "3800 batches complete\n",
            "3900 batches complete\n",
            "3996 batches complete, COMPLETE\n"
          ],
          "name": "stdout"
        }
      ]
    },
    {
      "cell_type": "code",
      "metadata": {
        "colab": {
          "base_uri": "https://localhost:8080/",
          "height": 669
        },
        "id": "cL6-yuT-nsR9",
        "outputId": "4718dd84-bd24-4018-ec72-adf1d13d4b05"
      },
      "source": [
        "data = []\n",
        "for question, answer, predicted in zip(question_test, answer_test, answer_preds):\n",
        "  data.append((question, answer, predicted))\n",
        "\n",
        "results_df = pd.DataFrame(data, columns=[\"question\", \"label_ans\", \"predicted_ans\"])\n",
        "results_df.head(20)"
      ],
      "execution_count": 15,
      "outputs": [
        {
          "output_type": "execute_result",
          "data": {
            "text/html": [
              "<div>\n",
              "<style scoped>\n",
              "    .dataframe tbody tr th:only-of-type {\n",
              "        vertical-align: middle;\n",
              "    }\n",
              "\n",
              "    .dataframe tbody tr th {\n",
              "        vertical-align: top;\n",
              "    }\n",
              "\n",
              "    .dataframe thead th {\n",
              "        text-align: right;\n",
              "    }\n",
              "</style>\n",
              "<table border=\"1\" class=\"dataframe\">\n",
              "  <thead>\n",
              "    <tr style=\"text-align: right;\">\n",
              "      <th></th>\n",
              "      <th>question</th>\n",
              "      <th>label_ans</th>\n",
              "      <th>predicted_ans</th>\n",
              "    </tr>\n",
              "  </thead>\n",
              "  <tbody>\n",
              "    <tr>\n",
              "      <th>0</th>\n",
              "      <td>who is the female presenter of the channel 4 q...</td>\n",
              "      <td>sandi toksvig</td>\n",
              "      <td>john faye</td>\n",
              "    </tr>\n",
              "    <tr>\n",
              "      <th>1</th>\n",
              "      <td>who produced the film 12 angry men, which was ...</td>\n",
              "      <td>henry fonda</td>\n",
              "      <td>henry bing</td>\n",
              "    </tr>\n",
              "    <tr>\n",
              "      <th>2</th>\n",
              "      <td>who directed the films; the fisher king (1991)...</td>\n",
              "      <td>terry gilliam</td>\n",
              "      <td>john bilbourn</td>\n",
              "    </tr>\n",
              "    <tr>\n",
              "      <th>3</th>\n",
              "      <td>who directed the 2013 film 12 years a slave</td>\n",
              "      <td>steve mcqueen</td>\n",
              "      <td>john billy</td>\n",
              "    </tr>\n",
              "    <tr>\n",
              "      <th>4</th>\n",
              "      <td>which british athlete won the 100 m. at the 19...</td>\n",
              "      <td>harold abrahams</td>\n",
              "      <td>joe biden</td>\n",
              "    </tr>\n",
              "    <tr>\n",
              "      <th>5</th>\n",
              "      <td>which country hosted the 1936 summer olympic g...</td>\n",
              "      <td>germany</td>\n",
              "      <td>canada</td>\n",
              "    </tr>\n",
              "    <tr>\n",
              "      <th>6</th>\n",
              "      <td>who declared the 1936 summer olympic games ope...</td>\n",
              "      <td>adolf hitler</td>\n",
              "      <td>john billy</td>\n",
              "    </tr>\n",
              "    <tr>\n",
              "      <th>7</th>\n",
              "      <td>the chicago bears defeated which team 73-0 in ...</td>\n",
              "      <td>washington redskins</td>\n",
              "      <td>swansea city</td>\n",
              "    </tr>\n",
              "    <tr>\n",
              "      <th>8</th>\n",
              "      <td>where were the 1952 olympic games held</td>\n",
              "      <td>helsinki</td>\n",
              "      <td>sylvia bambi</td>\n",
              "    </tr>\n",
              "    <tr>\n",
              "      <th>9</th>\n",
              "      <td>which us author won the 1953 pulitzer prize fo...</td>\n",
              "      <td>ernest hemingway</td>\n",
              "      <td>john steinbeck</td>\n",
              "    </tr>\n",
              "    <tr>\n",
              "      <th>10</th>\n",
              "      <td>which jockey rode 100/1 outsider foinavon to v...</td>\n",
              "      <td>john buckingham</td>\n",
              "      <td>robert e. e. elbe</td>\n",
              "    </tr>\n",
              "    <tr>\n",
              "      <th>11</th>\n",
              "      <td>ridden by jockey brian fletcher, which horse w...</td>\n",
              "      <td>red alligator</td>\n",
              "      <td>st. moritz</td>\n",
              "    </tr>\n",
              "    <tr>\n",
              "      <th>12</th>\n",
              "      <td>which us athlete won a gold medal for the high...</td>\n",
              "      <td>dick fosbury</td>\n",
              "      <td>joe biden</td>\n",
              "    </tr>\n",
              "    <tr>\n",
              "      <th>13</th>\n",
              "      <td>in which french town, did jean claude killy ac...</td>\n",
              "      <td>grenoble</td>\n",
              "      <td>sicily</td>\n",
              "    </tr>\n",
              "    <tr>\n",
              "      <th>14</th>\n",
              "      <td>which national football team won a gold medal ...</td>\n",
              "      <td>poland</td>\n",
              "      <td>swansea city</td>\n",
              "    </tr>\n",
              "    <tr>\n",
              "      <th>15</th>\n",
              "      <td>when sunderland won the 1973 fa cup, under bob...</td>\n",
              "      <td>leeds united f.c.</td>\n",
              "      <td>john bile</td>\n",
              "    </tr>\n",
              "    <tr>\n",
              "      <th>16</th>\n",
              "      <td>who scored both west ham's goals in the 1975 f...</td>\n",
              "      <td>alan taylor</td>\n",
              "      <td>john billy</td>\n",
              "    </tr>\n",
              "    <tr>\n",
              "      <th>17</th>\n",
              "      <td>which football team lost both the 1974 and 197...</td>\n",
              "      <td>holland</td>\n",
              "      <td>swansea city</td>\n",
              "    </tr>\n",
              "    <tr>\n",
              "      <th>18</th>\n",
              "      <td>who won the 1500m gold medal for great britain...</td>\n",
              "      <td>sebastian coe</td>\n",
              "      <td>john f. kennedy</td>\n",
              "    </tr>\n",
              "    <tr>\n",
              "      <th>19</th>\n",
              "      <td>which city hosted the 1980 summer olympics, wh...</td>\n",
              "      <td>moscow</td>\n",
              "      <td>sao paulo</td>\n",
              "    </tr>\n",
              "  </tbody>\n",
              "</table>\n",
              "</div>"
            ],
            "text/plain": [
              "                                             question  ...      predicted_ans\n",
              "0   who is the female presenter of the channel 4 q...  ...          john faye\n",
              "1   who produced the film 12 angry men, which was ...  ...         henry bing\n",
              "2   who directed the films; the fisher king (1991)...  ...      john bilbourn\n",
              "3         who directed the 2013 film 12 years a slave  ...         john billy\n",
              "4   which british athlete won the 100 m. at the 19...  ...          joe biden\n",
              "5   which country hosted the 1936 summer olympic g...  ...             canada\n",
              "6   who declared the 1936 summer olympic games ope...  ...         john billy\n",
              "7   the chicago bears defeated which team 73-0 in ...  ...       swansea city\n",
              "8              where were the 1952 olympic games held  ...       sylvia bambi\n",
              "9   which us author won the 1953 pulitzer prize fo...  ...     john steinbeck\n",
              "10  which jockey rode 100/1 outsider foinavon to v...  ...  robert e. e. elbe\n",
              "11  ridden by jockey brian fletcher, which horse w...  ...         st. moritz\n",
              "12  which us athlete won a gold medal for the high...  ...          joe biden\n",
              "13  in which french town, did jean claude killy ac...  ...             sicily\n",
              "14  which national football team won a gold medal ...  ...       swansea city\n",
              "15  when sunderland won the 1973 fa cup, under bob...  ...          john bile\n",
              "16  who scored both west ham's goals in the 1975 f...  ...         john billy\n",
              "17  which football team lost both the 1974 and 197...  ...       swansea city\n",
              "18  who won the 1500m gold medal for great britain...  ...    john f. kennedy\n",
              "19  which city hosted the 1980 summer olympics, wh...  ...          sao paulo\n",
              "\n",
              "[20 rows x 3 columns]"
            ]
          },
          "metadata": {
            "tags": []
          },
          "execution_count": 15
        }
      ]
    },
    {
      "cell_type": "code",
      "metadata": {
        "id": "gwR9JGmDkcM9"
      },
      "source": [
        ""
      ],
      "execution_count": 15,
      "outputs": []
    }
  ]
}