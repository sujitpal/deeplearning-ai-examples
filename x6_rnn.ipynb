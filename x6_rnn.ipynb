{
  "nbformat": 4,
  "nbformat_minor": 0,
  "metadata": {
    "colab": {
      "name": "x6_rnn.ipynb",
      "provenance": [],
      "collapsed_sections": [],
      "authorship_tag": "ABX9TyPDcIENoIJhE809SRhXSSgB",
      "include_colab_link": true
    },
    "kernelspec": {
      "name": "python3",
      "display_name": "Python 3"
    },
    "accelerator": "GPU"
  },
  "cells": [
    {
      "cell_type": "markdown",
      "metadata": {
        "id": "view-in-github",
        "colab_type": "text"
      },
      "source": [
        "<a href=\"https://colab.research.google.com/github/sujitpal/nlp-deeplearning-ai-examples/blob/master/x6_rnn.ipynb\" target=\"_parent\"><img src=\"https://colab.research.google.com/assets/colab-badge.svg\" alt=\"Open In Colab\"/></a>"
      ]
    },
    {
      "cell_type": "markdown",
      "metadata": {
        "id": "mZMbybrIZ7cu",
        "colab_type": "text"
      },
      "source": [
        "# Recurrent Neural Networks"
      ]
    },
    {
      "cell_type": "code",
      "metadata": {
        "id": "Q8OtndocaMqi",
        "colab_type": "code",
        "colab": {}
      },
      "source": [
        "import matplotlib.pyplot as plt\n",
        "import numpy as np\n",
        "import pandas as pd\n",
        "import string\n",
        "\n",
        "import torch\n",
        "import torch.nn as nn\n",
        "import torch.nn.functional as F\n",
        "\n",
        "from sklearn.feature_extraction.text import CountVectorizer\n",
        "from sklearn.metrics import accuracy_score\n",
        "from sklearn.model_selection import train_test_split\n",
        "from torch.utils.data import TensorDataset, DataLoader\n",
        "\n",
        "%matplotlib inline"
      ],
      "execution_count": 1,
      "outputs": []
    },
    {
      "cell_type": "markdown",
      "metadata": {
        "id": "1fCMiSiKb8Wj",
        "colab_type": "text"
      },
      "source": [
        "### X.6.01: Create Data\n",
        "\n",
        "Create random dataset of 10 weekly records representing 5 weeks of data, i.e., shape (10,5), then the first 4 columns are data and last 4 columns are targets."
      ]
    },
    {
      "cell_type": "code",
      "metadata": {
        "id": "x-ob2A-pb_xC",
        "colab_type": "code",
        "colab": {
          "base_uri": "https://localhost:8080/",
          "height": 204
        },
        "outputId": "2df20cf7-dde9-4d4f-e194-c25e9db979f9"
      },
      "source": [
        "np.random.seed(0)\n",
        "data = pd.DataFrame(np.random.randint(0, 100, size=(10, 5)),\n",
        "                    columns=[\"week1\", \"week2\", \"week3\", \"week4\", \"week5\"])\n",
        "data.head()"
      ],
      "execution_count": 2,
      "outputs": [
        {
          "output_type": "execute_result",
          "data": {
            "text/html": [
              "<div>\n",
              "<style scoped>\n",
              "    .dataframe tbody tr th:only-of-type {\n",
              "        vertical-align: middle;\n",
              "    }\n",
              "\n",
              "    .dataframe tbody tr th {\n",
              "        vertical-align: top;\n",
              "    }\n",
              "\n",
              "    .dataframe thead th {\n",
              "        text-align: right;\n",
              "    }\n",
              "</style>\n",
              "<table border=\"1\" class=\"dataframe\">\n",
              "  <thead>\n",
              "    <tr style=\"text-align: right;\">\n",
              "      <th></th>\n",
              "      <th>week1</th>\n",
              "      <th>week2</th>\n",
              "      <th>week3</th>\n",
              "      <th>week4</th>\n",
              "      <th>week5</th>\n",
              "    </tr>\n",
              "  </thead>\n",
              "  <tbody>\n",
              "    <tr>\n",
              "      <th>0</th>\n",
              "      <td>44</td>\n",
              "      <td>47</td>\n",
              "      <td>64</td>\n",
              "      <td>67</td>\n",
              "      <td>67</td>\n",
              "    </tr>\n",
              "    <tr>\n",
              "      <th>1</th>\n",
              "      <td>9</td>\n",
              "      <td>83</td>\n",
              "      <td>21</td>\n",
              "      <td>36</td>\n",
              "      <td>87</td>\n",
              "    </tr>\n",
              "    <tr>\n",
              "      <th>2</th>\n",
              "      <td>70</td>\n",
              "      <td>88</td>\n",
              "      <td>88</td>\n",
              "      <td>12</td>\n",
              "      <td>58</td>\n",
              "    </tr>\n",
              "    <tr>\n",
              "      <th>3</th>\n",
              "      <td>65</td>\n",
              "      <td>39</td>\n",
              "      <td>87</td>\n",
              "      <td>46</td>\n",
              "      <td>88</td>\n",
              "    </tr>\n",
              "    <tr>\n",
              "      <th>4</th>\n",
              "      <td>81</td>\n",
              "      <td>37</td>\n",
              "      <td>25</td>\n",
              "      <td>77</td>\n",
              "      <td>72</td>\n",
              "    </tr>\n",
              "  </tbody>\n",
              "</table>\n",
              "</div>"
            ],
            "text/plain": [
              "   week1  week2  week3  week4  week5\n",
              "0     44     47     64     67     67\n",
              "1      9     83     21     36     87\n",
              "2     70     88     88     12     58\n",
              "3     65     39     87     46     88\n",
              "4     81     37     25     77     72"
            ]
          },
          "metadata": {
            "tags": []
          },
          "execution_count": 2
        }
      ]
    },
    {
      "cell_type": "code",
      "metadata": {
        "id": "lZvD63n0ca-G",
        "colab_type": "code",
        "colab": {
          "base_uri": "https://localhost:8080/",
          "height": 34
        },
        "outputId": "bdc8f70e-8407-4a18-cfbb-60ae065385c1"
      },
      "source": [
        "inputs = data.iloc[:, :-1]\n",
        "targets = data.iloc[:, 1:]\n",
        "\n",
        "inputs.shape, targets.shape"
      ],
      "execution_count": 3,
      "outputs": [
        {
          "output_type": "execute_result",
          "data": {
            "text/plain": [
              "((10, 4), (10, 4))"
            ]
          },
          "metadata": {
            "tags": []
          },
          "execution_count": 3
        }
      ]
    },
    {
      "cell_type": "markdown",
      "metadata": {
        "id": "thMvLWkJtCmk",
        "colab_type": "text"
      },
      "source": [
        "## A.6.01: RNN for Time Series Prediction\n",
        "\n",
        "### Data\n",
        "\n",
        "Dataset to use: [Sales Transactions Weekly Dataset](https://archive.ics.uci.edu/ml/datasets/Sales_Transactions_Dataset_Weekly) from UCI-ML repository.\n"
      ]
    },
    {
      "cell_type": "code",
      "metadata": {
        "id": "FYj-hfD5nyLI",
        "colab_type": "code",
        "colab": {
          "base_uri": "https://localhost:8080/",
          "height": 224
        },
        "outputId": "dd7d78f5-25aa-4dda-eea5-b469c3adeec5"
      },
      "source": [
        "!wget https://archive.ics.uci.edu/ml/machine-learning-databases/00396/Sales_Transactions_Dataset_Weekly.csv"
      ],
      "execution_count": 4,
      "outputs": [
        {
          "output_type": "stream",
          "text": [
            "--2020-08-15 22:52:27--  https://archive.ics.uci.edu/ml/machine-learning-databases/00396/Sales_Transactions_Dataset_Weekly.csv\n",
            "Resolving archive.ics.uci.edu (archive.ics.uci.edu)... 128.195.10.252\n",
            "Connecting to archive.ics.uci.edu (archive.ics.uci.edu)|128.195.10.252|:443... connected.\n",
            "HTTP request sent, awaiting response... 200 OK\n",
            "Length: 317399 (310K) [application/x-httpd-php]\n",
            "Saving to: ‘Sales_Transactions_Dataset_Weekly.csv.2’\n",
            "\n",
            "Sales_Transactions_ 100%[===================>] 309.96K   537KB/s    in 0.6s    \n",
            "\n",
            "2020-08-15 22:52:28 (537 KB/s) - ‘Sales_Transactions_Dataset_Weekly.csv.2’ saved [317399/317399]\n",
            "\n"
          ],
          "name": "stdout"
        }
      ]
    },
    {
      "cell_type": "code",
      "metadata": {
        "id": "RhjYm4DRtv1W",
        "colab_type": "code",
        "colab": {
          "base_uri": "https://localhost:8080/",
          "height": 270
        },
        "outputId": "2e4baa98-24e5-46cd-8d1b-188446b19ce9"
      },
      "source": [
        "sales_data = pd.read_csv(\"Sales_Transactions_Dataset_Weekly.csv\")\n",
        "sales_data.head()"
      ],
      "execution_count": 5,
      "outputs": [
        {
          "output_type": "execute_result",
          "data": {
            "text/html": [
              "<div>\n",
              "<style scoped>\n",
              "    .dataframe tbody tr th:only-of-type {\n",
              "        vertical-align: middle;\n",
              "    }\n",
              "\n",
              "    .dataframe tbody tr th {\n",
              "        vertical-align: top;\n",
              "    }\n",
              "\n",
              "    .dataframe thead th {\n",
              "        text-align: right;\n",
              "    }\n",
              "</style>\n",
              "<table border=\"1\" class=\"dataframe\">\n",
              "  <thead>\n",
              "    <tr style=\"text-align: right;\">\n",
              "      <th></th>\n",
              "      <th>Product_Code</th>\n",
              "      <th>W0</th>\n",
              "      <th>W1</th>\n",
              "      <th>W2</th>\n",
              "      <th>W3</th>\n",
              "      <th>W4</th>\n",
              "      <th>W5</th>\n",
              "      <th>W6</th>\n",
              "      <th>W7</th>\n",
              "      <th>W8</th>\n",
              "      <th>W9</th>\n",
              "      <th>W10</th>\n",
              "      <th>W11</th>\n",
              "      <th>W12</th>\n",
              "      <th>W13</th>\n",
              "      <th>W14</th>\n",
              "      <th>W15</th>\n",
              "      <th>W16</th>\n",
              "      <th>W17</th>\n",
              "      <th>W18</th>\n",
              "      <th>W19</th>\n",
              "      <th>W20</th>\n",
              "      <th>W21</th>\n",
              "      <th>W22</th>\n",
              "      <th>W23</th>\n",
              "      <th>W24</th>\n",
              "      <th>W25</th>\n",
              "      <th>W26</th>\n",
              "      <th>W27</th>\n",
              "      <th>W28</th>\n",
              "      <th>W29</th>\n",
              "      <th>W30</th>\n",
              "      <th>W31</th>\n",
              "      <th>W32</th>\n",
              "      <th>W33</th>\n",
              "      <th>W34</th>\n",
              "      <th>W35</th>\n",
              "      <th>W36</th>\n",
              "      <th>W37</th>\n",
              "      <th>W38</th>\n",
              "      <th>...</th>\n",
              "      <th>Normalized 12</th>\n",
              "      <th>Normalized 13</th>\n",
              "      <th>Normalized 14</th>\n",
              "      <th>Normalized 15</th>\n",
              "      <th>Normalized 16</th>\n",
              "      <th>Normalized 17</th>\n",
              "      <th>Normalized 18</th>\n",
              "      <th>Normalized 19</th>\n",
              "      <th>Normalized 20</th>\n",
              "      <th>Normalized 21</th>\n",
              "      <th>Normalized 22</th>\n",
              "      <th>Normalized 23</th>\n",
              "      <th>Normalized 24</th>\n",
              "      <th>Normalized 25</th>\n",
              "      <th>Normalized 26</th>\n",
              "      <th>Normalized 27</th>\n",
              "      <th>Normalized 28</th>\n",
              "      <th>Normalized 29</th>\n",
              "      <th>Normalized 30</th>\n",
              "      <th>Normalized 31</th>\n",
              "      <th>Normalized 32</th>\n",
              "      <th>Normalized 33</th>\n",
              "      <th>Normalized 34</th>\n",
              "      <th>Normalized 35</th>\n",
              "      <th>Normalized 36</th>\n",
              "      <th>Normalized 37</th>\n",
              "      <th>Normalized 38</th>\n",
              "      <th>Normalized 39</th>\n",
              "      <th>Normalized 40</th>\n",
              "      <th>Normalized 41</th>\n",
              "      <th>Normalized 42</th>\n",
              "      <th>Normalized 43</th>\n",
              "      <th>Normalized 44</th>\n",
              "      <th>Normalized 45</th>\n",
              "      <th>Normalized 46</th>\n",
              "      <th>Normalized 47</th>\n",
              "      <th>Normalized 48</th>\n",
              "      <th>Normalized 49</th>\n",
              "      <th>Normalized 50</th>\n",
              "      <th>Normalized 51</th>\n",
              "    </tr>\n",
              "  </thead>\n",
              "  <tbody>\n",
              "    <tr>\n",
              "      <th>0</th>\n",
              "      <td>P1</td>\n",
              "      <td>11</td>\n",
              "      <td>12</td>\n",
              "      <td>10</td>\n",
              "      <td>8</td>\n",
              "      <td>13</td>\n",
              "      <td>12</td>\n",
              "      <td>14</td>\n",
              "      <td>21</td>\n",
              "      <td>6</td>\n",
              "      <td>14</td>\n",
              "      <td>11</td>\n",
              "      <td>14</td>\n",
              "      <td>16</td>\n",
              "      <td>9</td>\n",
              "      <td>9</td>\n",
              "      <td>9</td>\n",
              "      <td>14</td>\n",
              "      <td>9</td>\n",
              "      <td>3</td>\n",
              "      <td>12</td>\n",
              "      <td>5</td>\n",
              "      <td>11</td>\n",
              "      <td>7</td>\n",
              "      <td>12</td>\n",
              "      <td>5</td>\n",
              "      <td>9</td>\n",
              "      <td>7</td>\n",
              "      <td>10</td>\n",
              "      <td>5</td>\n",
              "      <td>11</td>\n",
              "      <td>7</td>\n",
              "      <td>10</td>\n",
              "      <td>12</td>\n",
              "      <td>6</td>\n",
              "      <td>5</td>\n",
              "      <td>14</td>\n",
              "      <td>10</td>\n",
              "      <td>9</td>\n",
              "      <td>12</td>\n",
              "      <td>...</td>\n",
              "      <td>0.72</td>\n",
              "      <td>0.33</td>\n",
              "      <td>0.33</td>\n",
              "      <td>0.33</td>\n",
              "      <td>0.61</td>\n",
              "      <td>0.33</td>\n",
              "      <td>0.00</td>\n",
              "      <td>0.50</td>\n",
              "      <td>0.11</td>\n",
              "      <td>0.44</td>\n",
              "      <td>0.22</td>\n",
              "      <td>0.50</td>\n",
              "      <td>0.11</td>\n",
              "      <td>0.33</td>\n",
              "      <td>0.22</td>\n",
              "      <td>0.39</td>\n",
              "      <td>0.11</td>\n",
              "      <td>0.44</td>\n",
              "      <td>0.22</td>\n",
              "      <td>0.39</td>\n",
              "      <td>0.50</td>\n",
              "      <td>0.17</td>\n",
              "      <td>0.11</td>\n",
              "      <td>0.61</td>\n",
              "      <td>0.39</td>\n",
              "      <td>0.33</td>\n",
              "      <td>0.50</td>\n",
              "      <td>0.78</td>\n",
              "      <td>0.22</td>\n",
              "      <td>0.44</td>\n",
              "      <td>0.06</td>\n",
              "      <td>0.22</td>\n",
              "      <td>0.28</td>\n",
              "      <td>0.39</td>\n",
              "      <td>0.50</td>\n",
              "      <td>0.00</td>\n",
              "      <td>0.22</td>\n",
              "      <td>0.17</td>\n",
              "      <td>0.11</td>\n",
              "      <td>0.39</td>\n",
              "    </tr>\n",
              "    <tr>\n",
              "      <th>1</th>\n",
              "      <td>P2</td>\n",
              "      <td>7</td>\n",
              "      <td>6</td>\n",
              "      <td>3</td>\n",
              "      <td>2</td>\n",
              "      <td>7</td>\n",
              "      <td>1</td>\n",
              "      <td>6</td>\n",
              "      <td>3</td>\n",
              "      <td>3</td>\n",
              "      <td>3</td>\n",
              "      <td>2</td>\n",
              "      <td>2</td>\n",
              "      <td>6</td>\n",
              "      <td>2</td>\n",
              "      <td>0</td>\n",
              "      <td>6</td>\n",
              "      <td>2</td>\n",
              "      <td>7</td>\n",
              "      <td>7</td>\n",
              "      <td>9</td>\n",
              "      <td>4</td>\n",
              "      <td>7</td>\n",
              "      <td>2</td>\n",
              "      <td>4</td>\n",
              "      <td>5</td>\n",
              "      <td>3</td>\n",
              "      <td>5</td>\n",
              "      <td>8</td>\n",
              "      <td>5</td>\n",
              "      <td>5</td>\n",
              "      <td>3</td>\n",
              "      <td>1</td>\n",
              "      <td>3</td>\n",
              "      <td>2</td>\n",
              "      <td>3</td>\n",
              "      <td>10</td>\n",
              "      <td>5</td>\n",
              "      <td>2</td>\n",
              "      <td>7</td>\n",
              "      <td>...</td>\n",
              "      <td>0.60</td>\n",
              "      <td>0.20</td>\n",
              "      <td>0.00</td>\n",
              "      <td>0.60</td>\n",
              "      <td>0.20</td>\n",
              "      <td>0.70</td>\n",
              "      <td>0.70</td>\n",
              "      <td>0.90</td>\n",
              "      <td>0.40</td>\n",
              "      <td>0.70</td>\n",
              "      <td>0.20</td>\n",
              "      <td>0.40</td>\n",
              "      <td>0.50</td>\n",
              "      <td>0.30</td>\n",
              "      <td>0.50</td>\n",
              "      <td>0.80</td>\n",
              "      <td>0.50</td>\n",
              "      <td>0.50</td>\n",
              "      <td>0.30</td>\n",
              "      <td>0.10</td>\n",
              "      <td>0.30</td>\n",
              "      <td>0.20</td>\n",
              "      <td>0.30</td>\n",
              "      <td>1.00</td>\n",
              "      <td>0.50</td>\n",
              "      <td>0.20</td>\n",
              "      <td>0.70</td>\n",
              "      <td>0.30</td>\n",
              "      <td>0.20</td>\n",
              "      <td>0.50</td>\n",
              "      <td>0.20</td>\n",
              "      <td>0.40</td>\n",
              "      <td>0.50</td>\n",
              "      <td>0.10</td>\n",
              "      <td>0.10</td>\n",
              "      <td>0.40</td>\n",
              "      <td>0.50</td>\n",
              "      <td>0.10</td>\n",
              "      <td>0.60</td>\n",
              "      <td>0.00</td>\n",
              "    </tr>\n",
              "    <tr>\n",
              "      <th>2</th>\n",
              "      <td>P3</td>\n",
              "      <td>7</td>\n",
              "      <td>11</td>\n",
              "      <td>8</td>\n",
              "      <td>9</td>\n",
              "      <td>10</td>\n",
              "      <td>8</td>\n",
              "      <td>7</td>\n",
              "      <td>13</td>\n",
              "      <td>12</td>\n",
              "      <td>6</td>\n",
              "      <td>14</td>\n",
              "      <td>9</td>\n",
              "      <td>4</td>\n",
              "      <td>7</td>\n",
              "      <td>12</td>\n",
              "      <td>8</td>\n",
              "      <td>7</td>\n",
              "      <td>11</td>\n",
              "      <td>10</td>\n",
              "      <td>7</td>\n",
              "      <td>7</td>\n",
              "      <td>13</td>\n",
              "      <td>11</td>\n",
              "      <td>8</td>\n",
              "      <td>10</td>\n",
              "      <td>8</td>\n",
              "      <td>14</td>\n",
              "      <td>5</td>\n",
              "      <td>3</td>\n",
              "      <td>13</td>\n",
              "      <td>11</td>\n",
              "      <td>9</td>\n",
              "      <td>7</td>\n",
              "      <td>8</td>\n",
              "      <td>7</td>\n",
              "      <td>9</td>\n",
              "      <td>6</td>\n",
              "      <td>12</td>\n",
              "      <td>12</td>\n",
              "      <td>...</td>\n",
              "      <td>0.09</td>\n",
              "      <td>0.36</td>\n",
              "      <td>0.82</td>\n",
              "      <td>0.45</td>\n",
              "      <td>0.36</td>\n",
              "      <td>0.73</td>\n",
              "      <td>0.64</td>\n",
              "      <td>0.36</td>\n",
              "      <td>0.36</td>\n",
              "      <td>0.91</td>\n",
              "      <td>0.73</td>\n",
              "      <td>0.45</td>\n",
              "      <td>0.64</td>\n",
              "      <td>0.45</td>\n",
              "      <td>1.00</td>\n",
              "      <td>0.18</td>\n",
              "      <td>0.00</td>\n",
              "      <td>0.91</td>\n",
              "      <td>0.73</td>\n",
              "      <td>0.55</td>\n",
              "      <td>0.36</td>\n",
              "      <td>0.45</td>\n",
              "      <td>0.36</td>\n",
              "      <td>0.55</td>\n",
              "      <td>0.27</td>\n",
              "      <td>0.82</td>\n",
              "      <td>0.82</td>\n",
              "      <td>0.55</td>\n",
              "      <td>0.00</td>\n",
              "      <td>0.18</td>\n",
              "      <td>0.27</td>\n",
              "      <td>1.00</td>\n",
              "      <td>0.18</td>\n",
              "      <td>0.18</td>\n",
              "      <td>0.36</td>\n",
              "      <td>0.45</td>\n",
              "      <td>1.00</td>\n",
              "      <td>0.45</td>\n",
              "      <td>0.45</td>\n",
              "      <td>0.36</td>\n",
              "    </tr>\n",
              "    <tr>\n",
              "      <th>3</th>\n",
              "      <td>P4</td>\n",
              "      <td>12</td>\n",
              "      <td>8</td>\n",
              "      <td>13</td>\n",
              "      <td>5</td>\n",
              "      <td>9</td>\n",
              "      <td>6</td>\n",
              "      <td>9</td>\n",
              "      <td>13</td>\n",
              "      <td>13</td>\n",
              "      <td>11</td>\n",
              "      <td>8</td>\n",
              "      <td>4</td>\n",
              "      <td>5</td>\n",
              "      <td>4</td>\n",
              "      <td>15</td>\n",
              "      <td>7</td>\n",
              "      <td>11</td>\n",
              "      <td>9</td>\n",
              "      <td>15</td>\n",
              "      <td>4</td>\n",
              "      <td>6</td>\n",
              "      <td>7</td>\n",
              "      <td>11</td>\n",
              "      <td>7</td>\n",
              "      <td>9</td>\n",
              "      <td>6</td>\n",
              "      <td>10</td>\n",
              "      <td>10</td>\n",
              "      <td>2</td>\n",
              "      <td>6</td>\n",
              "      <td>7</td>\n",
              "      <td>2</td>\n",
              "      <td>5</td>\n",
              "      <td>12</td>\n",
              "      <td>5</td>\n",
              "      <td>19</td>\n",
              "      <td>8</td>\n",
              "      <td>6</td>\n",
              "      <td>8</td>\n",
              "      <td>...</td>\n",
              "      <td>0.18</td>\n",
              "      <td>0.12</td>\n",
              "      <td>0.76</td>\n",
              "      <td>0.29</td>\n",
              "      <td>0.53</td>\n",
              "      <td>0.41</td>\n",
              "      <td>0.76</td>\n",
              "      <td>0.12</td>\n",
              "      <td>0.24</td>\n",
              "      <td>0.29</td>\n",
              "      <td>0.53</td>\n",
              "      <td>0.29</td>\n",
              "      <td>0.41</td>\n",
              "      <td>0.24</td>\n",
              "      <td>0.47</td>\n",
              "      <td>0.47</td>\n",
              "      <td>0.00</td>\n",
              "      <td>0.24</td>\n",
              "      <td>0.29</td>\n",
              "      <td>0.00</td>\n",
              "      <td>0.18</td>\n",
              "      <td>0.59</td>\n",
              "      <td>0.18</td>\n",
              "      <td>1.00</td>\n",
              "      <td>0.35</td>\n",
              "      <td>0.24</td>\n",
              "      <td>0.35</td>\n",
              "      <td>0.35</td>\n",
              "      <td>0.59</td>\n",
              "      <td>0.24</td>\n",
              "      <td>0.41</td>\n",
              "      <td>0.47</td>\n",
              "      <td>0.06</td>\n",
              "      <td>0.12</td>\n",
              "      <td>0.24</td>\n",
              "      <td>0.35</td>\n",
              "      <td>0.71</td>\n",
              "      <td>0.35</td>\n",
              "      <td>0.29</td>\n",
              "      <td>0.35</td>\n",
              "    </tr>\n",
              "    <tr>\n",
              "      <th>4</th>\n",
              "      <td>P5</td>\n",
              "      <td>8</td>\n",
              "      <td>5</td>\n",
              "      <td>13</td>\n",
              "      <td>11</td>\n",
              "      <td>6</td>\n",
              "      <td>7</td>\n",
              "      <td>9</td>\n",
              "      <td>14</td>\n",
              "      <td>9</td>\n",
              "      <td>9</td>\n",
              "      <td>11</td>\n",
              "      <td>18</td>\n",
              "      <td>8</td>\n",
              "      <td>4</td>\n",
              "      <td>13</td>\n",
              "      <td>8</td>\n",
              "      <td>10</td>\n",
              "      <td>15</td>\n",
              "      <td>6</td>\n",
              "      <td>13</td>\n",
              "      <td>11</td>\n",
              "      <td>6</td>\n",
              "      <td>10</td>\n",
              "      <td>9</td>\n",
              "      <td>8</td>\n",
              "      <td>12</td>\n",
              "      <td>8</td>\n",
              "      <td>9</td>\n",
              "      <td>13</td>\n",
              "      <td>3</td>\n",
              "      <td>5</td>\n",
              "      <td>3</td>\n",
              "      <td>5</td>\n",
              "      <td>5</td>\n",
              "      <td>9</td>\n",
              "      <td>7</td>\n",
              "      <td>4</td>\n",
              "      <td>8</td>\n",
              "      <td>8</td>\n",
              "      <td>...</td>\n",
              "      <td>0.33</td>\n",
              "      <td>0.07</td>\n",
              "      <td>0.67</td>\n",
              "      <td>0.33</td>\n",
              "      <td>0.47</td>\n",
              "      <td>0.80</td>\n",
              "      <td>0.20</td>\n",
              "      <td>0.67</td>\n",
              "      <td>0.53</td>\n",
              "      <td>0.20</td>\n",
              "      <td>0.47</td>\n",
              "      <td>0.40</td>\n",
              "      <td>0.33</td>\n",
              "      <td>0.60</td>\n",
              "      <td>0.33</td>\n",
              "      <td>0.40</td>\n",
              "      <td>0.67</td>\n",
              "      <td>0.00</td>\n",
              "      <td>0.13</td>\n",
              "      <td>0.00</td>\n",
              "      <td>0.13</td>\n",
              "      <td>0.13</td>\n",
              "      <td>0.40</td>\n",
              "      <td>0.27</td>\n",
              "      <td>0.07</td>\n",
              "      <td>0.33</td>\n",
              "      <td>0.33</td>\n",
              "      <td>0.13</td>\n",
              "      <td>0.13</td>\n",
              "      <td>0.33</td>\n",
              "      <td>0.27</td>\n",
              "      <td>0.53</td>\n",
              "      <td>0.27</td>\n",
              "      <td>0.60</td>\n",
              "      <td>0.20</td>\n",
              "      <td>0.20</td>\n",
              "      <td>0.13</td>\n",
              "      <td>0.53</td>\n",
              "      <td>0.33</td>\n",
              "      <td>0.40</td>\n",
              "    </tr>\n",
              "  </tbody>\n",
              "</table>\n",
              "<p>5 rows × 107 columns</p>\n",
              "</div>"
            ],
            "text/plain": [
              "  Product_Code  W0  W1  ...  Normalized 49  Normalized 50  Normalized 51\n",
              "0           P1  11  12  ...           0.17           0.11           0.39\n",
              "1           P2   7   6  ...           0.10           0.60           0.00\n",
              "2           P3   7  11  ...           0.45           0.45           0.36\n",
              "3           P4  12   8  ...           0.35           0.29           0.35\n",
              "4           P5   8   5  ...           0.53           0.33           0.40\n",
              "\n",
              "[5 rows x 107 columns]"
            ]
          },
          "metadata": {
            "tags": []
          },
          "execution_count": 5
        }
      ]
    },
    {
      "cell_type": "code",
      "metadata": {
        "id": "pbI0e2XTv_Du",
        "colab_type": "code",
        "colab": {
          "base_uri": "https://localhost:8080/",
          "height": 34
        },
        "outputId": "fadff42d-a567-4466-9bb8-938f7c3d89c4"
      },
      "source": [
        "data = sales_data.values[:, 1:53]\n",
        "data.shape"
      ],
      "execution_count": 6,
      "outputs": [
        {
          "output_type": "execute_result",
          "data": {
            "text/plain": [
              "(811, 52)"
            ]
          },
          "metadata": {
            "tags": []
          },
          "execution_count": 6
        }
      ]
    },
    {
      "cell_type": "markdown",
      "metadata": {
        "id": "fykuptZFxgk_",
        "colab_type": "text"
      },
      "source": [
        "### Visualize Data"
      ]
    },
    {
      "cell_type": "code",
      "metadata": {
        "id": "m16AWhuKwLiI",
        "colab_type": "code",
        "colab": {
          "base_uri": "https://localhost:8080/",
          "height": 279
        },
        "outputId": "f90af72d-8574-42bd-c878-1efd01649ef5"
      },
      "source": [
        "np.random.seed(0)\n",
        "for i in np.random.choice(np.arange(data.shape[0]), size=5, replace=False):\n",
        "  plt.plot(np.arange(data.shape[1]), data[i], label=\"{:d}\".format(i))\n",
        "\n",
        "plt.ylabel(\"sales\")\n",
        "plt.xlabel(\"weeks\")\n",
        "plt.legend(loc=\"best\")\n",
        "_ = plt.show()"
      ],
      "execution_count": 7,
      "outputs": [
        {
          "output_type": "display_data",
          "data": {
            "image/png": "[encoded data removed]",
            "text/plain": [
              "<Figure size 432x288 with 1 Axes>"
            ]
          },
          "metadata": {
            "tags": [],
            "needs_background": "light"
          }
        }
      ]
    },
    {
      "cell_type": "markdown",
      "metadata": {
        "id": "0RjK4GcP0fIt",
        "colab_type": "text"
      },
      "source": [
        "### Datasets"
      ]
    },
    {
      "cell_type": "code",
      "metadata": {
        "id": "1M1w2sxrwrrz",
        "colab_type": "code",
        "colab": {}
      },
      "source": [
        "inputs = np.array(data[:, 0:-1], dtype=np.int32)\n",
        "targets = np.array(data[:, 1:], dtype=np.int32)\n",
        "\n",
        "inputs = np.expand_dims(inputs, axis=2)\n",
        "targets = np.expand_dims(targets, axis=2)\n",
        "\n",
        "inputs = torch.tensor(inputs, dtype=torch.float32)\n",
        "targets = torch.tensor(targets, dtype=torch.float32)"
      ],
      "execution_count": 8,
      "outputs": []
    },
    {
      "cell_type": "code",
      "metadata": {
        "id": "NWZBsO-o0hma",
        "colab_type": "code",
        "colab": {}
      },
      "source": [
        "batch_size = 100\n",
        "dataset = TensorDataset(inputs, targets)\n",
        "loader = DataLoader(dataset, batch_size=batch_size)"
      ],
      "execution_count": 9,
      "outputs": []
    },
    {
      "cell_type": "markdown",
      "metadata": {
        "id": "Wr7GS6Qrxjqb",
        "colab_type": "text"
      },
      "source": [
        "### Network"
      ]
    },
    {
      "cell_type": "code",
      "metadata": {
        "id": "Pb1lw969xOm-",
        "colab_type": "code",
        "colab": {
          "base_uri": "https://localhost:8080/",
          "height": 85
        },
        "outputId": "b0703ac3-2dee-4974-9418-8409b9a8eaa3"
      },
      "source": [
        "class SalesRNN(nn.Module):\n",
        "  def __init__(self, input_size, hidden_size, num_layers):\n",
        "    super(SalesRNN, self).__init__()\n",
        "    self.hidden_size = hidden_size\n",
        "    self.rnn = nn.RNN(input_size, hidden_size, num_layers, batch_first=True)\n",
        "    self.output = nn.Linear(hidden_size, 1)\n",
        "\n",
        "  def forward(self, x, hidden):\n",
        "    out, hidden = self.rnn(x, hidden)\n",
        "    out = self.output(out)\n",
        "    return out, hidden\n",
        "\n",
        "net = SalesRNN(1, 10, 1)\n",
        "print(net)"
      ],
      "execution_count": 10,
      "outputs": [
        {
          "output_type": "stream",
          "text": [
            "SalesRNN(\n",
            "  (rnn): RNN(1, 10, batch_first=True)\n",
            "  (output): Linear(in_features=10, out_features=1, bias=True)\n",
            ")\n"
          ],
          "name": "stdout"
        }
      ]
    },
    {
      "cell_type": "code",
      "metadata": {
        "id": "rvjwvrNm0Axb",
        "colab_type": "code",
        "colab": {}
      },
      "source": [
        "dev = torch.device(\"cuda\" if torch.cuda.is_available() else \"cpu\")\n",
        "net = net.to(dev)"
      ],
      "execution_count": 11,
      "outputs": []
    },
    {
      "cell_type": "markdown",
      "metadata": {
        "id": "DoNIlfMxywT1",
        "colab_type": "text"
      },
      "source": [
        "### Train Loop"
      ]
    },
    {
      "cell_type": "code",
      "metadata": {
        "id": "sy2zHTBryNsv",
        "colab_type": "code",
        "colab": {}
      },
      "source": [
        "loss_fn = nn.MSELoss()\n",
        "optimizer = torch.optim.Adam(net.parameters(), lr=1e-3)\n",
        "num_epochs = 10000"
      ],
      "execution_count": 12,
      "outputs": []
    },
    {
      "cell_type": "code",
      "metadata": {
        "id": "Qt3qYL_bGvbJ",
        "colab_type": "code",
        "colab": {}
      },
      "source": [
        "# Training loop crashes with weird errors about loss.backward() being run twice\n",
        "# without retaining intermediate results.\n",
        "# Pytorch 1.x way to handle this -- from:\n",
        "# https://stackoverflow.com/questions/48274929/pytorch-runtimeerror-trying-to-backward-through-the-graph-a-second-time-but/48278089#48278089\n",
        "def repackage_hidden(h):\n",
        "    \"\"\"Wraps hidden states in new Tensors, to detach them from their history.\"\"\"\n",
        "    if isinstance(h, torch.Tensor):\n",
        "        return h.detach()\n",
        "    else:\n",
        "        return tuple(repackage_hidden(v) for v in h)\n"
      ],
      "execution_count": 13,
      "outputs": []
    },
    {
      "cell_type": "code",
      "metadata": {
        "id": "BZa70mFlKNUf",
        "colab_type": "code",
        "colab": {
          "base_uri": "https://localhost:8080/",
          "height": 187
        },
        "outputId": "b8fbcfec-56b3-4a52-8baa-3104230b9192"
      },
      "source": [
        "losses = []\n",
        "for i in range(1, num_epochs + 1):\n",
        "\n",
        "  hidden = None\n",
        "\n",
        "  epoch_loss = 0\n",
        "  for inputs, targets in loader:\n",
        "    inputs, targets = inputs.to(dev), targets.to(dev)\n",
        "    if len(inputs) != batch_size:\n",
        "      continue\n",
        "\n",
        "    pred, hidden = net(inputs, hidden)\n",
        "    loss = loss_fn(pred, targets)\n",
        "\n",
        "    epoch_loss += loss.detach().cpu().numpy()\n",
        "\n",
        "    optimizer.zero_grad()\n",
        "    loss.backward()\n",
        "    optimizer.step()\n",
        "    hidden = repackage_hidden(hidden)\n",
        "\n",
        "  losses.append(epoch_loss)\n",
        "  if i % 1000 == 0:\n",
        "    print(\"Epoch {:d}, loss: {:.3f}\".format(i, epoch_loss))"
      ],
      "execution_count": 14,
      "outputs": [
        {
          "output_type": "stream",
          "text": [
            "Epoch 1000, loss: 118.339\n",
            "Epoch 2000, loss: 110.725\n",
            "Epoch 3000, loss: 110.257\n",
            "Epoch 4000, loss: 109.929\n",
            "Epoch 5000, loss: 109.858\n",
            "Epoch 6000, loss: 109.648\n",
            "Epoch 7000, loss: 109.725\n",
            "Epoch 8000, loss: 109.498\n",
            "Epoch 9000, loss: 109.330\n",
            "Epoch 10000, loss: 109.672\n"
          ],
          "name": "stdout"
        }
      ]
    },
    {
      "cell_type": "code",
      "metadata": {
        "id": "gU_t2Aid2lxg",
        "colab_type": "code",
        "colab": {
          "base_uri": "https://localhost:8080/",
          "height": 283
        },
        "outputId": "a41f54e9-b87d-4eb2-b42f-ccdfba459da7"
      },
      "source": [
        "plt.plot(np.arange(len(losses)), losses)\n",
        "plt.xlabel(\"epochs\")\n",
        "plt.ylabel(\"loss\")\n",
        "_ = plt.show()"
      ],
      "execution_count": 15,
      "outputs": [
        {
          "output_type": "display_data",
          "data": {
            "image/png": "[encoded data removed]",
            "text/plain": [
              "<Figure size 432x288 with 1 Axes>"
            ]
          },
          "metadata": {
            "tags": [],
            "needs_background": "light"
          }
        }
      ]
    },
    {
      "cell_type": "markdown",
      "metadata": {
        "id": "IadLiSzaL6DZ",
        "colab_type": "text"
      },
      "source": [
        "### Label vs Predictions Scatterplot"
      ]
    },
    {
      "cell_type": "code",
      "metadata": {
        "id": "uN8XVq-hzPOs",
        "colab_type": "code",
        "colab": {
          "base_uri": "https://localhost:8080/",
          "height": 34
        },
        "outputId": "6d0e2b6a-b52a-4b38-be6e-3f4fbb6cfdd1"
      },
      "source": [
        "labels, predictions = [], []\n",
        "hidden = None\n",
        "with torch.no_grad():\n",
        "  for inputs, targets in loader:\n",
        "    inputs, targets = inputs.to(dev), targets.to(dev)\n",
        "    \n",
        "    preds, _ = net(inputs, hidden)\n",
        "    for i in range(preds.shape[0]):\n",
        "      predictions.append(preds[i][-1][0].detach().cpu().numpy())\n",
        "      labels.append(targets[i][-1][0].detach().cpu().numpy())\n",
        "\n",
        "len(labels), len(predictions)"
      ],
      "execution_count": 16,
      "outputs": [
        {
          "output_type": "execute_result",
          "data": {
            "text/plain": [
              "(811, 811)"
            ]
          },
          "metadata": {
            "tags": []
          },
          "execution_count": 16
        }
      ]
    },
    {
      "cell_type": "code",
      "metadata": {
        "id": "Sw8bxehn_mIO",
        "colab_type": "code",
        "colab": {
          "base_uri": "https://localhost:8080/",
          "height": 279
        },
        "outputId": "a0f69002-e80d-4c3e-f360-36c308034a02"
      },
      "source": [
        "plt.scatter(labels, predictions)\n",
        "plt.xlabel(\"labels\")\n",
        "plt.ylabel(\"predictions\")\n",
        "_ = plt.show()"
      ],
      "execution_count": 17,
      "outputs": [
        {
          "output_type": "display_data",
          "data": {
            "image/png": "[encoded data removed]",
            "text/plain": [
              "<Figure size 432x288 with 1 Axes>"
            ]
          },
          "metadata": {
            "tags": [],
            "needs_background": "light"
          }
        }
      ]
    },
    {
      "cell_type": "code",
      "metadata": {
        "id": "SVm_IW5CmwRG",
        "colab_type": "code",
        "colab": {}
      },
      "source": [
        "!rm Sales_Transactions_Dataset_Weekly.csv*"
      ],
      "execution_count": 18,
      "outputs": []
    },
    {
      "cell_type": "markdown",
      "metadata": {
        "id": "4Y57yVSNg9TH",
        "colab_type": "text"
      },
      "source": [
        "## A.6.03 Sentiment Analysis\n",
        "\n",
        "### Download data"
      ]
    },
    {
      "cell_type": "code",
      "metadata": {
        "id": "u5SfjDOSNGIJ",
        "colab_type": "code",
        "colab": {
          "base_uri": "https://localhost:8080/",
          "height": 428
        },
        "outputId": "36840938-658c-4c95-b45d-ee640e8c6952"
      },
      "source": [
        "!wget https://archive.ics.uci.edu/ml/machine-learning-databases/00331/sentiment%20labelled%20sentences.zip\n",
        "!unzip -a \"sentiment labelled sentences.zip\"\n",
        "!ls \"sentiment labelled sentences/\""
      ],
      "execution_count": 19,
      "outputs": [
        {
          "output_type": "stream",
          "text": [
            "--2020-08-15 22:58:31--  https://archive.ics.uci.edu/ml/machine-learning-databases/00331/sentiment%20labelled%20sentences.zip\n",
            "Resolving archive.ics.uci.edu (archive.ics.uci.edu)... 128.195.10.252\n",
            "Connecting to archive.ics.uci.edu (archive.ics.uci.edu)|128.195.10.252|:443... connected.\n",
            "HTTP request sent, awaiting response... 200 OK\n",
            "Length: 84188 (82K) [application/x-httpd-php]\n",
            "Saving to: ‘sentiment labelled sentences.zip.1’\n",
            "\n",
            "\r          sentiment   0%[                    ]       0  --.-KB/s               \r         sentiment   47%[========>           ]  39.00K   141KB/s               \rsentiment labelled  100%[===================>]  82.21K   297KB/s    in 0.3s    \n",
            "\n",
            "2020-08-15 22:58:32 (297 KB/s) - ‘sentiment labelled sentences.zip.1’ saved [84188/84188]\n",
            "\n",
            "Archive:  sentiment labelled sentences.zip\n",
            "replace sentiment labelled sentences/.DS_Store? [y]es, [n]o, [A]ll, [N]one, [r]ename: A\n",
            "  inflating: sentiment labelled sentences/.DS_Store  [binary]\n",
            "  inflating: __MACOSX/sentiment labelled sentences/._.DS_Store  [binary]\n",
            "  inflating: sentiment labelled sentences/amazon_cells_labelled.txt  [binary]\n",
            "  inflating: sentiment labelled sentences/imdb_labelled.txt  [binary]\n",
            "  inflating: __MACOSX/sentiment labelled sentences/._imdb_labelled.txt  [binary]\n",
            "  inflating: sentiment labelled sentences/readme.txt  [binary]\n",
            "  inflating: __MACOSX/sentiment labelled sentences/._readme.txt  [binary]\n",
            "  inflating: sentiment labelled sentences/yelp_labelled.txt  [binary]\n",
            "  inflating: __MACOSX/._sentiment labelled sentences  [binary]\n",
            "amazon_cells_labelled.txt  imdb_labelled.txt  readme.txt  yelp_labelled.txt\n"
          ],
          "name": "stdout"
        }
      ]
    },
    {
      "cell_type": "code",
      "metadata": {
        "id": "7Co-IbkYrmjx",
        "colab_type": "code",
        "colab": {
          "base_uri": "https://localhost:8080/",
          "height": 68
        },
        "outputId": "2bc9725c-85f2-4310-91fa-014ca045a719"
      },
      "source": [
        "!ls"
      ],
      "execution_count": 20,
      "outputs": [
        {
          "output_type": "stream",
          "text": [
            " __MACOSX\t\t\t'sentiment labelled sentences.zip'\n",
            " sample_data\t\t\t'sentiment labelled sentences.zip.1'\n",
            "'sentiment labelled sentences'\n"
          ],
          "name": "stdout"
        }
      ]
    },
    {
      "cell_type": "code",
      "metadata": {
        "id": "xn4vNtbzmsD0",
        "colab_type": "code",
        "colab": {
          "base_uri": "https://localhost:8080/",
          "height": 204
        },
        "outputId": "816326fe-bd0b-483e-f812-2ff8b9ea8a98"
      },
      "source": [
        "amazon_df = pd.read_csv(\"sentiment labelled sentences/amazon_cells_labelled.txt\", sep=\"\\t\", \n",
        "                        names=[\"text\", \"label\"])\n",
        "amazon_df.head()"
      ],
      "execution_count": 21,
      "outputs": [
        {
          "output_type": "execute_result",
          "data": {
            "text/html": [
              "<div>\n",
              "<style scoped>\n",
              "    .dataframe tbody tr th:only-of-type {\n",
              "        vertical-align: middle;\n",
              "    }\n",
              "\n",
              "    .dataframe tbody tr th {\n",
              "        vertical-align: top;\n",
              "    }\n",
              "\n",
              "    .dataframe thead th {\n",
              "        text-align: right;\n",
              "    }\n",
              "</style>\n",
              "<table border=\"1\" class=\"dataframe\">\n",
              "  <thead>\n",
              "    <tr style=\"text-align: right;\">\n",
              "      <th></th>\n",
              "      <th>text</th>\n",
              "      <th>label</th>\n",
              "    </tr>\n",
              "  </thead>\n",
              "  <tbody>\n",
              "    <tr>\n",
              "      <th>0</th>\n",
              "      <td>So there is no way for me to plug it in here i...</td>\n",
              "      <td>0</td>\n",
              "    </tr>\n",
              "    <tr>\n",
              "      <th>1</th>\n",
              "      <td>Good case, Excellent value.</td>\n",
              "      <td>1</td>\n",
              "    </tr>\n",
              "    <tr>\n",
              "      <th>2</th>\n",
              "      <td>Great for the jawbone.</td>\n",
              "      <td>1</td>\n",
              "    </tr>\n",
              "    <tr>\n",
              "      <th>3</th>\n",
              "      <td>Tied to charger for conversations lasting more...</td>\n",
              "      <td>0</td>\n",
              "    </tr>\n",
              "    <tr>\n",
              "      <th>4</th>\n",
              "      <td>The mic is great.</td>\n",
              "      <td>1</td>\n",
              "    </tr>\n",
              "  </tbody>\n",
              "</table>\n",
              "</div>"
            ],
            "text/plain": [
              "                                                text  label\n",
              "0  So there is no way for me to plug it in here i...      0\n",
              "1                        Good case, Excellent value.      1\n",
              "2                             Great for the jawbone.      1\n",
              "3  Tied to charger for conversations lasting more...      0\n",
              "4                                  The mic is great.      1"
            ]
          },
          "metadata": {
            "tags": []
          },
          "execution_count": 21
        }
      ]
    },
    {
      "cell_type": "code",
      "metadata": {
        "id": "gX0f1IU5ni0u",
        "colab_type": "code",
        "colab": {
          "base_uri": "https://localhost:8080/",
          "height": 34
        },
        "outputId": "e0f95f8c-8727-453a-ce5e-445a1161c1b9"
      },
      "source": [
        "len(amazon_df)"
      ],
      "execution_count": 22,
      "outputs": [
        {
          "output_type": "execute_result",
          "data": {
            "text/plain": [
              "1000"
            ]
          },
          "metadata": {
            "tags": []
          },
          "execution_count": 22
        }
      ]
    },
    {
      "cell_type": "markdown",
      "metadata": {
        "id": "2v1xCJsjtDy1",
        "colab_type": "text"
      },
      "source": [
        "### Preprocess (Vectorize) Data"
      ]
    },
    {
      "cell_type": "code",
      "metadata": {
        "id": "IIHbRtnOoGfF",
        "colab_type": "code",
        "colab": {
          "base_uri": "https://localhost:8080/",
          "height": 204
        },
        "outputId": "d32c41bb-1a5f-40d7-998d-19e6543bfc0d"
      },
      "source": [
        "def remove_punctuation(text):\n",
        "  text = text.lower()\n",
        "  return text.translate(str.maketrans('', '', string.punctuation))\n",
        "\n",
        "amazon_df[\"text_clean\"] = amazon_df.apply(lambda row: remove_punctuation(row.text), axis=1)\n",
        "amazon_df.head()"
      ],
      "execution_count": 23,
      "outputs": [
        {
          "output_type": "execute_result",
          "data": {
            "text/html": [
              "<div>\n",
              "<style scoped>\n",
              "    .dataframe tbody tr th:only-of-type {\n",
              "        vertical-align: middle;\n",
              "    }\n",
              "\n",
              "    .dataframe tbody tr th {\n",
              "        vertical-align: top;\n",
              "    }\n",
              "\n",
              "    .dataframe thead th {\n",
              "        text-align: right;\n",
              "    }\n",
              "</style>\n",
              "<table border=\"1\" class=\"dataframe\">\n",
              "  <thead>\n",
              "    <tr style=\"text-align: right;\">\n",
              "      <th></th>\n",
              "      <th>text</th>\n",
              "      <th>label</th>\n",
              "      <th>text_clean</th>\n",
              "    </tr>\n",
              "  </thead>\n",
              "  <tbody>\n",
              "    <tr>\n",
              "      <th>0</th>\n",
              "      <td>So there is no way for me to plug it in here i...</td>\n",
              "      <td>0</td>\n",
              "      <td>so there is no way for me to plug it in here i...</td>\n",
              "    </tr>\n",
              "    <tr>\n",
              "      <th>1</th>\n",
              "      <td>Good case, Excellent value.</td>\n",
              "      <td>1</td>\n",
              "      <td>good case excellent value</td>\n",
              "    </tr>\n",
              "    <tr>\n",
              "      <th>2</th>\n",
              "      <td>Great for the jawbone.</td>\n",
              "      <td>1</td>\n",
              "      <td>great for the jawbone</td>\n",
              "    </tr>\n",
              "    <tr>\n",
              "      <th>3</th>\n",
              "      <td>Tied to charger for conversations lasting more...</td>\n",
              "      <td>0</td>\n",
              "      <td>tied to charger for conversations lasting more...</td>\n",
              "    </tr>\n",
              "    <tr>\n",
              "      <th>4</th>\n",
              "      <td>The mic is great.</td>\n",
              "      <td>1</td>\n",
              "      <td>the mic is great</td>\n",
              "    </tr>\n",
              "  </tbody>\n",
              "</table>\n",
              "</div>"
            ],
            "text/plain": [
              "                                                text  ...                                         text_clean\n",
              "0  So there is no way for me to plug it in here i...  ...  so there is no way for me to plug it in here i...\n",
              "1                        Good case, Excellent value.  ...                          good case excellent value\n",
              "2                             Great for the jawbone.  ...                              great for the jawbone\n",
              "3  Tied to charger for conversations lasting more...  ...  tied to charger for conversations lasting more...\n",
              "4                                  The mic is great.  ...                                   the mic is great\n",
              "\n",
              "[5 rows x 3 columns]"
            ]
          },
          "metadata": {
            "tags": []
          },
          "execution_count": 23
        }
      ]
    },
    {
      "cell_type": "code",
      "metadata": {
        "id": "noFmuTWIpASM",
        "colab_type": "code",
        "colab": {
          "base_uri": "https://localhost:8080/",
          "height": 34
        },
        "outputId": "aa7e7731-2dc8-4b7a-b223-b2d195cc65b7"
      },
      "source": [
        "texts = amazon_df[\"text_clean\"].values\n",
        "labels = amazon_df[\"label\"].values\n",
        "\n",
        "vec = CountVectorizer()\n",
        "X = vec.fit_transform(texts).todense()\n",
        "\n",
        "y = np.array(labels, dtype=np.int64).reshape(-1, 1)\n",
        "\n",
        "X.shape, y.shape"
      ],
      "execution_count": 24,
      "outputs": [
        {
          "output_type": "execute_result",
          "data": {
            "text/plain": [
              "((1000, 1892), (1000, 1))"
            ]
          },
          "metadata": {
            "tags": []
          },
          "execution_count": 24
        }
      ]
    },
    {
      "cell_type": "code",
      "metadata": {
        "id": "GVnIqBEWsjGs",
        "colab_type": "code",
        "colab": {}
      },
      "source": [
        "word2idx = vec.vocabulary_\n",
        "idx2word = {v:k for k, v in word2idx.items()}"
      ],
      "execution_count": 25,
      "outputs": []
    },
    {
      "cell_type": "markdown",
      "metadata": {
        "id": "5EISBnM7xFYI",
        "colab_type": "text"
      },
      "source": [
        "### Dataset"
      ]
    },
    {
      "cell_type": "code",
      "metadata": {
        "id": "dzu2exvkxIGQ",
        "colab_type": "code",
        "colab": {
          "base_uri": "https://localhost:8080/",
          "height": 34
        },
        "outputId": "ba3059d4-2118-4535-a78a-470790ff38c4"
      },
      "source": [
        "Xtv, Xtest, ytv, ytest = train_test_split(X, y, test_size=0.1, random_state=0)\n",
        "Xtrain, Xval, ytrain, yval = train_test_split(Xtv, ytv, test_size=0.2, random_state=0)\n",
        "\n",
        "Xtrain.shape, ytrain.shape, Xval.shape, yval.shape, Xtest.shape, ytest.shape"
      ],
      "execution_count": 26,
      "outputs": [
        {
          "output_type": "execute_result",
          "data": {
            "text/plain": [
              "((720, 1892), (720, 1), (180, 1892), (180, 1), (100, 1892), (100, 1))"
            ]
          },
          "metadata": {
            "tags": []
          },
          "execution_count": 26
        }
      ]
    },
    {
      "cell_type": "code",
      "metadata": {
        "id": "wQhrJrgNzkai",
        "colab_type": "code",
        "colab": {}
      },
      "source": [
        "train_ds = TensorDataset(torch.tensor(Xtrain, dtype=torch.int64),\n",
        "                         torch.tensor(ytrain, dtype=torch.float32))\n",
        "val_ds = TensorDataset(torch.tensor(Xval, dtype=torch.int64),\n",
        "                       torch.tensor(yval, dtype=torch.float32))\n",
        "test_ds = TensorDataset(torch.tensor(Xtest, dtype=torch.int64), \n",
        "                        torch.tensor(ytest, dtype=torch.float32))"
      ],
      "execution_count": 27,
      "outputs": []
    },
    {
      "cell_type": "code",
      "metadata": {
        "id": "cSmODYJX1VsP",
        "colab_type": "code",
        "colab": {}
      },
      "source": [
        "batch_size = 32\n",
        "train_loader = DataLoader(train_ds, batch_size=batch_size)\n",
        "val_loader = DataLoader(val_ds, batch_size=batch_size)\n",
        "test_loader = DataLoader(test_ds, batch_size=batch_size)"
      ],
      "execution_count": 28,
      "outputs": []
    },
    {
      "cell_type": "markdown",
      "metadata": {
        "id": "BI1X-zu7tM5H",
        "colab_type": "text"
      },
      "source": [
        "### Network"
      ]
    },
    {
      "cell_type": "code",
      "metadata": {
        "id": "mg35CnMnsJpd",
        "colab_type": "code",
        "colab": {
          "base_uri": "https://localhost:8080/",
          "height": 102
        },
        "outputId": "516a4c3c-cbdf-454c-a32b-ff7665414d01"
      },
      "source": [
        "class SentimentLSTM(nn.Module):\n",
        "  def __init__(self, vocab_size, embed_dim, hidden_size, num_layers):\n",
        "    super(SentimentLSTM, self).__init__()\n",
        "    self.hidden_size = hidden_size\n",
        "    self.embedding = nn.Embedding(vocab_size, embed_dim)\n",
        "    self.lstm = nn.LSTM(embed_dim, hidden_size, num_layers)\n",
        "    self.output = nn.Linear(hidden_size, 1)\n",
        "\n",
        "  def forward(self, x, states):\n",
        "    out = self.embedding(x)\n",
        "    out, states = self.lstm(out, states)\n",
        "    out = torch.mean(out, axis=1)\n",
        "    out = torch.sigmoid(self.output(out))\n",
        "    return out, states\n",
        "\n",
        "  def init_states(self):\n",
        "    self.hidden.detach_()\n",
        "\n",
        "net2 = SentimentLSTM(len(word2idx), 64, 128, 3)\n",
        "print(net2)"
      ],
      "execution_count": 29,
      "outputs": [
        {
          "output_type": "stream",
          "text": [
            "SentimentLSTM(\n",
            "  (embedding): Embedding(1892, 64)\n",
            "  (lstm): LSTM(64, 128, num_layers=3)\n",
            "  (output): Linear(in_features=128, out_features=1, bias=True)\n",
            ")\n"
          ],
          "name": "stdout"
        }
      ]
    },
    {
      "cell_type": "code",
      "metadata": {
        "id": "0fdrBWJpv7rR",
        "colab_type": "code",
        "colab": {}
      },
      "source": [
        "dev = torch.device(\"cuda\" if torch.cuda.is_available() else \"cpu\")\n",
        "net2 = net2.to(dev)"
      ],
      "execution_count": 30,
      "outputs": []
    },
    {
      "cell_type": "markdown",
      "metadata": {
        "id": "5M_GuHnD1_fl",
        "colab_type": "text"
      },
      "source": [
        "### Training Loop"
      ]
    },
    {
      "cell_type": "code",
      "metadata": {
        "id": "O4bOOkTEwYLX",
        "colab_type": "code",
        "colab": {}
      },
      "source": [
        "loss_fn = nn.BCELoss()\n",
        "optimizer = torch.optim.Adam(net2.parameters(), lr=0.1)\n",
        "num_epochs = 10"
      ],
      "execution_count": 31,
      "outputs": []
    },
    {
      "cell_type": "code",
      "metadata": {
        "id": "4oqFwdc_EIql",
        "colab_type": "code",
        "colab": {}
      },
      "source": [
        "def evaluate(model, dev, loader):\n",
        "  hidden = None\n",
        "  y_true, y_pred = [], []\n",
        "  with torch.no_grad():\n",
        "    for inputs, targets in loader:\n",
        "      inputs, targets = inputs.to(dev), targets.to(dev)\n",
        "      pred, hidden = model(inputs, hidden)\n",
        "      y_pred.extend(np.round(pred.detach().cpu()).tolist())\n",
        "      y_true.extend(np.round(targets.detach().cpu()).tolist())\n",
        "  return accuracy_score(y_pred, y_true)\n"
      ],
      "execution_count": 32,
      "outputs": []
    },
    {
      "cell_type": "code",
      "metadata": {
        "id": "nboFl7mHww46",
        "colab_type": "code",
        "colab": {
          "base_uri": "https://localhost:8080/",
          "height": 187
        },
        "outputId": "223c68fc-e1e2-497f-fa40-8abee0533b5e"
      },
      "source": [
        "num_epochs = 10\n",
        "\n",
        "losses, accuracies, val_accuracies = [], [], []\n",
        "for i in range(1, num_epochs + 1):\n",
        "\n",
        "  hidden = None\n",
        "\n",
        "  epoch_loss = 0\n",
        "  y_true, y_pred = [], []\n",
        "  for inputs, targets in train_loader:\n",
        "    inputs, targets = inputs.to(dev), targets.to(dev)\n",
        "\n",
        "    pred, hidden = net2(inputs, hidden)\n",
        "    loss = loss_fn(pred, targets)\n",
        "\n",
        "    epoch_loss += loss.detach().cpu().item()\n",
        "\n",
        "    optimizer.zero_grad()\n",
        "    loss.backward()\n",
        "    optimizer.step()\n",
        "    hidden = repackage_hidden(hidden)\n",
        "\n",
        "    y_pred.extend(np.round(pred.detach().cpu()).tolist())\n",
        "    y_true.extend(np.round(targets.detach().cpu()).tolist())\n",
        "\n",
        "  # validation accuracy\n",
        "  val_acc = evaluate(net2, dev, val_loader)\n",
        "  val_accuracies.append(val_acc)\n",
        "  # calculate train loss and accuracy per epoch\n",
        "  losses.append(epoch_loss)\n",
        "  epoch_accuracy = accuracy_score(y_true, y_pred)\n",
        "  accuracies.append(epoch_accuracy)\n",
        "\n",
        "  print(\"Epoch {:d}, train loss: {:.3f}, accuracy: {:.3f}, val acc: {:.3f}\".format(\n",
        "      i, epoch_loss, epoch_accuracy, val_acc))\n"
      ],
      "execution_count": 33,
      "outputs": [
        {
          "output_type": "stream",
          "text": [
            "Epoch 1, train loss: 21.892, accuracy: 0.463, val acc: 0.478\n",
            "Epoch 2, train loss: 16.581, accuracy: 0.521, val acc: 0.478\n",
            "Epoch 3, train loss: 16.811, accuracy: 0.521, val acc: 0.478\n",
            "Epoch 4, train loss: 16.946, accuracy: 0.521, val acc: 0.478\n",
            "Epoch 5, train loss: 17.149, accuracy: 0.499, val acc: 0.478\n",
            "Epoch 6, train loss: 17.293, accuracy: 0.493, val acc: 0.478\n",
            "Epoch 7, train loss: 17.290, accuracy: 0.493, val acc: 0.478\n",
            "Epoch 8, train loss: 17.257, accuracy: 0.493, val acc: 0.478\n",
            "Epoch 9, train loss: 17.230, accuracy: 0.493, val acc: 0.478\n",
            "Epoch 10, train loss: 17.212, accuracy: 0.493, val acc: 0.478\n"
          ],
          "name": "stdout"
        }
      ]
    },
    {
      "cell_type": "code",
      "metadata": {
        "id": "zzcOCUK3AsZz",
        "colab_type": "code",
        "colab": {
          "base_uri": "https://localhost:8080/",
          "height": 281
        },
        "outputId": "c764aae2-134d-46fb-8f4a-317c94ed1b71"
      },
      "source": [
        "plt.subplot(2, 1, 1)\n",
        "plt.plot(np.arange(len(losses)), losses, label=\"train\")\n",
        "plt.legend(loc=\"best\")\n",
        "plt.ylabel(\"loss\")\n",
        "\n",
        "plt.subplot(2, 1, 2)\n",
        "plt.plot(np.arange(len(accuracies)), accuracies, label=\"train\")\n",
        "plt.plot(np.arange(len(accuracies)), val_accuracies, label=\"val\")\n",
        "plt.ylabel(\"accuracies\")\n",
        "plt.xlabel(\"epochs\")\n",
        "plt.legend(loc=\"best\")\n",
        "\n",
        "_ = plt.show()"
      ],
      "execution_count": 34,
      "outputs": [
        {
          "output_type": "display_data",
          "data": {
            "image/png": "[encoded data removed]",
            "text/plain": [
              "<Figure size 432x288 with 2 Axes>"
            ]
          },
          "metadata": {
            "tags": [],
            "needs_background": "light"
          }
        }
      ]
    },
    {
      "cell_type": "code",
      "metadata": {
        "id": "nEhYm2lbPS8T",
        "colab_type": "code",
        "colab": {
          "base_uri": "https://localhost:8080/",
          "height": 34
        },
        "outputId": "44b8ffaf-d246-4e17-a8d6-ecbbe515ec45"
      },
      "source": [
        "test_acc = evaluate(net2, dev, test_loader)\n",
        "print(\"Test accuracy: {:.3f}\".format(test_acc))"
      ],
      "execution_count": 35,
      "outputs": [
        {
          "output_type": "stream",
          "text": [
            "Test accuracy: 0.530\n"
          ],
          "name": "stdout"
        }
      ]
    },
    {
      "cell_type": "code",
      "metadata": {
        "id": "bST9DMXJPg4w",
        "colab_type": "code",
        "colab": {}
      },
      "source": [
        "!rm -f \"sentiment labelled sentences.zip\"\n",
        "!rm -rf \"sentiment labelled sentences\""
      ],
      "execution_count": 36,
      "outputs": []
    }
  ]
}