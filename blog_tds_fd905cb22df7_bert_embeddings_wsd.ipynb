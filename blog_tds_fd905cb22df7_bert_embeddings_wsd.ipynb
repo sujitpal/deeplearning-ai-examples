{
  "nbformat": 4,
  "nbformat_minor": 0,
  "metadata": {
    "colab": {
      "name": "blog_tds_fd905cb22df7_bert_embeddings_wsd.ipynb",
      "provenance": [],
      "collapsed_sections": [],
      "authorship_tag": "ABX9TyMan6CefH8/x0AitIry2fkL",
      "include_colab_link": true
    },
    "kernelspec": {
      "name": "python3",
      "display_name": "Python 3"
    },
    "widgets": {
      "application/vnd.jupyter.widget-state+json": {
        "6c0dbf0d4ae24283840657a55918543e": {
          "model_module": "@jupyter-widgets/controls",
          "model_name": "HBoxModel",
          "state": {
            "_view_name": "HBoxView",
            "_dom_classes": [],
            "_model_name": "HBoxModel",
            "_view_module": "@jupyter-widgets/controls",
            "_model_module_version": "1.5.0",
            "_view_count": null,
            "_view_module_version": "1.5.0",
            "box_style": "",
            "layout": "IPY_MODEL_5da3a3ac31bf4cae8d47a96ad6950ad4",
            "_model_module": "@jupyter-widgets/controls",
            "children": [
              "IPY_MODEL_4950e62ffb4f454fb4d0191c1e0cd7fc",
              "IPY_MODEL_be5edd0d62464921b917d7bcdf0cda5e"
            ]
          }
        },
        "5da3a3ac31bf4cae8d47a96ad6950ad4": {
          "model_module": "@jupyter-widgets/base",
          "model_name": "LayoutModel",
          "state": {
            "_view_name": "LayoutView",
            "grid_template_rows": null,
            "right": null,
            "justify_content": null,
            "_view_module": "@jupyter-widgets/base",
            "overflow": null,
            "_model_module_version": "1.2.0",
            "_view_count": null,
            "flex_flow": null,
            "width": null,
            "min_width": null,
            "border": null,
            "align_items": null,
            "bottom": null,
            "_model_module": "@jupyter-widgets/base",
            "top": null,
            "grid_column": null,
            "overflow_y": null,
            "overflow_x": null,
            "grid_auto_flow": null,
            "grid_area": null,
            "grid_template_columns": null,
            "flex": null,
            "_model_name": "LayoutModel",
            "justify_items": null,
            "grid_row": null,
            "max_height": null,
            "align_content": null,
            "visibility": null,
            "align_self": null,
            "height": null,
            "min_height": null,
            "padding": null,
            "grid_auto_rows": null,
            "grid_gap": null,
            "max_width": null,
            "order": null,
            "_view_module_version": "1.2.0",
            "grid_template_areas": null,
            "object_position": null,
            "object_fit": null,
            "grid_auto_columns": null,
            "margin": null,
            "display": null,
            "left": null
          }
        },
        "4950e62ffb4f454fb4d0191c1e0cd7fc": {
          "model_module": "@jupyter-widgets/controls",
          "model_name": "FloatProgressModel",
          "state": {
            "_view_name": "ProgressView",
            "style": "IPY_MODEL_8de07f880ba948768cfd753b2da3380f",
            "_dom_classes": [],
            "description": "Downloading: 100%",
            "_model_name": "FloatProgressModel",
            "bar_style": "success",
            "max": 213450,
            "_view_module": "@jupyter-widgets/controls",
            "_model_module_version": "1.5.0",
            "value": 213450,
            "_view_count": null,
            "_view_module_version": "1.5.0",
            "orientation": "horizontal",
            "min": 0,
            "description_tooltip": null,
            "_model_module": "@jupyter-widgets/controls",
            "layout": "IPY_MODEL_21b504974045464dba293f9a7fbdce95"
          }
        },
        "be5edd0d62464921b917d7bcdf0cda5e": {
          "model_module": "@jupyter-widgets/controls",
          "model_name": "HTMLModel",
          "state": {
            "_view_name": "HTMLView",
            "style": "IPY_MODEL_0ffb099cd42946e99a5a1e317952c9d9",
            "_dom_classes": [],
            "description": "",
            "_model_name": "HTMLModel",
            "placeholder": "​",
            "_view_module": "@jupyter-widgets/controls",
            "_model_module_version": "1.5.0",
            "value": " 213k/213k [00:00&lt;00:00, 1.22MB/s]",
            "_view_count": null,
            "_view_module_version": "1.5.0",
            "description_tooltip": null,
            "_model_module": "@jupyter-widgets/controls",
            "layout": "IPY_MODEL_c3f6506955f04621975e4d7549990a83"
          }
        },
        "8de07f880ba948768cfd753b2da3380f": {
          "model_module": "@jupyter-widgets/controls",
          "model_name": "ProgressStyleModel",
          "state": {
            "_view_name": "StyleView",
            "_model_name": "ProgressStyleModel",
            "description_width": "initial",
            "_view_module": "@jupyter-widgets/base",
            "_model_module_version": "1.5.0",
            "_view_count": null,
            "_view_module_version": "1.2.0",
            "bar_color": null,
            "_model_module": "@jupyter-widgets/controls"
          }
        },
        "21b504974045464dba293f9a7fbdce95": {
          "model_module": "@jupyter-widgets/base",
          "model_name": "LayoutModel",
          "state": {
            "_view_name": "LayoutView",
            "grid_template_rows": null,
            "right": null,
            "justify_content": null,
            "_view_module": "@jupyter-widgets/base",
            "overflow": null,
            "_model_module_version": "1.2.0",
            "_view_count": null,
            "flex_flow": null,
            "width": null,
            "min_width": null,
            "border": null,
            "align_items": null,
            "bottom": null,
            "_model_module": "@jupyter-widgets/base",
            "top": null,
            "grid_column": null,
            "overflow_y": null,
            "overflow_x": null,
            "grid_auto_flow": null,
            "grid_area": null,
            "grid_template_columns": null,
            "flex": null,
            "_model_name": "LayoutModel",
            "justify_items": null,
            "grid_row": null,
            "max_height": null,
            "align_content": null,
            "visibility": null,
            "align_self": null,
            "height": null,
            "min_height": null,
            "padding": null,
            "grid_auto_rows": null,
            "grid_gap": null,
            "max_width": null,
            "order": null,
            "_view_module_version": "1.2.0",
            "grid_template_areas": null,
            "object_position": null,
            "object_fit": null,
            "grid_auto_columns": null,
            "margin": null,
            "display": null,
            "left": null
          }
        },
        "0ffb099cd42946e99a5a1e317952c9d9": {
          "model_module": "@jupyter-widgets/controls",
          "model_name": "DescriptionStyleModel",
          "state": {
            "_view_name": "StyleView",
            "_model_name": "DescriptionStyleModel",
            "description_width": "",
            "_view_module": "@jupyter-widgets/base",
            "_model_module_version": "1.5.0",
            "_view_count": null,
            "_view_module_version": "1.2.0",
            "_model_module": "@jupyter-widgets/controls"
          }
        },
        "c3f6506955f04621975e4d7549990a83": {
          "model_module": "@jupyter-widgets/base",
          "model_name": "LayoutModel",
          "state": {
            "_view_name": "LayoutView",
            "grid_template_rows": null,
            "right": null,
            "justify_content": null,
            "_view_module": "@jupyter-widgets/base",
            "overflow": null,
            "_model_module_version": "1.2.0",
            "_view_count": null,
            "flex_flow": null,
            "width": null,
            "min_width": null,
            "border": null,
            "align_items": null,
            "bottom": null,
            "_model_module": "@jupyter-widgets/base",
            "top": null,
            "grid_column": null,
            "overflow_y": null,
            "overflow_x": null,
            "grid_auto_flow": null,
            "grid_area": null,
            "grid_template_columns": null,
            "flex": null,
            "_model_name": "LayoutModel",
            "justify_items": null,
            "grid_row": null,
            "max_height": null,
            "align_content": null,
            "visibility": null,
            "align_self": null,
            "height": null,
            "min_height": null,
            "padding": null,
            "grid_auto_rows": null,
            "grid_gap": null,
            "max_width": null,
            "order": null,
            "_view_module_version": "1.2.0",
            "grid_template_areas": null,
            "object_position": null,
            "object_fit": null,
            "grid_auto_columns": null,
            "margin": null,
            "display": null,
            "left": null
          }
        },
        "f07c86c999f44e2eb2f7242c082b9e52": {
          "model_module": "@jupyter-widgets/controls",
          "model_name": "HBoxModel",
          "state": {
            "_view_name": "HBoxView",
            "_dom_classes": [],
            "_model_name": "HBoxModel",
            "_view_module": "@jupyter-widgets/controls",
            "_model_module_version": "1.5.0",
            "_view_count": null,
            "_view_module_version": "1.5.0",
            "box_style": "",
            "layout": "IPY_MODEL_e839673f672848e9800a191c12c27986",
            "_model_module": "@jupyter-widgets/controls",
            "children": [
              "IPY_MODEL_70544e3f3ef44fdd96d83cb3eb09af1d",
              "IPY_MODEL_b2998b88deb14169bc112e35705160fc"
            ]
          }
        },
        "e839673f672848e9800a191c12c27986": {
          "model_module": "@jupyter-widgets/base",
          "model_name": "LayoutModel",
          "state": {
            "_view_name": "LayoutView",
            "grid_template_rows": null,
            "right": null,
            "justify_content": null,
            "_view_module": "@jupyter-widgets/base",
            "overflow": null,
            "_model_module_version": "1.2.0",
            "_view_count": null,
            "flex_flow": null,
            "width": null,
            "min_width": null,
            "border": null,
            "align_items": null,
            "bottom": null,
            "_model_module": "@jupyter-widgets/base",
            "top": null,
            "grid_column": null,
            "overflow_y": null,
            "overflow_x": null,
            "grid_auto_flow": null,
            "grid_area": null,
            "grid_template_columns": null,
            "flex": null,
            "_model_name": "LayoutModel",
            "justify_items": null,
            "grid_row": null,
            "max_height": null,
            "align_content": null,
            "visibility": null,
            "align_self": null,
            "height": null,
            "min_height": null,
            "padding": null,
            "grid_auto_rows": null,
            "grid_gap": null,
            "max_width": null,
            "order": null,
            "_view_module_version": "1.2.0",
            "grid_template_areas": null,
            "object_position": null,
            "object_fit": null,
            "grid_auto_columns": null,
            "margin": null,
            "display": null,
            "left": null
          }
        },
        "70544e3f3ef44fdd96d83cb3eb09af1d": {
          "model_module": "@jupyter-widgets/controls",
          "model_name": "FloatProgressModel",
          "state": {
            "_view_name": "ProgressView",
            "style": "IPY_MODEL_dd7b264075e648d68f4ac5d5a2baaa57",
            "_dom_classes": [],
            "description": "Downloading: 100%",
            "_model_name": "FloatProgressModel",
            "bar_style": "success",
            "max": 433,
            "_view_module": "@jupyter-widgets/controls",
            "_model_module_version": "1.5.0",
            "value": 433,
            "_view_count": null,
            "_view_module_version": "1.5.0",
            "orientation": "horizontal",
            "min": 0,
            "description_tooltip": null,
            "_model_module": "@jupyter-widgets/controls",
            "layout": "IPY_MODEL_6f66076952a24b6a8587e90e8519ae94"
          }
        },
        "b2998b88deb14169bc112e35705160fc": {
          "model_module": "@jupyter-widgets/controls",
          "model_name": "HTMLModel",
          "state": {
            "_view_name": "HTMLView",
            "style": "IPY_MODEL_16dfa848ad7b446e9ff4f76f25e01e82",
            "_dom_classes": [],
            "description": "",
            "_model_name": "HTMLModel",
            "placeholder": "​",
            "_view_module": "@jupyter-widgets/controls",
            "_model_module_version": "1.5.0",
            "value": " 433/433 [00:00&lt;00:00, 492B/s]",
            "_view_count": null,
            "_view_module_version": "1.5.0",
            "description_tooltip": null,
            "_model_module": "@jupyter-widgets/controls",
            "layout": "IPY_MODEL_c365dc81177c4a97bf696c34a9b7f489"
          }
        },
        "dd7b264075e648d68f4ac5d5a2baaa57": {
          "model_module": "@jupyter-widgets/controls",
          "model_name": "ProgressStyleModel",
          "state": {
            "_view_name": "StyleView",
            "_model_name": "ProgressStyleModel",
            "description_width": "initial",
            "_view_module": "@jupyter-widgets/base",
            "_model_module_version": "1.5.0",
            "_view_count": null,
            "_view_module_version": "1.2.0",
            "bar_color": null,
            "_model_module": "@jupyter-widgets/controls"
          }
        },
        "6f66076952a24b6a8587e90e8519ae94": {
          "model_module": "@jupyter-widgets/base",
          "model_name": "LayoutModel",
          "state": {
            "_view_name": "LayoutView",
            "grid_template_rows": null,
            "right": null,
            "justify_content": null,
            "_view_module": "@jupyter-widgets/base",
            "overflow": null,
            "_model_module_version": "1.2.0",
            "_view_count": null,
            "flex_flow": null,
            "width": null,
            "min_width": null,
            "border": null,
            "align_items": null,
            "bottom": null,
            "_model_module": "@jupyter-widgets/base",
            "top": null,
            "grid_column": null,
            "overflow_y": null,
            "overflow_x": null,
            "grid_auto_flow": null,
            "grid_area": null,
            "grid_template_columns": null,
            "flex": null,
            "_model_name": "LayoutModel",
            "justify_items": null,
            "grid_row": null,
            "max_height": null,
            "align_content": null,
            "visibility": null,
            "align_self": null,
            "height": null,
            "min_height": null,
            "padding": null,
            "grid_auto_rows": null,
            "grid_gap": null,
            "max_width": null,
            "order": null,
            "_view_module_version": "1.2.0",
            "grid_template_areas": null,
            "object_position": null,
            "object_fit": null,
            "grid_auto_columns": null,
            "margin": null,
            "display": null,
            "left": null
          }
        },
        "16dfa848ad7b446e9ff4f76f25e01e82": {
          "model_module": "@jupyter-widgets/controls",
          "model_name": "DescriptionStyleModel",
          "state": {
            "_view_name": "StyleView",
            "_model_name": "DescriptionStyleModel",
            "description_width": "",
            "_view_module": "@jupyter-widgets/base",
            "_model_module_version": "1.5.0",
            "_view_count": null,
            "_view_module_version": "1.2.0",
            "_model_module": "@jupyter-widgets/controls"
          }
        },
        "c365dc81177c4a97bf696c34a9b7f489": {
          "model_module": "@jupyter-widgets/base",
          "model_name": "LayoutModel",
          "state": {
            "_view_name": "LayoutView",
            "grid_template_rows": null,
            "right": null,
            "justify_content": null,
            "_view_module": "@jupyter-widgets/base",
            "overflow": null,
            "_model_module_version": "1.2.0",
            "_view_count": null,
            "flex_flow": null,
            "width": null,
            "min_width": null,
            "border": null,
            "align_items": null,
            "bottom": null,
            "_model_module": "@jupyter-widgets/base",
            "top": null,
            "grid_column": null,
            "overflow_y": null,
            "overflow_x": null,
            "grid_auto_flow": null,
            "grid_area": null,
            "grid_template_columns": null,
            "flex": null,
            "_model_name": "LayoutModel",
            "justify_items": null,
            "grid_row": null,
            "max_height": null,
            "align_content": null,
            "visibility": null,
            "align_self": null,
            "height": null,
            "min_height": null,
            "padding": null,
            "grid_auto_rows": null,
            "grid_gap": null,
            "max_width": null,
            "order": null,
            "_view_module_version": "1.2.0",
            "grid_template_areas": null,
            "object_position": null,
            "object_fit": null,
            "grid_auto_columns": null,
            "margin": null,
            "display": null,
            "left": null
          }
        },
        "fb67e3b0c65e40969dd8bd1b117f6605": {
          "model_module": "@jupyter-widgets/controls",
          "model_name": "HBoxModel",
          "state": {
            "_view_name": "HBoxView",
            "_dom_classes": [],
            "_model_name": "HBoxModel",
            "_view_module": "@jupyter-widgets/controls",
            "_model_module_version": "1.5.0",
            "_view_count": null,
            "_view_module_version": "1.5.0",
            "box_style": "",
            "layout": "IPY_MODEL_ff84320a8cbd4ca79520f928b54354ca",
            "_model_module": "@jupyter-widgets/controls",
            "children": [
              "IPY_MODEL_aa72789613944aadac10bb15ef079937",
              "IPY_MODEL_ed9fa31e02fb4632ab97c73e1c098d19"
            ]
          }
        },
        "ff84320a8cbd4ca79520f928b54354ca": {
          "model_module": "@jupyter-widgets/base",
          "model_name": "LayoutModel",
          "state": {
            "_view_name": "LayoutView",
            "grid_template_rows": null,
            "right": null,
            "justify_content": null,
            "_view_module": "@jupyter-widgets/base",
            "overflow": null,
            "_model_module_version": "1.2.0",
            "_view_count": null,
            "flex_flow": null,
            "width": null,
            "min_width": null,
            "border": null,
            "align_items": null,
            "bottom": null,
            "_model_module": "@jupyter-widgets/base",
            "top": null,
            "grid_column": null,
            "overflow_y": null,
            "overflow_x": null,
            "grid_auto_flow": null,
            "grid_area": null,
            "grid_template_columns": null,
            "flex": null,
            "_model_name": "LayoutModel",
            "justify_items": null,
            "grid_row": null,
            "max_height": null,
            "align_content": null,
            "visibility": null,
            "align_self": null,
            "height": null,
            "min_height": null,
            "padding": null,
            "grid_auto_rows": null,
            "grid_gap": null,
            "max_width": null,
            "order": null,
            "_view_module_version": "1.2.0",
            "grid_template_areas": null,
            "object_position": null,
            "object_fit": null,
            "grid_auto_columns": null,
            "margin": null,
            "display": null,
            "left": null
          }
        },
        "aa72789613944aadac10bb15ef079937": {
          "model_module": "@jupyter-widgets/controls",
          "model_name": "FloatProgressModel",
          "state": {
            "_view_name": "ProgressView",
            "style": "IPY_MODEL_1b856941c65b4fb29eda8959f3cc2fb7",
            "_dom_classes": [],
            "description": "Downloading: 100%",
            "_model_name": "FloatProgressModel",
            "bar_style": "success",
            "max": 435779157,
            "_view_module": "@jupyter-widgets/controls",
            "_model_module_version": "1.5.0",
            "value": 435779157,
            "_view_count": null,
            "_view_module_version": "1.5.0",
            "orientation": "horizontal",
            "min": 0,
            "description_tooltip": null,
            "_model_module": "@jupyter-widgets/controls",
            "layout": "IPY_MODEL_7eb17b7daa574a92bcbfd673e2bea6d1"
          }
        },
        "ed9fa31e02fb4632ab97c73e1c098d19": {
          "model_module": "@jupyter-widgets/controls",
          "model_name": "HTMLModel",
          "state": {
            "_view_name": "HTMLView",
            "style": "IPY_MODEL_201e8c73d5dd4a1f8a3d0b64ff385246",
            "_dom_classes": [],
            "description": "",
            "_model_name": "HTMLModel",
            "placeholder": "​",
            "_view_module": "@jupyter-widgets/controls",
            "_model_module_version": "1.5.0",
            "value": " 436M/436M [00:11&lt;00:00, 37.9MB/s]",
            "_view_count": null,
            "_view_module_version": "1.5.0",
            "description_tooltip": null,
            "_model_module": "@jupyter-widgets/controls",
            "layout": "IPY_MODEL_48b2da00c883499886d4d80ba9f096c2"
          }
        },
        "1b856941c65b4fb29eda8959f3cc2fb7": {
          "model_module": "@jupyter-widgets/controls",
          "model_name": "ProgressStyleModel",
          "state": {
            "_view_name": "StyleView",
            "_model_name": "ProgressStyleModel",
            "description_width": "initial",
            "_view_module": "@jupyter-widgets/base",
            "_model_module_version": "1.5.0",
            "_view_count": null,
            "_view_module_version": "1.2.0",
            "bar_color": null,
            "_model_module": "@jupyter-widgets/controls"
          }
        },
        "7eb17b7daa574a92bcbfd673e2bea6d1": {
          "model_module": "@jupyter-widgets/base",
          "model_name": "LayoutModel",
          "state": {
            "_view_name": "LayoutView",
            "grid_template_rows": null,
            "right": null,
            "justify_content": null,
            "_view_module": "@jupyter-widgets/base",
            "overflow": null,
            "_model_module_version": "1.2.0",
            "_view_count": null,
            "flex_flow": null,
            "width": null,
            "min_width": null,
            "border": null,
            "align_items": null,
            "bottom": null,
            "_model_module": "@jupyter-widgets/base",
            "top": null,
            "grid_column": null,
            "overflow_y": null,
            "overflow_x": null,
            "grid_auto_flow": null,
            "grid_area": null,
            "grid_template_columns": null,
            "flex": null,
            "_model_name": "LayoutModel",
            "justify_items": null,
            "grid_row": null,
            "max_height": null,
            "align_content": null,
            "visibility": null,
            "align_self": null,
            "height": null,
            "min_height": null,
            "padding": null,
            "grid_auto_rows": null,
            "grid_gap": null,
            "max_width": null,
            "order": null,
            "_view_module_version": "1.2.0",
            "grid_template_areas": null,
            "object_position": null,
            "object_fit": null,
            "grid_auto_columns": null,
            "margin": null,
            "display": null,
            "left": null
          }
        },
        "201e8c73d5dd4a1f8a3d0b64ff385246": {
          "model_module": "@jupyter-widgets/controls",
          "model_name": "DescriptionStyleModel",
          "state": {
            "_view_name": "StyleView",
            "_model_name": "DescriptionStyleModel",
            "description_width": "",
            "_view_module": "@jupyter-widgets/base",
            "_model_module_version": "1.5.0",
            "_view_count": null,
            "_view_module_version": "1.2.0",
            "_model_module": "@jupyter-widgets/controls"
          }
        },
        "48b2da00c883499886d4d80ba9f096c2": {
          "model_module": "@jupyter-widgets/base",
          "model_name": "LayoutModel",
          "state": {
            "_view_name": "LayoutView",
            "grid_template_rows": null,
            "right": null,
            "justify_content": null,
            "_view_module": "@jupyter-widgets/base",
            "overflow": null,
            "_model_module_version": "1.2.0",
            "_view_count": null,
            "flex_flow": null,
            "width": null,
            "min_width": null,
            "border": null,
            "align_items": null,
            "bottom": null,
            "_model_module": "@jupyter-widgets/base",
            "top": null,
            "grid_column": null,
            "overflow_y": null,
            "overflow_x": null,
            "grid_auto_flow": null,
            "grid_area": null,
            "grid_template_columns": null,
            "flex": null,
            "_model_name": "LayoutModel",
            "justify_items": null,
            "grid_row": null,
            "max_height": null,
            "align_content": null,
            "visibility": null,
            "align_self": null,
            "height": null,
            "min_height": null,
            "padding": null,
            "grid_auto_rows": null,
            "grid_gap": null,
            "max_width": null,
            "order": null,
            "_view_module_version": "1.2.0",
            "grid_template_areas": null,
            "object_position": null,
            "object_fit": null,
            "grid_auto_columns": null,
            "margin": null,
            "display": null,
            "left": null
          }
        }
      }
    }
  },
  "cells": [
    {
      "cell_type": "markdown",
      "metadata": {
        "id": "view-in-github",
        "colab_type": "text"
      },
      "source": [
        "<a href=\"https://colab.research.google.com/github/sujitpal/nlp-deeplearning-ai-examples/blob/master/blog_tds_fd905cb22df7_bert_embeddings_wsd.ipynb\" target=\"_parent\"><img src=\"https://colab.research.google.com/assets/colab-badge.svg\" alt=\"Open In Colab\"/></a>"
      ]
    },
    {
      "cell_type": "markdown",
      "metadata": {
        "id": "m2jrbccUMkEp"
      },
      "source": [
        "# WSD using BERT Raw Embeddings\n",
        "\n",
        "This notebook explores an idea proposed by Ajit Rakasekharan in his blog post [Examining BERT raw embeddings](https://towardsdatascience.com/examining-berts-raw-embeddings-fd905cb22df7). It is well-known that transformers yield \"contextual\" embeddings for words, unlike word-embeddings. The blog post proposes the idea that it should be possible to disambiguate [homonyms/homographs](https://www.insider.com/words-spelled-same-different-meanings-2019-1), i.e., words that sound and spelled the same but mean different things depending on context, based on their location and proximity to other words in the embedding space.\n",
        "\n",
        "We use the [HuggingFace BERTModel](https://huggingface.co/transformers/model_doc/bert.html#bertmodel) with weights from a `bert-base-cased` pre-trained model for our experiment.\n",
        "\n",
        "For a given homonym/homograph, we will identify several sentences that mention these in different contexts. We will then capture their \"before\" and \"after\" embeddings, i.e. the embeddings for the word from the first and last hidden states of the model, and then compare it (cosine similarity) with all other words in the model vocabulary.\n",
        "\n",
        "We expect to observe, for each distinct context:\n",
        "* different distributions of similarity values, and\n",
        "* different distribution of similar words.\n",
        "\n",
        "\n"
      ]
    },
    {
      "cell_type": "markdown",
      "metadata": {
        "id": "rjP1dsFlNDb4"
      },
      "source": [
        "## Environment setup"
      ]
    },
    {
      "cell_type": "code",
      "metadata": {
        "colab": {
          "base_uri": "https://localhost:8080/"
        },
        "id": "ZJEWj6WnMQoV",
        "outputId": "5ae8f55b-be9f-4866-90a0-ecb42ce3e638"
      },
      "source": [
        "!pip install transformers"
      ],
      "execution_count": 1,
      "outputs": [
        {
          "output_type": "stream",
          "text": [
            "Collecting transformers\n",
            "\u001b[?25l  Downloading https://files.pythonhosted.org/packages/99/84/7bc03215279f603125d844bf81c3fb3f2d50fe8e511546eb4897e4be2067/transformers-4.0.0-py3-none-any.whl (1.4MB)\n",
            "\u001b[K     |████████████████████████████████| 1.4MB 6.8MB/s \n",
            "\u001b[?25hCollecting tokenizers==0.9.4\n",
            "\u001b[?25l  Downloading https://files.pythonhosted.org/packages/0f/1c/e789a8b12e28be5bc1ce2156cf87cb522b379be9cadc7ad8091a4cc107c4/tokenizers-0.9.4-cp36-cp36m-manylinux2010_x86_64.whl (2.9MB)\n",
            "\u001b[K     |████████████████████████████████| 2.9MB 34.7MB/s \n",
            "\u001b[?25hRequirement already satisfied: packaging in /usr/local/lib/python3.6/dist-packages (from transformers) (20.4)\n",
            "Requirement already satisfied: tqdm>=4.27 in /usr/local/lib/python3.6/dist-packages (from transformers) (4.41.1)\n",
            "Requirement already satisfied: requests in /usr/local/lib/python3.6/dist-packages (from transformers) (2.23.0)\n",
            "Requirement already satisfied: regex!=2019.12.17 in /usr/local/lib/python3.6/dist-packages (from transformers) (2019.12.20)\n",
            "Collecting sacremoses\n",
            "\u001b[?25l  Downloading https://files.pythonhosted.org/packages/7d/34/09d19aff26edcc8eb2a01bed8e98f13a1537005d31e95233fd48216eed10/sacremoses-0.0.43.tar.gz (883kB)\n",
            "\u001b[K     |████████████████████████████████| 890kB 38.7MB/s \n",
            "\u001b[?25hRequirement already satisfied: dataclasses; python_version < \"3.7\" in /usr/local/lib/python3.6/dist-packages (from transformers) (0.8)\n",
            "Requirement already satisfied: filelock in /usr/local/lib/python3.6/dist-packages (from transformers) (3.0.12)\n",
            "Requirement already satisfied: numpy in /usr/local/lib/python3.6/dist-packages (from transformers) (1.18.5)\n",
            "Requirement already satisfied: six in /usr/local/lib/python3.6/dist-packages (from packaging->transformers) (1.15.0)\n",
            "Requirement already satisfied: pyparsing>=2.0.2 in /usr/local/lib/python3.6/dist-packages (from packaging->transformers) (2.4.7)\n",
            "Requirement already satisfied: chardet<4,>=3.0.2 in /usr/local/lib/python3.6/dist-packages (from requests->transformers) (3.0.4)\n",
            "Requirement already satisfied: idna<3,>=2.5 in /usr/local/lib/python3.6/dist-packages (from requests->transformers) (2.10)\n",
            "Requirement already satisfied: certifi>=2017.4.17 in /usr/local/lib/python3.6/dist-packages (from requests->transformers) (2020.11.8)\n",
            "Requirement already satisfied: urllib3!=1.25.0,!=1.25.1,<1.26,>=1.21.1 in /usr/local/lib/python3.6/dist-packages (from requests->transformers) (1.24.3)\n",
            "Requirement already satisfied: click in /usr/local/lib/python3.6/dist-packages (from sacremoses->transformers) (7.1.2)\n",
            "Requirement already satisfied: joblib in /usr/local/lib/python3.6/dist-packages (from sacremoses->transformers) (0.17.0)\n",
            "Building wheels for collected packages: sacremoses\n",
            "  Building wheel for sacremoses (setup.py) ... \u001b[?25l\u001b[?25hdone\n",
            "  Created wheel for sacremoses: filename=sacremoses-0.0.43-cp36-none-any.whl size=893257 sha256=f4a6a59338fb05de99192c1848f840deb373299b831848eef3c3755223e624d5\n",
            "  Stored in directory: /root/.cache/pip/wheels/29/3c/fd/7ce5c3f0666dab31a50123635e6fb5e19ceb42ce38d4e58f45\n",
            "Successfully built sacremoses\n",
            "Installing collected packages: tokenizers, sacremoses, transformers\n",
            "Successfully installed sacremoses-0.0.43 tokenizers-0.9.4 transformers-4.0.0\n"
          ],
          "name": "stdout"
        }
      ]
    },
    {
      "cell_type": "code",
      "metadata": {
        "id": "uTGKzg5VNF9A"
      },
      "source": [
        "import matplotlib.pyplot as plt\n",
        "import numpy as np\n",
        "import torch\n",
        "\n",
        "from transformers import BertModel, BertTokenizer\n",
        "\n",
        "%matplotlib inline"
      ],
      "execution_count": 2,
      "outputs": []
    },
    {
      "cell_type": "markdown",
      "metadata": {
        "id": "9VDP-20DNLbB"
      },
      "source": [
        "## Load pre-trained model\n",
        "\n",
        "We choose the pre-trained `bert-base-cased` model because the blog post reports good results with it."
      ]
    },
    {
      "cell_type": "code",
      "metadata": {
        "colab": {
          "base_uri": "https://localhost:8080/",
          "height": 164,
          "referenced_widgets": [
            "6c0dbf0d4ae24283840657a55918543e",
            "5da3a3ac31bf4cae8d47a96ad6950ad4",
            "4950e62ffb4f454fb4d0191c1e0cd7fc",
            "be5edd0d62464921b917d7bcdf0cda5e",
            "8de07f880ba948768cfd753b2da3380f",
            "21b504974045464dba293f9a7fbdce95",
            "0ffb099cd42946e99a5a1e317952c9d9",
            "c3f6506955f04621975e4d7549990a83",
            "f07c86c999f44e2eb2f7242c082b9e52",
            "e839673f672848e9800a191c12c27986",
            "70544e3f3ef44fdd96d83cb3eb09af1d",
            "b2998b88deb14169bc112e35705160fc",
            "dd7b264075e648d68f4ac5d5a2baaa57",
            "6f66076952a24b6a8587e90e8519ae94",
            "16dfa848ad7b446e9ff4f76f25e01e82",
            "c365dc81177c4a97bf696c34a9b7f489",
            "fb67e3b0c65e40969dd8bd1b117f6605",
            "ff84320a8cbd4ca79520f928b54354ca",
            "aa72789613944aadac10bb15ef079937",
            "ed9fa31e02fb4632ab97c73e1c098d19",
            "1b856941c65b4fb29eda8959f3cc2fb7",
            "7eb17b7daa574a92bcbfd673e2bea6d1",
            "201e8c73d5dd4a1f8a3d0b64ff385246",
            "48b2da00c883499886d4d80ba9f096c2"
          ]
        },
        "id": "XpJbvP5INI--",
        "outputId": "d03fad66-8bef-4587-f7a3-6a30afeca01f"
      },
      "source": [
        "tokenizer = BertTokenizer.from_pretrained('bert-base-cased')\n",
        "model = BertModel.from_pretrained('bert-base-cased', return_dict=True)"
      ],
      "execution_count": 3,
      "outputs": [
        {
          "output_type": "display_data",
          "data": {
            "application/vnd.jupyter.widget-view+json": {
              "model_id": "6c0dbf0d4ae24283840657a55918543e",
              "version_minor": 0,
              "version_major": 2
            },
            "text/plain": [
              "HBox(children=(FloatProgress(value=0.0, description='Downloading', max=213450.0, style=ProgressStyle(descripti…"
            ]
          },
          "metadata": {
            "tags": []
          }
        },
        {
          "output_type": "stream",
          "text": [
            "\n"
          ],
          "name": "stdout"
        },
        {
          "output_type": "display_data",
          "data": {
            "application/vnd.jupyter.widget-view+json": {
              "model_id": "f07c86c999f44e2eb2f7242c082b9e52",
              "version_minor": 0,
              "version_major": 2
            },
            "text/plain": [
              "HBox(children=(FloatProgress(value=0.0, description='Downloading', max=433.0, style=ProgressStyle(description_…"
            ]
          },
          "metadata": {
            "tags": []
          }
        },
        {
          "output_type": "stream",
          "text": [
            "\n"
          ],
          "name": "stdout"
        },
        {
          "output_type": "display_data",
          "data": {
            "application/vnd.jupyter.widget-view+json": {
              "model_id": "fb67e3b0c65e40969dd8bd1b117f6605",
              "version_minor": 0,
              "version_major": 2
            },
            "text/plain": [
              "HBox(children=(FloatProgress(value=0.0, description='Downloading', max=435779157.0, style=ProgressStyle(descri…"
            ]
          },
          "metadata": {
            "tags": []
          }
        },
        {
          "output_type": "stream",
          "text": [
            "\n"
          ],
          "name": "stdout"
        }
      ]
    },
    {
      "cell_type": "markdown",
      "metadata": {
        "id": "zjVcBZ6kOxSR"
      },
      "source": [
        "### Hidden States\n",
        "\n",
        "We want our model to return the hidden states, so we can capture them. The `output_hidden_states` parameter needs to be set to True for this.\n",
        "\n",
        "There are 13 hidden states, the first corresponding to the embedding (projecting the vocabulary word to the (768,) embedding) and the rest corresponding to the 12 layers in the BERT-base model.\n",
        "\n",
        "Output of each hidden state is `(batch_size, number_of_tokens, 768)`."
      ]
    },
    {
      "cell_type": "code",
      "metadata": {
        "id": "OwfiA06rM8Tb"
      },
      "source": [
        "text = \"Conan went to a prison cell.\"\n",
        "inputs = tokenizer(text, return_tensors=\"pt\")\n",
        "outputs = model(**inputs, output_hidden_states=True)"
      ],
      "execution_count": 4,
      "outputs": []
    },
    {
      "cell_type": "code",
      "metadata": {
        "colab": {
          "base_uri": "https://localhost:8080/"
        },
        "id": "871mgj67Ojug",
        "outputId": "b4025f91-4546-4a88-9254-c11cda5abb1b"
      },
      "source": [
        "outputs"
      ],
      "execution_count": 5,
      "outputs": [
        {
          "output_type": "execute_result",
          "data": {
            "text/plain": [
              "BaseModelOutputWithPoolingAndCrossAttentions([('last_hidden_state',\n",
              "                                               tensor([[[ 0.3345, -0.0393,  0.0458,  ...,  0.0241,  0.0804,  0.0365],\n",
              "                                                        [ 0.0278, -0.5531,  0.5972,  ...,  0.2188, -0.1919,  0.0281],\n",
              "                                                        [ 0.2310,  0.1144,  0.2451,  ...,  0.4046, -0.1479,  0.1663],\n",
              "                                                        ...,\n",
              "                                                        [ 0.1710,  0.1697,  0.0063,  ...,  0.2594,  0.0258,  0.0875],\n",
              "                                                        [ 0.2277, -0.3697,  0.1023,  ...,  0.3099, -0.0642, -0.1183],\n",
              "                                                        [ 0.8567,  0.1250, -0.6334,  ...,  0.4787,  0.1390, -0.1556]]],\n",
              "                                                      grad_fn=<NativeLayerNormBackward>)),\n",
              "                                              ('pooler_output',\n",
              "                                               tensor([[-0.6734,  0.4065,  0.9997, -0.9870,  0.9466,  0.7674,  0.9722, -0.9835,\n",
              "                                                        -0.9595, -0.6332,  0.9572,  0.9962, -0.9946, -0.9995,  0.6838, -0.9575,\n",
              "                                                         0.9805, -0.4738, -0.9999, -0.7750, -0.5400, -0.9997,  0.2727,  0.9519,\n",
              "                                                         0.9491,  0.1065,  0.9760,  0.9999,  0.8799, -0.1746,  0.2028, -0.9783,\n",
              "                                                         0.8528, -0.9981,  0.0876,  0.0903,  0.5676, -0.2806,  0.8968, -0.7827,\n",
              "                                                        -0.6409, -0.8559,  0.4211, -0.4749,  0.8017,  0.1081,  0.1746, -0.1369,\n",
              "                                                        -0.1652,  0.9997, -0.9378,  0.9964, -0.9832,  0.9855,  0.9880,  0.2840,\n",
              "                                                         0.9914,  0.1336, -0.9950,  0.2907,  0.9243,  0.1870,  0.9064, -0.2188,\n",
              "                                                         0.2990, -0.1878, -0.8112,  0.1303, -0.4573,  0.3859,  0.4116,  0.2606,\n",
              "                                                         0.9698, -0.8549,  0.0248, -0.8536,  0.2902, -0.9998,  0.9349,  0.9999,\n",
              "                                                         0.7350, -0.9993,  0.9872, -0.2651, -0.6787,  0.3796, -0.9971, -0.9989,\n",
              "                                                         0.0361, -0.5940,  0.7620, -0.9770,  0.5229, -0.8947,  0.9999, -0.5634,\n",
              "                                                        -0.1308,  0.3196,  0.8091, -0.6043, -0.6294,  0.8882,  0.9960, -0.9904,\n",
              "                                                         0.9962,  0.5451, -0.9020, -0.7002,  0.6572,  0.0299,  0.9750, -0.9796,\n",
              "                                                        -0.8383,  0.0206,  0.9301, -0.8521,  0.9722,  0.8447, -0.2683,  0.9999,\n",
              "                                                        -0.1180,  0.9159,  0.9969,  0.7363, -0.7684, -0.1359, -0.7195,  0.8186,\n",
              "                                                        -0.4061, -0.3097,  0.7241, -0.9881, -0.9932,  0.9986, -0.2857,  0.9999,\n",
              "                                                        -0.9984,  0.9779, -0.9999, -0.7860, -0.6539, -0.0896, -0.9591,  0.0265,\n",
              "                                                         0.9867,  0.0375, -0.6291, -0.6563,  0.4010, -0.8000,  0.5571,  0.6708,\n",
              "                                                        -0.9270,  0.9902,  0.9944,  0.9020,  0.9648,  0.1756, -0.8903,  0.8807,\n",
              "                                                         0.9644, -0.9988,  0.9000, -0.9867,  0.9985,  0.9443,  0.8170, -0.9896,\n",
              "                                                         0.9997, -0.6212, -0.1330,  0.1535, -0.1200, -0.9973,  0.3586,  0.3636,\n",
              "                                                         0.7260,  0.9992, -0.9869,  0.9991,  0.9600,  0.1794,  0.7179,  0.9946,\n",
              "                                                        -0.9926, -0.9648, -0.9805,  0.5138,  0.5952,  0.7750,  0.1990,  0.9449,\n",
              "                                                         0.9963,  0.5186, -0.9970, -0.3314,  0.9595, -0.1258,  0.9999, -0.3996,\n",
              "                                                        -0.9994, -0.6702,  0.8076,  0.9659, -0.2272,  0.9539, -0.5987, -0.2538,\n",
              "                                                         0.9712, -0.9927,  0.9950,  0.2232,  0.5373,  0.7946,  0.9838, -0.7073,\n",
              "                                                        -0.0914,  0.1955, -0.5703,  0.9997, -0.9990, -0.1382,  0.4610, -0.9926,\n",
              "                                                        -0.9956,  0.9562,  0.0415, -0.7655, -0.2632,  0.2847,  0.2042,  0.8277,\n",
              "                                                         0.9827, -0.3841, -0.4212, -0.9995, -0.9920, -0.8328, -0.9213, -0.0468,\n",
              "                                                         0.5886, -0.3426, -0.9114, -0.9955,  0.9271,  0.8072, -0.8224, -0.1157,\n",
              "                                                        -0.4004, -0.9950,  0.6679, -0.8350, -0.9972,  0.9989, -0.8047,  0.9778,\n",
              "                                                         0.9232, -0.9912,  0.8100, -0.9964, -0.1703, -0.9928,  0.3421,  0.6272,\n",
              "                                                        -0.6877,  0.0299,  0.9847, -0.9513, -0.5598,  0.4460, -0.9997,  0.8946,\n",
              "                                                        -0.2855,  0.9982,  0.7524, -0.0478,  0.9632,  0.8665, -0.9772, -0.9996,\n",
              "                                                         0.8838,  0.9754, -0.9913, -0.2163,  0.9998, -0.9959, -0.7296, -0.9141,\n",
              "                                                        -0.9839, -0.9992,  0.2162, -0.7483,  0.2277,  0.9481,  0.2372,  0.2199,\n",
              "                                                         0.9918,  0.9851,  0.1369, -0.1099, -0.0119, -0.9559, -0.9825,  0.5544,\n",
              "                                                         0.1700, -0.9999,  0.9996, -0.9866,  0.9939,  0.7631, -0.9889,  0.8520,\n",
              "                                                         0.0544, -0.9372, -0.1288,  0.9997,  0.9709, -0.0063,  0.1028,  0.7809,\n",
              "                                                        -0.0788,  0.6036, -0.8020, -0.4971,  0.1985, -0.9152,  0.9727,  0.5464,\n",
              "                                                        -0.9839,  0.9857, -0.0037,  0.5892, -0.7999,  0.8244,  0.9768, -0.1068,\n",
              "                                                        -0.4011, -0.0896, -0.7495, -0.9559,  0.1019, -0.9936, -0.2747,  0.9397,\n",
              "                                                         0.9696, -0.9741,  0.9830, -0.1123,  0.8770, -0.9961,  0.9999, -0.9919,\n",
              "                                                         0.0548,  0.6263, -0.7639, -0.1318,  0.9796,  0.9713,  0.9475, -0.8551,\n",
              "                                                        -0.6839,  0.8837,  0.9390, -0.9540, -0.0522, -0.9978, -0.4081,  0.9938,\n",
              "                                                         0.9956,  0.0524, -0.3043, -0.9934,  0.9468, -0.8097, -0.7890, -0.0845,\n",
              "                                                        -0.7540,  0.5925,  0.9939, -0.3720,  0.6832,  0.1300, -0.9668,  0.7490,\n",
              "                                                         0.7606,  0.9996, -0.9637,  0.3893,  0.9727, -0.1888, -0.6867,  0.5955,\n",
              "                                                         0.9968, -0.9627, -0.1773, -0.9993, -0.0711, -0.7348, -0.1267, -0.6352,\n",
              "                                                         0.0021, -0.7929,  0.9432,  0.1874,  0.7337, -0.3656,  0.9482, -0.1080,\n",
              "                                                        -0.0309, -0.3035, -0.1199,  0.4507,  0.2712,  0.9637, -0.9493,  0.9996,\n",
              "                                                        -0.3945, -0.9999, -0.9931, -0.7700, -0.9994,  0.4490, -0.9894,  0.9778,\n",
              "                                                         0.7207, -0.9941, -0.9978, -0.9923, -0.9914,  0.8414,  0.5123,  0.0717,\n",
              "                                                         0.4022,  0.6880,  0.0224, -0.0446, -0.0949, -0.9179, -0.5904, -0.9954,\n",
              "                                                         0.6315, -0.9998, -0.6517,  0.9946, -0.9905, -0.8640, -0.9176, -0.8079,\n",
              "                                                        -0.8213,  0.3864,  0.9772,  0.0407, -0.5305, -0.9992,  0.9712, -0.6432,\n",
              "                                                         0.1198, -0.7859, -0.9594,  0.9994,  0.7921, -0.1820, -0.0237, -0.9984,\n",
              "                                                         0.9563, -0.8243, -0.8597, -0.9663,  0.0975, -0.8999, -0.9996, -0.1424,\n",
              "                                                         0.9902,  0.9868,  0.9724,  0.3958, -0.2938, -0.9296,  0.0397, -0.9999,\n",
              "                                                         0.7687,  0.7693, -0.9638, -0.7322,  0.9788,  0.9608, -0.8904, -0.9492,\n",
              "                                                         0.7676,  0.3556,  0.9518, -0.6440, -0.4269,  0.3300, -0.0926, -0.9841,\n",
              "                                                        -0.8918,  0.9920, -0.9967,  0.9316,  0.9897,  0.9966, -0.1918, -0.0017,\n",
              "                                                        -0.9502, -0.9870, -0.6748,  0.3115, -0.9998,  0.9998, -0.9999,  0.6062,\n",
              "                                                        -0.6069,  0.8045,  0.9821, -0.2597, -0.9998, -0.9996,  0.2377,  0.0290,\n",
              "                                                         0.9824,  0.2433,  0.1662, -0.5196, -0.2351,  0.9934, -0.8341, -0.6872,\n",
              "                                                        -0.9941,  0.9991,  0.4458, -0.9968,  0.9843, -0.9988,  0.8350,  0.9501,\n",
              "                                                         0.8557,  0.9584, -0.9975,  0.9999, -0.9996,  0.9921, -0.9999, -0.9980,\n",
              "                                                         0.9996, -0.9845, -0.5941, -0.9994, -0.9936,  0.4915,  0.1023, -0.5628,\n",
              "                                                         0.9800, -0.9996, -0.9971,  0.0359, -0.8209, -0.6964,  0.9875, -0.4843,\n",
              "                                                         0.9726, -0.1618,  0.9554,  0.2034,  0.9935,  0.9930, -0.6814, -0.7202,\n",
              "                                                        -0.9883,  0.9682, -0.4931,  0.2457,  0.9337,  0.1231, -0.7642,  0.3285,\n",
              "                                                        -0.9955,  0.3368, -0.2973,  0.9231,  0.8568,  0.8340, -0.0669, -0.5432,\n",
              "                                                        -0.2026, -0.9814,  0.4266, -0.9991,  0.9660, -0.8701, -0.0468, -0.3554,\n",
              "                                                         0.2913, -0.9365,  0.9992,  0.9974, -0.9957, -0.0181,  0.9722, -0.5337,\n",
              "                                                         0.9657, -0.9865,  0.0145,  0.9195, -0.7195,  0.9683,  0.3960, -0.0449,\n",
              "                                                         0.9406, -0.9900, -0.8326, -0.6437,  0.3049,  0.0634, -0.9545,  0.0118,\n",
              "                                                         0.9763, -0.2210, -0.9992,  0.7830, -0.9982, -0.0580,  0.9635, -0.2513,\n",
              "                                                         0.9998, -0.6513,  0.0653,  0.1714, -0.9994, -0.9972,  0.0551, -0.0937,\n",
              "                                                        -0.8825,  0.9972, -0.1130,  0.7421, -0.9997,  0.3059,  0.9896,  0.2549,\n",
              "                                                         0.8706, -0.5486, -0.9414, -0.8847, -0.4125,  0.0266,  0.8216, -0.9607,\n",
              "                                                        -0.8296, -0.8459,  0.9999, -0.9955, -0.8437, -0.9823,  0.2594,  0.7353,\n",
              "                                                         0.3750,  0.1026, -0.7203,  0.8833, -0.7973,  0.9940, -0.9871, -0.9930,\n",
              "                                                         0.9995,  0.7404, -0.9885, -0.0514, -0.1466,  0.2744,  0.0894,  0.7402,\n",
              "                                                        -0.9196, -0.1264, -0.9936,  0.8369, -0.7520, -0.9729, -0.4964, -0.4270,\n",
              "                                                        -0.9946,  0.9861,  0.9654,  0.9999, -0.9995,  0.6728,  0.0351,  0.9986,\n",
              "                                                         0.0177, -0.5904,  0.7782,  0.9993, -0.6252,  0.8644, -0.1192,  0.0162,\n",
              "                                                         0.3669, -0.5791,  0.9925, -0.9079,  0.0861, -0.9634, -0.9998,  0.9998,\n",
              "                                                         0.0061,  0.9800,  0.2390,  0.8835, -0.7965,  0.9564, -0.9536, -0.8318,\n",
              "                                                        -0.9999,  0.1246, -0.9960, -0.9868,  0.0818,  0.9667, -0.9992, -0.9725,\n",
              "                                                        -0.4669, -0.9999,  0.9132, -0.9689, -0.7224, -0.9727,  0.9946, -0.2288,\n",
              "                                                        -0.5358,  0.9569, -0.9545,  0.9221,  0.9287,  0.4309,  0.1639,  0.1468,\n",
              "                                                        -0.7314, -0.9881, -0.8943, -0.9582,  0.6611, -0.9758, -0.8490,  0.9928,\n",
              "                                                         0.9705, -0.9989, -0.9911,  0.9860,  0.0276,  0.9825, -0.6112, -0.9996,\n",
              "                                                        -0.9997,  0.1759, -0.1383,  0.9919, -0.3844,  0.9887,  0.7159, -0.2942,\n",
              "                                                         0.3744, -0.5238, -0.1674, -0.4480, -0.1897,  0.9999, -0.6482,  0.9851]],\n",
              "                                                      grad_fn=<TanhBackward>)),\n",
              "                                              ('hidden_states',\n",
              "                                               (tensor([[[ 0.4496,  0.0977, -0.2074,  ...,  0.0578,  0.0406, -0.0951],\n",
              "                                                         [-0.1837,  0.3166, -1.7455,  ...,  0.5885,  0.2477,  1.2088],\n",
              "                                                         [ 1.1099,  0.5537,  0.3794,  ...,  0.2915, -0.5682, -0.0233],\n",
              "                                                         ...,\n",
              "                                                         [-0.6015,  1.1529,  0.1755,  ...,  0.3637, -0.1127, -0.2389],\n",
              "                                                         [-0.4275,  0.6968,  0.8957,  ...,  0.1489,  0.6208,  0.2714],\n",
              "                                                         [-0.3162,  0.1007,  0.1413,  ...,  0.5393, -0.4997,  0.3309]]],\n",
              "                                                       grad_fn=<NativeLayerNormBackward>),\n",
              "                                                tensor([[[ 3.3053e-01, -2.6983e-04, -1.2951e-01,  ...,  2.2150e-02,\n",
              "                                                           1.8972e-02, -1.4160e-01],\n",
              "                                                         [-2.1083e-01, -4.3614e-01, -1.4692e+00,  ...,  7.2092e-01,\n",
              "                                                           3.5266e-01,  1.1314e+00],\n",
              "                                                         [ 1.1707e+00,  5.4385e-02,  3.7111e-01,  ...,  2.1252e-01,\n",
              "                                                          -4.3882e-01, -4.2672e-01],\n",
              "                                                         ...,\n",
              "                                                         [-3.9700e-01,  1.6302e+00,  6.2525e-02,  ...,  5.1865e-01,\n",
              "                                                           5.4845e-01, -2.0075e-01],\n",
              "                                                         [ 1.5333e-01,  1.9607e-01,  3.1149e-01,  ..., -4.6332e-02,\n",
              "                                                           3.1949e-01,  1.2494e-02],\n",
              "                                                         [-1.0343e-01, -2.1211e-01,  1.6135e-01,  ...,  6.0379e-01,\n",
              "                                                          -6.3054e-01,  2.8535e-01]]], grad_fn=<NativeLayerNormBackward>),\n",
              "                                                tensor([[[ 0.4479,  0.0140, -0.0806,  ...,  0.0146,  0.0383, -0.2985],\n",
              "                                                         [-0.3506, -0.4397, -0.7414,  ...,  1.2593,  0.2585,  0.5858],\n",
              "                                                         [ 1.2435,  0.0181,  0.3848,  ...,  0.1184, -0.8152, -0.5562],\n",
              "                                                         ...,\n",
              "                                                         [-0.0504,  1.5425, -0.0276,  ...,  0.8404,  0.0271, -0.1918],\n",
              "                                                         [ 0.4584, -0.2571,  0.1990,  ..., -0.3910,  0.0833,  0.0464],\n",
              "                                                         [-0.0116, -0.1475,  0.0590,  ...,  0.2339, -0.2249,  0.0487]]],\n",
              "                                                       grad_fn=<NativeLayerNormBackward>),\n",
              "                                                tensor([[[ 3.3749e-01,  2.6934e-01, -9.8438e-02,  ..., -5.3312e-02,\n",
              "                                                           6.9857e-02,  2.9994e-01],\n",
              "                                                         [-5.0812e-01, -1.7518e-01, -3.1043e-01,  ...,  1.1064e+00,\n",
              "                                                          -1.5990e-01,  2.2664e-01],\n",
              "                                                         [ 1.3895e+00, -1.9637e-01,  1.7965e-01,  ...,  4.5273e-01,\n",
              "                                                          -6.5226e-01, -6.8714e-01],\n",
              "                                                         ...,\n",
              "                                                         [ 1.8780e-01,  1.4723e+00,  5.7000e-01,  ...,  7.3392e-01,\n",
              "                                                           9.8799e-02, -1.0910e-01],\n",
              "                                                         [ 5.8653e-01, -1.2382e-01,  2.1950e-01,  ..., -1.7523e-01,\n",
              "                                                          -6.9208e-02,  2.3663e-01],\n",
              "                                                         [ 1.5334e-02, -9.7833e-02,  2.6790e-02,  ..., -6.3552e-04,\n",
              "                                                          -9.9815e-02,  5.1288e-02]]], grad_fn=<NativeLayerNormBackward>),\n",
              "                                                tensor([[[ 0.3645,  0.4444, -0.2262,  ..., -0.0349,  0.0220,  0.2190],\n",
              "                                                         [-0.4521, -0.7437, -0.4070,  ...,  1.0968, -0.3995,  0.3676],\n",
              "                                                         [ 1.0909,  0.0319,  0.1427,  ...,  0.6974, -0.8083, -0.4766],\n",
              "                                                         ...,\n",
              "                                                         [ 0.4022,  1.4146,  0.6646,  ...,  0.8990,  0.4768,  0.0723],\n",
              "                                                         [ 0.3456, -0.3381,  0.2888,  ..., -0.0721, -0.1104,  0.3590],\n",
              "                                                         [ 0.0257, -0.0524, -0.0128,  ...,  0.0091, -0.0777, -0.0242]]],\n",
              "                                                       grad_fn=<NativeLayerNormBackward>),\n",
              "                                                tensor([[[ 0.3247,  0.1260, -0.3731,  ...,  0.0714,  0.0968,  0.0239],\n",
              "                                                         [-0.4794, -1.0842,  0.0779,  ...,  1.2713, -0.6021,  0.2934],\n",
              "                                                         [ 0.9754, -0.3071,  0.2351,  ...,  0.8232, -0.6971, -0.4601],\n",
              "                                                         ...,\n",
              "                                                         [ 0.3563,  0.9338,  0.3779,  ...,  0.8629,  0.3042,  0.1476],\n",
              "                                                         [ 0.6502, -0.5081,  0.2816,  ...,  0.1204, -0.4086,  0.4505],\n",
              "                                                         [-0.0156, -0.0512,  0.0221,  ..., -0.0174, -0.0547, -0.0404]]],\n",
              "                                                       grad_fn=<NativeLayerNormBackward>),\n",
              "                                                tensor([[[ 0.3341,  0.0094, -0.1456,  ...,  0.0431,  0.0880,  0.1722],\n",
              "                                                         [-0.4843, -1.2115, -0.1514,  ...,  1.2413, -0.8852,  0.7651],\n",
              "                                                         [ 0.4602, -0.2866,  0.0069,  ...,  0.8050, -0.7715,  0.0950],\n",
              "                                                         ...,\n",
              "                                                         [ 0.1899,  0.7636,  0.5243,  ...,  0.9725,  0.2551, -0.1949],\n",
              "                                                         [ 0.4803, -0.4034,  0.2634,  ...,  0.2153, -0.3825,  0.6833],\n",
              "                                                         [-0.0210, -0.0501,  0.0176,  ..., -0.0178, -0.0242, -0.0831]]],\n",
              "                                                       grad_fn=<NativeLayerNormBackward>),\n",
              "                                                tensor([[[ 2.9374e-01, -1.4677e-01, -3.4253e-01,  ..., -1.4169e-01,\n",
              "                                                           9.8878e-02,  8.1031e-02],\n",
              "                                                         [-4.4012e-01, -1.2271e+00,  3.8615e-01,  ...,  8.7152e-01,\n",
              "                                                          -9.8657e-01,  5.6582e-01],\n",
              "                                                         [ 6.3535e-01, -8.3348e-02,  2.7561e-01,  ...,  6.4695e-01,\n",
              "                                                          -3.2603e-01, -3.2781e-02],\n",
              "                                                         ...,\n",
              "                                                         [ 2.6316e-01,  6.7287e-01,  5.0721e-01,  ...,  1.0261e+00,\n",
              "                                                           5.4840e-02, -2.7243e-02],\n",
              "                                                         [ 5.9721e-01, -6.7560e-01,  2.8532e-01,  ..., -1.9241e-01,\n",
              "                                                          -3.8799e-01,  6.0590e-01],\n",
              "                                                         [-3.7614e-02, -1.7720e-02,  4.6684e-02,  ..., -2.2425e-04,\n",
              "                                                          -5.1696e-02, -9.2683e-02]]], grad_fn=<NativeLayerNormBackward>),\n",
              "                                                tensor([[[ 0.0492,  0.0788, -0.2669,  ..., -0.3705,  0.0101,  0.2130],\n",
              "                                                         [-0.4007, -1.4590,  0.4980,  ...,  0.9864, -0.8772,  0.5600],\n",
              "                                                         [ 0.5443, -0.0798,  0.3897,  ...,  0.4159, -0.0654,  0.2073],\n",
              "                                                         ...,\n",
              "                                                         [ 0.3027,  0.2372,  0.7653,  ...,  0.7683, -0.1517,  0.0885],\n",
              "                                                         [ 0.5083, -0.7061,  0.4554,  ..., -0.0489, -0.4520,  0.5562],\n",
              "                                                         [ 0.0034,  0.0532,  0.0299,  ...,  0.0126, -0.0063, -0.0982]]],\n",
              "                                                       grad_fn=<NativeLayerNormBackward>),\n",
              "                                                tensor([[[ 0.0711, -0.0641, -0.3546,  ..., -0.3039,  0.3913,  0.3941],\n",
              "                                                         [-0.5675, -1.5668,  0.4311,  ...,  1.3727, -0.9859,  0.5095],\n",
              "                                                         [ 0.4755, -0.5323,  0.6243,  ...,  0.6161, -0.2810,  0.6452],\n",
              "                                                         ...,\n",
              "                                                         [ 0.2675,  0.3120,  0.0786,  ...,  0.4458, -0.2986, -0.2639],\n",
              "                                                         [ 0.5145, -1.5217,  0.2757,  ...,  0.4696, -0.7561,  0.3427],\n",
              "                                                         [-0.0192,  0.0800,  0.0288,  ...,  0.0343, -0.0100, -0.0966]]],\n",
              "                                                       grad_fn=<NativeLayerNormBackward>),\n",
              "                                                tensor([[[ 0.0952, -0.2272, -0.3143,  ..., -0.1852,  0.4637,  0.3299],\n",
              "                                                         [-0.7109, -1.4428,  0.4245,  ...,  1.1530, -0.6691,  0.4351],\n",
              "                                                         [ 0.5019, -0.4061,  0.5933,  ...,  0.7385, -0.0187,  0.8554],\n",
              "                                                         ...,\n",
              "                                                         [ 0.0845,  0.6305,  0.2612,  ...,  0.5393, -0.0057, -0.0064],\n",
              "                                                         [ 0.4697, -1.2221,  0.4540,  ...,  0.2181, -0.3805,  0.1850],\n",
              "                                                         [-0.0459,  0.0640,  0.0450,  ..., -0.0192, -0.0190, -0.0678]]],\n",
              "                                                       grad_fn=<NativeLayerNormBackward>),\n",
              "                                                tensor([[[ 0.0602, -0.2831, -0.0806,  ..., -0.0423,  0.2015, -0.0201],\n",
              "                                                         [-0.6314, -1.2200,  0.7676,  ...,  0.8817, -0.6027, -0.1099],\n",
              "                                                         [ 0.2940, -0.0517,  0.8078,  ...,  0.5489, -0.1207,  0.4320],\n",
              "                                                         ...,\n",
              "                                                         [ 0.4212,  0.7286,  0.3514,  ...,  0.5829, -0.2635, -0.1941],\n",
              "                                                         [ 0.0910, -1.0270,  0.3477,  ...,  0.3406, -0.2961, -0.2753],\n",
              "                                                         [-0.0624,  0.0609,  0.0394,  ...,  0.0061, -0.0067, -0.0574]]],\n",
              "                                                       grad_fn=<NativeLayerNormBackward>),\n",
              "                                                tensor([[[ 0.3345, -0.0393,  0.0458,  ...,  0.0241,  0.0804,  0.0365],\n",
              "                                                         [ 0.0278, -0.5531,  0.5972,  ...,  0.2188, -0.1919,  0.0281],\n",
              "                                                         [ 0.2310,  0.1144,  0.2451,  ...,  0.4046, -0.1479,  0.1663],\n",
              "                                                         ...,\n",
              "                                                         [ 0.1710,  0.1697,  0.0063,  ...,  0.2594,  0.0258,  0.0875],\n",
              "                                                         [ 0.2277, -0.3697,  0.1023,  ...,  0.3099, -0.0642, -0.1183],\n",
              "                                                         [ 0.8567,  0.1250, -0.6334,  ...,  0.4787,  0.1390, -0.1556]]],\n",
              "                                                       grad_fn=<NativeLayerNormBackward>)))])"
            ]
          },
          "metadata": {
            "tags": []
          },
          "execution_count": 5
        }
      ]
    },
    {
      "cell_type": "code",
      "metadata": {
        "colab": {
          "base_uri": "https://localhost:8080/"
        },
        "id": "c8P2giakOkse",
        "outputId": "494ad5cf-39d7-43ec-b6c9-ba4e2247a58b"
      },
      "source": [
        "len(outputs.hidden_states)"
      ],
      "execution_count": 6,
      "outputs": [
        {
          "output_type": "execute_result",
          "data": {
            "text/plain": [
              "13"
            ]
          },
          "metadata": {
            "tags": []
          },
          "execution_count": 6
        }
      ]
    },
    {
      "cell_type": "code",
      "metadata": {
        "colab": {
          "base_uri": "https://localhost:8080/"
        },
        "id": "M__3HrbPOplu",
        "outputId": "0ca2ea71-74e1-4667-863d-05625a57b384"
      },
      "source": [
        "# first hidden layer\n",
        "outputs.hidden_states[0].size()"
      ],
      "execution_count": 7,
      "outputs": [
        {
          "output_type": "execute_result",
          "data": {
            "text/plain": [
              "torch.Size([1, 9, 768])"
            ]
          },
          "metadata": {
            "tags": []
          },
          "execution_count": 7
        }
      ]
    },
    {
      "cell_type": "code",
      "metadata": {
        "colab": {
          "base_uri": "https://localhost:8080/"
        },
        "id": "hl4AuiO0Ouws",
        "outputId": "2abbb3bf-1404-4836-8f7e-25df7c6ceeb5"
      },
      "source": [
        "# last hidden layer\n",
        "outputs.hidden_states[-1].size()"
      ],
      "execution_count": 8,
      "outputs": [
        {
          "output_type": "execute_result",
          "data": {
            "text/plain": [
              "torch.Size([1, 9, 768])"
            ]
          },
          "metadata": {
            "tags": []
          },
          "execution_count": 8
        }
      ]
    },
    {
      "cell_type": "markdown",
      "metadata": {
        "id": "tKVnnxaFPBMl"
      },
      "source": [
        "### Vocabulary and Embeddings\n",
        "\n",
        "We want to compare the input and output embeddings for the homonym/homograph word against all words in the vocabulary.\n",
        "\n",
        "We can find the number of words in the vocabulary, and for each position in this range, we can call `tokenizer.convert_ids_to_tokens` to find the equivalent token value.\n",
        "\n",
        "The embedding for each word (without context) is given by the embedding layer in the model. The base embedding corresponding to a given vocabulary word is the just the row identified by its ID."
      ]
    },
    {
      "cell_type": "code",
      "metadata": {
        "colab": {
          "base_uri": "https://localhost:8080/"
        },
        "id": "ApSOBV5TQD-b",
        "outputId": "370adf39-acef-47e6-effb-cc686bc57df6"
      },
      "source": [
        "vocab_size = model.config.vocab_size\n",
        "vocab_size"
      ],
      "execution_count": 9,
      "outputs": [
        {
          "output_type": "execute_result",
          "data": {
            "text/plain": [
              "28996"
            ]
          },
          "metadata": {
            "tags": []
          },
          "execution_count": 9
        }
      ]
    },
    {
      "cell_type": "code",
      "metadata": {
        "colab": {
          "base_uri": "https://localhost:8080/",
          "height": 35
        },
        "id": "oH8J2X3aQLu3",
        "outputId": "4c7c16c4-7c14-4ac5-a51e-a25857f0abf6"
      },
      "source": [
        "tokenizer.convert_ids_to_tokens(np.random.randint(1000, high=vocab_size))"
      ],
      "execution_count": 10,
      "outputs": [
        {
          "output_type": "execute_result",
          "data": {
            "application/vnd.google.colaboratory.intrinsic+json": {
              "type": "string"
            },
            "text/plain": [
              "'Foley'"
            ]
          },
          "metadata": {
            "tags": []
          },
          "execution_count": 10
        }
      ]
    },
    {
      "cell_type": "code",
      "metadata": {
        "colab": {
          "base_uri": "https://localhost:8080/"
        },
        "id": "C2GYPt7SQglo",
        "outputId": "77c5f454-131e-4d3a-e330-f88f754af29d"
      },
      "source": [
        "embedding = model.embeddings.word_embeddings\n",
        "E = embedding.weight\n",
        "E.size()"
      ],
      "execution_count": 11,
      "outputs": [
        {
          "output_type": "execute_result",
          "data": {
            "text/plain": [
              "torch.Size([28996, 768])"
            ]
          },
          "metadata": {
            "tags": []
          },
          "execution_count": 11
        }
      ]
    },
    {
      "cell_type": "markdown",
      "metadata": {
        "id": "q4HdSUjQIekM"
      },
      "source": [
        "## Test Sentences\n",
        "\n"
      ]
    },
    {
      "cell_type": "code",
      "metadata": {
        "id": "ZhkSps3rRZj1"
      },
      "source": [
        "sentences = [\n",
        "  \"Go to the bank and deposit your pay check.\",\n",
        "  \"Jim and Janet went down to the river bank to admire the swans.\"\n",
        "]"
      ],
      "execution_count": 12,
      "outputs": []
    },
    {
      "cell_type": "code",
      "metadata": {
        "colab": {
          "base_uri": "https://localhost:8080/"
        },
        "id": "m3nmutoHJvxX",
        "outputId": "07bff6d4-729c-4bc8-bc2d-76582236f459"
      },
      "source": [
        "def get_token_id(sentence, token, show_tokens=False):\n",
        "  tokens = tokenizer.convert_ids_to_tokens(tokenizer(sentence).input_ids)\n",
        "  idx = [idx for idx, tok in enumerate(tokens) if tok == token]\n",
        "  if show_tokens:\n",
        "    print(tokens)\n",
        "  return -1 if len(idx) == 0 else idx[0]\n",
        "\n",
        "\n",
        "get_token_id(sentences[0], \"bank\", show_tokens=True)"
      ],
      "execution_count": 13,
      "outputs": [
        {
          "output_type": "stream",
          "text": [
            "['[CLS]', 'Go', 'to', 'the', 'bank', 'and', 'deposit', 'your', 'pay', 'check', '.', '[SEP]']\n"
          ],
          "name": "stdout"
        },
        {
          "output_type": "execute_result",
          "data": {
            "text/plain": [
              "4"
            ]
          },
          "metadata": {
            "tags": []
          },
          "execution_count": 13
        }
      ]
    },
    {
      "cell_type": "code",
      "metadata": {
        "colab": {
          "base_uri": "https://localhost:8080/"
        },
        "id": "Jf1CmuQLMjxL",
        "outputId": "cef0c0bb-a063-4cca-d3ae-36829779e03d"
      },
      "source": [
        "def compute_cosine_similarity(x1, x2):\n",
        "  x1 = x1.reshape(1, -1)\n",
        "  x2 = x2.reshape(1, -1)\n",
        "  return torch.nn.CosineSimilarity()(x1, x2).item()\n",
        "\n",
        "\n",
        "x1 = torch.randn(768)\n",
        "x2 = torch.randn(768)\n",
        "compute_cosine_similarity(x1, x2)"
      ],
      "execution_count": 14,
      "outputs": [
        {
          "output_type": "execute_result",
          "data": {
            "text/plain": [
              "-0.011603300459682941"
            ]
          },
          "metadata": {
            "tags": []
          },
          "execution_count": 14
        }
      ]
    },
    {
      "cell_type": "markdown",
      "metadata": {
        "id": "fJIp70vWRDXs"
      },
      "source": [
        "### Cosine Similarity Distributions"
      ]
    },
    {
      "cell_type": "code",
      "metadata": {
        "id": "rAlLpwdlobNd"
      },
      "source": [
        "def compute_cosine_similarities_for_token(sentence, token):\n",
        "  inputs = tokenizer(sentence, return_tensors=\"pt\")\n",
        "  outputs = model(**inputs, output_hidden_states=True)\n",
        "  # size of embeds_*: (sentence_id=1, num_tokens, 768)\n",
        "  embeds_in, embeds_out = outputs.hidden_states[0], outputs.hidden_states[-1]\n",
        "  token_id = get_token_id(sentence, token)\n",
        "  # size of tok_embed_*: (768)\n",
        "  tok_embed_in, tok_embed_out = embeds_in[0, token_id, :], embeds_out[0, token_id, :]\n",
        "  cosims_in = [compute_cosine_similarity(tok_embed_in, E[i]) for i in range(E.size(0))]\n",
        "  cosims_out = [compute_cosine_similarity(tok_embed_out, E[i]) for i in range(E.size(0))]\n",
        "  return cosims_in, cosims_out\n",
        "\n",
        "\n",
        "cosims_in_0, cosims_out_0 = compute_cosine_similarities_for_token(sentences[0], \"bank\")"
      ],
      "execution_count": 15,
      "outputs": []
    },
    {
      "cell_type": "code",
      "metadata": {
        "colab": {
          "base_uri": "https://localhost:8080/",
          "height": 356
        },
        "id": "zj0XfMpbLgDN",
        "outputId": "f34603f4-70bc-4d9c-d0fb-7800c09ecd48"
      },
      "source": [
        "def plot_cosine_similarity_distribution(cosims_in, cosims_out, sentence):\n",
        "  plt.figure(figsize=(10, 5))\n",
        "\n",
        "  plt.subplot(1, 2, 1)\n",
        "  plt.title(\"input embeddings\")\n",
        "  plt.hist(cosims_in, bins=50)\n",
        "  \n",
        "  plt.subplot(1, 2, 2)\n",
        "  plt.title(\"output embeddings\")\n",
        "  plt.hist(cosims_out, bins=50)\n",
        "\n",
        "  plt.suptitle(sentence)\n",
        "  \n",
        "  _ = plt.show()\n",
        "\n",
        "\n",
        "plot_cosine_similarity_distribution(cosims_in_0, cosims_out_0, sentences[0])"
      ],
      "execution_count": 16,
      "outputs": [
        {
          "output_type": "display_data",
          "data": {
            "image/png": "[encoded data removed]",
            "text/plain": [
              "<Figure size 720x360 with 2 Axes>"
            ]
          },
          "metadata": {
            "tags": [],
            "needs_background": "light"
          }
        }
      ]
    },
    {
      "cell_type": "code",
      "metadata": {
        "colab": {
          "base_uri": "https://localhost:8080/",
          "height": 356
        },
        "id": "REHLLHqtNdh1",
        "outputId": "0e9f6b9b-8c61-4caa-8f01-6dc0cb766315"
      },
      "source": [
        "cosims_in_1, cosims_out_1 = compute_cosine_similarities_for_token(sentences[1], \"bank\")\n",
        "plot_cosine_similarity_distribution(cosims_in_1, cosims_out_1, sentences[1])"
      ],
      "execution_count": 17,
      "outputs": [
        {
          "output_type": "display_data",
          "data": {
            "image/png": "[encoded data removed]",
            "text/plain": [
              "<Figure size 720x360 with 2 Axes>"
            ]
          },
          "metadata": {
            "tags": [],
            "needs_background": "light"
          }
        }
      ]
    },
    {
      "cell_type": "markdown",
      "metadata": {
        "id": "-_SkE1u8RGhi"
      },
      "source": [
        "### Top k most similar words\n",
        "\n",
        "Histograms show that the output embeddings have a long tail in both cases. Terms with high contextual similarity to the input ambiguous term are going to be located on this tail.\n",
        "\n",
        "Interestingly the length of the tail becomes shorter in both cases on the output embedding side (regressing to the mean as more information becomes available?).\n",
        "\n",
        "We find contextually similar words based on cosine similarity with the input words. As expected, output embeddings for `bank` in the first sentence show similarity with words related to banking, and output embeddings for `bank` in the second sentence show similarity with words related to river and shore."
      ]
    },
    {
      "cell_type": "code",
      "metadata": {
        "colab": {
          "base_uri": "https://localhost:8080/"
        },
        "id": "MHQbTBlTNn9U",
        "outputId": "663bce01-43fc-47f0-b7c8-e6cedb40ddd8"
      },
      "source": [
        "def get_top_most_similar_words(cosims, k=10, show_scores=True, show_real_words=True):\n",
        "  top_k_idxs = np.argsort(cosims)[::-1][0:k+10]\n",
        "  tokens = tokenizer.convert_ids_to_tokens(top_k_idxs)\n",
        "  if show_scores:\n",
        "    top_scores = [cosims[i] for i in top_k_idxs]\n",
        "    if show_real_words:\n",
        "      return [(token, score) for token, score in zip(tokens, top_scores) if\n",
        "              not(token.startswith(\"[\")) and\n",
        "              not(token.startswith(\"##\")) and\n",
        "              len(token) > 1][0:k]\n",
        "    else:\n",
        "      return [(token, score) for token, score in zip(tokens, top_scores)][0:k]\n",
        "  else:\n",
        "    if show_real_words:\n",
        "      return [token for token in tokens if \n",
        "              not(token.startswith(\"[\")) and \n",
        "              not(token.startswith(\"##\")) and \n",
        "              len(token) > 1][0:k]\n",
        "    else:\n",
        "      return tokens[0:k]\n",
        "\n",
        "\n",
        "get_top_most_similar_words(cosims_in_0)"
      ],
      "execution_count": 18,
      "outputs": [
        {
          "output_type": "execute_result",
          "data": {
            "text/plain": [
              "[('bank', 0.9322858452796936),\n",
              " ('banks', 0.6398346424102783),\n",
              " ('Bank', 0.5244991183280945),\n",
              " ('banking', 0.42404094338417053),\n",
              " ('banker', 0.3195374608039856),\n",
              " ('Banking', 0.27450740337371826),\n",
              " ('Banks', 0.2625081241130829),\n",
              " ('shore', 0.24294957518577576),\n",
              " ('hotel', 0.22805191576480865),\n",
              " ('store', 0.22024661302566528)]"
            ]
          },
          "metadata": {
            "tags": []
          },
          "execution_count": 18
        }
      ]
    },
    {
      "cell_type": "code",
      "metadata": {
        "colab": {
          "base_uri": "https://localhost:8080/"
        },
        "id": "b6J2HmVHYUU_",
        "outputId": "05880251-bec2-4a62-ddd0-c5254553530c"
      },
      "source": [
        "get_top_most_similar_words(cosims_out_0)"
      ],
      "execution_count": 19,
      "outputs": [
        {
          "output_type": "execute_result",
          "data": {
            "text/plain": [
              "[('bank', 0.18816906213760376),\n",
              " ('banker', 0.17837834358215332),\n",
              " ('her', 0.13340264558792114),\n",
              " ('banking', 0.13269563019275665),\n",
              " ('Bank', 0.12636975944042206),\n",
              " ('car', 0.1258864849805832),\n",
              " ('Banking', 0.12153404206037521),\n",
              " ('and', 0.11937716603279114),\n",
              " ('building', 0.11740049719810486),\n",
              " ('the', 0.11648747324943542)]"
            ]
          },
          "metadata": {
            "tags": []
          },
          "execution_count": 19
        }
      ]
    },
    {
      "cell_type": "code",
      "metadata": {
        "colab": {
          "base_uri": "https://localhost:8080/"
        },
        "id": "GMYKblvyR89R",
        "outputId": "9d577b68-a71f-40e2-d1ca-863084597f3e"
      },
      "source": [
        "get_top_most_similar_words(cosims_in_1)"
      ],
      "execution_count": 20,
      "outputs": [
        {
          "output_type": "execute_result",
          "data": {
            "text/plain": [
              "[('bank', 0.9364502429962158),\n",
              " ('banks', 0.644376814365387),\n",
              " ('Bank', 0.5293071269989014),\n",
              " ('banking', 0.42480504512786865),\n",
              " ('banker', 0.32117369771003723),\n",
              " ('Banking', 0.2746722102165222),\n",
              " ('Banks', 0.26500627398490906),\n",
              " ('shore', 0.23942628502845764),\n",
              " ('hotel', 0.23093190789222717),\n",
              " ('store', 0.22488842904567719)]"
            ]
          },
          "metadata": {
            "tags": []
          },
          "execution_count": 20
        }
      ]
    },
    {
      "cell_type": "code",
      "metadata": {
        "colab": {
          "base_uri": "https://localhost:8080/"
        },
        "id": "fjBqIQ6NSDFu",
        "outputId": "07042770-6847-4e62-dd48-8b248d862f1c"
      },
      "source": [
        "get_top_most_similar_words(cosims_out_1)"
      ],
      "execution_count": 21,
      "outputs": [
        {
          "output_type": "execute_result",
          "data": {
            "text/plain": [
              "[('river', 0.15005742013454437),\n",
              " ('bank', 0.14677192270755768),\n",
              " ('shore', 0.14008678495883942),\n",
              " ('the', 0.13924647867679596),\n",
              " ('running', 0.1298357993364334),\n",
              " ('side', 0.128604456782341),\n",
              " ('shoreline', 0.12534601986408234),\n",
              " ('deer', 0.12421098351478577),\n",
              " ('ran', 0.12203148007392883),\n",
              " ('one', 0.12113437801599503)]"
            ]
          },
          "metadata": {
            "tags": []
          },
          "execution_count": 21
        }
      ]
    },
    {
      "cell_type": "code",
      "metadata": {
        "id": "rZi4yRLEUCAk"
      },
      "source": [
        ""
      ],
      "execution_count": 21,
      "outputs": []
    }
  ]
}