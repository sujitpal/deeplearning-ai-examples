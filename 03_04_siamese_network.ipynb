{
  "nbformat": 4,
  "nbformat_minor": 0,
  "metadata": {
    "colab": {
      "name": "03_04_siamese_network.ipynb",
      "provenance": [],
      "collapsed_sections": [],
      "authorship_tag": "ABX9TyORc9MkMI9tQGxjAqTKjThj",
      "include_colab_link": true
    },
    "kernelspec": {
      "name": "python3",
      "display_name": "Python 3"
    },
    "accelerator": "GPU"
  },
  "cells": [
    {
      "cell_type": "markdown",
      "metadata": {
        "id": "view-in-github",
        "colab_type": "text"
      },
      "source": [
        "<a href=\"https://colab.research.google.com/github/sujitpal/nlp-deeplearning-ai-examples/blob/master/03_04_siamese_network.ipynb\" target=\"_parent\"><img src=\"https://colab.research.google.com/assets/colab-badge.svg\" alt=\"Open In Colab\"/></a>"
      ]
    },
    {
      "cell_type": "markdown",
      "metadata": {
        "id": "jDMJfN4vLX5Y",
        "colab_type": "text"
      },
      "source": [
        "## Siamese Network to detect Duplicate Questions\n",
        "\n",
        "We use the [Quora Question Pair Dataset](https://www.kaggle.com/c/quora-question-pairs/data) from Kaggle to build a Siamese Network that predicts if a pair of questions are duplicate or not.\n",
        "\n",
        "We only use the `train.csv` file, containing total of 404,301 labeled question pairs, for our exercise, carving out a validation set for evaluating the model during training, and a test set to evaluate the trained model."
      ]
    },
    {
      "cell_type": "code",
      "metadata": {
        "id": "xvAjXlf5J3LC",
        "colab_type": "code",
        "colab": {
          "base_uri": "https://localhost:8080/",
          "height": 71
        },
        "outputId": "c538125d-bb34-480b-b2bd-133f106bbcd2"
      },
      "source": [
        "# Mount Google Drive\n",
        "from google.colab import drive # import drive from google colab\n",
        "\n",
        "ROOT = \"/content/drive\"     # default location for the drive\n",
        "print(ROOT)                 # print content of ROOT (Optional)\n",
        "\n",
        "drive.mount(ROOT)           # we mount the google drive at /content/drive"
      ],
      "execution_count": 1,
      "outputs": [
        {
          "output_type": "stream",
          "text": [
            "/content/drive\n",
            "Drive already mounted at /content/drive; to attempt to forcibly remount, call drive.mount(\"/content/drive\", force_remount=True).\n"
          ],
          "name": "stdout"
        }
      ]
    },
    {
      "cell_type": "code",
      "metadata": {
        "id": "ZV8B-NKVMFVM",
        "colab_type": "code",
        "colab": {
          "base_uri": "https://localhost:8080/",
          "height": 34
        },
        "outputId": "25f49d28-27e2-439d-dab0-f25f2c5e49e6"
      },
      "source": [
        "%ls \"drive/My Drive/nlp-deeplearning-ai-data/quora-question-pairs.csv\""
      ],
      "execution_count": 2,
      "outputs": [
        {
          "output_type": "stream",
          "text": [
            "'drive/My Drive/nlp-deeplearning-ai-data/quora-question-pairs.csv'\n"
          ],
          "name": "stdout"
        }
      ]
    },
    {
      "cell_type": "code",
      "metadata": {
        "id": "gOorYEc3MT9G",
        "colab_type": "code",
        "colab": {}
      },
      "source": [
        "DATA_DIR = \"drive/My Drive/nlp-deeplearning-ai-data\""
      ],
      "execution_count": 3,
      "outputs": []
    },
    {
      "cell_type": "code",
      "metadata": {
        "id": "pisjBsspMeIk",
        "colab_type": "code",
        "colab": {}
      },
      "source": [
        "import matplotlib.pyplot as plt\n",
        "import numpy as np\n",
        "import os\n",
        "import pandas as pd\n",
        "\n",
        "import torch\n",
        "import torch.nn as nn\n",
        "import torch.nn.functional as F\n",
        "\n",
        "from sklearn.feature_extraction.text import CountVectorizer\n",
        "from sklearn.model_selection import train_test_split\n",
        "from sklearn.metrics import accuracy_score, confusion_matrix, mean_squared_error\n",
        "\n",
        "from torch.utils.data import Dataset, DataLoader\n",
        "\n",
        "%matplotlib inline"
      ],
      "execution_count": 4,
      "outputs": []
    },
    {
      "cell_type": "markdown",
      "metadata": {
        "id": "SI4qhWSbR5Se",
        "colab_type": "text"
      },
      "source": [
        "### Explore Data"
      ]
    },
    {
      "cell_type": "code",
      "metadata": {
        "id": "RuNc8jLMMhvD",
        "colab_type": "code",
        "colab": {
          "base_uri": "https://localhost:8080/",
          "height": 204
        },
        "outputId": "8a34a508-114a-491a-a4c5-f6c2d775d869"
      },
      "source": [
        "qpairs_df = pd.read_csv(os.path.join(DATA_DIR, \"quora-question-pairs.csv\"))\n",
        "qpairs_df = qpairs_df.dropna(subset=[\"question1\", \"question2\"])\n",
        "# qpairs_df = qpairs_df[0:5000]\n",
        "qpairs_df.head()"
      ],
      "execution_count": 5,
      "outputs": [
        {
          "output_type": "execute_result",
          "data": {
            "text/html": [
              "<div>\n",
              "<style scoped>\n",
              "    .dataframe tbody tr th:only-of-type {\n",
              "        vertical-align: middle;\n",
              "    }\n",
              "\n",
              "    .dataframe tbody tr th {\n",
              "        vertical-align: top;\n",
              "    }\n",
              "\n",
              "    .dataframe thead th {\n",
              "        text-align: right;\n",
              "    }\n",
              "</style>\n",
              "<table border=\"1\" class=\"dataframe\">\n",
              "  <thead>\n",
              "    <tr style=\"text-align: right;\">\n",
              "      <th></th>\n",
              "      <th>id</th>\n",
              "      <th>qid1</th>\n",
              "      <th>qid2</th>\n",
              "      <th>question1</th>\n",
              "      <th>question2</th>\n",
              "      <th>is_duplicate</th>\n",
              "    </tr>\n",
              "  </thead>\n",
              "  <tbody>\n",
              "    <tr>\n",
              "      <th>0</th>\n",
              "      <td>0</td>\n",
              "      <td>1</td>\n",
              "      <td>2</td>\n",
              "      <td>What is the step by step guide to invest in sh...</td>\n",
              "      <td>What is the step by step guide to invest in sh...</td>\n",
              "      <td>0</td>\n",
              "    </tr>\n",
              "    <tr>\n",
              "      <th>1</th>\n",
              "      <td>1</td>\n",
              "      <td>3</td>\n",
              "      <td>4</td>\n",
              "      <td>What is the story of Kohinoor (Koh-i-Noor) Dia...</td>\n",
              "      <td>What would happen if the Indian government sto...</td>\n",
              "      <td>0</td>\n",
              "    </tr>\n",
              "    <tr>\n",
              "      <th>2</th>\n",
              "      <td>2</td>\n",
              "      <td>5</td>\n",
              "      <td>6</td>\n",
              "      <td>How can I increase the speed of my internet co...</td>\n",
              "      <td>How can Internet speed be increased by hacking...</td>\n",
              "      <td>0</td>\n",
              "    </tr>\n",
              "    <tr>\n",
              "      <th>3</th>\n",
              "      <td>3</td>\n",
              "      <td>7</td>\n",
              "      <td>8</td>\n",
              "      <td>Why am I mentally very lonely? How can I solve...</td>\n",
              "      <td>Find the remainder when [math]23^{24}[/math] i...</td>\n",
              "      <td>0</td>\n",
              "    </tr>\n",
              "    <tr>\n",
              "      <th>4</th>\n",
              "      <td>4</td>\n",
              "      <td>9</td>\n",
              "      <td>10</td>\n",
              "      <td>Which one dissolve in water quikly sugar, salt...</td>\n",
              "      <td>Which fish would survive in salt water?</td>\n",
              "      <td>0</td>\n",
              "    </tr>\n",
              "  </tbody>\n",
              "</table>\n",
              "</div>"
            ],
            "text/plain": [
              "   id  qid1  ...                                          question2 is_duplicate\n",
              "0   0     1  ...  What is the step by step guide to invest in sh...            0\n",
              "1   1     3  ...  What would happen if the Indian government sto...            0\n",
              "2   2     5  ...  How can Internet speed be increased by hacking...            0\n",
              "3   3     7  ...  Find the remainder when [math]23^{24}[/math] i...            0\n",
              "4   4     9  ...            Which fish would survive in salt water?            0\n",
              "\n",
              "[5 rows x 6 columns]"
            ]
          },
          "metadata": {
            "tags": []
          },
          "execution_count": 5
        }
      ]
    },
    {
      "cell_type": "code",
      "metadata": {
        "id": "YiAcNd0XMriB",
        "colab_type": "code",
        "colab": {
          "base_uri": "https://localhost:8080/",
          "height": 68
        },
        "outputId": "63af4bd1-6ea8-4339-866b-507614f9b437"
      },
      "source": [
        "qpairs_df[\"is_duplicate\"].value_counts()"
      ],
      "execution_count": 6,
      "outputs": [
        {
          "output_type": "execute_result",
          "data": {
            "text/plain": [
              "0    255024\n",
              "1    149263\n",
              "Name: is_duplicate, dtype: int64"
            ]
          },
          "metadata": {
            "tags": []
          },
          "execution_count": 6
        }
      ]
    },
    {
      "cell_type": "markdown",
      "metadata": {
        "id": "tT2HgJqVR85t",
        "colab_type": "text"
      },
      "source": [
        "### Split and Vectorize Data "
      ]
    },
    {
      "cell_type": "code",
      "metadata": {
        "id": "w2hkMec_MxBe",
        "colab_type": "code",
        "colab": {
          "base_uri": "https://localhost:8080/",
          "height": 34
        },
        "outputId": "b0405e3b-e245-41d5-99e9-1c9cfa4db67e"
      },
      "source": [
        "qpairs_tv, qpairs_test = train_test_split(qpairs_df, test_size=0.1, \n",
        "                                          stratify=qpairs_df[\"is_duplicate\"], \n",
        "                                          random_state=0)\n",
        "qpairs_train, qpairs_val = train_test_split(qpairs_tv, test_size=0.1, \n",
        "                                            stratify=qpairs_tv[\"is_duplicate\"],\n",
        "                                            random_state=0)\n",
        "\n",
        "len(qpairs_train), len(qpairs_val), len(qpairs_test)"
      ],
      "execution_count": 7,
      "outputs": [
        {
          "output_type": "execute_result",
          "data": {
            "text/plain": [
              "(327472, 36386, 40429)"
            ]
          },
          "metadata": {
            "tags": []
          },
          "execution_count": 7
        }
      ]
    },
    {
      "cell_type": "code",
      "metadata": {
        "id": "k6wplLzcN3Xy",
        "colab_type": "code",
        "colab": {
          "base_uri": "https://localhost:8080/",
          "height": 34
        },
        "outputId": "0bbb0663-0b39-4c86-9d47-d2d1fdbc6916"
      },
      "source": [
        "vec = CountVectorizer(lowercase=True)\n",
        "questions = []\n",
        "\n",
        "vec.fit(np.concatenate([qpairs_train[\"question1\"].values, \n",
        "                        qpairs_train[\"question2\"].values], axis=0))\n",
        "len(vec.vocabulary_)"
      ],
      "execution_count": 8,
      "outputs": [
        {
          "output_type": "execute_result",
          "data": {
            "text/plain": [
              "78471"
            ]
          },
          "metadata": {
            "tags": []
          },
          "execution_count": 8
        }
      ]
    },
    {
      "cell_type": "code",
      "metadata": {
        "id": "qTtPFdsFQHmt",
        "colab_type": "code",
        "colab": {}
      },
      "source": [
        "word2idx = {w:i+2 for i, w in enumerate(vec.vocabulary_)}\n",
        "word2idx[\"PAD\"] = 0\n",
        "word2idx[\"UNK\"] = 1\n",
        "idx2word = {v:k for k, v in word2idx.items()}"
      ],
      "execution_count": 9,
      "outputs": []
    },
    {
      "cell_type": "markdown",
      "metadata": {
        "id": "ndzv3EhVSd3Z",
        "colab_type": "text"
      },
      "source": [
        "### Sequence Length Determination"
      ]
    },
    {
      "cell_type": "code",
      "metadata": {
        "id": "2FtChf7LRtTe",
        "colab_type": "code",
        "colab": {
          "base_uri": "https://localhost:8080/",
          "height": 34
        },
        "outputId": "2a43038e-e3e8-4603-ae68-d37d7b9cf96c"
      },
      "source": [
        "lengths = []\n",
        "lengths.extend([len(q.split()) for q in qpairs_df[\"question1\"].values])\n",
        "lengths.extend([len(q.split()) for q in qpairs_df[\"question2\"].values])\n",
        "\n",
        "np.percentile(lengths, [75, 80, 90, 95, 99])"
      ],
      "execution_count": 10,
      "outputs": [
        {
          "output_type": "execute_result",
          "data": {
            "text/plain": [
              "array([13., 14., 18., 23., 31.])"
            ]
          },
          "metadata": {
            "tags": []
          },
          "execution_count": 10
        }
      ]
    },
    {
      "cell_type": "code",
      "metadata": {
        "id": "5y4Sxix7bAd0",
        "colab_type": "code",
        "colab": {}
      },
      "source": [
        "maxlen = 35"
      ],
      "execution_count": 11,
      "outputs": []
    },
    {
      "cell_type": "markdown",
      "metadata": {
        "id": "NWkr88_TVa7h",
        "colab_type": "text"
      },
      "source": [
        "### Dataset and DataLoader"
      ]
    },
    {
      "cell_type": "code",
      "metadata": {
        "id": "c0P2z_DPTiik",
        "colab_type": "code",
        "colab": {
          "base_uri": "https://localhost:8080/",
          "height": 34
        },
        "outputId": "dbdac7fc-1c51-41a5-8228-69ef8e7484ef"
      },
      "source": [
        "class QuestionDataset(Dataset):\n",
        "\n",
        "  def __init__(self, dataframe, word2index, maxlen):\n",
        "    super(QuestionDataset, self).__init__()\n",
        "    self.dataframe = dataframe\n",
        "    self.word2index = word2index\n",
        "    self.maxlen = maxlen\n",
        "\n",
        "  def __len__(self):\n",
        "    return len(self.dataframe)\n",
        "\n",
        "  def __getitem__(self, idx):\n",
        "    # extract data points for idx\n",
        "    q1, q2, label = self.dataframe.iloc[idx][[\"question1\", \"question2\", \"is_duplicate\"]]\n",
        "    # convert strings to int sequence, truncate and/or pad\n",
        "    w1 = [self._lookup(w) for w in q1.lower().split()]\n",
        "    if len(w1) > self.maxlen:\n",
        "      w1 = w1[0:self.maxlen]\n",
        "    else:\n",
        "      w1.extend([self.word2index[\"PAD\"]] * (self.maxlen - len(w1)))\n",
        "    w2 = [self._lookup(w) for w in q2.lower().split()]\n",
        "    if len(w2) > self.maxlen:\n",
        "      w2 = w2[0:self.maxlen]\n",
        "    else:\n",
        "      w2.extend([self.word2index[\"PAD\"]] * (self.maxlen - len(w2)))\n",
        "    # convert to tensors\n",
        "    t1 = torch.tensor(w1, dtype=torch.long)\n",
        "    t2 = torch.tensor(w2, dtype=torch.long)\n",
        "    tl = torch.tensor(label, dtype=torch.long)\n",
        "    return (t1, t2, tl)\n",
        "\n",
        "  def _lookup(self, w):\n",
        "    try:\n",
        "      return self.word2index[w]\n",
        "    except KeyError:\n",
        "      return self.word2index[\"UNK\"]\n",
        "\n",
        "train_ds = QuestionDataset(qpairs_train, word2idx, maxlen)\n",
        "val_ds = QuestionDataset(qpairs_val, word2idx, maxlen)\n",
        "test_ds = QuestionDataset(qpairs_test, word2idx, maxlen)\n",
        "\n",
        "len(train_ds), len(val_ds), len(test_ds)"
      ],
      "execution_count": 12,
      "outputs": [
        {
          "output_type": "execute_result",
          "data": {
            "text/plain": [
              "(327472, 36386, 40429)"
            ]
          },
          "metadata": {
            "tags": []
          },
          "execution_count": 12
        }
      ]
    },
    {
      "cell_type": "code",
      "metadata": {
        "id": "M09ALBRabHU7",
        "colab_type": "code",
        "colab": {}
      },
      "source": [
        "batch_size = 128"
      ],
      "execution_count": 13,
      "outputs": []
    },
    {
      "cell_type": "code",
      "metadata": {
        "id": "6zU9pujLXVzr",
        "colab_type": "code",
        "colab": {}
      },
      "source": [
        "train_dl = DataLoader(train_ds, batch_size=batch_size, shuffle=True, num_workers=4)\n",
        "val_dl = DataLoader(val_ds, batch_size=batch_size, shuffle=False, num_workers=4)\n",
        "test_dl = DataLoader(test_ds, batch_size=batch_size, shuffle=False, num_workers=4)"
      ],
      "execution_count": 14,
      "outputs": []
    },
    {
      "cell_type": "markdown",
      "metadata": {
        "id": "IlbbvednbWrq",
        "colab_type": "text"
      },
      "source": [
        "### Network"
      ]
    },
    {
      "cell_type": "code",
      "metadata": {
        "id": "Na0aIvada7wA",
        "colab_type": "code",
        "colab": {}
      },
      "source": [
        "class SiameseNetwork(nn.Module):\n",
        "  def __init__(self, vocab_size, embed_size, hidden_size, output_size, num_layers):\n",
        "    super(SiameseNetwork, self).__init__()\n",
        "    self.embedding = nn.Embedding(vocab_size, embed_size, padding_idx=0)\n",
        "    self.dropout = nn.Dropout(0.2)\n",
        "    self.lstm = nn.LSTM(embed_size, hidden_size, num_layers=num_layers, \n",
        "                        batch_first=True)\n",
        "    self.linear = nn.Linear(hidden_size, output_size)\n",
        "\n",
        "  def forward(self, x1, x2, states):\n",
        "    x1, states = self._forward_single(x1, states)\n",
        "    x2, states = self._forward_single(x2, states)\n",
        "    return x1, x2, states\n",
        "\n",
        "  def _forward_single(self, x, states):\n",
        "    x = self.embedding(x)\n",
        "    x = self.dropout(x)\n",
        "    x, states = self.lstm(x, states)\n",
        "    x = self.linear(x[:, -1, :])\n",
        "    return x, states"
      ],
      "execution_count": 15,
      "outputs": []
    },
    {
      "cell_type": "code",
      "metadata": {
        "id": "nGUifBW9oZtM",
        "colab_type": "code",
        "colab": {
          "base_uri": "https://localhost:8080/",
          "height": 119
        },
        "outputId": "7f438239-6fc1-414c-fa8a-19fbd18302fd"
      },
      "source": [
        "embed_size = 300\n",
        "hidden_size = 50\n",
        "output_size = 1\n",
        "num_layers = 3\n",
        "\n",
        "net = SiameseNetwork(len(word2idx), embed_size, hidden_size, output_size, num_layers)\n",
        "print(net)"
      ],
      "execution_count": 16,
      "outputs": [
        {
          "output_type": "stream",
          "text": [
            "SiameseNetwork(\n",
            "  (embedding): Embedding(78473, 300, padding_idx=0)\n",
            "  (dropout): Dropout(p=0.2, inplace=False)\n",
            "  (lstm): LSTM(300, 50, num_layers=3, batch_first=True)\n",
            "  (linear): Linear(in_features=50, out_features=1, bias=True)\n",
            ")\n"
          ],
          "name": "stdout"
        }
      ]
    },
    {
      "cell_type": "code",
      "metadata": {
        "id": "zoAUHOLao1DQ",
        "colab_type": "code",
        "colab": {}
      },
      "source": [
        "dev = torch.device(\"cuda\" if torch.cuda.is_available() else \"cpu\")\n",
        "net = net.to(dev)"
      ],
      "execution_count": 17,
      "outputs": []
    },
    {
      "cell_type": "markdown",
      "metadata": {
        "id": "es4tMiAplaYj",
        "colab_type": "text"
      },
      "source": [
        "### Self-test"
      ]
    },
    {
      "cell_type": "code",
      "metadata": {
        "id": "rf9vtzWYhqVC",
        "colab_type": "code",
        "colab": {
          "base_uri": "https://localhost:8080/",
          "height": 34
        },
        "outputId": "4544f3be-2db6-465b-c225-74a486655c8d"
      },
      "source": [
        "with torch.no_grad():\n",
        "  state = None\n",
        "  for inputs1, inputs2, labels in train_dl:\n",
        "    inputs1, inputs2, labels = inputs1.to(dev), inputs2.to(dev), labels.to(dev)\n",
        "    outputs1, outputs2, _ = net(inputs1, inputs2, state)\n",
        "    break\n",
        "outputs1.shape, outputs2.shape"
      ],
      "execution_count": 18,
      "outputs": [
        {
          "output_type": "execute_result",
          "data": {
            "text/plain": [
              "(torch.Size([128, 1]), torch.Size([128, 1]))"
            ]
          },
          "metadata": {
            "tags": []
          },
          "execution_count": 18
        }
      ]
    },
    {
      "cell_type": "markdown",
      "metadata": {
        "id": "urOnXEmvliXz",
        "colab_type": "text"
      },
      "source": [
        "### Training Loop"
      ]
    },
    {
      "cell_type": "code",
      "metadata": {
        "id": "hQyPnwJ2nJ4W",
        "colab_type": "code",
        "colab": {}
      },
      "source": [
        "class ContrastiveLoss(torch.nn.Module):\n",
        "    \"\"\"\n",
        "    Contrastive loss function.\n",
        "    From: https://gist.github.com/harveyslash/725fcc68df112980328951b3426c0e0b#file-contrastive-loss-py\n",
        "    Based on: http://yann.lecun.com/exdb/publis/pdf/hadsell-chopra-lecun-06.pdf\n",
        "    \"\"\"\n",
        "    def __init__(self, margin=2.0):\n",
        "        super(ContrastiveLoss, self).__init__()\n",
        "        self.margin = margin\n",
        "\n",
        "    def forward(self, output1, output2, label):\n",
        "        euclidean_distance = F.pairwise_distance(output1, output2)\n",
        "        loss_contrastive = torch.mean((1-label) * torch.pow(euclidean_distance, 2) +\n",
        "                                      (label) * torch.pow(torch.clamp(self.margin - euclidean_distance, min=0.0), 2))\n",
        "        return loss_contrastive\n",
        "\n",
        "\n",
        "def repackage_hidden(h):\n",
        "  \"\"\"\n",
        "    Training loop crashes with weird errors about loss.backward() being run twice\n",
        "    without retaining intermediate results.\n",
        "    Pytorch 1.x way to handle this -- from:\n",
        "    https://stackoverflow.com/questions/48274929/pytorch-runtimeerror-trying-to-backward-through-the-graph-a-second-time-but/48278089#48278089\n",
        "    Wraps hidden states in new Tensors, to detach them from their history.\n",
        "  \"\"\"\n",
        "  if isinstance(h, torch.Tensor):\n",
        "      return h.detach()\n",
        "  else:\n",
        "      return tuple(repackage_hidden(v) for v in h)\n"
      ],
      "execution_count": 19,
      "outputs": []
    },
    {
      "cell_type": "code",
      "metadata": {
        "id": "Ti1toY5Tc6bC",
        "colab_type": "code",
        "colab": {}
      },
      "source": [
        "loss_fn = ContrastiveLoss()\n",
        "optimizer = torch.optim.Adam(net.parameters(), lr=1e-3)"
      ],
      "execution_count": 20,
      "outputs": []
    },
    {
      "cell_type": "code",
      "metadata": {
        "id": "oD6v_smI5iJ0",
        "colab_type": "code",
        "colab": {}
      },
      "source": [
        "def predict(model, dev, inputs1, inputs2, threshold=0.5):\n",
        "  with torch.no_grad():\n",
        "    inputs1, inputs2 = inputs1.to(dev), inputs2.to(dev)\n",
        "    outputs1, outputs2, _ = model(inputs1, inputs2, None)\n",
        "    euc_dists = F.pairwise_distance(outputs1, outputs2)\n",
        "    results = [(1 if x > threshold else 0) for x in euc_dists]\n",
        "  return results\n",
        "\n",
        "\n",
        "def evaluate(model, dev, loader, loss_fn):\n",
        "  state = None\n",
        "  val_loss = 0\n",
        "  y_true, y_pred = [], []\n",
        "  with torch.no_grad():\n",
        "    for inputs1, inputs2, labels in loader:\n",
        "\n",
        "      if len(inputs1) != batch_size:\n",
        "        continue\n",
        "\n",
        "      inputs1, inputs2, labels = inputs1.to(dev), inputs2.to(dev), labels.to(dev)\n",
        "      outputs1, outputs2, _ = model(inputs1, inputs2, state)\n",
        "\n",
        "      val_loss += loss_fn(outputs1, outputs2, labels)\n",
        "      preds = predict(net, dev, inputs1, inputs2)\n",
        "\n",
        "      y_pred.extend(preds)\n",
        "      y_true.extend(labels.detach().cpu().tolist())\n",
        "\n",
        "  val_mse = mean_squared_error(y_pred, y_true)\n",
        "  return val_loss, val_mse\n"
      ],
      "execution_count": 21,
      "outputs": []
    },
    {
      "cell_type": "code",
      "metadata": {
        "id": "AThmflsglvAz",
        "colab_type": "code",
        "colab": {
          "base_uri": "https://localhost:8080/",
          "height": 867
        },
        "outputId": "02e1b358-3196-4218-e741-f36c8f6a2cfd"
      },
      "source": [
        "num_epochs = 50\n",
        "\n",
        "train_losses, train_mses, val_losses, val_mses = [], [], [], []\n",
        "for i in range(1, num_epochs + 1):\n",
        "  \n",
        "  train_loss = 0\n",
        "  y_true, y_pred = [], []\n",
        "  state = None\n",
        "\n",
        "  for inputs1, inputs2, labels in train_dl:\n",
        "\n",
        "    if len(inputs1) != batch_size:\n",
        "      continue\n",
        "\n",
        "    inputs1, inputs2, labels = inputs1.to(dev), inputs2.to(dev), labels.to(dev)\n",
        "\n",
        "    outputs1, outputs2, state = net(inputs1, inputs2, state)\n",
        "    loss = loss_fn(outputs1, outputs2, labels)\n",
        "    train_loss += loss.detach().cpu().item()\n",
        "\n",
        "    preds = predict(net, dev, inputs1, inputs2)\n",
        "\n",
        "    y_pred.extend(preds)\n",
        "    y_true.extend(labels.detach().cpu().tolist())\n",
        "\n",
        "    optimizer.zero_grad()\n",
        "    loss.backward()\n",
        "    optimizer.step()\n",
        "\n",
        "    state = repackage_hidden(state)\n",
        "\n",
        "  # evaluate after epoch\n",
        "  train_mse = mean_squared_error(y_pred, y_true)\n",
        "  val_loss, val_mse = evaluate(net, dev, val_dl, loss_fn)\n",
        "\n",
        "  train_losses.append(train_loss)\n",
        "  train_mses.append(train_mse)\n",
        "  val_losses.append(val_loss)\n",
        "  val_mses.append(val_mse)\n",
        "\n",
        "  print(\"EPOCH {:d}, train loss: {:.3f}, train MSE: {:.3f}, val loss: {:.3f}, val MSE: {:.3f}\"\n",
        "    .format(i, train_loss, train_mse, val_loss, val_mse))\n"
      ],
      "execution_count": 22,
      "outputs": [
        {
          "output_type": "stream",
          "text": [
            "EPOCH 1, train loss: 2756.420, train MSE: 0.473, val loss: 428.516, val MSE: 0.503\n",
            "EPOCH 2, train loss: 2397.987, train MSE: 0.429, val loss: 291.261, val MSE: 0.469\n",
            "EPOCH 3, train loss: 2276.653, train MSE: 0.435, val loss: 224.604, val MSE: 0.436\n",
            "EPOCH 4, train loss: 2171.017, train MSE: 0.400, val loss: 222.746, val MSE: 0.380\n",
            "EPOCH 5, train loss: 1916.555, train MSE: 0.343, val loss: 205.033, val MSE: 0.335\n",
            "EPOCH 6, train loss: 1753.531, train MSE: 0.311, val loss: 202.994, val MSE: 0.348\n",
            "EPOCH 7, train loss: 1690.873, train MSE: 0.292, val loss: 195.330, val MSE: 0.314\n",
            "EPOCH 8, train loss: 1594.057, train MSE: 0.310, val loss: 228.164, val MSE: 0.321\n",
            "EPOCH 9, train loss: 1718.789, train MSE: 0.269, val loss: 245.969, val MSE: 0.287\n",
            "EPOCH 10, train loss: 2132.663, train MSE: 0.280, val loss: 251.892, val MSE: 0.314\n",
            "EPOCH 11, train loss: 2142.762, train MSE: 0.304, val loss: 234.068, val MSE: 0.346\n",
            "EPOCH 12, train loss: 1682.323, train MSE: 0.297, val loss: 220.914, val MSE: 0.326\n",
            "EPOCH 13, train loss: 1660.231, train MSE: 0.267, val loss: 224.622, val MSE: 0.283\n",
            "EPOCH 14, train loss: 1556.439, train MSE: 0.249, val loss: 223.095, val MSE: 0.280\n",
            "EPOCH 15, train loss: 1546.411, train MSE: 0.258, val loss: 208.981, val MSE: 0.301\n",
            "EPOCH 16, train loss: 1520.456, train MSE: 0.256, val loss: 203.160, val MSE: 0.313\n",
            "EPOCH 17, train loss: 1519.678, train MSE: 0.257, val loss: 222.184, val MSE: 0.308\n",
            "EPOCH 18, train loss: 1508.800, train MSE: 0.264, val loss: 197.535, val MSE: 0.315\n",
            "EPOCH 19, train loss: 1472.105, train MSE: 0.235, val loss: 206.000, val MSE: 0.270\n",
            "EPOCH 20, train loss: 1415.386, train MSE: 0.236, val loss: 204.292, val MSE: 0.308\n",
            "EPOCH 21, train loss: 1442.070, train MSE: 0.251, val loss: 203.549, val MSE: 0.312\n",
            "EPOCH 22, train loss: 1431.789, train MSE: 0.257, val loss: 202.787, val MSE: 0.305\n",
            "EPOCH 23, train loss: 1454.083, train MSE: 0.244, val loss: 202.385, val MSE: 0.320\n",
            "EPOCH 24, train loss: 1672.739, train MSE: 0.301, val loss: 221.582, val MSE: 0.341\n",
            "EPOCH 25, train loss: 1575.046, train MSE: 0.277, val loss: 201.621, val MSE: 0.299\n",
            "EPOCH 26, train loss: 1540.523, train MSE: 0.284, val loss: 206.621, val MSE: 0.369\n",
            "EPOCH 27, train loss: 1502.612, train MSE: 0.326, val loss: 222.450, val MSE: 0.370\n",
            "EPOCH 28, train loss: 1517.259, train MSE: 0.331, val loss: 203.991, val MSE: 0.347\n",
            "EPOCH 29, train loss: 1434.613, train MSE: 0.277, val loss: 196.873, val MSE: 0.319\n",
            "EPOCH 30, train loss: 1388.179, train MSE: 0.272, val loss: 194.590, val MSE: 0.328\n",
            "EPOCH 31, train loss: 1367.494, train MSE: 0.275, val loss: 196.179, val MSE: 0.298\n",
            "EPOCH 32, train loss: 1454.593, train MSE: 0.256, val loss: 197.461, val MSE: 0.295\n",
            "EPOCH 33, train loss: 1356.478, train MSE: 0.239, val loss: 195.004, val MSE: 0.297\n",
            "EPOCH 34, train loss: 1341.812, train MSE: 0.232, val loss: 200.899, val MSE: 0.310\n",
            "EPOCH 35, train loss: 1364.321, train MSE: 0.235, val loss: 196.647, val MSE: 0.293\n",
            "EPOCH 36, train loss: 1357.670, train MSE: 0.224, val loss: 205.070, val MSE: 0.329\n",
            "EPOCH 37, train loss: 1714.521, train MSE: 0.261, val loss: 206.453, val MSE: 0.293\n",
            "EPOCH 38, train loss: 1506.653, train MSE: 0.234, val loss: 210.746, val MSE: 0.292\n",
            "EPOCH 39, train loss: 1342.194, train MSE: 0.234, val loss: 201.375, val MSE: 0.311\n",
            "EPOCH 40, train loss: 1309.871, train MSE: 0.241, val loss: 195.305, val MSE: 0.317\n",
            "EPOCH 41, train loss: 1304.762, train MSE: 0.257, val loss: 194.466, val MSE: 0.296\n",
            "EPOCH 42, train loss: 1314.971, train MSE: 0.252, val loss: 204.424, val MSE: 0.330\n",
            "EPOCH 43, train loss: 1302.420, train MSE: 0.235, val loss: 229.410, val MSE: 0.270\n",
            "EPOCH 44, train loss: 1265.853, train MSE: 0.206, val loss: 200.833, val MSE: 0.280\n",
            "EPOCH 45, train loss: 1276.932, train MSE: 0.200, val loss: 209.869, val MSE: 0.266\n",
            "EPOCH 46, train loss: 1257.349, train MSE: 0.229, val loss: 198.337, val MSE: 0.304\n",
            "EPOCH 47, train loss: 1223.500, train MSE: 0.254, val loss: 199.278, val MSE: 0.334\n",
            "EPOCH 48, train loss: 1220.623, train MSE: 0.245, val loss: 207.684, val MSE: 0.312\n",
            "EPOCH 49, train loss: 1211.472, train MSE: 0.236, val loss: 204.458, val MSE: 0.301\n",
            "EPOCH 50, train loss: 1204.632, train MSE: 0.229, val loss: 196.300, val MSE: 0.295\n"
          ],
          "name": "stdout"
        }
      ]
    },
    {
      "cell_type": "code",
      "metadata": {
        "id": "3JbXOxQTlweC",
        "colab_type": "code",
        "colab": {
          "base_uri": "https://localhost:8080/",
          "height": 279
        },
        "outputId": "f748122b-03bf-456f-f802-3852fc5123bc"
      },
      "source": [
        "plt.subplot(2, 1, 1)\n",
        "plt.plot(np.arange(len(train_losses)), train_losses, label=\"train\")\n",
        "plt.plot(np.arange(len(val_losses)), val_losses, label=\"validation\")\n",
        "plt.legend(loc=\"best\")\n",
        "plt.ylabel(\"loss\")\n",
        "\n",
        "plt.subplot(2, 1, 2)\n",
        "plt.plot(np.arange(len(train_mses)), train_mses, label=\"train\")\n",
        "plt.plot(np.arange(len(val_mses)), val_mses, label=\"validation\")\n",
        "plt.legend(loc=\"best\")\n",
        "plt.ylabel(\"MSE\")\n",
        "plt.xlabel(\"epochs\")\n",
        "\n",
        "_ = plt.show()"
      ],
      "execution_count": 23,
      "outputs": [
        {
          "output_type": "display_data",
          "data": {
            "image/png": "[encoded data removed]",
            "text/plain": [
              "<Figure size 432x288 with 2 Axes>"
            ]
          },
          "metadata": {
            "tags": [],
            "needs_background": "light"
          }
        }
      ]
    },
    {
      "cell_type": "markdown",
      "metadata": {
        "id": "X9kmr-6u_H6B",
        "colab_type": "text"
      },
      "source": [
        "### Evaluate Test Set"
      ]
    },
    {
      "cell_type": "code",
      "metadata": {
        "id": "asYucw_u-i1N",
        "colab_type": "code",
        "colab": {
          "base_uri": "https://localhost:8080/",
          "height": 34
        },
        "outputId": "2a2457b1-ca6e-45da-899c-cc6f82869761"
      },
      "source": [
        "_, test_mses = evaluate(net, dev, test_dl, loss_fn)\n",
        "print(\"Mean Square Error on test set: {:.3f}\".format(test_mses))"
      ],
      "execution_count": 24,
      "outputs": [
        {
          "output_type": "stream",
          "text": [
            "Mean Square Error on test set: 0.297\n"
          ],
          "name": "stdout"
        }
      ]
    },
    {
      "cell_type": "code",
      "metadata": {
        "id": "-MHLBJHx_ivj",
        "colab_type": "code",
        "colab": {
          "base_uri": "https://localhost:8080/",
          "height": 1000
        },
        "outputId": "d7d9a4e7-e33a-46a5-a60e-8df8e819b798"
      },
      "source": [
        "preds, labels = None, None\n",
        "for i, (inputs1, inputs2, labels) in enumerate(test_dl):\n",
        "  preds = predict(net, dev, inputs1, inputs2)\n",
        "  labels = labels.detach().numpy().tolist()\n",
        "  batch = qpairs_test[0:batch_size]\n",
        "  q1s = batch[\"question1\"].values\n",
        "  q2s = batch[\"question2\"].values\n",
        "  for q1, q2, pred, label in zip(q1s, q2s, preds, labels):\n",
        "    print(\"{:d} | {:d} | {:30s} | {:30s}\".format(label, pred, q1, q2))\n",
        "  break"
      ],
      "execution_count": 25,
      "outputs": [
        {
          "output_type": "stream",
          "text": [
            "1 | 1 | Which is the best website for writing blogs? | What is the best website to write a blog?\n",
            "1 | 1 | What are the best places to visit on a 3-day trip in and around Kerala? | What are the best places to visit in Kerala for college students?\n",
            "0 | 0 | Where can I download free 220-901 practice test? | Where can I get free aptitude tests?\n",
            "1 | 0 | How can I find out who has logged into my Instagram account? | Can I tell if someone logs into your Instagram account?\n",
            "0 | 1 | How do I hack TP-Link router Wi-Fi to hack its password? | How can I hack router without knowing its password?\n",
            "0 | 0 | Did Einstein say \"Everybody is a genius but if you judge a fish by its ability to climb a tree it'll live its whole life believing that it's stupid\"? | What is the most significant coincidence that has happened in your life?\n",
            "0 | 0 | Is Russia a potential superpower? | What will Russia have to do to become a superpower?\n",
            "0 | 0 | What is the meaning of ACR in context of Indian Navy? | How can I post like Adam D'Angelo on Quora ?\n",
            "0 | 1 | I always saw a girl sitting alone. is there any best way to approach her? | How do you approach a girl you see at a public place?\n",
            "1 | 1 | Would starving yourself make you lose weight faster? | How can starving yourself to lose weight adversely affect your health?\n",
            "0 | 0 | How can I earn a good reputation, gain clients' respect, and instill confidence in me despite me not being an expert in my craft and learning as I go? | This is my first attempt in the BITSAT. My 11th is not so good. I already planned to drop. What would be an ideal score for me so that I would feel confident after dropping?\n",
            "0 | 1 | What's the best thing to do if you want to wake up early even if you're really tired? | If you wake up as Supergirl, what's the first thing you’d do?\n",
            "1 | 1 | What are the reasons why cats bite and knead blankets? | Why do cats knead blankets and other fabrics?\n",
            "0 | 0 | How did Hodor grew up with that name, when the incident of holding the door happened in the present? | Why did Hodor start Hodoring before the act of holding the door? What happens to young Hodor in Bran’s vision when the old one hears “Hold the Door”?\n",
            "0 | 0 | When will Game of Thrones Season 7 air in India? | When is the release date of Games of Thrones S6?\n",
            "0 | 1 | What is sex?                   | What does gay sex feel like?  \n",
            "0 | 0 | The Flatiron School says they can discontinue their Learn Verified program without owing a refund to participants (learn.co/tos). Is that accurate? | Trying to decide between Firehose Project, Viking Code School Flex program and Flatiron Learn-Verified? What would be the best choice and why?\n",
            "1 | 1 | What is the best book to read to learn Java? | Which book is better for learning Core JAVA?\n",
            "0 | 1 | When will Pokémon GO be available in India? | Is Pokémon GO available in India?\n",
            "0 | 1 | When will Pokémon GO release in Nepal? | When will Pokémon GO be released in China?\n",
            "0 | 1 | Is Engineering position a knowledge professional in Mckinsey? | Who are the Top 10 directors of all time according to Robert Frost?\n",
            "1 | 1 | What are the effects of demonitization of 500 and 1000 rupees notes on real estate sector? | What will the real estate look like now after the 500 and 1000 scraping?\n",
            "0 | 0 | What is it like to go to school with Malia Obama? | Do blind-deaf kids go to school?\n",
            "1 | 1 | Why did god create humans?     | Why did God create us?        \n",
            "1 | 1 | If one of your wish could become reality,what would you wish for ? | If you could have one wish what would it be?\n",
            "0 | 0 | I forgot my MI Account username and password. How to delete that account in Xiaomi Redmi Note 3? | Is Cash on Delivery option available for Xiaomi Redmi note 3 in mi.com for the flash sale?\n",
            "0 | 0 | What is the procedure to join CBI/RAW/IB/JCB? | Do IAS officers get jobs in CBI, RAW, or the Intelligence Bureau? If so, how?\n",
            "0 | 0 | How do I calculate H3O+ of a 0.150 M acetic acid solution? | Can ethanal be oxidised to form acetic acid?\n",
            "0 | 0 | What is the best Python server/client API for game development like Kryonet in Java? | Which coding language is the best for servers? PHP, Python, Java or Ruby?\n",
            "1 | 0 | How do I make Thai curry?      | What is the best way to make thai curry?\n",
            "1 | 0 | Is there any scientific reason why women are not allowed inside temples or water plants during their periods? | Why are women not allowed to enter temple during periods?\n",
            "0 | 0 | What is the selection procedure of IOCL for Chartered Accountants? | How can I take preparation for a global graduate program of an apparel company?\n",
            "0 | 1 | Will a Prega News pregnancy test show accurate results 7 days after having sex? | What are the signs of pregnancy after two weeks?\n",
            "1 | 1 | Despite so many mass shootings, including in schools, why aren’t there stronger gun control laws in the USA? | When is the U.S. going to emplace gun control laws from all of the mass shootings?\n",
            "0 | 0 | What happened with lower density gas enter to the multistage centrifugal compressor suction? | What happens if you heat a closed water container with regard to density? If the volume of the container can't increase.\n",
            "1 | 1 | Which one do you prefer watching over and over: Game of Thrones or The Lord of the Rings? | Which one do you prefer, The Lord of the Rings or Game of Thrones?\n",
            "0 | 0 | How do I prepare for the 12th physics CBSE board exam, as I didn't do anything till now? | How do I revise and study physics for 12th CBSE boards 2016 in 3 days before exam?\n",
            "0 | 1 | Is there a way to extract email addresses from all emails in my Gmail account? | How can I remove my Gmail account from a device?\n",
            "1 | 1 | Do worm holes exist?           | Does wormholes really exist?  \n",
            "1 | 1 | What is an easy way to learn Java? | What is the best way to learn Java programming?\n",
            "1 | 0 | Why are there few Russians in Quora? | Why are there so few Russians on Quora?\n",
            "1 | 1 | What are the famous tourism places in Pakistan? | What are the places to visit in Pakistan?\n",
            "0 | 0 | What do the French think of the English? | What do Germans think of the English?\n",
            "0 | 0 | What is the importance of writing a research paper? | How is the natural frequency of a healthy skin determined? I would like to know if there are any papers published on it.\n",
            "0 | 0 | If China controls Spratly Islands, will Japan be threatened? | If the Chinese company Shuanghui buys Smithfield, the US's largest pork products supplier, will US pork prices go up because more of Smithfield's output will be sold in China?\n",
            "0 | 0 | Why is violent racism so much more prevalent in Europe and America than in other parts of the world? | Why are the airfares in Europe so much more competitive than in US?\n",
            "1 | 1 | Why do people hate Hillary Clinton? | Why do people hate Hilary Clinton?\n",
            "0 | 0 | can I use magnets to push an object in motion away from another object in motion using repulsion? | Can I process (digital image\\video processing) a live video stream from a camera to detect motion & calculate object distances from camera in real time?\n",
            "0 | 1 | What are some of the best straight edge razors? | Can you fight with a straight edge razor?\n",
            "0 | 0 | What could/should the future of the internet in Canada be like? | What's the future of the internet?\n",
            "1 | 1 | What are some spices similar to cumin and how are they used? | What are some spices similar to cumin? What are some examples on how they can be used in recipes?\n",
            "0 | 0 | Can I still upgrade to Windows 10 for free after the deadline on July 29th? | After the 29th June 2016, can I still upgrade my Windows 7, 8, 8.1 machine to Windows 10 for free?\n",
            "0 | 1 | How much time does TCS take to assign a project to a fresher? | Which is the best SEO agency / company in Dubai?\n",
            "0 | 0 | What would be the ranks given to different countries based on their defence technology? | I have designed an india-based car pool app. I would like to launch the same app in different countries. What are the steps I need to take?\n",
            "0 | 1 | People that yell and blow things out of proportion are they using this as a tactic to avoid disagreements (honest and clear communication) or are they just overly emotional and unaware? Do you think they are using this screaming tactic as a long term strategy? | How can I stop thinking unnecessarily while I am studying?\n",
            "0 | 1 | Can I get paid for doing quesstionarres? | How can you do nothing and get paid for it?\n",
            "0 | 1 | How many derivatives of an object's position with respect to time have to be continuous? | When does drawing become fun? \n",
            "0 | 1 | Why isn't Quora as popular as the likes of Facebook and Twitter even though it is far more interesting? | Why isn't Quora as big as Facebook?\n",
            "0 | 0 | Which form of government do most countries have? | In terms of geography, which country is the most difficult to govern?\n",
            "0 | 0 | Is the KTM RC 200 a single-seater or a double-seater? | Is the KTM RC 200 worth buying?\n",
            "1 | 1 | What will happen if supreme court removes the ban on 500 and 1000 rupees note? | Can the Supreme Court of India interfere on the banned of 500 and 1000 notes by the government?\n",
            "0 | 1 | How can we know that a girlfriend is looking for sex? How do they give signals for sex? | Do women or men want sex more? If so, biologically or culturally?\n",
            "1 | 1 | What users asked the most questions on Quora? | Who had asked the most questions in Quora?\n",
            "1 | 1 | What do you hate on Quora?     | What do you absolutely hate about Quora?\n",
            "0 | 0 | How can I learn to speak a language fluently? | How do I quickly and efficiently learn a new language?\n",
            "0 | 1 | How can I teach my child to be persistent? | What are the best ways to teach your child?\n",
            "0 | 0 | What will happen if someone hacks all the banks in world and debit all the money and credit 1 million dollars in all accounts? | What would happen if all the world's billionaires gave $1 dollar to start a foundation?\n",
            "0 | 0 | What products can be manufactured from potatoes? | What are some examples of bulky and expensive new products that can be ordered online straight from the manufacturers' Web Shops?\n",
            "0 | 1 | How can I make my life better again? | How can I make my life better?\n",
            "1 | 0 | When does a boiler require 2 blowdown lines? | When will the boiler require 2 blowdown lines?\n",
            "0 | 0 | What is the difference between drawing power and an outstanding amount of a bank loan? | What should be the minimum annual income to apply for any amount of loan in bank?\n",
            "0 | 1 | How do you ask out a co worker who is never alone at work? | How do I ask a co-worker out for a date?\n",
            "0 | 1 | How do I connect a Galaxy S3 to an USB? | What would happen if Quora existed in the middle-ages?\n",
            "0 | 0 | How did Jawaharlal Nehru die? Was it really a sexually transmittable disease? | Did Lord Mountbatten control Pandit Jawaharlal Nehru using his wife or was it other way around?\n",
            "0 | 1 | Will Hourman be back on DC's Legends of Tomorrow? | What's so good about DC's Legends of Tomorrow?\n",
            "0 | 1 | What is the easiest way to commit suicide? | What is the cheapest, painless, easiest way to commit suicide?\n",
            "0 | 1 | How can something come out of nothing, as per the Big Bang Theory? | Is the Big Bang nothing more than a phase change?\n",
            "0 | 0 | I am a pre-medical student and kind of homesick. I want to go to another city far away from my home in order to study in the best academy, but I have a very limited time. Also, hostel problems scare me. What should I do? | I am a 12th pass student of science. I am preparing for medical entrances. I also want to become an astronaut. What should I do in the future?\n",
            "1 | 0 | Which is the better place to live: Tamil Nadu, Kerala or Goa, and why? | Which is the better place to live: Goa or Kerala?\n",
            "0 | 0 | Which is the best choice in life when your teenager, to be served or to be happy? | Which is the best eye glasses lens for single vision spherical among crizal, zeiss and swisscoatt?\n",
            "1 | 1 | How real are the TV reality shows? | What is the reality of reality shows?\n",
            "1 | 0 | What do you think are some industries ripe for disruption? | What industries are ripe for disruption?\n",
            "1 | 1 | How do I get funding to turn my idea into a reality? | How can I get funds to turn my idea into a reality?\n",
            "0 | 0 | Why is Donald Trump interested to meet (make a deal with) Kim Jong-un? What does Kim Jong-un need that Trump, if elected President, could deliver? | Can Kim Jong-Un travel to the United States?\n",
            "1 | 1 | Why do some completely straight forward questions get marked by Quora as needing improvement and what can you do about it? | Why does Quora mark so many questions as needing improvement?\n",
            "1 | 0 | Can dogs eat rye bread? What are the health effects? | Can dogs eat bread?           \n",
            "0 | 1 | What are the effects that air strikes have on the environment? | What is the effect of culture on environment?\n",
            "1 | 1 | What are the symptoms and repercussions of bipolar disorder? | What are the symptoms of bipolar disorder and how to fight it?\n",
            "1 | 1 | What factors led to the Industrial Revolution? How did the Industrial Revolution affect the U.S.? | What were the causes of the Industrial Revolution?\n",
            "1 | 1 | Who is your favourite person in your family and why? | Who is your favorite person in family? And why?\n",
            "0 | 0 | What is the responsibility of SAP ERP key user? | What is a qualified SAP ERP key user?\n",
            "0 | 0 | Why are African-Americans so beautiful? | Why are hispanics so beautiful?\n",
            "1 | 1 | How do you know if you know yourself? | How can you be yourself when you don't know yourself?\n",
            "1 | 1 | What was the craziest thing you have done? | What is the craziest thing you have ever done? And why did you do it?\n",
            "0 | 0 | How do I port forward Alcatel Link Zone MW40CJ? | Has any Muslim have read 'Heretic' by aayan harsi Ali?\n",
            "1 | 0 | Is SRM ramapuram worth going through a management quota? | Should I go to SRM through the management quota?\n",
            "1 | 1 | How can I find out how long two people have been friends for on Facebook? | How do you find out how long two people have been friends on facebook?\n",
            "0 | 0 | What are the examples of unsaturated hydrocarbon? | What are some examples of the uses of hydrocarbon?\n",
            "0 | 0 | Arrow (TV series): Is there any reason why they changed Sara Lance's actor in Arrow? | Who other than me hates Laurel Lance from the American Television Series Arrow?\n",
            "0 | 0 | What is your advice for a 25 year old guy who is broken and see no hope in his future? | I am 18 years girl does need parents declaration in passport office?\n",
            "0 | 1 | Is there a possibility that we actually are existing within a programmed platform? | Are we living in a matrix?    \n",
            "0 | 0 | What is the deep/dark web and how do you access it? | What is the best way or the best software to access the deep/dark web?\n",
            "1 | 1 | Is there any scientific evidence of life extending after death? | What evidence supports life after death?\n",
            "1 | 0 | Hostel facilities at IIT mandi? | How is the hostel life and campus life at IIT Mandi? At what level is ragging at IIT Mandi?\n",
            "1 | 0 | Why we don't believe in ourselves? | Why I don't believe in myself?\n",
            "0 | 0 | How do I prapare for hr interview? | How many types of engine?     \n",
            "0 | 0 | Can Chinese travel abroad without government approval? | How do I travel abroad secretly?\n",
            "1 | 1 | Music: What's your favourite song at the moment? | What's your favorite song right now?\n",
            "0 | 1 | How can I disable the new features of Android studio 2.2? | How do you handle conflicts?  \n",
            "0 | 0 | Why do guys set their hair to impress girls? | How can a Chinese guy impress a caucasian girl?\n",
            "0 | 0 | Can a private limited company take loans from a shareholder (who is not a director) under the provisions of the Companies Act, 2013? | What is the summary of the provisions relating to loans given to and taken from shareholders and directors under the Companies Act, 2013?\n",
            "0 | 0 | Who are the best people on the Internet to follow if I'm interested in astrobiology? | Who are the best people on the Internet to follow if I'm interested in aging?\n",
            "0 | 0 | What are some ways to use Moga controllers on a PC? | I have a Sony PS3 wireless controller, and I want to use it with a Bluetooth dongle. Where can I get it?\n",
            "0 | 0 | Is living in Alexandria Egypt cheap? | How fast and reliable is internet connectivity in Alexandria, Egypt?\n",
            "0 | 0 | Who will be the winner of the Sankranti in 2017? | What should I do? I am 25 years old unemployed and depressed.Should I consult a psychologist or career counselor?\n",
            "0 | 0 | What does it feel like to have your penis inside a vagina? | Oral Sex: What is it like to be eaten out?\n",
            "1 | 1 | How can you get water on Mars? | How could water be produced on Mars?\n",
            "1 | 1 | What is your favorite book, why? | What is your favorite book of all time and why?\n",
            "0 | 1 | Do we know all about Serbia?   | Do you know Serbia?           \n",
            "0 | 0 | I forgot my password and the email address I used to create my Snapchat account. How can I log in or at least change my email address or password? | I had a 2.3k account on Instagram and I've been hacked. The hacker changed the email, the password and the name. What can I do?\n",
            "0 | 0 | I am a 2nd year CSE student - how do I improve my coding skills? | I am a 2nd year undergraduate ECE student. I wanna pursue Cse courses on my own. Can anyone tell me which ones will help me to get a job in coding?\n",
            "0 | 0 | What are some ways to study smart and hard? | What are some great study tips, for those who feel they do not study properly?\n",
            "0 | 1 | Who is the better choice for Europe: Donald Trump or Hillary Clinton? Why? | Who would be better for Pakistan, Donald Trump or Hillary Clinton?\n",
            "0 | 0 | What is the syllabus for BComm students applying for MA history entrance in Delhi university as there is a separate paper made for students who are not from the history stream? | I am History Honours third year student. I want to pursue MA in History from a good college from noth India only. What are the options?\n",
            "0 | 0 | How can I change my Android's IP address  permanently? | How can I change my phone IP address permanently?\n",
            "0 | 1 | My ultimate goal in life is to become an IAS officer. But I am a loser. Should I drop my dream? | My ultimate goal in life is to become the governer of RBI. Where do I start?\n",
            "1 | 0 | What are the steps one should follow to be a good JavaScript programmer? | What are the steps one should follow to become a good JavaScript programmer?\n",
            "1 | 1 | Which is the best Business starting from $200? | What small scale business can I start with just $200?\n"
          ],
          "name": "stdout"
        }
      ]
    },
    {
      "cell_type": "code",
      "metadata": {
        "id": "Ha5lxvs9BYY2",
        "colab_type": "code",
        "colab": {
          "base_uri": "https://localhost:8080/",
          "height": 51
        },
        "outputId": "0af09a4f-bde2-465b-fd1c-a72c269fe944"
      },
      "source": [
        "print(confusion_matrix(preds, labels))"
      ],
      "execution_count": 26,
      "outputs": [
        {
          "output_type": "stream",
          "text": [
            "[[55 12]\n",
            " [29 32]]\n"
          ],
          "name": "stdout"
        }
      ]
    },
    {
      "cell_type": "code",
      "metadata": {
        "id": "gbKivz-MBfGX",
        "colab_type": "code",
        "colab": {
          "base_uri": "https://localhost:8080/",
          "height": 34
        },
        "outputId": "787453c6-33d7-47a9-deba-5073b23cacf4"
      },
      "source": [
        "print(\"accuracy: {:.3f}\".format(accuracy_score(preds, labels)))"
      ],
      "execution_count": 27,
      "outputs": [
        {
          "output_type": "stream",
          "text": [
            "accuracy: 0.680\n"
          ],
          "name": "stdout"
        }
      ]
    },
    {
      "cell_type": "code",
      "metadata": {
        "id": "yp_aSYkZDN9M",
        "colab_type": "code",
        "colab": {}
      },
      "source": [
        ""
      ],
      "execution_count": 27,
      "outputs": []
    }
  ]
}