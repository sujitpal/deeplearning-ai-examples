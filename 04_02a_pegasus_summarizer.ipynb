{
  "nbformat": 4,
  "nbformat_minor": 0,
  "metadata": {
    "colab": {
      "name": "04_02a_pegasus_summarizer.ipynb",
      "provenance": [],
      "collapsed_sections": [],
      "authorship_tag": "ABX9TyNdCCcQ+O1TGcNAF/pjDZHl",
      "include_colab_link": true
    },
    "kernelspec": {
      "name": "python3",
      "display_name": "Python 3"
    },
    "accelerator": "GPU",
    "widgets": {
      "application/vnd.jupyter.widget-state+json": {
        "2609980cab7d4e06b4d84ae2d5654aa9": {
          "model_module": "@jupyter-widgets/controls",
          "model_name": "HBoxModel",
          "state": {
            "_view_name": "HBoxView",
            "_dom_classes": [],
            "_model_name": "HBoxModel",
            "_view_module": "@jupyter-widgets/controls",
            "_model_module_version": "1.5.0",
            "_view_count": null,
            "_view_module_version": "1.5.0",
            "box_style": "",
            "layout": "IPY_MODEL_70e16a3a7a2c41179becd8c97b2f0ff6",
            "_model_module": "@jupyter-widgets/controls",
            "children": [
              "IPY_MODEL_4c5fb4c715ae482b9e67349d2c96568b",
              "IPY_MODEL_fed0400da4fd4210b3fe3dc0cc29dfb3"
            ]
          }
        },
        "70e16a3a7a2c41179becd8c97b2f0ff6": {
          "model_module": "@jupyter-widgets/base",
          "model_name": "LayoutModel",
          "state": {
            "_view_name": "LayoutView",
            "grid_template_rows": null,
            "right": null,
            "justify_content": null,
            "_view_module": "@jupyter-widgets/base",
            "overflow": null,
            "_model_module_version": "1.2.0",
            "_view_count": null,
            "flex_flow": null,
            "width": null,
            "min_width": null,
            "border": null,
            "align_items": null,
            "bottom": null,
            "_model_module": "@jupyter-widgets/base",
            "top": null,
            "grid_column": null,
            "overflow_y": null,
            "overflow_x": null,
            "grid_auto_flow": null,
            "grid_area": null,
            "grid_template_columns": null,
            "flex": null,
            "_model_name": "LayoutModel",
            "justify_items": null,
            "grid_row": null,
            "max_height": null,
            "align_content": null,
            "visibility": null,
            "align_self": null,
            "height": null,
            "min_height": null,
            "padding": null,
            "grid_auto_rows": null,
            "grid_gap": null,
            "max_width": null,
            "order": null,
            "_view_module_version": "1.2.0",
            "grid_template_areas": null,
            "object_position": null,
            "object_fit": null,
            "grid_auto_columns": null,
            "margin": null,
            "display": null,
            "left": null
          }
        },
        "4c5fb4c715ae482b9e67349d2c96568b": {
          "model_module": "@jupyter-widgets/controls",
          "model_name": "FloatProgressModel",
          "state": {
            "_view_name": "ProgressView",
            "style": "IPY_MODEL_214e719acc594f2988c7c0bc93ce260f",
            "_dom_classes": [],
            "description": "Downloading: 100%",
            "_model_name": "FloatProgressModel",
            "bar_style": "success",
            "max": 1912529,
            "_view_module": "@jupyter-widgets/controls",
            "_model_module_version": "1.5.0",
            "value": 1912529,
            "_view_count": null,
            "_view_module_version": "1.5.0",
            "orientation": "horizontal",
            "min": 0,
            "description_tooltip": null,
            "_model_module": "@jupyter-widgets/controls",
            "layout": "IPY_MODEL_b2b57614b6f044698ce6b595810959fd"
          }
        },
        "fed0400da4fd4210b3fe3dc0cc29dfb3": {
          "model_module": "@jupyter-widgets/controls",
          "model_name": "HTMLModel",
          "state": {
            "_view_name": "HTMLView",
            "style": "IPY_MODEL_efdc754a9c424222ac949ab330f24ec3",
            "_dom_classes": [],
            "description": "",
            "_model_name": "HTMLModel",
            "placeholder": "​",
            "_view_module": "@jupyter-widgets/controls",
            "_model_module_version": "1.5.0",
            "value": " 1.91M/1.91M [00:00&lt;00:00, 2.52MB/s]",
            "_view_count": null,
            "_view_module_version": "1.5.0",
            "description_tooltip": null,
            "_model_module": "@jupyter-widgets/controls",
            "layout": "IPY_MODEL_032cb7bf39464d4cb33012146f54b967"
          }
        },
        "214e719acc594f2988c7c0bc93ce260f": {
          "model_module": "@jupyter-widgets/controls",
          "model_name": "ProgressStyleModel",
          "state": {
            "_view_name": "StyleView",
            "_model_name": "ProgressStyleModel",
            "description_width": "initial",
            "_view_module": "@jupyter-widgets/base",
            "_model_module_version": "1.5.0",
            "_view_count": null,
            "_view_module_version": "1.2.0",
            "bar_color": null,
            "_model_module": "@jupyter-widgets/controls"
          }
        },
        "b2b57614b6f044698ce6b595810959fd": {
          "model_module": "@jupyter-widgets/base",
          "model_name": "LayoutModel",
          "state": {
            "_view_name": "LayoutView",
            "grid_template_rows": null,
            "right": null,
            "justify_content": null,
            "_view_module": "@jupyter-widgets/base",
            "overflow": null,
            "_model_module_version": "1.2.0",
            "_view_count": null,
            "flex_flow": null,
            "width": null,
            "min_width": null,
            "border": null,
            "align_items": null,
            "bottom": null,
            "_model_module": "@jupyter-widgets/base",
            "top": null,
            "grid_column": null,
            "overflow_y": null,
            "overflow_x": null,
            "grid_auto_flow": null,
            "grid_area": null,
            "grid_template_columns": null,
            "flex": null,
            "_model_name": "LayoutModel",
            "justify_items": null,
            "grid_row": null,
            "max_height": null,
            "align_content": null,
            "visibility": null,
            "align_self": null,
            "height": null,
            "min_height": null,
            "padding": null,
            "grid_auto_rows": null,
            "grid_gap": null,
            "max_width": null,
            "order": null,
            "_view_module_version": "1.2.0",
            "grid_template_areas": null,
            "object_position": null,
            "object_fit": null,
            "grid_auto_columns": null,
            "margin": null,
            "display": null,
            "left": null
          }
        },
        "efdc754a9c424222ac949ab330f24ec3": {
          "model_module": "@jupyter-widgets/controls",
          "model_name": "DescriptionStyleModel",
          "state": {
            "_view_name": "StyleView",
            "_model_name": "DescriptionStyleModel",
            "description_width": "",
            "_view_module": "@jupyter-widgets/base",
            "_model_module_version": "1.5.0",
            "_view_count": null,
            "_view_module_version": "1.2.0",
            "_model_module": "@jupyter-widgets/controls"
          }
        },
        "032cb7bf39464d4cb33012146f54b967": {
          "model_module": "@jupyter-widgets/base",
          "model_name": "LayoutModel",
          "state": {
            "_view_name": "LayoutView",
            "grid_template_rows": null,
            "right": null,
            "justify_content": null,
            "_view_module": "@jupyter-widgets/base",
            "overflow": null,
            "_model_module_version": "1.2.0",
            "_view_count": null,
            "flex_flow": null,
            "width": null,
            "min_width": null,
            "border": null,
            "align_items": null,
            "bottom": null,
            "_model_module": "@jupyter-widgets/base",
            "top": null,
            "grid_column": null,
            "overflow_y": null,
            "overflow_x": null,
            "grid_auto_flow": null,
            "grid_area": null,
            "grid_template_columns": null,
            "flex": null,
            "_model_name": "LayoutModel",
            "justify_items": null,
            "grid_row": null,
            "max_height": null,
            "align_content": null,
            "visibility": null,
            "align_self": null,
            "height": null,
            "min_height": null,
            "padding": null,
            "grid_auto_rows": null,
            "grid_gap": null,
            "max_width": null,
            "order": null,
            "_view_module_version": "1.2.0",
            "grid_template_areas": null,
            "object_position": null,
            "object_fit": null,
            "grid_auto_columns": null,
            "margin": null,
            "display": null,
            "left": null
          }
        },
        "1a2eef259295467bbc4d4e2e180161a6": {
          "model_module": "@jupyter-widgets/controls",
          "model_name": "HBoxModel",
          "state": {
            "_view_name": "HBoxView",
            "_dom_classes": [],
            "_model_name": "HBoxModel",
            "_view_module": "@jupyter-widgets/controls",
            "_model_module_version": "1.5.0",
            "_view_count": null,
            "_view_module_version": "1.5.0",
            "box_style": "",
            "layout": "IPY_MODEL_cab94da03ac54bb4ac059290fdc31551",
            "_model_module": "@jupyter-widgets/controls",
            "children": [
              "IPY_MODEL_cf88a6dbacac40fb8c7c279a9d3fbe31",
              "IPY_MODEL_32e959670b464826a3536694684b58eb"
            ]
          }
        },
        "cab94da03ac54bb4ac059290fdc31551": {
          "model_module": "@jupyter-widgets/base",
          "model_name": "LayoutModel",
          "state": {
            "_view_name": "LayoutView",
            "grid_template_rows": null,
            "right": null,
            "justify_content": null,
            "_view_module": "@jupyter-widgets/base",
            "overflow": null,
            "_model_module_version": "1.2.0",
            "_view_count": null,
            "flex_flow": null,
            "width": null,
            "min_width": null,
            "border": null,
            "align_items": null,
            "bottom": null,
            "_model_module": "@jupyter-widgets/base",
            "top": null,
            "grid_column": null,
            "overflow_y": null,
            "overflow_x": null,
            "grid_auto_flow": null,
            "grid_area": null,
            "grid_template_columns": null,
            "flex": null,
            "_model_name": "LayoutModel",
            "justify_items": null,
            "grid_row": null,
            "max_height": null,
            "align_content": null,
            "visibility": null,
            "align_self": null,
            "height": null,
            "min_height": null,
            "padding": null,
            "grid_auto_rows": null,
            "grid_gap": null,
            "max_width": null,
            "order": null,
            "_view_module_version": "1.2.0",
            "grid_template_areas": null,
            "object_position": null,
            "object_fit": null,
            "grid_auto_columns": null,
            "margin": null,
            "display": null,
            "left": null
          }
        },
        "cf88a6dbacac40fb8c7c279a9d3fbe31": {
          "model_module": "@jupyter-widgets/controls",
          "model_name": "FloatProgressModel",
          "state": {
            "_view_name": "ProgressView",
            "style": "IPY_MODEL_bb9c733590cd4aeb8f01fc71aaf8f170",
            "_dom_classes": [],
            "description": "Downloading: 100%",
            "_model_name": "FloatProgressModel",
            "bar_style": "success",
            "max": 1099,
            "_view_module": "@jupyter-widgets/controls",
            "_model_module_version": "1.5.0",
            "value": 1099,
            "_view_count": null,
            "_view_module_version": "1.5.0",
            "orientation": "horizontal",
            "min": 0,
            "description_tooltip": null,
            "_model_module": "@jupyter-widgets/controls",
            "layout": "IPY_MODEL_db37dd9d65f749918beb152deaac7a7c"
          }
        },
        "32e959670b464826a3536694684b58eb": {
          "model_module": "@jupyter-widgets/controls",
          "model_name": "HTMLModel",
          "state": {
            "_view_name": "HTMLView",
            "style": "IPY_MODEL_44d7b18f17164f5abdb8f1552ef5b174",
            "_dom_classes": [],
            "description": "",
            "_model_name": "HTMLModel",
            "placeholder": "​",
            "_view_module": "@jupyter-widgets/controls",
            "_model_module_version": "1.5.0",
            "value": " 1.10k/1.10k [00:00&lt;00:00, 2.73kB/s]",
            "_view_count": null,
            "_view_module_version": "1.5.0",
            "description_tooltip": null,
            "_model_module": "@jupyter-widgets/controls",
            "layout": "IPY_MODEL_dca99d6995d0404089b3aafabc0b3f6a"
          }
        },
        "bb9c733590cd4aeb8f01fc71aaf8f170": {
          "model_module": "@jupyter-widgets/controls",
          "model_name": "ProgressStyleModel",
          "state": {
            "_view_name": "StyleView",
            "_model_name": "ProgressStyleModel",
            "description_width": "initial",
            "_view_module": "@jupyter-widgets/base",
            "_model_module_version": "1.5.0",
            "_view_count": null,
            "_view_module_version": "1.2.0",
            "bar_color": null,
            "_model_module": "@jupyter-widgets/controls"
          }
        },
        "db37dd9d65f749918beb152deaac7a7c": {
          "model_module": "@jupyter-widgets/base",
          "model_name": "LayoutModel",
          "state": {
            "_view_name": "LayoutView",
            "grid_template_rows": null,
            "right": null,
            "justify_content": null,
            "_view_module": "@jupyter-widgets/base",
            "overflow": null,
            "_model_module_version": "1.2.0",
            "_view_count": null,
            "flex_flow": null,
            "width": null,
            "min_width": null,
            "border": null,
            "align_items": null,
            "bottom": null,
            "_model_module": "@jupyter-widgets/base",
            "top": null,
            "grid_column": null,
            "overflow_y": null,
            "overflow_x": null,
            "grid_auto_flow": null,
            "grid_area": null,
            "grid_template_columns": null,
            "flex": null,
            "_model_name": "LayoutModel",
            "justify_items": null,
            "grid_row": null,
            "max_height": null,
            "align_content": null,
            "visibility": null,
            "align_self": null,
            "height": null,
            "min_height": null,
            "padding": null,
            "grid_auto_rows": null,
            "grid_gap": null,
            "max_width": null,
            "order": null,
            "_view_module_version": "1.2.0",
            "grid_template_areas": null,
            "object_position": null,
            "object_fit": null,
            "grid_auto_columns": null,
            "margin": null,
            "display": null,
            "left": null
          }
        },
        "44d7b18f17164f5abdb8f1552ef5b174": {
          "model_module": "@jupyter-widgets/controls",
          "model_name": "DescriptionStyleModel",
          "state": {
            "_view_name": "StyleView",
            "_model_name": "DescriptionStyleModel",
            "description_width": "",
            "_view_module": "@jupyter-widgets/base",
            "_model_module_version": "1.5.0",
            "_view_count": null,
            "_view_module_version": "1.2.0",
            "_model_module": "@jupyter-widgets/controls"
          }
        },
        "dca99d6995d0404089b3aafabc0b3f6a": {
          "model_module": "@jupyter-widgets/base",
          "model_name": "LayoutModel",
          "state": {
            "_view_name": "LayoutView",
            "grid_template_rows": null,
            "right": null,
            "justify_content": null,
            "_view_module": "@jupyter-widgets/base",
            "overflow": null,
            "_model_module_version": "1.2.0",
            "_view_count": null,
            "flex_flow": null,
            "width": null,
            "min_width": null,
            "border": null,
            "align_items": null,
            "bottom": null,
            "_model_module": "@jupyter-widgets/base",
            "top": null,
            "grid_column": null,
            "overflow_y": null,
            "overflow_x": null,
            "grid_auto_flow": null,
            "grid_area": null,
            "grid_template_columns": null,
            "flex": null,
            "_model_name": "LayoutModel",
            "justify_items": null,
            "grid_row": null,
            "max_height": null,
            "align_content": null,
            "visibility": null,
            "align_self": null,
            "height": null,
            "min_height": null,
            "padding": null,
            "grid_auto_rows": null,
            "grid_gap": null,
            "max_width": null,
            "order": null,
            "_view_module_version": "1.2.0",
            "grid_template_areas": null,
            "object_position": null,
            "object_fit": null,
            "grid_auto_columns": null,
            "margin": null,
            "display": null,
            "left": null
          }
        },
        "25e1ba3134424d07834e46d28901a632": {
          "model_module": "@jupyter-widgets/controls",
          "model_name": "HBoxModel",
          "state": {
            "_view_name": "HBoxView",
            "_dom_classes": [],
            "_model_name": "HBoxModel",
            "_view_module": "@jupyter-widgets/controls",
            "_model_module_version": "1.5.0",
            "_view_count": null,
            "_view_module_version": "1.5.0",
            "box_style": "",
            "layout": "IPY_MODEL_c413ae7516cf484c8d177036884669e7",
            "_model_module": "@jupyter-widgets/controls",
            "children": [
              "IPY_MODEL_6d1d08a19ee147bf83d8c13181ebcc0b",
              "IPY_MODEL_5410aba5a579464b93f9809bfea5c122"
            ]
          }
        },
        "c413ae7516cf484c8d177036884669e7": {
          "model_module": "@jupyter-widgets/base",
          "model_name": "LayoutModel",
          "state": {
            "_view_name": "LayoutView",
            "grid_template_rows": null,
            "right": null,
            "justify_content": null,
            "_view_module": "@jupyter-widgets/base",
            "overflow": null,
            "_model_module_version": "1.2.0",
            "_view_count": null,
            "flex_flow": null,
            "width": null,
            "min_width": null,
            "border": null,
            "align_items": null,
            "bottom": null,
            "_model_module": "@jupyter-widgets/base",
            "top": null,
            "grid_column": null,
            "overflow_y": null,
            "overflow_x": null,
            "grid_auto_flow": null,
            "grid_area": null,
            "grid_template_columns": null,
            "flex": null,
            "_model_name": "LayoutModel",
            "justify_items": null,
            "grid_row": null,
            "max_height": null,
            "align_content": null,
            "visibility": null,
            "align_self": null,
            "height": null,
            "min_height": null,
            "padding": null,
            "grid_auto_rows": null,
            "grid_gap": null,
            "max_width": null,
            "order": null,
            "_view_module_version": "1.2.0",
            "grid_template_areas": null,
            "object_position": null,
            "object_fit": null,
            "grid_auto_columns": null,
            "margin": null,
            "display": null,
            "left": null
          }
        },
        "6d1d08a19ee147bf83d8c13181ebcc0b": {
          "model_module": "@jupyter-widgets/controls",
          "model_name": "FloatProgressModel",
          "state": {
            "_view_name": "ProgressView",
            "style": "IPY_MODEL_f7370ced0e24474cb745bb5b55a39e49",
            "_dom_classes": [],
            "description": "Downloading: 100%",
            "_model_name": "FloatProgressModel",
            "bar_style": "success",
            "max": 2275329241,
            "_view_module": "@jupyter-widgets/controls",
            "_model_module_version": "1.5.0",
            "value": 2275329241,
            "_view_count": null,
            "_view_module_version": "1.5.0",
            "orientation": "horizontal",
            "min": 0,
            "description_tooltip": null,
            "_model_module": "@jupyter-widgets/controls",
            "layout": "IPY_MODEL_e597d1520e3743f59383064c55e4d9a7"
          }
        },
        "5410aba5a579464b93f9809bfea5c122": {
          "model_module": "@jupyter-widgets/controls",
          "model_name": "HTMLModel",
          "state": {
            "_view_name": "HTMLView",
            "style": "IPY_MODEL_bf2912dd274d44568a2bd0ad201ec7f7",
            "_dom_classes": [],
            "description": "",
            "_model_name": "HTMLModel",
            "placeholder": "​",
            "_view_module": "@jupyter-widgets/controls",
            "_model_module_version": "1.5.0",
            "value": " 2.28G/2.28G [00:43&lt;00:00, 52.6MB/s]",
            "_view_count": null,
            "_view_module_version": "1.5.0",
            "description_tooltip": null,
            "_model_module": "@jupyter-widgets/controls",
            "layout": "IPY_MODEL_1453d233bde642ecb65e62726b87ca4d"
          }
        },
        "f7370ced0e24474cb745bb5b55a39e49": {
          "model_module": "@jupyter-widgets/controls",
          "model_name": "ProgressStyleModel",
          "state": {
            "_view_name": "StyleView",
            "_model_name": "ProgressStyleModel",
            "description_width": "initial",
            "_view_module": "@jupyter-widgets/base",
            "_model_module_version": "1.5.0",
            "_view_count": null,
            "_view_module_version": "1.2.0",
            "bar_color": null,
            "_model_module": "@jupyter-widgets/controls"
          }
        },
        "e597d1520e3743f59383064c55e4d9a7": {
          "model_module": "@jupyter-widgets/base",
          "model_name": "LayoutModel",
          "state": {
            "_view_name": "LayoutView",
            "grid_template_rows": null,
            "right": null,
            "justify_content": null,
            "_view_module": "@jupyter-widgets/base",
            "overflow": null,
            "_model_module_version": "1.2.0",
            "_view_count": null,
            "flex_flow": null,
            "width": null,
            "min_width": null,
            "border": null,
            "align_items": null,
            "bottom": null,
            "_model_module": "@jupyter-widgets/base",
            "top": null,
            "grid_column": null,
            "overflow_y": null,
            "overflow_x": null,
            "grid_auto_flow": null,
            "grid_area": null,
            "grid_template_columns": null,
            "flex": null,
            "_model_name": "LayoutModel",
            "justify_items": null,
            "grid_row": null,
            "max_height": null,
            "align_content": null,
            "visibility": null,
            "align_self": null,
            "height": null,
            "min_height": null,
            "padding": null,
            "grid_auto_rows": null,
            "grid_gap": null,
            "max_width": null,
            "order": null,
            "_view_module_version": "1.2.0",
            "grid_template_areas": null,
            "object_position": null,
            "object_fit": null,
            "grid_auto_columns": null,
            "margin": null,
            "display": null,
            "left": null
          }
        },
        "bf2912dd274d44568a2bd0ad201ec7f7": {
          "model_module": "@jupyter-widgets/controls",
          "model_name": "DescriptionStyleModel",
          "state": {
            "_view_name": "StyleView",
            "_model_name": "DescriptionStyleModel",
            "description_width": "",
            "_view_module": "@jupyter-widgets/base",
            "_model_module_version": "1.5.0",
            "_view_count": null,
            "_view_module_version": "1.2.0",
            "_model_module": "@jupyter-widgets/controls"
          }
        },
        "1453d233bde642ecb65e62726b87ca4d": {
          "model_module": "@jupyter-widgets/base",
          "model_name": "LayoutModel",
          "state": {
            "_view_name": "LayoutView",
            "grid_template_rows": null,
            "right": null,
            "justify_content": null,
            "_view_module": "@jupyter-widgets/base",
            "overflow": null,
            "_model_module_version": "1.2.0",
            "_view_count": null,
            "flex_flow": null,
            "width": null,
            "min_width": null,
            "border": null,
            "align_items": null,
            "bottom": null,
            "_model_module": "@jupyter-widgets/base",
            "top": null,
            "grid_column": null,
            "overflow_y": null,
            "overflow_x": null,
            "grid_auto_flow": null,
            "grid_area": null,
            "grid_template_columns": null,
            "flex": null,
            "_model_name": "LayoutModel",
            "justify_items": null,
            "grid_row": null,
            "max_height": null,
            "align_content": null,
            "visibility": null,
            "align_self": null,
            "height": null,
            "min_height": null,
            "padding": null,
            "grid_auto_rows": null,
            "grid_gap": null,
            "max_width": null,
            "order": null,
            "_view_module_version": "1.2.0",
            "grid_template_areas": null,
            "object_position": null,
            "object_fit": null,
            "grid_auto_columns": null,
            "margin": null,
            "display": null,
            "left": null
          }
        }
      }
    }
  },
  "cells": [
    {
      "cell_type": "markdown",
      "metadata": {
        "id": "view-in-github",
        "colab_type": "text"
      },
      "source": [
        "<a href=\"https://colab.research.google.com/github/sujitpal/nlp-deeplearning-ai-examples/blob/master/04_02a_pegasus_summarizer.ipynb\" target=\"_parent\"><img src=\"https://colab.research.google.com/assets/colab-badge.svg\" alt=\"Open In Colab\"/></a>"
      ]
    },
    {
      "cell_type": "markdown",
      "metadata": {
        "id": "mdDDzoJsLyUO"
      },
      "source": [
        "## Pegasus Summarizer (Inference only)\n",
        "\n",
        "Using a Pegasus transformer pre-trained on Google/XSum dataset to generate summaries for a few Amazon Fine Foods Review dataset. Good summaries, matches the labels in terms of general sentiment (except for the first record).\n",
        "\n",
        "Model is large, needs a GPU even for inference for reasonable response times.\n",
        "\n",
        "Model is based on [PEGASUS: Pre-training with extracted Gap Sentences for Abstractive Summarization](https://arxiv.org/abs/1912.08777). Idea here is to identify candidate sentences for extractive summarization, then mask these sentences out during pre-training, and train the model to predict the sequence of masked sentences."
      ]
    },
    {
      "cell_type": "code",
      "metadata": {
        "colab": {
          "base_uri": "https://localhost:8080/"
        },
        "id": "P8TqWexuF8lq",
        "outputId": "08dd00bc-6500-4aef-92b3-66ec6ae87c33"
      },
      "source": [
        "!pip install transformers"
      ],
      "execution_count": 1,
      "outputs": [
        {
          "output_type": "stream",
          "text": [
            "Collecting transformers\n",
            "\u001b[?25l  Downloading https://files.pythonhosted.org/packages/50/0c/7d5950fcd80b029be0a8891727ba21e0cd27692c407c51261c3c921f6da3/transformers-4.1.1-py3-none-any.whl (1.5MB)\n",
            "\r\u001b[K     |▏                               | 10kB 20.9MB/s eta 0:00:01\r\u001b[K     |▍                               | 20kB 29.1MB/s eta 0:00:01\r\u001b[K     |▋                               | 30kB 21.5MB/s eta 0:00:01\r\u001b[K     |▉                               | 40kB 19.6MB/s eta 0:00:01\r\u001b[K     |█                               | 51kB 21.6MB/s eta 0:00:01\r\u001b[K     |█▎                              | 61kB 15.9MB/s eta 0:00:01\r\u001b[K     |█▌                              | 71kB 16.2MB/s eta 0:00:01\r\u001b[K     |█▊                              | 81kB 17.0MB/s eta 0:00:01\r\u001b[K     |██                              | 92kB 15.0MB/s eta 0:00:01\r\u001b[K     |██▏                             | 102kB 16.2MB/s eta 0:00:01\r\u001b[K     |██▍                             | 112kB 16.2MB/s eta 0:00:01\r\u001b[K     |██▋                             | 122kB 16.2MB/s eta 0:00:01\r\u001b[K     |██▉                             | 133kB 16.2MB/s eta 0:00:01\r\u001b[K     |███                             | 143kB 16.2MB/s eta 0:00:01\r\u001b[K     |███▎                            | 153kB 16.2MB/s eta 0:00:01\r\u001b[K     |███▌                            | 163kB 16.2MB/s eta 0:00:01\r\u001b[K     |███▊                            | 174kB 16.2MB/s eta 0:00:01\r\u001b[K     |████                            | 184kB 16.2MB/s eta 0:00:01\r\u001b[K     |████▏                           | 194kB 16.2MB/s eta 0:00:01\r\u001b[K     |████▎                           | 204kB 16.2MB/s eta 0:00:01\r\u001b[K     |████▌                           | 215kB 16.2MB/s eta 0:00:01\r\u001b[K     |████▊                           | 225kB 16.2MB/s eta 0:00:01\r\u001b[K     |█████                           | 235kB 16.2MB/s eta 0:00:01\r\u001b[K     |█████▏                          | 245kB 16.2MB/s eta 0:00:01\r\u001b[K     |█████▍                          | 256kB 16.2MB/s eta 0:00:01\r\u001b[K     |█████▋                          | 266kB 16.2MB/s eta 0:00:01\r\u001b[K     |█████▉                          | 276kB 16.2MB/s eta 0:00:01\r\u001b[K     |██████                          | 286kB 16.2MB/s eta 0:00:01\r\u001b[K     |██████▎                         | 296kB 16.2MB/s eta 0:00:01\r\u001b[K     |██████▌                         | 307kB 16.2MB/s eta 0:00:01\r\u001b[K     |██████▊                         | 317kB 16.2MB/s eta 0:00:01\r\u001b[K     |███████                         | 327kB 16.2MB/s eta 0:00:01\r\u001b[K     |███████▏                        | 337kB 16.2MB/s eta 0:00:01\r\u001b[K     |███████▍                        | 348kB 16.2MB/s eta 0:00:01\r\u001b[K     |███████▋                        | 358kB 16.2MB/s eta 0:00:01\r\u001b[K     |███████▉                        | 368kB 16.2MB/s eta 0:00:01\r\u001b[K     |████████                        | 378kB 16.2MB/s eta 0:00:01\r\u001b[K     |████████▎                       | 389kB 16.2MB/s eta 0:00:01\r\u001b[K     |████████▌                       | 399kB 16.2MB/s eta 0:00:01\r\u001b[K     |████████▋                       | 409kB 16.2MB/s eta 0:00:01\r\u001b[K     |████████▉                       | 419kB 16.2MB/s eta 0:00:01\r\u001b[K     |█████████                       | 430kB 16.2MB/s eta 0:00:01\r\u001b[K     |█████████▎                      | 440kB 16.2MB/s eta 0:00:01\r\u001b[K     |█████████▌                      | 450kB 16.2MB/s eta 0:00:01\r\u001b[K     |█████████▊                      | 460kB 16.2MB/s eta 0:00:01\r\u001b[K     |██████████                      | 471kB 16.2MB/s eta 0:00:01\r\u001b[K     |██████████▏                     | 481kB 16.2MB/s eta 0:00:01\r\u001b[K     |██████████▍                     | 491kB 16.2MB/s eta 0:00:01\r\u001b[K     |██████████▋                     | 501kB 16.2MB/s eta 0:00:01\r\u001b[K     |██████████▉                     | 512kB 16.2MB/s eta 0:00:01\r\u001b[K     |███████████                     | 522kB 16.2MB/s eta 0:00:01\r\u001b[K     |███████████▎                    | 532kB 16.2MB/s eta 0:00:01\r\u001b[K     |███████████▌                    | 542kB 16.2MB/s eta 0:00:01\r\u001b[K     |███████████▊                    | 552kB 16.2MB/s eta 0:00:01\r\u001b[K     |████████████                    | 563kB 16.2MB/s eta 0:00:01\r\u001b[K     |████████████▏                   | 573kB 16.2MB/s eta 0:00:01\r\u001b[K     |████████████▍                   | 583kB 16.2MB/s eta 0:00:01\r\u001b[K     |████████████▋                   | 593kB 16.2MB/s eta 0:00:01\r\u001b[K     |████████████▉                   | 604kB 16.2MB/s eta 0:00:01\r\u001b[K     |█████████████                   | 614kB 16.2MB/s eta 0:00:01\r\u001b[K     |█████████████▏                  | 624kB 16.2MB/s eta 0:00:01\r\u001b[K     |█████████████▍                  | 634kB 16.2MB/s eta 0:00:01\r\u001b[K     |█████████████▋                  | 645kB 16.2MB/s eta 0:00:01\r\u001b[K     |█████████████▉                  | 655kB 16.2MB/s eta 0:00:01\r\u001b[K     |██████████████                  | 665kB 16.2MB/s eta 0:00:01\r\u001b[K     |██████████████▎                 | 675kB 16.2MB/s eta 0:00:01\r\u001b[K     |██████████████▌                 | 686kB 16.2MB/s eta 0:00:01\r\u001b[K     |██████████████▊                 | 696kB 16.2MB/s eta 0:00:01\r\u001b[K     |███████████████                 | 706kB 16.2MB/s eta 0:00:01\r\u001b[K     |███████████████▏                | 716kB 16.2MB/s eta 0:00:01\r\u001b[K     |███████████████▍                | 727kB 16.2MB/s eta 0:00:01\r\u001b[K     |███████████████▋                | 737kB 16.2MB/s eta 0:00:01\r\u001b[K     |███████████████▉                | 747kB 16.2MB/s eta 0:00:01\r\u001b[K     |████████████████                | 757kB 16.2MB/s eta 0:00:01\r\u001b[K     |████████████████▎               | 768kB 16.2MB/s eta 0:00:01\r\u001b[K     |████████████████▌               | 778kB 16.2MB/s eta 0:00:01\r\u001b[K     |████████████████▊               | 788kB 16.2MB/s eta 0:00:01\r\u001b[K     |█████████████████               | 798kB 16.2MB/s eta 0:00:01\r\u001b[K     |█████████████████               | 808kB 16.2MB/s eta 0:00:01\r\u001b[K     |█████████████████▎              | 819kB 16.2MB/s eta 0:00:01\r\u001b[K     |█████████████████▌              | 829kB 16.2MB/s eta 0:00:01\r\u001b[K     |█████████████████▊              | 839kB 16.2MB/s eta 0:00:01\r\u001b[K     |██████████████████              | 849kB 16.2MB/s eta 0:00:01\r\u001b[K     |██████████████████▏             | 860kB 16.2MB/s eta 0:00:01\r\u001b[K     |██████████████████▍             | 870kB 16.2MB/s eta 0:00:01\r\u001b[K     |██████████████████▋             | 880kB 16.2MB/s eta 0:00:01\r\u001b[K     |██████████████████▉             | 890kB 16.2MB/s eta 0:00:01\r\u001b[K     |███████████████████             | 901kB 16.2MB/s eta 0:00:01\r\u001b[K     |███████████████████▎            | 911kB 16.2MB/s eta 0:00:01\r\u001b[K     |███████████████████▌            | 921kB 16.2MB/s eta 0:00:01\r\u001b[K     |███████████████████▊            | 931kB 16.2MB/s eta 0:00:01\r\u001b[K     |████████████████████            | 942kB 16.2MB/s eta 0:00:01\r\u001b[K     |████████████████████▏           | 952kB 16.2MB/s eta 0:00:01\r\u001b[K     |████████████████████▍           | 962kB 16.2MB/s eta 0:00:01\r\u001b[K     |████████████████████▋           | 972kB 16.2MB/s eta 0:00:01\r\u001b[K     |████████████████████▉           | 983kB 16.2MB/s eta 0:00:01\r\u001b[K     |█████████████████████           | 993kB 16.2MB/s eta 0:00:01\r\u001b[K     |█████████████████████▎          | 1.0MB 16.2MB/s eta 0:00:01\r\u001b[K     |█████████████████████▍          | 1.0MB 16.2MB/s eta 0:00:01\r\u001b[K     |█████████████████████▋          | 1.0MB 16.2MB/s eta 0:00:01\r\u001b[K     |█████████████████████▉          | 1.0MB 16.2MB/s eta 0:00:01\r\u001b[K     |██████████████████████          | 1.0MB 16.2MB/s eta 0:00:01\r\u001b[K     |██████████████████████▎         | 1.1MB 16.2MB/s eta 0:00:01\r\u001b[K     |██████████████████████▌         | 1.1MB 16.2MB/s eta 0:00:01\r\u001b[K     |██████████████████████▊         | 1.1MB 16.2MB/s eta 0:00:01\r\u001b[K     |███████████████████████         | 1.1MB 16.2MB/s eta 0:00:01\r\u001b[K     |███████████████████████▏        | 1.1MB 16.2MB/s eta 0:00:01\r\u001b[K     |███████████████████████▍        | 1.1MB 16.2MB/s eta 0:00:01\r\u001b[K     |███████████████████████▋        | 1.1MB 16.2MB/s eta 0:00:01\r\u001b[K     |███████████████████████▉        | 1.1MB 16.2MB/s eta 0:00:01\r\u001b[K     |████████████████████████        | 1.1MB 16.2MB/s eta 0:00:01\r\u001b[K     |████████████████████████▎       | 1.1MB 16.2MB/s eta 0:00:01\r\u001b[K     |████████████████████████▌       | 1.2MB 16.2MB/s eta 0:00:01\r\u001b[K     |████████████████████████▊       | 1.2MB 16.2MB/s eta 0:00:01\r\u001b[K     |█████████████████████████       | 1.2MB 16.2MB/s eta 0:00:01\r\u001b[K     |█████████████████████████▏      | 1.2MB 16.2MB/s eta 0:00:01\r\u001b[K     |█████████████████████████▍      | 1.2MB 16.2MB/s eta 0:00:01\r\u001b[K     |█████████████████████████▋      | 1.2MB 16.2MB/s eta 0:00:01\r\u001b[K     |█████████████████████████▊      | 1.2MB 16.2MB/s eta 0:00:01\r\u001b[K     |██████████████████████████      | 1.2MB 16.2MB/s eta 0:00:01\r\u001b[K     |██████████████████████████▏     | 1.2MB 16.2MB/s eta 0:00:01\r\u001b[K     |██████████████████████████▍     | 1.2MB 16.2MB/s eta 0:00:01\r\u001b[K     |██████████████████████████▋     | 1.3MB 16.2MB/s eta 0:00:01\r\u001b[K     |██████████████████████████▉     | 1.3MB 16.2MB/s eta 0:00:01\r\u001b[K     |███████████████████████████     | 1.3MB 16.2MB/s eta 0:00:01\r\u001b[K     |███████████████████████████▎    | 1.3MB 16.2MB/s eta 0:00:01\r\u001b[K     |███████████████████████████▌    | 1.3MB 16.2MB/s eta 0:00:01\r\u001b[K     |███████████████████████████▊    | 1.3MB 16.2MB/s eta 0:00:01\r\u001b[K     |████████████████████████████    | 1.3MB 16.2MB/s eta 0:00:01\r\u001b[K     |████████████████████████████▏   | 1.3MB 16.2MB/s eta 0:00:01\r\u001b[K     |████████████████████████████▍   | 1.3MB 16.2MB/s eta 0:00:01\r\u001b[K     |████████████████████████████▋   | 1.4MB 16.2MB/s eta 0:00:01\r\u001b[K     |████████████████████████████▉   | 1.4MB 16.2MB/s eta 0:00:01\r\u001b[K     |█████████████████████████████   | 1.4MB 16.2MB/s eta 0:00:01\r\u001b[K     |█████████████████████████████▎  | 1.4MB 16.2MB/s eta 0:00:01\r\u001b[K     |█████████████████████████████▌  | 1.4MB 16.2MB/s eta 0:00:01\r\u001b[K     |█████████████████████████████▊  | 1.4MB 16.2MB/s eta 0:00:01\r\u001b[K     |█████████████████████████████▉  | 1.4MB 16.2MB/s eta 0:00:01\r\u001b[K     |██████████████████████████████  | 1.4MB 16.2MB/s eta 0:00:01\r\u001b[K     |██████████████████████████████▎ | 1.4MB 16.2MB/s eta 0:00:01\r\u001b[K     |██████████████████████████████▌ | 1.4MB 16.2MB/s eta 0:00:01\r\u001b[K     |██████████████████████████████▊ | 1.5MB 16.2MB/s eta 0:00:01\r\u001b[K     |███████████████████████████████ | 1.5MB 16.2MB/s eta 0:00:01\r\u001b[K     |███████████████████████████████▏| 1.5MB 16.2MB/s eta 0:00:01\r\u001b[K     |███████████████████████████████▍| 1.5MB 16.2MB/s eta 0:00:01\r\u001b[K     |███████████████████████████████▋| 1.5MB 16.2MB/s eta 0:00:01\r\u001b[K     |███████████████████████████████▉| 1.5MB 16.2MB/s eta 0:00:01\r\u001b[K     |████████████████████████████████| 1.5MB 16.2MB/s \n",
            "\u001b[?25hRequirement already satisfied: packaging in /usr/local/lib/python3.6/dist-packages (from transformers) (20.8)\n",
            "Requirement already satisfied: regex!=2019.12.17 in /usr/local/lib/python3.6/dist-packages (from transformers) (2019.12.20)\n",
            "Collecting tokenizers==0.9.4\n",
            "\u001b[?25l  Downloading https://files.pythonhosted.org/packages/0f/1c/e789a8b12e28be5bc1ce2156cf87cb522b379be9cadc7ad8091a4cc107c4/tokenizers-0.9.4-cp36-cp36m-manylinux2010_x86_64.whl (2.9MB)\n",
            "\u001b[K     |████████████████████████████████| 2.9MB 52.2MB/s \n",
            "\u001b[?25hRequirement already satisfied: filelock in /usr/local/lib/python3.6/dist-packages (from transformers) (3.0.12)\n",
            "Requirement already satisfied: numpy in /usr/local/lib/python3.6/dist-packages (from transformers) (1.19.4)\n",
            "Collecting sacremoses\n",
            "\u001b[?25l  Downloading https://files.pythonhosted.org/packages/7d/34/09d19aff26edcc8eb2a01bed8e98f13a1537005d31e95233fd48216eed10/sacremoses-0.0.43.tar.gz (883kB)\n",
            "\u001b[K     |████████████████████████████████| 890kB 47.7MB/s \n",
            "\u001b[?25hRequirement already satisfied: tqdm>=4.27 in /usr/local/lib/python3.6/dist-packages (from transformers) (4.41.1)\n",
            "Requirement already satisfied: dataclasses; python_version < \"3.7\" in /usr/local/lib/python3.6/dist-packages (from transformers) (0.8)\n",
            "Requirement already satisfied: requests in /usr/local/lib/python3.6/dist-packages (from transformers) (2.23.0)\n",
            "Requirement already satisfied: pyparsing>=2.0.2 in /usr/local/lib/python3.6/dist-packages (from packaging->transformers) (2.4.7)\n",
            "Requirement already satisfied: six in /usr/local/lib/python3.6/dist-packages (from sacremoses->transformers) (1.15.0)\n",
            "Requirement already satisfied: click in /usr/local/lib/python3.6/dist-packages (from sacremoses->transformers) (7.1.2)\n",
            "Requirement already satisfied: joblib in /usr/local/lib/python3.6/dist-packages (from sacremoses->transformers) (1.0.0)\n",
            "Requirement already satisfied: urllib3!=1.25.0,!=1.25.1,<1.26,>=1.21.1 in /usr/local/lib/python3.6/dist-packages (from requests->transformers) (1.24.3)\n",
            "Requirement already satisfied: idna<3,>=2.5 in /usr/local/lib/python3.6/dist-packages (from requests->transformers) (2.10)\n",
            "Requirement already satisfied: certifi>=2017.4.17 in /usr/local/lib/python3.6/dist-packages (from requests->transformers) (2020.12.5)\n",
            "Requirement already satisfied: chardet<4,>=3.0.2 in /usr/local/lib/python3.6/dist-packages (from requests->transformers) (3.0.4)\n",
            "Building wheels for collected packages: sacremoses\n",
            "  Building wheel for sacremoses (setup.py) ... \u001b[?25l\u001b[?25hdone\n",
            "  Created wheel for sacremoses: filename=sacremoses-0.0.43-cp36-none-any.whl size=893261 sha256=246ebedd54d2578c39a339e1ee6136e9f574b7cc37c376eef89599799b7bc907\n",
            "  Stored in directory: /root/.cache/pip/wheels/29/3c/fd/7ce5c3f0666dab31a50123635e6fb5e19ceb42ce38d4e58f45\n",
            "Successfully built sacremoses\n",
            "Installing collected packages: tokenizers, sacremoses, transformers\n",
            "Successfully installed sacremoses-0.0.43 tokenizers-0.9.4 transformers-4.1.1\n"
          ],
          "name": "stdout"
        }
      ]
    },
    {
      "cell_type": "code",
      "metadata": {
        "colab": {
          "base_uri": "https://localhost:8080/"
        },
        "id": "PydrMIDuGI1E",
        "outputId": "afd4fad3-4666-43b9-911c-450c2b0ec147"
      },
      "source": [
        "!pip install sentencepiece"
      ],
      "execution_count": 2,
      "outputs": [
        {
          "output_type": "stream",
          "text": [
            "Collecting sentencepiece\n",
            "\u001b[?25l  Downloading https://files.pythonhosted.org/packages/e5/2d/6d4ca4bef9a67070fa1cac508606328329152b1df10bdf31fb6e4e727894/sentencepiece-0.1.94-cp36-cp36m-manylinux2014_x86_64.whl (1.1MB)\n",
            "\r\u001b[K     |▎                               | 10kB 20.2MB/s eta 0:00:01\r\u001b[K     |▋                               | 20kB 27.6MB/s eta 0:00:01\r\u001b[K     |▉                               | 30kB 31.1MB/s eta 0:00:01\r\u001b[K     |█▏                              | 40kB 34.2MB/s eta 0:00:01\r\u001b[K     |█▌                              | 51kB 35.8MB/s eta 0:00:01\r\u001b[K     |█▊                              | 61kB 38.1MB/s eta 0:00:01\r\u001b[K     |██                              | 71kB 26.3MB/s eta 0:00:01\r\u001b[K     |██▍                             | 81kB 27.6MB/s eta 0:00:01\r\u001b[K     |██▋                             | 92kB 25.8MB/s eta 0:00:01\r\u001b[K     |███                             | 102kB 23.7MB/s eta 0:00:01\r\u001b[K     |███▎                            | 112kB 23.7MB/s eta 0:00:01\r\u001b[K     |███▌                            | 122kB 23.7MB/s eta 0:00:01\r\u001b[K     |███▉                            | 133kB 23.7MB/s eta 0:00:01\r\u001b[K     |████▏                           | 143kB 23.7MB/s eta 0:00:01\r\u001b[K     |████▍                           | 153kB 23.7MB/s eta 0:00:01\r\u001b[K     |████▊                           | 163kB 23.7MB/s eta 0:00:01\r\u001b[K     |█████                           | 174kB 23.7MB/s eta 0:00:01\r\u001b[K     |█████▎                          | 184kB 23.7MB/s eta 0:00:01\r\u001b[K     |█████▋                          | 194kB 23.7MB/s eta 0:00:01\r\u001b[K     |█████▉                          | 204kB 23.7MB/s eta 0:00:01\r\u001b[K     |██████▏                         | 215kB 23.7MB/s eta 0:00:01\r\u001b[K     |██████▌                         | 225kB 23.7MB/s eta 0:00:01\r\u001b[K     |██████▊                         | 235kB 23.7MB/s eta 0:00:01\r\u001b[K     |███████                         | 245kB 23.7MB/s eta 0:00:01\r\u001b[K     |███████▍                        | 256kB 23.7MB/s eta 0:00:01\r\u001b[K     |███████▋                        | 266kB 23.7MB/s eta 0:00:01\r\u001b[K     |████████                        | 276kB 23.7MB/s eta 0:00:01\r\u001b[K     |████████▎                       | 286kB 23.7MB/s eta 0:00:01\r\u001b[K     |████████▌                       | 296kB 23.7MB/s eta 0:00:01\r\u001b[K     |████████▉                       | 307kB 23.7MB/s eta 0:00:01\r\u001b[K     |█████████                       | 317kB 23.7MB/s eta 0:00:01\r\u001b[K     |█████████▍                      | 327kB 23.7MB/s eta 0:00:01\r\u001b[K     |█████████▊                      | 337kB 23.7MB/s eta 0:00:01\r\u001b[K     |██████████                      | 348kB 23.7MB/s eta 0:00:01\r\u001b[K     |██████████▎                     | 358kB 23.7MB/s eta 0:00:01\r\u001b[K     |██████████▋                     | 368kB 23.7MB/s eta 0:00:01\r\u001b[K     |██████████▉                     | 378kB 23.7MB/s eta 0:00:01\r\u001b[K     |███████████▏                    | 389kB 23.7MB/s eta 0:00:01\r\u001b[K     |███████████▌                    | 399kB 23.7MB/s eta 0:00:01\r\u001b[K     |███████████▊                    | 409kB 23.7MB/s eta 0:00:01\r\u001b[K     |████████████                    | 419kB 23.7MB/s eta 0:00:01\r\u001b[K     |████████████▍                   | 430kB 23.7MB/s eta 0:00:01\r\u001b[K     |████████████▋                   | 440kB 23.7MB/s eta 0:00:01\r\u001b[K     |█████████████                   | 450kB 23.7MB/s eta 0:00:01\r\u001b[K     |█████████████▎                  | 460kB 23.7MB/s eta 0:00:01\r\u001b[K     |█████████████▌                  | 471kB 23.7MB/s eta 0:00:01\r\u001b[K     |█████████████▉                  | 481kB 23.7MB/s eta 0:00:01\r\u001b[K     |██████████████                  | 491kB 23.7MB/s eta 0:00:01\r\u001b[K     |██████████████▍                 | 501kB 23.7MB/s eta 0:00:01\r\u001b[K     |██████████████▊                 | 512kB 23.7MB/s eta 0:00:01\r\u001b[K     |███████████████                 | 522kB 23.7MB/s eta 0:00:01\r\u001b[K     |███████████████▎                | 532kB 23.7MB/s eta 0:00:01\r\u001b[K     |███████████████▋                | 542kB 23.7MB/s eta 0:00:01\r\u001b[K     |███████████████▉                | 552kB 23.7MB/s eta 0:00:01\r\u001b[K     |████████████████▏               | 563kB 23.7MB/s eta 0:00:01\r\u001b[K     |████████████████▌               | 573kB 23.7MB/s eta 0:00:01\r\u001b[K     |████████████████▊               | 583kB 23.7MB/s eta 0:00:01\r\u001b[K     |█████████████████               | 593kB 23.7MB/s eta 0:00:01\r\u001b[K     |█████████████████▍              | 604kB 23.7MB/s eta 0:00:01\r\u001b[K     |█████████████████▋              | 614kB 23.7MB/s eta 0:00:01\r\u001b[K     |██████████████████              | 624kB 23.7MB/s eta 0:00:01\r\u001b[K     |██████████████████▏             | 634kB 23.7MB/s eta 0:00:01\r\u001b[K     |██████████████████▌             | 645kB 23.7MB/s eta 0:00:01\r\u001b[K     |██████████████████▉             | 655kB 23.7MB/s eta 0:00:01\r\u001b[K     |███████████████████             | 665kB 23.7MB/s eta 0:00:01\r\u001b[K     |███████████████████▍            | 675kB 23.7MB/s eta 0:00:01\r\u001b[K     |███████████████████▊            | 686kB 23.7MB/s eta 0:00:01\r\u001b[K     |████████████████████            | 696kB 23.7MB/s eta 0:00:01\r\u001b[K     |████████████████████▎           | 706kB 23.7MB/s eta 0:00:01\r\u001b[K     |████████████████████▋           | 716kB 23.7MB/s eta 0:00:01\r\u001b[K     |████████████████████▉           | 727kB 23.7MB/s eta 0:00:01\r\u001b[K     |█████████████████████▏          | 737kB 23.7MB/s eta 0:00:01\r\u001b[K     |█████████████████████▌          | 747kB 23.7MB/s eta 0:00:01\r\u001b[K     |█████████████████████▊          | 757kB 23.7MB/s eta 0:00:01\r\u001b[K     |██████████████████████          | 768kB 23.7MB/s eta 0:00:01\r\u001b[K     |██████████████████████▎         | 778kB 23.7MB/s eta 0:00:01\r\u001b[K     |██████████████████████▋         | 788kB 23.7MB/s eta 0:00:01\r\u001b[K     |███████████████████████         | 798kB 23.7MB/s eta 0:00:01\r\u001b[K     |███████████████████████▏        | 808kB 23.7MB/s eta 0:00:01\r\u001b[K     |███████████████████████▌        | 819kB 23.7MB/s eta 0:00:01\r\u001b[K     |███████████████████████▉        | 829kB 23.7MB/s eta 0:00:01\r\u001b[K     |████████████████████████        | 839kB 23.7MB/s eta 0:00:01\r\u001b[K     |████████████████████████▍       | 849kB 23.7MB/s eta 0:00:01\r\u001b[K     |████████████████████████▊       | 860kB 23.7MB/s eta 0:00:01\r\u001b[K     |█████████████████████████       | 870kB 23.7MB/s eta 0:00:01\r\u001b[K     |█████████████████████████▎      | 880kB 23.7MB/s eta 0:00:01\r\u001b[K     |█████████████████████████▋      | 890kB 23.7MB/s eta 0:00:01\r\u001b[K     |█████████████████████████▉      | 901kB 23.7MB/s eta 0:00:01\r\u001b[K     |██████████████████████████▏     | 911kB 23.7MB/s eta 0:00:01\r\u001b[K     |██████████████████████████▌     | 921kB 23.7MB/s eta 0:00:01\r\u001b[K     |██████████████████████████▊     | 931kB 23.7MB/s eta 0:00:01\r\u001b[K     |███████████████████████████     | 942kB 23.7MB/s eta 0:00:01\r\u001b[K     |███████████████████████████▎    | 952kB 23.7MB/s eta 0:00:01\r\u001b[K     |███████████████████████████▋    | 962kB 23.7MB/s eta 0:00:01\r\u001b[K     |████████████████████████████    | 972kB 23.7MB/s eta 0:00:01\r\u001b[K     |████████████████████████████▏   | 983kB 23.7MB/s eta 0:00:01\r\u001b[K     |████████████████████████████▌   | 993kB 23.7MB/s eta 0:00:01\r\u001b[K     |████████████████████████████▉   | 1.0MB 23.7MB/s eta 0:00:01\r\u001b[K     |█████████████████████████████   | 1.0MB 23.7MB/s eta 0:00:01\r\u001b[K     |█████████████████████████████▍  | 1.0MB 23.7MB/s eta 0:00:01\r\u001b[K     |█████████████████████████████▊  | 1.0MB 23.7MB/s eta 0:00:01\r\u001b[K     |██████████████████████████████  | 1.0MB 23.7MB/s eta 0:00:01\r\u001b[K     |██████████████████████████████▎ | 1.1MB 23.7MB/s eta 0:00:01\r\u001b[K     |██████████████████████████████▋ | 1.1MB 23.7MB/s eta 0:00:01\r\u001b[K     |██████████████████████████████▉ | 1.1MB 23.7MB/s eta 0:00:01\r\u001b[K     |███████████████████████████████▏| 1.1MB 23.7MB/s eta 0:00:01\r\u001b[K     |███████████████████████████████▍| 1.1MB 23.7MB/s eta 0:00:01\r\u001b[K     |███████████████████████████████▊| 1.1MB 23.7MB/s eta 0:00:01\r\u001b[K     |████████████████████████████████| 1.1MB 23.7MB/s \n",
            "\u001b[?25hInstalling collected packages: sentencepiece\n",
            "Successfully installed sentencepiece-0.1.94\n"
          ],
          "name": "stdout"
        }
      ]
    },
    {
      "cell_type": "code",
      "metadata": {
        "id": "ckTAoo4HE0mh"
      },
      "source": [
        "import os\n",
        "import pandas as pd\n",
        "import sentencepiece\n",
        "import torch\n",
        "\n",
        "from transformers import PegasusForConditionalGeneration, PegasusTokenizer"
      ],
      "execution_count": 3,
      "outputs": []
    },
    {
      "cell_type": "code",
      "metadata": {
        "colab": {
          "base_uri": "https://localhost:8080/"
        },
        "id": "cvqlaIQQI9Fp",
        "outputId": "e52046d2-5e2a-4f90-e3c0-81ce00881899"
      },
      "source": [
        "# Mount Google Drive\n",
        "from google.colab import drive # import drive from google colab\n",
        "\n",
        "ROOT = \"/content/drive\"     # default location for the drive\n",
        "print(ROOT)                 # print content of ROOT (Optional)\n",
        "\n",
        "drive.mount(ROOT)           # we mount the google drive at /content/drive"
      ],
      "execution_count": 5,
      "outputs": [
        {
          "output_type": "stream",
          "text": [
            "/content/drive\n",
            "Mounted at /content/drive\n"
          ],
          "name": "stdout"
        }
      ]
    },
    {
      "cell_type": "code",
      "metadata": {
        "id": "cc0YLxp8JCCP"
      },
      "source": [
        "DATA_DIR = os.path.join(ROOT, \"MyDrive\", \"nlp-deeplearning-ai-data\")\n",
        "\n",
        "REVIEWS_FILE = os.path.join(DATA_DIR, \"Reviews.csv\")"
      ],
      "execution_count": 6,
      "outputs": []
    },
    {
      "cell_type": "code",
      "metadata": {
        "colab": {
          "base_uri": "https://localhost:8080/",
          "height": 204
        },
        "id": "lNTI8jBQIv_h",
        "outputId": "198c6448-85ab-4beb-b4a6-88156f5aee3f"
      },
      "source": [
        "reviews_df = pd.read_csv(REVIEWS_FILE, nrows=10)[[\"Text\", \"Summary\"]]\n",
        "reviews_df.head()"
      ],
      "execution_count": 7,
      "outputs": [
        {
          "output_type": "execute_result",
          "data": {
            "text/html": [
              "<div>\n",
              "<style scoped>\n",
              "    .dataframe tbody tr th:only-of-type {\n",
              "        vertical-align: middle;\n",
              "    }\n",
              "\n",
              "    .dataframe tbody tr th {\n",
              "        vertical-align: top;\n",
              "    }\n",
              "\n",
              "    .dataframe thead th {\n",
              "        text-align: right;\n",
              "    }\n",
              "</style>\n",
              "<table border=\"1\" class=\"dataframe\">\n",
              "  <thead>\n",
              "    <tr style=\"text-align: right;\">\n",
              "      <th></th>\n",
              "      <th>Text</th>\n",
              "      <th>Summary</th>\n",
              "    </tr>\n",
              "  </thead>\n",
              "  <tbody>\n",
              "    <tr>\n",
              "      <th>0</th>\n",
              "      <td>I have bought several of the Vitality canned d...</td>\n",
              "      <td>Good Quality Dog Food</td>\n",
              "    </tr>\n",
              "    <tr>\n",
              "      <th>1</th>\n",
              "      <td>Product arrived labeled as Jumbo Salted Peanut...</td>\n",
              "      <td>Not as Advertised</td>\n",
              "    </tr>\n",
              "    <tr>\n",
              "      <th>2</th>\n",
              "      <td>This is a confection that has been around a fe...</td>\n",
              "      <td>\"Delight\" says it all</td>\n",
              "    </tr>\n",
              "    <tr>\n",
              "      <th>3</th>\n",
              "      <td>If you are looking for the secret ingredient i...</td>\n",
              "      <td>Cough Medicine</td>\n",
              "    </tr>\n",
              "    <tr>\n",
              "      <th>4</th>\n",
              "      <td>Great taffy at a great price.  There was a wid...</td>\n",
              "      <td>Great taffy</td>\n",
              "    </tr>\n",
              "  </tbody>\n",
              "</table>\n",
              "</div>"
            ],
            "text/plain": [
              "                                                Text                Summary\n",
              "0  I have bought several of the Vitality canned d...  Good Quality Dog Food\n",
              "1  Product arrived labeled as Jumbo Salted Peanut...      Not as Advertised\n",
              "2  This is a confection that has been around a fe...  \"Delight\" says it all\n",
              "3  If you are looking for the secret ingredient i...         Cough Medicine\n",
              "4  Great taffy at a great price.  There was a wid...            Great taffy"
            ]
          },
          "metadata": {
            "tags": []
          },
          "execution_count": 7
        }
      ]
    },
    {
      "cell_type": "code",
      "metadata": {
        "colab": {
          "base_uri": "https://localhost:8080/"
        },
        "id": "2xtfMABIJZyS",
        "outputId": "c7318800-0a73-4a5b-8d8a-bb0b5ecab223"
      },
      "source": [
        "texts = reviews_df.Text.values.tolist()\n",
        "texts"
      ],
      "execution_count": 8,
      "outputs": [
        {
          "output_type": "execute_result",
          "data": {
            "text/plain": [
              "['I have bought several of the Vitality canned dog food products and have found them all to be of good quality. The product looks more like a stew than a processed meat and it smells better. My Labrador is finicky and she appreciates this product better than  most.',\n",
              " 'Product arrived labeled as Jumbo Salted Peanuts...the peanuts were actually small sized unsalted. Not sure if this was an error or if the vendor intended to represent the product as \"Jumbo\".',\n",
              " 'This is a confection that has been around a few centuries.  It is a light, pillowy citrus gelatin with nuts - in this case Filberts. And it is cut into tiny squares and then liberally coated with powdered sugar.  And it is a tiny mouthful of heaven.  Not too chewy, and very flavorful.  I highly recommend this yummy treat.  If you are familiar with the story of C.S. Lewis\\' \"The Lion, The Witch, and The Wardrobe\" - this is the treat that seduces Edmund into selling out his Brother and Sisters to the Witch.',\n",
              " 'If you are looking for the secret ingredient in Robitussin I believe I have found it.  I got this in addition to the Root Beer Extract I ordered (which was good) and made some cherry soda.  The flavor is very medicinal.',\n",
              " 'Great taffy at a great price.  There was a wide assortment of yummy taffy.  Delivery was very quick.  If your a taffy lover, this is a deal.',\n",
              " 'I got a wild hair for taffy and ordered this five pound bag. The taffy was all very enjoyable with many flavors: watermelon, root beer, melon, peppermint, grape, etc. My only complaint is there was a bit too much red/black licorice-flavored pieces (just not my particular favorites). Between me, my kids, and my husband, this lasted only two weeks! I would recommend this brand of taffy -- it was a delightful treat.',\n",
              " \"This saltwater taffy had great flavors and was very soft and chewy.  Each candy was individually wrapped well.  None of the candies were stuck together, which did happen in the expensive version, Fralinger's.  Would highly recommend this candy!  I served it at a beach-themed party and everyone loved it!\",\n",
              " 'This taffy is so good.  It is very soft and chewy.  The flavors are amazing.  I would definitely recommend you buying it.  Very satisfying!!',\n",
              " \"Right now I'm mostly just sprouting this so my cats can eat the grass. They love it. I rotate it around with Wheatgrass and Rye too\",\n",
              " 'This is a very healthy dog food. Good for their digestion. Also good for small puppies. My dog eats her required amount at every feeding.']"
            ]
          },
          "metadata": {
            "tags": []
          },
          "execution_count": 8
        }
      ]
    },
    {
      "cell_type": "code",
      "metadata": {
        "colab": {
          "base_uri": "https://localhost:8080/"
        },
        "id": "QLm1yKNAKapX",
        "outputId": "42c9c54b-1e1a-4e21-f986-51e2141828e7"
      },
      "source": [
        "len(texts)"
      ],
      "execution_count": 9,
      "outputs": [
        {
          "output_type": "execute_result",
          "data": {
            "text/plain": [
              "10"
            ]
          },
          "metadata": {
            "tags": []
          },
          "execution_count": 9
        }
      ]
    },
    {
      "cell_type": "code",
      "metadata": {
        "colab": {
          "base_uri": "https://localhost:8080/",
          "height": 218,
          "referenced_widgets": [
            "2609980cab7d4e06b4d84ae2d5654aa9",
            "70e16a3a7a2c41179becd8c97b2f0ff6",
            "4c5fb4c715ae482b9e67349d2c96568b",
            "fed0400da4fd4210b3fe3dc0cc29dfb3",
            "214e719acc594f2988c7c0bc93ce260f",
            "b2b57614b6f044698ce6b595810959fd",
            "efdc754a9c424222ac949ab330f24ec3",
            "032cb7bf39464d4cb33012146f54b967",
            "1a2eef259295467bbc4d4e2e180161a6",
            "cab94da03ac54bb4ac059290fdc31551",
            "cf88a6dbacac40fb8c7c279a9d3fbe31",
            "32e959670b464826a3536694684b58eb",
            "bb9c733590cd4aeb8f01fc71aaf8f170",
            "db37dd9d65f749918beb152deaac7a7c",
            "44d7b18f17164f5abdb8f1552ef5b174",
            "dca99d6995d0404089b3aafabc0b3f6a",
            "25e1ba3134424d07834e46d28901a632",
            "c413ae7516cf484c8d177036884669e7",
            "6d1d08a19ee147bf83d8c13181ebcc0b",
            "5410aba5a579464b93f9809bfea5c122",
            "f7370ced0e24474cb745bb5b55a39e49",
            "e597d1520e3743f59383064c55e4d9a7",
            "bf2912dd274d44568a2bd0ad201ec7f7",
            "1453d233bde642ecb65e62726b87ca4d"
          ]
        },
        "id": "gNTQgU1ZFiV1",
        "outputId": "d26ec7b4-e609-49a0-f88d-a405f62d3a94"
      },
      "source": [
        "model_name = 'google/pegasus-xsum'\n",
        "\n",
        "tokenizer = PegasusTokenizer.from_pretrained(model_name)\n",
        "model = PegasusForConditionalGeneration.from_pretrained(model_name)"
      ],
      "execution_count": 10,
      "outputs": [
        {
          "output_type": "display_data",
          "data": {
            "application/vnd.jupyter.widget-view+json": {
              "model_id": "2609980cab7d4e06b4d84ae2d5654aa9",
              "version_minor": 0,
              "version_major": 2
            },
            "text/plain": [
              "HBox(children=(FloatProgress(value=0.0, description='Downloading', max=1912529.0, style=ProgressStyle(descript…"
            ]
          },
          "metadata": {
            "tags": []
          }
        },
        {
          "output_type": "stream",
          "text": [
            "\n"
          ],
          "name": "stdout"
        },
        {
          "output_type": "display_data",
          "data": {
            "application/vnd.jupyter.widget-view+json": {
              "model_id": "1a2eef259295467bbc4d4e2e180161a6",
              "version_minor": 0,
              "version_major": 2
            },
            "text/plain": [
              "HBox(children=(FloatProgress(value=0.0, description='Downloading', max=1099.0, style=ProgressStyle(description…"
            ]
          },
          "metadata": {
            "tags": []
          }
        },
        {
          "output_type": "stream",
          "text": [
            "\n"
          ],
          "name": "stdout"
        },
        {
          "output_type": "display_data",
          "data": {
            "application/vnd.jupyter.widget-view+json": {
              "model_id": "25e1ba3134424d07834e46d28901a632",
              "version_minor": 0,
              "version_major": 2
            },
            "text/plain": [
              "HBox(children=(FloatProgress(value=0.0, description='Downloading', max=2275329241.0, style=ProgressStyle(descr…"
            ]
          },
          "metadata": {
            "tags": []
          }
        },
        {
          "output_type": "stream",
          "text": [
            "\n"
          ],
          "name": "stdout"
        },
        {
          "output_type": "stream",
          "text": [
            "Some weights of PegasusForConditionalGeneration were not initialized from the model checkpoint at google/pegasus-xsum and are newly initialized: ['lm_head.weight']\n",
            "You should probably TRAIN this model on a down-stream task to be able to use it for predictions and inference.\n"
          ],
          "name": "stderr"
        }
      ]
    },
    {
      "cell_type": "code",
      "metadata": {
        "id": "-rCyFXugFlen"
      },
      "source": [
        "dev = \"cuda\" if torch.cuda.is_available() else \"cpu\"\n",
        "model = model.to(dev)"
      ],
      "execution_count": 11,
      "outputs": []
    },
    {
      "cell_type": "code",
      "metadata": {
        "colab": {
          "base_uri": "https://localhost:8080/"
        },
        "id": "YZWbp1ShFtwq",
        "outputId": "c883735f-d878-4471-d199-d3900d1b80ab"
      },
      "source": [
        "batch = tokenizer.prepare_seq2seq_batch(\n",
        "    texts, truncation=True, padding=\"longest\", return_tensors=\"pt\")\n",
        "batch = batch.to(dev)\n",
        "translated = model.generate(**batch)\n",
        "summaries = tokenizer.batch_decode(translated, skip_special_tokens=True)\n",
        "print(summaries)"
      ],
      "execution_count": 12,
      "outputs": [
        {
          "output_type": "stream",
          "text": [
            "['Can you tell me what I am getting for my money?', 'I was sent a box of Jumbo Salted Peanuts and they were not the size I was expecting.', 'This is one of my all-time favourite treats.', 'I have been taking Robitussin for a long time and it has made me feel better.', 'Great taffy at a great price.', 'taffy, taffy, taffy, taffy, taffy, taffy, taffy, taffy, taffy, taffy, taffy, taffy, taffy, taffy, taffy, taffy, taffy, taffy, taffy, taffy, taffy', 'This is the best taffy I have ever had.', 'This is the best taffy I have ever had.', \"This is the first year I've grown this type of grass in my back garden.\", 'This is a good quality food.']\n"
          ],
          "name": "stdout"
        }
      ]
    },
    {
      "cell_type": "code",
      "metadata": {
        "colab": {
          "base_uri": "https://localhost:8080/",
          "height": 359
        },
        "id": "_zuROCMiF4uQ",
        "outputId": "d2da1c7b-12b9-42cd-8d1d-7bcfc593588c"
      },
      "source": [
        "reviews_df[\"pred_summaries\"] = summaries\n",
        "reviews_df.head(10)"
      ],
      "execution_count": 14,
      "outputs": [
        {
          "output_type": "execute_result",
          "data": {
            "text/html": [
              "<div>\n",
              "<style scoped>\n",
              "    .dataframe tbody tr th:only-of-type {\n",
              "        vertical-align: middle;\n",
              "    }\n",
              "\n",
              "    .dataframe tbody tr th {\n",
              "        vertical-align: top;\n",
              "    }\n",
              "\n",
              "    .dataframe thead th {\n",
              "        text-align: right;\n",
              "    }\n",
              "</style>\n",
              "<table border=\"1\" class=\"dataframe\">\n",
              "  <thead>\n",
              "    <tr style=\"text-align: right;\">\n",
              "      <th></th>\n",
              "      <th>Text</th>\n",
              "      <th>Summary</th>\n",
              "      <th>pred_summaries</th>\n",
              "    </tr>\n",
              "  </thead>\n",
              "  <tbody>\n",
              "    <tr>\n",
              "      <th>0</th>\n",
              "      <td>I have bought several of the Vitality canned d...</td>\n",
              "      <td>Good Quality Dog Food</td>\n",
              "      <td>Can you tell me what I am getting for my money?</td>\n",
              "    </tr>\n",
              "    <tr>\n",
              "      <th>1</th>\n",
              "      <td>Product arrived labeled as Jumbo Salted Peanut...</td>\n",
              "      <td>Not as Advertised</td>\n",
              "      <td>I was sent a box of Jumbo Salted Peanuts and t...</td>\n",
              "    </tr>\n",
              "    <tr>\n",
              "      <th>2</th>\n",
              "      <td>This is a confection that has been around a fe...</td>\n",
              "      <td>\"Delight\" says it all</td>\n",
              "      <td>This is one of my all-time favourite treats.</td>\n",
              "    </tr>\n",
              "    <tr>\n",
              "      <th>3</th>\n",
              "      <td>If you are looking for the secret ingredient i...</td>\n",
              "      <td>Cough Medicine</td>\n",
              "      <td>I have been taking Robitussin for a long time ...</td>\n",
              "    </tr>\n",
              "    <tr>\n",
              "      <th>4</th>\n",
              "      <td>Great taffy at a great price.  There was a wid...</td>\n",
              "      <td>Great taffy</td>\n",
              "      <td>Great taffy at a great price.</td>\n",
              "    </tr>\n",
              "    <tr>\n",
              "      <th>5</th>\n",
              "      <td>I got a wild hair for taffy and ordered this f...</td>\n",
              "      <td>Nice Taffy</td>\n",
              "      <td>taffy, taffy, taffy, taffy, taffy, taffy, taff...</td>\n",
              "    </tr>\n",
              "    <tr>\n",
              "      <th>6</th>\n",
              "      <td>This saltwater taffy had great flavors and was...</td>\n",
              "      <td>Great!  Just as good as the expensive brands!</td>\n",
              "      <td>This is the best taffy I have ever had.</td>\n",
              "    </tr>\n",
              "    <tr>\n",
              "      <th>7</th>\n",
              "      <td>This taffy is so good.  It is very soft and ch...</td>\n",
              "      <td>Wonderful, tasty taffy</td>\n",
              "      <td>This is the best taffy I have ever had.</td>\n",
              "    </tr>\n",
              "    <tr>\n",
              "      <th>8</th>\n",
              "      <td>Right now I'm mostly just sprouting this so my...</td>\n",
              "      <td>Yay Barley</td>\n",
              "      <td>This is the first year I've grown this type of...</td>\n",
              "    </tr>\n",
              "    <tr>\n",
              "      <th>9</th>\n",
              "      <td>This is a very healthy dog food. Good for thei...</td>\n",
              "      <td>Healthy Dog Food</td>\n",
              "      <td>This is a good quality food.</td>\n",
              "    </tr>\n",
              "  </tbody>\n",
              "</table>\n",
              "</div>"
            ],
            "text/plain": [
              "                                                Text  ...                                     pred_summaries\n",
              "0  I have bought several of the Vitality canned d...  ...    Can you tell me what I am getting for my money?\n",
              "1  Product arrived labeled as Jumbo Salted Peanut...  ...  I was sent a box of Jumbo Salted Peanuts and t...\n",
              "2  This is a confection that has been around a fe...  ...       This is one of my all-time favourite treats.\n",
              "3  If you are looking for the secret ingredient i...  ...  I have been taking Robitussin for a long time ...\n",
              "4  Great taffy at a great price.  There was a wid...  ...                      Great taffy at a great price.\n",
              "5  I got a wild hair for taffy and ordered this f...  ...  taffy, taffy, taffy, taffy, taffy, taffy, taff...\n",
              "6  This saltwater taffy had great flavors and was...  ...            This is the best taffy I have ever had.\n",
              "7  This taffy is so good.  It is very soft and ch...  ...            This is the best taffy I have ever had.\n",
              "8  Right now I'm mostly just sprouting this so my...  ...  This is the first year I've grown this type of...\n",
              "9  This is a very healthy dog food. Good for thei...  ...                       This is a good quality food.\n",
              "\n",
              "[10 rows x 3 columns]"
            ]
          },
          "metadata": {
            "tags": []
          },
          "execution_count": 14
        }
      ]
    },
    {
      "cell_type": "code",
      "metadata": {
        "id": "CjqyJVZaLaJu"
      },
      "source": [
        ""
      ],
      "execution_count": null,
      "outputs": []
    }
  ]
}