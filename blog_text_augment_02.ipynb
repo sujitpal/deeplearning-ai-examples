{
  "nbformat": 4,
  "nbformat_minor": 0,
  "metadata": {
    "colab": {
      "name": "blog_text_augment_02.ipynb",
      "provenance": [],
      "collapsed_sections": [],
      "authorship_tag": "ABX9TyPkRnMVRoZxBX9/obsDvZWc",
      "include_colab_link": true
    },
    "kernelspec": {
      "name": "python3",
      "display_name": "Python 3"
    },
    "accelerator": "GPU"
  },
  "cells": [
    {
      "cell_type": "markdown",
      "metadata": {
        "id": "view-in-github",
        "colab_type": "text"
      },
      "source": [
        "<a href=\"https://colab.research.google.com/github/sujitpal/deeplearning-ai-examples/blob/master/blog_text_augment_02.ipynb\" target=\"_parent\"><img src=\"https://colab.research.google.com/assets/colab-badge.svg\" alt=\"Open In Colab\"/></a>"
      ]
    },
    {
      "cell_type": "markdown",
      "metadata": {
        "id": "OaRXoIydsCwY"
      },
      "source": [
        "## Augmenting to balance unbalanced text dataset (Part 2)\n",
        "\n",
        "This notebook uses the data prepared from the previous notebook, and tries out 5 + 1 baseline strategies against a 3 layer fully connected network.\n",
        "\n",
        "Because we investigate the case where we augment before and after embedding, the embedding is done separately in the previous notebook using Google Universal Sentence Encoder (GUSE), and input to the network is always a (512,) vector."
      ]
    },
    {
      "cell_type": "code",
      "metadata": {
        "colab": {
          "base_uri": "https://localhost:8080/"
        },
        "id": "FRc-yyHYDqR5",
        "outputId": "40523634-9d67-4133-c2a7-fa4b9b3d9034"
      },
      "source": [
        "import matplotlib.pyplot as plt\n",
        "import numpy as np\n",
        "import operator\n",
        "import os\n",
        "import pandas as pd\n",
        "\n",
        "import torch\n",
        "import torch.nn as nn\n",
        "import torch.nn.functional as F\n",
        "from torch.utils.data import TensorDataset, DataLoader\n",
        "\n",
        "from google.colab import drive\n",
        "from sklearn.metrics import accuracy_score, confusion_matrix, classification_report\n",
        "from sklearn.neighbors import base\n",
        "\n",
        "from imblearn.over_sampling import SMOTE\n",
        "\n",
        "%matplotlib inline"
      ],
      "execution_count": 1,
      "outputs": [
        {
          "output_type": "stream",
          "text": [
            "/usr/local/lib/python3.6/dist-packages/sklearn/utils/deprecation.py:144: FutureWarning: The sklearn.neighbors.base module is  deprecated in version 0.22 and will be removed in version 0.24. The corresponding classes / functions should instead be imported from sklearn.neighbors. Anything that cannot be imported from sklearn.neighbors is now part of the private API.\n",
            "  warnings.warn(message, FutureWarning)\n",
            "/usr/local/lib/python3.6/dist-packages/sklearn/externals/six.py:31: FutureWarning: The module is deprecated in version 0.21 and will be removed in version 0.23 since we've dropped support for Python 2.7. Please rely on the official version of six (https://pypi.org/project/six/).\n",
            "  \"(https://pypi.org/project/six/).\", FutureWarning)\n"
          ],
          "name": "stderr"
        }
      ]
    },
    {
      "cell_type": "code",
      "metadata": {
        "colab": {
          "base_uri": "https://localhost:8080/"
        },
        "id": "TyrO7tlKD8ic",
        "outputId": "ae121b19-c381-4fc8-c4dc-cff70f89a1af"
      },
      "source": [
        "# Mount Google Drive\n",
        "\n",
        "ROOT = \"/content/drive\"     # default location for the drive\n",
        "print(ROOT)                 # print content of ROOT (Optional)\n",
        "\n",
        "drive.mount(ROOT)           # we mount the google drive at /content/drive"
      ],
      "execution_count": 2,
      "outputs": [
        {
          "output_type": "stream",
          "text": [
            "/content/drive\n",
            "Drive already mounted at /content/drive; to attempt to forcibly remount, call drive.mount(\"/content/drive\", force_remount=True).\n"
          ],
          "name": "stdout"
        }
      ]
    },
    {
      "cell_type": "code",
      "metadata": {
        "id": "1HSFewHPDxYs"
      },
      "source": [
        "DATA_DIR = \"/content/drive/MyDrive/nlp-deeplearning-ai-data\"\n",
        "\n",
        "# pre-split data splits prepared in previous (01) notebook\n",
        "SPAM_TRAIN_FILE = os.path.join(DATA_DIR, \"spam_train_emb.tsv\")\n",
        "SPAM_VALID_FILE = os.path.join(DATA_DIR, \"spam_valid_emb.tsv\")\n",
        "SPAM_TEST_FILE = os.path.join(DATA_DIR, \"spam_test_emb.tsv\")\n",
        "\n",
        "# only used for TextAttack experiment\n",
        "SPAM_TA_TRAIN_FILE = os.path.join(DATA_DIR, \"spam_train_ta_emb.tsv\")\n",
        "\n",
        "CLF_LAYER_DIMS = [512, 128, 32, 2]\n",
        "\n",
        "BATCH_SIZE = 128\n",
        "LEARNING_RATE = 1e-3\n",
        "NUM_EPOCHS = 10\n",
        "\n",
        "ACCURACY_STATS = []"
      ],
      "execution_count": 3,
      "outputs": []
    },
    {
      "cell_type": "code",
      "metadata": {
        "colab": {
          "base_uri": "https://localhost:8080/"
        },
        "id": "hzut3LbFttj9",
        "outputId": "a27aacdd-c34c-4f71-ab12-f50a9e19f839"
      },
      "source": [
        "spam_train_df = pd.read_csv(SPAM_TRAIN_FILE, sep='\\t').dropna().reset_index()\n",
        "spam_valid_df = pd.read_csv(SPAM_VALID_FILE, sep='\\t').dropna().reset_index()\n",
        "spam_test_df = pd.read_csv(SPAM_TEST_FILE, sep='\\t').dropna().reset_index()\n",
        "\n",
        "len(spam_train_df), len(spam_valid_df), len(spam_test_df)"
      ],
      "execution_count": 4,
      "outputs": [
        {
          "output_type": "execute_result",
          "data": {
            "text/plain": [
              "(3900, 557, 1115)"
            ]
          },
          "metadata": {
            "tags": []
          },
          "execution_count": 4
        }
      ]
    },
    {
      "cell_type": "code",
      "metadata": {
        "colab": {
          "base_uri": "https://localhost:8080/",
          "height": 204
        },
        "id": "8gIg756-M3b7",
        "outputId": "be7fe5b8-1fb6-43db-d856-1c7d2fbf9d66"
      },
      "source": [
        "spam_train_df.head()"
      ],
      "execution_count": 5,
      "outputs": [
        {
          "output_type": "execute_result",
          "data": {
            "text/html": [
              "<div>\n",
              "<style scoped>\n",
              "    .dataframe tbody tr th:only-of-type {\n",
              "        vertical-align: middle;\n",
              "    }\n",
              "\n",
              "    .dataframe tbody tr th {\n",
              "        vertical-align: top;\n",
              "    }\n",
              "\n",
              "    .dataframe thead th {\n",
              "        text-align: right;\n",
              "    }\n",
              "</style>\n",
              "<table border=\"1\" class=\"dataframe\">\n",
              "  <thead>\n",
              "    <tr style=\"text-align: right;\">\n",
              "      <th></th>\n",
              "      <th>index</th>\n",
              "      <th>sentence</th>\n",
              "      <th>label</th>\n",
              "      <th>embedding</th>\n",
              "    </tr>\n",
              "  </thead>\n",
              "  <tbody>\n",
              "    <tr>\n",
              "      <th>0</th>\n",
              "      <td>0</td>\n",
              "      <td>Ugh I don't wanna get out of bed. It's so warm.</td>\n",
              "      <td>ham</td>\n",
              "      <td>5.3949911e-02,5.8220369e-03,-3.1541418e-02,3.3...</td>\n",
              "    </tr>\n",
              "    <tr>\n",
              "      <th>1</th>\n",
              "      <td>1</td>\n",
              "      <td>Dear i have reache room</td>\n",
              "      <td>ham</td>\n",
              "      <td>4.7420025e-02,2.3147971e-03,1.6905151e-02,-1.1...</td>\n",
              "    </tr>\n",
              "    <tr>\n",
              "      <th>2</th>\n",
              "      <td>2</td>\n",
              "      <td>I always chat with you. In fact i need money c...</td>\n",
              "      <td>ham</td>\n",
              "      <td>3.6402624e-02,-1.0346117e-01,5.0689392e-02,2.1...</td>\n",
              "    </tr>\n",
              "    <tr>\n",
              "      <th>3</th>\n",
              "      <td>3</td>\n",
              "      <td>Yes just finished watching days of our lives. ...</td>\n",
              "      <td>ham</td>\n",
              "      <td>1.6084902e-02,-1.7980557e-03,-4.4794872e-02,3....</td>\n",
              "    </tr>\n",
              "    <tr>\n",
              "      <th>4</th>\n",
              "      <td>4</td>\n",
              "      <td>Nice.nice.how is it working?</td>\n",
              "      <td>ham</td>\n",
              "      <td>-4.0968325e-02,-2.6070992e-02,-1.6136026e-02,-...</td>\n",
              "    </tr>\n",
              "  </tbody>\n",
              "</table>\n",
              "</div>"
            ],
            "text/plain": [
              "   index  ...                                          embedding\n",
              "0      0  ...  5.3949911e-02,5.8220369e-03,-3.1541418e-02,3.3...\n",
              "1      1  ...  4.7420025e-02,2.3147971e-03,1.6905151e-02,-1.1...\n",
              "2      2  ...  3.6402624e-02,-1.0346117e-01,5.0689392e-02,2.1...\n",
              "3      3  ...  1.6084902e-02,-1.7980557e-03,-4.4794872e-02,3....\n",
              "4      4  ...  -4.0968325e-02,-2.6070992e-02,-1.6136026e-02,-...\n",
              "\n",
              "[5 rows x 4 columns]"
            ]
          },
          "metadata": {
            "tags": []
          },
          "execution_count": 5
        }
      ]
    },
    {
      "cell_type": "code",
      "metadata": {
        "colab": {
          "base_uri": "https://localhost:8080/"
        },
        "id": "vYaJo6w6wHBs",
        "outputId": "a2357ebb-c2ee-4826-8fe9-ed3cc0a3365a"
      },
      "source": [
        "spam_train_df[\"label\"].value_counts()"
      ],
      "execution_count": 6,
      "outputs": [
        {
          "output_type": "execute_result",
          "data": {
            "text/plain": [
              "ham     3355\n",
              "spam     545\n",
              "Name: label, dtype: int64"
            ]
          },
          "metadata": {
            "tags": []
          },
          "execution_count": 6
        }
      ]
    },
    {
      "cell_type": "code",
      "metadata": {
        "colab": {
          "base_uri": "https://localhost:8080/",
          "height": 302
        },
        "id": "L9Fg-3EVwKzW",
        "outputId": "f48a9f22-7d48-431b-e229-d3c87edcc22a"
      },
      "source": [
        "spam_train_df[\"label\"].value_counts().plot(kind=\"bar\")"
      ],
      "execution_count": 7,
      "outputs": [
        {
          "output_type": "execute_result",
          "data": {
            "text/plain": [
              "<matplotlib.axes._subplots.AxesSubplot at 0x7f6865c248d0>"
            ]
          },
          "metadata": {
            "tags": []
          },
          "execution_count": 7
        },
        {
          "output_type": "display_data",
          "data": {
            "image/png": "[encoded data removed]",
            "text/plain": [
              "<Figure size 432x288 with 1 Axes>"
            ]
          },
          "metadata": {
            "tags": [],
            "needs_background": "light"
          }
        }
      ]
    },
    {
      "cell_type": "markdown",
      "metadata": {
        "id": "A-0m6b0cf0rE"
      },
      "source": [
        "## Baseline"
      ]
    },
    {
      "cell_type": "code",
      "metadata": {
        "id": "RBsPxE1bPFgQ"
      },
      "source": [
        "def create_dataset(input_df):\n",
        "  emb_vecs = []\n",
        "  for emb in input_df[\"embedding\"].values:\n",
        "    vec = np.array([float(x) for x in str(emb).split(\",\")])\n",
        "    emb_vecs.append(vec)\n",
        "  labels = [0 if label == \"ham\" else 1 for label in input_df[\"label\"].values]\n",
        "  return TensorDataset(\n",
        "      torch.tensor(np.array(emb_vecs), dtype=torch.float32),\n",
        "      torch.tensor(np.array(labels), dtype=torch.long)\n",
        "  )\n",
        "\n",
        "\n",
        "train_ds = create_dataset(spam_train_df)\n",
        "val_ds = create_dataset(spam_valid_df)\n",
        "test_ds = create_dataset(spam_test_df)"
      ],
      "execution_count": 8,
      "outputs": []
    },
    {
      "cell_type": "code",
      "metadata": {
        "id": "rSRVZ4wDXHMn"
      },
      "source": [
        "train_dl = DataLoader(train_ds, batch_size=BATCH_SIZE, shuffle=True)\n",
        "val_dl = DataLoader(val_ds, batch_size=BATCH_SIZE, shuffle=False)\n",
        "test_dl = DataLoader(test_ds, batch_size=BATCH_SIZE, shuffle=False)"
      ],
      "execution_count": 9,
      "outputs": []
    },
    {
      "cell_type": "code",
      "metadata": {
        "colab": {
          "base_uri": "https://localhost:8080/"
        },
        "id": "2G6Y-QyVD4aJ",
        "outputId": "24e0d744-9a25-4ed5-8074-75a2083f8e2e"
      },
      "source": [
        "class SpamClassifier(nn.Module):\n",
        "  def __init__(self, dimensions):\n",
        "    super(SpamClassifier, self).__init__()\n",
        "    self.input_layer = nn.Linear(dimensions[0], dimensions[1])\n",
        "    self.hidden_layers = nn.ModuleList()\n",
        "    for i in range(1, len(dimensions) - 2):\n",
        "      hidden_layer = nn.Linear(dimensions[i], dimensions[i + 1])\n",
        "      self.hidden_layers.append(hidden_layer)\n",
        "    self.output_layer = nn.Linear(dimensions[-2], dimensions[-1])\n",
        "\n",
        "  def forward(self, x):\n",
        "    x = F.relu(self.input_layer(x))\n",
        "    for hidden_layer in self.hidden_layers:\n",
        "      x = F.relu(hidden_layer(x))\n",
        "    x = F.softmax(self.output_layer(x), dim=1)\n",
        "    return x\n",
        "\n",
        "clf = SpamClassifier(CLF_LAYER_DIMS)\n",
        "\n",
        "# self-test\n",
        "input = torch.rand(32, 512)\n",
        "output = clf(input)\n",
        "print(input.size(), output.size())"
      ],
      "execution_count": 10,
      "outputs": [
        {
          "output_type": "stream",
          "text": [
            "torch.Size([32, 512]) torch.Size([32, 2])\n"
          ],
          "name": "stdout"
        }
      ]
    },
    {
      "cell_type": "code",
      "metadata": {
        "id": "tFnLjo3varCS"
      },
      "source": [
        "dev = torch.device(\"cuda\" if torch.cuda.is_available() else \"cpu\")\n",
        "clf = clf.to(dev)"
      ],
      "execution_count": 11,
      "outputs": []
    },
    {
      "cell_type": "code",
      "metadata": {
        "id": "ARIEvAPsKt-f"
      },
      "source": [
        "loss_fn = nn.CrossEntropyLoss()\n",
        "optimizer = torch.optim.AdamW(clf.parameters(), lr=LEARNING_RATE)"
      ],
      "execution_count": 12,
      "outputs": []
    },
    {
      "cell_type": "code",
      "metadata": {
        "id": "Emo_75xMG_5w"
      },
      "source": [
        "def train(train_dl, model, loss_fn, optimizer):\n",
        "  model.train()\n",
        "  train_loss, train_acc, num_batches = 0, 0, 0\n",
        "  for data, labels in train_dl:\n",
        "    data, labels = data.to(dev), labels.to(dev)\n",
        "\n",
        "    logits = model(data)\n",
        "    loss = loss_fn(logits, labels)\n",
        "\n",
        "    train_loss += loss.item()\n",
        "    _, preds = torch.max(logits.data, dim=1)\n",
        "    train_acc += (preds == labels).sum() / labels.size()[0]\n",
        "    num_batches += 1\n",
        "\n",
        "    loss.backward()\n",
        "    optimizer.step()\n",
        "    optimizer.zero_grad()\n",
        "\n",
        "  return train_loss / num_batches, train_acc / num_batches\n",
        "\n",
        "def validate(val_dl, model, loss_fn):\n",
        "  model.eval()\n",
        "  val_loss, val_acc, num_batches = 0, 0, 0\n",
        "  for data, labels in val_dl:\n",
        "    data, labels = data.to(dev), labels.to(dev)\n",
        "    with torch.no_grad():\n",
        "      logits = model(data)\n",
        "      loss = loss_fn(logits, labels)\n",
        "\n",
        "      val_loss += loss.item()\n",
        "      _, preds = torch.max(logits.data, dim=1)\n",
        "      val_acc += (preds == labels).sum() / labels.size()[0]\n",
        "      num_batches += 1\n",
        "\n",
        "  return val_loss / num_batches, val_acc / num_batches"
      ],
      "execution_count": 13,
      "outputs": []
    },
    {
      "cell_type": "code",
      "metadata": {
        "colab": {
          "base_uri": "https://localhost:8080/"
        },
        "id": "VKKv9i0AMfVC",
        "outputId": "e536ebef-987a-4d06-dd22-d6f76420cc82"
      },
      "source": [
        "train_losses, train_accs, val_losses, val_accs = [], [], [], []\n",
        "for epoch in range(1, NUM_EPOCHS + 1):\n",
        "  train_loss, train_acc = train(train_dl, clf, loss_fn, optimizer)\n",
        "  val_loss, val_acc = validate(val_dl, clf, loss_fn) \n",
        "  print(\"EPOCH {:2d} | train_loss: {:.3f}, acc: {:.3f} | val_loss: {:.3f}, acc: {:.3f}\"\n",
        "    .format(epoch, train_loss, train_acc, val_loss, val_acc))\n",
        "  train_losses.append(train_loss)\n",
        "  train_accs.append(train_acc)\n",
        "  val_losses.append(val_loss)\n",
        "  val_accs.append(val_acc)"
      ],
      "execution_count": 14,
      "outputs": [
        {
          "output_type": "stream",
          "text": [
            "EPOCH  1 | train_loss: 0.672, acc: 0.537 | val_loss: 0.531, acc: 0.894\n",
            "EPOCH  2 | train_loss: 0.438, acc: 0.917 | val_loss: 0.371, acc: 0.969\n",
            "EPOCH  3 | train_loss: 0.359, acc: 0.976 | val_loss: 0.342, acc: 0.975\n",
            "EPOCH  4 | train_loss: 0.336, acc: 0.983 | val_loss: 0.335, acc: 0.975\n",
            "EPOCH  5 | train_loss: 0.329, acc: 0.987 | val_loss: 0.333, acc: 0.980\n",
            "EPOCH  6 | train_loss: 0.326, acc: 0.991 | val_loss: 0.333, acc: 0.981\n",
            "EPOCH  7 | train_loss: 0.324, acc: 0.991 | val_loss: 0.332, acc: 0.980\n",
            "EPOCH  8 | train_loss: 0.322, acc: 0.993 | val_loss: 0.332, acc: 0.980\n",
            "EPOCH  9 | train_loss: 0.321, acc: 0.994 | val_loss: 0.332, acc: 0.980\n",
            "EPOCH 10 | train_loss: 0.321, acc: 0.994 | val_loss: 0.332, acc: 0.978\n"
          ],
          "name": "stdout"
        }
      ]
    },
    {
      "cell_type": "code",
      "metadata": {
        "colab": {
          "base_uri": "https://localhost:8080/",
          "height": 308
        },
        "id": "nzchdxbVYjKC",
        "outputId": "b141bbc0-f8b0-4e76-bfa7-c924203f99d9"
      },
      "source": [
        "def training_lossplots(title, train_losses, train_accs, val_losses, val_accs):\n",
        "  plt.subplot(2, 1, 1)\n",
        "  epochs = np.arange(1, NUM_EPOCHS + 1)\n",
        "  plt.plot(epochs, train_losses, label=\"train\")\n",
        "  plt.plot(epochs, val_losses, label=\"valid\")\n",
        "  plt.xlabel(\"epoch\")\n",
        "  plt.ylabel(\"loss\")\n",
        "\n",
        "  plt.subplot(2, 1, 2)\n",
        "  plt.plot(epochs, train_accs, label=\"train\")\n",
        "  plt.plot(epochs, val_accs, label=\"valid\")\n",
        "  plt.xlabel(\"epoch\")\n",
        "  plt.ylabel(\"accuracy\")\n",
        "\n",
        "  plt.suptitle(title)\n",
        "  _ = plt.show()\n",
        "\n",
        "\n",
        "training_lossplots(\"Baseline\", train_losses, train_accs, val_losses, val_accs)"
      ],
      "execution_count": 15,
      "outputs": [
        {
          "output_type": "display_data",
          "data": {
            "image/png": "[encoded data removed]",
            "text/plain": [
              "<Figure size 432x288 with 2 Axes>"
            ]
          },
          "metadata": {
            "tags": [],
            "needs_background": "light"
          }
        }
      ]
    },
    {
      "cell_type": "code",
      "metadata": {
        "id": "N9uwGr-bZa-g"
      },
      "source": [
        "def predict(test_dl, model):\n",
        "  model.eval()\n",
        "  predictions, labels = [], []\n",
        "  for data, labels_b in val_dl:\n",
        "    data, labels_b = data.to(dev), labels_b.to(dev)\n",
        "    with torch.no_grad():\n",
        "      logits = model(data)\n",
        "      _, preds = torch.max(logits.data, dim=1)\n",
        "      predictions.extend([p.item() for p in preds])\n",
        "      labels.extend([l.item() for l in labels_b])\n",
        "\n",
        "  return predictions, labels\n",
        "\n",
        "predictions, labels = predict(test_dl, clf)"
      ],
      "execution_count": 16,
      "outputs": []
    },
    {
      "cell_type": "code",
      "metadata": {
        "colab": {
          "base_uri": "https://localhost:8080/"
        },
        "id": "rMJGq8oIaNtp",
        "outputId": "ae75bd67-95f4-459e-8485-152a98419116"
      },
      "source": [
        "accuracy = accuracy_score(predictions, labels)\n",
        "ACCURACY_STATS.append((1, \"baseline\", accuracy))\n",
        "\n",
        "print(\"accuracy: {:.3f}\".format(accuracy))\n",
        "print(\"confusion matrix\")\n",
        "print(confusion_matrix(predictions, labels))"
      ],
      "execution_count": 17,
      "outputs": [
        {
          "output_type": "stream",
          "text": [
            "accuracy: 0.975\n",
            "confusion matrix\n",
            "[[480   6]\n",
            " [  8  63]]\n"
          ],
          "name": "stdout"
        }
      ]
    },
    {
      "cell_type": "markdown",
      "metadata": {
        "id": "ExvOLSvWlzx_"
      },
      "source": [
        "## Class Weights"
      ]
    },
    {
      "cell_type": "code",
      "metadata": {
        "colab": {
          "base_uri": "https://localhost:8080/"
        },
        "id": "ENaqpYNlmPXe",
        "outputId": "33f2f858-57f1-4408-aa99-94e6b41a0153"
      },
      "source": [
        "num_major = len(spam_train_df[spam_train_df[\"label\"] == \"ham\"])\n",
        "num_minor = len(spam_train_df[spam_train_df[\"label\"] == \"spam\"])\n",
        "\n",
        "weight_major = 1 / num_major\n",
        "weight_minor = 1 / num_minor\n",
        "total_weight = weight_major + weight_minor\n",
        "class_weights = torch.tensor([weight_major / total_weight, weight_minor / total_weight])\n",
        "class_weights = class_weights.to(dev)\n",
        "\n",
        "class_weights"
      ],
      "execution_count": 18,
      "outputs": [
        {
          "output_type": "execute_result",
          "data": {
            "text/plain": [
              "tensor([0.1397, 0.8603], device='cuda:0')"
            ]
          },
          "metadata": {
            "tags": []
          },
          "execution_count": 18
        }
      ]
    },
    {
      "cell_type": "code",
      "metadata": {
        "id": "olXM9d-Tl16w"
      },
      "source": [
        "clf = SpamClassifier(CLF_LAYER_DIMS)\n",
        "clf = clf.to(dev)\n",
        "\n",
        "loss_fn = nn.CrossEntropyLoss(weight=class_weights)\n",
        "optimizer = torch.optim.AdamW(clf.parameters(), lr=LEARNING_RATE)"
      ],
      "execution_count": 19,
      "outputs": []
    },
    {
      "cell_type": "code",
      "metadata": {
        "colab": {
          "base_uri": "https://localhost:8080/"
        },
        "id": "cWpN9OSgnBC6",
        "outputId": "d3a8b450-153b-45ce-897f-050b904fce16"
      },
      "source": [
        "train_losses, train_accs, val_losses, val_accs = [], [], [], []\n",
        "for epoch in range(1, NUM_EPOCHS + 1):\n",
        "  train_loss, train_acc = train(train_dl, clf, loss_fn, optimizer)\n",
        "  val_loss, val_acc = validate(val_dl, clf, loss_fn) \n",
        "  print(\"EPOCH {:2d} | train_loss: {:.3f}, acc: {:.3f} | val_loss: {:.3f}, acc: {:.3f}\"\n",
        "    .format(epoch, train_loss, train_acc, val_loss, val_acc))\n",
        "  train_losses.append(train_loss)\n",
        "  train_accs.append(train_acc)\n",
        "  val_losses.append(val_loss)\n",
        "  val_accs.append(val_acc)"
      ],
      "execution_count": 20,
      "outputs": [
        {
          "output_type": "stream",
          "text": [
            "EPOCH  1 | train_loss: 0.623, acc: 0.920 | val_loss: 0.505, acc: 0.961\n",
            "EPOCH  2 | train_loss: 0.408, acc: 0.966 | val_loss: 0.353, acc: 0.981\n",
            "EPOCH  3 | train_loss: 0.350, acc: 0.977 | val_loss: 0.341, acc: 0.984\n",
            "EPOCH  4 | train_loss: 0.341, acc: 0.981 | val_loss: 0.337, acc: 0.981\n",
            "EPOCH  5 | train_loss: 0.337, acc: 0.987 | val_loss: 0.336, acc: 0.978\n",
            "EPOCH  6 | train_loss: 0.335, acc: 0.988 | val_loss: 0.337, acc: 0.980\n",
            "EPOCH  7 | train_loss: 0.330, acc: 0.989 | val_loss: 0.337, acc: 0.978\n",
            "EPOCH  8 | train_loss: 0.328, acc: 0.991 | val_loss: 0.338, acc: 0.983\n",
            "EPOCH  9 | train_loss: 0.328, acc: 0.992 | val_loss: 0.340, acc: 0.980\n",
            "EPOCH 10 | train_loss: 0.326, acc: 0.993 | val_loss: 0.340, acc: 0.980\n"
          ],
          "name": "stdout"
        }
      ]
    },
    {
      "cell_type": "code",
      "metadata": {
        "colab": {
          "base_uri": "https://localhost:8080/",
          "height": 308
        },
        "id": "60MWswl4nOHi",
        "outputId": "1993dd00-a284-488c-de7a-2ab2027e9297"
      },
      "source": [
        "training_lossplots(\"Class Weights\", train_losses, train_accs, val_losses, val_accs)"
      ],
      "execution_count": 21,
      "outputs": [
        {
          "output_type": "display_data",
          "data": {
            "image/png": "[encoded data removed]",
            "text/plain": [
              "<Figure size 432x288 with 2 Axes>"
            ]
          },
          "metadata": {
            "tags": [],
            "needs_background": "light"
          }
        }
      ]
    },
    {
      "cell_type": "code",
      "metadata": {
        "colab": {
          "base_uri": "https://localhost:8080/"
        },
        "id": "PXAgHyHInSiK",
        "outputId": "5070517b-3dfb-4084-ab40-c79fbd8d4d48"
      },
      "source": [
        "predictions, labels = predict(test_dl, clf)\n",
        "\n",
        "accuracy = accuracy_score(predictions, labels)\n",
        "ACCURACY_STATS.append((2, \"class_weights\", accuracy))\n",
        "\n",
        "print(\"accuracy: {:.3f}\".format(accuracy))\n",
        "print(\"confusion matrix\")\n",
        "print(confusion_matrix(predictions, labels))"
      ],
      "execution_count": 22,
      "outputs": [
        {
          "output_type": "stream",
          "text": [
            "accuracy: 0.977\n",
            "confusion matrix\n",
            "[[479   4]\n",
            " [  9  65]]\n"
          ],
          "name": "stdout"
        }
      ]
    },
    {
      "cell_type": "markdown",
      "metadata": {
        "id": "EmQuCG9ifjS7"
      },
      "source": [
        "## Undersampling Majority Class\n",
        "\n",
        "Sampling (especially oversampling) must be restricted to the training split to protect against data leakage."
      ]
    },
    {
      "cell_type": "code",
      "metadata": {
        "colab": {
          "base_uri": "https://localhost:8080/"
        },
        "id": "-QwB41jTaUxg",
        "outputId": "7cd7f4b0-1aab-4856-edde-93982d71941f"
      },
      "source": [
        "minor_df = spam_train_df[spam_train_df[\"label\"] == \"spam\"]\n",
        "num_minor = len(minor_df)\n",
        "num_major = len(spam_train_df) - num_minor\n",
        "\n",
        "sample_major_df = (\n",
        "  spam_train_df[spam_train_df[\"label\"] == \"ham\"]\n",
        "  .sample(num_minor, replace=False, axis=0)\n",
        ")\n",
        "\n",
        "under_df = pd.concat([minor_df, sample_major_df], axis=0)\n",
        "len(under_df)"
      ],
      "execution_count": 23,
      "outputs": [
        {
          "output_type": "execute_result",
          "data": {
            "text/plain": [
              "1090"
            ]
          },
          "metadata": {
            "tags": []
          },
          "execution_count": 23
        }
      ]
    },
    {
      "cell_type": "code",
      "metadata": {
        "colab": {
          "base_uri": "https://localhost:8080/"
        },
        "id": "afvjYxEJhocp",
        "outputId": "b51cba05-dddd-446f-f53b-e157e65fdcfc"
      },
      "source": [
        "under_df[\"label\"].value_counts()"
      ],
      "execution_count": 24,
      "outputs": [
        {
          "output_type": "execute_result",
          "data": {
            "text/plain": [
              "spam    545\n",
              "ham     545\n",
              "Name: label, dtype: int64"
            ]
          },
          "metadata": {
            "tags": []
          },
          "execution_count": 24
        }
      ]
    },
    {
      "cell_type": "code",
      "metadata": {
        "colab": {
          "base_uri": "https://localhost:8080/",
          "height": 300
        },
        "id": "rBUrosI5h0vz",
        "outputId": "28a94b2f-5fb8-411a-fe0e-bbb985ff5e64"
      },
      "source": [
        "under_df[\"label\"].value_counts().plot(kind=\"bar\")"
      ],
      "execution_count": 25,
      "outputs": [
        {
          "output_type": "execute_result",
          "data": {
            "text/plain": [
              "<matplotlib.axes._subplots.AxesSubplot at 0x7f685c79b7b8>"
            ]
          },
          "metadata": {
            "tags": []
          },
          "execution_count": 25
        },
        {
          "output_type": "display_data",
          "data": {
            "image/png": "[encoded data removed]",
            "text/plain": [
              "<Figure size 432x288 with 1 Axes>"
            ]
          },
          "metadata": {
            "tags": [],
            "needs_background": "light"
          }
        }
      ]
    },
    {
      "cell_type": "code",
      "metadata": {
        "id": "ZcD2DB8hiHiY"
      },
      "source": [
        "train_ds = create_dataset(under_df)\n",
        "\n",
        "train_dl = DataLoader(train_ds, batch_size=BATCH_SIZE, shuffle=True)\n",
        "val_dl = DataLoader(val_ds, batch_size=BATCH_SIZE, shuffle=False)\n",
        "test_dl = DataLoader(test_ds, batch_size=BATCH_SIZE, shuffle=False)"
      ],
      "execution_count": 26,
      "outputs": []
    },
    {
      "cell_type": "code",
      "metadata": {
        "id": "4DxgPiIUj58L"
      },
      "source": [
        "clf = SpamClassifier(CLF_LAYER_DIMS)\n",
        "clf = clf.to(dev)\n",
        "\n",
        "loss_fn = nn.CrossEntropyLoss()\n",
        "optimizer = torch.optim.AdamW(clf.parameters(), lr=LEARNING_RATE)"
      ],
      "execution_count": 27,
      "outputs": []
    },
    {
      "cell_type": "code",
      "metadata": {
        "colab": {
          "base_uri": "https://localhost:8080/"
        },
        "id": "TkFSeHH-ju5J",
        "outputId": "cca12b1a-5a64-4973-eb69-57fd3fb3f299"
      },
      "source": [
        "train_losses, train_accs, val_losses, val_accs = [], [], [], []\n",
        "for epoch in range(1, NUM_EPOCHS + 1):\n",
        "  train_loss, train_acc = train(train_dl, clf, loss_fn, optimizer)\n",
        "  val_loss, val_acc = validate(val_dl, clf, loss_fn) \n",
        "  print(\"EPOCH {:2d} | train_loss: {:.3f}, acc: {:.3f} | val_loss: {:.3f}, acc: {:.3f}\"\n",
        "    .format(epoch, train_loss, train_acc, val_loss, val_acc))\n",
        "  train_losses.append(train_loss)\n",
        "  train_accs.append(train_acc)\n",
        "  val_losses.append(val_loss)\n",
        "  val_accs.append(val_acc)"
      ],
      "execution_count": 28,
      "outputs": [
        {
          "output_type": "stream",
          "text": [
            "EPOCH  1 | train_loss: 0.686, acc: 0.544 | val_loss: 0.660, acc: 0.950\n",
            "EPOCH  2 | train_loss: 0.657, acc: 0.921 | val_loss: 0.627, acc: 0.978\n",
            "EPOCH  3 | train_loss: 0.605, acc: 0.966 | val_loss: 0.573, acc: 0.975\n",
            "EPOCH  4 | train_loss: 0.528, acc: 0.971 | val_loss: 0.498, acc: 0.972\n",
            "EPOCH  5 | train_loss: 0.447, acc: 0.972 | val_loss: 0.424, acc: 0.974\n",
            "EPOCH  6 | train_loss: 0.389, acc: 0.974 | val_loss: 0.380, acc: 0.977\n",
            "EPOCH  7 | train_loss: 0.361, acc: 0.975 | val_loss: 0.362, acc: 0.977\n",
            "EPOCH  8 | train_loss: 0.349, acc: 0.975 | val_loss: 0.352, acc: 0.975\n",
            "EPOCH  9 | train_loss: 0.344, acc: 0.978 | val_loss: 0.349, acc: 0.974\n",
            "EPOCH 10 | train_loss: 0.339, acc: 0.981 | val_loss: 0.349, acc: 0.969\n"
          ],
          "name": "stdout"
        }
      ]
    },
    {
      "cell_type": "code",
      "metadata": {
        "colab": {
          "base_uri": "https://localhost:8080/",
          "height": 308
        },
        "id": "CH7nXpFykVX0",
        "outputId": "ab3449d0-1e5b-4d91-a225-f604205e7e86"
      },
      "source": [
        "training_lossplots(\"Undersampling\", train_losses, train_accs, val_losses, val_accs)"
      ],
      "execution_count": 29,
      "outputs": [
        {
          "output_type": "display_data",
          "data": {
            "image/png": "[encoded data removed]",
            "text/plain": [
              "<Figure size 432x288 with 2 Axes>"
            ]
          },
          "metadata": {
            "tags": [],
            "needs_background": "light"
          }
        }
      ]
    },
    {
      "cell_type": "code",
      "metadata": {
        "colab": {
          "base_uri": "https://localhost:8080/"
        },
        "id": "etD-Ncl7kEYd",
        "outputId": "bcf8e252-53ac-4ae5-d88a-33cc42385396"
      },
      "source": [
        "predictions, labels = predict(test_dl, clf)\n",
        "\n",
        "accuracy = accuracy_score(predictions, labels)\n",
        "ACCURACY_STATS.append((3, \"under_sampling\", accuracy))\n",
        "\n",
        "print(\"accuracy: {:.3f}\".format(accuracy))\n",
        "print(\"confusion matrix\")\n",
        "print(confusion_matrix(predictions, labels))"
      ],
      "execution_count": 30,
      "outputs": [
        {
          "output_type": "stream",
          "text": [
            "accuracy: 0.968\n",
            "confusion matrix\n",
            "[[471   1]\n",
            " [ 17  68]]\n"
          ],
          "name": "stdout"
        }
      ]
    },
    {
      "cell_type": "markdown",
      "metadata": {
        "id": "BWfqS5Mjkht9"
      },
      "source": [
        "## Oversampling Minority Class"
      ]
    },
    {
      "cell_type": "code",
      "metadata": {
        "colab": {
          "base_uri": "https://localhost:8080/"
        },
        "id": "D1My4SG9kdHK",
        "outputId": "fad7de78-9548-4d58-a581-22b8a46ee2dc"
      },
      "source": [
        "major_df = spam_train_df[spam_train_df[\"label\"] == \"ham\"]\n",
        "num_major = len(major_df)\n",
        "num_minor = len(spam_train_df) - num_major\n",
        "\n",
        "sample_minor_df = spam_train_df[spam_train_df[\"label\"] == \"spam\"].sample(\n",
        "    num_major, replace=True, axis=0)\n",
        "\n",
        "over_df = pd.concat([major_df, sample_minor_df], axis=0)\n",
        "len(over_df)"
      ],
      "execution_count": 31,
      "outputs": [
        {
          "output_type": "execute_result",
          "data": {
            "text/plain": [
              "6710"
            ]
          },
          "metadata": {
            "tags": []
          },
          "execution_count": 31
        }
      ]
    },
    {
      "cell_type": "code",
      "metadata": {
        "colab": {
          "base_uri": "https://localhost:8080/"
        },
        "id": "RZ25RX3Gk8bi",
        "outputId": "824391ef-c6b4-450b-e847-c2d0948e0ecf"
      },
      "source": [
        "over_df[\"label\"].value_counts()"
      ],
      "execution_count": 32,
      "outputs": [
        {
          "output_type": "execute_result",
          "data": {
            "text/plain": [
              "ham     3355\n",
              "spam    3355\n",
              "Name: label, dtype: int64"
            ]
          },
          "metadata": {
            "tags": []
          },
          "execution_count": 32
        }
      ]
    },
    {
      "cell_type": "code",
      "metadata": {
        "colab": {
          "base_uri": "https://localhost:8080/",
          "height": 302
        },
        "id": "SvDjFYSQlDgo",
        "outputId": "b653801e-7f45-4ef2-a207-b27683a24768"
      },
      "source": [
        "over_df[\"label\"].value_counts().plot(kind=\"bar\")"
      ],
      "execution_count": 33,
      "outputs": [
        {
          "output_type": "execute_result",
          "data": {
            "text/plain": [
              "<matplotlib.axes._subplots.AxesSubplot at 0x7f685c691dd8>"
            ]
          },
          "metadata": {
            "tags": []
          },
          "execution_count": 33
        },
        {
          "output_type": "display_data",
          "data": {
            "image/png": "[encoded data removed]",
            "text/plain": [
              "<Figure size 432x288 with 1 Axes>"
            ]
          },
          "metadata": {
            "tags": [],
            "needs_background": "light"
          }
        }
      ]
    },
    {
      "cell_type": "code",
      "metadata": {
        "id": "DXwG4OQolGv5"
      },
      "source": [
        "train_ds = create_dataset(over_df)\n",
        "\n",
        "train_dl = DataLoader(train_ds, batch_size=BATCH_SIZE, shuffle=True)\n",
        "val_dl = DataLoader(val_ds, batch_size=BATCH_SIZE, shuffle=False)\n",
        "test_dl = DataLoader(test_ds, batch_size=BATCH_SIZE, shuffle=False)"
      ],
      "execution_count": 34,
      "outputs": []
    },
    {
      "cell_type": "code",
      "metadata": {
        "id": "06qrjKeylOQw"
      },
      "source": [
        "clf = SpamClassifier(CLF_LAYER_DIMS)\n",
        "clf = clf.to(dev)\n",
        "\n",
        "loss_fn = nn.CrossEntropyLoss()\n",
        "optimizer = torch.optim.AdamW(clf.parameters(), lr=LEARNING_RATE)"
      ],
      "execution_count": 35,
      "outputs": []
    },
    {
      "cell_type": "code",
      "metadata": {
        "colab": {
          "base_uri": "https://localhost:8080/"
        },
        "id": "u2gYBcbClTro",
        "outputId": "497ba021-62ad-460b-9540-a41c437e99de"
      },
      "source": [
        "train_losses, train_accs, val_losses, val_accs = [], [], [], []\n",
        "for epoch in range(1, NUM_EPOCHS + 1):\n",
        "  train_loss, train_acc = train(train_dl, clf, loss_fn, optimizer)\n",
        "  val_loss, val_acc = validate(val_dl, clf, loss_fn) \n",
        "  print(\"EPOCH {:2d} | train_loss: {:.3f}, acc: {:.3f} | val_loss: {:.3f}, acc: {:.3f}\"\n",
        "    .format(epoch, train_loss, train_acc, val_loss, val_acc))\n",
        "  train_losses.append(train_loss)\n",
        "  train_accs.append(train_acc)\n",
        "  val_losses.append(val_loss)\n",
        "  val_accs.append(val_acc)"
      ],
      "execution_count": 36,
      "outputs": [
        {
          "output_type": "stream",
          "text": [
            "EPOCH  1 | train_loss: 0.560, acc: 0.892 | val_loss: 0.376, acc: 0.978\n",
            "EPOCH  2 | train_loss: 0.352, acc: 0.973 | val_loss: 0.338, acc: 0.983\n",
            "EPOCH  3 | train_loss: 0.336, acc: 0.982 | val_loss: 0.333, acc: 0.981\n",
            "EPOCH  4 | train_loss: 0.330, acc: 0.987 | val_loss: 0.332, acc: 0.981\n",
            "EPOCH  5 | train_loss: 0.327, acc: 0.989 | val_loss: 0.331, acc: 0.981\n",
            "EPOCH  6 | train_loss: 0.325, acc: 0.990 | val_loss: 0.331, acc: 0.981\n",
            "EPOCH  7 | train_loss: 0.325, acc: 0.990 | val_loss: 0.332, acc: 0.981\n",
            "EPOCH  8 | train_loss: 0.324, acc: 0.990 | val_loss: 0.331, acc: 0.983\n",
            "EPOCH  9 | train_loss: 0.323, acc: 0.991 | val_loss: 0.332, acc: 0.981\n",
            "EPOCH 10 | train_loss: 0.324, acc: 0.990 | val_loss: 0.332, acc: 0.981\n"
          ],
          "name": "stdout"
        }
      ]
    },
    {
      "cell_type": "code",
      "metadata": {
        "colab": {
          "base_uri": "https://localhost:8080/",
          "height": 308
        },
        "id": "hJ3ByNQxlaIj",
        "outputId": "4b13b894-dd25-4e04-d33d-9d857eea9bd5"
      },
      "source": [
        "training_lossplots(\"Oversampling\", train_losses, train_accs, val_losses, val_accs)"
      ],
      "execution_count": 37,
      "outputs": [
        {
          "output_type": "display_data",
          "data": {
            "image/png": "[encoded data removed]",
            "text/plain": [
              "<Figure size 432x288 with 2 Axes>"
            ]
          },
          "metadata": {
            "tags": [],
            "needs_background": "light"
          }
        }
      ]
    },
    {
      "cell_type": "code",
      "metadata": {
        "colab": {
          "base_uri": "https://localhost:8080/"
        },
        "id": "1Jj5FBbClgM1",
        "outputId": "7397024b-dc8f-4236-808c-8ad568e71ef7"
      },
      "source": [
        "predictions, labels = predict(test_dl, clf)\n",
        "\n",
        "accuracy = accuracy_score(predictions, labels)\n",
        "ACCURACY_STATS.append((4, \"over_sampling\", accuracy))\n",
        "\n",
        "print(\"accuracy: {:.3f}\".format(accuracy))\n",
        "print(\"confusion matrix\")\n",
        "print(confusion_matrix(predictions, labels))"
      ],
      "execution_count": 38,
      "outputs": [
        {
          "output_type": "stream",
          "text": [
            "accuracy: 0.978\n",
            "confusion matrix\n",
            "[[481   5]\n",
            " [  7  64]]\n"
          ],
          "name": "stdout"
        }
      ]
    },
    {
      "cell_type": "markdown",
      "metadata": {
        "id": "II5RFfa6lwXF"
      },
      "source": [
        "## SMOTE Oversampling"
      ]
    },
    {
      "cell_type": "code",
      "metadata": {
        "id": "gih6TY-esZgB",
        "colab": {
          "base_uri": "https://localhost:8080/"
        },
        "outputId": "809ce30a-07ba-4f2f-8cf9-fa204dce4d78"
      },
      "source": [
        "def create_xy_from_dataframe(input_df):\n",
        "  emb_vecs = []\n",
        "  for emb in input_df[\"embedding\"].values:\n",
        "    vec = np.array([float(x) for x in str(emb).split(\",\")])\n",
        "    emb_vecs.append(vec)\n",
        "  labels = [0 if label == \"ham\" else 1 for label in input_df[\"label\"].values]\n",
        "  return np.array(emb_vecs), np.array(labels)\n",
        "\n",
        "\n",
        "def create_dataset_from_xy(xs, ys):\n",
        "  return TensorDataset(\n",
        "      torch.tensor(xs, dtype=torch.float32),\n",
        "      torch.tensor(ys, dtype=torch.long)\n",
        "  )\n",
        "\n",
        "\n",
        "train_x, train_y = create_xy_from_dataframe(spam_train_df)\n",
        "oversampler = SMOTE()\n",
        "train_x, train_y = oversampler.fit_resample(train_x, train_y)\n",
        "uniq, counts = np.unique(train_y, return_counts=True)\n",
        "counts"
      ],
      "execution_count": 39,
      "outputs": [
        {
          "output_type": "stream",
          "text": [
            "/usr/local/lib/python3.6/dist-packages/sklearn/utils/deprecation.py:87: FutureWarning: Function safe_indexing is deprecated; safe_indexing is deprecated in version 0.22 and will be removed in version 0.24.\n",
            "  warnings.warn(msg, category=FutureWarning)\n"
          ],
          "name": "stderr"
        },
        {
          "output_type": "execute_result",
          "data": {
            "text/plain": [
              "array([3355, 3355])"
            ]
          },
          "metadata": {
            "tags": []
          },
          "execution_count": 39
        }
      ]
    },
    {
      "cell_type": "code",
      "metadata": {
        "id": "Db0VO9GluBN7"
      },
      "source": [
        "train_ds = create_dataset_from_xy(train_x, train_y)\n",
        "\n",
        "train_dl = DataLoader(train_ds, batch_size=BATCH_SIZE, shuffle=True)\n",
        "val_dl = DataLoader(val_ds, batch_size=BATCH_SIZE, shuffle=False)\n",
        "test_dl = DataLoader(test_ds, batch_size=BATCH_SIZE, shuffle=False)"
      ],
      "execution_count": 40,
      "outputs": []
    },
    {
      "cell_type": "code",
      "metadata": {
        "id": "S8ivghknu2Gx"
      },
      "source": [
        "clf = SpamClassifier(CLF_LAYER_DIMS)\n",
        "clf = clf.to(dev)\n",
        "\n",
        "loss_fn = nn.CrossEntropyLoss()\n",
        "optimizer = torch.optim.AdamW(clf.parameters(), lr=LEARNING_RATE)"
      ],
      "execution_count": 41,
      "outputs": []
    },
    {
      "cell_type": "code",
      "metadata": {
        "colab": {
          "base_uri": "https://localhost:8080/"
        },
        "id": "-0hQsr_wu6M_",
        "outputId": "ce0b67ed-7a00-4398-9375-d01463c001d4"
      },
      "source": [
        "train_losses, train_accs, val_losses, val_accs = [], [], [], []\n",
        "for epoch in range(1, NUM_EPOCHS + 1):\n",
        "  train_loss, train_acc = train(train_dl, clf, loss_fn, optimizer)\n",
        "  val_loss, val_acc = validate(val_dl, clf, loss_fn) \n",
        "  print(\"EPOCH {:2d} | train_loss: {:.3f}, acc: {:.3f} | val_loss: {:.3f}, acc: {:.3f}\"\n",
        "    .format(epoch, train_loss, train_acc, val_loss, val_acc))\n",
        "  train_losses.append(train_loss)\n",
        "  train_accs.append(train_acc)\n",
        "  val_losses.append(val_loss)\n",
        "  val_accs.append(val_acc)"
      ],
      "execution_count": 42,
      "outputs": [
        {
          "output_type": "stream",
          "text": [
            "EPOCH  1 | train_loss: 0.546, acc: 0.864 | val_loss: 0.368, acc: 0.977\n",
            "EPOCH  2 | train_loss: 0.343, acc: 0.979 | val_loss: 0.337, acc: 0.981\n",
            "EPOCH  3 | train_loss: 0.331, acc: 0.986 | val_loss: 0.333, acc: 0.981\n",
            "EPOCH  4 | train_loss: 0.327, acc: 0.989 | val_loss: 0.332, acc: 0.983\n",
            "EPOCH  5 | train_loss: 0.324, acc: 0.992 | val_loss: 0.332, acc: 0.983\n",
            "EPOCH  6 | train_loss: 0.322, acc: 0.993 | val_loss: 0.332, acc: 0.983\n",
            "EPOCH  7 | train_loss: 0.320, acc: 0.994 | val_loss: 0.334, acc: 0.981\n",
            "EPOCH  8 | train_loss: 0.319, acc: 0.995 | val_loss: 0.334, acc: 0.981\n",
            "EPOCH  9 | train_loss: 0.319, acc: 0.996 | val_loss: 0.333, acc: 0.983\n",
            "EPOCH 10 | train_loss: 0.318, acc: 0.996 | val_loss: 0.332, acc: 0.981\n"
          ],
          "name": "stdout"
        }
      ]
    },
    {
      "cell_type": "code",
      "metadata": {
        "colab": {
          "base_uri": "https://localhost:8080/",
          "height": 308
        },
        "id": "g64560awu9qG",
        "outputId": "569456ed-e3d8-49ca-cd38-7a5fd356c2f2"
      },
      "source": [
        "training_lossplots(\"SMOTE\", train_losses, train_accs, val_losses, val_accs)"
      ],
      "execution_count": 43,
      "outputs": [
        {
          "output_type": "display_data",
          "data": {
            "image/png": "[encoded data removed]",
            "text/plain": [
              "<Figure size 432x288 with 2 Axes>"
            ]
          },
          "metadata": {
            "tags": [],
            "needs_background": "light"
          }
        }
      ]
    },
    {
      "cell_type": "code",
      "metadata": {
        "colab": {
          "base_uri": "https://localhost:8080/"
        },
        "id": "hVwhL433vCVt",
        "outputId": "8c7bd0cc-c11f-48bf-ea01-cce1576159be"
      },
      "source": [
        "predictions, labels = predict(test_dl, clf)\n",
        "\n",
        "accuracy = accuracy_score(predictions, labels)\n",
        "ACCURACY_STATS.append((5, \"SMOTE\", accuracy))\n",
        "\n",
        "print(\"accuracy: {:.3f}\".format(accuracy))\n",
        "print(\"confusion matrix\")\n",
        "print(confusion_matrix(predictions, labels))"
      ],
      "execution_count": 44,
      "outputs": [
        {
          "output_type": "stream",
          "text": [
            "accuracy: 0.978\n",
            "confusion matrix\n",
            "[[481   5]\n",
            " [  7  64]]\n"
          ],
          "name": "stdout"
        }
      ]
    },
    {
      "cell_type": "markdown",
      "metadata": {
        "id": "fwT1UzBFvN-C"
      },
      "source": [
        "## Text Attack Augmentation"
      ]
    },
    {
      "cell_type": "code",
      "metadata": {
        "id": "A81i28NbvGB9",
        "colab": {
          "base_uri": "https://localhost:8080/",
          "height": 204
        },
        "outputId": "54265347-8115-47b1-a2a6-66c934a0a7c9"
      },
      "source": [
        "spam_train_df = pd.read_csv(SPAM_TA_TRAIN_FILE, sep='\\t')\n",
        "spam_train_df.head()"
      ],
      "execution_count": 45,
      "outputs": [
        {
          "output_type": "execute_result",
          "data": {
            "text/html": [
              "<div>\n",
              "<style scoped>\n",
              "    .dataframe tbody tr th:only-of-type {\n",
              "        vertical-align: middle;\n",
              "    }\n",
              "\n",
              "    .dataframe tbody tr th {\n",
              "        vertical-align: top;\n",
              "    }\n",
              "\n",
              "    .dataframe thead th {\n",
              "        text-align: right;\n",
              "    }\n",
              "</style>\n",
              "<table border=\"1\" class=\"dataframe\">\n",
              "  <thead>\n",
              "    <tr style=\"text-align: right;\">\n",
              "      <th></th>\n",
              "      <th>sentence</th>\n",
              "      <th>label</th>\n",
              "      <th>embedding</th>\n",
              "    </tr>\n",
              "  </thead>\n",
              "  <tbody>\n",
              "    <tr>\n",
              "      <th>0</th>\n",
              "      <td>Ugh I don't wanna get out of bed. It's so warm.</td>\n",
              "      <td>ham</td>\n",
              "      <td>5.3949911e-02,5.8220369e-03,-3.1541418e-02,3.3...</td>\n",
              "    </tr>\n",
              "    <tr>\n",
              "      <th>1</th>\n",
              "      <td>Dear i have reache room</td>\n",
              "      <td>ham</td>\n",
              "      <td>4.7420025e-02,2.3147971e-03,1.6905151e-02,-1.1...</td>\n",
              "    </tr>\n",
              "    <tr>\n",
              "      <th>2</th>\n",
              "      <td>I always chat with you. In fact i need money c...</td>\n",
              "      <td>ham</td>\n",
              "      <td>3.6402624e-02,-1.0346117e-01,5.0689392e-02,2.1...</td>\n",
              "    </tr>\n",
              "    <tr>\n",
              "      <th>3</th>\n",
              "      <td>Yes just finished watching days of our lives. ...</td>\n",
              "      <td>ham</td>\n",
              "      <td>1.6084902e-02,-1.7980557e-03,-4.4794872e-02,3....</td>\n",
              "    </tr>\n",
              "    <tr>\n",
              "      <th>4</th>\n",
              "      <td>Nice.nice.how is it working?</td>\n",
              "      <td>ham</td>\n",
              "      <td>-4.0968325e-02,-2.6070992e-02,-1.6136026e-02,-...</td>\n",
              "    </tr>\n",
              "  </tbody>\n",
              "</table>\n",
              "</div>"
            ],
            "text/plain": [
              "                                            sentence  ...                                          embedding\n",
              "0    Ugh I don't wanna get out of bed. It's so warm.  ...  5.3949911e-02,5.8220369e-03,-3.1541418e-02,3.3...\n",
              "1                            Dear i have reache room  ...  4.7420025e-02,2.3147971e-03,1.6905151e-02,-1.1...\n",
              "2  I always chat with you. In fact i need money c...  ...  3.6402624e-02,-1.0346117e-01,5.0689392e-02,2.1...\n",
              "3  Yes just finished watching days of our lives. ...  ...  1.6084902e-02,-1.7980557e-03,-4.4794872e-02,3....\n",
              "4                       Nice.nice.how is it working?  ...  -4.0968325e-02,-2.6070992e-02,-1.6136026e-02,-...\n",
              "\n",
              "[5 rows x 3 columns]"
            ]
          },
          "metadata": {
            "tags": []
          },
          "execution_count": 45
        }
      ]
    },
    {
      "cell_type": "code",
      "metadata": {
        "id": "zkhh7a0o4qyD",
        "colab": {
          "base_uri": "https://localhost:8080/"
        },
        "outputId": "5d884594-7632-49a2-a4d6-31fc2f390450"
      },
      "source": [
        "spam_train_df[\"label\"].value_counts()"
      ],
      "execution_count": 46,
      "outputs": [
        {
          "output_type": "execute_result",
          "data": {
            "text/plain": [
              "ham     3355\n",
              "spam    2712\n",
              "Name: label, dtype: int64"
            ]
          },
          "metadata": {
            "tags": []
          },
          "execution_count": 46
        }
      ]
    },
    {
      "cell_type": "code",
      "metadata": {
        "id": "zVC_xZK14ur4",
        "colab": {
          "base_uri": "https://localhost:8080/",
          "height": 302
        },
        "outputId": "cb23240a-efe3-490e-99df-2d87afd89343"
      },
      "source": [
        "spam_train_df[\"label\"].value_counts().plot(kind=\"bar\")"
      ],
      "execution_count": 47,
      "outputs": [
        {
          "output_type": "execute_result",
          "data": {
            "text/plain": [
              "<matplotlib.axes._subplots.AxesSubplot at 0x7f685c464d30>"
            ]
          },
          "metadata": {
            "tags": []
          },
          "execution_count": 47
        },
        {
          "output_type": "display_data",
          "data": {
            "image/png": "[encoded data removed]",
            "text/plain": [
              "<Figure size 432x288 with 1 Axes>"
            ]
          },
          "metadata": {
            "tags": [],
            "needs_background": "light"
          }
        }
      ]
    },
    {
      "cell_type": "code",
      "metadata": {
        "id": "KDqS2TkC4zT3"
      },
      "source": [
        "train_ds = create_dataset(spam_train_df)\n",
        "\n",
        "train_dl = DataLoader(train_ds, batch_size=BATCH_SIZE, shuffle=True)\n",
        "val_dl = DataLoader(val_ds, batch_size=BATCH_SIZE, shuffle=False)\n",
        "test_dl = DataLoader(test_ds, batch_size=BATCH_SIZE, shuffle=False)"
      ],
      "execution_count": 48,
      "outputs": []
    },
    {
      "cell_type": "code",
      "metadata": {
        "id": "pF8XDxhG4_IV"
      },
      "source": [
        "clf = SpamClassifier(CLF_LAYER_DIMS)\n",
        "clf = clf.to(dev)\n",
        "\n",
        "loss_fn = nn.CrossEntropyLoss()\n",
        "optimizer = torch.optim.AdamW(clf.parameters(), lr=LEARNING_RATE)"
      ],
      "execution_count": 49,
      "outputs": []
    },
    {
      "cell_type": "code",
      "metadata": {
        "id": "hI72tUFE5EFs",
        "colab": {
          "base_uri": "https://localhost:8080/"
        },
        "outputId": "62832436-fe6b-47c1-b1b7-3fc4fc80a310"
      },
      "source": [
        "train_losses, train_accs, val_losses, val_accs = [], [], [], []\n",
        "for epoch in range(1, NUM_EPOCHS + 1):\n",
        "  train_loss, train_acc = train(train_dl, clf, loss_fn, optimizer)\n",
        "  val_loss, val_acc = validate(val_dl, clf, loss_fn) \n",
        "  print(\"EPOCH {:2d} | train_loss: {:.3f}, acc: {:.3f} | val_loss: {:.3f}, acc: {:.3f}\"\n",
        "    .format(epoch, train_loss, train_acc, val_loss, val_acc))\n",
        "  train_losses.append(train_loss)\n",
        "  train_accs.append(train_acc)\n",
        "  val_losses.append(val_loss)\n",
        "  val_accs.append(val_acc)"
      ],
      "execution_count": 50,
      "outputs": [
        {
          "output_type": "stream",
          "text": [
            "EPOCH  1 | train_loss: 0.579, acc: 0.842 | val_loss: 0.402, acc: 0.972\n",
            "EPOCH  2 | train_loss: 0.358, acc: 0.970 | val_loss: 0.341, acc: 0.975\n",
            "EPOCH  3 | train_loss: 0.341, acc: 0.976 | val_loss: 0.337, acc: 0.981\n",
            "EPOCH  4 | train_loss: 0.336, acc: 0.980 | val_loss: 0.335, acc: 0.981\n",
            "EPOCH  5 | train_loss: 0.334, acc: 0.982 | val_loss: 0.335, acc: 0.980\n",
            "EPOCH  6 | train_loss: 0.332, acc: 0.983 | val_loss: 0.336, acc: 0.978\n",
            "EPOCH  7 | train_loss: 0.330, acc: 0.986 | val_loss: 0.339, acc: 0.972\n",
            "EPOCH  8 | train_loss: 0.329, acc: 0.986 | val_loss: 0.338, acc: 0.974\n",
            "EPOCH  9 | train_loss: 0.328, acc: 0.987 | val_loss: 0.335, acc: 0.980\n",
            "EPOCH 10 | train_loss: 0.327, acc: 0.987 | val_loss: 0.335, acc: 0.978\n"
          ],
          "name": "stdout"
        }
      ]
    },
    {
      "cell_type": "code",
      "metadata": {
        "id": "LC41hTXO5IKG",
        "colab": {
          "base_uri": "https://localhost:8080/",
          "height": 308
        },
        "outputId": "6d074a7d-22e4-4d1b-aa5c-3792bf21c4b0"
      },
      "source": [
        "training_lossplots(\"Text Attack\", train_losses, train_accs, val_losses, val_accs)"
      ],
      "execution_count": 51,
      "outputs": [
        {
          "output_type": "display_data",
          "data": {
            "image/png": "[encoded data removed]",
            "text/plain": [
              "<Figure size 432x288 with 2 Axes>"
            ]
          },
          "metadata": {
            "tags": [],
            "needs_background": "light"
          }
        }
      ]
    },
    {
      "cell_type": "code",
      "metadata": {
        "id": "DCJr9gs85N_k",
        "colab": {
          "base_uri": "https://localhost:8080/"
        },
        "outputId": "524f05a4-8f7b-4871-cde7-d79850f24400"
      },
      "source": [
        "predictions, labels = predict(test_dl, clf)\n",
        "\n",
        "accuracy = accuracy_score(predictions, labels)\n",
        "ACCURACY_STATS.append((6, \"text_attack\", accuracy))\n",
        "\n",
        "print(\"accuracy: {:.3f}\".format(accuracy))\n",
        "print(\"confusion matrix\")\n",
        "print(confusion_matrix(predictions, labels))"
      ],
      "execution_count": 52,
      "outputs": [
        {
          "output_type": "stream",
          "text": [
            "accuracy: 0.975\n",
            "confusion matrix\n",
            "[[478   4]\n",
            " [ 10  65]]\n"
          ],
          "name": "stdout"
        }
      ]
    },
    {
      "cell_type": "markdown",
      "metadata": {
        "id": "otEPj_QO5bTP"
      },
      "source": [
        "### Results"
      ]
    },
    {
      "cell_type": "code",
      "metadata": {
        "colab": {
          "base_uri": "https://localhost:8080/",
          "height": 339
        },
        "id": "Idiihxkg5aAp",
        "outputId": "d1a0ba06-c960-4af3-9c72-3413dfc91a39"
      },
      "source": [
        "accuracy_stats = sorted(ACCURACY_STATS, key=operator.itemgetter(0))\n",
        "xs = [x[1] for x in accuracy_stats]\n",
        "ys = [x[2] for x in accuracy_stats]\n",
        "\n",
        "plt.bar(np.arange(len(xs)), ys)\n",
        "plt.axhline(y=ys[0], color=\"r\", linestyle=\"--\", linewidth=1.5)\n",
        "plt.ylabel(\"accuracy\")\n",
        "plt.xticks(np.arange(len(xs)), xs, rotation=\"90\")\n",
        "plt.ylim([0.95, 1.0])\n",
        "\n",
        "_ = plt.show()"
      ],
      "execution_count": 53,
      "outputs": [
        {
          "output_type": "display_data",
          "data": {
            "image/png": "[encoded data removed]",
            "text/plain": [
              "<Figure size 432x288 with 1 Axes>"
            ]
          },
          "metadata": {
            "tags": [],
            "needs_background": "light"
          }
        }
      ]
    },
    {
      "cell_type": "code",
      "metadata": {
        "colab": {
          "base_uri": "https://localhost:8080/",
          "height": 235
        },
        "id": "-QQpYAT75f2y",
        "outputId": "90ce6e13-ad49-4773-993a-fa64708568a5"
      },
      "source": [
        "result_df = pd.DataFrame(ACCURACY_STATS, columns=[\"expt_num\", \"expt_name\", \"accuracy\"])\n",
        "result_df.head(len(result_df))"
      ],
      "execution_count": 54,
      "outputs": [
        {
          "output_type": "execute_result",
          "data": {
            "text/html": [
              "<div>\n",
              "<style scoped>\n",
              "    .dataframe tbody tr th:only-of-type {\n",
              "        vertical-align: middle;\n",
              "    }\n",
              "\n",
              "    .dataframe tbody tr th {\n",
              "        vertical-align: top;\n",
              "    }\n",
              "\n",
              "    .dataframe thead th {\n",
              "        text-align: right;\n",
              "    }\n",
              "</style>\n",
              "<table border=\"1\" class=\"dataframe\">\n",
              "  <thead>\n",
              "    <tr style=\"text-align: right;\">\n",
              "      <th></th>\n",
              "      <th>expt_num</th>\n",
              "      <th>expt_name</th>\n",
              "      <th>accuracy</th>\n",
              "    </tr>\n",
              "  </thead>\n",
              "  <tbody>\n",
              "    <tr>\n",
              "      <th>0</th>\n",
              "      <td>1</td>\n",
              "      <td>baseline</td>\n",
              "      <td>0.974865</td>\n",
              "    </tr>\n",
              "    <tr>\n",
              "      <th>1</th>\n",
              "      <td>2</td>\n",
              "      <td>class_weights</td>\n",
              "      <td>0.976661</td>\n",
              "    </tr>\n",
              "    <tr>\n",
              "      <th>2</th>\n",
              "      <td>3</td>\n",
              "      <td>under_sampling</td>\n",
              "      <td>0.967684</td>\n",
              "    </tr>\n",
              "    <tr>\n",
              "      <th>3</th>\n",
              "      <td>4</td>\n",
              "      <td>over_sampling</td>\n",
              "      <td>0.978456</td>\n",
              "    </tr>\n",
              "    <tr>\n",
              "      <th>4</th>\n",
              "      <td>5</td>\n",
              "      <td>SMOTE</td>\n",
              "      <td>0.978456</td>\n",
              "    </tr>\n",
              "    <tr>\n",
              "      <th>5</th>\n",
              "      <td>6</td>\n",
              "      <td>text_attack</td>\n",
              "      <td>0.974865</td>\n",
              "    </tr>\n",
              "  </tbody>\n",
              "</table>\n",
              "</div>"
            ],
            "text/plain": [
              "   expt_num       expt_name  accuracy\n",
              "0         1        baseline  0.974865\n",
              "1         2   class_weights  0.976661\n",
              "2         3  under_sampling  0.967684\n",
              "3         4   over_sampling  0.978456\n",
              "4         5           SMOTE  0.978456\n",
              "5         6     text_attack  0.974865"
            ]
          },
          "metadata": {
            "tags": []
          },
          "execution_count": 54
        }
      ]
    },
    {
      "cell_type": "code",
      "metadata": {
        "id": "bXaw2dGSPBVT"
      },
      "source": [
        ""
      ],
      "execution_count": 54,
      "outputs": []
    }
  ]
}