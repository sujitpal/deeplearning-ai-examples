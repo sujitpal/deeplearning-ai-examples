{
  "nbformat": 4,
  "nbformat_minor": 0,
  "metadata": {
    "colab": {
      "name": "blog_text_augment_02.ipynb",
      "provenance": [],
      "collapsed_sections": [],
      "authorship_tag": "ABX9TyPkRnMVRoZxBX9/obsDvZWc",
      "include_colab_link": true
    },
    "kernelspec": {
      "name": "python3",
      "display_name": "Python 3"
    },
    "accelerator": "GPU"
  },
  "cells": [
    {
      "cell_type": "markdown",
      "metadata": {
        "id": "view-in-github",
        "colab_type": "text"
      },
      "source": [
        "<a href=\"https://colab.research.google.com/github/sujitpal/deeplearning-ai-examples/blob/master/blog_text_augment_02.ipynb\" target=\"_parent\"><img src=\"https://colab.research.google.com/assets/colab-badge.svg\" alt=\"Open In Colab\"/></a>"
      ]
    },
    {
      "cell_type": "markdown",
      "metadata": {
        "id": "OaRXoIydsCwY"
      },
      "source": [
        "## Augmenting to balance unbalanced text dataset (Part 2)\n",
        "\n",
        "This notebook uses the data prepared from the previous notebook, and tries out 5 + 1 baseline strategies against a 3 layer fully connected network.\n",
        "\n",
        "Because we investigate the case where we augment before and after embedding, the embedding is done separately in the previous notebook using Google Universal Sentence Encoder (GUSE), and input to the network is always a (512,) vector."
      ]
    },
    {
      "cell_type": "code",
      "metadata": {
        "colab": {
          "base_uri": "https://localhost:8080/"
        },
        "id": "FRc-yyHYDqR5",
        "outputId": "6512519d-7b57-4ec8-cc40-0b5afad27f0a"
      },
      "source": [
        "import matplotlib.pyplot as plt\n",
        "import numpy as np\n",
        "import operator\n",
        "import os\n",
        "import pandas as pd\n",
        "\n",
        "import torch\n",
        "import torch.nn as nn\n",
        "import torch.nn.functional as F\n",
        "from torch.utils.data import TensorDataset, DataLoader\n",
        "\n",
        "from google.colab import drive\n",
        "from sklearn.metrics import accuracy_score, confusion_matrix, classification_report\n",
        "from sklearn.neighbors import base\n",
        "\n",
        "from imblearn.over_sampling import SMOTE\n",
        "\n",
        "%matplotlib inline"
      ],
      "execution_count": 1,
      "outputs": [
        {
          "output_type": "stream",
          "text": [
            "/usr/local/lib/python3.6/dist-packages/sklearn/utils/deprecation.py:144: FutureWarning: The sklearn.neighbors.base module is  deprecated in version 0.22 and will be removed in version 0.24. The corresponding classes / functions should instead be imported from sklearn.neighbors. Anything that cannot be imported from sklearn.neighbors is now part of the private API.\n",
            "  warnings.warn(message, FutureWarning)\n",
            "/usr/local/lib/python3.6/dist-packages/sklearn/externals/six.py:31: FutureWarning: The module is deprecated in version 0.21 and will be removed in version 0.23 since we've dropped support for Python 2.7. Please rely on the official version of six (https://pypi.org/project/six/).\n",
            "  \"(https://pypi.org/project/six/).\", FutureWarning)\n"
          ],
          "name": "stderr"
        }
      ]
    },
    {
      "cell_type": "code",
      "metadata": {
        "colab": {
          "base_uri": "https://localhost:8080/"
        },
        "id": "TyrO7tlKD8ic",
        "outputId": "407f2590-803d-4a57-ef93-600265d93b91"
      },
      "source": [
        "# Mount Google Drive\n",
        "\n",
        "ROOT = \"/content/drive\"     # default location for the drive\n",
        "print(ROOT)                 # print content of ROOT (Optional)\n",
        "\n",
        "drive.mount(ROOT)           # we mount the google drive at /content/drive"
      ],
      "execution_count": 2,
      "outputs": [
        {
          "output_type": "stream",
          "text": [
            "/content/drive\n",
            "Drive already mounted at /content/drive; to attempt to forcibly remount, call drive.mount(\"/content/drive\", force_remount=True).\n"
          ],
          "name": "stdout"
        }
      ]
    },
    {
      "cell_type": "code",
      "metadata": {
        "id": "1HSFewHPDxYs"
      },
      "source": [
        "DATA_DIR = \"/content/drive/MyDrive/nlp-deeplearning-ai-data\"\n",
        "\n",
        "# pre-split data splits prepared in previous (01) notebook\n",
        "SPAM_TRAIN_FILE = os.path.join(DATA_DIR, \"spam_train_emb.tsv\")\n",
        "SPAM_VALID_FILE = os.path.join(DATA_DIR, \"spam_valid_emb.tsv\")\n",
        "SPAM_TEST_FILE = os.path.join(DATA_DIR, \"spam_test_emb.tsv\")\n",
        "\n",
        "# only used for TextAttack experiment\n",
        "SPAM_TA_TRAIN_FILE = os.path.join(DATA_DIR, \"spam_train_ta_emb.tsv\")\n",
        "\n",
        "CLF_LAYER_DIMS = [512, 128, 32, 2]\n",
        "\n",
        "BATCH_SIZE = 128\n",
        "LEARNING_RATE = 1e-3\n",
        "NUM_EPOCHS = 10\n",
        "\n",
        "ACCURACY_STATS = []"
      ],
      "execution_count": 3,
      "outputs": []
    },
    {
      "cell_type": "code",
      "metadata": {
        "colab": {
          "base_uri": "https://localhost:8080/"
        },
        "id": "hzut3LbFttj9",
        "outputId": "4dc3ca80-36d2-4017-868d-285490f901b3"
      },
      "source": [
        "spam_train_df = pd.read_csv(SPAM_TRAIN_FILE, sep='\\t').dropna().reset_index()\n",
        "spam_valid_df = pd.read_csv(SPAM_VALID_FILE, sep='\\t').dropna().reset_index()\n",
        "spam_test_df = pd.read_csv(SPAM_TEST_FILE, sep='\\t').dropna().reset_index()\n",
        "\n",
        "len(spam_train_df), len(spam_valid_df), len(spam_test_df)"
      ],
      "execution_count": 4,
      "outputs": [
        {
          "output_type": "execute_result",
          "data": {
            "text/plain": [
              "(3900, 557, 1115)"
            ]
          },
          "metadata": {
            "tags": []
          },
          "execution_count": 4
        }
      ]
    },
    {
      "cell_type": "code",
      "metadata": {
        "colab": {
          "base_uri": "https://localhost:8080/",
          "height": 204
        },
        "id": "8gIg756-M3b7",
        "outputId": "de3732ff-eebf-4a94-fe40-af10f2f4e711"
      },
      "source": [
        "spam_train_df.head()"
      ],
      "execution_count": 5,
      "outputs": [
        {
          "output_type": "execute_result",
          "data": {
            "text/html": [
              "<div>\n",
              "<style scoped>\n",
              "    .dataframe tbody tr th:only-of-type {\n",
              "        vertical-align: middle;\n",
              "    }\n",
              "\n",
              "    .dataframe tbody tr th {\n",
              "        vertical-align: top;\n",
              "    }\n",
              "\n",
              "    .dataframe thead th {\n",
              "        text-align: right;\n",
              "    }\n",
              "</style>\n",
              "<table border=\"1\" class=\"dataframe\">\n",
              "  <thead>\n",
              "    <tr style=\"text-align: right;\">\n",
              "      <th></th>\n",
              "      <th>index</th>\n",
              "      <th>sentence</th>\n",
              "      <th>label</th>\n",
              "      <th>embedding</th>\n",
              "    </tr>\n",
              "  </thead>\n",
              "  <tbody>\n",
              "    <tr>\n",
              "      <th>0</th>\n",
              "      <td>0</td>\n",
              "      <td>Ugh I don't wanna get out of bed. It's so warm.</td>\n",
              "      <td>ham</td>\n",
              "      <td>5.3949911e-02,5.8220369e-03,-3.1541418e-02,3.3...</td>\n",
              "    </tr>\n",
              "    <tr>\n",
              "      <th>1</th>\n",
              "      <td>1</td>\n",
              "      <td>Dear i have reache room</td>\n",
              "      <td>ham</td>\n",
              "      <td>4.7420025e-02,2.3147971e-03,1.6905151e-02,-1.1...</td>\n",
              "    </tr>\n",
              "    <tr>\n",
              "      <th>2</th>\n",
              "      <td>2</td>\n",
              "      <td>I always chat with you. In fact i need money c...</td>\n",
              "      <td>ham</td>\n",
              "      <td>3.6402624e-02,-1.0346117e-01,5.0689392e-02,2.1...</td>\n",
              "    </tr>\n",
              "    <tr>\n",
              "      <th>3</th>\n",
              "      <td>3</td>\n",
              "      <td>Yes just finished watching days of our lives. ...</td>\n",
              "      <td>ham</td>\n",
              "      <td>1.6084902e-02,-1.7980557e-03,-4.4794872e-02,3....</td>\n",
              "    </tr>\n",
              "    <tr>\n",
              "      <th>4</th>\n",
              "      <td>4</td>\n",
              "      <td>Nice.nice.how is it working?</td>\n",
              "      <td>ham</td>\n",
              "      <td>-4.0968325e-02,-2.6070992e-02,-1.6136026e-02,-...</td>\n",
              "    </tr>\n",
              "  </tbody>\n",
              "</table>\n",
              "</div>"
            ],
            "text/plain": [
              "   index  ...                                          embedding\n",
              "0      0  ...  5.3949911e-02,5.8220369e-03,-3.1541418e-02,3.3...\n",
              "1      1  ...  4.7420025e-02,2.3147971e-03,1.6905151e-02,-1.1...\n",
              "2      2  ...  3.6402624e-02,-1.0346117e-01,5.0689392e-02,2.1...\n",
              "3      3  ...  1.6084902e-02,-1.7980557e-03,-4.4794872e-02,3....\n",
              "4      4  ...  -4.0968325e-02,-2.6070992e-02,-1.6136026e-02,-...\n",
              "\n",
              "[5 rows x 4 columns]"
            ]
          },
          "metadata": {
            "tags": []
          },
          "execution_count": 5
        }
      ]
    },
    {
      "cell_type": "code",
      "metadata": {
        "colab": {
          "base_uri": "https://localhost:8080/"
        },
        "id": "vYaJo6w6wHBs",
        "outputId": "8a31ef23-58cd-45f3-9d25-fd4076bb9f45"
      },
      "source": [
        "spam_train_df[\"label\"].value_counts()"
      ],
      "execution_count": 6,
      "outputs": [
        {
          "output_type": "execute_result",
          "data": {
            "text/plain": [
              "ham     3355\n",
              "spam     545\n",
              "Name: label, dtype: int64"
            ]
          },
          "metadata": {
            "tags": []
          },
          "execution_count": 6
        }
      ]
    },
    {
      "cell_type": "code",
      "metadata": {
        "colab": {
          "base_uri": "https://localhost:8080/",
          "height": 302
        },
        "id": "L9Fg-3EVwKzW",
        "outputId": "c24dedb5-175a-4e69-df7f-de617f44cc9f"
      },
      "source": [
        "spam_train_df[\"label\"].value_counts().plot(kind=\"bar\")"
      ],
      "execution_count": 7,
      "outputs": [
        {
          "output_type": "execute_result",
          "data": {
            "text/plain": [
              "<matplotlib.axes._subplots.AxesSubplot at 0x7f52ee402908>"
            ]
          },
          "metadata": {
            "tags": []
          },
          "execution_count": 7
        },
        {
          "output_type": "display_data",
          "data": {
            "image/png": "[encoded data removed]",
            "text/plain": [
              "<Figure size 432x288 with 1 Axes>"
            ]
          },
          "metadata": {
            "tags": [],
            "needs_background": "light"
          }
        }
      ]
    },
    {
      "cell_type": "markdown",
      "metadata": {
        "id": "A-0m6b0cf0rE"
      },
      "source": [
        "## Baseline"
      ]
    },
    {
      "cell_type": "code",
      "metadata": {
        "id": "RBsPxE1bPFgQ"
      },
      "source": [
        "def create_dataset(input_df):\n",
        "  emb_vecs = []\n",
        "  for emb in input_df[\"embedding\"].values:\n",
        "    vec = np.array([float(x) for x in str(emb).split(\",\")])\n",
        "    emb_vecs.append(vec)\n",
        "  labels = [0 if label == \"ham\" else 1 for label in input_df[\"label\"].values]\n",
        "  return TensorDataset(\n",
        "      torch.tensor(np.array(emb_vecs), dtype=torch.float32),\n",
        "      torch.tensor(np.array(labels), dtype=torch.long)\n",
        "  )\n",
        "\n",
        "\n",
        "train_ds = create_dataset(spam_train_df)\n",
        "val_ds = create_dataset(spam_valid_df)\n",
        "test_ds = create_dataset(spam_test_df)"
      ],
      "execution_count": 8,
      "outputs": []
    },
    {
      "cell_type": "code",
      "metadata": {
        "id": "rSRVZ4wDXHMn"
      },
      "source": [
        "train_dl = DataLoader(train_ds, batch_size=BATCH_SIZE, shuffle=True)\n",
        "val_dl = DataLoader(val_ds, batch_size=BATCH_SIZE, shuffle=False)\n",
        "test_dl = DataLoader(test_ds, batch_size=BATCH_SIZE, shuffle=False)"
      ],
      "execution_count": 9,
      "outputs": []
    },
    {
      "cell_type": "code",
      "metadata": {
        "colab": {
          "base_uri": "https://localhost:8080/"
        },
        "id": "2G6Y-QyVD4aJ",
        "outputId": "e9f02912-a5a6-46be-c342-fda6db197551"
      },
      "source": [
        "class SpamClassifier(nn.Module):\n",
        "  def __init__(self, dimensions):\n",
        "    super(SpamClassifier, self).__init__()\n",
        "    self.input_layer = nn.Linear(dimensions[0], dimensions[1])\n",
        "    self.hidden_layers = nn.ModuleList()\n",
        "    for i in range(1, len(dimensions) - 2):\n",
        "      hidden_layer = nn.Linear(dimensions[i], dimensions[i + 1])\n",
        "      self.hidden_layers.append(hidden_layer)\n",
        "    self.output_layer = nn.Linear(dimensions[-2], dimensions[-1])\n",
        "\n",
        "  def forward(self, x):\n",
        "    x = F.relu(self.input_layer(x))\n",
        "    for hidden_layer in self.hidden_layers:\n",
        "      x = F.relu(hidden_layer(x))\n",
        "    x = F.softmax(self.output_layer(x), dim=1)\n",
        "    return x\n",
        "\n",
        "clf = SpamClassifier(CLF_LAYER_DIMS)\n",
        "\n",
        "# self-test\n",
        "input = torch.rand(32, 512)\n",
        "output = clf(input)\n",
        "print(input.size(), output.size())"
      ],
      "execution_count": 10,
      "outputs": [
        {
          "output_type": "stream",
          "text": [
            "torch.Size([32, 512]) torch.Size([32, 2])\n"
          ],
          "name": "stdout"
        }
      ]
    },
    {
      "cell_type": "code",
      "metadata": {
        "id": "tFnLjo3varCS"
      },
      "source": [
        "dev = torch.device(\"cuda\" if torch.cuda.is_available() else \"cpu\")\n",
        "clf = clf.to(dev)"
      ],
      "execution_count": 11,
      "outputs": []
    },
    {
      "cell_type": "code",
      "metadata": {
        "id": "ARIEvAPsKt-f"
      },
      "source": [
        "loss_fn = nn.CrossEntropyLoss()\n",
        "optimizer = torch.optim.AdamW(clf.parameters(), lr=LEARNING_RATE)"
      ],
      "execution_count": 12,
      "outputs": []
    },
    {
      "cell_type": "code",
      "metadata": {
        "id": "Emo_75xMG_5w"
      },
      "source": [
        "def train(train_dl, model, loss_fn, optimizer):\n",
        "  model.train()\n",
        "  train_loss, train_acc, num_batches = 0, 0, 0\n",
        "  for data, labels in train_dl:\n",
        "    data, labels = data.to(dev), labels.to(dev)\n",
        "\n",
        "    logits = model(data)\n",
        "    loss = loss_fn(logits, labels)\n",
        "\n",
        "    train_loss += loss.item()\n",
        "    _, preds = torch.max(logits.data, dim=1)\n",
        "    train_acc += (preds == labels).sum() / labels.size()[0]\n",
        "    num_batches += 1\n",
        "\n",
        "    loss.backward()\n",
        "    optimizer.step()\n",
        "    optimizer.zero_grad()\n",
        "\n",
        "  return train_loss / num_batches, train_acc / num_batches\n",
        "\n",
        "def validate(val_dl, model, loss_fn):\n",
        "  model.eval()\n",
        "  val_loss, val_acc, num_batches = 0, 0, 0\n",
        "  for data, labels in val_dl:\n",
        "    data, labels = data.to(dev), labels.to(dev)\n",
        "    with torch.no_grad():\n",
        "      logits = model(data)\n",
        "      loss = loss_fn(logits, labels)\n",
        "\n",
        "      val_loss += loss.item()\n",
        "      _, preds = torch.max(logits.data, dim=1)\n",
        "      val_acc += (preds == labels).sum() / labels.size()[0]\n",
        "      num_batches += 1\n",
        "\n",
        "  return val_loss / num_batches, val_acc / num_batches"
      ],
      "execution_count": 13,
      "outputs": []
    },
    {
      "cell_type": "code",
      "metadata": {
        "colab": {
          "base_uri": "https://localhost:8080/"
        },
        "id": "VKKv9i0AMfVC",
        "outputId": "f94195bf-b7cf-41c0-eaaa-305c64a8294a"
      },
      "source": [
        "train_losses, train_accs, val_losses, val_accs = [], [], [], []\n",
        "for epoch in range(1, NUM_EPOCHS + 1):\n",
        "  train_loss, train_acc = train(train_dl, clf, loss_fn, optimizer)\n",
        "  val_loss, val_acc = validate(val_dl, clf, loss_fn) \n",
        "  print(\"EPOCH {:2d} | train_loss: {:.3f}, acc: {:.3f} | val_loss: {:.3f}, acc: {:.3f}\"\n",
        "    .format(epoch, train_loss, train_acc, val_loss, val_acc))\n",
        "  train_losses.append(train_loss)\n",
        "  train_accs.append(train_acc)\n",
        "  val_losses.append(val_loss)\n",
        "  val_accs.append(val_acc)"
      ],
      "execution_count": 14,
      "outputs": [
        {
          "output_type": "stream",
          "text": [
            "EPOCH  1 | train_loss: 0.585, acc: 0.860 | val_loss: 0.471, acc: 0.884\n",
            "EPOCH  2 | train_loss: 0.413, acc: 0.924 | val_loss: 0.359, acc: 0.973\n",
            "EPOCH  3 | train_loss: 0.346, acc: 0.980 | val_loss: 0.337, acc: 0.978\n",
            "EPOCH  4 | train_loss: 0.332, acc: 0.985 | val_loss: 0.334, acc: 0.977\n",
            "EPOCH  5 | train_loss: 0.328, acc: 0.989 | val_loss: 0.333, acc: 0.981\n",
            "EPOCH  6 | train_loss: 0.325, acc: 0.991 | val_loss: 0.333, acc: 0.980\n",
            "EPOCH  7 | train_loss: 0.323, acc: 0.992 | val_loss: 0.333, acc: 0.981\n",
            "EPOCH  8 | train_loss: 0.322, acc: 0.993 | val_loss: 0.333, acc: 0.980\n",
            "EPOCH  9 | train_loss: 0.321, acc: 0.993 | val_loss: 0.333, acc: 0.980\n",
            "EPOCH 10 | train_loss: 0.321, acc: 0.994 | val_loss: 0.333, acc: 0.980\n"
          ],
          "name": "stdout"
        }
      ]
    },
    {
      "cell_type": "code",
      "metadata": {
        "colab": {
          "base_uri": "https://localhost:8080/",
          "height": 308
        },
        "id": "nzchdxbVYjKC",
        "outputId": "7c9e94ae-a5fd-476e-f3c7-9cabc18671de"
      },
      "source": [
        "def training_lossplots(title, train_losses, train_accs, val_losses, val_accs):\n",
        "  plt.subplot(2, 1, 1)\n",
        "  epochs = np.arange(1, NUM_EPOCHS + 1)\n",
        "  plt.plot(epochs, train_losses, label=\"train\")\n",
        "  plt.plot(epochs, val_losses, label=\"valid\")\n",
        "  plt.xlabel(\"epoch\")\n",
        "  plt.ylabel(\"loss\")\n",
        "\n",
        "  plt.subplot(2, 1, 2)\n",
        "  plt.plot(epochs, train_accs, label=\"train\")\n",
        "  plt.plot(epochs, val_accs, label=\"valid\")\n",
        "  plt.xlabel(\"epoch\")\n",
        "  plt.ylabel(\"accuracy\")\n",
        "\n",
        "  plt.suptitle(title)\n",
        "  _ = plt.show()\n",
        "\n",
        "\n",
        "training_lossplots(\"Baseline\", train_losses, train_accs, val_losses, val_accs)"
      ],
      "execution_count": 15,
      "outputs": [
        {
          "output_type": "display_data",
          "data": {
            "image/png": "[encoded data removed]",
            "text/plain": [
              "<Figure size 432x288 with 2 Axes>"
            ]
          },
          "metadata": {
            "tags": [],
            "needs_background": "light"
          }
        }
      ]
    },
    {
      "cell_type": "code",
      "metadata": {
        "id": "N9uwGr-bZa-g"
      },
      "source": [
        "def predict(test_dl, model):\n",
        "  model.eval()\n",
        "  predictions, labels = [], []\n",
        "  for data, labels_b in val_dl:\n",
        "    data, labels_b = data.to(dev), labels_b.to(dev)\n",
        "    with torch.no_grad():\n",
        "      logits = model(data)\n",
        "      _, preds = torch.max(logits.data, dim=1)\n",
        "      predictions.extend([p.item() for p in preds])\n",
        "      labels.extend([l.item() for l in labels_b])\n",
        "\n",
        "  return predictions, labels\n",
        "\n",
        "predictions, labels = predict(test_dl, clf)"
      ],
      "execution_count": 16,
      "outputs": []
    },
    {
      "cell_type": "code",
      "metadata": {
        "colab": {
          "base_uri": "https://localhost:8080/"
        },
        "id": "rMJGq8oIaNtp",
        "outputId": "540bd274-d231-4b49-e9cf-48f50ed23f48"
      },
      "source": [
        "accuracy = accuracy_score(predictions, labels)\n",
        "ACCURACY_STATS.append((1, \"baseline\", accuracy))\n",
        "\n",
        "print(\"accuracy: {:.3f}\".format(accuracy))\n",
        "print(\"confusion matrix\")\n",
        "print(confusion_matrix(predictions, labels))"
      ],
      "execution_count": 17,
      "outputs": [
        {
          "output_type": "stream",
          "text": [
            "accuracy: 0.977\n",
            "confusion matrix\n",
            "[[481   6]\n",
            " [  7  63]]\n"
          ],
          "name": "stdout"
        }
      ]
    },
    {
      "cell_type": "markdown",
      "metadata": {
        "id": "ExvOLSvWlzx_"
      },
      "source": [
        "## Class Weights"
      ]
    },
    {
      "cell_type": "code",
      "metadata": {
        "colab": {
          "base_uri": "https://localhost:8080/"
        },
        "id": "ENaqpYNlmPXe",
        "outputId": "c313fc0a-df1f-47cd-bdc4-5579da0af74c"
      },
      "source": [
        "num_major = len(spam_train_df[spam_train_df[\"label\"] == \"ham\"])\n",
        "num_minor = len(spam_train_df[spam_train_df[\"label\"] == \"spam\"])\n",
        "\n",
        "weight_major = 1 / num_major\n",
        "weight_minor = 1 / num_minor\n",
        "total_weight = weight_major + weight_minor\n",
        "class_weights = torch.tensor([weight_major / total_weight, weight_minor / total_weight])\n",
        "class_weights = class_weights.to(dev)\n",
        "\n",
        "class_weights"
      ],
      "execution_count": 18,
      "outputs": [
        {
          "output_type": "execute_result",
          "data": {
            "text/plain": [
              "tensor([0.1397, 0.8603], device='cuda:0')"
            ]
          },
          "metadata": {
            "tags": []
          },
          "execution_count": 18
        }
      ]
    },
    {
      "cell_type": "code",
      "metadata": {
        "id": "olXM9d-Tl16w"
      },
      "source": [
        "clf = SpamClassifier(CLF_LAYER_DIMS)\n",
        "clf = clf.to(dev)\n",
        "\n",
        "loss_fn = nn.CrossEntropyLoss(weight=class_weights)\n",
        "optimizer = torch.optim.AdamW(clf.parameters(), lr=LEARNING_RATE)"
      ],
      "execution_count": 19,
      "outputs": []
    },
    {
      "cell_type": "code",
      "metadata": {
        "colab": {
          "base_uri": "https://localhost:8080/"
        },
        "id": "cWpN9OSgnBC6",
        "outputId": "295dd78b-39e3-4471-d3c7-1bec7a1db829"
      },
      "source": [
        "train_losses, train_accs, val_losses, val_accs = [], [], [], []\n",
        "for epoch in range(1, NUM_EPOCHS + 1):\n",
        "  train_loss, train_acc = train(train_dl, clf, loss_fn, optimizer)\n",
        "  val_loss, val_acc = validate(val_dl, clf, loss_fn) \n",
        "  print(\"EPOCH {:2d} | train_loss: {:.3f}, acc: {:.3f} | val_loss: {:.3f}, acc: {:.3f}\"\n",
        "    .format(epoch, train_loss, train_acc, val_loss, val_acc))\n",
        "  train_losses.append(train_loss)\n",
        "  train_accs.append(train_acc)\n",
        "  val_losses.append(val_loss)\n",
        "  val_accs.append(val_acc)"
      ],
      "execution_count": 20,
      "outputs": [
        {
          "output_type": "stream",
          "text": [
            "EPOCH  1 | train_loss: 0.647, acc: 0.559 | val_loss: 0.550, acc: 0.969\n",
            "EPOCH  2 | train_loss: 0.433, acc: 0.967 | val_loss: 0.356, acc: 0.981\n",
            "EPOCH  3 | train_loss: 0.352, acc: 0.977 | val_loss: 0.340, acc: 0.977\n",
            "EPOCH  4 | train_loss: 0.341, acc: 0.982 | val_loss: 0.337, acc: 0.984\n",
            "EPOCH  5 | train_loss: 0.337, acc: 0.985 | val_loss: 0.337, acc: 0.980\n",
            "EPOCH  6 | train_loss: 0.333, acc: 0.987 | val_loss: 0.341, acc: 0.978\n",
            "EPOCH  7 | train_loss: 0.332, acc: 0.990 | val_loss: 0.338, acc: 0.978\n",
            "EPOCH  8 | train_loss: 0.330, acc: 0.989 | val_loss: 0.342, acc: 0.980\n",
            "EPOCH  9 | train_loss: 0.328, acc: 0.992 | val_loss: 0.341, acc: 0.981\n",
            "EPOCH 10 | train_loss: 0.327, acc: 0.993 | val_loss: 0.342, acc: 0.981\n"
          ],
          "name": "stdout"
        }
      ]
    },
    {
      "cell_type": "code",
      "metadata": {
        "colab": {
          "base_uri": "https://localhost:8080/",
          "height": 308
        },
        "id": "60MWswl4nOHi",
        "outputId": "a7ac8758-25e7-41e1-b216-2b4a1ab37d66"
      },
      "source": [
        "training_lossplots(\"Class Weights\", train_losses, train_accs, val_losses, val_accs)"
      ],
      "execution_count": 21,
      "outputs": [
        {
          "output_type": "display_data",
          "data": {
            "image/png": "[encoded data removed]",
            "text/plain": [
              "<Figure size 432x288 with 2 Axes>"
            ]
          },
          "metadata": {
            "tags": [],
            "needs_background": "light"
          }
        }
      ]
    },
    {
      "cell_type": "code",
      "metadata": {
        "colab": {
          "base_uri": "https://localhost:8080/"
        },
        "id": "PXAgHyHInSiK",
        "outputId": "9d3d82fc-b42e-4f2f-975a-6fbff62b32fc"
      },
      "source": [
        "predictions, labels = predict(test_dl, clf)\n",
        "\n",
        "accuracy = accuracy_score(predictions, labels)\n",
        "ACCURACY_STATS.append((2, \"class_weights\", accuracy))\n",
        "\n",
        "print(\"accuracy: {:.3f}\".format(accuracy))\n",
        "print(\"confusion matrix\")\n",
        "print(confusion_matrix(predictions, labels))"
      ],
      "execution_count": 22,
      "outputs": [
        {
          "output_type": "stream",
          "text": [
            "accuracy: 0.978\n",
            "confusion matrix\n",
            "[[480   4]\n",
            " [  8  65]]\n"
          ],
          "name": "stdout"
        }
      ]
    },
    {
      "cell_type": "markdown",
      "metadata": {
        "id": "EmQuCG9ifjS7"
      },
      "source": [
        "## Undersampling Majority Class\n",
        "\n",
        "Sampling (especially oversampling) must be restricted to the training split to protect against data leakage."
      ]
    },
    {
      "cell_type": "code",
      "metadata": {
        "colab": {
          "base_uri": "https://localhost:8080/"
        },
        "id": "-QwB41jTaUxg",
        "outputId": "a818dac5-5b86-4a97-f815-e4a429db90ca"
      },
      "source": [
        "minor_df = spam_train_df[spam_train_df[\"label\"] == \"spam\"]\n",
        "num_minor = len(minor_df)\n",
        "num_major = len(spam_train_df) - num_minor\n",
        "\n",
        "sample_major_df = (\n",
        "  spam_train_df[spam_train_df[\"label\"] == \"ham\"]\n",
        "  .sample(num_minor, replace=False, axis=0)\n",
        ")\n",
        "\n",
        "under_df = pd.concat([minor_df, sample_major_df], axis=0)\n",
        "len(under_df)"
      ],
      "execution_count": 23,
      "outputs": [
        {
          "output_type": "execute_result",
          "data": {
            "text/plain": [
              "1090"
            ]
          },
          "metadata": {
            "tags": []
          },
          "execution_count": 23
        }
      ]
    },
    {
      "cell_type": "code",
      "metadata": {
        "colab": {
          "base_uri": "https://localhost:8080/"
        },
        "id": "afvjYxEJhocp",
        "outputId": "7ffa9cf8-ac85-4fd6-d6b6-fc8a83ff6833"
      },
      "source": [
        "under_df[\"label\"].value_counts()"
      ],
      "execution_count": 24,
      "outputs": [
        {
          "output_type": "execute_result",
          "data": {
            "text/plain": [
              "spam    545\n",
              "ham     545\n",
              "Name: label, dtype: int64"
            ]
          },
          "metadata": {
            "tags": []
          },
          "execution_count": 24
        }
      ]
    },
    {
      "cell_type": "code",
      "metadata": {
        "colab": {
          "base_uri": "https://localhost:8080/",
          "height": 300
        },
        "id": "rBUrosI5h0vz",
        "outputId": "b3d0fa71-4d60-48dd-b0e3-03540b727c49"
      },
      "source": [
        "under_df[\"label\"].value_counts().plot(kind=\"bar\")"
      ],
      "execution_count": 25,
      "outputs": [
        {
          "output_type": "execute_result",
          "data": {
            "text/plain": [
              "<matplotlib.axes._subplots.AxesSubplot at 0x7f52e4f695f8>"
            ]
          },
          "metadata": {
            "tags": []
          },
          "execution_count": 25
        },
        {
          "output_type": "display_data",
          "data": {
            "image/png": "[encoded data removed]",
            "text/plain": [
              "<Figure size 432x288 with 1 Axes>"
            ]
          },
          "metadata": {
            "tags": [],
            "needs_background": "light"
          }
        }
      ]
    },
    {
      "cell_type": "code",
      "metadata": {
        "id": "ZcD2DB8hiHiY"
      },
      "source": [
        "train_ds = create_dataset(under_df)\n",
        "\n",
        "train_dl = DataLoader(train_ds, batch_size=BATCH_SIZE, shuffle=True)\n",
        "val_dl = DataLoader(val_ds, batch_size=BATCH_SIZE, shuffle=False)\n",
        "test_dl = DataLoader(test_ds, batch_size=BATCH_SIZE, shuffle=False)"
      ],
      "execution_count": 26,
      "outputs": []
    },
    {
      "cell_type": "code",
      "metadata": {
        "id": "4DxgPiIUj58L"
      },
      "source": [
        "clf = SpamClassifier(CLF_LAYER_DIMS)\n",
        "clf = clf.to(dev)\n",
        "\n",
        "loss_fn = nn.CrossEntropyLoss()\n",
        "optimizer = torch.optim.AdamW(clf.parameters(), lr=LEARNING_RATE)"
      ],
      "execution_count": 27,
      "outputs": []
    },
    {
      "cell_type": "code",
      "metadata": {
        "colab": {
          "base_uri": "https://localhost:8080/"
        },
        "id": "TkFSeHH-ju5J",
        "outputId": "944f36f8-20fa-42bb-cd35-3cf357332093"
      },
      "source": [
        "train_losses, train_accs, val_losses, val_accs = [], [], [], []\n",
        "for epoch in range(1, NUM_EPOCHS + 1):\n",
        "  train_loss, train_acc = train(train_dl, clf, loss_fn, optimizer)\n",
        "  val_loss, val_acc = validate(val_dl, clf, loss_fn) \n",
        "  print(\"EPOCH {:2d} | train_loss: {:.3f}, acc: {:.3f} | val_loss: {:.3f}, acc: {:.3f}\"\n",
        "    .format(epoch, train_loss, train_acc, val_loss, val_acc))\n",
        "  train_losses.append(train_loss)\n",
        "  train_accs.append(train_acc)\n",
        "  val_losses.append(val_loss)\n",
        "  val_accs.append(val_acc)"
      ],
      "execution_count": 28,
      "outputs": [
        {
          "output_type": "stream",
          "text": [
            "EPOCH  1 | train_loss: 0.687, acc: 0.498 | val_loss: 0.633, acc: 0.884\n",
            "EPOCH  2 | train_loss: 0.656, acc: 0.656 | val_loss: 0.599, acc: 0.969\n",
            "EPOCH  3 | train_loss: 0.601, acc: 0.944 | val_loss: 0.547, acc: 0.983\n",
            "EPOCH  4 | train_loss: 0.520, acc: 0.962 | val_loss: 0.479, acc: 0.977\n",
            "EPOCH  5 | train_loss: 0.440, acc: 0.968 | val_loss: 0.417, acc: 0.975\n",
            "EPOCH  6 | train_loss: 0.389, acc: 0.970 | val_loss: 0.377, acc: 0.977\n",
            "EPOCH  7 | train_loss: 0.366, acc: 0.970 | val_loss: 0.358, acc: 0.977\n",
            "EPOCH  8 | train_loss: 0.353, acc: 0.973 | val_loss: 0.351, acc: 0.977\n",
            "EPOCH  9 | train_loss: 0.346, acc: 0.978 | val_loss: 0.345, acc: 0.977\n",
            "EPOCH 10 | train_loss: 0.342, acc: 0.979 | val_loss: 0.344, acc: 0.977\n"
          ],
          "name": "stdout"
        }
      ]
    },
    {
      "cell_type": "code",
      "metadata": {
        "colab": {
          "base_uri": "https://localhost:8080/",
          "height": 308
        },
        "id": "CH7nXpFykVX0",
        "outputId": "31529cc0-4b6c-4a28-bb02-e2e42463be9f"
      },
      "source": [
        "training_lossplots(\"Undersampling\", train_losses, train_accs, val_losses, val_accs)"
      ],
      "execution_count": 29,
      "outputs": [
        {
          "output_type": "display_data",
          "data": {
            "image/png": "[encoded data removed]",
            "text/plain": [
              "<Figure size 432x288 with 2 Axes>"
            ]
          },
          "metadata": {
            "tags": [],
            "needs_background": "light"
          }
        }
      ]
    },
    {
      "cell_type": "code",
      "metadata": {
        "colab": {
          "base_uri": "https://localhost:8080/"
        },
        "id": "etD-Ncl7kEYd",
        "outputId": "5016a5cd-fdab-404e-83d6-b5bf79b60e89"
      },
      "source": [
        "predictions, labels = predict(test_dl, clf)\n",
        "\n",
        "accuracy = accuracy_score(predictions, labels)\n",
        "ACCURACY_STATS.append((3, \"under_sampling\", accuracy))\n",
        "\n",
        "print(\"accuracy: {:.3f}\".format(accuracy))\n",
        "print(\"confusion matrix\")\n",
        "print(confusion_matrix(predictions, labels))"
      ],
      "execution_count": 30,
      "outputs": [
        {
          "output_type": "stream",
          "text": [
            "accuracy: 0.977\n",
            "confusion matrix\n",
            "[[476   1]\n",
            " [ 12  68]]\n"
          ],
          "name": "stdout"
        }
      ]
    },
    {
      "cell_type": "markdown",
      "metadata": {
        "id": "BWfqS5Mjkht9"
      },
      "source": [
        "## Oversampling Minority Class"
      ]
    },
    {
      "cell_type": "code",
      "metadata": {
        "colab": {
          "base_uri": "https://localhost:8080/"
        },
        "id": "D1My4SG9kdHK",
        "outputId": "c1af04d5-c278-4811-c9ff-2799d0af6d0a"
      },
      "source": [
        "major_df = spam_train_df[spam_train_df[\"label\"] == \"ham\"]\n",
        "num_major = len(major_df)\n",
        "num_minor = len(spam_train_df) - num_major\n",
        "\n",
        "sample_minor_df = spam_train_df[spam_train_df[\"label\"] == \"spam\"].sample(\n",
        "    num_major, replace=True, axis=0)\n",
        "\n",
        "over_df = pd.concat([major_df, sample_minor_df], axis=0)\n",
        "len(over_df)"
      ],
      "execution_count": 31,
      "outputs": [
        {
          "output_type": "execute_result",
          "data": {
            "text/plain": [
              "6710"
            ]
          },
          "metadata": {
            "tags": []
          },
          "execution_count": 31
        }
      ]
    },
    {
      "cell_type": "code",
      "metadata": {
        "colab": {
          "base_uri": "https://localhost:8080/"
        },
        "id": "RZ25RX3Gk8bi",
        "outputId": "beca3274-61f5-42dc-81b8-5de670610036"
      },
      "source": [
        "over_df[\"label\"].value_counts()"
      ],
      "execution_count": 32,
      "outputs": [
        {
          "output_type": "execute_result",
          "data": {
            "text/plain": [
              "spam    3355\n",
              "ham     3355\n",
              "Name: label, dtype: int64"
            ]
          },
          "metadata": {
            "tags": []
          },
          "execution_count": 32
        }
      ]
    },
    {
      "cell_type": "code",
      "metadata": {
        "colab": {
          "base_uri": "https://localhost:8080/",
          "height": 302
        },
        "id": "SvDjFYSQlDgo",
        "outputId": "1bd621ba-5f4e-4085-cae8-ff5e946ad32e"
      },
      "source": [
        "over_df[\"label\"].value_counts().plot(kind=\"bar\")"
      ],
      "execution_count": 33,
      "outputs": [
        {
          "output_type": "execute_result",
          "data": {
            "text/plain": [
              "<matplotlib.axes._subplots.AxesSubplot at 0x7f52e4e04128>"
            ]
          },
          "metadata": {
            "tags": []
          },
          "execution_count": 33
        },
        {
          "output_type": "display_data",
          "data": {
            "image/png": "[encoded data removed]",
            "text/plain": [
              "<Figure size 432x288 with 1 Axes>"
            ]
          },
          "metadata": {
            "tags": [],
            "needs_background": "light"
          }
        }
      ]
    },
    {
      "cell_type": "code",
      "metadata": {
        "id": "DXwG4OQolGv5"
      },
      "source": [
        "train_ds = create_dataset(over_df)\n",
        "\n",
        "train_dl = DataLoader(train_ds, batch_size=BATCH_SIZE, shuffle=True)\n",
        "val_dl = DataLoader(val_ds, batch_size=BATCH_SIZE, shuffle=False)\n",
        "test_dl = DataLoader(test_ds, batch_size=BATCH_SIZE, shuffle=False)"
      ],
      "execution_count": 34,
      "outputs": []
    },
    {
      "cell_type": "code",
      "metadata": {
        "id": "06qrjKeylOQw"
      },
      "source": [
        "clf = SpamClassifier(CLF_LAYER_DIMS)\n",
        "clf = clf.to(dev)\n",
        "\n",
        "loss_fn = nn.CrossEntropyLoss()\n",
        "optimizer = torch.optim.AdamW(clf.parameters(), lr=LEARNING_RATE)"
      ],
      "execution_count": 35,
      "outputs": []
    },
    {
      "cell_type": "code",
      "metadata": {
        "colab": {
          "base_uri": "https://localhost:8080/"
        },
        "id": "u2gYBcbClTro",
        "outputId": "4b782aea-8096-45b8-9a48-306e1148acb7"
      },
      "source": [
        "train_losses, train_accs, val_losses, val_accs = [], [], [], []\n",
        "for epoch in range(1, NUM_EPOCHS + 1):\n",
        "  train_loss, train_acc = train(train_dl, clf, loss_fn, optimizer)\n",
        "  val_loss, val_acc = validate(val_dl, clf, loss_fn) \n",
        "  print(\"EPOCH {:2d} | train_loss: {:.3f}, acc: {:.3f} | val_loss: {:.3f}, acc: {:.3f}\"\n",
        "    .format(epoch, train_loss, train_acc, val_loss, val_acc))\n",
        "  train_losses.append(train_loss)\n",
        "  train_accs.append(train_acc)\n",
        "  val_losses.append(val_loss)\n",
        "  val_accs.append(val_acc)"
      ],
      "execution_count": 36,
      "outputs": [
        {
          "output_type": "stream",
          "text": [
            "EPOCH  1 | train_loss: 0.550, acc: 0.840 | val_loss: 0.378, acc: 0.977\n",
            "EPOCH  2 | train_loss: 0.352, acc: 0.971 | val_loss: 0.337, acc: 0.981\n",
            "EPOCH  3 | train_loss: 0.335, acc: 0.983 | val_loss: 0.336, acc: 0.981\n",
            "EPOCH  4 | train_loss: 0.329, acc: 0.987 | val_loss: 0.332, acc: 0.983\n",
            "EPOCH  5 | train_loss: 0.327, acc: 0.988 | val_loss: 0.332, acc: 0.981\n",
            "EPOCH  6 | train_loss: 0.325, acc: 0.989 | val_loss: 0.332, acc: 0.983\n",
            "EPOCH  7 | train_loss: 0.324, acc: 0.990 | val_loss: 0.332, acc: 0.981\n",
            "EPOCH  8 | train_loss: 0.323, acc: 0.990 | val_loss: 0.332, acc: 0.981\n",
            "EPOCH  9 | train_loss: 0.323, acc: 0.992 | val_loss: 0.333, acc: 0.980\n",
            "EPOCH 10 | train_loss: 0.322, acc: 0.992 | val_loss: 0.333, acc: 0.980\n"
          ],
          "name": "stdout"
        }
      ]
    },
    {
      "cell_type": "code",
      "metadata": {
        "colab": {
          "base_uri": "https://localhost:8080/",
          "height": 308
        },
        "id": "hJ3ByNQxlaIj",
        "outputId": "c6ecad4a-c23c-43a5-ca6b-6743154f3fe5"
      },
      "source": [
        "training_lossplots(\"Oversampling\", train_losses, train_accs, val_losses, val_accs)"
      ],
      "execution_count": 37,
      "outputs": [
        {
          "output_type": "display_data",
          "data": {
            "image/png": "[encoded data removed]",
            "text/plain": [
              "<Figure size 432x288 with 2 Axes>"
            ]
          },
          "metadata": {
            "tags": [],
            "needs_background": "light"
          }
        }
      ]
    },
    {
      "cell_type": "code",
      "metadata": {
        "colab": {
          "base_uri": "https://localhost:8080/"
        },
        "id": "1Jj5FBbClgM1",
        "outputId": "b55998e3-4ef4-4c22-d459-6d9f4c8e260d"
      },
      "source": [
        "predictions, labels = predict(test_dl, clf)\n",
        "\n",
        "accuracy = accuracy_score(predictions, labels)\n",
        "ACCURACY_STATS.append((4, \"over_sampling\", accuracy))\n",
        "\n",
        "print(\"accuracy: {:.3f}\".format(accuracy))\n",
        "print(\"confusion matrix\")\n",
        "print(confusion_matrix(predictions, labels))"
      ],
      "execution_count": 38,
      "outputs": [
        {
          "output_type": "stream",
          "text": [
            "accuracy: 0.977\n",
            "confusion matrix\n",
            "[[479   4]\n",
            " [  9  65]]\n"
          ],
          "name": "stdout"
        }
      ]
    },
    {
      "cell_type": "markdown",
      "metadata": {
        "id": "II5RFfa6lwXF"
      },
      "source": [
        "## SMOTE Oversampling"
      ]
    },
    {
      "cell_type": "code",
      "metadata": {
        "id": "gih6TY-esZgB",
        "colab": {
          "base_uri": "https://localhost:8080/"
        },
        "outputId": "42d6d274-b9ba-4aad-b41b-00b946ad0dbf"
      },
      "source": [
        "def create_xy_from_dataframe(input_df):\n",
        "  emb_vecs = []\n",
        "  for emb in input_df[\"embedding\"].values:\n",
        "    vec = np.array([float(x) for x in str(emb).split(\",\")])\n",
        "    emb_vecs.append(vec)\n",
        "  labels = [0 if label == \"ham\" else 1 for label in input_df[\"label\"].values]\n",
        "  return np.array(emb_vecs), np.array(labels)\n",
        "\n",
        "\n",
        "def create_dataset_from_xy(xs, ys):\n",
        "  return TensorDataset(\n",
        "      torch.tensor(xs, dtype=torch.float32),\n",
        "      torch.tensor(ys, dtype=torch.long)\n",
        "  )\n",
        "\n",
        "\n",
        "train_x, train_y = create_xy_from_dataframe(spam_train_df)\n",
        "oversampler = SMOTE()\n",
        "train_x, train_y = oversampler.fit_resample(train_x, train_y)\n",
        "uniq, counts = np.unique(train_y, return_counts=True)\n",
        "counts"
      ],
      "execution_count": 39,
      "outputs": [
        {
          "output_type": "stream",
          "text": [
            "/usr/local/lib/python3.6/dist-packages/sklearn/utils/deprecation.py:87: FutureWarning: Function safe_indexing is deprecated; safe_indexing is deprecated in version 0.22 and will be removed in version 0.24.\n",
            "  warnings.warn(msg, category=FutureWarning)\n"
          ],
          "name": "stderr"
        },
        {
          "output_type": "execute_result",
          "data": {
            "text/plain": [
              "array([3355, 3355])"
            ]
          },
          "metadata": {
            "tags": []
          },
          "execution_count": 39
        }
      ]
    },
    {
      "cell_type": "code",
      "metadata": {
        "id": "Db0VO9GluBN7"
      },
      "source": [
        "train_ds = create_dataset_from_xy(train_x, train_y)\n",
        "\n",
        "train_dl = DataLoader(train_ds, batch_size=BATCH_SIZE, shuffle=True)\n",
        "val_dl = DataLoader(val_ds, batch_size=BATCH_SIZE, shuffle=False)\n",
        "test_dl = DataLoader(test_ds, batch_size=BATCH_SIZE, shuffle=False)"
      ],
      "execution_count": 40,
      "outputs": []
    },
    {
      "cell_type": "code",
      "metadata": {
        "id": "S8ivghknu2Gx"
      },
      "source": [
        "clf = SpamClassifier(CLF_LAYER_DIMS)\n",
        "clf = clf.to(dev)\n",
        "\n",
        "loss_fn = nn.CrossEntropyLoss()\n",
        "optimizer = torch.optim.AdamW(clf.parameters(), lr=LEARNING_RATE)"
      ],
      "execution_count": 41,
      "outputs": []
    },
    {
      "cell_type": "code",
      "metadata": {
        "colab": {
          "base_uri": "https://localhost:8080/"
        },
        "id": "-0hQsr_wu6M_",
        "outputId": "cfc6c5fd-c1a0-4d6d-ec1b-330413f8e796"
      },
      "source": [
        "train_losses, train_accs, val_losses, val_accs = [], [], [], []\n",
        "for epoch in range(1, NUM_EPOCHS + 1):\n",
        "  train_loss, train_acc = train(train_dl, clf, loss_fn, optimizer)\n",
        "  val_loss, val_acc = validate(val_dl, clf, loss_fn) \n",
        "  print(\"EPOCH {:2d} | train_loss: {:.3f}, acc: {:.3f} | val_loss: {:.3f}, acc: {:.3f}\"\n",
        "    .format(epoch, train_loss, train_acc, val_loss, val_acc))\n",
        "  train_losses.append(train_loss)\n",
        "  train_accs.append(train_acc)\n",
        "  val_losses.append(val_loss)\n",
        "  val_accs.append(val_acc)"
      ],
      "execution_count": 42,
      "outputs": [
        {
          "output_type": "stream",
          "text": [
            "EPOCH  1 | train_loss: 0.538, acc: 0.898 | val_loss: 0.361, acc: 0.977\n",
            "EPOCH  2 | train_loss: 0.343, acc: 0.978 | val_loss: 0.336, acc: 0.980\n",
            "EPOCH  3 | train_loss: 0.330, acc: 0.986 | val_loss: 0.332, acc: 0.984\n",
            "EPOCH  4 | train_loss: 0.326, acc: 0.989 | val_loss: 0.331, acc: 0.984\n",
            "EPOCH  5 | train_loss: 0.324, acc: 0.992 | val_loss: 0.331, acc: 0.983\n",
            "EPOCH  6 | train_loss: 0.321, acc: 0.994 | val_loss: 0.332, acc: 0.981\n",
            "EPOCH  7 | train_loss: 0.320, acc: 0.995 | val_loss: 0.331, acc: 0.983\n",
            "EPOCH  8 | train_loss: 0.319, acc: 0.995 | val_loss: 0.331, acc: 0.983\n",
            "EPOCH  9 | train_loss: 0.318, acc: 0.996 | val_loss: 0.332, acc: 0.983\n",
            "EPOCH 10 | train_loss: 0.317, acc: 0.997 | val_loss: 0.332, acc: 0.983\n"
          ],
          "name": "stdout"
        }
      ]
    },
    {
      "cell_type": "code",
      "metadata": {
        "colab": {
          "base_uri": "https://localhost:8080/",
          "height": 308
        },
        "id": "g64560awu9qG",
        "outputId": "131b80b1-aabf-491f-e1a6-1e67f0dd4007"
      },
      "source": [
        "training_lossplots(\"SMOTE\", train_losses, train_accs, val_losses, val_accs)"
      ],
      "execution_count": 43,
      "outputs": [
        {
          "output_type": "display_data",
          "data": {
            "image/png": "[encoded data removed]",
            "text/plain": [
              "<Figure size 432x288 with 2 Axes>"
            ]
          },
          "metadata": {
            "tags": [],
            "needs_background": "light"
          }
        }
      ]
    },
    {
      "cell_type": "code",
      "metadata": {
        "colab": {
          "base_uri": "https://localhost:8080/"
        },
        "id": "hVwhL433vCVt",
        "outputId": "d84a916c-d7b3-4c1d-bf55-1ee8f1c06304"
      },
      "source": [
        "predictions, labels = predict(test_dl, clf)\n",
        "\n",
        "accuracy = accuracy_score(predictions, labels)\n",
        "ACCURACY_STATS.append((5, \"SMOTE\", accuracy))\n",
        "\n",
        "print(\"accuracy: {:.3f}\".format(accuracy))\n",
        "print(\"confusion matrix\")\n",
        "print(confusion_matrix(predictions, labels))"
      ],
      "execution_count": 44,
      "outputs": [
        {
          "output_type": "stream",
          "text": [
            "accuracy: 0.980\n",
            "confusion matrix\n",
            "[[481   4]\n",
            " [  7  65]]\n"
          ],
          "name": "stdout"
        }
      ]
    },
    {
      "cell_type": "markdown",
      "metadata": {
        "id": "fwT1UzBFvN-C"
      },
      "source": [
        "## Text Attack Augmentation"
      ]
    },
    {
      "cell_type": "code",
      "metadata": {
        "id": "A81i28NbvGB9",
        "colab": {
          "base_uri": "https://localhost:8080/",
          "height": 204
        },
        "outputId": "62e72c89-b9e2-43b4-9503-639f1d89c0c9"
      },
      "source": [
        "spam_train_df = pd.read_csv(SPAM_TA_TRAIN_FILE, sep='\\t')\n",
        "spam_train_df.head()"
      ],
      "execution_count": 45,
      "outputs": [
        {
          "output_type": "execute_result",
          "data": {
            "text/html": [
              "<div>\n",
              "<style scoped>\n",
              "    .dataframe tbody tr th:only-of-type {\n",
              "        vertical-align: middle;\n",
              "    }\n",
              "\n",
              "    .dataframe tbody tr th {\n",
              "        vertical-align: top;\n",
              "    }\n",
              "\n",
              "    .dataframe thead th {\n",
              "        text-align: right;\n",
              "    }\n",
              "</style>\n",
              "<table border=\"1\" class=\"dataframe\">\n",
              "  <thead>\n",
              "    <tr style=\"text-align: right;\">\n",
              "      <th></th>\n",
              "      <th>sentence</th>\n",
              "      <th>label</th>\n",
              "      <th>embedding</th>\n",
              "    </tr>\n",
              "  </thead>\n",
              "  <tbody>\n",
              "    <tr>\n",
              "      <th>0</th>\n",
              "      <td>Ugh I don't wanna get out of bed. It's so warm.</td>\n",
              "      <td>ham</td>\n",
              "      <td>5.3949911e-02,5.8220369e-03,-3.1541418e-02,3.3...</td>\n",
              "    </tr>\n",
              "    <tr>\n",
              "      <th>1</th>\n",
              "      <td>Dear i have reache room</td>\n",
              "      <td>ham</td>\n",
              "      <td>4.7420025e-02,2.3147971e-03,1.6905151e-02,-1.1...</td>\n",
              "    </tr>\n",
              "    <tr>\n",
              "      <th>2</th>\n",
              "      <td>I always chat with you. In fact i need money c...</td>\n",
              "      <td>ham</td>\n",
              "      <td>3.6402624e-02,-1.0346117e-01,5.0689392e-02,2.1...</td>\n",
              "    </tr>\n",
              "    <tr>\n",
              "      <th>3</th>\n",
              "      <td>Yes just finished watching days of our lives. ...</td>\n",
              "      <td>ham</td>\n",
              "      <td>1.6084902e-02,-1.7980557e-03,-4.4794872e-02,3....</td>\n",
              "    </tr>\n",
              "    <tr>\n",
              "      <th>4</th>\n",
              "      <td>Nice.nice.how is it working?</td>\n",
              "      <td>ham</td>\n",
              "      <td>-4.0968325e-02,-2.6070992e-02,-1.6136026e-02,-...</td>\n",
              "    </tr>\n",
              "  </tbody>\n",
              "</table>\n",
              "</div>"
            ],
            "text/plain": [
              "                                            sentence  ...                                          embedding\n",
              "0    Ugh I don't wanna get out of bed. It's so warm.  ...  5.3949911e-02,5.8220369e-03,-3.1541418e-02,3.3...\n",
              "1                            Dear i have reache room  ...  4.7420025e-02,2.3147971e-03,1.6905151e-02,-1.1...\n",
              "2  I always chat with you. In fact i need money c...  ...  3.6402624e-02,-1.0346117e-01,5.0689392e-02,2.1...\n",
              "3  Yes just finished watching days of our lives. ...  ...  1.6084902e-02,-1.7980557e-03,-4.4794872e-02,3....\n",
              "4                       Nice.nice.how is it working?  ...  -4.0968325e-02,-2.6070992e-02,-1.6136026e-02,-...\n",
              "\n",
              "[5 rows x 3 columns]"
            ]
          },
          "metadata": {
            "tags": []
          },
          "execution_count": 45
        }
      ]
    },
    {
      "cell_type": "code",
      "metadata": {
        "id": "zkhh7a0o4qyD",
        "colab": {
          "base_uri": "https://localhost:8080/"
        },
        "outputId": "341e0458-3242-484a-e85e-1ecc3ef60252"
      },
      "source": [
        "spam_train_df[\"label\"].value_counts()"
      ],
      "execution_count": 46,
      "outputs": [
        {
          "output_type": "execute_result",
          "data": {
            "text/plain": [
              "ham     3355\n",
              "spam    2712\n",
              "Name: label, dtype: int64"
            ]
          },
          "metadata": {
            "tags": []
          },
          "execution_count": 46
        }
      ]
    },
    {
      "cell_type": "code",
      "metadata": {
        "id": "zVC_xZK14ur4",
        "colab": {
          "base_uri": "https://localhost:8080/",
          "height": 302
        },
        "outputId": "c8f5fb51-c573-4c47-f691-e25f48a4827d"
      },
      "source": [
        "spam_train_df[\"label\"].value_counts().plot(kind=\"bar\")"
      ],
      "execution_count": 47,
      "outputs": [
        {
          "output_type": "execute_result",
          "data": {
            "text/plain": [
              "<matplotlib.axes._subplots.AxesSubplot at 0x7f52e4cad0f0>"
            ]
          },
          "metadata": {
            "tags": []
          },
          "execution_count": 47
        },
        {
          "output_type": "display_data",
          "data": {
            "image/png": "[encoded data removed]",
            "text/plain": [
              "<Figure size 432x288 with 1 Axes>"
            ]
          },
          "metadata": {
            "tags": [],
            "needs_background": "light"
          }
        }
      ]
    },
    {
      "cell_type": "code",
      "metadata": {
        "id": "KDqS2TkC4zT3"
      },
      "source": [
        "train_ds = create_dataset(spam_train_df)\n",
        "\n",
        "train_dl = DataLoader(train_ds, batch_size=BATCH_SIZE, shuffle=True)\n",
        "val_dl = DataLoader(val_ds, batch_size=BATCH_SIZE, shuffle=False)\n",
        "test_dl = DataLoader(test_ds, batch_size=BATCH_SIZE, shuffle=False)"
      ],
      "execution_count": 48,
      "outputs": []
    },
    {
      "cell_type": "code",
      "metadata": {
        "id": "pF8XDxhG4_IV"
      },
      "source": [
        "clf = SpamClassifier(CLF_LAYER_DIMS)\n",
        "clf = clf.to(dev)\n",
        "\n",
        "loss_fn = nn.CrossEntropyLoss()\n",
        "optimizer = torch.optim.AdamW(clf.parameters(), lr=LEARNING_RATE)"
      ],
      "execution_count": 49,
      "outputs": []
    },
    {
      "cell_type": "code",
      "metadata": {
        "id": "hI72tUFE5EFs",
        "colab": {
          "base_uri": "https://localhost:8080/"
        },
        "outputId": "ed79002a-2f7a-486a-9946-0c966ad5fa4b"
      },
      "source": [
        "train_losses, train_accs, val_losses, val_accs = [], [], [], []\n",
        "for epoch in range(1, NUM_EPOCHS + 1):\n",
        "  train_loss, train_acc = train(train_dl, clf, loss_fn, optimizer)\n",
        "  val_loss, val_acc = validate(val_dl, clf, loss_fn) \n",
        "  print(\"EPOCH {:2d} | train_loss: {:.3f}, acc: {:.3f} | val_loss: {:.3f}, acc: {:.3f}\"\n",
        "    .format(epoch, train_loss, train_acc, val_loss, val_acc))\n",
        "  train_losses.append(train_loss)\n",
        "  train_accs.append(train_acc)\n",
        "  val_losses.append(val_loss)\n",
        "  val_accs.append(val_acc)"
      ],
      "execution_count": 50,
      "outputs": [
        {
          "output_type": "stream",
          "text": [
            "EPOCH  1 | train_loss: 0.582, acc: 0.859 | val_loss: 0.387, acc: 0.980\n",
            "EPOCH  2 | train_loss: 0.359, acc: 0.969 | val_loss: 0.340, acc: 0.978\n",
            "EPOCH  3 | train_loss: 0.342, acc: 0.975 | val_loss: 0.338, acc: 0.978\n",
            "EPOCH  4 | train_loss: 0.337, acc: 0.980 | val_loss: 0.337, acc: 0.978\n",
            "EPOCH  5 | train_loss: 0.333, acc: 0.982 | val_loss: 0.334, acc: 0.981\n",
            "EPOCH  6 | train_loss: 0.331, acc: 0.984 | val_loss: 0.338, acc: 0.974\n",
            "EPOCH  7 | train_loss: 0.329, acc: 0.986 | val_loss: 0.339, acc: 0.974\n",
            "EPOCH  8 | train_loss: 0.328, acc: 0.988 | val_loss: 0.337, acc: 0.975\n",
            "EPOCH  9 | train_loss: 0.327, acc: 0.988 | val_loss: 0.340, acc: 0.972\n",
            "EPOCH 10 | train_loss: 0.326, acc: 0.989 | val_loss: 0.341, acc: 0.972\n"
          ],
          "name": "stdout"
        }
      ]
    },
    {
      "cell_type": "code",
      "metadata": {
        "id": "LC41hTXO5IKG",
        "colab": {
          "base_uri": "https://localhost:8080/",
          "height": 308
        },
        "outputId": "29fcdbaa-fe34-4372-ca15-71c3a34c7d3f"
      },
      "source": [
        "training_lossplots(\"Text Attack\", train_losses, train_accs, val_losses, val_accs)"
      ],
      "execution_count": 51,
      "outputs": [
        {
          "output_type": "display_data",
          "data": {
            "image/png": "[encoded data removed]",
            "text/plain": [
              "<Figure size 432x288 with 2 Axes>"
            ]
          },
          "metadata": {
            "tags": [],
            "needs_background": "light"
          }
        }
      ]
    },
    {
      "cell_type": "code",
      "metadata": {
        "id": "DCJr9gs85N_k",
        "colab": {
          "base_uri": "https://localhost:8080/"
        },
        "outputId": "333e538d-a10f-4ba0-9d17-7fd1e37bc070"
      },
      "source": [
        "predictions, labels = predict(test_dl, clf)\n",
        "\n",
        "accuracy = accuracy_score(predictions, labels)\n",
        "ACCURACY_STATS.append((6, \"text_attack\", accuracy))\n",
        "\n",
        "print(\"accuracy: {:.3f}\".format(accuracy))\n",
        "print(\"confusion matrix\")\n",
        "print(confusion_matrix(predictions, labels))"
      ],
      "execution_count": 52,
      "outputs": [
        {
          "output_type": "stream",
          "text": [
            "accuracy: 0.971\n",
            "confusion matrix\n",
            "[[474   2]\n",
            " [ 14  67]]\n"
          ],
          "name": "stdout"
        }
      ]
    },
    {
      "cell_type": "markdown",
      "metadata": {
        "id": "otEPj_QO5bTP"
      },
      "source": [
        "### Results"
      ]
    },
    {
      "cell_type": "code",
      "metadata": {
        "colab": {
          "base_uri": "https://localhost:8080/",
          "height": 339
        },
        "id": "Idiihxkg5aAp",
        "outputId": "f44e2743-2ab7-4c07-eca5-4771bbd230ea"
      },
      "source": [
        "accuracy_stats = sorted(ACCURACY_STATS, key=operator.itemgetter(0))\n",
        "xs = [x[1] for x in accuracy_stats]\n",
        "ys = [x[2] for x in accuracy_stats]\n",
        "\n",
        "plt.bar(np.arange(len(xs)), ys)\n",
        "plt.axhline(y=ys[0], color=\"r\", linestyle=\"--\", linewidth=1.5)\n",
        "plt.ylabel(\"accuracy\")\n",
        "plt.xticks(np.arange(len(xs)), xs, rotation=\"90\")\n",
        "plt.ylim([0.95, 1.0])\n",
        "\n",
        "_ = plt.show()"
      ],
      "execution_count": 53,
      "outputs": [
        {
          "output_type": "display_data",
          "data": {
            "image/png": "[encoded data removed]",
            "text/plain": [
              "<Figure size 432x288 with 1 Axes>"
            ]
          },
          "metadata": {
            "tags": [],
            "needs_background": "light"
          }
        }
      ]
    },
    {
      "cell_type": "code",
      "metadata": {
        "colab": {
          "base_uri": "https://localhost:8080/",
          "height": 235
        },
        "id": "-QQpYAT75f2y",
        "outputId": "48f687cb-2097-45aa-f934-3e4b35fdd1cb"
      },
      "source": [
        "result_df = pd.DataFrame(ACCURACY_STATS, columns=[\"expt_num\", \"expt_name\", \"accuracy\"])\n",
        "result_df.head(len(result_df))"
      ],
      "execution_count": 54,
      "outputs": [
        {
          "output_type": "execute_result",
          "data": {
            "text/html": [
              "<div>\n",
              "<style scoped>\n",
              "    .dataframe tbody tr th:only-of-type {\n",
              "        vertical-align: middle;\n",
              "    }\n",
              "\n",
              "    .dataframe tbody tr th {\n",
              "        vertical-align: top;\n",
              "    }\n",
              "\n",
              "    .dataframe thead th {\n",
              "        text-align: right;\n",
              "    }\n",
              "</style>\n",
              "<table border=\"1\" class=\"dataframe\">\n",
              "  <thead>\n",
              "    <tr style=\"text-align: right;\">\n",
              "      <th></th>\n",
              "      <th>expt_num</th>\n",
              "      <th>expt_name</th>\n",
              "      <th>accuracy</th>\n",
              "    </tr>\n",
              "  </thead>\n",
              "  <tbody>\n",
              "    <tr>\n",
              "      <th>0</th>\n",
              "      <td>1</td>\n",
              "      <td>baseline</td>\n",
              "      <td>0.976661</td>\n",
              "    </tr>\n",
              "    <tr>\n",
              "      <th>1</th>\n",
              "      <td>2</td>\n",
              "      <td>class_weights</td>\n",
              "      <td>0.978456</td>\n",
              "    </tr>\n",
              "    <tr>\n",
              "      <th>2</th>\n",
              "      <td>3</td>\n",
              "      <td>under_sampling</td>\n",
              "      <td>0.976661</td>\n",
              "    </tr>\n",
              "    <tr>\n",
              "      <th>3</th>\n",
              "      <td>4</td>\n",
              "      <td>over_sampling</td>\n",
              "      <td>0.976661</td>\n",
              "    </tr>\n",
              "    <tr>\n",
              "      <th>4</th>\n",
              "      <td>5</td>\n",
              "      <td>SMOTE</td>\n",
              "      <td>0.980251</td>\n",
              "    </tr>\n",
              "    <tr>\n",
              "      <th>5</th>\n",
              "      <td>6</td>\n",
              "      <td>text_attack</td>\n",
              "      <td>0.971275</td>\n",
              "    </tr>\n",
              "  </tbody>\n",
              "</table>\n",
              "</div>"
            ],
            "text/plain": [
              "   expt_num       expt_name  accuracy\n",
              "0         1        baseline  0.976661\n",
              "1         2   class_weights  0.978456\n",
              "2         3  under_sampling  0.976661\n",
              "3         4   over_sampling  0.976661\n",
              "4         5           SMOTE  0.980251\n",
              "5         6     text_attack  0.971275"
            ]
          },
          "metadata": {
            "tags": []
          },
          "execution_count": 54
        }
      ]
    },
    {
      "cell_type": "code",
      "metadata": {
        "id": "bXaw2dGSPBVT"
      },
      "source": [
        ""
      ],
      "execution_count": 54,
      "outputs": []
    }
  ]
}