{
  "nbformat": 4,
  "nbformat_minor": 0,
  "metadata": {
    "colab": {
      "name": "blog_text_augment_02.ipynb",
      "provenance": [],
      "collapsed_sections": [],
      "authorship_tag": "ABX9TyO3ZhYsnS7wsYnMAxTPpJnZ",
      "include_colab_link": true
    },
    "kernelspec": {
      "name": "python3",
      "display_name": "Python 3"
    },
    "accelerator": "GPU"
  },
  "cells": [
    {
      "cell_type": "markdown",
      "metadata": {
        "id": "view-in-github",
        "colab_type": "text"
      },
      "source": [
        "<a href=\"https://colab.research.google.com/github/sujitpal/deeplearning-ai-examples/blob/master/blog_text_augment_02.ipynb\" target=\"_parent\"><img src=\"https://colab.research.google.com/assets/colab-badge.svg\" alt=\"Open In Colab\"/></a>"
      ]
    },
    {
      "cell_type": "code",
      "metadata": {
        "colab": {
          "base_uri": "https://localhost:8080/"
        },
        "id": "FRc-yyHYDqR5",
        "outputId": "b127cd35-3be2-4a8e-b45f-f6af50cf4766"
      },
      "source": [
        "import matplotlib.pyplot as plt\n",
        "import numpy as np\n",
        "import operator\n",
        "import os\n",
        "import pandas as pd\n",
        "\n",
        "import torch\n",
        "import torch.nn as nn\n",
        "import torch.nn.functional as F\n",
        "from torch.utils.data import TensorDataset, DataLoader\n",
        "\n",
        "from google.colab import drive\n",
        "from sklearn.metrics import accuracy_score, confusion_matrix, classification_report\n",
        "from sklearn.neighbors import base\n",
        "\n",
        "from imblearn.over_sampling import SMOTE\n",
        "\n",
        "%matplotlib inline"
      ],
      "execution_count": 1,
      "outputs": [
        {
          "output_type": "stream",
          "text": [
            "/usr/local/lib/python3.6/dist-packages/sklearn/utils/deprecation.py:144: FutureWarning: The sklearn.neighbors.base module is  deprecated in version 0.22 and will be removed in version 0.24. The corresponding classes / functions should instead be imported from sklearn.neighbors. Anything that cannot be imported from sklearn.neighbors is now part of the private API.\n",
            "  warnings.warn(message, FutureWarning)\n",
            "/usr/local/lib/python3.6/dist-packages/sklearn/externals/six.py:31: FutureWarning: The module is deprecated in version 0.21 and will be removed in version 0.23 since we've dropped support for Python 2.7. Please rely on the official version of six (https://pypi.org/project/six/).\n",
            "  \"(https://pypi.org/project/six/).\", FutureWarning)\n"
          ],
          "name": "stderr"
        }
      ]
    },
    {
      "cell_type": "code",
      "metadata": {
        "colab": {
          "base_uri": "https://localhost:8080/"
        },
        "id": "TyrO7tlKD8ic",
        "outputId": "41943baf-e1ce-481d-fd23-b1f4de6ee0f3"
      },
      "source": [
        "# Mount Google Drive\n",
        "\n",
        "ROOT = \"/content/drive\"     # default location for the drive\n",
        "print(ROOT)                 # print content of ROOT (Optional)\n",
        "\n",
        "drive.mount(ROOT)           # we mount the google drive at /content/drive"
      ],
      "execution_count": 2,
      "outputs": [
        {
          "output_type": "stream",
          "text": [
            "/content/drive\n",
            "Mounted at /content/drive\n"
          ],
          "name": "stdout"
        }
      ]
    },
    {
      "cell_type": "code",
      "metadata": {
        "id": "1HSFewHPDxYs"
      },
      "source": [
        "DATA_DIR = \"/content/drive/MyDrive/nlp-deeplearning-ai-data\"\n",
        "\n",
        "# pre-split data splits prepared in previous (01) notebook\n",
        "SPAM_TRAIN_FILE = os.path.join(DATA_DIR, \"spam_train_emb.tsv\")\n",
        "SPAM_VALID_FILE = os.path.join(DATA_DIR, \"spam_valid_emb.tsv\")\n",
        "SPAM_TEST_FILE = os.path.join(DATA_DIR, \"spam_test_emb.tsv\")\n",
        "\n",
        "# only used for TextAttack experiment\n",
        "SPAM_TA_TRAIN_FILE = os.path.join(DATA_DIR, \"spam_train_ta_emb.tsv\")\n",
        "\n",
        "# CLF_LAYER_DIMS = [512, 1024, 256, 32, 2]\n",
        "# CLF_LAYER_DIMS = [512, 1024, 128, 2]\n",
        "# CLF_LAYER_DIMS = [512, 256, 128, 2]\n",
        "# CLF_LAYER_DIMS = [512, 16, 8, 2]\n",
        "CLF_LAYER_DIMS = [512, 128, 32, 2]\n",
        "# CLF_LAYER_DIMS = [512, 1024, 64, 2]\n",
        "\n",
        "BATCH_SIZE = 128\n",
        "LEARNING_RATE = 1e-3\n",
        "NUM_EPOCHS = 10\n",
        "\n",
        "ACCURACY_STATS = []"
      ],
      "execution_count": 3,
      "outputs": []
    },
    {
      "cell_type": "code",
      "metadata": {
        "colab": {
          "base_uri": "https://localhost:8080/"
        },
        "id": "hzut3LbFttj9",
        "outputId": "b5a58106-d10e-43a7-c4d3-a9dd061821b1"
      },
      "source": [
        "spam_train_df = pd.read_csv(SPAM_TRAIN_FILE, sep='\\t').dropna().reset_index()\n",
        "spam_valid_df = pd.read_csv(SPAM_VALID_FILE, sep='\\t').dropna().reset_index()\n",
        "spam_test_df = pd.read_csv(SPAM_TEST_FILE, sep='\\t').dropna().reset_index()\n",
        "\n",
        "len(spam_train_df), len(spam_valid_df), len(spam_test_df)"
      ],
      "execution_count": 4,
      "outputs": [
        {
          "output_type": "execute_result",
          "data": {
            "text/plain": [
              "(3900, 557, 1115)"
            ]
          },
          "metadata": {
            "tags": []
          },
          "execution_count": 4
        }
      ]
    },
    {
      "cell_type": "code",
      "metadata": {
        "colab": {
          "base_uri": "https://localhost:8080/",
          "height": 204
        },
        "id": "8gIg756-M3b7",
        "outputId": "bf39984f-12bf-4e2f-c717-69ff27d0ab07"
      },
      "source": [
        "spam_train_df.head()"
      ],
      "execution_count": 5,
      "outputs": [
        {
          "output_type": "execute_result",
          "data": {
            "text/html": [
              "<div>\n",
              "<style scoped>\n",
              "    .dataframe tbody tr th:only-of-type {\n",
              "        vertical-align: middle;\n",
              "    }\n",
              "\n",
              "    .dataframe tbody tr th {\n",
              "        vertical-align: top;\n",
              "    }\n",
              "\n",
              "    .dataframe thead th {\n",
              "        text-align: right;\n",
              "    }\n",
              "</style>\n",
              "<table border=\"1\" class=\"dataframe\">\n",
              "  <thead>\n",
              "    <tr style=\"text-align: right;\">\n",
              "      <th></th>\n",
              "      <th>index</th>\n",
              "      <th>sentence</th>\n",
              "      <th>label</th>\n",
              "      <th>embedding</th>\n",
              "    </tr>\n",
              "  </thead>\n",
              "  <tbody>\n",
              "    <tr>\n",
              "      <th>0</th>\n",
              "      <td>0</td>\n",
              "      <td>Ugh I don't wanna get out of bed. It's so warm.</td>\n",
              "      <td>ham</td>\n",
              "      <td>5.3949911e-02,5.8220369e-03,-3.1541418e-02,3.3...</td>\n",
              "    </tr>\n",
              "    <tr>\n",
              "      <th>1</th>\n",
              "      <td>1</td>\n",
              "      <td>Dear i have reache room</td>\n",
              "      <td>ham</td>\n",
              "      <td>4.7420025e-02,2.3147971e-03,1.6905151e-02,-1.1...</td>\n",
              "    </tr>\n",
              "    <tr>\n",
              "      <th>2</th>\n",
              "      <td>2</td>\n",
              "      <td>I always chat with you. In fact i need money c...</td>\n",
              "      <td>ham</td>\n",
              "      <td>3.6402624e-02,-1.0346117e-01,5.0689392e-02,2.1...</td>\n",
              "    </tr>\n",
              "    <tr>\n",
              "      <th>3</th>\n",
              "      <td>3</td>\n",
              "      <td>Yes just finished watching days of our lives. ...</td>\n",
              "      <td>ham</td>\n",
              "      <td>1.6084902e-02,-1.7980557e-03,-4.4794872e-02,3....</td>\n",
              "    </tr>\n",
              "    <tr>\n",
              "      <th>4</th>\n",
              "      <td>4</td>\n",
              "      <td>Nice.nice.how is it working?</td>\n",
              "      <td>ham</td>\n",
              "      <td>-4.0968325e-02,-2.6070992e-02,-1.6136026e-02,-...</td>\n",
              "    </tr>\n",
              "  </tbody>\n",
              "</table>\n",
              "</div>"
            ],
            "text/plain": [
              "   index  ...                                          embedding\n",
              "0      0  ...  5.3949911e-02,5.8220369e-03,-3.1541418e-02,3.3...\n",
              "1      1  ...  4.7420025e-02,2.3147971e-03,1.6905151e-02,-1.1...\n",
              "2      2  ...  3.6402624e-02,-1.0346117e-01,5.0689392e-02,2.1...\n",
              "3      3  ...  1.6084902e-02,-1.7980557e-03,-4.4794872e-02,3....\n",
              "4      4  ...  -4.0968325e-02,-2.6070992e-02,-1.6136026e-02,-...\n",
              "\n",
              "[5 rows x 4 columns]"
            ]
          },
          "metadata": {
            "tags": []
          },
          "execution_count": 5
        }
      ]
    },
    {
      "cell_type": "code",
      "metadata": {
        "colab": {
          "base_uri": "https://localhost:8080/"
        },
        "id": "vYaJo6w6wHBs",
        "outputId": "acf25a47-b04f-4432-f03b-cbaa3cfe7cc5"
      },
      "source": [
        "spam_train_df[\"label\"].value_counts()"
      ],
      "execution_count": 6,
      "outputs": [
        {
          "output_type": "execute_result",
          "data": {
            "text/plain": [
              "ham     3355\n",
              "spam     545\n",
              "Name: label, dtype: int64"
            ]
          },
          "metadata": {
            "tags": []
          },
          "execution_count": 6
        }
      ]
    },
    {
      "cell_type": "code",
      "metadata": {
        "colab": {
          "base_uri": "https://localhost:8080/",
          "height": 302
        },
        "id": "L9Fg-3EVwKzW",
        "outputId": "c7817dc2-bfff-459f-d596-b21a3c3e808a"
      },
      "source": [
        "spam_train_df[\"label\"].value_counts().plot(kind=\"bar\")"
      ],
      "execution_count": 7,
      "outputs": [
        {
          "output_type": "execute_result",
          "data": {
            "text/plain": [
              "<matplotlib.axes._subplots.AxesSubplot at 0x7f7022369c50>"
            ]
          },
          "metadata": {
            "tags": []
          },
          "execution_count": 7
        },
        {
          "output_type": "display_data",
          "data": {
            "image/png": "[encoded data removed]",
            "text/plain": [
              "<Figure size 432x288 with 1 Axes>"
            ]
          },
          "metadata": {
            "tags": [],
            "needs_background": "light"
          }
        }
      ]
    },
    {
      "cell_type": "markdown",
      "metadata": {
        "id": "A-0m6b0cf0rE"
      },
      "source": [
        "## Baseline"
      ]
    },
    {
      "cell_type": "code",
      "metadata": {
        "id": "RBsPxE1bPFgQ"
      },
      "source": [
        "def create_dataset(input_df):\n",
        "  emb_vecs = []\n",
        "  for emb in input_df[\"embedding\"].values:\n",
        "    vec = np.array([float(x) for x in str(emb).split(\",\")])\n",
        "    emb_vecs.append(vec)\n",
        "  labels = [0 if label == \"ham\" else 1 for label in input_df[\"label\"].values]\n",
        "  return TensorDataset(\n",
        "      torch.tensor(np.array(emb_vecs), dtype=torch.float32),\n",
        "      torch.tensor(np.array(labels), dtype=torch.long)\n",
        "  )\n",
        "\n",
        "\n",
        "train_ds = create_dataset(spam_train_df)\n",
        "val_ds = create_dataset(spam_valid_df)\n",
        "test_ds = create_dataset(spam_test_df)"
      ],
      "execution_count": 8,
      "outputs": []
    },
    {
      "cell_type": "code",
      "metadata": {
        "id": "rSRVZ4wDXHMn"
      },
      "source": [
        "train_dl = DataLoader(train_ds, batch_size=BATCH_SIZE, shuffle=True)\n",
        "val_dl = DataLoader(val_ds, batch_size=BATCH_SIZE, shuffle=False)\n",
        "test_dl = DataLoader(test_ds, batch_size=BATCH_SIZE, shuffle=False)"
      ],
      "execution_count": 9,
      "outputs": []
    },
    {
      "cell_type": "code",
      "metadata": {
        "colab": {
          "base_uri": "https://localhost:8080/"
        },
        "id": "2G6Y-QyVD4aJ",
        "outputId": "71c9e8a7-d1f3-498e-83bc-bd24dcf32219"
      },
      "source": [
        "class SpamClassifier(nn.Module):\n",
        "  def __init__(self, dimensions):\n",
        "    super(SpamClassifier, self).__init__()\n",
        "    self.input_layer = nn.Linear(dimensions[0], dimensions[1])\n",
        "    self.hidden_layers = nn.ModuleList()\n",
        "    for i in range(1, len(dimensions) - 2):\n",
        "      hidden_layer = nn.Linear(dimensions[i], dimensions[i + 1])\n",
        "      self.hidden_layers.append(hidden_layer)\n",
        "    self.output_layer = nn.Linear(dimensions[-2], dimensions[-1])\n",
        "\n",
        "  def forward(self, x):\n",
        "    x = F.relu(self.input_layer(x))\n",
        "    for hidden_layer in self.hidden_layers:\n",
        "      x = F.relu(hidden_layer(x))\n",
        "    x = F.softmax(self.output_layer(x), dim=1)\n",
        "    return x\n",
        "\n",
        "clf = SpamClassifier(CLF_LAYER_DIMS)\n",
        "\n",
        "# self-test\n",
        "input = torch.rand(32, 512)\n",
        "output = clf(input)\n",
        "print(input.size(), output.size())"
      ],
      "execution_count": 10,
      "outputs": [
        {
          "output_type": "stream",
          "text": [
            "torch.Size([32, 512]) torch.Size([32, 2])\n"
          ],
          "name": "stdout"
        }
      ]
    },
    {
      "cell_type": "code",
      "metadata": {
        "id": "tFnLjo3varCS"
      },
      "source": [
        "dev = torch.device(\"cuda\" if torch.cuda.is_available() else \"cpu\")\n",
        "clf = clf.to(dev)"
      ],
      "execution_count": 11,
      "outputs": []
    },
    {
      "cell_type": "code",
      "metadata": {
        "id": "ARIEvAPsKt-f"
      },
      "source": [
        "loss_fn = nn.CrossEntropyLoss()\n",
        "optimizer = torch.optim.AdamW(clf.parameters(), lr=LEARNING_RATE)"
      ],
      "execution_count": 12,
      "outputs": []
    },
    {
      "cell_type": "code",
      "metadata": {
        "id": "Emo_75xMG_5w"
      },
      "source": [
        "def train(train_dl, model, loss_fn, optimizer):\n",
        "  model.train()\n",
        "  train_loss, train_acc, num_batches = 0, 0, 0\n",
        "  for data, labels in train_dl:\n",
        "    data, labels = data.to(dev), labels.to(dev)\n",
        "\n",
        "    logits = model(data)\n",
        "    loss = loss_fn(logits, labels)\n",
        "\n",
        "    train_loss += loss.item()\n",
        "    _, preds = torch.max(logits.data, dim=1)\n",
        "    train_acc += (preds == labels).sum() / labels.size()[0]\n",
        "    num_batches += 1\n",
        "\n",
        "    loss.backward()\n",
        "    optimizer.step()\n",
        "    optimizer.zero_grad()\n",
        "\n",
        "  return train_loss / num_batches, train_acc / num_batches\n",
        "\n",
        "def validate(val_dl, model, loss_fn):\n",
        "  model.eval()\n",
        "  val_loss, val_acc, num_batches = 0, 0, 0\n",
        "  for data, labels in val_dl:\n",
        "    data, labels = data.to(dev), labels.to(dev)\n",
        "    with torch.no_grad():\n",
        "      logits = model(data)\n",
        "      loss = loss_fn(logits, labels)\n",
        "\n",
        "      val_loss += loss.item()\n",
        "      _, preds = torch.max(logits.data, dim=1)\n",
        "      val_acc += (preds == labels).sum() / labels.size()[0]\n",
        "      num_batches += 1\n",
        "\n",
        "  return val_loss / num_batches, val_acc / num_batches"
      ],
      "execution_count": 13,
      "outputs": []
    },
    {
      "cell_type": "code",
      "metadata": {
        "colab": {
          "base_uri": "https://localhost:8080/"
        },
        "id": "VKKv9i0AMfVC",
        "outputId": "39fafbf9-ff4d-4644-e86f-0c4526403f02"
      },
      "source": [
        "train_losses, train_accs, val_losses, val_accs = [], [], [], []\n",
        "for epoch in range(1, NUM_EPOCHS + 1):\n",
        "  train_loss, train_acc = train(train_dl, clf, loss_fn, optimizer)\n",
        "  val_loss, val_acc = validate(val_dl, clf, loss_fn) \n",
        "  print(\"EPOCH {:2d} | train_loss: {:.3f}, acc: {:.3f} | val_loss: {:.3f}, acc: {:.3f}\"\n",
        "    .format(epoch, train_loss, train_acc, val_loss, val_acc))\n",
        "  train_losses.append(train_loss)\n",
        "  train_accs.append(train_acc)\n",
        "  val_losses.append(val_loss)\n",
        "  val_accs.append(val_acc)"
      ],
      "execution_count": 14,
      "outputs": [
        {
          "output_type": "stream",
          "text": [
            "EPOCH  1 | train_loss: 0.636, acc: 0.787 | val_loss: 0.510, acc: 0.887\n",
            "EPOCH  2 | train_loss: 0.427, acc: 0.925 | val_loss: 0.362, acc: 0.970\n",
            "EPOCH  3 | train_loss: 0.349, acc: 0.978 | val_loss: 0.338, acc: 0.978\n",
            "EPOCH  4 | train_loss: 0.333, acc: 0.985 | val_loss: 0.335, acc: 0.977\n",
            "EPOCH  5 | train_loss: 0.328, acc: 0.989 | val_loss: 0.333, acc: 0.980\n",
            "EPOCH  6 | train_loss: 0.325, acc: 0.992 | val_loss: 0.333, acc: 0.981\n",
            "EPOCH  7 | train_loss: 0.323, acc: 0.992 | val_loss: 0.333, acc: 0.980\n",
            "EPOCH  8 | train_loss: 0.322, acc: 0.993 | val_loss: 0.332, acc: 0.980\n",
            "EPOCH  9 | train_loss: 0.321, acc: 0.994 | val_loss: 0.333, acc: 0.981\n",
            "EPOCH 10 | train_loss: 0.320, acc: 0.994 | val_loss: 0.333, acc: 0.980\n"
          ],
          "name": "stdout"
        }
      ]
    },
    {
      "cell_type": "code",
      "metadata": {
        "colab": {
          "base_uri": "https://localhost:8080/",
          "height": 308
        },
        "id": "nzchdxbVYjKC",
        "outputId": "a9502ee9-749a-4b43-9747-cfb2ddf9a8db"
      },
      "source": [
        "def training_lossplots(title, train_losses, train_accs, val_losses, val_accs):\n",
        "  plt.subplot(2, 1, 1)\n",
        "  epochs = np.arange(1, NUM_EPOCHS + 1)\n",
        "  plt.plot(epochs, train_losses, label=\"train\")\n",
        "  plt.plot(epochs, val_losses, label=\"valid\")\n",
        "  plt.xlabel(\"epoch\")\n",
        "  plt.ylabel(\"loss\")\n",
        "\n",
        "  plt.subplot(2, 1, 2)\n",
        "  plt.plot(epochs, train_accs, label=\"train\")\n",
        "  plt.plot(epochs, val_accs, label=\"valid\")\n",
        "  plt.xlabel(\"epoch\")\n",
        "  plt.ylabel(\"accuracy\")\n",
        "\n",
        "  plt.suptitle(title)\n",
        "  _ = plt.show()\n",
        "\n",
        "\n",
        "training_lossplots(\"Baseline\", train_losses, train_accs, val_losses, val_accs)"
      ],
      "execution_count": 15,
      "outputs": [
        {
          "output_type": "display_data",
          "data": {
            "image/png": "[encoded data removed]",
            "text/plain": [
              "<Figure size 432x288 with 2 Axes>"
            ]
          },
          "metadata": {
            "tags": [],
            "needs_background": "light"
          }
        }
      ]
    },
    {
      "cell_type": "code",
      "metadata": {
        "id": "N9uwGr-bZa-g"
      },
      "source": [
        "def predict(test_dl, model):\n",
        "  model.eval()\n",
        "  predictions, labels = [], []\n",
        "  for data, labels_b in val_dl:\n",
        "    data, labels_b = data.to(dev), labels_b.to(dev)\n",
        "    with torch.no_grad():\n",
        "      logits = model(data)\n",
        "      _, preds = torch.max(logits.data, dim=1)\n",
        "      predictions.extend([p.item() for p in preds])\n",
        "      labels.extend([l.item() for l in labels_b])\n",
        "\n",
        "  return predictions, labels\n",
        "\n",
        "predictions, labels = predict(test_dl, clf)"
      ],
      "execution_count": 16,
      "outputs": []
    },
    {
      "cell_type": "code",
      "metadata": {
        "colab": {
          "base_uri": "https://localhost:8080/"
        },
        "id": "rMJGq8oIaNtp",
        "outputId": "feef6dd0-6170-4a78-8b8d-e4cb903196c2"
      },
      "source": [
        "accuracy = accuracy_score(predictions, labels)\n",
        "ACCURACY_STATS.append((1, \"baseline\", accuracy))\n",
        "\n",
        "print(\"accuracy: {:.3f}\".format(accuracy))\n",
        "print(\"confusion matrix\")\n",
        "print(confusion_matrix(predictions, labels))"
      ],
      "execution_count": 17,
      "outputs": [
        {
          "output_type": "stream",
          "text": [
            "accuracy: 0.977\n",
            "confusion matrix\n",
            "[[482   7]\n",
            " [  6  62]]\n"
          ],
          "name": "stdout"
        }
      ]
    },
    {
      "cell_type": "markdown",
      "metadata": {
        "id": "ExvOLSvWlzx_"
      },
      "source": [
        "## Class Weights"
      ]
    },
    {
      "cell_type": "code",
      "metadata": {
        "colab": {
          "base_uri": "https://localhost:8080/"
        },
        "id": "ENaqpYNlmPXe",
        "outputId": "aa51d6b4-0695-4b96-8bd3-2cb3f4eddebc"
      },
      "source": [
        "num_major = len(spam_train_df[spam_train_df[\"label\"] == \"ham\"])\n",
        "num_minor = len(spam_train_df[spam_train_df[\"label\"] == \"spam\"])\n",
        "\n",
        "weight_major = 1 / num_major\n",
        "weight_minor = 1 / num_minor\n",
        "total_weight = weight_major + weight_minor\n",
        "class_weights = torch.tensor([weight_major / total_weight, weight_minor / total_weight])\n",
        "class_weights = class_weights.to(dev)\n",
        "\n",
        "class_weights"
      ],
      "execution_count": 18,
      "outputs": [
        {
          "output_type": "execute_result",
          "data": {
            "text/plain": [
              "tensor([0.1397, 0.8603], device='cuda:0')"
            ]
          },
          "metadata": {
            "tags": []
          },
          "execution_count": 18
        }
      ]
    },
    {
      "cell_type": "code",
      "metadata": {
        "id": "olXM9d-Tl16w"
      },
      "source": [
        "clf = SpamClassifier(CLF_LAYER_DIMS)\n",
        "clf = clf.to(dev)\n",
        "\n",
        "loss_fn = nn.CrossEntropyLoss(weight=class_weights)\n",
        "optimizer = torch.optim.AdamW(clf.parameters(), lr=LEARNING_RATE)"
      ],
      "execution_count": 19,
      "outputs": []
    },
    {
      "cell_type": "code",
      "metadata": {
        "colab": {
          "base_uri": "https://localhost:8080/"
        },
        "id": "cWpN9OSgnBC6",
        "outputId": "a9bb094b-188d-4f47-ac2e-09904de621a4"
      },
      "source": [
        "train_losses, train_accs, val_losses, val_accs = [], [], [], []\n",
        "for epoch in range(1, NUM_EPOCHS + 1):\n",
        "  train_loss, train_acc = train(train_dl, clf, loss_fn, optimizer)\n",
        "  val_loss, val_acc = validate(val_dl, clf, loss_fn) \n",
        "  print(\"EPOCH {:2d} | train_loss: {:.3f}, acc: {:.3f} | val_loss: {:.3f}, acc: {:.3f}\"\n",
        "    .format(epoch, train_loss, train_acc, val_loss, val_acc))\n",
        "  train_losses.append(train_loss)\n",
        "  train_accs.append(train_acc)\n",
        "  val_losses.append(val_loss)\n",
        "  val_accs.append(val_acc)"
      ],
      "execution_count": 20,
      "outputs": [
        {
          "output_type": "stream",
          "text": [
            "EPOCH  1 | train_loss: 0.639, acc: 0.952 | val_loss: 0.528, acc: 0.975\n",
            "EPOCH  2 | train_loss: 0.426, acc: 0.971 | val_loss: 0.355, acc: 0.975\n",
            "EPOCH  3 | train_loss: 0.352, acc: 0.975 | val_loss: 0.339, acc: 0.975\n",
            "EPOCH  4 | train_loss: 0.341, acc: 0.984 | val_loss: 0.336, acc: 0.977\n",
            "EPOCH  5 | train_loss: 0.337, acc: 0.983 | val_loss: 0.337, acc: 0.981\n",
            "EPOCH  6 | train_loss: 0.334, acc: 0.988 | val_loss: 0.337, acc: 0.983\n",
            "EPOCH  7 | train_loss: 0.330, acc: 0.989 | val_loss: 0.338, acc: 0.983\n",
            "EPOCH  8 | train_loss: 0.328, acc: 0.991 | val_loss: 0.339, acc: 0.981\n",
            "EPOCH  9 | train_loss: 0.327, acc: 0.993 | val_loss: 0.339, acc: 0.983\n",
            "EPOCH 10 | train_loss: 0.327, acc: 0.992 | val_loss: 0.340, acc: 0.980\n"
          ],
          "name": "stdout"
        }
      ]
    },
    {
      "cell_type": "code",
      "metadata": {
        "colab": {
          "base_uri": "https://localhost:8080/",
          "height": 308
        },
        "id": "60MWswl4nOHi",
        "outputId": "c47d59d6-3d9f-45f5-d569-93078f93684b"
      },
      "source": [
        "training_lossplots(\"Class Weights\", train_losses, train_accs, val_losses, val_accs)"
      ],
      "execution_count": 21,
      "outputs": [
        {
          "output_type": "display_data",
          "data": {
            "image/png": "[encoded data removed]",
            "text/plain": [
              "<Figure size 432x288 with 2 Axes>"
            ]
          },
          "metadata": {
            "tags": [],
            "needs_background": "light"
          }
        }
      ]
    },
    {
      "cell_type": "code",
      "metadata": {
        "colab": {
          "base_uri": "https://localhost:8080/"
        },
        "id": "PXAgHyHInSiK",
        "outputId": "75b3a28b-38f2-4087-9d9c-eeebaf94b0f6"
      },
      "source": [
        "predictions, labels = predict(test_dl, clf)\n",
        "\n",
        "accuracy = accuracy_score(predictions, labels)\n",
        "ACCURACY_STATS.append((2, \"class_weights\", accuracy))\n",
        "\n",
        "print(\"accuracy: {:.3f}\".format(accuracy))\n",
        "print(\"confusion matrix\")\n",
        "print(confusion_matrix(predictions, labels))"
      ],
      "execution_count": 22,
      "outputs": [
        {
          "output_type": "stream",
          "text": [
            "accuracy: 0.977\n",
            "confusion matrix\n",
            "[[479   4]\n",
            " [  9  65]]\n"
          ],
          "name": "stdout"
        }
      ]
    },
    {
      "cell_type": "markdown",
      "metadata": {
        "id": "EmQuCG9ifjS7"
      },
      "source": [
        "## Undersampling Majority Class\n",
        "\n",
        "Sampling (especially oversampling) must be restricted to the training split to protect against data leakage."
      ]
    },
    {
      "cell_type": "code",
      "metadata": {
        "colab": {
          "base_uri": "https://localhost:8080/"
        },
        "id": "-QwB41jTaUxg",
        "outputId": "c7413b18-6c7b-4bd4-9890-02c1458d159b"
      },
      "source": [
        "minor_df = spam_train_df[spam_train_df[\"label\"] == \"spam\"]\n",
        "num_minor = len(minor_df)\n",
        "num_major = len(spam_train_df) - num_minor\n",
        "\n",
        "sample_major_df = (\n",
        "  spam_train_df[spam_train_df[\"label\"] == \"ham\"]\n",
        "  .sample(num_minor, replace=False, axis=0)\n",
        ")\n",
        "\n",
        "under_df = pd.concat([minor_df, sample_major_df], axis=0)\n",
        "len(under_df)"
      ],
      "execution_count": 23,
      "outputs": [
        {
          "output_type": "execute_result",
          "data": {
            "text/plain": [
              "1090"
            ]
          },
          "metadata": {
            "tags": []
          },
          "execution_count": 23
        }
      ]
    },
    {
      "cell_type": "code",
      "metadata": {
        "colab": {
          "base_uri": "https://localhost:8080/"
        },
        "id": "afvjYxEJhocp",
        "outputId": "2aa59bbc-ecea-4183-a74d-5965f70e5e80"
      },
      "source": [
        "under_df[\"label\"].value_counts()"
      ],
      "execution_count": 24,
      "outputs": [
        {
          "output_type": "execute_result",
          "data": {
            "text/plain": [
              "spam    545\n",
              "ham     545\n",
              "Name: label, dtype: int64"
            ]
          },
          "metadata": {
            "tags": []
          },
          "execution_count": 24
        }
      ]
    },
    {
      "cell_type": "code",
      "metadata": {
        "colab": {
          "base_uri": "https://localhost:8080/",
          "height": 300
        },
        "id": "rBUrosI5h0vz",
        "outputId": "add4a1c4-19da-4c7b-e438-62508cc5b48c"
      },
      "source": [
        "under_df[\"label\"].value_counts().plot(kind=\"bar\")"
      ],
      "execution_count": 25,
      "outputs": [
        {
          "output_type": "execute_result",
          "data": {
            "text/plain": [
              "<matplotlib.axes._subplots.AxesSubplot at 0x7f7018e69588>"
            ]
          },
          "metadata": {
            "tags": []
          },
          "execution_count": 25
        },
        {
          "output_type": "display_data",
          "data": {
            "image/png": "[encoded data removed]",
            "text/plain": [
              "<Figure size 432x288 with 1 Axes>"
            ]
          },
          "metadata": {
            "tags": [],
            "needs_background": "light"
          }
        }
      ]
    },
    {
      "cell_type": "code",
      "metadata": {
        "id": "ZcD2DB8hiHiY"
      },
      "source": [
        "train_ds = create_dataset(under_df)\n",
        "\n",
        "train_dl = DataLoader(train_ds, batch_size=BATCH_SIZE, shuffle=True)\n",
        "val_dl = DataLoader(val_ds, batch_size=BATCH_SIZE, shuffle=False)\n",
        "test_dl = DataLoader(test_ds, batch_size=BATCH_SIZE, shuffle=False)"
      ],
      "execution_count": 26,
      "outputs": []
    },
    {
      "cell_type": "code",
      "metadata": {
        "id": "4DxgPiIUj58L"
      },
      "source": [
        "clf = SpamClassifier(CLF_LAYER_DIMS)\n",
        "clf = clf.to(dev)\n",
        "\n",
        "loss_fn = nn.CrossEntropyLoss()\n",
        "optimizer = torch.optim.AdamW(clf.parameters(), lr=LEARNING_RATE)"
      ],
      "execution_count": 27,
      "outputs": []
    },
    {
      "cell_type": "code",
      "metadata": {
        "colab": {
          "base_uri": "https://localhost:8080/"
        },
        "id": "TkFSeHH-ju5J",
        "outputId": "b5eb44ac-bfdc-4659-978b-f6dbb38f0740"
      },
      "source": [
        "train_losses, train_accs, val_losses, val_accs = [], [], [], []\n",
        "for epoch in range(1, NUM_EPOCHS + 1):\n",
        "  train_loss, train_acc = train(train_dl, clf, loss_fn, optimizer)\n",
        "  val_loss, val_acc = validate(val_dl, clf, loss_fn) \n",
        "  print(\"EPOCH {:2d} | train_loss: {:.3f}, acc: {:.3f} | val_loss: {:.3f}, acc: {:.3f}\"\n",
        "    .format(epoch, train_loss, train_acc, val_loss, val_acc))\n",
        "  train_losses.append(train_loss)\n",
        "  train_accs.append(train_acc)\n",
        "  val_losses.append(val_loss)\n",
        "  val_accs.append(val_acc)"
      ],
      "execution_count": 28,
      "outputs": [
        {
          "output_type": "stream",
          "text": [
            "EPOCH  1 | train_loss: 0.688, acc: 0.495 | val_loss: 0.705, acc: 0.116\n",
            "EPOCH  2 | train_loss: 0.661, acc: 0.666 | val_loss: 0.671, acc: 0.827\n",
            "EPOCH  3 | train_loss: 0.610, acc: 0.937 | val_loss: 0.613, acc: 0.930\n",
            "EPOCH  4 | train_loss: 0.529, acc: 0.955 | val_loss: 0.528, acc: 0.952\n",
            "EPOCH  5 | train_loss: 0.449, acc: 0.964 | val_loss: 0.440, acc: 0.972\n",
            "EPOCH  6 | train_loss: 0.393, acc: 0.965 | val_loss: 0.385, acc: 0.977\n",
            "EPOCH  7 | train_loss: 0.365, acc: 0.971 | val_loss: 0.362, acc: 0.981\n",
            "EPOCH  8 | train_loss: 0.352, acc: 0.975 | val_loss: 0.351, acc: 0.983\n",
            "EPOCH  9 | train_loss: 0.347, acc: 0.973 | val_loss: 0.347, acc: 0.983\n",
            "EPOCH 10 | train_loss: 0.343, acc: 0.977 | val_loss: 0.346, acc: 0.981\n"
          ],
          "name": "stdout"
        }
      ]
    },
    {
      "cell_type": "code",
      "metadata": {
        "colab": {
          "base_uri": "https://localhost:8080/",
          "height": 308
        },
        "id": "CH7nXpFykVX0",
        "outputId": "a9445162-62cf-492e-a524-f360e5ce5a91"
      },
      "source": [
        "training_lossplots(\"Undersampling\", train_losses, train_accs, val_losses, val_accs)"
      ],
      "execution_count": 29,
      "outputs": [
        {
          "output_type": "display_data",
          "data": {
            "image/png": "[encoded data removed]",
            "text/plain": [
              "<Figure size 432x288 with 2 Axes>"
            ]
          },
          "metadata": {
            "tags": [],
            "needs_background": "light"
          }
        }
      ]
    },
    {
      "cell_type": "code",
      "metadata": {
        "colab": {
          "base_uri": "https://localhost:8080/"
        },
        "id": "etD-Ncl7kEYd",
        "outputId": "d04089c9-0908-40cb-b507-96974690023e"
      },
      "source": [
        "predictions, labels = predict(test_dl, clf)\n",
        "\n",
        "accuracy = accuracy_score(predictions, labels)\n",
        "ACCURACY_STATS.append((3, \"under_sampling\", accuracy))\n",
        "\n",
        "print(\"accuracy: {:.3f}\".format(accuracy))\n",
        "print(\"confusion matrix\")\n",
        "print(confusion_matrix(predictions, labels))"
      ],
      "execution_count": 30,
      "outputs": [
        {
          "output_type": "stream",
          "text": [
            "accuracy: 0.978\n",
            "confusion matrix\n",
            "[[477   1]\n",
            " [ 11  68]]\n"
          ],
          "name": "stdout"
        }
      ]
    },
    {
      "cell_type": "markdown",
      "metadata": {
        "id": "BWfqS5Mjkht9"
      },
      "source": [
        "## Oversampling Minority Class"
      ]
    },
    {
      "cell_type": "code",
      "metadata": {
        "colab": {
          "base_uri": "https://localhost:8080/"
        },
        "id": "D1My4SG9kdHK",
        "outputId": "01a8dbb7-cc05-4061-869a-2fa4cce23681"
      },
      "source": [
        "major_df = spam_train_df[spam_train_df[\"label\"] == \"ham\"]\n",
        "num_major = len(major_df)\n",
        "num_minor = len(spam_train_df) - num_major\n",
        "\n",
        "sample_minor_df = spam_train_df[spam_train_df[\"label\"] == \"spam\"].sample(\n",
        "    num_major, replace=True, axis=0)\n",
        "\n",
        "over_df = pd.concat([major_df, sample_minor_df], axis=0)\n",
        "len(over_df)"
      ],
      "execution_count": 31,
      "outputs": [
        {
          "output_type": "execute_result",
          "data": {
            "text/plain": [
              "6710"
            ]
          },
          "metadata": {
            "tags": []
          },
          "execution_count": 31
        }
      ]
    },
    {
      "cell_type": "code",
      "metadata": {
        "colab": {
          "base_uri": "https://localhost:8080/"
        },
        "id": "RZ25RX3Gk8bi",
        "outputId": "71c2d982-a8eb-47d4-86bb-68c0f8f530f0"
      },
      "source": [
        "over_df[\"label\"].value_counts()"
      ],
      "execution_count": 32,
      "outputs": [
        {
          "output_type": "execute_result",
          "data": {
            "text/plain": [
              "spam    3355\n",
              "ham     3355\n",
              "Name: label, dtype: int64"
            ]
          },
          "metadata": {
            "tags": []
          },
          "execution_count": 32
        }
      ]
    },
    {
      "cell_type": "code",
      "metadata": {
        "colab": {
          "base_uri": "https://localhost:8080/",
          "height": 302
        },
        "id": "SvDjFYSQlDgo",
        "outputId": "fe532fef-85bf-49d5-dc0d-6370bed3951c"
      },
      "source": [
        "over_df[\"label\"].value_counts().plot(kind=\"bar\")"
      ],
      "execution_count": 33,
      "outputs": [
        {
          "output_type": "execute_result",
          "data": {
            "text/plain": [
              "<matplotlib.axes._subplots.AxesSubplot at 0x7f7018dd3d68>"
            ]
          },
          "metadata": {
            "tags": []
          },
          "execution_count": 33
        },
        {
          "output_type": "display_data",
          "data": {
            "image/png": "[encoded data removed]",
            "text/plain": [
              "<Figure size 432x288 with 1 Axes>"
            ]
          },
          "metadata": {
            "tags": [],
            "needs_background": "light"
          }
        }
      ]
    },
    {
      "cell_type": "code",
      "metadata": {
        "id": "DXwG4OQolGv5"
      },
      "source": [
        "train_ds = create_dataset(over_df)\n",
        "\n",
        "train_dl = DataLoader(train_ds, batch_size=BATCH_SIZE, shuffle=True)\n",
        "val_dl = DataLoader(val_ds, batch_size=BATCH_SIZE, shuffle=False)\n",
        "test_dl = DataLoader(test_ds, batch_size=BATCH_SIZE, shuffle=False)"
      ],
      "execution_count": 34,
      "outputs": []
    },
    {
      "cell_type": "code",
      "metadata": {
        "id": "06qrjKeylOQw"
      },
      "source": [
        "clf = SpamClassifier(CLF_LAYER_DIMS)\n",
        "clf = clf.to(dev)\n",
        "\n",
        "loss_fn = nn.CrossEntropyLoss()\n",
        "optimizer = torch.optim.AdamW(clf.parameters(), lr=LEARNING_RATE)"
      ],
      "execution_count": 35,
      "outputs": []
    },
    {
      "cell_type": "code",
      "metadata": {
        "colab": {
          "base_uri": "https://localhost:8080/"
        },
        "id": "u2gYBcbClTro",
        "outputId": "b1f50a20-23ee-407c-f600-bad17e818d47"
      },
      "source": [
        "train_losses, train_accs, val_losses, val_accs = [], [], [], []\n",
        "for epoch in range(1, NUM_EPOCHS + 1):\n",
        "  train_loss, train_acc = train(train_dl, clf, loss_fn, optimizer)\n",
        "  val_loss, val_acc = validate(val_dl, clf, loss_fn) \n",
        "  print(\"EPOCH {:2d} | train_loss: {:.3f}, acc: {:.3f} | val_loss: {:.3f}, acc: {:.3f}\"\n",
        "    .format(epoch, train_loss, train_acc, val_loss, val_acc))\n",
        "  train_losses.append(train_loss)\n",
        "  train_accs.append(train_acc)\n",
        "  val_losses.append(val_loss)\n",
        "  val_accs.append(val_acc)"
      ],
      "execution_count": 36,
      "outputs": [
        {
          "output_type": "stream",
          "text": [
            "EPOCH  1 | train_loss: 0.561, acc: 0.927 | val_loss: 0.411, acc: 0.972\n",
            "EPOCH  2 | train_loss: 0.357, acc: 0.971 | val_loss: 0.343, acc: 0.977\n",
            "EPOCH  3 | train_loss: 0.337, acc: 0.981 | val_loss: 0.333, acc: 0.981\n",
            "EPOCH  4 | train_loss: 0.330, acc: 0.986 | val_loss: 0.332, acc: 0.983\n",
            "EPOCH  5 | train_loss: 0.328, acc: 0.988 | val_loss: 0.332, acc: 0.981\n",
            "EPOCH  6 | train_loss: 0.326, acc: 0.989 | val_loss: 0.332, acc: 0.980\n",
            "EPOCH  7 | train_loss: 0.325, acc: 0.989 | val_loss: 0.332, acc: 0.980\n",
            "EPOCH  8 | train_loss: 0.325, acc: 0.989 | val_loss: 0.333, acc: 0.978\n",
            "EPOCH  9 | train_loss: 0.324, acc: 0.989 | val_loss: 0.332, acc: 0.978\n",
            "EPOCH 10 | train_loss: 0.324, acc: 0.989 | val_loss: 0.332, acc: 0.980\n"
          ],
          "name": "stdout"
        }
      ]
    },
    {
      "cell_type": "code",
      "metadata": {
        "colab": {
          "base_uri": "https://localhost:8080/",
          "height": 308
        },
        "id": "hJ3ByNQxlaIj",
        "outputId": "a6f8b1a4-2395-41d9-fe94-bcdbf4afbbc3"
      },
      "source": [
        "training_lossplots(\"Oversampling\", train_losses, train_accs, val_losses, val_accs)"
      ],
      "execution_count": 37,
      "outputs": [
        {
          "output_type": "display_data",
          "data": {
            "image/png": "[encoded data removed]",
            "text/plain": [
              "<Figure size 432x288 with 2 Axes>"
            ]
          },
          "metadata": {
            "tags": [],
            "needs_background": "light"
          }
        }
      ]
    },
    {
      "cell_type": "code",
      "metadata": {
        "colab": {
          "base_uri": "https://localhost:8080/"
        },
        "id": "1Jj5FBbClgM1",
        "outputId": "c50e36ce-39ac-44fc-af67-6a277934ea85"
      },
      "source": [
        "predictions, labels = predict(test_dl, clf)\n",
        "\n",
        "accuracy = accuracy_score(predictions, labels)\n",
        "ACCURACY_STATS.append((4, \"over_sampling\", accuracy))\n",
        "\n",
        "print(\"accuracy: {:.3f}\".format(accuracy))\n",
        "print(\"confusion matrix\")\n",
        "print(confusion_matrix(predictions, labels))"
      ],
      "execution_count": 38,
      "outputs": [
        {
          "output_type": "stream",
          "text": [
            "accuracy: 0.977\n",
            "confusion matrix\n",
            "[[480   5]\n",
            " [  8  64]]\n"
          ],
          "name": "stdout"
        }
      ]
    },
    {
      "cell_type": "markdown",
      "metadata": {
        "id": "II5RFfa6lwXF"
      },
      "source": [
        "## SMOTE Oversampling"
      ]
    },
    {
      "cell_type": "code",
      "metadata": {
        "id": "gih6TY-esZgB",
        "colab": {
          "base_uri": "https://localhost:8080/"
        },
        "outputId": "1540a848-12a4-4410-f676-903b2cf79eca"
      },
      "source": [
        "def create_xy_from_dataframe(input_df):\n",
        "  emb_vecs = []\n",
        "  for emb in input_df[\"embedding\"].values:\n",
        "    vec = np.array([float(x) for x in str(emb).split(\",\")])\n",
        "    emb_vecs.append(vec)\n",
        "  labels = [0 if label == \"ham\" else 1 for label in input_df[\"label\"].values]\n",
        "  return np.array(emb_vecs), np.array(labels)\n",
        "\n",
        "\n",
        "def create_dataset_from_xy(xs, ys):\n",
        "  return TensorDataset(\n",
        "      torch.tensor(xs, dtype=torch.float32),\n",
        "      torch.tensor(ys, dtype=torch.long)\n",
        "  )\n",
        "\n",
        "\n",
        "train_x, train_y = create_xy_from_dataframe(spam_train_df)\n",
        "oversampler = SMOTE()\n",
        "train_x, train_y = oversampler.fit_resample(train_x, train_y)\n",
        "uniq, counts = np.unique(train_y, return_counts=True)\n",
        "counts"
      ],
      "execution_count": 39,
      "outputs": [
        {
          "output_type": "stream",
          "text": [
            "/usr/local/lib/python3.6/dist-packages/sklearn/utils/deprecation.py:87: FutureWarning: Function safe_indexing is deprecated; safe_indexing is deprecated in version 0.22 and will be removed in version 0.24.\n",
            "  warnings.warn(msg, category=FutureWarning)\n"
          ],
          "name": "stderr"
        },
        {
          "output_type": "execute_result",
          "data": {
            "text/plain": [
              "array([3355, 3355])"
            ]
          },
          "metadata": {
            "tags": []
          },
          "execution_count": 39
        }
      ]
    },
    {
      "cell_type": "code",
      "metadata": {
        "id": "Db0VO9GluBN7"
      },
      "source": [
        "train_ds = create_dataset_from_xy(train_x, train_y)\n",
        "\n",
        "train_dl = DataLoader(train_ds, batch_size=BATCH_SIZE, shuffle=True)\n",
        "val_dl = DataLoader(val_ds, batch_size=BATCH_SIZE, shuffle=False)\n",
        "test_dl = DataLoader(test_ds, batch_size=BATCH_SIZE, shuffle=False)"
      ],
      "execution_count": 40,
      "outputs": []
    },
    {
      "cell_type": "code",
      "metadata": {
        "id": "S8ivghknu2Gx"
      },
      "source": [
        "clf = SpamClassifier(CLF_LAYER_DIMS)\n",
        "clf = clf.to(dev)\n",
        "\n",
        "loss_fn = nn.CrossEntropyLoss()\n",
        "optimizer = torch.optim.AdamW(clf.parameters(), lr=LEARNING_RATE)"
      ],
      "execution_count": 41,
      "outputs": []
    },
    {
      "cell_type": "code",
      "metadata": {
        "colab": {
          "base_uri": "https://localhost:8080/"
        },
        "id": "-0hQsr_wu6M_",
        "outputId": "822672bd-f083-424e-e284-a2a3a0f01bd9"
      },
      "source": [
        "train_losses, train_accs, val_losses, val_accs = [], [], [], []\n",
        "for epoch in range(1, NUM_EPOCHS + 1):\n",
        "  train_loss, train_acc = train(train_dl, clf, loss_fn, optimizer)\n",
        "  val_loss, val_acc = validate(val_dl, clf, loss_fn) \n",
        "  print(\"EPOCH {:2d} | train_loss: {:.3f}, acc: {:.3f} | val_loss: {:.3f}, acc: {:.3f}\"\n",
        "    .format(epoch, train_loss, train_acc, val_loss, val_acc))\n",
        "  train_losses.append(train_loss)\n",
        "  train_accs.append(train_acc)\n",
        "  val_losses.append(val_loss)\n",
        "  val_accs.append(val_acc)"
      ],
      "execution_count": 42,
      "outputs": [
        {
          "output_type": "stream",
          "text": [
            "EPOCH  1 | train_loss: 0.553, acc: 0.887 | val_loss: 0.371, acc: 0.977\n",
            "EPOCH  2 | train_loss: 0.343, acc: 0.979 | val_loss: 0.336, acc: 0.981\n",
            "EPOCH  3 | train_loss: 0.330, acc: 0.986 | val_loss: 0.333, acc: 0.981\n",
            "EPOCH  4 | train_loss: 0.326, acc: 0.990 | val_loss: 0.333, acc: 0.981\n",
            "EPOCH  5 | train_loss: 0.323, acc: 0.991 | val_loss: 0.333, acc: 0.981\n",
            "EPOCH  6 | train_loss: 0.321, acc: 0.994 | val_loss: 0.333, acc: 0.981\n",
            "EPOCH  7 | train_loss: 0.320, acc: 0.995 | val_loss: 0.332, acc: 0.981\n",
            "EPOCH  8 | train_loss: 0.319, acc: 0.995 | val_loss: 0.333, acc: 0.981\n",
            "EPOCH  9 | train_loss: 0.318, acc: 0.996 | val_loss: 0.334, acc: 0.981\n",
            "EPOCH 10 | train_loss: 0.318, acc: 0.996 | val_loss: 0.332, acc: 0.981\n"
          ],
          "name": "stdout"
        }
      ]
    },
    {
      "cell_type": "code",
      "metadata": {
        "colab": {
          "base_uri": "https://localhost:8080/",
          "height": 308
        },
        "id": "g64560awu9qG",
        "outputId": "318b108b-e227-42ec-dba1-0905249b11d2"
      },
      "source": [
        "training_lossplots(\"SMOTE\", train_losses, train_accs, val_losses, val_accs)"
      ],
      "execution_count": 43,
      "outputs": [
        {
          "output_type": "display_data",
          "data": {
            "image/png": "[encoded data removed]",
            "text/plain": [
              "<Figure size 432x288 with 2 Axes>"
            ]
          },
          "metadata": {
            "tags": [],
            "needs_background": "light"
          }
        }
      ]
    },
    {
      "cell_type": "code",
      "metadata": {
        "colab": {
          "base_uri": "https://localhost:8080/"
        },
        "id": "hVwhL433vCVt",
        "outputId": "504d06e2-3b5a-4343-bad7-fb5f0f03ba1a"
      },
      "source": [
        "predictions, labels = predict(test_dl, clf)\n",
        "\n",
        "accuracy = accuracy_score(predictions, labels)\n",
        "ACCURACY_STATS.append((5, \"SMOTE\", accuracy))\n",
        "\n",
        "print(\"accuracy: {:.3f}\".format(accuracy))\n",
        "print(\"confusion matrix\")\n",
        "print(confusion_matrix(predictions, labels))"
      ],
      "execution_count": 44,
      "outputs": [
        {
          "output_type": "stream",
          "text": [
            "accuracy: 0.978\n",
            "confusion matrix\n",
            "[[481   5]\n",
            " [  7  64]]\n"
          ],
          "name": "stdout"
        }
      ]
    },
    {
      "cell_type": "markdown",
      "metadata": {
        "id": "fwT1UzBFvN-C"
      },
      "source": [
        "## Text Attack Augmentation"
      ]
    },
    {
      "cell_type": "code",
      "metadata": {
        "id": "A81i28NbvGB9",
        "colab": {
          "base_uri": "https://localhost:8080/",
          "height": 204
        },
        "outputId": "72733a7f-edf9-42d9-9275-f5da8ca7f214"
      },
      "source": [
        "spam_train_df = pd.read_csv(SPAM_TA_TRAIN_FILE, sep='\\t')\n",
        "spam_train_df.head()"
      ],
      "execution_count": 45,
      "outputs": [
        {
          "output_type": "execute_result",
          "data": {
            "text/html": [
              "<div>\n",
              "<style scoped>\n",
              "    .dataframe tbody tr th:only-of-type {\n",
              "        vertical-align: middle;\n",
              "    }\n",
              "\n",
              "    .dataframe tbody tr th {\n",
              "        vertical-align: top;\n",
              "    }\n",
              "\n",
              "    .dataframe thead th {\n",
              "        text-align: right;\n",
              "    }\n",
              "</style>\n",
              "<table border=\"1\" class=\"dataframe\">\n",
              "  <thead>\n",
              "    <tr style=\"text-align: right;\">\n",
              "      <th></th>\n",
              "      <th>sentence</th>\n",
              "      <th>label</th>\n",
              "      <th>embedding</th>\n",
              "    </tr>\n",
              "  </thead>\n",
              "  <tbody>\n",
              "    <tr>\n",
              "      <th>0</th>\n",
              "      <td>Ugh I don't wanna get out of bed. It's so warm.</td>\n",
              "      <td>ham</td>\n",
              "      <td>5.3949911e-02,5.8220369e-03,-3.1541418e-02,3.3...</td>\n",
              "    </tr>\n",
              "    <tr>\n",
              "      <th>1</th>\n",
              "      <td>Dear i have reache room</td>\n",
              "      <td>ham</td>\n",
              "      <td>4.7420025e-02,2.3147971e-03,1.6905151e-02,-1.1...</td>\n",
              "    </tr>\n",
              "    <tr>\n",
              "      <th>2</th>\n",
              "      <td>I always chat with you. In fact i need money c...</td>\n",
              "      <td>ham</td>\n",
              "      <td>3.6402624e-02,-1.0346117e-01,5.0689392e-02,2.1...</td>\n",
              "    </tr>\n",
              "    <tr>\n",
              "      <th>3</th>\n",
              "      <td>Yes just finished watching days of our lives. ...</td>\n",
              "      <td>ham</td>\n",
              "      <td>1.6084902e-02,-1.7980557e-03,-4.4794872e-02,3....</td>\n",
              "    </tr>\n",
              "    <tr>\n",
              "      <th>4</th>\n",
              "      <td>Nice.nice.how is it working?</td>\n",
              "      <td>ham</td>\n",
              "      <td>-4.0968325e-02,-2.6070992e-02,-1.6136026e-02,-...</td>\n",
              "    </tr>\n",
              "  </tbody>\n",
              "</table>\n",
              "</div>"
            ],
            "text/plain": [
              "                                            sentence  ...                                          embedding\n",
              "0    Ugh I don't wanna get out of bed. It's so warm.  ...  5.3949911e-02,5.8220369e-03,-3.1541418e-02,3.3...\n",
              "1                            Dear i have reache room  ...  4.7420025e-02,2.3147971e-03,1.6905151e-02,-1.1...\n",
              "2  I always chat with you. In fact i need money c...  ...  3.6402624e-02,-1.0346117e-01,5.0689392e-02,2.1...\n",
              "3  Yes just finished watching days of our lives. ...  ...  1.6084902e-02,-1.7980557e-03,-4.4794872e-02,3....\n",
              "4                       Nice.nice.how is it working?  ...  -4.0968325e-02,-2.6070992e-02,-1.6136026e-02,-...\n",
              "\n",
              "[5 rows x 3 columns]"
            ]
          },
          "metadata": {
            "tags": []
          },
          "execution_count": 45
        }
      ]
    },
    {
      "cell_type": "code",
      "metadata": {
        "id": "zkhh7a0o4qyD",
        "colab": {
          "base_uri": "https://localhost:8080/"
        },
        "outputId": "70029653-7603-4a75-edd5-4077b4a6ca14"
      },
      "source": [
        "spam_train_df[\"label\"].value_counts()"
      ],
      "execution_count": 46,
      "outputs": [
        {
          "output_type": "execute_result",
          "data": {
            "text/plain": [
              "ham     3355\n",
              "spam    2712\n",
              "Name: label, dtype: int64"
            ]
          },
          "metadata": {
            "tags": []
          },
          "execution_count": 46
        }
      ]
    },
    {
      "cell_type": "code",
      "metadata": {
        "id": "zVC_xZK14ur4",
        "colab": {
          "base_uri": "https://localhost:8080/",
          "height": 302
        },
        "outputId": "dbba4c74-e661-4888-cb04-785cf26f30c4"
      },
      "source": [
        "spam_train_df[\"label\"].value_counts().plot(kind=\"bar\")"
      ],
      "execution_count": 47,
      "outputs": [
        {
          "output_type": "execute_result",
          "data": {
            "text/plain": [
              "<matplotlib.axes._subplots.AxesSubplot at 0x7f7018bcaf60>"
            ]
          },
          "metadata": {
            "tags": []
          },
          "execution_count": 47
        },
        {
          "output_type": "display_data",
          "data": {
            "image/png": "[encoded data removed]",
            "text/plain": [
              "<Figure size 432x288 with 1 Axes>"
            ]
          },
          "metadata": {
            "tags": [],
            "needs_background": "light"
          }
        }
      ]
    },
    {
      "cell_type": "code",
      "metadata": {
        "id": "KDqS2TkC4zT3"
      },
      "source": [
        "train_ds = create_dataset(spam_train_df)\n",
        "\n",
        "train_dl = DataLoader(train_ds, batch_size=BATCH_SIZE, shuffle=True)\n",
        "val_dl = DataLoader(val_ds, batch_size=BATCH_SIZE, shuffle=False)\n",
        "test_dl = DataLoader(test_ds, batch_size=BATCH_SIZE, shuffle=False)"
      ],
      "execution_count": 48,
      "outputs": []
    },
    {
      "cell_type": "code",
      "metadata": {
        "id": "pF8XDxhG4_IV"
      },
      "source": [
        "clf = SpamClassifier(CLF_LAYER_DIMS)\n",
        "clf = clf.to(dev)\n",
        "\n",
        "loss_fn = nn.CrossEntropyLoss()\n",
        "optimizer = torch.optim.AdamW(clf.parameters(), lr=LEARNING_RATE)"
      ],
      "execution_count": 49,
      "outputs": []
    },
    {
      "cell_type": "code",
      "metadata": {
        "id": "hI72tUFE5EFs",
        "colab": {
          "base_uri": "https://localhost:8080/"
        },
        "outputId": "211245b5-a21a-4be7-8944-633b47b99b8d"
      },
      "source": [
        "train_losses, train_accs, val_losses, val_accs = [], [], [], []\n",
        "for epoch in range(1, NUM_EPOCHS + 1):\n",
        "  train_loss, train_acc = train(train_dl, clf, loss_fn, optimizer)\n",
        "  val_loss, val_acc = validate(val_dl, clf, loss_fn) \n",
        "  print(\"EPOCH {:2d} | train_loss: {:.3f}, acc: {:.3f} | val_loss: {:.3f}, acc: {:.3f}\"\n",
        "    .format(epoch, train_loss, train_acc, val_loss, val_acc))\n",
        "  train_losses.append(train_loss)\n",
        "  train_accs.append(train_acc)\n",
        "  val_losses.append(val_loss)\n",
        "  val_accs.append(val_acc)"
      ],
      "execution_count": 50,
      "outputs": [
        {
          "output_type": "stream",
          "text": [
            "EPOCH  1 | train_loss: 0.581, acc: 0.802 | val_loss: 0.383, acc: 0.974\n",
            "EPOCH  2 | train_loss: 0.357, acc: 0.970 | val_loss: 0.340, acc: 0.978\n",
            "EPOCH  3 | train_loss: 0.341, acc: 0.976 | val_loss: 0.339, acc: 0.981\n",
            "EPOCH  4 | train_loss: 0.336, acc: 0.979 | val_loss: 0.335, acc: 0.980\n",
            "EPOCH  5 | train_loss: 0.333, acc: 0.982 | val_loss: 0.336, acc: 0.977\n",
            "EPOCH  6 | train_loss: 0.331, acc: 0.984 | val_loss: 0.339, acc: 0.971\n",
            "EPOCH  7 | train_loss: 0.329, acc: 0.986 | val_loss: 0.338, acc: 0.971\n",
            "EPOCH  8 | train_loss: 0.328, acc: 0.987 | val_loss: 0.338, acc: 0.975\n",
            "EPOCH  9 | train_loss: 0.327, acc: 0.987 | val_loss: 0.339, acc: 0.969\n",
            "EPOCH 10 | train_loss: 0.326, acc: 0.988 | val_loss: 0.341, acc: 0.971\n"
          ],
          "name": "stdout"
        }
      ]
    },
    {
      "cell_type": "code",
      "metadata": {
        "id": "LC41hTXO5IKG",
        "colab": {
          "base_uri": "https://localhost:8080/",
          "height": 308
        },
        "outputId": "09d5b921-4b2c-4e60-e02e-9478526cf79c"
      },
      "source": [
        "training_lossplots(\"Text Attack\", train_losses, train_accs, val_losses, val_accs)"
      ],
      "execution_count": 51,
      "outputs": [
        {
          "output_type": "display_data",
          "data": {
            "image/png": "[encoded data removed]",
            "text/plain": [
              "<Figure size 432x288 with 2 Axes>"
            ]
          },
          "metadata": {
            "tags": [],
            "needs_background": "light"
          }
        }
      ]
    },
    {
      "cell_type": "code",
      "metadata": {
        "id": "DCJr9gs85N_k",
        "colab": {
          "base_uri": "https://localhost:8080/"
        },
        "outputId": "df49c574-2b58-4366-c203-bb11bcbe0281"
      },
      "source": [
        "predictions, labels = predict(test_dl, clf)\n",
        "\n",
        "accuracy = accuracy_score(predictions, labels)\n",
        "ACCURACY_STATS.append((6, \"text_attack\", accuracy))\n",
        "\n",
        "print(\"accuracy: {:.3f}\".format(accuracy))\n",
        "print(\"confusion matrix\")\n",
        "print(confusion_matrix(predictions, labels))"
      ],
      "execution_count": 52,
      "outputs": [
        {
          "output_type": "stream",
          "text": [
            "accuracy: 0.969\n",
            "confusion matrix\n",
            "[[475   4]\n",
            " [ 13  65]]\n"
          ],
          "name": "stdout"
        }
      ]
    },
    {
      "cell_type": "markdown",
      "metadata": {
        "id": "otEPj_QO5bTP"
      },
      "source": [
        "### Results"
      ]
    },
    {
      "cell_type": "code",
      "metadata": {
        "colab": {
          "base_uri": "https://localhost:8080/",
          "height": 339
        },
        "id": "Idiihxkg5aAp",
        "outputId": "88b301f6-c736-410c-9ae9-c3c2f76a6d3f"
      },
      "source": [
        "accuracy_stats = sorted(ACCURACY_STATS, key=operator.itemgetter(0))\n",
        "xs = [x[1] for x in accuracy_stats]\n",
        "ys = [x[2] for x in accuracy_stats]\n",
        "\n",
        "plt.bar(np.arange(len(xs)), ys)\n",
        "plt.axhline(y=ys[0], color=\"r\", linestyle=\"--\", linewidth=1.5)\n",
        "plt.ylabel(\"accuracy\")\n",
        "plt.xticks(np.arange(len(xs)), xs, rotation=\"90\")\n",
        "plt.ylim([0.95, 1.0])\n",
        "\n",
        "_ = plt.show()"
      ],
      "execution_count": 53,
      "outputs": [
        {
          "output_type": "display_data",
          "data": {
            "image/png": "[encoded data removed]",
            "text/plain": [
              "<Figure size 432x288 with 1 Axes>"
            ]
          },
          "metadata": {
            "tags": [],
            "needs_background": "light"
          }
        }
      ]
    },
    {
      "cell_type": "code",
      "metadata": {
        "colab": {
          "base_uri": "https://localhost:8080/",
          "height": 235
        },
        "id": "-QQpYAT75f2y",
        "outputId": "af2daec3-57f9-4fa7-c98c-12ce6ec3d3b3"
      },
      "source": [
        "result_df = pd.DataFrame(ACCURACY_STATS, columns=[\"expt_num\", \"expt_name\", \"accuracy\"])\n",
        "result_df.head(len(result_df))"
      ],
      "execution_count": 54,
      "outputs": [
        {
          "output_type": "execute_result",
          "data": {
            "text/html": [
              "<div>\n",
              "<style scoped>\n",
              "    .dataframe tbody tr th:only-of-type {\n",
              "        vertical-align: middle;\n",
              "    }\n",
              "\n",
              "    .dataframe tbody tr th {\n",
              "        vertical-align: top;\n",
              "    }\n",
              "\n",
              "    .dataframe thead th {\n",
              "        text-align: right;\n",
              "    }\n",
              "</style>\n",
              "<table border=\"1\" class=\"dataframe\">\n",
              "  <thead>\n",
              "    <tr style=\"text-align: right;\">\n",
              "      <th></th>\n",
              "      <th>expt_num</th>\n",
              "      <th>expt_name</th>\n",
              "      <th>accuracy</th>\n",
              "    </tr>\n",
              "  </thead>\n",
              "  <tbody>\n",
              "    <tr>\n",
              "      <th>0</th>\n",
              "      <td>1</td>\n",
              "      <td>baseline</td>\n",
              "      <td>0.976661</td>\n",
              "    </tr>\n",
              "    <tr>\n",
              "      <th>1</th>\n",
              "      <td>2</td>\n",
              "      <td>class_weights</td>\n",
              "      <td>0.976661</td>\n",
              "    </tr>\n",
              "    <tr>\n",
              "      <th>2</th>\n",
              "      <td>3</td>\n",
              "      <td>under_sampling</td>\n",
              "      <td>0.978456</td>\n",
              "    </tr>\n",
              "    <tr>\n",
              "      <th>3</th>\n",
              "      <td>4</td>\n",
              "      <td>over_sampling</td>\n",
              "      <td>0.976661</td>\n",
              "    </tr>\n",
              "    <tr>\n",
              "      <th>4</th>\n",
              "      <td>5</td>\n",
              "      <td>SMOTE</td>\n",
              "      <td>0.978456</td>\n",
              "    </tr>\n",
              "    <tr>\n",
              "      <th>5</th>\n",
              "      <td>6</td>\n",
              "      <td>text_attack</td>\n",
              "      <td>0.969479</td>\n",
              "    </tr>\n",
              "  </tbody>\n",
              "</table>\n",
              "</div>"
            ],
            "text/plain": [
              "   expt_num       expt_name  accuracy\n",
              "0         1        baseline  0.976661\n",
              "1         2   class_weights  0.976661\n",
              "2         3  under_sampling  0.978456\n",
              "3         4   over_sampling  0.976661\n",
              "4         5           SMOTE  0.978456\n",
              "5         6     text_attack  0.969479"
            ]
          },
          "metadata": {
            "tags": []
          },
          "execution_count": 54
        }
      ]
    },
    {
      "cell_type": "code",
      "metadata": {
        "id": "bXaw2dGSPBVT"
      },
      "source": [
        ""
      ],
      "execution_count": 54,
      "outputs": []
    }
  ]
}